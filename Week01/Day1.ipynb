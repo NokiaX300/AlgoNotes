{
 "cells": [
  {
   "attachments": {},
   "cell_type": "markdown",
   "metadata": {},
   "source": [
    "单行注释为“#”，多行为“三个引号”"
   ]
  },
  {
   "cell_type": "code",
   "execution_count": 2,
   "metadata": {},
   "outputs": [
    {
     "data": {
      "text/plain": [
       "1"
      ]
     },
     "execution_count": 2,
     "metadata": {},
     "output_type": "execute_result"
    }
   ],
   "source": [
    "'''\n",
    "我是注释\n",
    "我是注释我是注释\n",
    "'''\n",
    "1.01 ** 365 # 我是注释\n",
    "10 % 3\n",
    "10 // 3"
   ]
  },
  {
   "cell_type": "code",
   "execution_count": 4,
   "metadata": {},
   "outputs": [
    {
     "data": {
      "text/plain": [
       "bool"
      ]
     },
     "execution_count": 4,
     "metadata": {},
     "output_type": "execute_result"
    }
   ],
   "source": [
    "age = 18\n",
    "type(age)\n",
    "gender = True\n",
    "type(gender)"
   ]
  },
  {
   "attachments": {},
   "cell_type": "markdown",
   "metadata": {},
   "source": [
    "input读取的都是str"
   ]
  },
  {
   "cell_type": "code",
   "execution_count": 5,
   "metadata": {},
   "outputs": [
    {
     "name": "stdout",
     "output_type": "stream",
     "text": [
      "36.0\n"
     ]
    }
   ],
   "source": [
    "dj_str = input(\"单价\")\n",
    "sl_str = input(\"数量\")\n",
    "dj=float(dj_str)\n",
    "sl=float(sl_str)\n",
    "price = dj * sl\n",
    "print(price)"
   ]
  },
  {
   "cell_type": "code",
   "execution_count": 6,
   "metadata": {},
   "outputs": [
    {
     "name": "stdout",
     "output_type": "stream",
     "text": [
      "48.0\n"
     ]
    }
   ],
   "source": [
    "dj=float(input(\"单价\"))\n",
    "sl=float(input(\"数量\"))\n",
    "price = dj * sl\n",
    "print(price)"
   ]
  },
  {
   "cell_type": "code",
   "execution_count": 7,
   "metadata": {},
   "outputs": [
    {
     "name": "stdout",
     "output_type": "stream",
     "text": [
      "Hello, Ming. You are 23.\n"
     ]
    }
   ],
   "source": [
    "name = 'Ming'\n",
    "age = 23\n",
    "print('Hello, {}. You are {}.'.format(name, age))"
   ]
  },
  {
   "cell_type": "code",
   "execution_count": 8,
   "metadata": {},
   "outputs": [
    {
     "name": "stdout",
     "output_type": "stream",
     "text": [
      "Hello, Ming. You are 23.\n"
     ]
    }
   ],
   "source": [
    "name = 'Ming'\n",
    "age = 23\n",
    "print('Hello, {1}. You are {0}.'.format(age, name))"
   ]
  },
  {
   "cell_type": "code",
   "execution_count": 9,
   "metadata": {},
   "outputs": [
    {
     "name": "stdout",
     "output_type": "stream",
     "text": [
      "Hello, Ming. You are 23.\n"
     ]
    }
   ],
   "source": [
    "person = {'name': 'Ming', 'age': 23}\n",
    "print('Hello, {name}. You are {age}.'.format(**person))"
   ]
  },
  {
   "attachments": {},
   "cell_type": "markdown",
   "metadata": {},
   "source": [
    "多个单词定义变量用小写字母，下划线连接"
   ]
  },
  {
   "cell_type": "code",
   "execution_count": 10,
   "metadata": {},
   "outputs": [
    {
     "name": "stdout",
     "output_type": "stream",
     "text": [
      "['False', 'None', 'True', 'and', 'as', 'assert', 'async', 'await', 'break', 'class', 'continue', 'def', 'del', 'elif', 'else', 'except', 'finally', 'for', 'from', 'global', 'if', 'import', 'in', 'is', 'lambda', 'nonlocal', 'not', 'or', 'pass', 'raise', 'return', 'try', 'while', 'with', 'yield']\n"
     ]
    }
   ],
   "source": [
    "import keyword\n",
    "print(keyword.kwlist)"
   ]
  },
  {
   "cell_type": "code",
   "execution_count": 11,
   "metadata": {},
   "outputs": [
    {
     "name": "stdout",
     "output_type": "stream",
     "text": [
      "teenager\n"
     ]
    }
   ],
   "source": [
    "age = int(input(\"输入年龄\"))\n",
    "if age >= 18:\n",
    "    print(\"adult\")\n",
    "else:\n",
    "    print(\"teenager\")"
   ]
  },
  {
   "cell_type": "code",
   "execution_count": 12,
   "metadata": {},
   "outputs": [
    {
     "name": "stdout",
     "output_type": "stream",
     "text": [
      "NokiaX300\n"
     ]
    }
   ],
   "source": [
    "day = input(\"节日是：\")\n",
    "if day == \"平安夜\":\n",
    "    print(\"apple\")\n",
    "elif day == \"情人节\":\n",
    "    print(\"flower\")\n",
    "else:\n",
    "    print(\"NokiaX300\")"
   ]
  },
  {
   "cell_type": "code",
   "execution_count": 13,
   "metadata": {},
   "outputs": [
    {
     "name": "stdout",
     "output_type": "stream",
     "text": [
      "打印五遍\n",
      "打印五遍\n",
      "打印五遍\n",
      "打印五遍\n",
      "打印五遍\n"
     ]
    }
   ],
   "source": [
    "i = 1\n",
    "while i <= 5:\n",
    "    print(\"打印五遍\")\n",
    "    i = i + 1"
   ]
  },
  {
   "cell_type": "code",
   "execution_count": 14,
   "metadata": {},
   "outputs": [
    {
     "name": "stdout",
     "output_type": "stream",
     "text": [
      "0到100求和为: 5050\n"
     ]
    }
   ],
   "source": [
    "i = 0\n",
    "s = 0\n",
    "while i <= 100:\n",
    "    s += i\n",
    "    i += 1\n",
    "print(\"0到100求和为: %d\" %s)"
   ]
  },
  {
   "attachments": {},
   "cell_type": "markdown",
   "metadata": {},
   "source": [
    "if情况有相同的要提出来"
   ]
  },
  {
   "cell_type": "code",
   "execution_count": 15,
   "metadata": {},
   "outputs": [
    {
     "name": "stdout",
     "output_type": "stream",
     "text": [
      "0到100的偶数求和为: 2550\n"
     ]
    }
   ],
   "source": [
    "i = 0\n",
    "s = 0\n",
    "while i <= 100:\n",
    "    if i % 2 == 0:\n",
    "        s += i\n",
    "    i += 1\n",
    "print(\"0到100的偶数求和为: %d\" %s)"
   ]
  },
  {
   "attachments": {},
   "cell_type": "markdown",
   "metadata": {},
   "source": [
    "先循环行，每行再单独循环列"
   ]
  },
  {
   "cell_type": "code",
   "execution_count": 16,
   "metadata": {},
   "outputs": [
    {
     "name": "stdout",
     "output_type": "stream",
     "text": [
      "~*\n",
      "~~*\n",
      "~~~*\n",
      "~~~~*\n",
      "~~~~~*\n",
      "~~~~~~*\n",
      "~~~~~~~*\n",
      "~~~~~~~~*\n",
      "~~~~~~~~~*\n"
     ]
    }
   ],
   "source": [
    "i = 1\n",
    "while i <= 9:\n",
    "    j = 1\n",
    "    while j <= i:\n",
    "        print(\"~\", end=\"\")\n",
    "        j += 1\n",
    "    i += 1\n",
    "    print(\"*\")"
   ]
  },
  {
   "cell_type": "code",
   "execution_count": 17,
   "metadata": {},
   "outputs": [],
   "source": [
    "def multiple_table():\n",
    "    \"\"\"九九乘法表\"\"\"\n",
    "    \n",
    "    i = 1\n",
    "    while i <= 9:\n",
    "        j = 1\n",
    "        while j <= i:\n",
    "            print(\"%d * %d = %d \\t\" %(j, i, i*j), end=\"\")\n",
    "            j += 1\n",
    "        i += 1\n",
    "        print(\"\")"
   ]
  },
  {
   "cell_type": "code",
   "execution_count": 18,
   "metadata": {},
   "outputs": [
    {
     "name": "stdout",
     "output_type": "stream",
     "text": [
      "1 * 1 = 1 \t\n",
      "1 * 2 = 2 \t2 * 2 = 4 \t\n",
      "1 * 3 = 3 \t2 * 3 = 6 \t3 * 3 = 9 \t\n",
      "1 * 4 = 4 \t2 * 4 = 8 \t3 * 4 = 12 \t4 * 4 = 16 \t\n",
      "1 * 5 = 5 \t2 * 5 = 10 \t3 * 5 = 15 \t4 * 5 = 20 \t5 * 5 = 25 \t\n",
      "1 * 6 = 6 \t2 * 6 = 12 \t3 * 6 = 18 \t4 * 6 = 24 \t5 * 6 = 30 \t6 * 6 = 36 \t\n",
      "1 * 7 = 7 \t2 * 7 = 14 \t3 * 7 = 21 \t4 * 7 = 28 \t5 * 7 = 35 \t6 * 7 = 42 \t7 * 7 = 49 \t\n",
      "1 * 8 = 8 \t2 * 8 = 16 \t3 * 8 = 24 \t4 * 8 = 32 \t5 * 8 = 40 \t6 * 8 = 48 \t7 * 8 = 56 \t8 * 8 = 64 \t\n",
      "1 * 9 = 9 \t2 * 9 = 18 \t3 * 9 = 27 \t4 * 9 = 36 \t5 * 9 = 45 \t6 * 9 = 54 \t7 * 9 = 63 \t8 * 9 = 72 \t9 * 9 = 81 \t\n"
     ]
    }
   ],
   "source": [
    "multiple_table()"
   ]
  },
  {
   "cell_type": "code",
   "execution_count": 19,
   "metadata": {},
   "outputs": [],
   "source": [
    "def calc(numbers):\n",
    "    sum = 0\n",
    "    for n in numbers:\n",
    "        sum += n*n\n",
    "    return sum"
   ]
  },
  {
   "cell_type": "code",
   "execution_count": 20,
   "metadata": {},
   "outputs": [
    {
     "name": "stdout",
     "output_type": "stream",
     "text": [
      "30\n",
      "30\n"
     ]
    }
   ],
   "source": [
    "print(calc((2, 4, 1, 3)))\n",
    "print(calc([2, 4, 1, 3]))"
   ]
  },
  {
   "cell_type": "code",
   "execution_count": 21,
   "metadata": {},
   "outputs": [],
   "source": [
    "def calc(*numbers):\n",
    "    sum = 0\n",
    "    for n in numbers:\n",
    "        sum += n*n\n",
    "    return sum"
   ]
  },
  {
   "cell_type": "code",
   "execution_count": 22,
   "metadata": {},
   "outputs": [
    {
     "name": "stdout",
     "output_type": "stream",
     "text": [
      "30\n",
      "30\n"
     ]
    }
   ],
   "source": [
    "print(calc(2, 4, 1, 3))\n",
    "print(calc(2, 4, 1, 3))"
   ]
  },
  {
   "attachments": {},
   "cell_type": "markdown",
   "metadata": {},
   "source": [
    "对于任意函数，不管其参数如何定义，都可以通过类似 func(*args, **kw) 的形式调用它"
   ]
  },
  {
   "cell_type": "code",
   "execution_count": 23,
   "metadata": {},
   "outputs": [
    {
     "name": "stdout",
     "output_type": "stream",
     "text": [
      "a = 11, b = 22, c = 33, d: 44, kw: {'x': '##'}\n"
     ]
    }
   ],
   "source": [
    "def f2(a, b, c=0, *, d, **kw):\n",
    "    print(f'a = {a}, b = {b}, c = {c}, d: {d}, kw: {kw}')\n",
    "    \n",
    "args = (11, 22, 33)\n",
    "kw = {'d': 44, 'x': '##'}\n",
    "f2(*args, **kw)"
   ]
  },
  {
   "cell_type": "code",
   "execution_count": 24,
   "metadata": {},
   "outputs": [
    {
     "name": "stdout",
     "output_type": "stream",
     "text": [
      "[1, 3, 5, 7, 9, 11, 13, 15, 17, 19]\n"
     ]
    }
   ],
   "source": [
    "L = []\n",
    "n = 1\n",
    "while n < 20:\n",
    "    L.append(n)\n",
    "    n += 2\n",
    "print(L)"
   ]
  },
  {
   "cell_type": "code",
   "execution_count": 3,
   "metadata": {},
   "outputs": [
    {
     "name": "stdout",
     "output_type": "stream",
     "text": [
      "1 2 3 4 5 6 7 8 9 \n",
      "0 1 2 3 4 5 6 7 8 9 \n",
      "\n",
      "0 1 2 3 4 5 6 7 8 9 "
     ]
    }
   ],
   "source": [
    "for i in range(1, 10):\n",
    "    print(i, end = \" \")\n",
    "print(end = \"\\n\")\n",
    "for j in range(10):\n",
    "    print(j, end = \" \")\n",
    "print(\"\\n\")\n",
    "for j in range(10):\n",
    "    print(j, end = \" \")"
   ]
  },
  {
   "cell_type": "code",
   "execution_count": 26,
   "metadata": {},
   "outputs": [
    {
     "name": "stdout",
     "output_type": "stream",
     "text": [
      "[4, 16, 36, 64, 100]\n",
      "['AX', 'AY', 'AZ', 'BX', 'BY', 'BZ', 'CX', 'CY', 'CZ']\n"
     ]
    }
   ],
   "source": [
    "L = [x * x for x in range(1, 11) if x % 2 == 0]\n",
    "print(L)\n",
    "L = [m + n for m in 'ABC' for n in 'XYZ']\n",
    "print(L)"
   ]
  }
 ],
 "metadata": {
  "kernelspec": {
   "display_name": "base",
   "language": "python",
   "name": "python3"
  },
  "language_info": {
   "codemirror_mode": {
    "name": "ipython",
    "version": 3
   },
   "file_extension": ".py",
   "mimetype": "text/x-python",
   "name": "python",
   "nbconvert_exporter": "python",
   "pygments_lexer": "ipython3",
   "version": "3.11.5"
  },
  "orig_nbformat": 4
 },
 "nbformat": 4,
 "nbformat_minor": 2
}
