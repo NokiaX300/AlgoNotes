{
 "cells": [
  {
   "cell_type": "code",
   "execution_count": 1,
   "metadata": {},
   "outputs": [
    {
     "name": "stdout",
     "output_type": "stream",
     "text": [
      "2 3 5 7 11 13 17 19 23 29 31 37 41 43 47 53 59 61 67 71 73 79 83 89 97 "
     ]
    }
   ],
   "source": [
    "#打印100以内质数\n",
    "for n in range(2, 100):\n",
    "    for x in range(2, n):\n",
    "        if n % x == 0:\n",
    "            break\n",
    "    else:\n",
    "        print(n, end=' ')"
   ]
  },
  {
   "cell_type": "code",
   "execution_count": 3,
   "metadata": {},
   "outputs": [],
   "source": [
    "def summ(a, b):\n",
    "    print(a + b)"
   ]
  },
  {
   "cell_type": "code",
   "execution_count": 4,
   "metadata": {},
   "outputs": [
    {
     "name": "stdout",
     "output_type": "stream",
     "text": [
      "5\n"
     ]
    }
   ],
   "source": [
    "summ(2, 3)"
   ]
  },
  {
   "cell_type": "code",
   "execution_count": 5,
   "metadata": {},
   "outputs": [
    {
     "name": "stdout",
     "output_type": "stream",
     "text": [
      "N\n",
      "NokiaX30\n",
      "kiaX300\n",
      "kiaX\n"
     ]
    }
   ],
   "source": [
    "str = \"NokiaX300\"\n",
    "print(str[0])\n",
    "print(str[0:-1])\n",
    "print(str[2:])\n",
    "print(str[2:6])"
   ]
  },
  {
   "cell_type": "code",
   "execution_count": 6,
   "metadata": {},
   "outputs": [
    {
     "name": "stdout",
     "output_type": "stream",
     "text": [
      "-1\n"
     ]
    },
    {
     "ename": "ValueError",
     "evalue": "substring not found",
     "output_type": "error",
     "traceback": [
      "\u001b[1;31m---------------------------------------------------------------------------\u001b[0m",
      "\u001b[1;31mValueError\u001b[0m                                Traceback (most recent call last)",
      "Cell \u001b[1;32mIn[6], line 2\u001b[0m\n\u001b[0;32m      1\u001b[0m \u001b[39mprint\u001b[39m(\u001b[39mstr\u001b[39m\u001b[39m.\u001b[39mfind(\u001b[39m\"\u001b[39m\u001b[39md\u001b[39m\u001b[39m\"\u001b[39m))\n\u001b[1;32m----> 2\u001b[0m \u001b[39mprint\u001b[39m(\u001b[39mstr\u001b[39;49m\u001b[39m.\u001b[39;49mindex(\u001b[39m\"\u001b[39;49m\u001b[39md\u001b[39;49m\u001b[39m\"\u001b[39;49m))\n\u001b[0;32m      3\u001b[0m \u001b[39mprint\u001b[39m(\u001b[39mstr\u001b[39m\u001b[39m.\u001b[39mfind(\u001b[39m\"\u001b[39m\u001b[39mA\u001b[39m\u001b[39m\"\u001b[39m))\n\u001b[0;32m      4\u001b[0m \u001b[39mprint\u001b[39m(\u001b[39mstr\u001b[39m\u001b[39m.\u001b[39mindex(\u001b[39m\"\u001b[39m\u001b[39ms\u001b[39m\u001b[39m\"\u001b[39m))\n",
      "\u001b[1;31mValueError\u001b[0m: substring not found"
     ]
    }
   ],
   "source": [
    "print(str.find(\"d\"))\n",
    "print(str.index(\"d\"))\n",
    "print(str.find(\"A\"))\n",
    "print(str.index(\"s\"))"
   ]
  },
  {
   "cell_type": "code",
   "execution_count": 7,
   "metadata": {},
   "outputs": [
    {
     "name": "stdout",
     "output_type": "stream",
     "text": [
      "shu\n",
      "['wang', 'zhang', 'ju']\n",
      "['zhang', 'ju']\n"
     ]
    }
   ],
   "source": [
    "name_list = [\"wang\", \"zhang\", \"ju\", \"shu\"]\n",
    "print(name_list[3])\n",
    "print(name_list[0:3])\n",
    "print(name_list[1:-1])"
   ]
  },
  {
   "cell_type": "code",
   "execution_count": 8,
   "metadata": {},
   "outputs": [
    {
     "name": "stdout",
     "output_type": "stream",
     "text": [
      "2\n"
     ]
    }
   ],
   "source": [
    "print(name_list.index(\"ju\"))"
   ]
  },
  {
   "cell_type": "code",
   "execution_count": 9,
   "metadata": {},
   "outputs": [
    {
     "name": "stdout",
     "output_type": "stream",
     "text": [
      "['wang', 'zhang', 'ju']\n"
     ]
    }
   ],
   "source": [
    "name_list.pop()\n",
    "print(name_list)"
   ]
  },
  {
   "cell_type": "code",
   "execution_count": 10,
   "metadata": {},
   "outputs": [
    {
     "name": "stdout",
     "output_type": "stream",
     "text": [
      "wang\n",
      "zhang\n",
      "ju\n"
     ]
    }
   ],
   "source": [
    "for x in name_list:\n",
    "    print(x)"
   ]
  },
  {
   "cell_type": "code",
   "execution_count": 11,
   "metadata": {},
   "outputs": [
    {
     "name": "stdout",
     "output_type": "stream",
     "text": [
      "我是谁, 身高12.50kg, 体重3cm\n"
     ]
    }
   ],
   "source": [
    "info_tuple = (\"谁\", 12.5, 3)\n",
    "print(\"我是%s, 身高%.2fkg, 体重%dcm\"% info_tuple)"
   ]
  },
  {
   "attachments": {},
   "cell_type": "markdown",
   "metadata": {},
   "source": [
    "字典无序，key不存在则添加，存在则替换"
   ]
  },
  {
   "cell_type": "code",
   "execution_count": 12,
   "metadata": {},
   "outputs": [
    {
     "name": "stdout",
     "output_type": "stream",
     "text": [
      "{'name': 'wang', 'height': 188, 'gender': True, 'money': 1.8}\n"
     ]
    }
   ],
   "source": [
    "info_dict = {\"name\":\"wang\",\n",
    "             \"height\":188,\n",
    "             \"gender\":True,\n",
    "             \"money\":1.8}\n",
    "print(info_dict)"
   ]
  },
  {
   "cell_type": "code",
   "execution_count": 13,
   "metadata": {},
   "outputs": [
    {
     "name": "stdout",
     "output_type": "stream",
     "text": [
      "{'height': 188, 'gender': True, 'money': 1.8, 'love': 'cat'}\n"
     ]
    }
   ],
   "source": [
    "info_dict[\"love\"] = \"cat\"\n",
    "info_dict.pop(\"name\")\n",
    "print(info_dict)"
   ]
  },
  {
   "cell_type": "code",
   "execution_count": 14,
   "metadata": {},
   "outputs": [
    {
     "name": "stdout",
     "output_type": "stream",
     "text": [
      "4\n"
     ]
    }
   ],
   "source": [
    "print(len(info_dict))"
   ]
  },
  {
   "cell_type": "code",
   "execution_count": 15,
   "metadata": {},
   "outputs": [
    {
     "name": "stdout",
     "output_type": "stream",
     "text": [
      "{'height': 188, 'gender': True, 'money': 1.8, 'love': 'cat', 'friend': False}\n"
     ]
    }
   ],
   "source": [
    "temp_dict = {\"friend\":False}\n",
    "info_dict.update(temp_dict)\n",
    "print(info_dict)"
   ]
  },
  {
   "cell_type": "code",
   "execution_count": 16,
   "metadata": {},
   "outputs": [
    {
     "name": "stdout",
     "output_type": "stream",
     "text": [
      "height - 188\n",
      "gender - True\n",
      "money - 1.8\n",
      "love - cat\n",
      "friend - False\n"
     ]
    }
   ],
   "source": [
    "for k in info_dict:\n",
    "    print(\"%s - %s\"%(k, info_dict[k]))"
   ]
  },
  {
   "cell_type": "code",
   "execution_count": 17,
   "metadata": {},
   "outputs": [
    {
     "name": "stdout",
     "output_type": "stream",
     "text": [
      "aaa\n",
      "5\n",
      "1.4\n"
     ]
    }
   ],
   "source": [
    "test1_tuple = (\"aaa\", 5, 1.4)\n",
    "for w in test1_tuple:\n",
    "    print(w)"
   ]
  },
  {
   "cell_type": "code",
   "execution_count": 18,
   "metadata": {},
   "outputs": [
    {
     "data": {
      "text/plain": [
       "{3: 9, 4: 16, 6: 36}"
      ]
     },
     "execution_count": 18,
     "metadata": {},
     "output_type": "execute_result"
    }
   ],
   "source": [
    "#字典\n",
    "dic = {x: x**2 for x in (3, 4, 6)}\n",
    "dic"
   ]
  },
  {
   "cell_type": "code",
   "execution_count": 19,
   "metadata": {},
   "outputs": [
    {
     "data": {
      "text/plain": [
       "{'f', 'k', 'w'}"
      ]
     },
     "execution_count": 19,
     "metadata": {},
     "output_type": "execute_result"
    }
   ],
   "source": [
    "#集合\n",
    "se = {c for c in \"jakbkfbakjwf\" if c not in \"abj\"}\n",
    "se"
   ]
  },
  {
   "cell_type": "code",
   "execution_count": 29,
   "metadata": {},
   "outputs": [
    {
     "name": "stdout",
     "output_type": "stream",
     "text": [
      "<class 'int'> 3\n",
      "<class 'tuple'> (3,)\n"
     ]
    }
   ],
   "source": [
    "#元组\n",
    "tu = (b for b in range(1, 10))\n",
    "list(tu) #元组推导式返回的结果是一个生成器对象\n",
    "\n",
    "a = (3)\n",
    "print(type(a), a)\n",
    "b = (3, )\n",
    "print(type(b), b)"
   ]
  },
  {
   "cell_type": "code",
   "execution_count": 22,
   "metadata": {},
   "outputs": [
    {
     "name": "stdout",
     "output_type": "stream",
     "text": [
      "['cd', 'de']\n"
     ]
    }
   ],
   "source": [
    "#列表\n",
    "a_list = [\"ab\", \"bc\", \"cd\", \"de\", \"ef\", \"fg\"]\n",
    "print(a_list[2:4])"
   ]
  },
  {
   "cell_type": "code",
   "execution_count": 23,
   "metadata": {},
   "outputs": [
    {
     "data": {
      "text/plain": [
       "['ab', 'bc', 'cd', 'de', 'ef', 'fg', 'gh']"
      ]
     },
     "execution_count": 23,
     "metadata": {},
     "output_type": "execute_result"
    }
   ],
   "source": [
    "a_list.append(\"gh\")\n",
    "a_list"
   ]
  },
  {
   "cell_type": "code",
   "execution_count": 24,
   "metadata": {},
   "outputs": [
    {
     "data": {
      "text/plain": [
       "['ab', 'cd', 'de', 'hi', 'ef', 'fg']"
      ]
     },
     "execution_count": 24,
     "metadata": {},
     "output_type": "execute_result"
    }
   ],
   "source": [
    "a_list.remove(\"gh\")\n",
    "del a_list[1]\n",
    "a_list.insert(3, \"hi\")\n",
    "a_list"
   ]
  },
  {
   "cell_type": "code",
   "execution_count": 25,
   "metadata": {},
   "outputs": [
    {
     "data": {
      "text/plain": [
       "['hi', 'fg', 'ef', 'de', 'cd', 'ab', 'i', 'j']"
      ]
     },
     "execution_count": 25,
     "metadata": {},
     "output_type": "execute_result"
    }
   ],
   "source": [
    "a_list.sort(reverse = True)\n",
    "a_list.extend(\"ij\")\n",
    "a_list"
   ]
  },
  {
   "cell_type": "code",
   "execution_count": 26,
   "metadata": {},
   "outputs": [
    {
     "name": "stdout",
     "output_type": "stream",
     "text": [
      "[1, 2, 3, 4, [5, 6]]\n"
     ]
    }
   ],
   "source": [
    "b_list = [1, 2, 3, 4]\n",
    "b_list.append([5, 6]) #附加\n",
    "print(b_list)"
   ]
  },
  {
   "cell_type": "code",
   "execution_count": 27,
   "metadata": {},
   "outputs": [
    {
     "name": "stdout",
     "output_type": "stream",
     "text": [
      "[1, 2, 3, 4, 5, 6]\n"
     ]
    }
   ],
   "source": [
    "b_list = [1, 2, 3, 4]\n",
    "b_list.extend([5, 6]) #延展\n",
    "print(b_list)"
   ]
  },
  {
   "attachments": {},
   "cell_type": "markdown",
   "metadata": {},
   "source": [
    "字符串（特殊的元组）不可赋值"
   ]
  },
  {
   "cell_type": "code",
   "execution_count": 28,
   "metadata": {},
   "outputs": [
    {
     "name": "stdout",
     "output_type": "stream",
     "text": [
      "psicoke: psicoke \n",
      " esck: esck \n",
      " 逆序: ekocispep\n"
     ]
    }
   ],
   "source": [
    "coke_str = \"pepsicoke\"\n",
    "print(\"psicoke:\", coke_str[2:],\n",
    "     \"\\n esck:\", coke_str[1::2],\n",
    "     \"\\n 逆序:\", coke_str[-1::-1])"
   ]
  },
  {
   "attachments": {},
   "cell_type": "markdown",
   "metadata": {},
   "source": [
    "键必须不可变，所以可以用数字，字符串或元组充当，而用列表就不行"
   ]
  },
  {
   "cell_type": "code",
   "execution_count": 30,
   "metadata": {},
   "outputs": [
    {
     "name": "stdout",
     "output_type": "stream",
     "text": [
      "{1, 2, 3, 4, 5, 'buhi', 'ahic', 'cboi', 'abjb'} 9\n"
     ]
    }
   ],
   "source": [
    "a_set = set((\"abjb\", \"buhi\", \"ahic\"))\n",
    "a_set.add(\"cboi\")\n",
    "a_set.update({2, 4})\n",
    "a_set.update([1, 3], [5])\n",
    "print(a_set, len(a_set))"
   ]
  }
 ],
 "metadata": {
  "kernelspec": {
   "display_name": "base",
   "language": "python",
   "name": "python3"
  },
  "language_info": {
   "codemirror_mode": {
    "name": "ipython",
    "version": 3
   },
   "file_extension": ".py",
   "mimetype": "text/x-python",
   "name": "python",
   "nbconvert_exporter": "python",
   "pygments_lexer": "ipython3",
   "version": "3.11.3"
  },
  "orig_nbformat": 4
 },
 "nbformat": 4,
 "nbformat_minor": 2
}
