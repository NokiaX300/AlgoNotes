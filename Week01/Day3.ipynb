{
 "cells": [
  {
   "cell_type": "code",
   "execution_count": 2,
   "metadata": {},
   "outputs": [
    {
     "name": "stdout",
     "output_type": "stream",
     "text": [
      "1 1 2 3 5 8 13 21 34 55 89 "
     ]
    }
   ],
   "source": [
    "# fibonacci sequence\n",
    "a = 0\n",
    "b = 1\n",
    "while b < 100:\n",
    "    print(b, end = \" \")\n",
    "    c = a+b\n",
    "    a = b\n",
    "    b = c"
   ]
  },
  {
   "cell_type": "code",
   "execution_count": 3,
   "metadata": {},
   "outputs": [
    {
     "name": "stdout",
     "output_type": "stream",
     "text": [
      "1 1 2 3 5 8 13 21 34 55 89 "
     ]
    }
   ],
   "source": [
    "# 优化\n",
    "a = 0\n",
    "b = 1\n",
    "while b < 100:\n",
    "    print(b, end=\" \")\n",
    "    a, b = b, a + b # 先计算右边表达式，然后同时赋值给左边"
   ]
  },
  {
   "cell_type": "code",
   "execution_count": 4,
   "metadata": {},
   "outputs": [
    {
     "name": "stdout",
     "output_type": "stream",
     "text": [
      "3\n",
      "4\n",
      "5\n",
      "6\n",
      "7\n",
      "8\n",
      "9\n",
      "10\n",
      "no\n"
     ]
    }
   ],
   "source": [
    "c = int(input())\n",
    "while c <= 10:\n",
    "    print(c)\n",
    "    c += 1\n",
    "else:\n",
    "    print(\"no\")"
   ]
  },
  {
   "cell_type": "code",
   "execution_count": 5,
   "metadata": {},
   "outputs": [
    {
     "name": "stdout",
     "output_type": "stream",
     "text": [
      "5\n",
      "4\n",
      "3\n"
     ]
    }
   ],
   "source": [
    "n = 5\n",
    "while n >= 0:\n",
    "    print(n)\n",
    "    n -= 1\n",
    "    if n == 2:\n",
    "        break"
   ]
  },
  {
   "cell_type": "code",
   "execution_count": 6,
   "metadata": {},
   "outputs": [
    {
     "name": "stdout",
     "output_type": "stream",
     "text": [
      "4\n",
      "3\n",
      "1\n",
      "0\n",
      "-1\n"
     ]
    }
   ],
   "source": [
    "n = 5\n",
    "while n >= 0:\n",
    "    n -= 1\n",
    "    if n == 2:\n",
    "        continue\n",
    "    print(n)"
   ]
  },
  {
   "cell_type": "code",
   "execution_count": 7,
   "metadata": {},
   "outputs": [
    {
     "name": "stdout",
     "output_type": "stream",
     "text": [
      "k\n",
      "c\n",
      "s\n",
      "pass\n",
      "z\n",
      "n\n",
      "pass\n",
      "z\n",
      "c\n",
      "n\n",
      "pass\n",
      "z\n",
      "pass\n",
      "z\n",
      "o\n",
      "o\n",
      "o\n"
     ]
    }
   ],
   "source": [
    "for x in \"kcsznzcnzzooo\":\n",
    "    if x == \"z\":\n",
    "        pass\n",
    "        print(\"pass\")\n",
    "    print(x)"
   ]
  },
  {
   "attachments": {},
   "cell_type": "markdown",
   "metadata": {},
   "source": [
    "公共方法：len del max min 切片（有序）in"
   ]
  },
  {
   "cell_type": "code",
   "execution_count": 8,
   "metadata": {},
   "outputs": [
    {
     "name": "stdout",
     "output_type": "stream",
     "text": [
      "[5, 3, 1]\n"
     ]
    }
   ],
   "source": [
    "a_list = [1, 2, 3, 4, 5]\n",
    "print(a_list[::-2])"
   ]
  },
  {
   "cell_type": "code",
   "execution_count": 9,
   "metadata": {},
   "outputs": [
    {
     "name": "stdout",
     "output_type": "stream",
     "text": [
      "1\n",
      "2\n",
      "3\n",
      "over\n"
     ]
    }
   ],
   "source": [
    "for num in [1, 2, 3, 4]:\n",
    "    print(num)\n",
    "    if num == 3:\n",
    "        break\n",
    "else:\n",
    "    print(\"hi\")\n",
    "print(\"over\")"
   ]
  },
  {
   "cell_type": "code",
   "execution_count": 10,
   "metadata": {},
   "outputs": [
    {
     "name": "stdout",
     "output_type": "stream",
     "text": [
      "{'d', 'c', 'b', 'r', 'a'}\n",
      "{'z', 'c', 'm', 'l', 'a'}\n"
     ]
    }
   ],
   "source": [
    "a = set('abracadabra')\n",
    "b = set('alacazam')\n",
    "print(a)\n",
    "print(b)"
   ]
  },
  {
   "cell_type": "code",
   "execution_count": 11,
   "metadata": {},
   "outputs": [
    {
     "name": "stdout",
     "output_type": "stream",
     "text": [
      "{'b', 'd', 'r'}\n",
      "{'d', 'z', 'c', 'm', 'b', 'r', 'a', 'l'}\n",
      "{'c', 'a'}\n",
      "{'b', 'd', 'z', 'r', 'm', 'l'}\n"
     ]
    }
   ],
   "source": [
    "print(a - b)\n",
    "print(a | b)\n",
    "print(a & b)\n",
    "print(a ^ b)"
   ]
  },
  {
   "cell_type": "code",
   "execution_count": 12,
   "metadata": {},
   "outputs": [
    {
     "name": "stdout",
     "output_type": "stream",
     "text": [
      "you got me\n"
     ]
    }
   ],
   "source": [
    "s = input(\"who?\")\n",
    "name = {\"wang\",\n",
    "       \"ju\",\n",
    "       \"zhang\",\n",
    "       \"shu\"}\n",
    "for x in name:\n",
    "    if x == s:\n",
    "        print(\"you got me\")\n",
    "        break\n",
    "else:\n",
    "        print(\"no one's here\")"
   ]
  },
  {
   "attachments": {},
   "cell_type": "markdown",
   "metadata": {},
   "source": [
    "当*参数出现在函数定义时，表示可变参数\n",
    "\n",
    "当*参数出现在函数调用时，则表示解包功能"
   ]
  },
  {
   "cell_type": "code",
   "execution_count": 13,
   "metadata": {},
   "outputs": [],
   "source": [
    "def xinhao(a, *b):\n",
    "    print(a)\n",
    "    print(b) # *b指向了一个tuple对象"
   ]
  },
  {
   "cell_type": "code",
   "execution_count": 14,
   "metadata": {},
   "outputs": [
    {
     "name": "stdout",
     "output_type": "stream",
     "text": [
      "1\n",
      "(2, 3, 4)\n"
     ]
    }
   ],
   "source": [
    "xinhao(1, 2, 3, 4)"
   ]
  },
  {
   "attachments": {},
   "cell_type": "markdown",
   "metadata": {},
   "source": [
    "return 和 print"
   ]
  },
  {
   "cell_type": "code",
   "execution_count": 15,
   "metadata": {},
   "outputs": [],
   "source": [
    "def a_ret(a, b):\n",
    "    x = a + b\n",
    "    return x"
   ]
  },
  {
   "cell_type": "code",
   "execution_count": 16,
   "metadata": {},
   "outputs": [
    {
     "data": {
      "text/plain": [
       "8"
      ]
     },
     "execution_count": 16,
     "metadata": {},
     "output_type": "execute_result"
    }
   ],
   "source": [
    "a_ret(3, 5)"
   ]
  },
  {
   "cell_type": "code",
   "execution_count": 17,
   "metadata": {},
   "outputs": [],
   "source": [
    "def a_ret(a, b):\n",
    "    x = a + b\n",
    "    print(x)"
   ]
  },
  {
   "cell_type": "code",
   "execution_count": 18,
   "metadata": {},
   "outputs": [
    {
     "name": "stdout",
     "output_type": "stream",
     "text": [
      "8\n"
     ]
    }
   ],
   "source": [
    "a_ret(3, 5)"
   ]
  },
  {
   "cell_type": "code",
   "execution_count": 19,
   "metadata": {},
   "outputs": [],
   "source": [
    "def a_ret(a, b):\n",
    "    x = a + b\n",
    "    print(x)\n",
    "    return x"
   ]
  },
  {
   "cell_type": "code",
   "execution_count": 20,
   "metadata": {},
   "outputs": [
    {
     "name": "stdout",
     "output_type": "stream",
     "text": [
      "8\n"
     ]
    },
    {
     "data": {
      "text/plain": [
       "8"
      ]
     },
     "execution_count": 20,
     "metadata": {},
     "output_type": "execute_result"
    }
   ],
   "source": [
    "a_ret(3, 5)"
   ]
  },
  {
   "cell_type": "code",
   "execution_count": 21,
   "metadata": {},
   "outputs": [
    {
     "name": "stdout",
     "output_type": "stream",
     "text": [
      "(30, 15)\n",
      "30\n",
      "15\n"
     ]
    }
   ],
   "source": [
    "# 利用元组返回两个值\n",
    "def measure():\n",
    "    temp = 30\n",
    "    wet = 15\n",
    "    return temp, wet # 返回元组可以省略小括号\n",
    "a = measure()\n",
    "print(a)\n",
    "print(a[0])\n",
    "print(a[1])"
   ]
  },
  {
   "cell_type": "code",
   "execution_count": 22,
   "metadata": {},
   "outputs": [
    {
     "name": "stdout",
     "output_type": "stream",
     "text": [
      "2 1\n"
     ]
    }
   ],
   "source": [
    "a = 1\n",
    "b = 2\n",
    "a, b = b, a # 其实是元组\n",
    "print(a, b)"
   ]
  },
  {
   "attachments": {},
   "cell_type": "markdown",
   "metadata": {},
   "source": [
    "函数内部不能修改全局变量的值，需要用global声明，但是列表、字典可用方法修改"
   ]
  },
  {
   "cell_type": "code",
   "execution_count": 23,
   "metadata": {},
   "outputs": [
    {
     "name": "stdout",
     "output_type": "stream",
     "text": [
      "inner = 6\n",
      "outer = 3\n"
     ]
    }
   ],
   "source": [
    "def a_num(n):\n",
    "    n += n # +=为先加后等，有赋值作用\n",
    "    print(\"inner = %d\"%n)\n",
    "gl_num = 3\n",
    "a_num(gl_num)\n",
    "print(\"outer = %d\"%gl_num)"
   ]
  },
  {
   "cell_type": "code",
   "execution_count": 24,
   "metadata": {},
   "outputs": [
    {
     "name": "stdout",
     "output_type": "stream",
     "text": [
      "inner = [1, 2, 3, 9]\n",
      "outer = [1, 2, 3, 9]\n"
     ]
    }
   ],
   "source": [
    "def a_list(s):\n",
    "    s.append(9)\n",
    "    print(\"inner = %s\"%s)\n",
    "gl_list = [1, 2, 3]\n",
    "a_list(gl_list)\n",
    "print(\"outer = %s\"%gl_list)"
   ]
  },
  {
   "cell_type": "code",
   "execution_count": 25,
   "metadata": {},
   "outputs": [
    {
     "name": "stdout",
     "output_type": "stream",
     "text": [
      "[1, 4]\n"
     ]
    }
   ],
   "source": [
    "c_list = [1, 2, 3, 4, 5]\n",
    "c_list.pop() # 默认index = -1\n",
    "c_list.pop(-2)\n",
    "c_list.pop(1)\n",
    "print(c_list)"
   ]
  },
  {
   "cell_type": "code",
   "execution_count": 26,
   "metadata": {},
   "outputs": [
    {
     "name": "stdout",
     "output_type": "stream",
     "text": [
      "19\n"
     ]
    }
   ],
   "source": [
    "def sum_nums(*args): # 一个星星接收元组，两个星星接收字典\n",
    "    num = 0\n",
    "    for n in args:\n",
    "        num += n\n",
    "    return num\n",
    "print(sum_nums(1, 2, 4, 5, 7))"
   ]
  },
  {
   "cell_type": "code",
   "execution_count": 27,
   "metadata": {},
   "outputs": [
    {
     "name": "stdout",
     "output_type": "stream",
     "text": [
      "((1, 2, 3), {'w': 4, 'q': 5})\n",
      "{}\n"
     ]
    }
   ],
   "source": [
    "def pick(*args, **kwargs):\n",
    "    print(args)\n",
    "    print(kwargs)\n",
    "gl_tuple = (1, 2, 3)\n",
    "gl_dic = {\"w\": 4, \"q\": 5}\n",
    "pick(gl_tuple, gl_dic) # 注意都赋给了元组，字典为空"
   ]
  }
 ],
 "metadata": {
  "kernelspec": {
   "display_name": "base",
   "language": "python",
   "name": "python3"
  },
  "language_info": {
   "codemirror_mode": {
    "name": "ipython",
    "version": 3
   },
   "file_extension": ".py",
   "mimetype": "text/x-python",
   "name": "python",
   "nbconvert_exporter": "python",
   "pygments_lexer": "ipython3",
   "version": "3.11.3"
  },
  "orig_nbformat": 4
 },
 "nbformat": 4,
 "nbformat_minor": 2
}
