{
 "cells": [
  {
   "cell_type": "code",
   "execution_count": 2,
   "metadata": {},
   "outputs": [
    {
     "name": "stdout",
     "output_type": "stream",
     "text": [
      "(1, 2, 3)\n",
      "{'w': 4, 'q': 5}\n"
     ]
    }
   ],
   "source": [
    "def pick(*args, **kwargs):\n",
    "    print(args)\n",
    "    print(kwargs)\n",
    "gl_tuple = (1, 2, 3)\n",
    "gl_dic = {\"w\": 4, \"q\": 5}\n",
    "pick(*gl_tuple, **gl_dic) # 通过解包分别赋值"
   ]
  },
  {
   "cell_type": "code",
   "execution_count": 3,
   "metadata": {},
   "outputs": [
    {
     "name": "stdout",
     "output_type": "stream",
     "text": [
      "10\n",
      "9\n",
      "8\n",
      "7\n",
      "6\n",
      "5\n",
      "4\n",
      "3\n",
      "2\n",
      "1\n",
      "0\n"
     ]
    }
   ],
   "source": [
    "def digui(num):\n",
    "    print(num)\n",
    "    if num == 0:\n",
    "        return\n",
    "    digui(num -1)\n",
    "digui(10)"
   ]
  },
  {
   "cell_type": "code",
   "execution_count": 4,
   "metadata": {},
   "outputs": [
    {
     "name": "stdout",
     "output_type": "stream",
     "text": [
      "1 2 3 4 "
     ]
    }
   ],
   "source": [
    "list=[1,2,3,4]\n",
    "it = iter(list) # 创建迭代器对象\n",
    "for x in it:\n",
    "    print (x, end=\" \")"
   ]
  },
  {
   "attachments": {},
   "cell_type": "markdown",
   "metadata": {},
   "source": [
    "函数是顺序执行，遇到 return 语句或者最后一行语句就返回\n",
    "\n",
    "变成生成器的函数，在每次调用 next() 时执行，遇到 yield 语句返回，再次执行时从上次返回的 yield 语句处继续执行"
   ]
  },
  {
   "cell_type": "code",
   "execution_count": 5,
   "metadata": {},
   "outputs": [
    {
     "name": "stdout",
     "output_type": "stream",
     "text": [
      "<generator object fibonacci at 0x000001DE40B83E60>\n"
     ]
    }
   ],
   "source": [
    "def fibonacci(n):\n",
    "    a, b, i = 0, 1, 0\n",
    "    while i < n:\n",
    "        yield b\n",
    "        a, b = b, a + b\n",
    "        i += 1\n",
    "f = fibonacci(10) # 生成器也是可迭代对象\n",
    "print(f)"
   ]
  },
  {
   "cell_type": "code",
   "execution_count": 6,
   "metadata": {},
   "outputs": [
    {
     "name": "stdout",
     "output_type": "stream",
     "text": [
      "1 1 2 3 5 8 13 21 34 55 "
     ]
    }
   ],
   "source": [
    "for i in fibonacci(10):\n",
    "    print(i, end = \" \")"
   ]
  },
  {
   "cell_type": "code",
   "execution_count": 7,
   "metadata": {},
   "outputs": [
    {
     "name": "stdout",
     "output_type": "stream",
     "text": [
      "5050\n"
     ]
    }
   ],
   "source": [
    "def summ(num):\n",
    "    if num == 1:\n",
    "        return 1\n",
    "    temp = summ(num-1)\n",
    "    return num + temp\n",
    "print(summ(100))"
   ]
  },
  {
   "cell_type": "code",
   "execution_count": 8,
   "metadata": {},
   "outputs": [
    {
     "name": "stdout",
     "output_type": "stream",
     "text": [
      "['ALICE', 'JERRY', 'WENDY', 'SMITH']\n"
     ]
    }
   ],
   "source": [
    "names = ['Bob','Tom','alice','Jerry','Wendy','Smith']\n",
    "new_names = [name.upper() for name in names if len(name) > 3]\n",
    "print(new_names)"
   ]
  },
  {
   "attachments": {},
   "cell_type": "markdown",
   "metadata": {},
   "source": [
    "f-string 格式化字符串以 f 开头，后面跟着字符串，字符串中的表达式用大括号 {} 包起来，它会将变量或表达式计算后的值替换进去"
   ]
  },
  {
   "cell_type": "code",
   "execution_count": 9,
   "metadata": {},
   "outputs": [
    {
     "data": {
      "text/plain": [
       "'WANG: www.bing.com'"
      ]
     },
     "execution_count": 9,
     "metadata": {},
     "output_type": "execute_result"
    }
   ],
   "source": [
    "w = {'name': 'WANG', 'url': 'www.bing.com'}\n",
    "f'{w[\"name\"]}: {w[\"url\"]}'"
   ]
  },
  {
   "cell_type": "code",
   "execution_count": 1,
   "metadata": {},
   "outputs": [
    {
     "name": "stdout",
     "output_type": "stream",
     "text": [
      "<map object at 0x000002181A04ADA0>\n",
      "[1, 4, 9, 16, 25, 36, 49, 64, 81]\n"
     ]
    }
   ],
   "source": [
    "def f(x):\n",
    "    return x * x\n",
    "L = range(1, 10)\n",
    "r = map(f, L) # map 功能是将传入的函数依次作用于可迭代对象的每个元素，并把结果作为新的迭代器返回\n",
    "print(r)\n",
    "print(list(r))"
   ]
  },
  {
   "cell_type": "code",
   "execution_count": 11,
   "metadata": {},
   "outputs": [
    {
     "name": "stdout",
     "output_type": "stream",
     "text": [
      "[5, 9, -12, -21, 36]\n"
     ]
    }
   ],
   "source": [
    "L = [36, 5, -12, 9, -21]\n",
    "print(sorted(L, key=abs))"
   ]
  },
  {
   "cell_type": "code",
   "execution_count": 2,
   "metadata": {},
   "outputs": [
    {
     "name": "stdout",
     "output_type": "stream",
     "text": [
      "[1, 5, 9, 11]\n"
     ]
    }
   ],
   "source": [
    "def is_odd(n):\n",
    "    return n % 2 == 1\n",
    "L = [1, 2, 4, 5, 6, 9, 11, 12]\n",
    "print(list(filter(is_odd, L))) # filter 将传入的函数作用于每个元素，并根据返回值是 True 还是 False 决定保留还是丢弃该元素"
   ]
  },
  {
   "attachments": {},
   "cell_type": "markdown",
   "metadata": {},
   "source": [
    "对象根据类（模板）创造\n",
    "\n",
    "类具有名称(CapWords)、属性、行为"
   ]
  },
  {
   "cell_type": "code",
   "execution_count": 13,
   "metadata": {},
   "outputs": [
    {
     "name": "stdout",
     "output_type": "stream",
     "text": [
      "测试\n"
     ]
    }
   ],
   "source": [
    "def demo():\n",
    "    print(\"测试\")\n",
    "demo()"
   ]
  },
  {
   "cell_type": "code",
   "execution_count": 14,
   "metadata": {},
   "outputs": [
    {
     "data": {
      "text/plain": [
       "<method-wrapper '__hash__' of function object at 0x000001DE40CF9C60>"
      ]
     },
     "execution_count": 14,
     "metadata": {},
     "output_type": "execute_result"
    }
   ],
   "source": [
    "demo.__hash__"
   ]
  },
  {
   "cell_type": "code",
   "execution_count": 15,
   "metadata": {},
   "outputs": [
    {
     "data": {
      "text/plain": [
       "'demo'"
      ]
     },
     "execution_count": 15,
     "metadata": {},
     "output_type": "execute_result"
    }
   ],
   "source": [
    "demo.__name__"
   ]
  },
  {
   "cell_type": "code",
   "execution_count": 16,
   "metadata": {},
   "outputs": [
    {
     "data": {
      "text/plain": [
       "['__annotations__',\n",
       " '__builtins__',\n",
       " '__call__',\n",
       " '__class__',\n",
       " '__closure__',\n",
       " '__code__',\n",
       " '__defaults__',\n",
       " '__delattr__',\n",
       " '__dict__',\n",
       " '__dir__',\n",
       " '__doc__',\n",
       " '__eq__',\n",
       " '__format__',\n",
       " '__ge__',\n",
       " '__get__',\n",
       " '__getattribute__',\n",
       " '__getstate__',\n",
       " '__globals__',\n",
       " '__gt__',\n",
       " '__hash__',\n",
       " '__init__',\n",
       " '__init_subclass__',\n",
       " '__kwdefaults__',\n",
       " '__le__',\n",
       " '__lt__',\n",
       " '__module__',\n",
       " '__name__',\n",
       " '__ne__',\n",
       " '__new__',\n",
       " '__qualname__',\n",
       " '__reduce__',\n",
       " '__reduce_ex__',\n",
       " '__repr__',\n",
       " '__setattr__',\n",
       " '__sizeof__',\n",
       " '__str__',\n",
       " '__subclasshook__']"
      ]
     },
     "execution_count": 16,
     "metadata": {},
     "output_type": "execute_result"
    }
   ],
   "source": [
    "dir(demo)"
   ]
  },
  {
   "cell_type": "code",
   "execution_count": 17,
   "metadata": {},
   "outputs": [
    {
     "name": "stdout",
     "output_type": "stream",
     "text": [
      "吃TOM\n",
      "喝TOM\n",
      "吃KITTY\n",
      "喝KITTY\n",
      "<__main__.Cat object at 0x000001DE411D04D0>\n"
     ]
    }
   ],
   "source": [
    "class Cat:\n",
    "    def eat(self):\n",
    "        print(\"吃%s\"%self.name) # 哪一个对象调用，self就是哪个的引用\n",
    "    def drink(self):\n",
    "        print(\"喝%s\"%self.name)\n",
    "        \n",
    "tom = Cat()\n",
    "tom.name = \"TOM\"\n",
    "tom.eat()\n",
    "tom.drink()\n",
    "\n",
    "kitty = Cat()\n",
    "kitty.name = \"KITTY\"\n",
    "kitty.eat()\n",
    "kitty.drink()\n",
    "\n",
    "print(tom) # 得知由类创建，十六进制输出"
   ]
  },
  {
   "cell_type": "code",
   "execution_count": 5,
   "metadata": {},
   "outputs": [
    {
     "name": "stdout",
     "output_type": "stream",
     "text": [
      "11\n"
     ]
    },
    {
     "data": {
      "text/plain": [
       "11"
      ]
     },
     "execution_count": 5,
     "metadata": {},
     "output_type": "execute_result"
    }
   ],
   "source": [
    "a = 10\n",
    "def test():\n",
    "    global a # 如未修改为全局变量则报错（a使用的是未定义的局部变量）\n",
    "    a = a + 1\n",
    "    print(a)\n",
    "test()\n",
    "a"
   ]
  },
  {
   "cell_type": "code",
   "execution_count": 6,
   "metadata": {},
   "outputs": [
    {
     "name": "stdout",
     "output_type": "stream",
     "text": [
      "11\n"
     ]
    },
    {
     "data": {
      "text/plain": [
       "10"
      ]
     },
     "execution_count": 6,
     "metadata": {},
     "output_type": "execute_result"
    }
   ],
   "source": [
    "a = 10\n",
    "def test(a):\n",
    "    a = a + 1\n",
    "    print(a)\n",
    "test(a)\n",
    "a"
   ]
  },
  {
   "cell_type": "code",
   "execution_count": 20,
   "metadata": {},
   "outputs": [
    {
     "name": "stdout",
     "output_type": "stream",
     "text": [
      "TOM\n",
      "吃TOM\n"
     ]
    }
   ],
   "source": [
    "class Cat:\n",
    "    def __init__(self): # 初始化\n",
    "        self.name = \"TOM\"\n",
    "    def eat(self):\n",
    "        print(\"吃%s\"%self.name)\n",
    "tom = Cat()\n",
    "print(tom.name)\n",
    "tom.eat()"
   ]
  },
  {
   "cell_type": "code",
   "execution_count": 21,
   "metadata": {},
   "outputs": [
    {
     "name": "stdout",
     "output_type": "stream",
     "text": [
      "TOM\n"
     ]
    }
   ],
   "source": [
    "class Cat:\n",
    "    def __init__(self, rname): # 创建对象时设置属性\n",
    "        self.name = rname\n",
    "tom = Cat(\"TOM\")\n",
    "print(tom.name)"
   ]
  },
  {
   "cell_type": "code",
   "execution_count": 22,
   "metadata": {},
   "outputs": [
    {
     "name": "stdout",
     "output_type": "stream",
     "text": [
      "wang跑一次\n",
      "wang吃一次\n",
      "我名wang, 我重75.40 kg\n"
     ]
    }
   ],
   "source": [
    "class Chara:\n",
    "    def __init__(self, chara_name, chara_weight):\n",
    "        self.name = chara_name\n",
    "        self.weight = chara_weight\n",
    "    def __str__(self): # str必须返回字符串\n",
    "        return \"我名%s, 我重%.2f kg\"%(self.name, self.weight)\n",
    "    def run(self):\n",
    "        print(\"%s跑一次\"%self.name)\n",
    "        self.weight -= 0.1\n",
    "    def eat(self):\n",
    "        print(\"%s吃一次\"%self.name)\n",
    "        self.weight += 0.5\n",
    "        \n",
    "wang = Chara(\"wang\", 75)\n",
    "wang.run()\n",
    "wang.eat()\n",
    "print(wang)"
   ]
  },
  {
   "cell_type": "code",
   "execution_count": 23,
   "metadata": {},
   "outputs": [],
   "source": [
    "class HouseItem:\n",
    "    def __init__(self, name, area):\n",
    "        self.name = name\n",
    "        self.area = area\n",
    "    def __str__(self):\n",
    "        return \"[%s]占地%.2f平米\" %(self.name, self.area)\n",
    "# 类与类之间隔两行\n",
    "\n",
    "class House:\n",
    "    def __init__(self, house_type, area):\n",
    "        self.house_type = house_type\n",
    "        self.area = area\n",
    "        self.rea = area\n",
    "        self.list = []\n",
    "    def __str__(self):\n",
    "        return (\"户型为%s，\\n总面积为%.2f平米，剩余面积为%.2f平米\\n家具：%s\" \n",
    "                %(self.house_type, self.area, self.rea, self.list))\n",
    "    def add(self, item):\n",
    "        if item.area > self.rea:\n",
    "            print(\"面积不够了\")\n",
    "            return\n",
    "        else:\n",
    "            print(\"添加了%s\"%item.name)\n",
    "            self.list.append(item.name)\n",
    "            self.rea -= item.area"
   ]
  },
  {
   "cell_type": "code",
   "execution_count": 24,
   "metadata": {},
   "outputs": [
    {
     "name": "stdout",
     "output_type": "stream",
     "text": [
      "添加了桌子\n",
      "添加了椅子\n",
      "添加了床\n",
      "户型为两室一厅，\n",
      "总面积为120.00平米，剩余面积为45.00平米\n",
      "家具：['桌子', '椅子', '床']\n"
     ]
    }
   ],
   "source": [
    "table = HouseItem(\"桌子\", 10)\n",
    "chair = HouseItem(\"椅子\", 5)\n",
    "bed = HouseItem(\"床\", 60)\n",
    "myhome = House(\"两室一厅\", 120)\n",
    "\n",
    "myhome.add(table)\n",
    "myhome.add(chair)\n",
    "myhome.add(bed)\n",
    "\n",
    "print(myhome)"
   ]
  },
  {
   "attachments": {},
   "cell_type": "markdown",
   "metadata": {},
   "source": [
    "一个对象的属性可以是另一个类创建的对象"
   ]
  },
  {
   "cell_type": "code",
   "execution_count": 25,
   "metadata": {},
   "outputs": [
    {
     "name": "stdout",
     "output_type": "stream",
     "text": [
      "2054086886720 2054086816448\n"
     ]
    }
   ],
   "source": [
    "a = (1, 2)\n",
    "b = (1, 2)\n",
    "print(id(a), id(b))"
   ]
  },
  {
   "cell_type": "code",
   "execution_count": 26,
   "metadata": {},
   "outputs": [
    {
     "data": {
      "text/plain": [
       "True"
      ]
     },
     "execution_count": 26,
     "metadata": {},
     "output_type": "execute_result"
    }
   ],
   "source": [
    "a == b"
   ]
  },
  {
   "cell_type": "code",
   "execution_count": 27,
   "metadata": {},
   "outputs": [
    {
     "data": {
      "text/plain": [
       "False"
      ]
     },
     "execution_count": 27,
     "metadata": {},
     "output_type": "execute_result"
    }
   ],
   "source": [
    "a is b"
   ]
  }
 ],
 "metadata": {
  "kernelspec": {
   "display_name": "base",
   "language": "python",
   "name": "python3"
  },
  "language_info": {
   "codemirror_mode": {
    "name": "ipython",
    "version": 3
   },
   "file_extension": ".py",
   "mimetype": "text/x-python",
   "name": "python",
   "nbconvert_exporter": "python",
   "pygments_lexer": "ipython3",
   "version": "3.11.5"
  },
  "orig_nbformat": 4
 },
 "nbformat": 4,
 "nbformat_minor": 2
}
