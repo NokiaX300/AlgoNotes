{
 "cells": [
  {
   "cell_type": "code",
   "execution_count": 1,
   "metadata": {},
   "outputs": [
    {
     "name": "stdout",
     "output_type": "stream",
     "text": [
      "18\n"
     ]
    }
   ],
   "source": [
    "class Back:\n",
    "    def __init__(self, name):\n",
    "        self.name = name\n",
    "        self.age = 18\n",
    "        \n",
    "a = Back(\"wang\")\n",
    "print(a.age)"
   ]
  },
  {
   "cell_type": "code",
   "execution_count": 2,
   "metadata": {},
   "outputs": [
    {
     "name": "stdout",
     "output_type": "stream",
     "text": [
      "WANG\n",
      "你看不到我\n",
      "18\n"
     ]
    }
   ],
   "source": [
    "# 私有属性、方法\n",
    "class Back:\n",
    "    def __init__(self, name):\n",
    "        self.name = name\n",
    "        self.__age = 18\n",
    "    def __secret(self):\n",
    "        print(\"你看不到我\")\n",
    "        \n",
    "a = Back(\"WANG\")\n",
    "print(a.name)\n",
    "\n",
    "a._Back__secret() # 注意调用方式\n",
    "print(a._Back__age)"
   ]
  },
  {
   "cell_type": "code",
   "execution_count": 4,
   "metadata": {},
   "outputs": [
    {
     "name": "stdout",
     "output_type": "stream",
     "text": [
      "bark\n",
      "eat\n"
     ]
    }
   ],
   "source": [
    "class Animal:\n",
    "    def eat(self):\n",
    "        print(\"eat\")\n",
    "\n",
    "        \n",
    "class Dog(Animal):\n",
    "    def bark(self):\n",
    "        print(\"bark\")\n",
    "        \n",
    "bakki = Dog()\n",
    "bakki.bark()\n",
    "bakki.eat()"
   ]
  },
  {
   "cell_type": "code",
   "execution_count": 5,
   "metadata": {},
   "outputs": [
    {
     "name": "stdout",
     "output_type": "stream",
     "text": [
      "wow\n",
      "bark\n",
      "wwwww\n"
     ]
    }
   ],
   "source": [
    "class Animal:\n",
    "    def eat(self):\n",
    "        print(\"eat\")\n",
    "    def bark(self):\n",
    "        print(\"bark\")\n",
    "\n",
    "        \n",
    "class Dog(Animal):\n",
    "    def bark(self): # 重写父类\n",
    "        print(\"wow\")\n",
    "        super().bark() # 调用父类以修改\n",
    "        print(\"wwwww\")\n",
    "        \n",
    "bakki = Dog()\n",
    "bakki.bark()"
   ]
  },
  {
   "cell_type": "code",
   "execution_count": 6,
   "metadata": {},
   "outputs": [
    {
     "name": "stdout",
     "output_type": "stream",
     "text": [
      "wow\n",
      "bark\n",
      "wwwww\n"
     ]
    }
   ],
   "source": [
    "# 不用super()的另一种方式\n",
    "class Animal:\n",
    "    def eat(self):\n",
    "        print(\"eat\")\n",
    "    def bark(self):\n",
    "        print(\"bark\")\n",
    "\n",
    "        \n",
    "class Dog(Animal):\n",
    "    def bark(self): # 重写父类\n",
    "        print(\"wow\")\n",
    "        Animal.bark(self) # 调用父类以修改\n",
    "        print(\"wwwww\")\n",
    "        \n",
    "bakki = Dog()\n",
    "bakki.bark()"
   ]
  },
  {
   "attachments": {},
   "cell_type": "markdown",
   "metadata": {},
   "source": [
    "实例方法第一个参数是self，类方法第一个参数是cls"
   ]
  },
  {
   "cell_type": "code",
   "execution_count": 7,
   "metadata": {},
   "outputs": [],
   "source": [
    "class Game(object):\n",
    "    top_score = 0\n",
    "    \n",
    "    def __init__(self, player_name):\n",
    "        self.player_name = player_name\n",
    "    \n",
    "    @staticmethod\n",
    "    def show_help(): # 静态方法：不需要self参数\n",
    "        print(\"获得胜利以获得胜利\")\n",
    "    \n",
    "    @classmethod\n",
    "    def show_topscore(cls): # 类方法：需要cls参数\n",
    "        print(\"score = %d\"%cls.top_score)\n",
    "    def start_game(self):\n",
    "        print(\"name = %s\"%self.player_name)"
   ]
  },
  {
   "cell_type": "code",
   "execution_count": 8,
   "metadata": {},
   "outputs": [
    {
     "name": "stdout",
     "output_type": "stream",
     "text": [
      "获得胜利以获得胜利\n"
     ]
    }
   ],
   "source": [
    "Game.show_help()"
   ]
  },
  {
   "cell_type": "code",
   "execution_count": 9,
   "metadata": {},
   "outputs": [
    {
     "name": "stdout",
     "output_type": "stream",
     "text": [
      "score = 0\n"
     ]
    }
   ],
   "source": [
    "Game.show_topscore()"
   ]
  },
  {
   "cell_type": "code",
   "execution_count": 10,
   "metadata": {},
   "outputs": [
    {
     "name": "stdout",
     "output_type": "stream",
     "text": [
      "name = 王\n"
     ]
    }
   ],
   "source": [
    "game = Game(\"王\")\n",
    "game.start_game()"
   ]
  },
  {
   "cell_type": "code",
   "execution_count": 11,
   "metadata": {},
   "outputs": [
    {
     "name": "stdout",
     "output_type": "stream",
     "text": [
      "<__main__.MusicPlayer object at 0x000001FF466EB310>\n",
      "<__main__.MusicPlayer object at 0x000001FF466EB8D0>\n"
     ]
    }
   ],
   "source": [
    "# 注意输出地址不同\n",
    "class MusicPlayer(object):\n",
    "    pass\n",
    "player1 = MusicPlayer()\n",
    "print(player1)\n",
    "player2 = MusicPlayer()\n",
    "print(player2)"
   ]
  },
  {
   "cell_type": "code",
   "execution_count": 12,
   "metadata": {},
   "outputs": [
    {
     "name": "stdout",
     "output_type": "stream",
     "text": [
      "<__main__.MusicPlayer object at 0x000001FF4665F050>\n",
      "<__main__.MusicPlayer object at 0x000001FF4665F050>\n"
     ]
    }
   ],
   "source": [
    "# 创建单例对象——让类创建的对象在系统中只有一个实例\n",
    "class MusicPlayer(object):\n",
    "    instance = None\n",
    "    def __new__(cls, *args, **kwargs):\n",
    "        if cls.instance is None:\n",
    "            cls.instance = super().__new__(cls)\n",
    "        return cls.instance\n",
    "\n",
    "player3 = MusicPlayer()\n",
    "print(player3)\n",
    "player4 = MusicPlayer()\n",
    "print(player4)"
   ]
  },
  {
   "cell_type": "code",
   "execution_count": 13,
   "metadata": {},
   "outputs": [
    {
     "name": "stdout",
     "output_type": "stream",
     "text": [
      "初始化播放器\n",
      "<__main__.MusicPlayer object at 0x000001FF4665E9D0>\n",
      "<__main__.MusicPlayer object at 0x000001FF4665E9D0>\n"
     ]
    }
   ],
   "source": [
    "class MusicPlayer(object):\n",
    "    instance = None\n",
    "    \n",
    "    init_flag = False\n",
    "    \n",
    "    def __new__(cls, *args, **kwargs):\n",
    "        if cls.instance is None:\n",
    "            cls.instance = super().__new__(cls)\n",
    "        return cls.instance\n",
    "    \n",
    "    def __init__(self):\n",
    "        if MusicPlayer.init_flag:\n",
    "            return\n",
    "        print(\"初始化播放器\")\n",
    "        MusicPlayer.init_flag = True\n",
    "\n",
    "player3 = MusicPlayer()\n",
    "print(player3)\n",
    "player4 = MusicPlayer()\n",
    "print(player4)"
   ]
  },
  {
   "cell_type": "code",
   "execution_count": 15,
   "metadata": {},
   "outputs": [
    {
     "name": "stdout",
     "output_type": "stream",
     "text": [
      "是数字谢谢！\n",
      "--------------------------------------------------\n"
     ]
    }
   ],
   "source": [
    "# 异常捕获，代码无法正常执行也可继续后续代码\n",
    "try:\n",
    "    num = int(input(\"输入一个数字：\"))\n",
    "except:\n",
    "    print(\"是数字谢谢！\")\n",
    "\n",
    "print(\"-\" *50)"
   ]
  },
  {
   "cell_type": "code",
   "execution_count": 16,
   "metadata": {},
   "outputs": [
    {
     "name": "stdout",
     "output_type": "stream",
     "text": [
      "未知错误为division by zero\n",
      "--------------------------------------------------\n"
     ]
    }
   ],
   "source": [
    "# 完整的异常捕获\n",
    "try:\n",
    "    num = int(input(\"我会用100除以你输入的数：\"))\n",
    "    result = 100 / num\n",
    "    print(result)\n",
    "except ValueError:\n",
    "    print(\"输整数\")\n",
    "except Exception as result:\n",
    "    print(\"未知错误为%s\" %result)\n",
    "else:\n",
    "    print(\"尝试成功\")\n",
    "finally:\n",
    "    print(\"-\"*50)"
   ]
  },
  {
   "cell_type": "code",
   "execution_count": 17,
   "metadata": {},
   "outputs": [
    {
     "name": "stdout",
     "output_type": "stream",
     "text": [
      "主动抛出异常\n",
      "长度不够\n"
     ]
    }
   ],
   "source": [
    "def input_password():\n",
    "    pwd = input(\"password:\")\n",
    "    if len(pwd) >= 8:\n",
    "        return pwd\n",
    "    print(\"主动抛出异常\")\n",
    "    ex = Exception(\"长度不够\")\n",
    "    raise ex\n",
    "    \n",
    "try:\n",
    "    print(input_password())\n",
    "except Exception as result:\n",
    "    print(result)"
   ]
  },
  {
   "cell_type": "code",
   "execution_count": 18,
   "metadata": {},
   "outputs": [
    {
     "name": "stdout",
     "output_type": "stream",
     "text": [
      "d:\\Python\\Anaconda\\Lib\\random.py\n"
     ]
    }
   ],
   "source": [
    "import random\n",
    "print(random.__file__)"
   ]
  },
  {
   "cell_type": "code",
   "execution_count": 19,
   "metadata": {},
   "outputs": [],
   "source": [
    "def main():\n",
    "    pass\n",
    "if __name__ ==\" __main__\":\n",
    "    main()"
   ]
  },
  {
   "cell_type": "code",
   "execution_count": null,
   "metadata": {},
   "outputs": [],
   "source": [
    "file = open(r\"Test\\test.txt\", encoding='utf-8')\n",
    "text = file.read() # 文件指针移至末尾\n",
    "print(text)\n",
    "print(\"*\"*50)\n",
    "text = file.read()\n",
    "print(text)\n",
    "file.close()"
   ]
  },
  {
   "cell_type": "code",
   "execution_count": null,
   "metadata": {},
   "outputs": [],
   "source": [
    "with open(r\"Test\\test.txt\", encoding='utf-8') as f:\n",
    "    read_data = f.read()\n",
    "f.closed"
   ]
  },
  {
   "cell_type": "code",
   "execution_count": null,
   "metadata": {},
   "outputs": [],
   "source": [
    "file = open(r\"Test\\test.txt\", \"a\", encoding='utf-8')\n",
    "text = file.write(\"附加内容\")\n",
    "print(text)\n",
    "file.close()"
   ]
  },
  {
   "cell_type": "code",
   "execution_count": null,
   "metadata": {},
   "outputs": [],
   "source": [
    "file = open(r\"Test\\test1.1.txt\", encoding='utf-8')\n",
    "while True:\n",
    "    text = file.readline()\n",
    "    if not text:\n",
    "        break\n",
    "    print(text, end=\"\")\n",
    "file.close()"
   ]
  },
  {
   "cell_type": "code",
   "execution_count": null,
   "metadata": {},
   "outputs": [],
   "source": [
    "file_read = open(r\"Test\\test1.1.txt\", encoding='utf-8')\n",
    "file_write = open(r\"Test\\test1.2.txt\", \"w\", encoding='utf-8')\n",
    "text = file_read.read()\n",
    "file_write.write(text)\n",
    "file_read.close()\n",
    "file_write.close()"
   ]
  },
  {
   "cell_type": "code",
   "execution_count": null,
   "metadata": {},
   "outputs": [],
   "source": [
    "file_read = open(r\"Test\\test1.1.txt\", encoding='utf-8')\n",
    "file_write = open(r\"Test\\test1.2.txt\", \"w\", encoding='utf-8')\n",
    "while True:\n",
    "    text = file_read.readline()\n",
    "    if not text:\n",
    "        break\n",
    "    file_write.write(text)\n",
    "file.close()"
   ]
  },
  {
   "cell_type": "code",
   "execution_count": 22,
   "metadata": {},
   "outputs": [
    {
     "name": "stdout",
     "output_type": "stream",
     "text": [
      "8.0\n"
     ]
    }
   ],
   "source": [
    "# 两数求和\n",
    "print(float(input(\"enter a number\"))+float(input(\"enter another number\")))"
   ]
  },
  {
   "cell_type": "code",
   "execution_count": 23,
   "metadata": {},
   "outputs": [
    {
     "name": "stdout",
     "output_type": "stream",
     "text": [
      "sqr of -5.0 is 0.00i + 2.24j\n"
     ]
    }
   ],
   "source": [
    "# 求平方根\n",
    "import cmath\n",
    "num = float(input(\"enter a number\"))\n",
    "squ = cmath.sqrt(num)\n",
    "print(\"sqr of {0} is {1:0.2f}i + {2:0.2f}j\".format(num, squ.real, squ.imag))"
   ]
  },
  {
   "cell_type": "code",
   "execution_count": 24,
   "metadata": {},
   "outputs": [
    {
     "name": "stdout",
     "output_type": "stream",
     "text": [
      "no solution\n"
     ]
    }
   ],
   "source": [
    "# 二次方程式 ax**2 + bx + c = 0\n",
    "# a、b、c 用户提供，为实数，a ≠ 0\n",
    "import cmath\n",
    "a, b, c = map(float, input().split())\n",
    "delta = b**2 - 4*a*c\n",
    "if a == b == c == 0:\n",
    "    print(\"unbounded\")\n",
    "elif delta < 0:\n",
    "    print(\"no solution\")\n",
    "else:\n",
    "    x1 = (-b - cmath.sqrt(delta))/(2*a)\n",
    "    x2 = (-b + cmath.sqrt(delta))/(2*a)\n",
    "    print(\"key 1:{0}, key 2:{1}\".format(x1, x2))"
   ]
  },
  {
   "cell_type": "code",
   "execution_count": 4,
   "metadata": {},
   "outputs": [
    {
     "name": "stdout",
     "output_type": "stream",
     "text": [
      "2.4189087908075546\n",
      "0.08718667752263232\n",
      "7\n"
     ]
    }
   ],
   "source": [
    "# 随机数生成\n",
    "import random\n",
    "# 等同于R中的set.seed()\n",
    "random.seed(123)\n",
    "\n",
    "print(random.uniform(2, 10))\n",
    "print(random.random())\n",
    "print(random.randint(1, 9))"
   ]
  },
  {
   "cell_type": "code",
   "execution_count": 26,
   "metadata": {},
   "outputs": [
    {
     "name": "stdout",
     "output_type": "stream",
     "text": [
      "N\n"
     ]
    }
   ],
   "source": [
    "# 质数判断\n",
    "a = int(input(\"a prime number\"))\n",
    "if a > 1:\n",
    "    for i in range(2, a):\n",
    "        if a % i == 0:\n",
    "            print(\"N\")\n",
    "            break\n",
    "    else:\n",
    "        print(\"Y\")\n",
    "else:\n",
    "    print(\"N\")"
   ]
  }
 ],
 "metadata": {
  "kernelspec": {
   "display_name": "base",
   "language": "python",
   "name": "python3"
  },
  "language_info": {
   "codemirror_mode": {
    "name": "ipython",
    "version": 3
   },
   "file_extension": ".py",
   "mimetype": "text/x-python",
   "name": "python",
   "nbconvert_exporter": "python",
   "pygments_lexer": "ipython3",
   "version": "3.11.5"
  },
  "orig_nbformat": 4
 },
 "nbformat": 4,
 "nbformat_minor": 2
}
