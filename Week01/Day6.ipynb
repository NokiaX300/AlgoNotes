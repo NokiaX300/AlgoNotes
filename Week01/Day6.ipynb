{
 "cells": [
  {
   "cell_type": "code",
   "execution_count": 1,
   "metadata": {},
   "outputs": [
    {
     "name": "stdout",
     "output_type": "stream",
     "text": [
      "1\n"
     ]
    }
   ],
   "source": [
    "#求最大公约数\n",
    "a, b = map(int, input().split())\n",
    "c = min(a, b)\n",
    "d = max(a, b)\n",
    "for i in range(1, c+1):\n",
    "    if ((c % i == 0) and (d % i ==0)):\n",
    "        x = i\n",
    "print(x)"
   ]
  },
  {
   "cell_type": "code",
   "execution_count": 2,
   "metadata": {},
   "outputs": [
    {
     "name": "stdout",
     "output_type": "stream",
     "text": [
      "3424\n"
     ]
    }
   ],
   "source": [
    "#求最小公倍数\n",
    "a, b = map(int, input().split())\n",
    "if b < a:\n",
    "    a, b = b, a\n",
    "    t = a\n",
    "else:\n",
    "    t = a\n",
    "while True:\n",
    "    if t % b == 0:\n",
    "        print(t)\n",
    "        break\n",
    "    else:\n",
    "        t += a"
   ]
  },
  {
   "cell_type": "code",
   "execution_count": 3,
   "metadata": {},
   "outputs": [
    {
     "data": {
      "text/plain": [
       "[4, 2, 3, 1, 2, 4, 1]"
      ]
     },
     "execution_count": 3,
     "metadata": {},
     "output_type": "execute_result"
    }
   ],
   "source": [
    "#将指定个数的元素移到数组的尾部\n",
    "def move(arr, d):\n",
    "    arr = arr[d:] + arr[:d]\n",
    "    return arr\n",
    "move([2, 4, 1, 4, 2, 3, 1], 3)"
   ]
  },
  {
   "cell_type": "code",
   "execution_count": 4,
   "metadata": {},
   "outputs": [
    {
     "name": "stdout",
     "output_type": "stream",
     "text": [
      "[7, 6, 5, 3, 2]\n",
      "[7, 6, 5, 3, 2]\n",
      "[7, 6, 5, 3, 2]\n"
     ]
    }
   ],
   "source": [
    "#翻转列表\n",
    "def rev1(list):\n",
    "    list = reversed(list)\n",
    "    return [ele for ele in list]\n",
    "print(rev1([2, 3, 5, 6, 7]))\n",
    "\n",
    "def rev2(list):\n",
    "    list.reverse()\n",
    "    return list\n",
    "print(rev2([2, 3, 5, 6, 7]))\n",
    "\n",
    "def rev3(list):\n",
    "    list = list[::-1]\n",
    "    return list\n",
    "print(rev3([2, 3, 5, 6, 7]))"
   ]
  },
  {
   "cell_type": "code",
   "execution_count": 5,
   "metadata": {},
   "outputs": [
    {
     "name": "stdout",
     "output_type": "stream",
     "text": [
      "[2, 3, 5, 6, 7]\n",
      "[7, 6, 5, 2, 3]\n"
     ]
    }
   ],
   "source": [
    "#移除列表中重复的元素\n",
    "def qc1(list_1):\n",
    "    return list(set(list_1)) #输出结果为正序\n",
    "print(qc1([7, 6, 5, 2, 6, 3, 3]))\n",
    "\n",
    "def qc2(list_1):\n",
    "    list_2 = []\n",
    "    for i in list_1:\n",
    "        if i in list_2:\n",
    "            continue\n",
    "        else:\n",
    "            list_2.append(i) #输出结果为原序\n",
    "    return list_2\n",
    "print(qc2([7, 6, 5, 2, 6, 3, 3]))"
   ]
  },
  {
   "cell_type": "code",
   "execution_count": 6,
   "metadata": {},
   "outputs": [
    {
     "data": {
      "text/plain": [
       "2"
      ]
     },
     "execution_count": 6,
     "metadata": {},
     "output_type": "execute_result"
    }
   ],
   "source": [
    "#计算元素在列表中出现的次数\n",
    "def cou(list_3, x):\n",
    "    return list_3.count(x)\n",
    "cou([7, 6, 5, 2, 6, 3, 3], 3)"
   ]
  },
  {
   "cell_type": "code",
   "execution_count": 7,
   "metadata": {},
   "outputs": [
    {
     "data": {
      "text/plain": [
       "32"
      ]
     },
     "execution_count": 7,
     "metadata": {},
     "output_type": "execute_result"
    }
   ],
   "source": [
    "#计算列表元素之和\n",
    "def summ(list_4):\n",
    "    total = 0\n",
    "    for i in list_4:\n",
    "        total += i\n",
    "    return total\n",
    "summ([7, 6, 5, 2, 6, 3, 3])"
   ]
  },
  {
   "cell_type": "code",
   "execution_count": 8,
   "metadata": {},
   "outputs": [
    {
     "data": {
      "text/plain": [
       "{'a': 10, 'b': 8, 'd': 6, 'c': 4}"
      ]
     },
     "execution_count": 8,
     "metadata": {},
     "output_type": "execute_result"
    }
   ],
   "source": [
    "#合并字典\n",
    "def merge(dic1, dic2):\n",
    "    dic = {**dic1, **dic2}\n",
    "    return dic\n",
    "merge({'a': 10, 'b': 8}, {'d': 6, 'c': 4})"
   ]
  },
  {
   "cell_type": "code",
   "execution_count": 9,
   "metadata": {},
   "outputs": [
    {
     "name": "stdout",
     "output_type": "stream",
     "text": [
      "元素在第6处\n"
     ]
    }
   ],
   "source": [
    "#二分查找\n",
    "def bin(ar, s, e, x):\n",
    "    if e >= s:\n",
    "        m = int((s + e)/2)\n",
    "        if ar[m] == x:\n",
    "            return m\n",
    "        elif ar[m] > x:\n",
    "            return bin(ar, s, m-1, x)\n",
    "        else:\n",
    "            return bin(ar, m+1, e, x)\n",
    "    else:\n",
    "        return -1\n",
    "\n",
    "ar = [7, 6, 5, 2, 6, 3, 3]\n",
    "result = bin(ar, 0, len(ar)-1, 3)\n",
    "if result != -1:\n",
    "    print(\"元素在第{}处\".format(result+1))\n",
    "else:\n",
    "    print(\"找不到\")"
   ]
  },
  {
   "cell_type": "code",
   "execution_count": 10,
   "metadata": {},
   "outputs": [
    {
     "name": "stdout",
     "output_type": "stream",
     "text": [
      "2 3 3 5 6 6 7 "
     ]
    }
   ],
   "source": [
    "#插入排序\n",
    "def backsort(arr):\n",
    "    for i in range(len(arr)):\n",
    "        num = arr[i]\n",
    "        j = i - 1\n",
    "        while (j >= 0) and (num < arr[j]):\n",
    "            arr[j+1] = arr[j]\n",
    "            j -= 1\n",
    "        arr[j+1] = num\n",
    "\n",
    "arr = [7, 6, 5, 2, 6, 3, 3]\n",
    "backsort(arr)\n",
    "for i in range(len(arr)):\n",
    "    print(\"{}\".format(arr[i]), end = \" \")"
   ]
  },
  {
   "cell_type": "code",
   "execution_count": 11,
   "metadata": {},
   "outputs": [
    {
     "name": "stdout",
     "output_type": "stream",
     "text": [
      "[2, 3, 3, 5, 6, 6, 7]\n"
     ]
    }
   ],
   "source": [
    "#选择最小值排序\n",
    "def mini(arr):\n",
    "    for i in range(len(arr)):\n",
    "        mini = i\n",
    "        for j in range(i+1, len(arr)):\n",
    "            if arr[j] < arr[mini]:\n",
    "                mini = j\n",
    "        arr[i], arr[mini] = arr[mini], arr[i]\n",
    "\n",
    "arr = [7, 6, 5, 2, 6, 3, 3]\n",
    "mini(arr)\n",
    "print(arr)"
   ]
  },
  {
   "cell_type": "code",
   "execution_count": 12,
   "metadata": {},
   "outputs": [
    {
     "name": "stdout",
     "output_type": "stream",
     "text": [
      "[2, 3, 3, 5, 6, 6, 7]\n"
     ]
    }
   ],
   "source": [
    "#冒泡排序\n",
    "def bubble(arr):\n",
    "    for i in range(len(arr)):\n",
    "        for j in range(0, len(arr) - i - 1):\n",
    "            if arr[j] > arr[j + 1]:\n",
    "                arr[j], arr[j + 1] = arr[j + 1], arr[j]\n",
    "\n",
    "arr = [7, 6, 5, 2, 6, 3, 3]\n",
    "bubble(arr)\n",
    "print(arr)"
   ]
  },
  {
   "cell_type": "code",
   "execution_count": 13,
   "metadata": {},
   "outputs": [
    {
     "name": "stdout",
     "output_type": "stream",
     "text": [
      "[2, 3, 3, 5, 6, 6, 7]\n"
     ]
    }
   ],
   "source": [
    "#希尔排序(递减增量排序算法)\n",
    "def shell(arr):\n",
    "    n = len(arr)\n",
    "    gap = int(n/2)\n",
    "    while gap > 0:\n",
    "        for i in range(gap, n):\n",
    "            temp = arr[i]\n",
    "            j = i\n",
    "            while (j >= gap) and (temp < arr[j - gap]):\n",
    "                arr[j] = arr[j - gap]\n",
    "                j -= gap\n",
    "            arr[j] = temp\n",
    "        gap = int(gap/2)\n",
    "\n",
    "arr = [7, 6, 5, 2, 6, 3, 3]\n",
    "shell(arr)\n",
    "print(arr)"
   ]
  }
 ],
 "metadata": {
  "kernelspec": {
   "display_name": "base",
   "language": "python",
   "name": "python3"
  },
  "language_info": {
   "codemirror_mode": {
    "name": "ipython",
    "version": 3
   },
   "file_extension": ".py",
   "mimetype": "text/x-python",
   "name": "python",
   "nbconvert_exporter": "python",
   "pygments_lexer": "ipython3",
   "version": "3.11.3"
  },
  "orig_nbformat": 4
 },
 "nbformat": 4,
 "nbformat_minor": 2
}
