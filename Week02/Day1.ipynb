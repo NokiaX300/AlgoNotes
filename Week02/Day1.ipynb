{
 "cells": [
  {
   "attachments": {},
   "cell_type": "markdown",
   "metadata": {},
   "source": [
    "算法特性：\n",
    "\n",
    "输入、输出、有穷性、确定性、可行性、（鲁棒性、可读性、高效性）"
   ]
  },
  {
   "cell_type": "code",
   "execution_count": 1,
   "metadata": {},
   "outputs": [],
   "source": [
    "#求序列最大值\n",
    "def find_max(data):\n",
    "    biggest = data[0]\n",
    "    for var in data:\n",
    "        if var > biggest:\n",
    "            biggest = var\n",
    "    return biggest"
   ]
  },
  {
   "cell_type": "code",
   "execution_count": 2,
   "metadata": {},
   "outputs": [
    {
     "data": {
      "text/plain": [
       "33"
      ]
     },
     "execution_count": 2,
     "metadata": {},
     "output_type": "execute_result"
    }
   ],
   "source": [
    "find_max([4, 2, 14, 23, 33, 6, 20, 31])"
   ]
  },
  {
   "cell_type": "code",
   "execution_count": 3,
   "metadata": {},
   "outputs": [],
   "source": [
    "#求序列平均值 O(n^2)\n",
    "def average(data):\n",
    "    n = len(data)\n",
    "    A = [0]*n #创建新列表\n",
    "    for j in range(n):\n",
    "        total = 0\n",
    "        for i in range(j+1):\n",
    "            total += data[i]\n",
    "            A[j] = total/(j+1)\n",
    "    return A"
   ]
  },
  {
   "cell_type": "code",
   "execution_count": 4,
   "metadata": {},
   "outputs": [
    {
     "data": {
      "text/plain": [
       "[2.0, 3.0, 3.0, 3.5, 3.0, 4.0, 4.0]"
      ]
     },
     "execution_count": 4,
     "metadata": {},
     "output_type": "execute_result"
    }
   ],
   "source": [
    "average([2, 4, 3, 5, 1, 9, 4])"
   ]
  },
  {
   "cell_type": "code",
   "execution_count": 5,
   "metadata": {},
   "outputs": [],
   "source": [
    "#求序列平均值 O(n)\n",
    "def average1(data):\n",
    "    n = len(data)\n",
    "    A = [0]*n\n",
    "    total = 0\n",
    "    for j in range(n):\n",
    "        total += data[j]\n",
    "        A[j] = total/(j+1)\n",
    "    return A"
   ]
  },
  {
   "cell_type": "code",
   "execution_count": 6,
   "metadata": {},
   "outputs": [
    {
     "data": {
      "text/plain": [
       "[2.0, 3.0, 3.0, 3.5, 3.0, 4.0, 4.0]"
      ]
     },
     "execution_count": 6,
     "metadata": {},
     "output_type": "execute_result"
    }
   ],
   "source": [
    "average1([2, 4, 3, 5, 1, 9, 4])"
   ]
  },
  {
   "cell_type": "code",
   "execution_count": 7,
   "metadata": {},
   "outputs": [],
   "source": [
    "#元素唯一性\n",
    "def unique(S):\n",
    "    temp = sorted(S)\n",
    "    for j in range(len(temp)):\n",
    "        if temp[j-1] == temp[j]:\n",
    "            return False\n",
    "    return True"
   ]
  },
  {
   "cell_type": "code",
   "execution_count": 8,
   "metadata": {},
   "outputs": [
    {
     "data": {
      "text/plain": [
       "False"
      ]
     },
     "execution_count": 8,
     "metadata": {},
     "output_type": "execute_result"
    }
   ],
   "source": [
    "unique([2, 4, 3, 5, 1, 9, 4])"
   ]
  },
  {
   "cell_type": "code",
   "execution_count": 9,
   "metadata": {},
   "outputs": [
    {
     "data": {
      "text/plain": [
       "True"
      ]
     },
     "execution_count": 9,
     "metadata": {},
     "output_type": "execute_result"
    }
   ],
   "source": [
    "unique([2, 4, 3, 5, 1, 9])"
   ]
  },
  {
   "cell_type": "code",
   "execution_count": 10,
   "metadata": {},
   "outputs": [
    {
     "name": "stdout",
     "output_type": "stream",
     "text": [
      "['Y', 'Y', 'Y', 'N', 'Y', 'N', 'N', 'Y']\n"
     ]
    }
   ],
   "source": [
    "#二分查找\n",
    "def bin(arr, s, e, x):\n",
    "    ar = sorted(arr)\n",
    "    if s <= e:\n",
    "        mid = int((s + e)/2)\n",
    "        if ar[mid] == x:\n",
    "            return True\n",
    "        elif ar[mid] < x:\n",
    "            return bin(arr, mid+1, e, x)\n",
    "        else:\n",
    "            return bin(arr, s, mid-1, x)\n",
    "    else:\n",
    "        return False\n",
    "\n",
    "def bi(arr, x):\n",
    "    return bin(arr, 0, len(arr)-1, x)\n",
    "\n",
    "arr = [3, 1, 4, 1, 5, 9, 2, 6]\n",
    "list_1 = [2, 1, 3, 8, 5, 0, 7, 6]\n",
    "list_2 = []\n",
    "for x in list_1:\n",
    "    bi(arr, x)\n",
    "    if bi(arr, x):\n",
    "        list_2.append(\"Y\")\n",
    "    else:\n",
    "        list_2.append(\"N\")\n",
    "print(list_2)"
   ]
  },
  {
   "cell_type": "code",
   "execution_count": 11,
   "metadata": {},
   "outputs": [
    {
     "data": {
      "text/plain": [
       "(34, 21)"
      ]
     },
     "execution_count": 11,
     "metadata": {},
     "output_type": "execute_result"
    }
   ],
   "source": [
    "#斐波那契\n",
    "'''\n",
    "(F0, F-1) = (1, 0), n = 0\n",
    "(Fn, Fn-1) = (Fn-1 +Fn-2,Fn-1) n > 1\n",
    "'''\n",
    "def fn(n):\n",
    "    if n == 1:\n",
    "        return (1, 0)\n",
    "    (a, b) = fn(n-1)\n",
    "    return (a + b, a)\n",
    "fn(9)"
   ]
  },
  {
   "cell_type": "code",
   "execution_count": 12,
   "metadata": {},
   "outputs": [
    {
     "name": "stdout",
     "output_type": "stream",
     "text": [
      "10\n"
     ]
    }
   ],
   "source": [
    "#序列求和\n",
    "'''sn = sn-1 + an'''\n",
    "def sum_1(s, n):\n",
    "    if n == 0:\n",
    "        return 0\n",
    "    else:\n",
    "        return sum_1(s, n-1) + s[n-1]\n",
    "\n",
    "s = [1, 2, 3, 4]\n",
    "print(sum_1(s, len(s)))"
   ]
  },
  {
   "cell_type": "code",
   "execution_count": 13,
   "metadata": {},
   "outputs": [
    {
     "name": "stdout",
     "output_type": "stream",
     "text": [
      "[6, 2, 9, 5, 1, 4, 1, 3]\n"
     ]
    }
   ],
   "source": [
    "#翻转序列\n",
    "def rev_1(arr, start, stop):\n",
    "    if start < stop:\n",
    "        arr[start], arr[stop] = arr[stop], arr[start]\n",
    "        rev_1(arr, start+1, stop-1)\n",
    "\n",
    "def rev(arr):\n",
    "    return rev_1(arr, 0, len(arr)-1)\n",
    "\n",
    "arr = [3, 1, 4, 1, 5, 9, 2, 6]\n",
    "rev(arr)\n",
    "print(arr)"
   ]
  },
  {
   "cell_type": "code",
   "execution_count": 14,
   "metadata": {},
   "outputs": [
    {
     "name": "stdout",
     "output_type": "stream",
     "text": [
      "335.5443200000002\n"
     ]
    }
   ],
   "source": [
    "#计算x^n\n",
    "'''\n",
    "低效递归: x^n = x * x^(n-1)\n",
    "高效递归: x^n = (x^(n/2))^2 (分奇偶)\n",
    "'''\n",
    "def power_1(x, n):\n",
    "    if n == 0:\n",
    "        return 1\n",
    "    part = power_1(x, n // 2)\n",
    "    result = part**2\n",
    "    if n % 2 == 1:\n",
    "        result *= x\n",
    "    return result\n",
    "print(power_1(3.2, 5))"
   ]
  },
  {
   "cell_type": "code",
   "execution_count": 15,
   "metadata": {},
   "outputs": [
    {
     "name": "stdout",
     "output_type": "stream",
     "text": [
      "25\n"
     ]
    }
   ],
   "source": [
    "#二元递归求和\n",
    "def binsum(arr, start, stop):\n",
    "    if start >= stop:\n",
    "        return 0\n",
    "    if start == stop-1:\n",
    "        return arr[start]\n",
    "    mid = (start + stop) // 2 \n",
    "    return binsum(arr, start, mid) + binsum(arr, mid, stop)\n",
    "\n",
    "def binsum_1(arr):\n",
    "    return binsum(arr, 0, len(arr)-1)\n",
    "\n",
    "arr = [3, 1, 4, 1, 5, 9, 2, 6]\n",
    "print(binsum_1(arr))"
   ]
  },
  {
   "attachments": {},
   "cell_type": "markdown",
   "metadata": {},
   "source": [
    "调用 len(data)，其实是在调用 data.__len__()\n",
    "\n",
    "调用 data[j]，其实是在调用 data.__getitem__(j)\n",
    "\n",
    "调用 data[j] = val，其实是在调用 __setitem__(k, val)\n",
    "\n",
    "调用 val in data，其实是在调用 data.__contains__(val)"
   ]
  },
  {
   "cell_type": "code",
   "execution_count": 16,
   "metadata": {},
   "outputs": [
    {
     "name": "stdout",
     "output_type": "stream",
     "text": [
      "After considering (Rob, 750), scoreboard is:\n",
      "(Rob, 750)\n",
      "After considering (Mike, 1105), scoreboard is:\n",
      "(Mike, 1105)\n",
      "(Rob, 750)\n",
      "After considering (Rose, 590), scoreboard is:\n",
      "(Mike, 1105)\n",
      "(Rob, 750)\n",
      "(Rose, 590)\n",
      "After considering (Jill, 740), scoreboard is:\n",
      "(Mike, 1105)\n",
      "(Rob, 750)\n",
      "(Jill, 740)\n",
      "(Rose, 590)\n",
      "After considering (Jack, 510), scoreboard is:\n",
      "(Mike, 1105)\n",
      "(Rob, 750)\n",
      "(Jill, 740)\n",
      "(Rose, 590)\n",
      "(Jack, 510)\n",
      "After considering (Anna, 660), scoreboard is:\n",
      "(Mike, 1105)\n",
      "(Rob, 750)\n",
      "(Jill, 740)\n",
      "(Anna, 660)\n",
      "(Rose, 590)\n",
      "After considering (Paul, 720), scoreboard is:\n",
      "(Mike, 1105)\n",
      "(Rob, 750)\n",
      "(Jill, 740)\n",
      "(Paul, 720)\n",
      "(Anna, 660)\n",
      "After considering (Bob, 400), scoreboard is:\n",
      "(Mike, 1105)\n",
      "(Rob, 750)\n",
      "(Jill, 740)\n",
      "(Paul, 720)\n",
      "(Anna, 660)\n"
     ]
    }
   ],
   "source": [
    "#记分牌\n",
    "'''\n",
    "假设某场比赛有八名选手参加，赛场上悬挂着一块记分牌，\n",
    "按得分从高到低显示排名前五的选手的信息 (包括姓名和得分)。\n",
    "'''\n",
    "class GameEntry():\n",
    "    def __init__(self, name, score):\n",
    "        self._name = name\n",
    "        self._score = score\n",
    "    def get_name(self):\n",
    "        return self._name\n",
    "    def get_score(self):\n",
    "        return self._score\n",
    "    def __str__(self):\n",
    "        return f'({self._name}, {self._score})'\n",
    "\n",
    "class ScoreBoard():\n",
    "    def __init__(self, capacity = 5):\n",
    "        self._board = [None] * capacity\n",
    "        self._n = 0\n",
    "    def __getitem__(self, k):\n",
    "        return self._board[k]\n",
    "    def __str__(self):\n",
    "        return '\\n'.join(str(self._board[j]) for j in range(self._n))\n",
    "    def add(self, entry):\n",
    "        score = entry.get_score()\n",
    "        good = self._n < len(self._board) or score > self._board[-1].get_score()\n",
    "        if good:\n",
    "            if self._n < len(self._board):\n",
    "                self._n += 1\n",
    "            j = self._n-1\n",
    "            while j > 0 and self._board[j-1].get_score() < score:\n",
    "                self._board[j] = self._board[j-1]\n",
    "                j -= 1\n",
    "            self._board[j] = entry\n",
    "\n",
    "board = ScoreBoard(5)\n",
    "entries = (\n",
    "('Rob', 750), ('Mike', 1105), ('Rose', 590),\n",
    "('Jill', 740), ('Jack', 510), ('Anna', 660),\n",
    "('Paul', 720), ('Bob', 400),\n",
    ")\n",
    "for e in entries:\n",
    "    ge = GameEntry(e[0], e[1])\n",
    "    board.add(ge)\n",
    "    print(f'After considering {ge}, scoreboard is:')\n",
    "    print(board)"
   ]
  },
  {
   "cell_type": "code",
   "execution_count": 17,
   "metadata": {},
   "outputs": [
    {
     "name": "stdout",
     "output_type": "stream",
     "text": [
      "[1, 1, 2, 3, 4, 5, 6, 9]\n"
     ]
    }
   ],
   "source": [
    "#插入排序(倒序)\n",
    "def insort(arr):\n",
    "    n = len(arr)\n",
    "    for i in range(1, n):\n",
    "        var = arr[i]\n",
    "        j = i\n",
    "        while j > 0 and arr[j-1] > var:\n",
    "            arr[j] = arr[j-1]\n",
    "            j -= 1\n",
    "        arr[j] = var\n",
    "\n",
    "arr = [3, 1, 4, 1, 5, 9, 2, 6]\n",
    "insort(arr)\n",
    "print(arr)"
   ]
  },
  {
   "cell_type": "code",
   "execution_count": 18,
   "metadata": {},
   "outputs": [
    {
     "name": "stdout",
     "output_type": "stream",
     "text": [
      "[1, 1, 2, 3, 4, 5, 6, 9]\n"
     ]
    }
   ],
   "source": [
    "#插入排序（正序）\n",
    "def insort_1(arr):\n",
    "    n = len(arr)\n",
    "    for i in range(n):\n",
    "        var = arr[i]\n",
    "        j = i\n",
    "        while j < n-1 and arr[j+1] < var:\n",
    "            arr[j] = arr[j+1]\n",
    "            j += 1\n",
    "        arr[j] = var\n",
    "\n",
    "arr = [3, 1, 4, 1, 5, 9, 2, 6]\n",
    "insort(arr)\n",
    "print(arr)"
   ]
  },
  {
   "cell_type": "code",
   "execution_count": 19,
   "metadata": {},
   "outputs": [],
   "source": [
    "#凯撒密码\n",
    "class Caesar():\n",
    "    def __init__(self, shift):\n",
    "        encoder = [None] * 26\n",
    "        decoder = [None] * 26\n",
    "        for i in range(26):\n",
    "            encoder[i] = chr((i + shift) % 26 + ord(\"A\"))\n",
    "            decoder[i] = chr((i - shift) % 26 + ord(\"A\"))\n",
    "        self._forward = ' '.join(encoder)\n",
    "        self._backward = ' '.join(decoder)\n",
    "    def encrypt(self, message):\n",
    "        return self._tran(message, self._forward)\n",
    "    def decrypt(self, secret):\n",
    "        return self._tran(secret, self._backward)\n",
    "    def _tran(self, original , code):\n",
    "        msg = list(original)\n",
    "        for k in range(len(msg)):\n",
    "            if msg[k].isupper():\n",
    "                j = ord(msg[k]) - ord('A')\n",
    "                msg[k] = code[j]\n",
    "        return ''.join(msg)"
   ]
  },
  {
   "cell_type": "code",
   "execution_count": 20,
   "metadata": {},
   "outputs": [
    {
     "name": "stdout",
     "output_type": "stream",
     "text": [
      "Secret :   F FDG F HM H    DP; JFF  D   KF'M.\n",
      "Message:       A    D        ;          C 'D.\n"
     ]
    }
   ],
   "source": [
    "cipher = Caesar(3)\n",
    "message = \"THE EAGLE IS IN PLAY; MEET AT JOE'S.\"\n",
    "coded = cipher.encrypt(message)\n",
    "print('Secret :', coded)\n",
    "answer = cipher.decrypt(coded)\n",
    "print('Message:', answer)"
   ]
  },
  {
   "cell_type": "code",
   "execution_count": 2,
   "metadata": {},
   "outputs": [
    {
     "name": "stdout",
     "output_type": "stream",
     "text": [
      "[6, 2, 9, 5, 1, 4, 1, 3]\n"
     ]
    }
   ],
   "source": [
    "#利用栈的后进先出特性，实现数据翻转\n",
    "def rev_2(arr):\n",
    "    S = []\n",
    "    for elem in arr:\n",
    "        S.append(elem)\n",
    "    arr = []\n",
    "    while S:\n",
    "        arr.append(S.pop())\n",
    "    return arr\n",
    "\n",
    "arr = [3, 1, 4, 1, 5, 9, 2, 6]\n",
    "print(rev_2(arr))"
   ]
  },
  {
   "cell_type": "code",
   "execution_count": 22,
   "metadata": {},
   "outputs": [
    {
     "name": "stdout",
     "output_type": "stream",
     "text": [
      "True\n",
      "False\n"
     ]
    }
   ],
   "source": [
    "#判断某字符串是否为回文\n",
    "from collections import deque\n",
    "def is_palindromic(str):\n",
    "    Q = deque()\n",
    "    for ch in str:\n",
    "        Q.append(ch)\n",
    "    for i in range(len(Q)//2):\n",
    "        first = Q.popleft()\n",
    "        last = Q.pop()\n",
    "        if first != last:\n",
    "            return False\n",
    "    return True\n",
    "\n",
    "print(is_palindromic('abc sds cba'))\n",
    "print(is_palindromic('123ab321'))"
   ]
  },
  {
   "attachments": {},
   "cell_type": "markdown",
   "metadata": {},
   "source": [
    "若设二叉树的深度为 h，除第 h 层外，其它各层的结点数都达到最大个数 (即 1 ∼ h −1 层为一个满二叉树)\n",
    "\n",
    "第 h 层所有的结点都连续集中在最左边，这就是完全二叉树"
   ]
  },
  {
   "cell_type": "code",
   "execution_count": 27,
   "metadata": {},
   "outputs": [
    {
     "name": "stdout",
     "output_type": "stream",
     "text": [
      "0\n"
     ]
    }
   ],
   "source": [
    "#统计重复字符出现次数\n",
    "st, x = map(str, input().split())\n",
    "ST, X = st.upper(), x.upper()\n",
    "print(ST.count(X))"
   ]
  },
  {
   "cell_type": "code",
   "execution_count": 29,
   "metadata": {},
   "outputs": [
    {
     "name": "stdout",
     "output_type": "stream",
     "text": [
      "1312\n",
      "1422\n"
     ]
    }
   ],
   "source": [
    "#去重后排序\n",
    "while True:\n",
    "    try:\n",
    "        line_num, num = int(input()), set()\n",
    "        for i in range(line_num):\n",
    "            num.add(int(input()))\n",
    "        for j in sorted(list(num)):\n",
    "            print(j)\n",
    "    except:\n",
    "        break"
   ]
  },
  {
   "cell_type": "code",
   "execution_count": 30,
   "metadata": {},
   "outputs": [
    {
     "name": "stdout",
     "output_type": "stream",
     "text": [
      "asfwqf00\n"
     ]
    }
   ],
   "source": [
    "#拆分输出字符串，不足8以0补足\n",
    "s = input()\n",
    "while len(s) > 8:\n",
    "    print(s[:8])\n",
    "    s = s[8:]\n",
    "print(s.ljust(8, \"0\"))"
   ]
  },
  {
   "cell_type": "code",
   "execution_count": 31,
   "metadata": {},
   "outputs": [
    {
     "name": "stdout",
     "output_type": "stream",
     "text": [
      "2 2 45691 "
     ]
    }
   ],
   "source": [
    "#输出所有质因子\n",
    "'''复杂度过大\n",
    "n = int(input())\n",
    "i = 2\n",
    "while i <= n:\n",
    "    while n % i == 0:\n",
    "        print(i, end = \" \")\n",
    "        n /= i\n",
    "    i += 1\n",
    "'''\n",
    "import math\n",
    "n = int(input())\n",
    "def fun(n):\n",
    "    np = 0\n",
    "    for i in range(2, int(math.sqrt(n)+2)):\n",
    "        if n % i == 0:\n",
    "            np = 1\n",
    "            print(i, end = \" \")\n",
    "            b = n // i\n",
    "            fun(b)\n",
    "            break\n",
    "    if np == 0:\n",
    "        print(n, end = \" \")\n",
    "fun(n)"
   ]
  },
  {
   "cell_type": "code",
   "execution_count": 33,
   "metadata": {},
   "outputs": [
    {
     "name": "stdout",
     "output_type": "stream",
     "text": [
      "2 6\n",
      "3 11\n"
     ]
    }
   ],
   "source": [
    "#合并表记录\n",
    "n = int(input())\n",
    "dic = {}\n",
    "for i in range(n):\n",
    "    s = input().split()\n",
    "    key = int(s[0])\n",
    "    value = int(s[1])\n",
    "    dic[key] = dic.get(key, 0) + value\n",
    "for key in sorted(dic):\n",
    "    print(key, dic.get(key))"
   ]
  }
 ],
 "metadata": {
  "kernelspec": {
   "display_name": "base",
   "language": "python",
   "name": "python3"
  },
  "language_info": {
   "codemirror_mode": {
    "name": "ipython",
    "version": 3
   },
   "file_extension": ".py",
   "mimetype": "text/x-python",
   "name": "python",
   "nbconvert_exporter": "python",
   "pygments_lexer": "ipython3",
   "version": "3.11.5"
  },
  "orig_nbformat": 4
 },
 "nbformat": 4,
 "nbformat_minor": 2
}
