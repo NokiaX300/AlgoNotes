{
 "cells": [
  {
   "cell_type": "code",
   "execution_count": 1,
   "metadata": {},
   "outputs": [
    {
     "name": "stdout",
     "output_type": "stream",
     "text": [
      "cdqw\n"
     ]
    }
   ],
   "source": [
    "#倒序去重\n",
    "a = input()\n",
    "b = a[::-1]\n",
    "c = ''\n",
    "for i in b:\n",
    "    if i not in c:\n",
    "        c += i\n",
    "print(c)"
   ]
  },
  {
   "cell_type": "code",
   "execution_count": 2,
   "metadata": {},
   "outputs": [
    {
     "data": {
      "text/plain": [
       "3"
      ]
     },
     "execution_count": 2,
     "metadata": {},
     "output_type": "execute_result"
    }
   ],
   "source": [
    "#不同元素计数\n",
    "def cal():\n",
    "    s = input()\n",
    "    x = ''\n",
    "    for i in s:\n",
    "        if i not in x and 0 <= ord(i) <= 127:\n",
    "            x += i\n",
    "    return len(x)\n",
    "cal()"
   ]
  },
  {
   "cell_type": "code",
   "execution_count": 3,
   "metadata": {},
   "outputs": [
    {
     "data": {
      "text/plain": [
       "13"
      ]
     },
     "execution_count": 3,
     "metadata": {},
     "output_type": "execute_result"
    }
   ],
   "source": [
    "#01背包问题（使用递归的穷举法）\n",
    "def backpack(i, w):\n",
    "    global weight, val\n",
    "    if i < 0:\n",
    "        return 0\n",
    "    if w < 0:\n",
    "        return -float('inf')\n",
    "    return max(backpack(i-1, w-weight[i])+val[i], backpack(i-1, w))\n",
    "weight = [2, 4, 5, 6, 10, 3]\n",
    "val = [1, 7, 4, 5, 11, 1]\n",
    "backpack(5, 11)"
   ]
  },
  {
   "cell_type": "code",
   "execution_count": 4,
   "metadata": {},
   "outputs": [
    {
     "name": "stdout",
     "output_type": "stream",
     "text": [
      "20,15\n"
     ]
    }
   ],
   "source": [
    "#坐标移动\n",
    "str_1 = input().split(\";\")\n",
    "dic = {}\n",
    "for ele in str_1:\n",
    "    if len(ele) > 1 and ele[0] in list('WASD') and ele[1:].isdecimal():\n",
    "        dic[ele[0]] = dic.get(ele[0], 0) + int(ele[1:])\n",
    "        \n",
    "x, y = (dic['D'] - dic['A']), (dic['W'] - dic['S'])\n",
    "print('%d,%d' %(x, y))"
   ]
  },
  {
   "cell_type": "code",
   "execution_count": 5,
   "metadata": {},
   "outputs": [
    {
     "name": "stdout",
     "output_type": "stream",
     "text": [
      "<map object at 0x000002086FC76F20> ['Q', 'D', 'Q', 'W']\n",
      "123\n",
      "431\n",
      "Q\n",
      "D\n",
      "Q\n",
      "W\n"
     ]
    }
   ],
   "source": [
    "str1 = map(int, input().split())\n",
    "str2 = list(input())\n",
    "print(str1, str2)\n",
    "for i in str1:\n",
    "    print(i)\n",
    "for i in str2:\n",
    "    print(i)"
   ]
  },
  {
   "attachments": {},
   "cell_type": "markdown",
   "metadata": {},
   "source": [
    "ASCII码:\n",
    "\n",
    "65 ~ A 97 ~ a"
   ]
  },
  {
   "cell_type": "code",
   "execution_count": 6,
   "metadata": {},
   "outputs": [
    {
     "name": "stdout",
     "output_type": "stream",
     "text": [
      "1\n",
      "3\n",
      "4\n",
      "7\n"
     ]
    }
   ],
   "source": [
    "str_1 = list(input())\n",
    "for i, j in enumerate(str_1): #元组\n",
    "    if j.isalpha():\n",
    "        print(i)"
   ]
  },
  {
   "cell_type": "code",
   "execution_count": 7,
   "metadata": {},
   "outputs": [
    {
     "name": "stdout",
     "output_type": "stream",
     "text": [
      "12G2GU1\n"
     ]
    }
   ],
   "source": [
    "#字符串排序\n",
    "str_1 = input()\n",
    "not_alpha = [False] * len(str_1)\n",
    "alpha = []\n",
    "for i, j in enumerate(str_1):\n",
    "    if j.isalpha():\n",
    "        alpha.append(j)\n",
    "    else:\n",
    "        not_alpha[i] = j\n",
    "alpha.sort(key = lambda x:x.lower())\n",
    "for i, j in enumerate(not_alpha):\n",
    "    if not j:\n",
    "        not_alpha[i] = alpha[0]\n",
    "        alpha.pop(0)\n",
    "print(''.join(not_alpha))"
   ]
  },
  {
   "cell_type": "code",
   "execution_count": 8,
   "metadata": {},
   "outputs": [
    {
     "name": "stdout",
     "output_type": "stream",
     "text": [
      "(23, 'aksjhdwhwdkjasskssajqwh')\n"
     ]
    }
   ],
   "source": [
    "def longest_symmetric_substring(s):\n",
    "    # 初始化二维数组\n",
    "    n = len(s)\n",
    "    dp = [[False for _ in range(n)] for _ in range(n)] # n*n的二维数组\n",
    "\n",
    "    # 初始化最长对称子字符串长度和起始位置\n",
    "    max_len = 0\n",
    "    start = 0\n",
    "\n",
    "    # 遍历所有可能的子字符串长度\n",
    "    for k in range(1, n + 1):\n",
    "        # 遍历所有可能的子字符串起始位置\n",
    "        for i in range(n - k + 1):\n",
    "            # 计算结束位置\n",
    "            j = i + k - 1\n",
    "            # 检查是否对称\n",
    "            if s[i] == s[j] and (i + 1 >= j - 1 or dp[i + 1][j - 1]):\n",
    "                dp[i][j] = True\n",
    "            # 更新最长对称子字符串长度和起始位置\n",
    "            if k > max_len:\n",
    "                max_len = k\n",
    "                start = i\n",
    "    # 返回最长对称子字符串长度和内容（可选）\n",
    "    return max_len, s[start:start + max_len]\n",
    "s = input()\n",
    "print(longest_symmetric_substring(s))"
   ]
  },
  {
   "cell_type": "code",
   "execution_count": 9,
   "metadata": {},
   "outputs": [
    {
     "name": "stdout",
     "output_type": "stream",
     "text": [
      "5\n"
     ]
    }
   ],
   "source": [
    "#回文子字符串\n",
    "s = input()\n",
    "n = []\n",
    "for i in range(len(s)):\n",
    "    #分别考虑子字符串奇偶长度\n",
    "    for j in range(i, len(s)):\n",
    "        if s[i:j] == s[2*j-i:j:-1]:\n",
    "            n.append(2*int(j-i)+1)\n",
    "    for k in range(i, len(s)):\n",
    "        if s[i:k] == s[2*k-i-1:k-1:-1]:\n",
    "            n.append(2*int(k-i))\n",
    "print(max(n))"
   ]
  },
  {
   "cell_type": "code",
   "execution_count": 10,
   "metadata": {},
   "outputs": [
    {
     "name": "stdout",
     "output_type": "stream",
     "text": [
      "2072904205\n",
      "7.86.185.173\n"
     ]
    }
   ],
   "source": [
    "#整数与IP地址间的转换\n",
    "lis = input().split('.')\n",
    "for i in range(len(lis)):\n",
    "    lis[i] = bin(int(lis[i]))\n",
    "    lis[i] = lis[i][2:].rjust(8, '0')\n",
    "str_1 = ''.join(lis)\n",
    "str_2 = int(str_1, 2)\n",
    "\n",
    "str_3 = bin(int(input()))[2:]\n",
    "str_4 = str_3.rjust(32, '0')\n",
    "lis_1 = []\n",
    "for i in range(4):\n",
    "    st = str(int(str_4[8*i:8*i+8], 2))\n",
    "    lis_1.append(st)\n",
    "str_5 = '.'.join(lis_1)\n",
    "\n",
    "print(str_2)\n",
    "print(str_5)"
   ]
  },
  {
   "cell_type": "code",
   "execution_count": 11,
   "metadata": {},
   "outputs": [
    {
     "name": "stdout",
     "output_type": "stream",
     "text": [
      "1 3 6 10 15\n",
      "2 5 9 14\n",
      "4 8 13\n",
      "7 12\n",
      "11\n"
     ]
    }
   ],
   "source": [
    "#蛇形矩阵\n",
    "#数学计算出通项公式\n",
    "'''num = int(input())\n",
    "for i in range(num):\n",
    "    if i == 0:\n",
    "        res = [int((x+2)*(x+1)/2) for x in range(num)]\n",
    "    else:\n",
    "        res = [x - 1 for x in res[1:]]\n",
    "    print(' '.join(map(str, res)))'''\n",
    "#利用递归\n",
    "n = int(input())\n",
    "for i in range(n):\n",
    "    if i == 0:\n",
    "        lis = [0]*n\n",
    "        lis[0] = 1\n",
    "        j = 1 # 表示当前列数\n",
    "        while j < n:\n",
    "            lis[j] = lis[j-1]+j+1\n",
    "            j += 1\n",
    "        lis = list(map(int, lis))\n",
    "    else:\n",
    "        lis = [x - 1 for x in lis[1:]]\n",
    "    print(' '.join(map(str, lis)))"
   ]
  },
  {
   "cell_type": "code",
   "execution_count": 12,
   "metadata": {},
   "outputs": [
    {
     "name": "stdout",
     "output_type": "stream",
     "text": [
      "GBEM\n"
     ]
    }
   ],
   "source": [
    "#字符串加密\n",
    "str_1 = input()\n",
    "str_2 = ''\n",
    "alpha = 'abcdefghijklmnopqrstuvwxyz'\n",
    "for ele in str_1:\n",
    "    if ele not in str_2:\n",
    "        str_2 += ele\n",
    "for alpha_1 in alpha:\n",
    "    if alpha_1 not in str_2:\n",
    "        str_2 += alpha_1\n",
    "dic_1 = {}\n",
    "for i in range(26):\n",
    "    dic_1[alpha[i]] = str_2[i]\n",
    "str_3 = input()\n",
    "str_4 = ''\n",
    "for ele in str_3:\n",
    "    if ele in dic_1:\n",
    "        str_4 += dic_1[ele]\n",
    "    elif ele.isalpha == False:\n",
    "        str_4 += ele\n",
    "    else:\n",
    "        str_4 += dic_1[ele.lower()].upper()\n",
    "print(str_4)"
   ]
  },
  {
   "cell_type": "code",
   "execution_count": 13,
   "metadata": {},
   "outputs": [
    {
     "name": "stdout",
     "output_type": "stream",
     "text": [
      "21\n"
     ]
    }
   ],
   "source": [
    "def fn(n):\n",
    "    if n <= 1:\n",
    "        return (n, 0)\n",
    "    else:\n",
    "        (a, b) = fn(n-1)\n",
    "        return (a + b, a)\n",
    "k = int(input())\n",
    "lis = [0]*k\n",
    "for i in range(k):\n",
    "    lis[i] = fn(i)[0]\n",
    "lis_1 = [0]*k\n",
    "for i in range(len(lis)-1):\n",
    "    lis_1[i+1] = lis[i]\n",
    "lis_1[0] = 1\n",
    "lis_2 = [0]*k\n",
    "lis_2[0] = 0\n",
    "for i in range(len(lis_1)-1):\n",
    "    lis_2[i+1] = lis_1[i]\n",
    "lis_3 = lis_1.copy()\n",
    "lis_3[0] = 0\n",
    "lis_4 = [0]*k\n",
    "for i in range(k):\n",
    "    lis_4[i] = lis_1[i] + lis_2[i] + lis_3[i]\n",
    "print(lis_4[k-1])"
   ]
  },
  {
   "cell_type": "code",
   "execution_count": 14,
   "metadata": {},
   "outputs": [
    {
     "name": "stdout",
     "output_type": "stream",
     "text": [
      "[0, 2, 3, 4]\n"
     ]
    }
   ],
   "source": [
    "list_1 = [1,2,3,4]\n",
    "list_2 = list_1\n",
    "list_2[0] = 0\n",
    "print(list_1)"
   ]
  },
  {
   "cell_type": "code",
   "execution_count": 15,
   "metadata": {},
   "outputs": [
    {
     "name": "stdout",
     "output_type": "stream",
     "text": [
      "17.25\n",
      "0.1875\n"
     ]
    }
   ],
   "source": [
    "num = int(input())\n",
    "list_1 = [num*((1/2)**i) for i in range(5)]\n",
    "list_2 = [num*((1/2)**(i+1)) for i in range(5)]\n",
    "s = 0\n",
    "for i in range(5):\n",
    "    s += list_1[i]\n",
    "for i in range(4):\n",
    "    s += list_2[i]\n",
    "print(s)\n",
    "print(list_2[4])"
   ]
  },
  {
   "cell_type": "code",
   "execution_count": 16,
   "metadata": {},
   "outputs": [
    {
     "name": "stdout",
     "output_type": "stream",
     "text": [
      "2\n"
     ]
    }
   ],
   "source": [
    "#判断ip相同\n",
    "while True:\n",
    "    try:\n",
    "        str_1 = list(map(int, input().split('.'))) #子网\n",
    "        str_2 = list(map(int, input().split('.'))) #ip1\n",
    "        str_3 = list(map(int, input().split('.'))) #ip2\n",
    "        judge = True\n",
    "        for i in range(len(str_1)):\n",
    "            if str_1[i] not in range(256) or str_2[i] not in range(256) or str_3[i] not in range(256):\n",
    "                judge = False\n",
    "                break\n",
    "            if i < len(str_1)-1 and str_1[i] < str_1[i+1]:\n",
    "                judge = False\n",
    "                break\n",
    "        s1 = []\n",
    "        s2 = []\n",
    "        if judge:\n",
    "            for i in range(len(str_1)):\n",
    "                s1.append(str_1[i] & str_2[i])\n",
    "                s2.append(str_1[i] & str_3[i])\n",
    "            if s1 == s2:\n",
    "                print(0)\n",
    "            else:\n",
    "                print(2)\n",
    "        else:\n",
    "            print(1)\n",
    "    except:\n",
    "        break"
   ]
  },
  {
   "cell_type": "code",
   "execution_count": 17,
   "metadata": {},
   "outputs": [
    {
     "name": "stdout",
     "output_type": "stream",
     "text": [
      "sixty five  \n"
     ]
    }
   ],
   "source": [
    "#数字转换英文\n",
    "num_dict = {0: \"zero\", 1: \"one\", 2: \"two\", 3: \"three\", 4: \"four\", 5: \"five\", 6: \"six\", 7: \"seven\", 8: \"eight\",9: \"nine\", \n",
    "10: \"ten\", 11: \"eleven\", 12: \"twelve\", 13: \"thirteen\", 14: \"fourteen\",15: \"fifteen\",16:\"sixteen\",17:\"seventeen\",18:\"eighteen\",19:\"nineteen\"}\n",
    "ten_dict = {20:\"twenty\",30:\"thirty\",40:\"forty\",50:\"fifty\",60:\"sixty\",70:\"seventy\",80:\"eighty\",90:\"ninety\"}\n",
    "unit_list = [\"\",\"thousand\",\"million\",\"billion\"]\n",
    "\n",
    "def convert(num):\n",
    "    if num >= 0 and num < 20:\n",
    "        return num_dict[num]\n",
    "    elif num >= 20 and num < 100:\n",
    "        ten = (num // 10) * 10\n",
    "        one = num % 10\n",
    "        if one == 0:\n",
    "            return ten_dict[ten]\n",
    "        else:\n",
    "            return ten_dict[ten] + ' ' + num_dict[one]\n",
    "    else:\n",
    "        hundred = num // 100\n",
    "        rest = num % 100\n",
    "        if rest == 0:\n",
    "            return num_dict[hundred] + ' hundred'\n",
    "        else:\n",
    "            return num_dict[hundred] + ' hundred and ' + convert(rest)\n",
    "\n",
    "def translate(num):\n",
    "    result = ''\n",
    "    i = 0\n",
    "    while num > 0:\n",
    "        part = num % 1000\n",
    "        if part != 0:\n",
    "            result = convert(part) + ' ' + unit_list[i] + ' '+ result\n",
    "        i += 1\n",
    "        num //= 1000\n",
    "    return(result)\n",
    "\n",
    "num = int(input())\n",
    "print(translate(num))"
   ]
  },
  {
   "cell_type": "code",
   "execution_count": 18,
   "metadata": {},
   "outputs": [
    {
     "data": {
      "text/plain": [
       "\"\\n#BFS\\n# 0, 1, 0, 0, 0\\n# 0, 1, 1, 1, 0\\n# 0, 0, 0, 0, 0\\n# 0, 1, 1, 1, 0\\n# 0, 0, 0, 1, 0\\n\\nm, n = list(map(int, input().split()))\\nmaze = []\\nfor i in range(m):\\n    maze.append(list(map(int, input().split())))\\ndirections = [(0, -1), (0, 1), (-1, 0), (1, 0)]\\n\\ndef BFS(maze, m, n):\\n    visited = [[False for j in range(n)] for i in range(m)]\\n    queue = []\\n    queue.append((0, 0, 1))\\n    visited[0][0] = True\\n    while queue:\\n        x, y, distance = queue.pop(0)\\n        if x == m-1 and y == n-1:\\n            printPath(maze, visited)\\n    for dx, dy in directions:\\n        i = x + dx\\n        j = y + dy\\n        if i >= 0 and i <= m and j >= 0 and j <= n and maze[i][j] == 0 and not visited[i][j]:\\n            queue.append((i, j, distance+1))\\n            visited[i][j] = True\\n        else:\\n            print('No solution')\\n            return -1\\n\\ndef printPath():\\n    path = []\\n    i = len(maze)-1\\n    j = len(maze[0])-1\\n    path.append((i, j))\\n    while i != 0 and j != 0:\\n        for dx, dy in directions:\\n            x = i + dx\\n            y = j + dy\\n        if x >= 0 and x < len(maze) and y >= 0 and y < len(maze[0]) and visited[x][y]:\\n            i = x\\n            j = y\\n        path.append((i, j))\\n        break\\n    path.reverse()\\n    for i, j in path:\\n        print(f'({i}, {j})')\\n\\nBFS(maze, m, n)\\n\""
      ]
     },
     "execution_count": 18,
     "metadata": {},
     "output_type": "execute_result"
    }
   ],
   "source": [
    "'''\n",
    "#BFS\n",
    "# 0, 1, 0, 0, 0\n",
    "# 0, 1, 1, 1, 0\n",
    "# 0, 0, 0, 0, 0\n",
    "# 0, 1, 1, 1, 0\n",
    "# 0, 0, 0, 1, 0\n",
    "\n",
    "m, n = list(map(int, input().split()))\n",
    "maze = []\n",
    "for i in range(m):\n",
    "    maze.append(list(map(int, input().split())))\n",
    "directions = [(0, -1), (0, 1), (-1, 0), (1, 0)]\n",
    "\n",
    "def BFS(maze, m, n):\n",
    "    visited = [[False for j in range(n)] for i in range(m)]\n",
    "    queue = []\n",
    "    queue.append((0, 0, 1))\n",
    "    visited[0][0] = True\n",
    "    while queue:\n",
    "        x, y, distance = queue.pop(0)\n",
    "        if x == m-1 and y == n-1:\n",
    "            printPath(maze, visited)\n",
    "    for dx, dy in directions:\n",
    "        i = x + dx\n",
    "        j = y + dy\n",
    "        if i >= 0 and i <= m and j >= 0 and j <= n and maze[i][j] == 0 and not visited[i][j]:\n",
    "            queue.append((i, j, distance+1))\n",
    "            visited[i][j] = True\n",
    "        else:\n",
    "            print('No solution')\n",
    "            return -1\n",
    "\n",
    "def printPath():\n",
    "    path = []\n",
    "    i = len(maze)-1\n",
    "    j = len(maze[0])-1\n",
    "    path.append((i, j))\n",
    "    while i != 0 and j != 0:\n",
    "        for dx, dy in directions:\n",
    "            x = i + dx\n",
    "            y = j + dy\n",
    "        if x >= 0 and x < len(maze) and y >= 0 and y < len(maze[0]) and visited[x][y]:\n",
    "            i = x\n",
    "            j = y\n",
    "        path.append((i, j))\n",
    "        break\n",
    "    path.reverse()\n",
    "    for i, j in path:\n",
    "        print(f'({i}, {j})')\n",
    "\n",
    "BFS(maze, m, n)\n",
    "'''"
   ]
  },
  {
   "cell_type": "code",
   "execution_count": 19,
   "metadata": {},
   "outputs": [
    {
     "name": "stdout",
     "output_type": "stream",
     "text": [
      "[[False, False, False], [False, False, False], [False, False, False], [False, False, False]]\n"
     ]
    }
   ],
   "source": [
    "lis = [[False for j in range(3)] for i in range(4)]\n",
    "print(lis)"
   ]
  },
  {
   "cell_type": "code",
   "execution_count": 20,
   "metadata": {},
   "outputs": [
    {
     "name": "stdout",
     "output_type": "stream",
     "text": [
      "3 5 [[2], [3], [4]]\n"
     ]
    }
   ],
   "source": [
    "m, n = list(map(int, input().split()))\n",
    "maze = []\n",
    "for i in range(m):\n",
    "    row = list(map(int, input().split()))\n",
    "    maze.append(row)\n",
    "print(m, n, maze)"
   ]
  },
  {
   "cell_type": "code",
   "execution_count": 21,
   "metadata": {},
   "outputs": [
    {
     "data": {
      "text/plain": [
       "\"\\n#BFS\\n# 0, 1, 0, 0, 0\\n# 0, 1, 1, 1, 0\\n# 0, 0, 0, 0, 0\\n# 0, 1, 1, 1, 0\\n# 0, 0, 0, 1, 0\\n\\nm, n = list(map(int, input().split()))\\nmaze = []\\nfor i in range(m):\\n    maze.append(list(map(int, input().split())))\\n\\ndef BFS(maze, x1, y1, x2, y2):\\n    directions = [(1, 0), (-1, 0), (0, 1), (0, -1)]\\n    queue = [(x1, y1, -1)]\\n    path = []\\n    while queue:\\n        path.append(queue.pop(0))\\n        current = (path[-1][0], path[-1][1])\\n        if current == (x2, y2):\\n            result = [(path[-1][0], path[-1][1])]\\n            loc = path[-1][2]\\n            while loc != -1:\\n                result.append((path[loc][0], path[loc][1]))\\n                loc = path[-1][2]\\n            return result\\n        for d in directions:\\n            pox = current[0] + d[0]\\n            poy = current[1] + d[1]\\n            if 0 <= pox < len(maze) and 0 <= poy < len(maze[0]) and maze[pox][poy] == 0:\\n                maze[pox][poy] = 2\\n                queue.append((pox, poy, len(path)-1))\\n\\nresult = BFS(maze, 0, 0, m-1, n-1)[::-1]\\nfor i in result:\\n    print(f'({i[0]}, {i[1]})')\\n\""
      ]
     },
     "execution_count": 21,
     "metadata": {},
     "output_type": "execute_result"
    }
   ],
   "source": [
    "'''\n",
    "#BFS\n",
    "# 0, 1, 0, 0, 0\n",
    "# 0, 1, 1, 1, 0\n",
    "# 0, 0, 0, 0, 0\n",
    "# 0, 1, 1, 1, 0\n",
    "# 0, 0, 0, 1, 0\n",
    "\n",
    "m, n = list(map(int, input().split()))\n",
    "maze = []\n",
    "for i in range(m):\n",
    "    maze.append(list(map(int, input().split())))\n",
    "\n",
    "def BFS(maze, x1, y1, x2, y2):\n",
    "    directions = [(1, 0), (-1, 0), (0, 1), (0, -1)]\n",
    "    queue = [(x1, y1, -1)]\n",
    "    path = []\n",
    "    while queue:\n",
    "        path.append(queue.pop(0))\n",
    "        current = (path[-1][0], path[-1][1])\n",
    "        if current == (x2, y2):\n",
    "            result = [(path[-1][0], path[-1][1])]\n",
    "            loc = path[-1][2]\n",
    "            while loc != -1:\n",
    "                result.append((path[loc][0], path[loc][1]))\n",
    "                loc = path[-1][2]\n",
    "            return result\n",
    "        for d in directions:\n",
    "            pox = current[0] + d[0]\n",
    "            poy = current[1] + d[1]\n",
    "            if 0 <= pox < len(maze) and 0 <= poy < len(maze[0]) and maze[pox][poy] == 0:\n",
    "                maze[pox][poy] = 2\n",
    "                queue.append((pox, poy, len(path)-1))\n",
    "\n",
    "result = BFS(maze, 0, 0, m-1, n-1)[::-1]\n",
    "for i in result:\n",
    "    print(f'({i[0]}, {i[1]})')\n",
    "'''"
   ]
  },
  {
   "cell_type": "code",
   "execution_count": 22,
   "metadata": {},
   "outputs": [
    {
     "name": "stdout",
     "output_type": "stream",
     "text": [
      "(1, 2)\n"
     ]
    }
   ],
   "source": [
    "queue = [(1, 2, 3)]\n",
    "path = []\n",
    "path.append(queue.pop(0))\n",
    "cur = (path[-1][0], path[-1][1])\n",
    "print(cur)"
   ]
  },
  {
   "cell_type": "code",
   "execution_count": 23,
   "metadata": {},
   "outputs": [],
   "source": [
    "#BFS\n",
    "# 0, 1, 0, 0, 0\n",
    "# 0, 1, 1, 1, 0\n",
    "# 0, 0, 0, 0, 0\n",
    "# 0, 1, 1, 1, 0\n",
    "# 0, 0, 0, 1, 0\n",
    "\n",
    "def bfs(maze,x1,y1,x2,y2):\n",
    "    directions = [(1,0),(-1,0),(0,1),(0,-1)]\n",
    "    queue = [(x1,y1,-1)]\n",
    "    path = []\n",
    "    while queue:\n",
    "        path.append(queue.pop(0))\n",
    "        cur = (path[-1][0],path[-1][1])\n",
    "        if cur == (x2,y2):\n",
    "            res = [(path[-1][0],path[-1][1])]\n",
    "            loc = path[-1][2]\n",
    "            while loc != -1:\n",
    "                res.append((path[loc][0],path[loc][1]))\n",
    "                loc = path[loc][2]\n",
    "            return res\n",
    "        for d in directions:\n",
    "            pox = cur[0]+d[0]\n",
    "            poy = cur[1]+d[1]\n",
    "            if 0 <= pox < len(maze) and 0 <= poy < len(maze[0]) and maze[pox][poy] == 0:\n",
    "                maze[pox][poy] = 2\n",
    "                queue.append((pox,poy,len(path)-1))\n",
    "while True:\n",
    "    try:\n",
    "        m,n = list(map(int, input().split()))\n",
    "        maze = []\n",
    "        for i in range(m):\n",
    "            maze.append(list(map(int, input().split())))\n",
    "        res = bfs(maze, 0, 0, m-1, n-1)[::-1]\n",
    "        for i in res:\n",
    "            print('(%d,%d)'%(i[0],i[1]))\n",
    "    except:\n",
    "        break"
   ]
  },
  {
   "cell_type": "code",
   "execution_count": 24,
   "metadata": {},
   "outputs": [],
   "source": [
    "#BFS\n",
    "# 0, 1, 0, 0, 0\n",
    "# 0, 1, 1, 1, 0\n",
    "# 0, 0, 0, 0, 0\n",
    "# 0, 1, 1, 1, 0\n",
    "# 0, 0, 0, 1, 0\n",
    "\n",
    "def findpath(x, y, path):\n",
    "    if x == m-1 and y == n-1:\n",
    "        for l in path:\n",
    "            print(f'({l[0]},{l[1]})')\n",
    "    if x+1 <= m-1 and (x+1, y) not in path and maze[x+1][y] == 0:\n",
    "        findpath(x+1, y, path+[(x+1, y)])\n",
    "    if y+1 <= n-1 and (x, y+1) not in path and maze[x][y+1] == 0:\n",
    "        findpath(x, y+1, path+[(x, y+1)])\n",
    "    if x-1 >= 0 and (x-1, y) not in path and maze[x-1][y] == 0:\n",
    "        findpath(x-1, y, path+[(x-1, y)])\n",
    "    if y-1 >= 0 and (x, y-1) not in path and maze[x][y-1] == 0:\n",
    "        findpath(x, y-1, path+[(x, y-1)])\n",
    "while True:\n",
    "    try:\n",
    "        m, n = map(int, input().split())\n",
    "        maze = []\n",
    "        for i in range(m):\n",
    "            maze.append(list(map(int, input().split())))\n",
    "        findpath(0, 0, [(0, 0)])\n",
    "    except:\n",
    "        break"
   ]
  },
  {
   "cell_type": "code",
   "execution_count": 25,
   "metadata": {},
   "outputs": [],
   "source": [
    "#Sudoku\n",
    "def check(board, x, y):\n",
    "    for i in range(9): #检查列\n",
    "        if i != x and board[i][y] == board[x][y]:\n",
    "            return False\n",
    "    for j in range(9): #检查行\n",
    "        if j != y and board[x][j] == board[x][y]:\n",
    "            return False\n",
    "    m, n = (x//3)*3, (y//3)*3 #小方块左上角坐标\n",
    "    for i in range(3):\n",
    "        for j in range(3):\n",
    "            if (i+m != x or j+n != y) and board[i+m][j+n] == board[x][y]:\n",
    "                return False\n",
    "    return True\n",
    "\n",
    "def DFS(board):\n",
    "    for i in range(9):\n",
    "        for j in range(9):\n",
    "            if board[i][j] == 0:\n",
    "                for k in '123456789':\n",
    "                    board[i][j] = int(k)\n",
    "                    if check(board, i, j) and DFS(board):\n",
    "                        return True\n",
    "                    board[i][j] = 0\n",
    "                return False\n",
    "    return True\n",
    "\n",
    "while True:\n",
    "    try:\n",
    "        board = []\n",
    "        for i in range(9):\n",
    "            board.append(list(map(int, input().split())))\n",
    "        DFS(board)\n",
    "        for i in range(9):\n",
    "            board[i] = list(map(str, board[i]))\n",
    "            print(' '.join(board[i]))\n",
    "    except:\n",
    "        break"
   ]
  },
  {
   "cell_type": "code",
   "execution_count": 27,
   "metadata": {},
   "outputs": [
    {
     "name": "stdout",
     "output_type": "stream",
     "text": [
      "101\n",
      "75\n"
     ]
    }
   ],
   "source": [
    "#漂亮度\n",
    "num = int(input())\n",
    "for i in range(num):\n",
    "    s = input()\n",
    "    l = []\n",
    "    for ele in set(s):\n",
    "        l.append(s.count(ele))\n",
    "    l = sorted(l, reverse= True)\n",
    "    score = 0\n",
    "    for i in range(len(l)):\n",
    "        score += l[i]*(26-i)\n",
    "    print(score)"
   ]
  },
  {
   "cell_type": "code",
   "execution_count": 30,
   "metadata": {},
   "outputs": [
    {
     "name": "stdout",
     "output_type": "stream",
     "text": [
      "\n"
     ]
    }
   ],
   "source": [
    "#单链表\n",
    "str_1 = list(map(int, input().split()))\n",
    "link = []\n",
    "link.append(str_1[1])\n",
    "for i in range(1, str_1[0]):\n",
    "    link.insert(link.index(str_1[2*i+1])+1, str_1[2*i])\n",
    "link.remove(str_1[-1])\n",
    "print(' '.join(map(str, link)))"
   ]
  },
  {
   "cell_type": "code",
   "execution_count": 31,
   "metadata": {},
   "outputs": [
    {
     "name": "stdout",
     "output_type": "stream",
     "text": [
      "['2', '3', '4']\n"
     ]
    }
   ],
   "source": [
    "num = int(input())\n",
    "list_1 = []\n",
    "for i in range(num):\n",
    "    list_1.append(input())\n",
    "print(list_1)"
   ]
  },
  {
   "cell_type": "code",
   "execution_count": 32,
   "metadata": {},
   "outputs": [
    {
     "name": "stdout",
     "output_type": "stream",
     "text": [
      "[0, 1, 2, 3, 4, 5, 6, 7, 8]\n",
      "[0, 1, 2, 3, 4, 5, 6, 7, 8]\n"
     ]
    }
   ],
   "source": [
    "lis = list(range(9))\n",
    "print(lis)\n",
    "print(lis[::])"
   ]
  }
 ],
 "metadata": {
  "kernelspec": {
   "display_name": "base",
   "language": "python",
   "name": "python3"
  },
  "language_info": {
   "codemirror_mode": {
    "name": "ipython",
    "version": 3
   },
   "file_extension": ".py",
   "mimetype": "text/x-python",
   "name": "python",
   "nbconvert_exporter": "python",
   "pygments_lexer": "ipython3",
   "version": "3.11.3"
  },
  "orig_nbformat": 4
 },
 "nbformat": 4,
 "nbformat_minor": 2
}
