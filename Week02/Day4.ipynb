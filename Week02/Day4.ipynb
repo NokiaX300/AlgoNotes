{
 "cells": [
  {
   "cell_type": "code",
   "execution_count": 1,
   "metadata": {},
   "outputs": [
    {
     "name": "stdout",
     "output_type": "stream",
     "text": [
      "5\n"
     ]
    }
   ],
   "source": [
    "print(int('0x5', 16))"
   ]
  },
  {
   "cell_type": "code",
   "execution_count": 2,
   "metadata": {},
   "outputs": [],
   "source": [
    "#扑克牌比较大小\n",
    "\n",
    "dic = {'3':1, '4':2, '5':3, '6':4, '7':5, '8':6, '9':7, '10':8, 'J':9, 'Q':10, 'K':11, 'A':12, '2':13, 'joker':14, 'JOKER':15}\n",
    "def boom(s):\n",
    "    if len(s) == 4 and len(set(s)) == 1:\n",
    "        return True\n",
    "    else:\n",
    "        return False\n",
    "while True:\n",
    "    try:\n",
    "        str_1 = input().split('-')\n",
    "        s1 = str_1[0].split(' ')\n",
    "        s2 = str_1[1].split(' ')\n",
    "        if len(s1) == len(s2):\n",
    "            if dic[s1[0]] > dic[s2[0]]:\n",
    "                print(' '.join(s1))\n",
    "            else:\n",
    "                print(' '.join(s2))\n",
    "        else:\n",
    "            if 'joker JOKER' in str_1:\n",
    "                print('joker JOKER')\n",
    "            elif boom(s2):\n",
    "                print(' '.join(s2))\n",
    "            elif boom(s1):\n",
    "                print(' '.join(s1))\n",
    "            else:\n",
    "                print('ERROR')\n",
    "    except:\n",
    "        break"
   ]
  },
  {
   "cell_type": "code",
   "execution_count": 5,
   "metadata": {},
   "outputs": [
    {
     "name": "stdout",
     "output_type": "stream",
     "text": [
      "ERROR\n"
     ]
    }
   ],
   "source": [
    "#扑克24点\n",
    "dic = {'3':3, '4':4, '5':5, '6':6, '7':7, '8':8, '9':9, '10':10, 'J':11, 'Q':12, 'K':13, 'A':1, '2':2}\n",
    "L = []\n",
    "def DFS(lis, res, out):\n",
    "    if len(lis) == 1:\n",
    "        if lis[0] == res:\n",
    "            L.append(str(lis[0])+out)\n",
    "    else:\n",
    "        for i in range(len(lis)):\n",
    "            k = lis[i]\n",
    "            rest = lis[:i]+lis[i+1:]\n",
    "            DFS(rest, res+k, '-'+str(k)+out)\n",
    "            DFS(rest, res-k, '+'+str(k)+out)\n",
    "            DFS(rest, res*k, '/'+str(k)+out)\n",
    "            DFS(rest, res/k, '*'+str(k)+out)\n",
    "s = list(input().split())\n",
    "if 'joker' in s or 'JOKER' in s:\n",
    "    print('ERROR')\n",
    "else:\n",
    "    for i in range(len(s)):\n",
    "        s[i] = dic[s[i]]\n",
    "    DFS(s, 24, '')\n",
    "    if L:\n",
    "        import re\n",
    "        P = re.split('\\+|-|\\*|/', L[0])\n",
    "        Q = []\n",
    "        for ele in L[0]:\n",
    "            if not ele.isdecimal():\n",
    "                Q.append(ele)\n",
    "        for i in range(len(P)):\n",
    "            if P[i] == '11':\n",
    "                P[i] = 'J'\n",
    "            elif P[i] == '12':\n",
    "                P[i] = 'Q'\n",
    "            elif P[i] == '13':\n",
    "                P[i] = 'K'\n",
    "            elif P[i] == '1':\n",
    "                P[i] = 'A'\n",
    "        print(P[0], Q[0], P[1], Q[1], P[2], Q[2], P[3], sep = '')\n",
    "    else:\n",
    "        print('NONE')"
   ]
  },
  {
   "cell_type": "code",
   "execution_count": 6,
   "metadata": {},
   "outputs": [
    {
     "name": "stdout",
     "output_type": "stream",
     "text": [
      "YES\n"
     ]
    }
   ],
   "source": [
    "#ip合法\n",
    "str_1 = input().split('.')\n",
    "p = 1\n",
    "if len(str_1) != 4:\n",
    "    p = 0\n",
    "for i in range(len(str_1)):\n",
    "    if not str_1[i].isdigit():\n",
    "        p = 0\n",
    "        break\n",
    "    else:\n",
    "        if not 0 <= int(str_1[i]) <= 255 or (str_1[i][0] == '0' and str_1[i] != '0'):\n",
    "            p = 0\n",
    "            break\n",
    "if p == 1:\n",
    "    print('YES')\n",
    "else:\n",
    "    print('NO')"
   ]
  },
  {
   "cell_type": "code",
   "execution_count": 7,
   "metadata": {},
   "outputs": [
    {
     "name": "stdout",
     "output_type": "stream",
     "text": [
      "35\n"
     ]
    }
   ],
   "source": [
    "#走方格\n",
    "def cube(n, m):\n",
    "    if n<0 or m<0:\n",
    "        return 0\n",
    "    elif n == 0 or m == 0:\n",
    "        return 1\n",
    "    else:\n",
    "        return cube(n-1, m) + cube(n, m-1)\n",
    "n, m = map(int, input().split())\n",
    "print(cube(n, m))"
   ]
  },
  {
   "cell_type": "code",
   "execution_count": 8,
   "metadata": {},
   "outputs": [
    {
     "name": "stdout",
     "output_type": "stream",
     "text": [
      "6788,4\n"
     ]
    }
   ],
   "source": [
    "#在字符串中找出连续最长的数字串\n",
    "str_0 = input()\n",
    "def num(str_1):\n",
    "    max = 0\n",
    "    for i in range(len(str_1)):\n",
    "        for j in range(i+1, len(str_1)):\n",
    "            if str_1[i:j+1].isdigit() and j-i+1>max:\n",
    "                max = j-i+1\n",
    "    return max\n",
    "def find_max(str_2):\n",
    "    a = num(str_2)\n",
    "    s = ''\n",
    "    for i in range(len(str_2)-a+1):\n",
    "        if str_2[i:i+a].isdigit():\n",
    "            s += str_2[i:i+a]\n",
    "    return s\n",
    "print(find_max(str_0), ',', num(str_0), sep = '')"
   ]
  },
  {
   "cell_type": "code",
   "execution_count": 10,
   "metadata": {},
   "outputs": [
    {
     "name": "stdout",
     "output_type": "stream",
     "text": [
      "false\n"
     ]
    }
   ],
   "source": [
    "#数组分组\n",
    "n = int(input())\n",
    "lis = list(map(int, input().split()))\n",
    "l1 = []\n",
    "l2 = []\n",
    "l3 = []\n",
    "for i in range(len(lis)):\n",
    "    if lis[i]%5 == 0:\n",
    "        l1.append(lis[i])\n",
    "    elif lis[i]%3 == 0:\n",
    "        l2.append(lis[i])\n",
    "    else:\n",
    "        l3.append(lis[i])\n",
    "l3 = list(map(abs, l3))\n",
    "a = abs(sum(l1)-sum(l2))\n",
    "\n",
    "def check(p, lis_0):\n",
    "    lis_0.append(p)\n",
    "    lis_0 = sorted(lis_0, reverse = True)\n",
    "    s = 0\n",
    "    for i in range(len(lis_0)):\n",
    "        if s >= 0:\n",
    "            s -= lis_0[i]\n",
    "        else:\n",
    "            s += lis_0[i]\n",
    "    if s == 0:\n",
    "        return True\n",
    "    else:\n",
    "        return False\n",
    "\n",
    "if check(a, l3):\n",
    "    print('true')\n",
    "else:\n",
    "    print('false')"
   ]
  },
  {
   "cell_type": "code",
   "execution_count": null,
   "metadata": {},
   "outputs": [],
   "source": [
    "#计票\n",
    "n = int(input())\n",
    "lis_0 = input().split()\n",
    "dic = {}\n",
    "for i in range(n):\n",
    "    dic[lis_0[i]] = 0\n",
    "m = int(input())\n",
    "lis_1 = input().split()\n",
    "s = 0\n",
    "for i in range(m):\n",
    "    if lis_1[i] in lis_0:\n",
    "        dic[lis_1[i]] = dic.get(lis_1[i]) + 1\n",
    "    else:\n",
    "        s += 1\n",
    "for i, j in dic.items():\n",
    "    print(i + ' : ' + str(j))\n",
    "print('Invalid :', s)"
   ]
  },
  {
   "cell_type": "code",
   "execution_count": 12,
   "metadata": {},
   "outputs": [
    {
     "name": "stdout",
     "output_type": "stream",
     "text": [
      "*12*hgh*31*jhg*312*\n"
     ]
    }
   ],
   "source": [
    "#所有的整数前后加上符号*\n",
    "str_1 = input()\n",
    "lis = []\n",
    "trigger = False\n",
    "for i in range(len(str_1)):\n",
    "    if str_1[i].isdigit() and trigger == False:\n",
    "        lis.append('*')\n",
    "        lis.append(str_1[i])\n",
    "        trigger = True\n",
    "    elif str_1[i].isdigit() and trigger == True:\n",
    "        lis.append(str_1[i])\n",
    "    elif not str_1[i].isdigit() and trigger == True:\n",
    "        lis.append('*')\n",
    "        lis.append(str_1[i])\n",
    "        trigger = False\n",
    "    elif not str_1[i].isdigit() and trigger == False:\n",
    "        lis.append(str_1[i])\n",
    "if lis[-1].isdigit():\n",
    "    lis.append('*')\n",
    "print(''.join(lis))"
   ]
  },
  {
   "cell_type": "code",
   "execution_count": null,
   "metadata": {},
   "outputs": [],
   "source": [
    "money, k = list(map(int, input().split()))\n",
    "dp = 0\n",
    "n = 0\n",
    "dic = {}\n",
    "listf = []\n",
    "listcdp = []\n",
    "for i in range(1, k+1):\n",
    "    v,p,q = list(map(int, input().split()))\n",
    "    if q == 0:\n",
    "        dic[(v,p,i)] = []\n",
    "        listcdp.append([[0,0,0]])\n",
    "        n += 1\n",
    "    else:\n",
    "        listf.append([v,p,q])\n",
    "for key in dic:\n",
    "    for listf1 in listf:\n",
    "        if listf1[2] == key[2]:\n",
    "            dic[key].append([listf1[0],listf1[1]])\n",
    "\n",
    "def main(dp,key,m):\n",
    "    cost = 0\n",
    "    number = 0\n",
    "    number += 1\n",
    "    cost += key[0]\n",
    "    dp += key[0] * key[1]\n",
    "    if cost <= money and number <= k:\n",
    "        listcdp[m].append([cost,number,dp])\n",
    "        minor1(cost,dp,key,m,number)\n",
    "        if len(dic[key]) == 2:\n",
    "            minor2(cost,dp,key,m,number)\n",
    "\n",
    "def minor1(cost,dp,key,m,number):\n",
    "    for list1 in dic[key]:\n",
    "        number += 1\n",
    "        cost += list1[0]\n",
    "        dp += list1[0] * list1[1]\n",
    "        if cost <= money and number <= k:\n",
    "            listcdp[m].append([cost,number,dp])\n",
    "\n",
    "def minor2(cost,dp,key,m,number):\n",
    "    number += 1\n",
    "    cost += dic[key][1][0]\n",
    "    dp += dic[key][1][0] * dic[key][1][1]\n",
    "    if cost <= money and number <= k:\n",
    "        listcdp[m].append([cost,number,dp])\n",
    "\n",
    "m = 0 \n",
    "for key in dic:\n",
    "    main(dp,key,m)\n",
    "    m += 1\n",
    "dp_sum = 0\n",
    "cost_sum = 0\n",
    "number_sum = 0\n",
    "i = 0\n",
    "list_dp = []\n",
    "\n",
    "def cycle(cost_sum,number_sum,dp_sum,i):\n",
    "    for list in listcdp[i]:\n",
    "        cost_sum += list[0]\n",
    "        number_sum += list[1]\n",
    "        dp_sum += list[2]\n",
    "        i += 1\n",
    "        if i < n:\n",
    "            cycle(cost_sum,number_sum,dp_sum,i)\n",
    "        else:\n",
    "            if cost_sum <= money and number_sum <= k:\n",
    "                list_dp.append(dp_sum)\n",
    "        i -= 1\n",
    "        cost_sum -= list[0]\n",
    "        number_sum -= list[1]\n",
    "        dp_sum -= list[2]\n",
    "cycle(cost_sum,number_sum,dp_sum,i)\n",
    "print(max(list_dp))"
   ]
  },
  {
   "attachments": {},
   "cell_type": "markdown",
   "metadata": {},
   "source": [
    "01背包专题\n",
    "\n",
    "状态转移方程：dp[i][j] = max(dp[i-1][j], dp[i-1][j-w[i]] + v[i])"
   ]
  },
  {
   "cell_type": "code",
   "execution_count": null,
   "metadata": {},
   "outputs": [],
   "source": [
    "#二维数组\n",
    "dp = [[0]*(n+1) for _ in range(m+1)] #只需初始化第一行第一列\n",
    "for i in range(1, m+1):\n",
    "    for j in range(1, n+1):\n",
    "        if w[i] <= j:\n",
    "            dp[i][j] = max(dp[i-1][j], dp[i-1][j-w[i]] + v[i])\n",
    "        else:\n",
    "            dp[i][j] = dp[i-1][j] #放不进去（包括了单纯不放的情况）"
   ]
  },
  {
   "cell_type": "code",
   "execution_count": null,
   "metadata": {},
   "outputs": [],
   "source": [
    "#一维数组\n",
    "dp = [0]*(weight+1)\n",
    "for i in range(len(w)):\n",
    "    for j in range(weight, w[i]-1, -1):\n",
    "        dp[j] = max(dp[j], dp[j-w[i]] + v[i])"
   ]
  },
  {
   "cell_type": "code",
   "execution_count": null,
   "metadata": {},
   "outputs": [],
   "source": [
    "#购物单\n",
    "money,length = map(int,input().split())\n",
    "money //= 10\n",
    "goods = dict()\n",
    "for i in range(1,length+1):\n",
    "    v,p,q = map(int, input().split())\n",
    "    v //= 10\n",
    "    if q == 0:\n",
    "        if i not in goods.keys():\n",
    "            goods[i] = [[v, v*p], [0, 0], [0, 0]]\n",
    "        else:\n",
    "            goods[i][0] = [v, v*p]\n",
    "    else:\n",
    "        if q not in goods.keys():\n",
    "            goods[q] = [[0, 0], [v, v*p], [0, 0]]\n",
    "        elif goods[q][1] == [0, 0]:\n",
    "            goods[q][1] = [v, v*p]\n",
    "        else:\n",
    "            goods[q][2] = [v, v*p]\n",
    "dp = [0]*(money+1)\n",
    "for k,v in goods.items():\n",
    "    for j in range(money ,v[0][0]-1 ,-1):\n",
    "        dp[j] = max(dp[j],dp[j-v[0][0]] + v[0][1])\n",
    "        if j >= v[0][0]+v[1][0]:\n",
    "            dp[j] = max(dp[j],dp[j-v[0][0]-v[1][0]] + v[0][1]+v[1][1])\n",
    "        if j >= v[0][0]+v[2][0]:\n",
    "            dp[j] = max(dp[j],dp[j-v[0][0]-v[2][0]] + v[0][1]+v[2][1])\n",
    "        if j >= v[0][0]+v[1][0]+v[2][0]:\n",
    "            dp[j] = max(dp[j],dp[j-v[0][0]-v[1][0]-v[2][0]] + v[0][1]+v[1][1]+v[2][1])\n",
    "print(dp[money] * 10)"
   ]
  },
  {
   "cell_type": "code",
   "execution_count": 14,
   "metadata": {},
   "outputs": [
    {
     "name": "stdout",
     "output_type": "stream",
     "text": [
      "0\n"
     ]
    }
   ],
   "source": [
    "n = int(input())\n",
    "s = 0\n",
    "for i in range(1, n+1):\n",
    "    a = i**2\n",
    "    if str(i) == str(a)[-len(str(i)):0]:\n",
    "        s += 1\n",
    "print(s)"
   ]
  },
  {
   "cell_type": "code",
   "execution_count": 15,
   "metadata": {},
   "outputs": [
    {
     "name": "stdout",
     "output_type": "stream",
     "text": [
      "[2, 5, 8, 11, 14]\n"
     ]
    }
   ],
   "source": [
    "n = int(input())\n",
    "lis = [3*i+2 for i in range(n)]\n",
    "print(lis)"
   ]
  },
  {
   "cell_type": "code",
   "execution_count": 16,
   "metadata": {},
   "outputs": [
    {
     "name": "stdout",
     "output_type": "stream",
     "text": [
      "qjkfw\n"
     ]
    }
   ],
   "source": [
    "#按字符出现次数排序\n",
    "str_1 = input()\n",
    "dic = {}\n",
    "for i in str_1:\n",
    "    dic[i] = dic.get(i, 0) + 1\n",
    "lis = sorted(dic.items())\n",
    "# print(lis)\n",
    "lis = sorted(lis, key = lambda x:x[1], reverse = True)\n",
    "print(''.join(i[0] for i in lis))"
   ]
  },
  {
   "cell_type": "code",
   "execution_count": 17,
   "metadata": {},
   "outputs": [
    {
     "name": "stdout",
     "output_type": "stream",
     "text": [
      "2\n"
     ]
    }
   ],
   "source": [
    "#最长升序子序列\n",
    "n = int(input())\n",
    "lis = list(map(int, input().split()))\n",
    "dp = [1]*n\n",
    "for i in range(n):\n",
    "    for j in range(i):\n",
    "        if lis[i]>lis[j]:\n",
    "            dp[i] = max(dp[i], dp[j]+1)\n",
    "print(max(dp))"
   ]
  },
  {
   "cell_type": "code",
   "execution_count": null,
   "metadata": {},
   "outputs": [],
   "source": [
    "#匹配理论\n",
    "def prime(x):\n",
    "    if x<3:\n",
    "        return x>1\n",
    "    for i in range(2, int(x**0.5+1)):\n",
    "        if x%i == 0:\n",
    "            return False\n",
    "    return True\n",
    "def match(i):\n",
    "    for j in range(len(l2)):\n",
    "        if prime(i+l2[j]) and chosen[j] == False:\n",
    "            chosen[j] = True\n",
    "            if wife[j] == 0 or match(wife[j]): #wife[j]是偶数j的老婆，如果还没嫁或者已嫁的老公还能娶，就抢过来\n",
    "                wife[j] = i\n",
    "                return True\n",
    "    return False\n",
    "n = int(input())\n",
    "a = list(map(int, input().split()))\n",
    "l1 = []\n",
    "l2 = []\n",
    "for i in a:\n",
    "    if i%2 == 0:\n",
    "        l2.append(i)\n",
    "    else:\n",
    "        l1.append(i)\n",
    "wife = [0]*len(l2)\n",
    "s = 0\n",
    "for i in l1:\n",
    "    chosen = [False]*len(l2)\n",
    "    if match(i):\n",
    "        s += 1\n",
    "print(s)"
   ]
  }
 ],
 "metadata": {
  "kernelspec": {
   "display_name": "base",
   "language": "python",
   "name": "python3"
  },
  "language_info": {
   "codemirror_mode": {
    "name": "ipython",
    "version": 3
   },
   "file_extension": ".py",
   "mimetype": "text/x-python",
   "name": "python",
   "nbconvert_exporter": "python",
   "pygments_lexer": "ipython3",
   "version": "3.11.3"
  },
  "orig_nbformat": 4
 },
 "nbformat": 4,
 "nbformat_minor": 2
}
