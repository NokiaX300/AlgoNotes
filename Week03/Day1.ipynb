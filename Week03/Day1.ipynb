{
 "cells": [
  {
   "attachments": {},
   "cell_type": "markdown",
   "metadata": {},
   "source": [
    "星号详解"
   ]
  },
  {
   "cell_type": "code",
   "execution_count": 1,
   "metadata": {},
   "outputs": [
    {
     "name": "stdout",
     "output_type": "stream",
     "text": [
      "[3, 4]\n",
      "My name is Zhang and age is 18\n",
      "(1, 2, 3, 4)\n",
      "{'x': 1, 'y': 2, 'z': 3}\n",
      "1 2\n"
     ]
    }
   ],
   "source": [
    "a, b, *c = [1, 2, 3, 4]\n",
    "print(c) # 收集列表多余的值\n",
    "\n",
    "person = {'name':'Zhang', 'age':18}\n",
    "print('My name is {name} and age is {age}'.format(**person))\n",
    "\n",
    "'''定义函数'''\n",
    "def function001(*parameters):\n",
    "    print(parameters)\n",
    "function001(1,2,3,4) # 以元组的形式导入\n",
    "\n",
    "def function002(**parameters):\n",
    "    print(parameters)\n",
    "function002(x=1,y=2,z=3) # 以字典的形式导入\n",
    "\n",
    "'''调用函数'''\n",
    "def function003(parameter1, parameter2):\n",
    "    print(parameter1, parameter2)\n",
    "list001 = [1,2]\n",
    "function003(*list001) # 解压参数列表"
   ]
  },
  {
   "attachments": {},
   "cell_type": "markdown",
   "metadata": {},
   "source": [
    "Global 和 Nonlocal"
   ]
  },
  {
   "cell_type": "code",
   "execution_count": 2,
   "metadata": {},
   "outputs": [
    {
     "name": "stdout",
     "output_type": "stream",
     "text": [
      "10\n"
     ]
    }
   ],
   "source": [
    "num = 10\n",
    "def readnum():\n",
    "    print(num)\n",
    "readnum() # 函数内部可以访问全局变量"
   ]
  },
  {
   "cell_type": "code",
   "execution_count": 3,
   "metadata": {},
   "outputs": [
    {
     "name": "stdout",
     "output_type": "stream",
     "text": [
      "11\n",
      "11\n"
     ]
    }
   ],
   "source": [
    "num = 10\n",
    "def readnum1():\n",
    "    global num # 需先声明才能修改全局变量\n",
    "    num += 1\n",
    "    print(num)\n",
    "readnum1()\n",
    "print(num) # 全局变量也发生了变化"
   ]
  },
  {
   "cell_type": "code",
   "execution_count": 4,
   "metadata": {},
   "outputs": [
    {
     "name": "stdout",
     "output_type": "stream",
     "text": [
      "20\n",
      "30\n",
      "10\n"
     ]
    }
   ],
   "source": [
    "# nonlocal关键字只能用于嵌套函数中，并且外层函数中定义了相应的局部变量\n",
    "num = 10\n",
    "def function004():\n",
    "    num = 20\n",
    "    def function005():\n",
    "        nonlocal num\n",
    "        num = 30\n",
    "    print(num)\n",
    "    function005()\n",
    "    print(num)\n",
    "function004()\n",
    "print(num)"
   ]
  },
  {
   "attachments": {},
   "cell_type": "markdown",
   "metadata": {},
   "source": [
    "Sorted 和 Sort"
   ]
  },
  {
   "cell_type": "code",
   "execution_count": 5,
   "metadata": {},
   "outputs": [
    {
     "name": "stdout",
     "output_type": "stream",
     "text": [
      "[3, 2, 4, 1]\n",
      "[1, 2, 3, 4]\n"
     ]
    }
   ],
   "source": [
    "list002 = [3,2,4,1]\n",
    "list003 = sorted(list002) # 保留原列表\n",
    "print(list002)\n",
    "print(list003)"
   ]
  },
  {
   "cell_type": "code",
   "execution_count": 6,
   "metadata": {},
   "outputs": [
    {
     "name": "stdout",
     "output_type": "stream",
     "text": [
      "[1, 2, 3, 4]\n"
     ]
    }
   ],
   "source": [
    "list004 = [3,2,4,1]\n",
    "list004.sort() # 应用在 list 上，无返回值\n",
    "print(list004)"
   ]
  },
  {
   "attachments": {},
   "cell_type": "markdown",
   "metadata": {},
   "source": [
    "私有属性"
   ]
  },
  {
   "cell_type": "code",
   "execution_count": 7,
   "metadata": {},
   "outputs": [],
   "source": [
    "# __xxx__: 特殊属性\n",
    "# __xx: 私有属性，可通过 _Class__xx 访问\n",
    "# _xx: 可在外部访问，但不推荐"
   ]
  },
  {
   "attachments": {},
   "cell_type": "markdown",
   "metadata": {},
   "source": [
    "super方法"
   ]
  },
  {
   "cell_type": "code",
   "execution_count": 8,
   "metadata": {},
   "outputs": [
    {
     "name": "stdout",
     "output_type": "stream",
     "text": [
      "Child value\n",
      "Child's\n",
      "Parent's\n"
     ]
    },
    {
     "data": {
      "text/plain": [
       "'tom = Parent()\\nprint(tom.value)\\ntom.function005()'"
      ]
     },
     "execution_count": 8,
     "metadata": {},
     "output_type": "execute_result"
    }
   ],
   "source": [
    "class Parent(object):\n",
    "    value = 'Parent value' # 类属性\n",
    "    def function005(self):\n",
    "        print('Parent\\'s')\n",
    "\n",
    "\n",
    "class Child(Parent):\n",
    "    value = 'Child value'\n",
    "    def function005(self):\n",
    "        print('Child\\'s')\n",
    "        Parent.function005(self) # 需要经父类名硬编码到子类中\n",
    "\n",
    "tom = Child()\n",
    "print(tom.value)\n",
    "tom.function005()\n",
    "\n",
    "\n",
    "'''tom = Parent()\n",
    "print(tom.value)\n",
    "tom.function005()'''"
   ]
  },
  {
   "cell_type": "code",
   "execution_count": 9,
   "metadata": {},
   "outputs": [
    {
     "name": "stdout",
     "output_type": "stream",
     "text": [
      "Child value\n",
      "Child's\n",
      "Parent's\n"
     ]
    }
   ],
   "source": [
    "class Parent(object):\n",
    "    value = 'Parent value' # 类属性\n",
    "    def function005(self):\n",
    "        print('Parent\\'s')\n",
    "\n",
    "\n",
    "class Child(Parent):\n",
    "    value = 'Child value'\n",
    "    def function005(self):\n",
    "        print('Child\\'s')\n",
    "        # super(Child, self).function005()\n",
    "        super().function005() # python3：super().父类方法名，省略了括号中的参数\n",
    "\n",
    "tom = Child()\n",
    "print(tom.value)\n",
    "tom.function005()"
   ]
  },
  {
   "attachments": {},
   "cell_type": "markdown",
   "metadata": {},
   "source": [
    "实例方法、类方法和静态方法"
   ]
  },
  {
   "cell_type": "code",
   "execution_count": 10,
   "metadata": {},
   "outputs": [],
   "source": [
    "# 实例方法被绑定到一个实例，只能通过实例进行调用\n",
    "# 但是对于静态方法和类方法，可以通过类名和实例两种方式进行调用"
   ]
  },
  {
   "cell_type": "code",
   "execution_count": 11,
   "metadata": {},
   "outputs": [
    {
     "name": "stdout",
     "output_type": "stream",
     "text": [
      "Name is Tom and age is 8\n"
     ]
    }
   ],
   "source": [
    "# 实例方法\n",
    "class Cat(object):\n",
    "    def __init__(self, name, age):\n",
    "        self.name = name\n",
    "        self.age = age\n",
    "    def informa(self):\n",
    "        print('Name is %s and age is %s'%(self.name, self.age))\n",
    "\n",
    "Tom = Cat('Tom', 8)\n",
    "Tom.informa() # 只能通过实例进行调用"
   ]
  },
  {
   "cell_type": "code",
   "execution_count": 12,
   "metadata": {},
   "outputs": [
    {
     "name": "stdout",
     "output_type": "stream",
     "text": [
      "Mouse\n",
      "['__class__', '__delattr__', '__dict__', '__dir__', '__doc__', '__eq__', '__format__', '__ge__', '__getattribute__', '__getstate__', '__gt__', '__hash__', '__init__', '__init_subclass__', '__le__', '__lt__', '__module__', '__ne__', '__new__', '__reduce__', '__reduce_ex__', '__repr__', '__setattr__', '__sizeof__', '__str__', '__subclasshook__', '__weakref__', 'informa']\n"
     ]
    }
   ],
   "source": [
    "# 类方法\n",
    "class Mouse(object):\n",
    "    def __init__(self, name, age):\n",
    "        self.name = name\n",
    "        self.age = age\n",
    "    @classmethod\n",
    "    def informa(cls):\n",
    "        print(cls.__name__)\n",
    "        print(dir(cls))\n",
    "\n",
    "Mouse.informa() # 可以通过类名进行调用"
   ]
  },
  {
   "cell_type": "code",
   "execution_count": 13,
   "metadata": {},
   "outputs": [
    {
     "name": "stdout",
     "output_type": "stream",
     "text": [
      "Bound to print\n"
     ]
    }
   ],
   "source": [
    "# 静态方法\n",
    "class Mouse(object):\n",
    "    def __init__(self, name, age):\n",
    "        self.name = name\n",
    "        self.age = age\n",
    "    @staticmethod\n",
    "    def informa():\n",
    "        print('Bound to print')\n",
    "\n",
    "Mouse.informa() # 可以通过类名进行调用"
   ]
  },
  {
   "attachments": {},
   "cell_type": "markdown",
   "metadata": {},
   "source": [
    "递归详解"
   ]
  },
  {
   "cell_type": "code",
   "execution_count": 1,
   "metadata": {},
   "outputs": [
    {
     "name": "stdout",
     "output_type": "stream",
     "text": [
      "3\n",
      "None\n"
     ]
    }
   ],
   "source": [
    "def function008(a):\n",
    "    print(a)\n",
    "print(function008(3))\n",
    "\n",
    "# 函数体a中没有return，也即没有返回值\n",
    "# 所以在执行a（3）时，先执行函数内部的print，打印3\n",
    "# 然后执行print(a(3))，而a（3）这个函数没有返回值，所以输出None"
   ]
  },
  {
   "cell_type": "code",
   "execution_count": 2,
   "metadata": {},
   "outputs": [
    {
     "name": "stdout",
     "output_type": "stream",
     "text": [
      "3\n",
      "None\n"
     ]
    }
   ],
   "source": [
    "def function009(a):\n",
    "    print(a)\n",
    "    return # 函数体a中有return，但是return后面没有值，也即没有返回值\n",
    "print(function009(3))"
   ]
  },
  {
   "cell_type": "code",
   "execution_count": 3,
   "metadata": {},
   "outputs": [
    {
     "name": "stdout",
     "output_type": "stream",
     "text": [
      "None\n"
     ]
    }
   ],
   "source": [
    "def function010(a):\n",
    "    if a <= 1:\n",
    "        return 1\n",
    "    function010(a-1)\n",
    "\n",
    "print(function010(3)) # https://zhuanlan.zhihu.com/p/382721019\n",
    "# 调用 function010(1) 的返回值并没有被捕获"
   ]
  },
  {
   "cell_type": "code",
   "execution_count": 17,
   "metadata": {},
   "outputs": [
    {
     "name": "stdout",
     "output_type": "stream",
     "text": [
      "1\n",
      "None\n",
      "None\n"
     ]
    }
   ],
   "source": [
    "def a(n):\n",
    "    if n<=1:\n",
    "        return 1\n",
    "    b=a(n-1)  #loc\n",
    "    print(b)\n",
    "print(a(3))"
   ]
  },
  {
   "cell_type": "code",
   "execution_count": 18,
   "metadata": {},
   "outputs": [
    {
     "data": {
      "text/plain": [
       "168698548.83232006"
      ]
     },
     "execution_count": 18,
     "metadata": {},
     "output_type": "execute_result"
    }
   ],
   "source": [
    "# 计算x^n\n",
    "'''\n",
    "低效递归: x^n = x * x^(n-1)\n",
    "高效递归: x^n = (x^(n/2))^2 (分奇偶)\n",
    "'''\n",
    "def function007(x, n):\n",
    "    if n == 0:\n",
    "        return 1\n",
    "    basis = function007(x, n//2)\n",
    "    result = basis ** 2\n",
    "    if n % 2 == 1:\n",
    "        result *= x\n",
    "    return result\n",
    "\n",
    "function007(44.2, 5)"
   ]
  },
  {
   "attachments": {},
   "cell_type": "markdown",
   "metadata": {},
   "source": [
    "01背包问题"
   ]
  },
  {
   "cell_type": "code",
   "execution_count": null,
   "metadata": {},
   "outputs": [],
   "source": [
    "# 二维数组\n",
    "# dp[i][j] = max(dp[i-1][j], dp[i-1][j-w[i] + v[i]]\n",
    "dp = [[0]*(n+1) for _ in range(m+1)] # 只需初始化第一行第一列\n",
    "# n代表背包容积, m代表物品数量\n",
    "for i in range(1, m+1):\n",
    "    for j in range(1, n+1):\n",
    "        if w[i] <= j:\n",
    "            dp[i][j] = max(dp[i-1][j-w[i] + v[i]], dp[i-1][j])\n",
    "        else:\n",
    "            dp[i][j] = dp[i-1][j] # 放不进去（包括了单纯不放的情况）"
   ]
  },
  {
   "cell_type": "code",
   "execution_count": null,
   "metadata": {},
   "outputs": [],
   "source": [
    "# 一维数组\n",
    "dp = [0]*(n+1)\n",
    "for i in range(1, m+1):\n",
    "    for j in range(n+1, 0, -1):\n",
    "        if w[i] <= j:\n",
    "            dp[j] = max(dp[j-w[i] + v[i]], dp[j])"
   ]
  },
  {
   "attachments": {},
   "cell_type": "markdown",
   "metadata": {},
   "source": [
    "装饰器"
   ]
  },
  {
   "cell_type": "code",
   "execution_count": 20,
   "metadata": {},
   "outputs": [
    {
     "name": "stdout",
     "output_type": "stream",
     "text": [
      "call function024\n",
      "2023\n"
     ]
    }
   ],
   "source": [
    "def function022(function023):\n",
    "    def wrapper(*args, **kw):\n",
    "        print('call {}'.format(function023.__name__))\n",
    "        return function023(*args, **kw)\n",
    "    return wrapper\n",
    "\n",
    "@function022\n",
    "def function024():\n",
    "    print('2023')\n",
    "\n",
    "function024()"
   ]
  }
 ],
 "metadata": {
  "kernelspec": {
   "display_name": "base",
   "language": "python",
   "name": "python3"
  },
  "language_info": {
   "codemirror_mode": {
    "name": "ipython",
    "version": 3
   },
   "file_extension": ".py",
   "mimetype": "text/x-python",
   "name": "python",
   "nbconvert_exporter": "python",
   "pygments_lexer": "ipython3",
   "version": "3.11.5"
  },
  "orig_nbformat": 4
 },
 "nbformat": 4,
 "nbformat_minor": 2
}
