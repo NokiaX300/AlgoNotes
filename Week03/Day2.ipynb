{
 "cells": [
  {
   "attachments": {},
   "cell_type": "markdown",
   "metadata": {},
   "source": [
    "@property"
   ]
  },
  {
   "cell_type": "code",
   "execution_count": 1,
   "metadata": {},
   "outputs": [
    {
     "data": {
      "text/plain": [
       "\"instance003.set_score('asd')\\ninstance003.get_score()\""
      ]
     },
     "execution_count": 1,
     "metadata": {},
     "output_type": "execute_result"
    }
   ],
   "source": [
    "class Class002(object):\n",
    "    pass\n",
    "\n",
    "instance002 = Class002()\n",
    "instance002.score = 99999 # 无法限制参数\n",
    "\n",
    "class Class003(object):\n",
    "    def get_score(self):\n",
    "        return self._score\n",
    "    def set_score(self, value):\n",
    "        if not isinstance(value, int):\n",
    "            raise ValueError('Must be int')\n",
    "        if not 1<=value<=100:\n",
    "            raise ValueError('Must in 1-100')\n",
    "        self._score = value\n",
    "\n",
    "instance003 = Class003()\n",
    "instance003.set_score(60)\n",
    "instance003.get_score()\n",
    "\n",
    "'''instance003.set_score('asd')\n",
    "instance003.get_score()'''"
   ]
  },
  {
   "cell_type": "code",
   "execution_count": 2,
   "metadata": {},
   "outputs": [
    {
     "data": {
      "text/plain": [
       "'Akagi'"
      ]
     },
     "execution_count": 2,
     "metadata": {},
     "output_type": "execute_result"
    }
   ],
   "source": [
    "class Class004(object):\n",
    "    @property\n",
    "    def price(self):\n",
    "        return 'Akagi'\n",
    "    \n",
    "instance004 = Class004()\n",
    "# instance004.price()\n",
    "instance004.price"
   ]
  },
  {
   "attachments": {},
   "cell_type": "markdown",
   "metadata": {},
   "source": [
    "getattr"
   ]
  },
  {
   "cell_type": "code",
   "execution_count": 3,
   "metadata": {},
   "outputs": [
    {
     "data": {
      "text/plain": [
       "'None'"
      ]
     },
     "execution_count": 3,
     "metadata": {},
     "output_type": "execute_result"
    }
   ],
   "source": [
    "class Class007(object):\n",
    "    pass\n",
    "\n",
    "instance006 = Class007()\n",
    "getattr(instance006, 'age', 'None')"
   ]
  },
  {
   "cell_type": "code",
   "execution_count": 4,
   "metadata": {},
   "outputs": [
    {
     "data": {
      "text/plain": [
       "23"
      ]
     },
     "execution_count": 4,
     "metadata": {},
     "output_type": "execute_result"
    }
   ],
   "source": [
    "from typing import Any\n",
    "\n",
    "\n",
    "class Class005(object):\n",
    "    def __init__(self) -> None:\n",
    "        self.name = 'Akagi'\n",
    "\n",
    "instance005 = Class005()\n",
    "instance005.name\n",
    "# instance005.age\n",
    "\n",
    "class Class006(object):\n",
    "    def __init__(self) -> None:\n",
    "        self.name = 'Akagi'\n",
    "    def __getattribute__(self, __name: str) -> Any:\n",
    "        if __name == 'age':\n",
    "            return 23\n",
    "\n",
    "instance005 = Class006()\n",
    "instance005.age"
   ]
  },
  {
   "attachments": {},
   "cell_type": "markdown",
   "metadata": {},
   "source": [
    "assert"
   ]
  },
  {
   "cell_type": "code",
   "execution_count": 5,
   "metadata": {},
   "outputs": [
    {
     "ename": "AssertionError",
     "evalue": "有零",
     "output_type": "error",
     "traceback": [
      "\u001b[1;31m---------------------------------------------------------------------------\u001b[0m",
      "\u001b[1;31mAssertionError\u001b[0m                            Traceback (most recent call last)",
      "Cell \u001b[1;32mIn[5], line 5\u001b[0m\n\u001b[0;32m      2\u001b[0m     \u001b[39massert\u001b[39;00m s \u001b[39m!=\u001b[39m \u001b[39m0\u001b[39m, \u001b[39m'\u001b[39m\u001b[39m有零\u001b[39m\u001b[39m'\u001b[39m\n\u001b[0;32m      3\u001b[0m     \u001b[39mreturn\u001b[39;00m \u001b[39m10\u001b[39m\u001b[39m/\u001b[39ms\n\u001b[1;32m----> 5\u001b[0m function025(\u001b[39mint\u001b[39;49m(\u001b[39minput\u001b[39;49m()))\n",
      "Cell \u001b[1;32mIn[5], line 2\u001b[0m, in \u001b[0;36mfunction025\u001b[1;34m(s)\u001b[0m\n\u001b[0;32m      1\u001b[0m \u001b[39mdef\u001b[39;00m \u001b[39mfunction025\u001b[39m(s):\n\u001b[1;32m----> 2\u001b[0m     \u001b[39massert\u001b[39;00m s \u001b[39m!=\u001b[39m \u001b[39m0\u001b[39m, \u001b[39m'\u001b[39m\u001b[39m有零\u001b[39m\u001b[39m'\u001b[39m\n\u001b[0;32m      3\u001b[0m     \u001b[39mreturn\u001b[39;00m \u001b[39m10\u001b[39m\u001b[39m/\u001b[39ms\n",
      "\u001b[1;31mAssertionError\u001b[0m: 有零"
     ]
    }
   ],
   "source": [
    "def function025(s):\n",
    "    assert s != 0, '有零'\n",
    "    return 10/s\n",
    "\n",
    "function025(int(input()))"
   ]
  },
  {
   "attachments": {},
   "cell_type": "markdown",
   "metadata": {},
   "source": [
    "os"
   ]
  },
  {
   "cell_type": "code",
   "execution_count": 6,
   "metadata": {},
   "outputs": [
    {
     "ename": "FileExistsError",
     "evalue": "[WinError 183] 当文件已存在时，无法创建该文件。: 's:\\\\Python\\\\test'",
     "output_type": "error",
     "traceback": [
      "\u001b[1;31m---------------------------------------------------------------------------\u001b[0m",
      "\u001b[1;31mFileExistsError\u001b[0m                           Traceback (most recent call last)",
      "Cell \u001b[1;32mIn[6], line 6\u001b[0m\n\u001b[0;32m      4\u001b[0m os\u001b[39m.\u001b[39mpath\u001b[39m.\u001b[39mabspath(\u001b[39m'\u001b[39m\u001b[39m.\u001b[39m\u001b[39m'\u001b[39m)\n\u001b[0;32m      5\u001b[0m os\u001b[39m.\u001b[39mpath\u001b[39m.\u001b[39mjoin(\u001b[39m'\u001b[39m\u001b[39ms:\u001b[39m\u001b[39m\\\\\u001b[39;00m\u001b[39mPython\u001b[39m\u001b[39m'\u001b[39m, \u001b[39m'\u001b[39m\u001b[39mtest\u001b[39m\u001b[39m'\u001b[39m) \u001b[39m# 创建并拼接目录\u001b[39;00m\n\u001b[1;32m----> 6\u001b[0m os\u001b[39m.\u001b[39;49mmkdir(\u001b[39m'\u001b[39;49m\u001b[39ms:\u001b[39;49m\u001b[39m\\\\\u001b[39;49;00m\u001b[39mPython\u001b[39;49m\u001b[39m\\\\\u001b[39;49;00m\u001b[39mtest\u001b[39;49m\u001b[39m'\u001b[39;49m)\n\u001b[0;32m      7\u001b[0m os\u001b[39m.\u001b[39mrmdir(\u001b[39m'\u001b[39m\u001b[39ms:\u001b[39m\u001b[39m\\\\\u001b[39;00m\u001b[39mPython\u001b[39m\u001b[39m\\\\\u001b[39;00m\u001b[39mtest\u001b[39m\u001b[39m'\u001b[39m)\n",
      "\u001b[1;31mFileExistsError\u001b[0m: [WinError 183] 当文件已存在时，无法创建该文件。: 's:\\\\Python\\\\test'"
     ]
    }
   ],
   "source": [
    "import os\n",
    "os.name\n",
    "os.environ\n",
    "os.path.abspath('.')\n",
    "os.path.join('s:\\\\Python', 'test') # 创建并拼接目录\n",
    "os.mkdir('s:\\\\Python\\\\test')\n",
    "os.rmdir('s:\\\\Python\\\\test')"
   ]
  },
  {
   "attachments": {},
   "cell_type": "markdown",
   "metadata": {},
   "source": [
    "json"
   ]
  },
  {
   "cell_type": "code",
   "execution_count": 7,
   "metadata": {},
   "outputs": [
    {
     "name": "stdout",
     "output_type": "stream",
     "text": [
      "{'name': 'Akagi', 'age': 23}\n"
     ]
    },
    {
     "data": {
      "text/plain": [
       "'{\"name\": \"Akagi\", \"age\": 23}'"
      ]
     },
     "execution_count": 7,
     "metadata": {},
     "output_type": "execute_result"
    }
   ],
   "source": [
    "import json\n",
    "dict006 = dict(name='Akagi', age=23)\n",
    "print(dict006)\n",
    "json.dumps(dict006) # 将python对象编码成Json字符串"
   ]
  },
  {
   "cell_type": "code",
   "execution_count": 8,
   "metadata": {},
   "outputs": [
    {
     "data": {
      "text/plain": [
       "{'name': 'Akagi', 'age': 23}"
      ]
     },
     "execution_count": 8,
     "metadata": {},
     "output_type": "execute_result"
    }
   ],
   "source": [
    "json_str = '{\"name\": \"Akagi\", \"age\": 23}' # 反序列化\n",
    "json.loads(json_str)"
   ]
  },
  {
   "attachments": {},
   "cell_type": "markdown",
   "metadata": {},
   "source": [
    "正则表达式"
   ]
  },
  {
   "cell_type": "code",
   "execution_count": 9,
   "metadata": {},
   "outputs": [
    {
     "name": "stdout",
     "output_type": "stream",
     "text": [
      "1\n"
     ]
    }
   ],
   "source": [
    "import re\n",
    "test = '010-12345'\n",
    "if re.match(r'^\\d{3}\\-\\d{3,8}$', test): # \\d{3,8}表示3-8个数字，^\\d表示必须以数字开头，\\d$表示必须以数字结束\n",
    "    print(1)\n",
    "else:\n",
    "    print(0)"
   ]
  },
  {
   "attachments": {},
   "cell_type": "markdown",
   "metadata": {},
   "source": [
    "摘要算法"
   ]
  },
  {
   "cell_type": "code",
   "execution_count": 10,
   "metadata": {},
   "outputs": [
    {
     "name": "stdout",
     "output_type": "stream",
     "text": [
      "27d4c7e2a6ec6b8601150af3e12d4974\n",
      "e90ade675e1a9ebd16e00fa43d110e6c\n"
     ]
    }
   ],
   "source": [
    "# MD5\n",
    "import hashlib\n",
    "# 把一个任意长度的字节串变换成一定长的十六进制数字串\n",
    "print(hashlib.md5(b'Akagi').hexdigest()) # 英文加密\n",
    "str016 = '花海'\n",
    "print(hashlib.md5(str016.encode('utf-8')).hexdigest()) # 中文加密"
   ]
  },
  {
   "cell_type": "code",
   "execution_count": 11,
   "metadata": {},
   "outputs": [
    {
     "data": {
      "text/plain": [
       "'226bff6c39fba3bdb42e3849371a799dd981e4d0'"
      ]
     },
     "execution_count": 11,
     "metadata": {},
     "output_type": "execute_result"
    }
   ],
   "source": [
    "import hashlib\n",
    "sha1 = hashlib.sha1() # 操作方法同MD5\n",
    "sha1.update('花海'.encode('utf-8'))\n",
    "sha1.hexdigest()"
   ]
  },
  {
   "attachments": {},
   "cell_type": "markdown",
   "metadata": {},
   "source": [
    "pillow"
   ]
  },
  {
   "cell_type": "code",
   "execution_count": null,
   "metadata": {},
   "outputs": [],
   "source": [
    "from PIL import Image, ImageFilter\n",
    "im = Image.open(r'./Test/岸边露伴.jpeg')\n",
    "w, h = im.size\n",
    "im.thumbnail((w//2, h//2))\n",
    "# im.save(r'./Test/thumbnail.jpg', 'jpeg')\n",
    "im2 = im.filter(ImageFilter.BLUR)\n",
    "im2.save(r'./Test/blur.jpeg', 'jpeg')"
   ]
  },
  {
   "attachments": {},
   "cell_type": "markdown",
   "metadata": {},
   "source": [
    "requests"
   ]
  },
  {
   "cell_type": "code",
   "execution_count": 12,
   "metadata": {},
   "outputs": [
    {
     "data": {
      "text/plain": [
       "'ISO-8859-1'"
      ]
     },
     "execution_count": 12,
     "metadata": {},
     "output_type": "execute_result"
    }
   ],
   "source": [
    "import requests\n",
    "r = requests.get('https://www.baidu.com')\n",
    "r.status_code\n",
    "r.text\n",
    "r.encoding"
   ]
  },
  {
   "attachments": {},
   "cell_type": "markdown",
   "metadata": {},
   "source": [
    "Tkinter"
   ]
  },
  {
   "cell_type": "code",
   "execution_count": null,
   "metadata": {},
   "outputs": [],
   "source": [
    "from tkinter import *\n",
    "window = Tk()\n",
    "window.lift()\n",
    "window['background'] = '#ffa500'\n",
    "window.title('First Window')\n",
    "window.geometry('500x300+700+300')\n",
    "theLabel01 = Label(window, text='Akagi', bg='lightblue', fg='purple', font=(\"Calibri Bold\", 20))\n",
    "theLabel01.pack(fill='x')\n",
    "# theLabel01.grid(column=0, row=0)\n",
    "# window.attributes(\"-alpha\", 0.6)\n",
    "# window.overrideredirect(True)\n",
    "\n",
    "def clicked():\n",
    "    theLabel02 = Label(window, text='HOLA', width=20, bg='lightblue', fg='purple', font=(\"Times\", 20))\n",
    "    theLabel02.pack(side='right', padx=(100, 100), pady=(0,100))\n",
    "\n",
    "theButton01 = Button(window, text='click me', bg='light green', fg='purple', command=clicked)\n",
    "theButton01.pack(side='left', padx=(100,0), pady=(0,100))\n",
    "\n",
    "window.mainloop()"
   ]
  },
  {
   "attachments": {},
   "cell_type": "markdown",
   "metadata": {},
   "source": [
    "随笔"
   ]
  },
  {
   "cell_type": "code",
   "execution_count": 13,
   "metadata": {},
   "outputs": [
    {
     "name": "stdout",
     "output_type": "stream",
     "text": [
      "5050\n",
      "5050\n"
     ]
    }
   ],
   "source": [
    "# 0到100求和\n",
    "s = 0\n",
    "for i in range(101):\n",
    "    s += i\n",
    "print(s)\n",
    "\n",
    "t, i = 0, 0\n",
    "while i <= 100:\n",
    "    t += i\n",
    "    i += 1\n",
    "print(t)"
   ]
  },
  {
   "cell_type": "code",
   "execution_count": 14,
   "metadata": {},
   "outputs": [
    {
     "name": "stdout",
     "output_type": "stream",
     "text": [
      "2550\n",
      "2550\n"
     ]
    }
   ],
   "source": [
    "# 0到100的偶数求和\n",
    "s = 0\n",
    "for i in range(0, 101, 2):\n",
    "    s += i\n",
    "print(s)\n",
    "\n",
    "t, i = 0, 0\n",
    "while i <= 100:\n",
    "    if i % 2 == 0:\n",
    "        t += i\n",
    "    i += 1\n",
    "print(t)"
   ]
  },
  {
   "cell_type": "code",
   "execution_count": 15,
   "metadata": {},
   "outputs": [
    {
     "data": {
      "text/plain": [
       "'TOM'"
      ]
     },
     "execution_count": 15,
     "metadata": {},
     "output_type": "execute_result"
    }
   ],
   "source": [
    "class Cat:\n",
    "    def __init__(self, rname) -> None: # 创建对象时设置属性\n",
    "        self.name = rname\n",
    "tom = Cat('TOM')\n",
    "tom.name"
   ]
  },
  {
   "cell_type": "code",
   "execution_count": 16,
   "metadata": {},
   "outputs": [
    {
     "name": "stdout",
     "output_type": "stream",
     "text": [
      "name is Tom\n"
     ]
    }
   ],
   "source": [
    "class Parent(object):\n",
    "    def __init__(self, name) -> None:\n",
    "        self.name = name\n",
    "        print('name is %s'%self.name)\n",
    "\n",
    "\n",
    "class Child(Parent):\n",
    "    pass\n",
    "\n",
    "tom = Child('Tom')"
   ]
  },
  {
   "cell_type": "code",
   "execution_count": 17,
   "metadata": {},
   "outputs": [
    {
     "name": "stdout",
     "output_type": "stream",
     "text": [
      "name is Tom\n",
      "child\n",
      "name is data from child\n"
     ]
    }
   ],
   "source": [
    "class Parent(object):\n",
    "    def __init__(self, name) -> None:\n",
    "        self.name = name\n",
    "        print('name is %s'%self.name)\n",
    "\n",
    "\n",
    "class Child(Parent):\n",
    "    def __init__(self) -> None:\n",
    "        print('child') # 父类的属性不会被初始化\n",
    "        super().__init__('data from child')\n",
    "\n",
    "tom0 = Parent('Tom')\n",
    "tom = Child()"
   ]
  }
 ],
 "metadata": {
  "kernelspec": {
   "display_name": "base",
   "language": "python",
   "name": "python3"
  },
  "language_info": {
   "codemirror_mode": {
    "name": "ipython",
    "version": 3
   },
   "file_extension": ".py",
   "mimetype": "text/x-python",
   "name": "python",
   "nbconvert_exporter": "python",
   "pygments_lexer": "ipython3",
   "version": "3.11.3"
  },
  "orig_nbformat": 4
 },
 "nbformat": 4,
 "nbformat_minor": 2
}
