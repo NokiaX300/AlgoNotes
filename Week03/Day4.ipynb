{
 "cells": [
  {
   "cell_type": "code",
   "execution_count": 1,
   "metadata": {},
   "outputs": [
    {
     "data": {
      "text/plain": [
       "168698548.83232006"
      ]
     },
     "execution_count": 1,
     "metadata": {},
     "output_type": "execute_result"
    }
   ],
   "source": [
    "# 计算x^n\n",
    "'''\n",
    "低效递归: x^n = x * x^(n-1)\n",
    "高效递归: x^n = (x^(n/2))^2 (分奇偶)\n",
    "'''\n",
    "def function007(x, n):\n",
    "    if n == 0:\n",
    "        return 1\n",
    "    basis = function007(x, n//2)\n",
    "    result = basis ** 2\n",
    "    if n % 2 == 1:\n",
    "        result *= x\n",
    "    return result\n",
    "\n",
    "function007(44.2, 5)"
   ]
  },
  {
   "cell_type": "code",
   "execution_count": 7,
   "metadata": {},
   "outputs": [
    {
     "data": {
      "text/plain": [
       "False"
      ]
     },
     "execution_count": 7,
     "metadata": {},
     "output_type": "execute_result"
    }
   ],
   "source": [
    "# 判断某字符串是否为回文\n",
    "from collections import deque\n",
    "def function011(s: str):\n",
    "    d = deque()\n",
    "    for i in range(len(s)//2):\n",
    "        d.append(s[len(s)-i-1])\n",
    "    for j in range(len(d)):\n",
    "        if d[j] != s[j]:\n",
    "            return False\n",
    "    return True\n",
    "\n",
    "function011('abcdddcba')"
   ]
  },
  {
   "cell_type": "code",
   "execution_count": 3,
   "metadata": {},
   "outputs": [
    {
     "data": {
      "text/plain": [
       "True"
      ]
     },
     "execution_count": 3,
     "metadata": {},
     "output_type": "execute_result"
    }
   ],
   "source": [
    "# 判断某字符串是否为回文\n",
    "from collections import deque\n",
    "def function011(s:str):\n",
    "    d = deque()\n",
    "    for i in range(len(s)):\n",
    "        d.append(s[i])\n",
    "    for i in range(len(d)//2):\n",
    "        if d.popleft() != d.pop():\n",
    "            return False\n",
    "    return True\n",
    "\n",
    "function011('abcccdadcccba')"
   ]
  },
  {
   "cell_type": "code",
   "execution_count": 4,
   "metadata": {},
   "outputs": [
    {
     "name": "stdout",
     "output_type": "stream",
     "text": [
      "2\n",
      "3\n",
      "5\n"
     ]
    }
   ],
   "source": [
    "# 输出所有质因子\n",
    "def function012(x):\n",
    "    for i in range(2, x):\n",
    "        if x%i == 0:\n",
    "            for j in range(2, i):\n",
    "                if i%j == 0:\n",
    "                    break\n",
    "            else:\n",
    "                print(i)\n",
    "\n",
    "function012(180)"
   ]
  },
  {
   "cell_type": "code",
   "execution_count": 6,
   "metadata": {},
   "outputs": [
    {
     "name": "stdout",
     "output_type": "stream",
     "text": [
      "2 5\n",
      "6 4\n"
     ]
    }
   ],
   "source": [
    "# 合并表记录\n",
    "n = int(input())\n",
    "from collections import defaultdict\n",
    "A = defaultdict(int)\n",
    "for i in range(n):\n",
    "    a, b = map(int, input().split())\n",
    "    A[a] = A[a] + b\n",
    "for a in sorted(A):\n",
    "    print(a, A[a])"
   ]
  },
  {
   "cell_type": "code",
   "execution_count": 7,
   "metadata": {},
   "outputs": [
    {
     "name": "stdout",
     "output_type": "stream",
     "text": [
      "70 , -66\n"
     ]
    }
   ],
   "source": [
    "# 坐标移动\n",
    "command = input().split(';')\n",
    "from collections import defaultdict\n",
    "D = defaultdict(int)\n",
    "for ele in command:\n",
    "    if len(ele) > 1 and ele[0] in 'WASD' and ele[1:].isdecimal():\n",
    "        D[ele[0]] += int(ele[1:])\n",
    "print(D['D']-D['A'],',',D['W']-D['S'])"
   ]
  },
  {
   "cell_type": "code",
   "execution_count": 8,
   "metadata": {},
   "outputs": [
    {
     "name": "stdout",
     "output_type": "stream",
     "text": [
      "FGH\n"
     ]
    }
   ],
   "source": [
    "# 字符串排序\n",
    "str001 = input()\n",
    "alpha = []\n",
    "not_alpha = [False] * len(str001)\n",
    "for i, j in enumerate(str001):\n",
    "    if j.isalpha():\n",
    "        alpha.append(j)\n",
    "    else:\n",
    "        not_alpha[i] = j\n",
    "alpha.sort(key= lambda x:x.lower())\n",
    "for i, j in enumerate(not_alpha):\n",
    "    if not j:\n",
    "        not_alpha[i] = alpha[0]\n",
    "        alpha.pop(0)\n",
    "print(''.join(not_alpha))"
   ]
  },
  {
   "cell_type": "code",
   "execution_count": 9,
   "metadata": {},
   "outputs": [
    {
     "name": "stdout",
     "output_type": "stream",
     "text": [
      "10977347674\n"
     ]
    }
   ],
   "source": [
    "# 整数与IP地址间的转换\n",
    "str002 = map(int, input().split('.'))\n",
    "list005 = []\n",
    "for i in str002:\n",
    "    j = bin(i)[2:].rjust(8,'0')\n",
    "    list005.append(j)\n",
    "str003 = ''.join(list005)\n",
    "print(int(str003, 2))"
   ]
  },
  {
   "cell_type": "code",
   "execution_count": 10,
   "metadata": {},
   "outputs": [
    {
     "name": "stdout",
     "output_type": "stream",
     "text": [
      "44.144.48.22\n"
     ]
    }
   ],
   "source": [
    "# 整数与IP地址间的转换\n",
    "num001 = int(input())\n",
    "num002 = bin(num001)[2:].rjust(32, '0')\n",
    "# print(num002)\n",
    "list006 = []\n",
    "for k in range(4):\n",
    "    list006.append(num002[k*8:k*8+8])\n",
    "# print(list006)\n",
    "for i in range(len(list006)):\n",
    "    list006[i] = str(int(list006[i], 2))\n",
    "print('.'.join(list006))"
   ]
  },
  {
   "cell_type": "code",
   "execution_count": 11,
   "metadata": {},
   "outputs": [
    {
     "name": "stdout",
     "output_type": "stream",
     "text": [
      "ercrcF"
     ]
    }
   ],
   "source": [
    "# 字符串加密\n",
    "str004 = input()\n",
    "str005 = ''\n",
    "for i in range(len(str004)):\n",
    "    if str004[i] not in str005:\n",
    "        str005 += str004[i]\n",
    "for j in range(97, 123):\n",
    "    if chr(j) not in str005:\n",
    "        str005 += chr(j)\n",
    "# print(str005)\n",
    "str006 = ''\n",
    "for j in range(97, 123):\n",
    "    str006 += chr(j)\n",
    "dict001 = dict(zip(str006, str005))\n",
    "# print(list012)\n",
    "# print(dict001)\n",
    "str007 = input()\n",
    "for i in range(len(str007)):\n",
    "    print(dict001[str007[i]], end='')"
   ]
  },
  {
   "cell_type": "code",
   "execution_count": 12,
   "metadata": {},
   "outputs": [
    {
     "name": "stdout",
     "output_type": "stream",
     "text": [
      "1\n"
     ]
    }
   ],
   "source": [
    "# 编辑距离\n",
    "a, b = input(), input()\n",
    "m, n = len(a), len(b)\n",
    "dp = [[\"*\" for _ in range(n+1)] for _ in range(m+1)]\n",
    "# print(dp)\n",
    "# https://uploadfiles.nowcoder.com/images/20220425/119231184_1650861776494/D2726F37B886AE6CF4F1A17453B5AFC2\n",
    "for i in range(m+1):\n",
    "    dp[i][0] = i\n",
    "for j in range(n+1):\n",
    "    dp[0][j] = j\n",
    "for i in range(1, m+1):\n",
    "    for j in range(1, n+1):\n",
    "        if a[i-1] == b[j-1]:\n",
    "            dp[i][j] = dp[i-1][j-1]\n",
    "        else:\n",
    "            dp[i][j] = min(dp[i-1][j-1]+1, dp[i-1][j]+1, dp[i][j-1]+1)\n",
    "print(dp[m][n])"
   ]
  },
  {
   "cell_type": "code",
   "execution_count": 14,
   "metadata": {},
   "outputs": [
    {
     "data": {
      "text/plain": [
       "7"
      ]
     },
     "execution_count": 14,
     "metadata": {},
     "output_type": "execute_result"
    }
   ],
   "source": [
    "# n个苹果放k个盘子\n",
    "def function013(n, k):\n",
    "    if k == 1 or n == 0:\n",
    "        return 1\n",
    "    if k > n:\n",
    "        return function013(n, n)\n",
    "    return function013(n, k-1) + function013(n-k, k)\n",
    "function013(int(input()), int(input()))"
   ]
  },
  {
   "cell_type": "code",
   "execution_count": 15,
   "metadata": {},
   "outputs": [
    {
     "name": "stdout",
     "output_type": "stream",
     "text": [
      "CGTT\n"
     ]
    }
   ],
   "source": [
    "# DNA序列\n",
    "str008 = input()\n",
    "str009 = ''\n",
    "num003 = int(input())\n",
    "num004 = len(str008)\n",
    "max = 0\n",
    "for i in range(num004-num003+1):\n",
    "    num005 = str008[i:i+num003].count('C') + str008[i:i+num003].count('G')\n",
    "    if num005 > max:\n",
    "        max = num005\n",
    "        str009 = str008[i:i+num003]\n",
    "print(str009)"
   ]
  },
  {
   "cell_type": "code",
   "execution_count": 16,
   "metadata": {},
   "outputs": [
    {
     "name": "stdout",
     "output_type": "stream",
     "text": [
      "JH\n"
     ]
    }
   ],
   "source": [
    "# 查找最长公共字符串\n",
    "str012 = input()\n",
    "str013 = input()\n",
    "str014 = ''\n",
    "if len(str012) > len(str013):\n",
    "    str012, str013 = str013, str012\n",
    "for i in range(len(str012)):\n",
    "    for j in range(i, len(str012)):\n",
    "        if str012[i:j+1] in str013 and (j-i+1) > len(str014):\n",
    "            str014 = str012[i:j+1]\n",
    "print(str014)"
   ]
  },
  {
   "cell_type": "code",
   "execution_count": 17,
   "metadata": {},
   "outputs": [
    {
     "name": "stdout",
     "output_type": "stream",
     "text": [
      "KJ\n"
     ]
    }
   ],
   "source": [
    "# 查找最长公共字符串\n",
    "str010 = input()\n",
    "str011 = input()\n",
    "str015 = ''\n",
    "if len(str010) > len(str011):\n",
    "    str010, str011 = str011, str010\n",
    "left, right = 0, -1\n",
    "index = -1\n",
    "while right < len(str010)-1:\n",
    "    right += 1\n",
    "    if str010[left:right+1] in str011:\n",
    "        if (right-left+1) > len(str015):\n",
    "            str015 = str010[left:right+1]\n",
    "            index = str011.find(str015)\n",
    "        elif (right-left+1) == len(str015) and str011.find(str010[left:right+1]) < index:\n",
    "            str015 = str010[left:right+1]\n",
    "            index = str011.find(str015)\n",
    "    else:\n",
    "        left += 1\n",
    "print(str015)"
   ]
  },
  {
   "cell_type": "code",
   "execution_count": 18,
   "metadata": {},
   "outputs": [],
   "source": [
    "# 24点\n",
    "def function014(list012, res):\n",
    "    if res < 1:\n",
    "        return False\n",
    "    elif len(list012) == 1:\n",
    "        return res == list012[0]\n",
    "    else:\n",
    "        for i in range(len(list012)):\n",
    "            k = list012[i]\n",
    "            list013 = list012[:i] + list012[i+1:]\n",
    "            if function014(list013, res+k) or function014(list013, res-k) or function014(list013, res*k) or function014(list013, res/k):\n",
    "                return True\n",
    "    return False"
   ]
  },
  {
   "cell_type": "code",
   "execution_count": null,
   "metadata": {},
   "outputs": [],
   "source": [
    "# 字典排序\n",
    "num006 = int(input())\n",
    "num007 = int(input())\n",
    "dict002 = {}\n",
    "for i in range(num006):\n",
    "    list014 = input().split()\n",
    "    dict002[list014[0]] = int(list014[1])\n",
    "    list014 = []\n",
    "# print(dict002)\n",
    "if num007:\n",
    "    dict003 = sorted(dict002.items(), key=lambda x:x[1]) # items() 方法把字典中每对 key 和 value 组成一个元组，并把这些元组放在列表中返回\n",
    "else:\n",
    "    dict003 = sorted(dict002.items(), key=lambda x:x[1], reverse= True)\n",
    "for key, value in dict003:\n",
    "    print(key, value)"
   ]
  },
  {
   "cell_type": "code",
   "execution_count": 19,
   "metadata": {},
   "outputs": [
    {
     "name": "stdout",
     "output_type": "stream",
     "text": [
      "183\n"
     ]
    }
   ],
   "source": [
    "# 根据输入的日期，计算是这一年的第几天\n",
    "num008, num009, num010 = map(int, input().split())\n",
    "if (num008%4 == 0 and num008%100 != 0) or num008%400 == 0:\n",
    "    month = [31, 29, 31, 30, 31, 30, 31, 31, 30, 31, 30, 31]\n",
    "    day = num010 + sum(month[:num009-1])\n",
    "else:\n",
    "    month = [31, 28, 31, 30, 31, 30, 31, 31, 30, 31, 30, 31]\n",
    "    day = num010 + sum(month[:num009-1])\n",
    "print(day)"
   ]
  },
  {
   "cell_type": "code",
   "execution_count": 20,
   "metadata": {},
   "outputs": [
    {
     "name": "stdout",
     "output_type": "stream",
     "text": [
      "12\n",
      "dqw\n",
      "\"dw add\"\n",
      "3\n"
     ]
    }
   ],
   "source": [
    "# 空格转换行\n",
    "list015 = input().split(' ')\n",
    "trigger = False\n",
    "num011 = 0\n",
    "for i in range(len(list015)):\n",
    "    if '\\\"' in list015[i]:\n",
    "        trigger = not trigger\n",
    "    if trigger:\n",
    "        print(list015[i], end=' ')\n",
    "    else:\n",
    "        print(list015[i])\n",
    "        num011 += 1\n",
    "print(num011)"
   ]
  },
  {
   "cell_type": "code",
   "execution_count": 21,
   "metadata": {},
   "outputs": [
    {
     "name": "stdout",
     "output_type": "stream",
     "text": [
      "1/2+1/19+1/38\n"
     ]
    }
   ],
   "source": [
    "# 分解分数\n",
    "list016 = list(map(int, input().split('/')))\n",
    "num012 = list016[0]*10\n",
    "num013 = list016[1]*10\n",
    "# print(num012)\n",
    "list017 = []\n",
    "while num012:\n",
    "    for i in range(num012, 0, -1):\n",
    "        if num013%i == 0:\n",
    "            list017.append('1/'+str(int(num013/i)))\n",
    "            num012 -= i\n",
    "            break # 此处 break 用于改变循环上限\n",
    "print('+'.join(list017))"
   ]
  },
  {
   "cell_type": "code",
   "execution_count": 22,
   "metadata": {},
   "outputs": [
    {
     "data": {
      "text/plain": [
       "35"
      ]
     },
     "execution_count": 22,
     "metadata": {},
     "output_type": "execute_result"
    }
   ],
   "source": [
    "# 走方格\n",
    "num014, num015 = map(int, input().split())\n",
    "def function015(n, m):\n",
    "    if n == 0 or m == 0:\n",
    "        return 1\n",
    "    return function015(n-1, m) + function015(n, m-1)\n",
    "function015(num014, num015)"
   ]
  },
  {
   "cell_type": "code",
   "execution_count": null,
   "metadata": {},
   "outputs": [],
   "source": [
    "# 计票\n",
    "'''from collections import defaultdict\n",
    "num016 = int(input())\n",
    "list018 = input().split()\n",
    "num017 = int(input())\n",
    "list019 = input().split()\n",
    "list020 = []\n",
    "for i in range(num017):\n",
    "    if list019[i] not in list018:\n",
    "        list020.append(list019.pop(i)) # 这里是关键: pop掉后导致列表list019长度改变报错\n",
    "dict004 = defaultdict(int)\n",
    "for i in range(num016):\n",
    "    dict004[list018[i]] += list019.count(list018[i])\n",
    "for key, value in dict004.items():\n",
    "    print(key, ':', value)\n",
    "print('Invalid :', len(list020))'''\n",
    "from collections import defaultdict\n",
    "num016 = int(input())\n",
    "list018 = input().split()\n",
    "num017 = int(input())\n",
    "list019 = input().split()\n",
    "list020 = []\n",
    "list021 = []\n",
    "for i in range(num017):\n",
    "    if list019[i] not in list018:\n",
    "        list020.append(list019[i])\n",
    "    else:\n",
    "        list021.append(list019[i])\n",
    "dict004 = defaultdict(int)\n",
    "for i in range(num016):\n",
    "    dict004[list018[i]] += list019.count(list018[i])\n",
    "for key, value in dict004.items():\n",
    "    print(key, ':', value)\n",
    "print('Invalid :', len(list020))"
   ]
  },
  {
   "cell_type": "code",
   "execution_count": null,
   "metadata": {},
   "outputs": [],
   "source": [
    "# 最长升序子序列\n",
    "num018 = int(input())\n",
    "list022 = list(map(int, input().split()))\n",
    "dp = [1]*num018\n",
    "for i in range(num018):\n",
    "    for j in range(i):\n",
    "        if list022[i] > list022[j]:\n",
    "            dp[i] = max(dp[i], dp[j]+1)\n",
    "print(max(dp))"
   ]
  },
  {
   "cell_type": "code",
   "execution_count": 29,
   "metadata": {},
   "outputs": [
    {
     "name": "stdout",
     "output_type": "stream",
     "text": [
      "2\n"
     ]
    }
   ],
   "source": [
    "# 匹配理论\n",
    "def function016(n): # 判断是否为质数\n",
    "    if n<3:\n",
    "        return n==2\n",
    "    for i in range(2, n):\n",
    "        if n%i == 0:\n",
    "            return False\n",
    "    return True\n",
    "# function016(int(input()))\n",
    "\n",
    "def function017(x, list026): # 匹配\n",
    "    for j in range(len(list026)):\n",
    "        if not chosen[j] and function016(x+list026[j]):\n",
    "            chosen[j] = True\n",
    "            if not wife[j] or function017(wife[j], list026): # wife[j]是j的伴侣，如果j还没嫁或j的伴侣wife[j]还能娶，就抢过来j\n",
    "                wife[j] = x\n",
    "                return True\n",
    "    return False\n",
    "\n",
    "num019 = int(input())\n",
    "list023 = list(map(int, input().split()))\n",
    "list024 = []\n",
    "list025 = []\n",
    "for i in range(len(list023)):\n",
    "    if list023[i]%2 == 0:\n",
    "        list024.append(list023[i]) # 输入的数据大小满足 2≤val\n",
    "    else:\n",
    "        list025.append(list023[i])\n",
    "s = 0\n",
    "wife = [False]*len(list025)\n",
    "for i in range(len(list024)):\n",
    "    chosen = [False]*len(list025)\n",
    "    if function017(list024[i], list025):\n",
    "        s += 1\n",
    "print(s)"
   ]
  },
  {
   "cell_type": "code",
   "execution_count": 30,
   "metadata": {},
   "outputs": [
    {
     "name": "stdout",
     "output_type": "stream",
     "text": [
      "2 3 4 5 7 11 13 17 19 23 29 31 37 41 43 47 53 59 61 67 71 73 79 83 89 97 "
     ]
    }
   ],
   "source": [
    "# 埃氏筛法\n",
    "def function019(): # 生成从2开始的自然数序列\n",
    "    n = 2\n",
    "    while True:\n",
    "        n += 1\n",
    "        yield n\n",
    "'''g = function019()\n",
    "next(g)\n",
    "next(g)'''\n",
    "\n",
    "def function020(n): # 筛选出不会整除之前数的数\n",
    "    return lambda x:x%n != 0\n",
    "\n",
    "def function021():\n",
    "    yield 2\n",
    "    it = function019()\n",
    "    while True:\n",
    "        n = next(it)\n",
    "        yield n\n",
    "        it = filter(function020(n), it)\n",
    "\n",
    "for n in function021():\n",
    "    if n < 100:\n",
    "        print(n, end=' ')\n",
    "    else:\n",
    "        break"
   ]
  },
  {
   "cell_type": "code",
   "execution_count": null,
   "metadata": {},
   "outputs": [],
   "source": [
    "# 1\n",
    "n, x = map(int, input().split())\n",
    "lis = list(map(int, input().split()))\n",
    "count = 0\n",
    "summ = sum(lis)\n",
    "for i in range(n):\n",
    "    new_summ = summ - lis[i]\n",
    "    if new_summ >= x:\n",
    "        count += 1\n",
    "print(count)"
   ]
  },
  {
   "cell_type": "code",
   "execution_count": null,
   "metadata": {},
   "outputs": [],
   "source": [
    "# 2\n",
    "# 输入一串数字和数字长度n\n",
    "# 选取两个不同下标i，j\n",
    "# 第i个数 += 1\n",
    "# 第j个数 -= 1\n",
    "# 寻找修改后列表所有元素乘积的最大值，要求结果对1e9+7取模\n",
    "\n",
    "# 例：\n",
    "#     in:\n",
    "#     3 1 7\n",
    "#     out:\n",
    "#     30\n",
    "# 解释：\n",
    "#     1变成2，7变成6，可使乘积最大，3*2*6=30\n",
    "def prod(lis, n):\n",
    "    max_prod = 1\n",
    "    for i in range(n):\n",
    "        max_prod *= lis[i]\n",
    "    return max_prod\n",
    "\n",
    "n = int(input())\n",
    "lis = list(map(int, input().split()))\n",
    "lis.sort()\n",
    "lis[0] += 1\n",
    "lis[-1] -= 1\n",
    "max_prod = prod(lis, n)\n",
    "print(int(max_prod%(1e9+7)))"
   ]
  },
  {
   "cell_type": "code",
   "execution_count": null,
   "metadata": {},
   "outputs": [],
   "source": [
    "# 3\n",
    "# 输入一个字符串s，先令t=s\n",
    "# 循环：\n",
    "#     s去掉最后一个字符，加到t上\n",
    "#     s去掉第一个字符，加到t上\n",
    "# 最后输入一个下标i，返回t中第i个数\n",
    "\n",
    "# 例：\n",
    "#     in:\n",
    "#     s = 'abc'\n",
    "#     i = 5\n",
    "#     out:\n",
    "#     b\n",
    "# 解释：\n",
    "#     t = 'abcabb'\n",
    "#     t[4] = b\n",
    "n, q = map(int, input().split())\n",
    "s = input()\n",
    "t = s\n",
    "for i in range(n//2):\n",
    "    t += s[:-1]\n",
    "    s = s[:-1]\n",
    "    t += s[1:]\n",
    "    s = s[1:]\n",
    "for i in range(q):\n",
    "    print(t[int(input())-1])"
   ]
  },
  {
   "cell_type": "code",
   "execution_count": null,
   "metadata": {},
   "outputs": [],
   "source": [
    "# 3\n",
    "n, q = map(int, input().split())\n",
    "s = list(input())\n",
    "t = s.copy()\n",
    "for i in range(n//2):\n",
    "    s.pop()\n",
    "    t.extend(s)\n",
    "    s.pop(0)\n",
    "    t.extend(s)\n",
    "for i in range(q):\n",
    "    print(t[int(input())-1])"
   ]
  },
  {
   "cell_type": "code",
   "execution_count": null,
   "metadata": {},
   "outputs": [],
   "source": [
    "# 4\n",
    "from collections import defaultdict\n",
    "n = int(input())\n",
    "tree = input()\n",
    "edges = defaultdict(set)\n",
    "for i in range(n-1):\n",
    "    v1, v2 = map(int, input().split())\n",
    "    edges[v1-1].add(v2-1)\n",
    "\n",
    "max_step = 0\n",
    "visited = set()\n",
    "q = [0]\n",
    "step = 0\n",
    "while q:\n",
    "    cur = q.pop(0)\n",
    "    if tree[cur] == 'R':\n",
    "        max_step = step\n",
    "    step += 1\n",
    "    for child in edges[cur]:\n",
    "        if child not in visited:\n",
    "            q.append(child)\n",
    "            visited.add(child)\n",
    "print(max_step)\n",
    "\n",
    "step = 0\n",
    "q = [0]\n",
    "visited = set()\n",
    "while q:\n",
    "    cur = q.pop(0)\n",
    "    if tree[cur] == 'R':\n",
    "        print(step)\n",
    "        break\n",
    "    for child in edges[cur]:\n",
    "        if child not in visited:\n",
    "            q.append(child)\n",
    "            visited.add(child)\n",
    "    step += 1"
   ]
  }
 ],
 "metadata": {
  "kernelspec": {
   "display_name": "base",
   "language": "python",
   "name": "python3"
  },
  "language_info": {
   "codemirror_mode": {
    "name": "ipython",
    "version": 3
   },
   "file_extension": ".py",
   "mimetype": "text/x-python",
   "name": "python",
   "nbconvert_exporter": "python",
   "pygments_lexer": "ipython3",
   "version": "3.11.5"
  },
  "orig_nbformat": 4
 },
 "nbformat": 4,
 "nbformat_minor": 2
}
