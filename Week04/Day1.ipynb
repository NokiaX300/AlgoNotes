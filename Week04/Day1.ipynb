{
 "cells": [
  {
   "cell_type": "markdown",
   "metadata": {},
   "source": [
    "前缀和数组\n",
    "\n",
    "https://labuladong.github.io/article/fname.html?fname=前缀和技巧"
   ]
  },
  {
   "cell_type": "code",
   "execution_count": null,
   "metadata": {},
   "outputs": [],
   "source": [
    "# 303. 区域和检索 - 数组不可变\n",
    "# https://leetcode.cn/problems/range-sum-query-immutable/\n",
    "\n",
    "class NumArray:\n",
    "\n",
    "    def __init__(self, nums: List[int]):\n",
    "        self.numarray = nums\n",
    "\n",
    "    def sumRange(self, left: int, right: int) -> int:\n",
    "        res = 0\n",
    "        for i in range(left, right+1):\n",
    "            res += self.numarray[i]\n",
    "        return res\n",
    "\n",
    "# Your NumArray object will be instantiated and called as such:\n",
    "# obj = NumArray(nums)\n",
    "# param_1 = obj.sumRange(left,right)"
   ]
  },
  {
   "cell_type": "code",
   "execution_count": null,
   "metadata": {},
   "outputs": [],
   "source": [
    "# 303. 区域和检索 - 数组不可变\n",
    "# https://leetcode.cn/problems/range-sum-query-immutable/\n",
    "\n",
    "class NumArray: # 使用前缀和\n",
    "\n",
    "    def __init__(self, nums: List[int]):\n",
    "        self.preSum = [0]*(len(nums)+1)\n",
    "        for i in range(1, len(self.preSum)):\n",
    "            self.preSum[i] = self.preSum[i-1] + nums[i-1]\n",
    "\n",
    "    def sumRange(self, left: int, right: int) -> int:\n",
    "        return self.preSum[right+1] - self.preSum[left]\n",
    "\n",
    "# Your NumArray object will be instantiated and called as such:\n",
    "# obj = NumArray(nums)\n",
    "# param_1 = obj.sumRange(left,right)"
   ]
  },
  {
   "cell_type": "markdown",
   "metadata": {},
   "source": [
    "<img src=\"303.png\" style=\"zoom:50%\" />"
   ]
  },
  {
   "cell_type": "code",
   "execution_count": null,
   "metadata": {},
   "outputs": [],
   "source": [
    "# 304. 二维区域和检索 - 矩阵不可变\n",
    "# https://leetcode.cn/problems/range-sum-query-2d-immutable/\n",
    "\n",
    "class NumMatrix:\n",
    "\n",
    "    def __init__(self, matrix: List[List[int]]):\n",
    "        m = len(matrix)\n",
    "        n = len(matrix[0])\n",
    "        if m == 0 or n == 0:\n",
    "            return\n",
    "        self.preSum = [[0 for _ in range(n+1)] for _ in range(m+1)]\n",
    "        for i in range(1, m+1):\n",
    "            for j in range(1, n+1):\n",
    "                self.preSum[i][j] = matrix[i-1][j-1] - self.preSum[i-1][j-1] + self.preSum[i-1][j] + self.preSum[i][j-1]\n",
    "                # 注意 preSum 比 matrix 多了一圈 0\n",
    "\n",
    "    def sumRegion(self, row1: int, col1: int, row2: int, col2: int) -> int:\n",
    "        return self.preSum[row2+1][col2+1] - self.preSum[row1][col2+1] - self.preSum[row2+1][col1] + self.preSum[row1][col1]\n",
    "\n",
    "\n",
    "# Your NumMatrix object will be instantiated and called as such:\n",
    "# obj = NumMatrix(matrix)\n",
    "# param_1 = obj.sumRegion(row1,col1,row2,col2)"
   ]
  },
  {
   "cell_type": "markdown",
   "metadata": {},
   "source": [
    "<img src=\"304.png\" style=\"zoom:50%\" />"
   ]
  },
  {
   "cell_type": "code",
   "execution_count": 1,
   "metadata": {},
   "outputs": [
    {
     "name": "stdout",
     "output_type": "stream",
     "text": [
      "[[0, 0, 0, 0], [0, 0, 0, 0], [0, 0, 0, 0], [0, 0, 0, 0], [0, 0, 0, 0], [0, 0, 0, 0]]\n",
      "[[0, 0, 0, 0, 0, 0, 0, 0, 0, 0, 0, 0, 0, 0, 0, 0, 0, 0, 0, 0, 0, 0, 0, 0]]\n",
      "[[0, 0, 0, 0], [0, 0, 0, 0], [0, 0, 0, 0], [0, 0, 0, 0], [0, 0, 0, 0], [0, 0, 0, 0]]\n",
      "[[0], [0], [0], [0], [0], [0], [0], [0], [0], [0], [0], [0], [0], [0], [0], [0], [0], [0], [0], [0]]\n"
     ]
    }
   ],
   "source": [
    "a = [[0]*(4) for _ in range(6)]\n",
    "print(a)\n",
    "b = [[0]*(4) *6]\n",
    "print(b)\n",
    "c = [[0 for _ in range(4)] for _ in range(6)]\n",
    "print(c)\n",
    "d = [[0] for _ in range(4) for _ in range(5)]\n",
    "print(d)"
   ]
  },
  {
   "cell_type": "code",
   "execution_count": null,
   "metadata": {},
   "outputs": [],
   "source": [
    "# 209. 长度最小的子数组\n",
    "# https://leetcode.cn/problems/minimum-size-subarray-sum/\n",
    "\n",
    "class Solution:\n",
    "    def minSubArrayLen(self, target: int, nums: List[int]) -> int:\n",
    "        preSum = [0]*(len(nums)+1)\n",
    "        for i in range(1, len(nums)+1):\n",
    "            preSum[i] = preSum[i-1] + nums[i-1]\n",
    "        left = right = 0\n",
    "        length = float('inf')\n",
    "        while right < len(preSum):\n",
    "            while preSum[right] - preSum[left] >= target:\n",
    "                length = min(length, right - left)\n",
    "                left += 1\n",
    "            right += 1\n",
    "        return 0 if length == float('inf') else length"
   ]
  },
  {
   "cell_type": "code",
   "execution_count": null,
   "metadata": {},
   "outputs": [],
   "source": [
    "# 209. 长度最小的子数组\n",
    "# https://leetcode.cn/problems/minimum-size-subarray-sum/\n",
    "\n",
    "import bisect\n",
    "class Solution: # 使用二分法达到 O(n log(n)) 时间复杂度\n",
    "    def minSubArrayLen(self, target: int, nums: List[int]) -> int:\n",
    "        preSum = [0]*(len(nums)+1)\n",
    "        for i in range(1, len(nums)+1):\n",
    "            preSum[i] = preSum[i-1] + nums[i-1]\n",
    "        length = float('inf')\n",
    "        for i in range(1, len(preSum)):\n",
    "            if preSum[i] >= target:\n",
    "                j = bisect.bisect_left(preSum, preSum[i] - target)\n",
    "                if preSum[i] - target == preSum[j]:\n",
    "                    length = min(length, i-j)\n",
    "                else:\n",
    "                    length = min(length, i-j+1)\n",
    "        return 0 if length == float('inf') else length"
   ]
  },
  {
   "cell_type": "code",
   "execution_count": null,
   "metadata": {},
   "outputs": [],
   "source": [
    "target = 7\n",
    "nums = [2,3,1,2,4,3]\n",
    "preSum = [0,2,5,6,8,12,15]"
   ]
  },
  {
   "cell_type": "code",
   "execution_count": null,
   "metadata": {},
   "outputs": [],
   "source": [
    "target = 11\n",
    "nums = [1,2,3,4,5]\n",
    "preSum = [0,1,3,6,10,15]"
   ]
  },
  {
   "cell_type": "code",
   "execution_count": 12,
   "metadata": {},
   "outputs": [
    {
     "data": {
      "text/plain": [
       "2"
      ]
     },
     "execution_count": 12,
     "metadata": {},
     "output_type": "execute_result"
    }
   ],
   "source": [
    "# 560. 和为 K 的子数组\n",
    "# https://leetcode.cn/problems/subarray-sum-equals-k/\n",
    "\n",
    "'''import bisect\n",
    "from typing import List\n",
    "class Solution:\n",
    "    def subarraySum(self, nums: List[int], k: int) -> int:\n",
    "        preSum = [0]*(len(nums)+1)\n",
    "        for i in range(1, len(preSum)):\n",
    "            preSum[i] = preSum[i-1] + nums[i-1]\n",
    "        res = 0\n",
    "        for i in range(1, len(preSum)):\n",
    "            j = bisect.bisect_left(preSum, preSum[i] - k)\n",
    "            if preSum[i] - k in preSum and i > preSum.index(preSum[i] - k):\n",
    "                res += 1\n",
    "        return res\n",
    "a = Solution()\n",
    "a.subarraySum(nums = [1,-1,0], k = 0)'''"
   ]
  },
  {
   "cell_type": "code",
   "execution_count": 4,
   "metadata": {},
   "outputs": [
    {
     "data": {
      "text/plain": [
       "2"
      ]
     },
     "execution_count": 4,
     "metadata": {},
     "output_type": "execute_result"
    }
   ],
   "source": [
    "# 560. 和为 K 的子数组\n",
    "# https://leetcode.cn/problems/subarray-sum-equals-k/\n",
    "\n",
    "# 时间复杂度过高\n",
    "from typing import List\n",
    "class Solution:\n",
    "    def subarraySum(self, nums: List[int], k: int) -> int:\n",
    "        preSum = [0]*(len(nums)+1)\n",
    "        for i in range(1, len(preSum)):\n",
    "            preSum[i] = preSum[i-1] + nums[i-1]\n",
    "        res = 0\n",
    "        for j in range(1, len(preSum)):\n",
    "            for l in range(j):\n",
    "                if preSum[j]-preSum[l]==k:\n",
    "                    res += 1\n",
    "        return res\n",
    "        '''for i in range(1, len(preSum)):\n",
    "            j = bisect.bisect_left(preSum, preSum[i] - k)\n",
    "            # print(j)\n",
    "            if j in preSum and i > j:\n",
    "                res += 1\n",
    "        return res'''\n",
    "    \n",
    "Solution().subarraySum([1,1,1], 2)\n",
    "# 滑动窗口需要满足单调性"
   ]
  },
  {
   "cell_type": "code",
   "execution_count": null,
   "metadata": {},
   "outputs": [],
   "source": [
    "nums = [1,2,3]\n",
    "preSum = [0,1,3,6]\n",
    "k = 3\n",
    "res = 2"
   ]
  },
  {
   "cell_type": "code",
   "execution_count": null,
   "metadata": {},
   "outputs": [],
   "source": [
    "nums = [1]\n",
    "preSum = [0,1]\n",
    "k = 0\n",
    "res = 0"
   ]
  },
  {
   "cell_type": "code",
   "execution_count": null,
   "metadata": {},
   "outputs": [],
   "source": [
    "nums = [-1,-1,1]\n",
    "preSum = [0,-1,-2,-1]\n",
    "k = 0\n",
    "res = 1"
   ]
  },
  {
   "cell_type": "code",
   "execution_count": 14,
   "metadata": {},
   "outputs": [
    {
     "data": {
      "text/plain": [
       "1"
      ]
     },
     "execution_count": 14,
     "metadata": {},
     "output_type": "execute_result"
    }
   ],
   "source": [
    "# 560. 和为 K 的子数组\n",
    "# https://leetcode.cn/problems/subarray-sum-equals-k/\n",
    "\n",
    "from collections import defaultdict\n",
    "class Solution:\n",
    "    def subarraySum(self, nums: List[int], k: int) -> int:\n",
    "        dic = defaultdict(int)\n",
    "        dic[0] = 1 # [1,1,1], k=2\n",
    "        res = summ = 0\n",
    "        for i in range(len(nums)):\n",
    "            summ += nums[i]\n",
    "            res += dic[summ - k]\n",
    "            dic[summ] += 1\n",
    "        return res"
   ]
  },
  {
   "cell_type": "code",
   "execution_count": null,
   "metadata": {},
   "outputs": [],
   "source": [
    "# 437. 路径总和 III\n",
    "# https://leetcode.cn/problems/path-sum-iii/\n",
    "\n",
    "# Definition for a binary tree node.\n",
    "# class TreeNode:\n",
    "#     def __init__(self, val=0, left=None, right=None):\n",
    "#         self.val = val\n",
    "#         self.left = left\n",
    "#         self.right = right\n",
    "class Solution:\n",
    "    def pathSum(self, root: Optional[TreeNode], targetSum: int) -> int:\n",
    "        def rootSum(root, targetSum):\n",
    "            if not root:\n",
    "                return 0\n",
    "            res = 0\n",
    "            if root.val == targetSum:\n",
    "                res += 1\n",
    "            res += rootSum(root.left, targetSum-root.val)\n",
    "            res += rootSum(root.right, targetSum-root.val)\n",
    "            return res\n",
    "        if not root:\n",
    "            return 0\n",
    "        res = rootSum(root, targetSum)\n",
    "        res += self.pathSum(root.left, targetSum)\n",
    "        res += self.pathSum(root.right, targetSum)\n",
    "        return res"
   ]
  },
  {
   "cell_type": "code",
   "execution_count": null,
   "metadata": {},
   "outputs": [],
   "source": [
    "# 437. 路径总和 III\n",
    "# https://leetcode.cn/problems/path-sum-iii/\n",
    "\n",
    "# Definition for a binary tree node.\n",
    "# class TreeNode:\n",
    "#     def __init__(self, val=0, left=None, right=None):\n",
    "#         self.val = val\n",
    "#         self.left = left\n",
    "#         self.right = right\n",
    "class Solution: # 使用前缀和\n",
    "    def pathSum(self, root: TreeNode, targetSum: int) -> int:\n",
    "        prefix = collections.defaultdict(int)\n",
    "        prefix[0] = 1\n",
    "\n",
    "        def dfs(root, curr):\n",
    "            if not root:\n",
    "                return 0\n",
    "            \n",
    "            ret = 0\n",
    "            curr += root.val\n",
    "            ret += prefix[curr - targetSum]\n",
    "            prefix[curr] += 1\n",
    "            ret += dfs(root.left, curr)\n",
    "            ret += dfs(root.right, curr)\n",
    "            prefix[curr] -= 1\n",
    "\n",
    "            return ret\n",
    "\n",
    "        return dfs(root, 0)"
   ]
  }
 ],
 "metadata": {
  "kernelspec": {
   "display_name": "base",
   "language": "python",
   "name": "python3"
  },
  "language_info": {
   "codemirror_mode": {
    "name": "ipython",
    "version": 3
   },
   "file_extension": ".py",
   "mimetype": "text/x-python",
   "name": "python",
   "nbconvert_exporter": "python",
   "pygments_lexer": "ipython3",
   "version": "3.11.5"
  },
  "orig_nbformat": 4
 },
 "nbformat": 4,
 "nbformat_minor": 2
}
