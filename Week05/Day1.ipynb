{
 "cells": [
  {
   "cell_type": "markdown",
   "metadata": {},
   "source": [
    "反转单链表\n",
    "\n",
    "https://labuladong.github.io/article/fname.html?fname=递归反转链表的一部分"
   ]
  },
  {
   "cell_type": "code",
   "execution_count": null,
   "metadata": {},
   "outputs": [],
   "source": [
    "# 206. 反转链表\n",
    "# https://leetcode.cn/problems/reverse-linked-list/\n",
    "\n",
    "class ListNode:\n",
    "    def __init__(self, val=0, next=None):\n",
    "        self.val = val\n",
    "        self.next = next\n",
    "\n",
    "\n",
    "class Solution: # 迭代\n",
    "    def reverseList(self, head: Optional[ListNode]) -> Optional[ListNode]:\n",
    "        cur = head\n",
    "        prev = None\n",
    "        while cur:\n",
    "            temp = cur.next\n",
    "            cur.next = prev\n",
    "            prev = cur\n",
    "            cur = temp\n",
    "        return prev"
   ]
  },
  {
   "cell_type": "code",
   "execution_count": null,
   "metadata": {},
   "outputs": [],
   "source": [
    "# 206. 反转链表\n",
    "# https://leetcode.cn/problems/reverse-linked-list/\n",
    "\n",
    "class ListNode:\n",
    "    def __init__(self, val=0, next=None):\n",
    "        self.val = val\n",
    "        self.next = next\n",
    "\n",
    "\n",
    "class Solution: # 迭代\n",
    "    def reverseList(self, head: Optional[ListNode]) -> Optional[ListNode]:\n",
    "        dummy = ListNode(-1)\n",
    "        while head:\n",
    "            # 视为将 head 不断插入到 dummy 和 dummy.next 之中\n",
    "            dummy.next, head.next, head = head, dummy.next, head.next\n",
    "        return dummy.next"
   ]
  },
  {
   "cell_type": "code",
   "execution_count": null,
   "metadata": {},
   "outputs": [],
   "source": [
    "# 206. 反转链表\n",
    "# https://leetcode.cn/problems/reverse-linked-list/\n",
    "\n",
    "class ListNode:\n",
    "    def __init__(self, val=0, next=None):\n",
    "        self.val = val\n",
    "        self.next = next\n",
    "\n",
    "\n",
    "class Solution: # 递归\n",
    "    def reverseList(self, head: Optional[ListNode]) -> Optional[ListNode]:\n",
    "        if not head or not head.next:\n",
    "            return head\n",
    "        last = Solution.reverseList(self, head.next) # 根据函数定义，弄清代码会产生的结果\n",
    "        head.next.next = head\n",
    "        head.next = None\n",
    "        return last\n",
    "    \n",
    "# last 一直是 6"
   ]
  },
  {
   "cell_type": "markdown",
   "metadata": {},
   "source": [
    "<img src=\"206.png\" style=\"zoom:50%\" />"
   ]
  },
  {
   "cell_type": "code",
   "execution_count": 32,
   "metadata": {},
   "outputs": [
    {
     "name": "stdout",
     "output_type": "stream",
     "text": [
      "1 -> 2 -> 3 -> 4 -> 5 -> None\n"
     ]
    }
   ],
   "source": [
    "class ListNode:\n",
    "    def __init__(self, val=0, next=None):\n",
    "        self.val = val\n",
    "        self.next = next\n",
    "\n",
    "# 创建链表 (搜索用)\n",
    "def create_linked_list(arr):\n",
    "    head = ListNode()\n",
    "    current = head\n",
    "    for val in arr:\n",
    "        current.next = ListNode(val)\n",
    "        current = current.next\n",
    "    return head.next\n",
    "\n",
    "def print_linked_list(head):\n",
    "    current = head\n",
    "    while current:\n",
    "        print(current.val, end=\" -> \")\n",
    "        current = current.next\n",
    "    print(\"None\")\n",
    "\n",
    "head_test = create_linked_list([1, 2, 3, 4, 5])\n",
    "print_linked_list(head_test)"
   ]
  },
  {
   "cell_type": "code",
   "execution_count": 7,
   "metadata": {},
   "outputs": [
    {
     "name": "stdout",
     "output_type": "stream",
     "text": [
      "1 -> None\n"
     ]
    }
   ],
   "source": [
    "'''# 反转链表前 N 个节点\n",
    "\n",
    "from typing import Optional\n",
    "class ListNode:\n",
    "    def __init__(self, val=0, next=None):\n",
    "        self.val = val\n",
    "        self.next = next\n",
    "\n",
    "\n",
    "class Solution:\n",
    "    def reverseN(self, head: Optional[ListNode], n: int) -> Optional[ListNode]:\n",
    "        successor = None\n",
    "        if n == 1:\n",
    "            successor = head.next\n",
    "            return head\n",
    "        last = Solution.reverseN(self, head.next, n-1)\n",
    "        head.next.next = head\n",
    "        head.next = successor\n",
    "        return last\n",
    "    \n",
    "Solution().reverseN(head_test, 4)\n",
    "print_linked_list(head_test)'''"
   ]
  },
  {
   "cell_type": "code",
   "execution_count": 21,
   "metadata": {},
   "outputs": [
    {
     "name": "stdout",
     "output_type": "stream",
     "text": [
      "0\n"
     ]
    }
   ],
   "source": [
    "def test(n):\n",
    "    successor = 0\n",
    "    if n == 1:\n",
    "        successor = 1\n",
    "        return\n",
    "    test(n-1)\n",
    "    print(successor)\n",
    "\n",
    "test(2)\n",
    "# 即使在递归调用中 successor 被更新为 1\n",
    "# 但在当前函数调用中的 print(successor) 语句打印的仍然是0\n",
    "# 简单来说就是隔层了\n",
    "# 每个递归层级都有自己的 successor"
   ]
  },
  {
   "cell_type": "code",
   "execution_count": 31,
   "metadata": {},
   "outputs": [
    {
     "name": "stdout",
     "output_type": "stream",
     "text": [
      "3 -> 2 -> 1 -> 4 -> 5 -> None\n"
     ]
    }
   ],
   "source": [
    "# 反转链表前 N 个节点\n",
    "\n",
    "from typing import Optional\n",
    "class ListNode:\n",
    "    def __init__(self, val=0, next=None):\n",
    "        self.val = val\n",
    "        self.next = next\n",
    "\n",
    "\n",
    "class Solution:\n",
    "    successor = None\n",
    "    def reverseN(self, head: Optional[ListNode], n: int) -> Optional[ListNode]:\n",
    "        global successor\n",
    "        if n == 1:\n",
    "            successor = head.next\n",
    "            return head\n",
    "        last = Solution.reverseN(self, head.next, n-1)\n",
    "        head.next.next = head\n",
    "        head.next = successor\n",
    "        return last\n",
    "    \n",
    "s = Solution().reverseN(head_test, 3)\n",
    "print_linked_list(s)"
   ]
  },
  {
   "cell_type": "code",
   "execution_count": null,
   "metadata": {},
   "outputs": [],
   "source": [
    "# 92. 反转链表 II\n",
    "# https://leetcode.cn/problems/reverse-linked-list-ii/\n",
    "\n",
    "class ListNode:\n",
    "    def __init__(self, val=0, next=None):\n",
    "        self.val = val\n",
    "        self.next = next\n",
    "\n",
    "\n",
    "class Solution:\n",
    "    successor = None\n",
    "    def reverseN(self, head: Optional[ListNode], n: int) -> Optional[ListNode]:\n",
    "        global successor\n",
    "        if n == 1:\n",
    "            successor = head.next\n",
    "            return head\n",
    "        last = Solution.reverseN(self, head.next, n-1)\n",
    "        head.next.next = head\n",
    "        head.next = successor\n",
    "        return last\n",
    "    \n",
    "    def reverseBetween(self, head: Optional[ListNode], left: int, right: int) -> Optional[ListNode]:\n",
    "        if left == 1:\n",
    "            return Solution.reverseN(self, head, right)\n",
    "        head.next = Solution.reverseBetween(self, head.next, left-1, right-1)\n",
    "        return head"
   ]
  },
  {
   "cell_type": "code",
   "execution_count": null,
   "metadata": {},
   "outputs": [],
   "source": [
    "'''好的, 让我们通过一个具体的例子来逐步解析这段代码。\n",
    "\n",
    "假设我们有一个链表, 其中节点的值分别为1->2->3->4->5, 我们将这个链表作为参数传递给reverse函数, 即`reverse(1)`。\n",
    "\n",
    "第一步, 检查head是否为空或者head的下一个节点为空。在我们的例子中, head是1, 并且head有一个下一个节点2, 所以不满足条件。\n",
    "\n",
    "接下来, 我们调用reverse函数, 并将head的下一个节点2作为参数, 即`reverse(2)`。这里发生了递归调用。\n",
    "\n",
    "继续进行递归调用, 我们再次检查新的head是否满足条件。在这个例子中, head是2, 并且head有一个下一个节点3, 仍然不满足条件。\n",
    "\n",
    "我们再次调用reverse函数, 并将head的下一个节点3作为参数, 即`reverse(3)`。\n",
    "\n",
    "再次进行递归调用, 检查新的head是否满足条件。在这个例子中, head是3, 并且head有一个下一个节点4, 也不满足条件。\n",
    "\n",
    "我们再次调用reverse函数, 并将head的下一个节点4作为参数, 即`reverse(4)`。\n",
    "\n",
    "继续进行递归调用, 检查新的head是否满足条件。在这个例子中, head是4, 并且head有一个下一个节点5, 仍然不满足条件。\n",
    "\n",
    "我们再次调用reverse函数, 并将head的下一个节点5作为参数, 即`reverse(5)`。\n",
    "\n",
    "这次进行递归调用时, 满足条件了。因为head是5, 而head没有下一个节点, 所以我们直接返回head作为反转后的链表。\n",
    "\n",
    "回到之前的递归调用, 当我们得到reverse(5)的结果时, 将其赋值给变量last。\n",
    "\n",
    "现在我们回到上一层的递归调用, 也就是reverse(4)。我们可以看到last已经指向了反转后的链表头节点, 也就是5。\n",
    "\n",
    "接下来的操作是执行 `head.next.next = head`, 这一步将节点4的next指针指向节点4本身, 实现了节点的反转, 变成了5->4。\n",
    "\n",
    "然后, 我们执行 `head.next = None`, 断开原来的指针, 将节点4的next指针设置为None。\n",
    "\n",
    "最后, 我们返回last, 也就是反转后的链表头节点, 即5。\n",
    "\n",
    "继续回到上一层的递归调用, 也就是reverse(3)。此时last指向了反转后的链表头节点, 即5。\n",
    "\n",
    "执行 `head.next.next = head`, 将节点3的next指针指向节点3本身, 变成了4->3。\n",
    "\n",
    "然后执行 `head.next = None`, 将节点3的next指针设置为None。\n",
    "\n",
    "返回last, 即反转后的链表头节点, 即5。\n",
    "\n",
    "接着回到上一层的递归调用, 也就是reverse(2)。此时last指向了反转后的链表头节点, 即5。\n",
    "\n",
    "执行 `head.next.next = head`, 将节点2的next指针指向节点2本身, 变成了3->2。\n",
    "\n",
    "然后执行 `head.next = None`, 将节点2的next指针设置为None。\n",
    "\n",
    "返回last, 即反转后的链表头节点, 即5。\n",
    "\n",
    "最后回到主函数调用的reverse(1), 此时last指向了反转后的链表头节点, 即5。\n",
    "\n",
    "执行 `head.next.next = head`, 将节点1的next指针指向节点1本身, 变成了2->1。\n",
    "\n",
    "然后执行 `head.next = None`, 将节点1的next指针设置为None。\n",
    "\n",
    "返回last, 即反转后的链表头节点, 即5。\n",
    "\n",
    "最终得到的反转后的链表为5->4->3->2->1。\n",
    "\n",
    "希望这个例子能帮助你理解这段代码的执行过程。'''"
   ]
  },
  {
   "cell_type": "code",
   "execution_count": null,
   "metadata": {},
   "outputs": [],
   "source": [
    "# 92. 反转链表 II\n",
    "# https://leetcode.cn/problems/reverse-linked-list-ii/\n",
    "\n",
    "class ListNode:\n",
    "    def __init__(self, val=0, next=None):\n",
    "        self.val = val\n",
    "        self.next = next\n",
    "\n",
    "\n",
    "class Solution:\n",
    "    successor = None\n",
    "    def reverseBetween(self, head: Optional[ListNode], left: int, right: int) -> Optional[ListNode]:\n",
    "        dummy = ListNode(-1)\n",
    "        dummy.next = head\n",
    "        prev = dummy\n",
    "        while left>1:\n",
    "            prev = prev.next\n",
    "            left -= 1\n",
    "            right -= 1\n",
    "        prev.next = self.reverseN(prev.next, right)\n",
    "        return dummy.next\n",
    "\n",
    "    def reverseN(self, head, n):\n",
    "        global successor\n",
    "        if n == 1:\n",
    "            successor = head.next\n",
    "            return head\n",
    "        last = self.reverseN(head.next, n-1)\n",
    "        head.next.next = head\n",
    "        head.next = successor\n",
    "        return last"
   ]
  }
 ],
 "metadata": {
  "kernelspec": {
   "display_name": "base",
   "language": "python",
   "name": "python3"
  },
  "language_info": {
   "codemirror_mode": {
    "name": "ipython",
    "version": 3
   },
   "file_extension": ".py",
   "mimetype": "text/x-python",
   "name": "python",
   "nbconvert_exporter": "python",
   "pygments_lexer": "ipython3",
   "version": "3.11.5"
  },
  "orig_nbformat": 4
 },
 "nbformat": 4,
 "nbformat_minor": 2
}
