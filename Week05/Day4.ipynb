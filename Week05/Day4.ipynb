{
 "cells": [
  {
   "cell_type": "markdown",
   "metadata": {},
   "source": [
    "单调队列结构解决滑动窗口问题\n",
    "\n",
    "https://labuladong.gitee.io/article/fname.html?fname=单调队列"
   ]
  },
  {
   "cell_type": "code",
   "execution_count": 1,
   "metadata": {},
   "outputs": [],
   "source": [
    "# 239. 滑动窗口最大值\n",
    "# https://leetcode.cn/problems/sliding-window-maximum/\n",
    "\n",
    "from typing import List\n",
    "\n",
    "class MonotonicQueue:\n",
    "    def __init__(self) -> None:\n",
    "        self.maxq = []\n",
    "\n",
    "    def push(self, n: int) -> None:\n",
    "        while self.maxq and self.maxq[-1] < n:\n",
    "            self.maxq.pop()\n",
    "        self.maxq.append(n)\n",
    "\n",
    "    def pop(self, n: int) -> None:\n",
    "        if n == self.maxq[0]:\n",
    "            self.maxq.pop(0)\n",
    "\n",
    "    def max(self) -> int:\n",
    "        return self.maxq[0]\n",
    "\n",
    "\n",
    "class Solution:\n",
    "    def maxSlidingWindow(self, nums: List[int], k: int) -> List[int]:\n",
    "        window = MonotonicQueue()\n",
    "        res = []\n",
    "        for i in range(len(nums)):\n",
    "            if i < k-1:\n",
    "                window.push(nums[i])\n",
    "            else:\n",
    "                window.push(nums[i])\n",
    "                res.append(window.max())\n",
    "                window.pop(nums[i-k+1])\n",
    "        return res"
   ]
  },
  {
   "cell_type": "markdown",
   "metadata": {},
   "source": [
    "<img src=\"239.png\" style=\"zoom:50%\" />"
   ]
  },
  {
   "cell_type": "code",
   "execution_count": 2,
   "metadata": {},
   "outputs": [
    {
     "data": {
      "text/plain": [
       "[3, 3, 5, 5, 6, 7]"
      ]
     },
     "execution_count": 2,
     "metadata": {},
     "output_type": "execute_result"
    }
   ],
   "source": [
    "Solution().maxSlidingWindow(nums = [1,3,-1,-3,5,3,6,7], k = 3)"
   ]
  },
  {
   "cell_type": "code",
   "execution_count": null,
   "metadata": {},
   "outputs": [],
   "source": [
    "# 239. 滑动窗口最大值\n",
    "# https://leetcode.cn/problems/sliding-window-maximum/\n",
    "\n",
    "import heapq\n",
    "class Solution:\n",
    "    def maxSlidingWindow(self, nums: List[int], k: int) -> List[int]:\n",
    "        stack = []\n",
    "        for i in range(k):\n",
    "            heapq.heappush(stack, (-nums[i], i))\n",
    "        res = []\n",
    "        res.append(-stack[0][0])\n",
    "        for j in range(k, len(nums)):\n",
    "            heapq.heappush(stack, (-nums[j], j))\n",
    "            while stack[0][1]<=j-k: # 注意不是 if\n",
    "                heapq.heappop(stack)\n",
    "            res.append(-stack[0][0])\n",
    "        return res"
   ]
  },
  {
   "cell_type": "code",
   "execution_count": 2,
   "metadata": {},
   "outputs": [],
   "source": [
    "# 402. 移掉 K 位数字\n",
    "# https://leetcode.cn/problems/remove-k-digits/\n",
    "\n",
    "class Solution:\n",
    "    def removeKdigits(self, num: str, k: int) -> str:\n",
    "        remain = len(num)-k\n",
    "        s = []\n",
    "        for i in range(len(num)):\n",
    "            while s and k and num[i] < s[-1]:\n",
    "                s.pop()\n",
    "                k -= 1\n",
    "            s.append(num[i])\n",
    "        return ''.join(s[:remain]).lstrip('0') or '0'"
   ]
  },
  {
   "cell_type": "code",
   "execution_count": 3,
   "metadata": {},
   "outputs": [
    {
     "data": {
      "text/plain": [
       "'1219'"
      ]
     },
     "execution_count": 3,
     "metadata": {},
     "output_type": "execute_result"
    }
   ],
   "source": [
    "a = Solution()\n",
    "a.removeKdigits(num='1432219', k=3)"
   ]
  },
  {
   "cell_type": "code",
   "execution_count": 6,
   "metadata": {},
   "outputs": [],
   "source": [
    "# 321. 拼接最大数\n",
    "# https://leetcode.cn/problems/create-maximum-number/\n",
    "\n",
    "from typing import List\n",
    "class Solution:\n",
    "    def maxNumber(self, nums1: List[int], nums2: List[int], k: int) -> List[int]:\n",
    "        def pick_max(nums, k):\n",
    "            s = []\n",
    "            remain = len(nums)-k\n",
    "            for ele in nums:\n",
    "                while s and remain and ele > s[-1]:\n",
    "                    s.pop()\n",
    "                    remain -= 1\n",
    "                s.append(ele)\n",
    "            return s[:k]\n",
    "        \n",
    "        def merge(A: List[int], B: List[int]):\n",
    "            res = []\n",
    "            while A or B:\n",
    "                bigger = A if A > B else B\n",
    "                res.append(bigger[0])\n",
    "                bigger.pop(0)\n",
    "            return res\n",
    "        \n",
    "        # return max(merge(pick_max(nums1, i), pick_max(nums2, k-i)) for i in range(k+1) if i<len(nums1) and k-i<len(nums2))\n",
    "        return max(merge(pick_max(nums1, i), pick_max(nums2, k-i)) for i in range(k+1) if i<=len(nums1) and k-i<=len(nums2))"
   ]
  },
  {
   "cell_type": "code",
   "execution_count": 6,
   "metadata": {},
   "outputs": [
    {
     "data": {
      "text/plain": [
       "[9, 8, 6, 5, 3]"
      ]
     },
     "execution_count": 6,
     "metadata": {},
     "output_type": "execute_result"
    }
   ],
   "source": [
    "from typing import List\n",
    "def merge(A: List[int], B: List[int]):\n",
    "    res = []\n",
    "    while A or B:\n",
    "        bigger = A if A > B else B\n",
    "        res.append(bigger[0])\n",
    "        bigger.pop(0)\n",
    "    return res\n",
    "merge([6, 5], [9, 8, 3])"
   ]
  },
  {
   "cell_type": "code",
   "execution_count": 8,
   "metadata": {},
   "outputs": [
    {
     "ename": "ValueError",
     "evalue": "max() arg is an empty sequence",
     "output_type": "error",
     "traceback": [
      "\u001b[1;31m---------------------------------------------------------------------------\u001b[0m",
      "\u001b[1;31mValueError\u001b[0m                                Traceback (most recent call last)",
      "Cell \u001b[1;32mIn[8], line 1\u001b[0m\n\u001b[1;32m----> 1\u001b[0m Solution()\u001b[39m.\u001b[39;49mmaxNumber([\u001b[39m6\u001b[39;49m,\u001b[39m7\u001b[39;49m],[\u001b[39m6\u001b[39;49m,\u001b[39m0\u001b[39;49m,\u001b[39m4\u001b[39;49m],\u001b[39m5\u001b[39;49m)\n",
      "Cell \u001b[1;32mIn[6], line 25\u001b[0m, in \u001b[0;36mSolution.maxNumber\u001b[1;34m(self, nums1, nums2, k)\u001b[0m\n\u001b[0;32m     22\u001b[0m         bigger\u001b[39m.\u001b[39mpop(\u001b[39m0\u001b[39m)\n\u001b[0;32m     23\u001b[0m     \u001b[39mreturn\u001b[39;00m res\n\u001b[1;32m---> 25\u001b[0m \u001b[39mreturn\u001b[39;00m \u001b[39mmax\u001b[39;49m(merge(pick_max(nums1, i), pick_max(nums2, k\u001b[39m-\u001b[39;49mi)) \u001b[39mfor\u001b[39;49;00m i \u001b[39min\u001b[39;49;00m \u001b[39mrange\u001b[39;49m(k\u001b[39m+\u001b[39;49m\u001b[39m1\u001b[39;49m) \u001b[39mif\u001b[39;49;00m i\u001b[39m<\u001b[39;49m\u001b[39mlen\u001b[39;49m(nums1) \u001b[39mand\u001b[39;49;00m k\u001b[39m-\u001b[39;49mi\u001b[39m<\u001b[39;49m\u001b[39mlen\u001b[39;49m(nums2))\n",
      "\u001b[1;31mValueError\u001b[0m: max() arg is an empty sequence"
     ]
    }
   ],
   "source": [
    "Solution().maxNumber([6,7],[6,0,4],5)"
   ]
  },
  {
   "cell_type": "code",
   "execution_count": null,
   "metadata": {},
   "outputs": [],
   "source": [
    "'''真正能解决报错的原因是你的数据没有满足`if i<len(nums1) and k-i<len(nums2)`条件的情况下，生成了一个空列表，因此在传递给`max()`函数时发生了错误。\n",
    "\n",
    "你提供的修改是在调用`max()`函数之前添加了一个列表推导式，只生成满足条件的列表，并且默认情况下这个列表不会为空。因此，只有当至少有一个满足条件的列表存在时，`max()`函数才会被调用，不会发生错误。\n",
    "\n",
    "这种方法也是有效的，因为它确保了传递给`max()`函数的序列不会为空。如果生成的列表都不满足条件，则返回的是一个空的生成器，而不是抛出错误。\n",
    "\n",
    "因此，你可以根据个人喜好选择使用你提供的修改或者我之前提供的修改。两者都可以解决报错问题，只是处理的方式略有不同。'''"
   ]
  }
 ],
 "metadata": {
  "kernelspec": {
   "display_name": "base",
   "language": "python",
   "name": "python3"
  },
  "language_info": {
   "codemirror_mode": {
    "name": "ipython",
    "version": 3
   },
   "file_extension": ".py",
   "mimetype": "text/x-python",
   "name": "python",
   "nbconvert_exporter": "python",
   "pygments_lexer": "ipython3",
   "version": "3.11.5"
  },
  "orig_nbformat": 4
 },
 "nbformat": 4,
 "nbformat_minor": 2
}
