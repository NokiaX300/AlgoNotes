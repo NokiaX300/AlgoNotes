{
 "cells": [
  {
   "cell_type": "markdown",
   "metadata": {},
   "source": [
    "如何判断回文链表\n",
    "\n",
    "https://labuladong.github.io/algo/di-yi-zhan-da78c/shou-ba-sh-8f30d/ru-he-pan--f9d3c/"
   ]
  },
  {
   "cell_type": "code",
   "execution_count": 1,
   "metadata": {},
   "outputs": [],
   "source": [
    "def palindrome(s: str, left: int, right: int) -> str:\n",
    "    while 0<=left and right<len(s) and s[left] == s[right]:\n",
    "        left -= 1\n",
    "        right += 1\n",
    "    return s[left+1, right]"
   ]
  },
  {
   "cell_type": "code",
   "execution_count": null,
   "metadata": {},
   "outputs": [],
   "source": [
    "def isPalindrome(s: str) -> bool:\n",
    "    left = 0\n",
    "    right = len(s)-1\n",
    "    while left < right:\n",
    "        if s[left] != s[right]:\n",
    "            return False\n",
    "        left += 1\n",
    "        right -= 1\n",
    "    return True"
   ]
  },
  {
   "cell_type": "code",
   "execution_count": null,
   "metadata": {},
   "outputs": [],
   "source": [
    "# 链表兼具递归结构，树结构不过是链表的衍生\n",
    "def traverse(head: ListNode):\n",
    "    # 前序遍历代码\n",
    "    traverse(head.next)\n",
    "    # 后序遍历代码"
   ]
  },
  {
   "cell_type": "code",
   "execution_count": null,
   "metadata": {},
   "outputs": [],
   "source": [
    "# 234. 回文链表\n",
    "# https://leetcode.cn/problems/palindrome-linked-list/\n",
    "\n",
    "# 可以把原始链表反转存入一条新的链表，然后比较这两条链表是否相同\n",
    "# Definition for singly-linked list.\n",
    "class ListNode:\n",
    "    def __init__(self, val=0, next=None):\n",
    "        self.val = val\n",
    "        self.next = next\n",
    "\n",
    "\n",
    "class Solution:\n",
    "    left = None\n",
    "    def isPalindrome(self, head: Optional[ListNode]) -> bool:\n",
    "        global left\n",
    "        left = head\n",
    "        return self.traverse(head)\n",
    "    \n",
    "    def traverse(self, right: ListNode) -> bool:\n",
    "        global left\n",
    "        if not right:\n",
    "            return True\n",
    "        res = self.traverse(right.next)\n",
    "        res = res and (left.val == right.val)\n",
    "        left = left.next\n",
    "        return res"
   ]
  },
  {
   "cell_type": "code",
   "execution_count": null,
   "metadata": {},
   "outputs": [],
   "source": [
    "# 234. 回文链表\n",
    "# https://leetcode.cn/problems/palindrome-linked-list/\n",
    "\n",
    "# 优化空间复杂度\n",
    "# Definition for singly-linked list.\n",
    "from typing import Optional\n",
    "class ListNode:\n",
    "    def __init__(self, val=0, next=None):\n",
    "        self.val = val\n",
    "        self.next = next\n",
    "\n",
    "\n",
    "class Solution:\n",
    "    def isPalindrome(self, head: Optional[ListNode]) -> bool:\n",
    "        slow, fast = head, head\n",
    "        while fast and fast.next:\n",
    "            slow = slow.next\n",
    "            fast = fast.next.next\n",
    "        if fast:\n",
    "            slow = slow.next\n",
    "        left, right = head, self.reverse(slow)\n",
    "        while right:\n",
    "            if left.val != right.val:\n",
    "                return False\n",
    "            left = left.next\n",
    "            right = right.next\n",
    "        return True\n",
    "    \n",
    "    def reverse(self, head: ListNode) -> ListNode:\n",
    "        prev = None\n",
    "        cur = head\n",
    "        while cur:\n",
    "            temp = cur.next\n",
    "            cur.next = prev\n",
    "            prev = cur\n",
    "            cur = temp\n",
    "        return prev\n",
    "\n",
    "    # 递归太慢了\n",
    "    '''def reverse(self, head: ListNode) -> ListNode:\n",
    "        if not head or not head.next:\n",
    "            return head\n",
    "        last = self.reverse(head.next)\n",
    "        head.next.next = head\n",
    "        head.next = None\n",
    "        return last'''"
   ]
  }
 ],
 "metadata": {
  "kernelspec": {
   "display_name": "base",
   "language": "python",
   "name": "python3"
  },
  "language_info": {
   "codemirror_mode": {
    "name": "ipython",
    "version": 3
   },
   "file_extension": ".py",
   "mimetype": "text/x-python",
   "name": "python",
   "nbconvert_exporter": "python",
   "pygments_lexer": "ipython3",
   "version": "3.11.3"
  },
  "orig_nbformat": 4
 },
 "nbformat": 4,
 "nbformat_minor": 2
}
