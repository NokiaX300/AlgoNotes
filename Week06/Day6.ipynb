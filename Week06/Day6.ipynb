{
 "cells": [
  {
   "cell_type": "markdown",
   "metadata": {},
   "source": [
    "二维数组的花式遍历技巧\n",
    "\n",
    "https://labuladong.github.io/algo/di-yi-zhan-da78c/shou-ba-sh-48c1d/er-wei-shu-150fb/"
   ]
  },
  {
   "cell_type": "code",
   "execution_count": null,
   "metadata": {},
   "outputs": [],
   "source": [
    "# 151. 反转字符串中的单词\n",
    "# https://leetcode.cn/problems/reverse-words-in-a-string/\n",
    "\n",
    "class Solution:\n",
    "    def reverseWords(self, s: str) -> str:\n",
    "        lis = list(s.strip())\n",
    "        lis.reverse()\n",
    "        word = []\n",
    "        res = []\n",
    "        for ele in lis:\n",
    "            if ele != ' ':\n",
    "                word.append(ele)\n",
    "            else:\n",
    "                if word:\n",
    "                    res.extend(reversed(word))\n",
    "                    res.append(' ')\n",
    "                    word = []\n",
    "        if word:\n",
    "            res.extend(reversed(word))\n",
    "        return ''.join(res)"
   ]
  },
  {
   "cell_type": "code",
   "execution_count": 36,
   "metadata": {},
   "outputs": [
    {
     "data": {
      "text/plain": [
       "'example good a'"
      ]
     },
     "execution_count": 36,
     "metadata": {},
     "output_type": "execute_result"
    }
   ],
   "source": [
    "def reverseWords(s: str) -> str:\n",
    "    lis = list(s.strip())\n",
    "    lis.reverse()\n",
    "    word = []\n",
    "    res = []\n",
    "    for ele in lis:\n",
    "        if ele != ' ':\n",
    "            word.append(ele)\n",
    "        else:\n",
    "            if word:\n",
    "                res.extend(reversed(word))\n",
    "                res.append(' ')\n",
    "                word = []\n",
    "    if word:\n",
    "        res.extend(reversed(word))\n",
    "    return ''.join(res)\n",
    "reverseWords(s = \"a good     example\")"
   ]
  },
  {
   "cell_type": "code",
   "execution_count": 34,
   "metadata": {},
   "outputs": [
    {
     "name": "stdout",
     "output_type": "stream",
     "text": [
      "[5, 4, 3, 2, 1]\n",
      "<list_reverseiterator object at 0x000001EAC1A3EAD0>\n",
      "[1, 2, 3, 4, 5]\n"
     ]
    }
   ],
   "source": [
    "a = [1,2,3,4,5]\n",
    "a.reverse()\n",
    "print(a)\n",
    "a = reversed(a)\n",
    "print(a)\n",
    "print(list(a))"
   ]
  },
  {
   "cell_type": "code",
   "execution_count": 52,
   "metadata": {},
   "outputs": [],
   "source": [
    "# 151. 反转字符串中的单词\n",
    "# https://leetcode.cn/problems/reverse-words-in-a-string/\n",
    "\n",
    "class Solution:\n",
    "    def reverseWords(self, s: str) -> str:\n",
    "        lis = s.split()\n",
    "        lis.reverse()\n",
    "        return ' '.join(lis)"
   ]
  },
  {
   "cell_type": "code",
   "execution_count": 55,
   "metadata": {},
   "outputs": [
    {
     "data": {
      "text/plain": [
       "'a good example'"
      ]
     },
     "execution_count": 55,
     "metadata": {},
     "output_type": "execute_result"
    }
   ],
   "source": [
    "def reverseWords(s: str) -> str:\n",
    "    lis = s.split()\n",
    "    for ele in lis:\n",
    "        ele[::-1]\n",
    "    return ' '.join(lis)\n",
    "reverseWords(s = \"a good     example\")"
   ]
  },
  {
   "cell_type": "code",
   "execution_count": 53,
   "metadata": {},
   "outputs": [
    {
     "data": {
      "text/plain": [
       "'a doog elpmaxe'"
      ]
     },
     "execution_count": 53,
     "metadata": {},
     "output_type": "execute_result"
    }
   ],
   "source": [
    "def reverseWords(s: str) -> str:\n",
    "    lis = s.split()\n",
    "    for i in range(len(lis)):\n",
    "        lis[i] = lis[i][::-1]\n",
    "    return ' '.join(lis)\n",
    "reverseWords(s = \"a good     example\")"
   ]
  },
  {
   "cell_type": "code",
   "execution_count": null,
   "metadata": {},
   "outputs": [],
   "source": [
    "# 151. 反转字符串中的单词\n",
    "# https://leetcode.cn/problems/reverse-words-in-a-string/\n",
    "\n",
    "class Solution:\n",
    "    def reverseWords(self, s: str) -> str:\n",
    "        return ' '.join(s.split()[::-1])"
   ]
  },
  {
   "cell_type": "code",
   "execution_count": 1,
   "metadata": {},
   "outputs": [],
   "source": [
    "# 151. 反转字符串中的单词\n",
    "# https://leetcode.cn/problems/reverse-words-in-a-string/\n",
    "\n",
    "# 原地修改\n",
    "class Solution:\n",
    "    def reverseWords(self, s: str) -> str:\n",
    "        s = s.strip()\n",
    "        word = []\n",
    "        left = 0\n",
    "        right = 0\n",
    "        while right < len(s):\n",
    "            if s[right] == ' ':\n",
    "                word.append(s[left: right])\n",
    "                while right < len(s)-1 and s[right+1] == ' ':\n",
    "                    right += 1\n",
    "                left = right + 1\n",
    "            right += 1\n",
    "        word.append(s[left:])\n",
    "        return ' '.join(word[::-1])"
   ]
  },
  {
   "cell_type": "code",
   "execution_count": 3,
   "metadata": {},
   "outputs": [
    {
     "name": "stdout",
     "output_type": "stream",
     "text": [
      "True\n",
      "140724390545544\n",
      "140724390545544\n"
     ]
    }
   ],
   "source": [
    "s = 'hello world'\n",
    "\n",
    "words = []\n",
    "words.append(s[0])\n",
    "words.append(s[1])\n",
    "words.append(s[2])\n",
    "words.append(s[3])\n",
    "\n",
    "print(words[0] is s[0])\n",
    "print(id(words[0]))\n",
    "print(id(s[0]))"
   ]
  },
  {
   "cell_type": "code",
   "execution_count": 13,
   "metadata": {},
   "outputs": [
    {
     "name": "stdout",
     "output_type": "stream",
     "text": [
      "[]\n",
      "[]\n"
     ]
    }
   ],
   "source": [
    "s = ['a',' ','b','a',' ','b']\n",
    "print(s[1:1])\n",
    "print(s[3:1])"
   ]
  },
  {
   "cell_type": "code",
   "execution_count": 10,
   "metadata": {},
   "outputs": [
    {
     "name": "stdout",
     "output_type": "stream",
     "text": [
      "False\n"
     ]
    }
   ],
   "source": [
    "s = 'a b'\n",
    "print(s.isalpha())"
   ]
  },
  {
   "cell_type": "code",
   "execution_count": null,
   "metadata": {},
   "outputs": [],
   "source": [
    "# 151. 反转字符串中的单词\n",
    "# https://leetcode.cn/problems/reverse-words-in-a-string/\n",
    "\n",
    "# 原地修改\n",
    "class Solution:\n",
    "    def reverseWords(self, s: str) -> str:\n",
    "        s = s.strip()\n",
    "        word = []\n",
    "        left = 0\n",
    "        right = 0\n",
    "        while right < len(s):\n",
    "            while right < len(s) and s[right] != ' ':\n",
    "                right += 1\n",
    "            if left < right:\n",
    "                word.append(s[left: right])\n",
    "            left = right + 1\n",
    "            right += 1\n",
    "        return ' '.join(word[::-1])"
   ]
  },
  {
   "cell_type": "code",
   "execution_count": 8,
   "metadata": {},
   "outputs": [
    {
     "data": {
      "text/plain": [
       "'example good a'"
      ]
     },
     "execution_count": 8,
     "metadata": {},
     "output_type": "execute_result"
    }
   ],
   "source": [
    "def reverseWords(s: str) -> str:\n",
    "    s = s.strip()\n",
    "    word = []\n",
    "    left = 0\n",
    "    right = 0\n",
    "    while right < len(s):\n",
    "        while right < len(s) and s[right] != ' ':\n",
    "            right += 1\n",
    "        if left < right:\n",
    "            word.append(s[left: right])\n",
    "        left = right + 1\n",
    "        right += 1\n",
    "    return ' '.join(word[::-1])\n",
    "reverseWords(s = \"a good     example\")"
   ]
  },
  {
   "cell_type": "code",
   "execution_count": null,
   "metadata": {},
   "outputs": [],
   "source": [
    "# 151. 反转字符串中的单词\n",
    "# https://leetcode.cn/problems/reverse-words-in-a-string/\n",
    "\n",
    "# 原地修改\n",
    "class Solution:\n",
    "    def reverse(self, lis: list, left, right) -> list:\n",
    "        while left < right:\n",
    "            lis[left], lis[right] = lis[right], lis[left]\n",
    "            left += 1\n",
    "            right -= 1\n",
    "        return lis\n",
    "    \n",
    "    def reverseWords(self, s: str) -> str:\n",
    "        left = 0\n",
    "        right = len(s)-1\n",
    "        # 去除两边多余空格\n",
    "        while s[left] == ' ':\n",
    "            left += 1\n",
    "        while s[right] == ' ':\n",
    "            right -= 1\n",
    "        word = []\n",
    "        # 去除中间多余空格\n",
    "        while left <= right:\n",
    "            if s[left] != ' ' or word[-1] != ' ':\n",
    "                word.append(s[left])\n",
    "            left += 1\n",
    "        # 反转整个数组\n",
    "        self.reverse(word, 0, len(word)-1)\n",
    "        # 反转每个单词\n",
    "        left = 0\n",
    "        right = 0\n",
    "        while right < len(word):\n",
    "            while right < len(word) and word[right] != ' ':\n",
    "                right += 1\n",
    "            self.reverse(word, left, right-1)\n",
    "            left = right + 1\n",
    "            right += 1\n",
    "        return ''.join(word)"
   ]
  },
  {
   "cell_type": "code",
   "execution_count": 13,
   "metadata": {},
   "outputs": [
    {
     "data": {
      "text/plain": [
       "[' ', 's', 'i', ' ', 'y', 'k', 's', ' ', 'e', 'h', 't', 'b', 'l', 'u', 'e']"
      ]
     },
     "execution_count": 13,
     "metadata": {},
     "output_type": "execute_result"
    }
   ],
   "source": [
    "def reverse(lis: list, left, right) -> list:\n",
    "    while left < right:\n",
    "        lis[left], lis[right] = lis[right], lis[left]\n",
    "        left += 1\n",
    "        right -= 1\n",
    "    return lis\n",
    "reverse(['t', 'h', 'e', ' ', 's', 'k', 'y', ' ', 'i', 's', ' ', 'b', 'l', 'u', 'e'], 0, 10)"
   ]
  },
  {
   "cell_type": "code",
   "execution_count": 15,
   "metadata": {},
   "outputs": [
    {
     "name": "stdout",
     "output_type": "stream",
     "text": [
      "['a', ' ', 'g', 'o', 'o', 'd', ' ', 'e', 'x', 'a', 'm', 'p', 'l', 'e']\n"
     ]
    }
   ],
   "source": [
    "s = \"a good     example\"\n",
    "left = 0\n",
    "right = len(s)-1\n",
    "# 去除两边多余空格\n",
    "while left == '0':\n",
    "    left += 1\n",
    "while right == '0':\n",
    "    right -= 1\n",
    "word = []\n",
    "# 去除中间多余空格\n",
    "while left <= right:\n",
    "    if s[left] != ' ' or word[-1] != ' ':\n",
    "        word.append(s[left])\n",
    "    left += 1\n",
    "print(word)"
   ]
  },
  {
   "cell_type": "code",
   "execution_count": null,
   "metadata": {},
   "outputs": [],
   "source": [
    "# 48. 旋转图像\n",
    "# https://leetcode.cn/problems/rotate-image/\n",
    "\n",
    "# 顺时针旋转90度，相当于对角线镜像对称和垂直对称的复合\n",
    "# (i, j) -> (j, m-i+1)\n",
    "# 注意不是原地修改\n",
    "class Solution:\n",
    "    def rotate(self, matrix) -> None:\n",
    "        m = len(matrix)\n",
    "        n = len(matrix[0])\n",
    "        res = [[0] * m for _ in range(n)]\n",
    "        for i in range(m):\n",
    "            for j in range(n):\n",
    "                res[j][m-i-1] = matrix[i][j]\n",
    "        return res"
   ]
  },
  {
   "cell_type": "code",
   "execution_count": 1,
   "metadata": {},
   "outputs": [
    {
     "ename": "IndexError",
     "evalue": "list assignment index out of range",
     "output_type": "error",
     "traceback": [
      "\u001b[1;31m---------------------------------------------------------------------------\u001b[0m",
      "\u001b[1;31mIndexError\u001b[0m                                Traceback (most recent call last)",
      "Cell \u001b[1;32mIn[1], line 12\u001b[0m\n\u001b[0;32m      8\u001b[0m     \u001b[39mreturn\u001b[39;00m res\n\u001b[0;32m      9\u001b[0m matrix \u001b[39m=\u001b[39m [[\u001b[39m1\u001b[39m,\u001b[39m2\u001b[39m,\u001b[39m3\u001b[39m],\n\u001b[0;32m     10\u001b[0m           [\u001b[39m4\u001b[39m,\u001b[39m5\u001b[39m,\u001b[39m6\u001b[39m],\n\u001b[0;32m     11\u001b[0m           [\u001b[39m7\u001b[39m,\u001b[39m8\u001b[39m,\u001b[39m9\u001b[39m]]\n\u001b[1;32m---> 12\u001b[0m rotate(matrix)\n",
      "Cell \u001b[1;32mIn[1], line 7\u001b[0m, in \u001b[0;36mrotate\u001b[1;34m(matrix)\u001b[0m\n\u001b[0;32m      5\u001b[0m \u001b[39mfor\u001b[39;00m i \u001b[39min\u001b[39;00m \u001b[39mrange\u001b[39m(m):\n\u001b[0;32m      6\u001b[0m     \u001b[39mfor\u001b[39;00m j \u001b[39min\u001b[39;00m \u001b[39mrange\u001b[39m(n):\n\u001b[1;32m----> 7\u001b[0m         res[j][m\u001b[39m-\u001b[39;49mi\u001b[39m-\u001b[39;49m\u001b[39m1\u001b[39;49m] \u001b[39m=\u001b[39m matrix[i][j]\n\u001b[0;32m      8\u001b[0m \u001b[39mreturn\u001b[39;00m res\n",
      "\u001b[1;31mIndexError\u001b[0m: list assignment index out of range"
     ]
    }
   ],
   "source": [
    "def rotate(matrix) -> None:\n",
    "    m = len(matrix)\n",
    "    n = len(matrix[0])\n",
    "    res = [[]*m]*n # 这样的写法会导致结果矩阵中的每一行都引用了同一个空列表，所以对一个位置的赋值会影响到其他行\n",
    "    for i in range(m):\n",
    "        for j in range(n):\n",
    "            res[j][m-i-1] = matrix[i][j]\n",
    "    return res\n",
    "matrix = [[1,2,3],\n",
    "          [4,5,6],\n",
    "          [7,8,9]]\n",
    "rotate(matrix)"
   ]
  },
  {
   "cell_type": "code",
   "execution_count": 1,
   "metadata": {},
   "outputs": [
    {
     "name": "stdout",
     "output_type": "stream",
     "text": [
      "[[0, 0, 0, 0, 0, 0, 0, 0, 0], [0, 0, 0, 0, 0, 0, 0, 0, 0], [0, 0, 0, 0, 0, 0, 0, 0, 0], [0, 0, 0, 0, 0, 0, 0, 0, 0]]\n",
      "[[0, 0, 0, 0, 0, 0, 0, 0, 0], [0, 0, 0, 0, 0, 0, 0, 0, 0], [0, 0, 0, 0, 0, 0, 0, 0, 0], [0, 0, 0, 0, 0, 0, 0, 0, 0]]\n",
      "[[0, 0, 0, 0, 0, 0, 0, 0, 0], [0, 0, 0, 0, 0, 0, 0, 0, 0], [0, 0, 0, 0, 0, 0, 0, 0, 0], [0, 0, 0, 0, 0, 0, 0, 0, 0]]\n"
     ]
    }
   ],
   "source": [
    "res = [[0]*9]*4\n",
    "print(res)\n",
    "res = [[0]*9 for _ in range(4)]\n",
    "print(res)\n",
    "res = [[0 for _ in range(9)] for _ in range(4)]\n",
    "print(res)"
   ]
  },
  {
   "cell_type": "code",
   "execution_count": 8,
   "metadata": {},
   "outputs": [
    {
     "name": "stdout",
     "output_type": "stream",
     "text": [
      "[[0, 0], [0, 0], [0, 0]]\n",
      "[[0, 3], [0, 3], [0, 3]]\n",
      "[[2, 3], [2, 3], [2, 3]]\n"
     ]
    }
   ],
   "source": [
    "res = [[0]*2]*3\n",
    "print(res)\n",
    "res[0][1] = 3\n",
    "print(res)\n",
    "res[0][0] = 2\n",
    "print(res)"
   ]
  },
  {
   "cell_type": "code",
   "execution_count": 9,
   "metadata": {},
   "outputs": [
    {
     "name": "stdout",
     "output_type": "stream",
     "text": [
      "[[0, 0], [0, 0], [0, 0]]\n",
      "[[0, 3], [0, 0], [0, 0]]\n",
      "[[2, 3], [0, 0], [0, 0]]\n"
     ]
    }
   ],
   "source": [
    "res = [[0]*2 for _ in range(3)]\n",
    "print(res)\n",
    "res[0][1] = 3\n",
    "print(res)\n",
    "res[0][0] = 2\n",
    "print(res)"
   ]
  },
  {
   "cell_type": "code",
   "execution_count": 13,
   "metadata": {},
   "outputs": [
    {
     "name": "stdout",
     "output_type": "stream",
     "text": [
      "[[1, 2, 3], [4, 5, 6], [7, 8, 9]]\n"
     ]
    }
   ],
   "source": [
    "matrix = [[1,2,3],\n",
    "          [4,5,6],\n",
    "          [7,8,9]]\n",
    "print(matrix)"
   ]
  },
  {
   "cell_type": "code",
   "execution_count": 17,
   "metadata": {},
   "outputs": [
    {
     "data": {
      "text/plain": [
       "[[7, 4, 1], [8, 5, 2], [9, 6, 3]]"
      ]
     },
     "execution_count": 17,
     "metadata": {},
     "output_type": "execute_result"
    }
   ],
   "source": [
    "def rotate(matrix) -> None:\n",
    "    m = len(matrix)\n",
    "    n = len(matrix[0])\n",
    "    res = [[0] * m for _ in range(n)]\n",
    "    for i in range(m):\n",
    "        for j in range(n):\n",
    "            res[j][m-i-1] = matrix[i][j]\n",
    "    return res\n",
    "matrix = [[1,2,3],\n",
    "          [4,5,6],\n",
    "          [7,8,9]]\n",
    "rotate(matrix)"
   ]
  },
  {
   "cell_type": "code",
   "execution_count": null,
   "metadata": {},
   "outputs": [],
   "source": [
    "# 48. 旋转图像\n",
    "# https://leetcode.cn/problems/rotate-image/\n",
    "\n",
    "# 原地修改\n",
    "class Solution:\n",
    "    def rotate(self, matrix: List[List[int]]) -> None:\n",
    "        \"\"\"\n",
    "        Do not return anything, modify matrix in-place instead.\n",
    "        \"\"\"\n",
    "        m = len(matrix)\n",
    "        for i in range(m):\n",
    "            for j in range(i, m):\n",
    "                matrix[i][j], matrix[j][i] = matrix[j][i], matrix[i][j]\n",
    "        for row in matrix:\n",
    "            self.reverse(row)\n",
    "    \n",
    "    def reverse(self, arr: List[int]):\n",
    "        left = 0\n",
    "        right = len(arr)-1\n",
    "        while left < right:\n",
    "            arr[left], arr[right] = arr[right], arr[left]\n",
    "            left += 1\n",
    "            right -= 1"
   ]
  },
  {
   "cell_type": "code",
   "execution_count": null,
   "metadata": {},
   "outputs": [],
   "source": [
    "# 54. 螺旋矩阵\n",
    "# https://leetcode.cn/problems/spiral-matrix/\n",
    "\n",
    "class Solution:\n",
    "    def check(self):\n",
    "        return not self.left_bound<=self.right_bound or not self.upper_bound<=self.lower_bound\n",
    "\n",
    "    def spiralOrder(self, matrix: List[List[int]]) -> List[int]:\n",
    "        m = len(matrix)\n",
    "        n = len(matrix[0])\n",
    "        self.left_bound = 0\n",
    "        self.right_bound = n-1\n",
    "        self.upper_bound = 0\n",
    "        self.lower_bound = m-1\n",
    "        res = []\n",
    "        while len(res) < m*n:\n",
    "            if self.check():break\n",
    "            for j in range(self.left_bound, self.right_bound+1):\n",
    "                res.append(matrix[self.upper_bound][j])\n",
    "            self.upper_bound += 1\n",
    "            if self.check():break\n",
    "            for i in range(self.upper_bound, self.lower_bound+1):\n",
    "                res.append(matrix[i][self.right_bound])\n",
    "            self.right_bound -= 1\n",
    "            if self.check():break\n",
    "            for g in range(self.right_bound, self.left_bound-1, -1):\n",
    "                res.append(matrix[self.lower_bound][g])\n",
    "            self.lower_bound -= 1\n",
    "            if self.check():break\n",
    "            for h in range(self.lower_bound, self.upper_bound-1, -1):\n",
    "                res.append(matrix[h][self.left_bound])\n",
    "            self.left_bound += 1\n",
    "        return res"
   ]
  },
  {
   "cell_type": "code",
   "execution_count": 9,
   "metadata": {},
   "outputs": [
    {
     "name": "stdout",
     "output_type": "stream",
     "text": [
      "4-\n",
      "3-\n",
      "2-\n",
      "1-\n"
     ]
    }
   ],
   "source": [
    "lis = [1,2,3,4,5,6]\n",
    "for i in range(-1, 3, -1):\n",
    "    print(lis[i])\n",
    "for j in range(3, -1, -1):\n",
    "    print(lis[j], end='')\n",
    "    print('-')"
   ]
  },
  {
   "cell_type": "code",
   "execution_count": 13,
   "metadata": {},
   "outputs": [
    {
     "data": {
      "text/plain": [
       "[1, 2, 3, 4, 8, 12, 11, 10, 9, 5, 6, 7, 6]"
      ]
     },
     "execution_count": 13,
     "metadata": {},
     "output_type": "execute_result"
    }
   ],
   "source": [
    "def spiralOrder(matrix):\n",
    "    m = len(matrix)\n",
    "    n = len(matrix[0])\n",
    "    left_bound = 0\n",
    "    right_bound = n-1\n",
    "    upper_bound = 0\n",
    "    lower_bound = m-1\n",
    "    res = []\n",
    "    while len(res) < m*n:\n",
    "        for j in range(left_bound, right_bound+1):\n",
    "            res.append(matrix[upper_bound][j])\n",
    "        upper_bound += 1\n",
    "        for i in range(upper_bound, lower_bound+1):\n",
    "            res.append(matrix[i][right_bound])\n",
    "        right_bound -= 1\n",
    "        for g in range(right_bound, left_bound-1, -1):\n",
    "            res.append(matrix[lower_bound][g])\n",
    "        lower_bound -= 1\n",
    "        for h in range(lower_bound, upper_bound-1, -1):\n",
    "            res.append(matrix[h][left_bound])\n",
    "        left_bound += 1\n",
    "    return res\n",
    "matrix = [[1,2,3,4],\n",
    "          [5,6,7,8],\n",
    "          [9,10,11,12]]\n",
    "spiralOrder(matrix) # 缺少限制条件：self.left_bound<=self.right_bound 和 self.upper_bound<=self.lower_bound"
   ]
  },
  {
   "cell_type": "code",
   "execution_count": 15,
   "metadata": {},
   "outputs": [
    {
     "name": "stdout",
     "output_type": "stream",
     "text": [
      "@\n"
     ]
    }
   ],
   "source": [
    "a = 0\n",
    "b = 1\n",
    "if not a or not b:\n",
    "    print('@')"
   ]
  },
  {
   "cell_type": "code",
   "execution_count": null,
   "metadata": {},
   "outputs": [],
   "source": [
    "# 59. 螺旋矩阵 II\n",
    "# https://leetcode.cn/problems/spiral-matrix-ii/\n",
    "\n",
    "class Solution:\n",
    "    def generateMatrix(self, n: int) -> List[List[int]]:\n",
    "        left_bound = 0\n",
    "        right_bound = n-1\n",
    "        upper_bound = 0\n",
    "        lower_bound = n-1\n",
    "        matrix = [[0]*n for _ in range(n)]\n",
    "        num = 1\n",
    "        while num <= n*n:\n",
    "            if upper_bound<=lower_bound:\n",
    "                for j in range(left_bound, right_bound+1):\n",
    "                    matrix[upper_bound][j] = num\n",
    "                    num += 1\n",
    "                upper_bound += 1\n",
    "            if left_bound<=right_bound:\n",
    "                for i in range(upper_bound, lower_bound+1):\n",
    "                    matrix[i][right_bound] = num\n",
    "                    num += 1\n",
    "                right_bound -= 1\n",
    "            if upper_bound<=lower_bound:\n",
    "                for j in range(right_bound, left_bound-1, -1):\n",
    "                    matrix[lower_bound][j] = num\n",
    "                    num += 1\n",
    "                lower_bound -= 1\n",
    "            if left_bound<=right_bound:\n",
    "                for i in range(lower_bound, upper_bound-1, -1):\n",
    "                    matrix[i][left_bound] = num\n",
    "                    num += 1\n",
    "                left_bound += 1\n",
    "        return matrix"
   ]
  }
 ],
 "metadata": {
  "kernelspec": {
   "display_name": "base",
   "language": "python",
   "name": "python3"
  },
  "language_info": {
   "codemirror_mode": {
    "name": "ipython",
    "version": 3
   },
   "file_extension": ".py",
   "mimetype": "text/x-python",
   "name": "python",
   "nbconvert_exporter": "python",
   "pygments_lexer": "ipython3",
   "version": "3.11.3"
  },
  "orig_nbformat": 4
 },
 "nbformat": 4,
 "nbformat_minor": 2
}
