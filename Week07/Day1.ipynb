{
 "cells": [
  {
   "cell_type": "markdown",
   "metadata": {},
   "source": [
    "二叉堆详解实现优先级队列\n",
    "\n",
    "https://labuladong.github.io/algo/di-yi-zhan-da78c/shou-ba-sh-daeca/er-cha-dui-1a386/"
   ]
  },
  {
   "cell_type": "code",
   "execution_count": null,
   "metadata": {},
   "outputs": [],
   "source": [
    "# 优先级队列有两个主要 API，分别是 insert 插入一个元素和 delMax 删除最大元素"
   ]
  },
  {
   "cell_type": "markdown",
   "metadata": {},
   "source": [
    "<img src=\"pq.png\" style=\"zoom:50%\" />"
   ]
  },
  {
   "cell_type": "code",
   "execution_count": null,
   "metadata": {},
   "outputs": [],
   "source": [
    "class MaxPQ:\n",
    "    def __init__(self, cap) -> None:\n",
    "        self.pq = [None]*(cap+1)\n",
    "        self.size = 0\n",
    "\n",
    "    def max(self):\n",
    "        return self.pq[1]\n",
    "    \n",
    "    def insert(self, e):\n",
    "        self.size += 1\n",
    "        self.pq[self.size] = e\n",
    "        self.swim(self.size)\n",
    "\n",
    "    def delMax(self):\n",
    "        max = self.pq[1]\n",
    "        self.swap(1, self.size)\n",
    "        self.pq[self.size] = None\n",
    "        self.size -= 1\n",
    "        self.sink(1)\n",
    "        return max\n",
    "\n",
    "    def swim(self, x):\n",
    "        while (x>1 and self.less(self.parent(x), x)):\n",
    "            self.swap(self.parent(x), x)\n",
    "            x = self.parent(x) # 将指针移到上层\n",
    "\n",
    "    def sink(self, x):\n",
    "        while self.left(x) <= self.size:\n",
    "            max = self.left(x)\n",
    "            if self.right(x) <= self.size and self.less(max, self.right(x)):\n",
    "                max = self.right(x)\n",
    "            if self.less(max, x):\n",
    "                break\n",
    "            self.swap(x, max)\n",
    "            x = max\n",
    "\n",
    "    def swap(self, i, j):\n",
    "        self.pq[i], self.pq[j] = self.pq[j], self.pq[i]\n",
    "\n",
    "    def less(self, i, j):\n",
    "        return self.pq[i] < self.pq[j]\n",
    "    \n",
    "    def left(self, index):\n",
    "        return index*2\n",
    "    \n",
    "    def right(self, index):\n",
    "        return index*2+1\n",
    "    \n",
    "    def parent(self, index):\n",
    "        return index//2"
   ]
  }
 ],
 "metadata": {
  "kernelspec": {
   "display_name": "base",
   "language": "python",
   "name": "python3"
  },
  "language_info": {
   "name": "python",
   "version": "3.11.3"
  },
  "orig_nbformat": 4
 },
 "nbformat": 4,
 "nbformat_minor": 2
}
