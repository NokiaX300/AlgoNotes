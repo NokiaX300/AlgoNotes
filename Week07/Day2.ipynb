{
 "cells": [
  {
   "cell_type": "markdown",
   "metadata": {},
   "source": [
    "队列实现栈以及栈实现队列\n",
    "\n",
    "https://labuladong.github.io/algo/di-yi-zhan-da78c/shou-ba-sh-daeca/dui-lie-sh-88541/"
   ]
  },
  {
   "cell_type": "markdown",
   "metadata": {},
   "source": [
    "<img src=\"232.png\" style=\"zoom:50%\" />"
   ]
  },
  {
   "cell_type": "code",
   "execution_count": 1,
   "metadata": {},
   "outputs": [],
   "source": [
    "# 队列 FIFO   栈 LIFO"
   ]
  },
  {
   "cell_type": "code",
   "execution_count": null,
   "metadata": {},
   "outputs": [],
   "source": [
    "# 232. 用栈实现队列\n",
    "# https://leetcode.cn/problems/implement-queue-using-stacks/\n",
    "\n",
    "class MyQueue:\n",
    "    def __init__(self):\n",
    "        self.q = []\n",
    "\n",
    "    def push(self, x: int) -> None:\n",
    "        self.q.append(x)\n",
    "\n",
    "    def pop(self) -> int:\n",
    "        return self.q.pop(0)\n",
    "\n",
    "    def peek(self) -> int:\n",
    "        return self.q[0]\n",
    "\n",
    "    def empty(self) -> bool:\n",
    "        return not self.q\n",
    "\n",
    "\n",
    "# Your MyQueue object will be instantiated and called as such:\n",
    "# obj = MyQueue()\n",
    "# obj.push(x)\n",
    "# param_2 = obj.pop()\n",
    "# param_3 = obj.peek()\n",
    "# param_4 = obj.empty()"
   ]
  },
  {
   "cell_type": "code",
   "execution_count": null,
   "metadata": {},
   "outputs": [],
   "source": [
    "# 232. 用栈实现队列\n",
    "# https://leetcode.cn/problems/implement-queue-using-stacks/\n",
    "\n",
    "class MyQueue:\n",
    "    def __init__(self):\n",
    "        self.A = []\n",
    "        self.B = []\n",
    "\n",
    "    def push(self, x: int) -> None:\n",
    "        self.A.append(x)\n",
    "\n",
    "    def pop(self) -> int:\n",
    "        self.peek()\n",
    "        return self.B.pop()\n",
    "\n",
    "    def peek(self) -> int: # 均摊时间复杂度是 O(1)，这个要这么理解：对于一个元素，最多只可能被搬运一次，也就是说 peek 操作平均到每个元素的时间复杂度是 O(1)\n",
    "        if not self.B:\n",
    "            while self.A:\n",
    "                self.B.append(self.A.pop())\n",
    "        return self.B[-1]\n",
    "\n",
    "    def empty(self) -> bool:\n",
    "        return not self.A and not self.B\n",
    "\n",
    "\n",
    "# Your MyQueue object will be instantiated and called as such:\n",
    "# obj = MyQueue()\n",
    "# obj.push(x)\n",
    "# param_2 = obj.pop()\n",
    "# param_3 = obj.peek()\n",
    "# param_4 = obj.empty()"
   ]
  },
  {
   "cell_type": "code",
   "execution_count": null,
   "metadata": {},
   "outputs": [],
   "source": [
    "# 225. 用队列实现栈\n",
    "# https://leetcode.cn/problems/implement-stack-using-queues/\n",
    "\n",
    "class MyStack:\n",
    "    def __init__(self):\n",
    "        self.stack = []\n",
    "\n",
    "    def push(self, x: int) -> None:\n",
    "        self.stack.append(x)\n",
    "\n",
    "    def pop(self) -> int:\n",
    "        return self.stack.pop()\n",
    "\n",
    "    def top(self) -> int:\n",
    "        return self.stack[-1]\n",
    "\n",
    "    def empty(self) -> bool:\n",
    "        return not self.stack\n",
    "\n",
    "\n",
    "# Your MyStack object will be instantiated and called as such:\n",
    "# obj = MyStack()\n",
    "# obj.push(x)\n",
    "# param_2 = obj.pop()\n",
    "# param_3 = obj.top()\n",
    "# param_4 = obj.empty()"
   ]
  },
  {
   "cell_type": "code",
   "execution_count": null,
   "metadata": {},
   "outputs": [],
   "source": [
    "# 225. 用队列实现栈\n",
    "# https://leetcode.cn/problems/implement-stack-using-queues/\n",
    "\n",
    "class MyStack:\n",
    "    def __init__(self):\n",
    "        self.stack = []\n",
    "        self.top_ele = 0\n",
    "\n",
    "    def push(self, x: int) -> None:\n",
    "        self.stack.append(x)\n",
    "        self.top_ele = x\n",
    "\n",
    "    def pop(self) -> int:\n",
    "        self.size = len(self.stack)\n",
    "        '''while self.size > 1:\n",
    "            self.stack.append(self.stack.pop(0))'''\n",
    "        while self.size > 2: # 更新 top_ele\n",
    "            self.stack.append(self.stack.pop(0))\n",
    "            self.size -= 1\n",
    "        self.top_ele = self.stack[0]\n",
    "        self.stack.append(self.stack.pop(0))\n",
    "        return self.stack.pop(0)\n",
    "\n",
    "    def top(self) -> int:\n",
    "        return self.top_ele\n",
    "\n",
    "    def empty(self) -> bool:\n",
    "        return not self.stack\n",
    "\n",
    "\n",
    "# Your MyStack object will be instantiated and called as such:\n",
    "# obj = MyStack()\n",
    "# obj.push(x)\n",
    "# param_2 = obj.pop()\n",
    "# param_3 = obj.top()\n",
    "# param_4 = obj.empty()"
   ]
  }
 ],
 "metadata": {
  "kernelspec": {
   "display_name": "base",
   "language": "python",
   "name": "python3"
  },
  "language_info": {
   "codemirror_mode": {
    "name": "ipython",
    "version": 3
   },
   "file_extension": ".py",
   "mimetype": "text/x-python",
   "name": "python",
   "nbconvert_exporter": "python",
   "pygments_lexer": "ipython3",
   "version": "3.11.3"
  },
  "orig_nbformat": 4
 },
 "nbformat": 4,
 "nbformat_minor": 2
}
