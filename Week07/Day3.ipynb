{
 "cells": [
  {
   "cell_type": "markdown",
   "metadata": {},
   "source": [
    "设计朋友圈时间线功能\n",
    "\n",
    "https://labuladong.github.io/algo/di-yi-zhan-da78c/shou-ba-sh-daeca/she-ji-pen-d3575/"
   ]
  },
  {
   "cell_type": "code",
   "execution_count": null,
   "metadata": {},
   "outputs": [],
   "source": [
    "# 355. 设计推特\n",
    "# https://leetcode.cn/problems/design-twitter/\n",
    "\n",
    "class Twitter:\n",
    "    def __init__(self):\n",
    "\n",
    "\n",
    "    def postTweet(self, userId: int, tweetId: int) -> None:\n",
    "\n",
    "\n",
    "    def getNewsFeed(self, userId: int) -> List[int]:\n",
    "\n",
    "\n",
    "    def follow(self, followerId: int, followeeId: int) -> None:\n",
    "\n",
    "\n",
    "    def unfollow(self, followerId: int, followeeId: int) -> None:\n",
    "\n",
    "\n",
    "\n",
    "# Your Twitter object will be instantiated and called as such:\n",
    "# obj = Twitter()\n",
    "# obj.postTweet(userId,tweetId)\n",
    "# param_2 = obj.getNewsFeed(userId)\n",
    "# obj.follow(followerId,followeeId)\n",
    "# obj.unfollow(followerId,followeeId)"
   ]
  }
 ],
 "metadata": {
  "kernelspec": {
   "display_name": "base",
   "language": "python",
   "name": "python3"
  },
  "language_info": {
   "name": "python",
   "version": "3.11.3"
  },
  "orig_nbformat": 4
 },
 "nbformat": 4,
 "nbformat_minor": 2
}
