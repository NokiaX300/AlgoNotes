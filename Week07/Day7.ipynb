{
 "cells": [
  {
   "cell_type": "markdown",
   "metadata": {},
   "source": [
    "二叉树（四）\n",
    "\n",
    "https://labuladong.github.io/algo/di-yi-zhan-da78c/shou-ba-sh-66994/dong-ge-da-d14d3/"
   ]
  },
  {
   "cell_type": "code",
   "execution_count": null,
   "metadata": {},
   "outputs": [],
   "source": [
    "# 所谓的序列化不过就是把结构化的数据「打平」，本质就是在考察二叉树的遍历方式"
   ]
  },
  {
   "cell_type": "code",
   "execution_count": 1,
   "metadata": {},
   "outputs": [],
   "source": [
    "# 297. 二叉树的序列化与反序列化\n",
    "# https://leetcode.cn/problems/serialize-and-deserialize-binary-tree/\n",
    "\n",
    "# 前序遍历\n",
    "# Definition for a binary tree node.\n",
    "class TreeNode(object):\n",
    "    def __init__(self, x):\n",
    "        self.val = x\n",
    "        self.left = None\n",
    "        self.right = None\n",
    "\n",
    "\n",
    "class Codec:\n",
    "    def serialize(self, root: TreeNode):\n",
    "        \"\"\"Encodes a tree to a single string.\n",
    "        \n",
    "        :type root: TreeNode\n",
    "        :rtype: str\n",
    "        \"\"\"\n",
    "        def help1(root: TreeNode, rootList: list):\n",
    "            if not root:\n",
    "                rootList.append('None')\n",
    "                return rootList\n",
    "            rootList.append(str(root.val)) # 必须将 int 转化为 str\n",
    "            help1(root.left, rootList)\n",
    "            help1(root.right, rootList)\n",
    "            return rootList\n",
    "        return ','.join(help1(root, []))\n",
    "\n",
    "    def deserialize(self, data: str):\n",
    "        \"\"\"Decodes your encoded data to tree.\n",
    "        \n",
    "        :type data: str\n",
    "        :rtype: TreeNode\n",
    "        \"\"\"\n",
    "        def help2(rootList):\n",
    "            if not rootList:\n",
    "                return\n",
    "            first = rootList.pop(0)\n",
    "            if first == 'None':\n",
    "                return\n",
    "            root = TreeNode(int(first))\n",
    "            root.left = help2(rootList)\n",
    "            root.right = help2(rootList)\n",
    "            return root\n",
    "        return help2(data.split(','))\n",
    "        \n",
    "\n",
    "# Your Codec object will be instantiated and called as such:\n",
    "# ser = Codec()\n",
    "# deser = Codec()\n",
    "# ans = deser.deserialize(ser.serialize(root))"
   ]
  },
  {
   "cell_type": "markdown",
   "metadata": {},
   "source": [
    "<img src=\"297.png\" style=\"zoom:50%\" />"
   ]
  },
  {
   "cell_type": "code",
   "execution_count": 36,
   "metadata": {},
   "outputs": [
    {
     "data": {
      "text/plain": [
       "'1,2,None,4,None,None,3,None,None'"
      ]
     },
     "execution_count": 36,
     "metadata": {},
     "output_type": "execute_result"
    }
   ],
   "source": [
    "dummy = TreeNode(1)\n",
    "head = dummy\n",
    "head.left = TreeNode(2)\n",
    "head.left.right = TreeNode(4)\n",
    "head.right = TreeNode(3)\n",
    "\n",
    "Codec().serialize(dummy)"
   ]
  },
  {
   "cell_type": "code",
   "execution_count": 17,
   "metadata": {},
   "outputs": [
    {
     "name": "stdout",
     "output_type": "stream",
     "text": [
      "1\n"
     ]
    }
   ],
   "source": [
    "st = ''\n",
    "if not st:\n",
    "    print('1')"
   ]
  },
  {
   "cell_type": "code",
   "execution_count": 9,
   "metadata": {},
   "outputs": [
    {
     "name": "stdout",
     "output_type": "stream",
     "text": [
      "['']\n",
      "1\n"
     ]
    }
   ],
   "source": [
    "data = ''\n",
    "lis = data.split(',')\n",
    "print(lis)\n",
    "if lis:\n",
    "    print('1')"
   ]
  },
  {
   "cell_type": "code",
   "execution_count": null,
   "metadata": {},
   "outputs": [],
   "source": [
    "class Codec:\n",
    "    def serialize(self, root: TreeNode):\n",
    "        global a\n",
    "        a = root\n",
    "        return ''\n",
    "\n",
    "    def deserialize(self, data: str):\n",
    "        return a"
   ]
  },
  {
   "cell_type": "code",
   "execution_count": 7,
   "metadata": {},
   "outputs": [],
   "source": [
    "# 297. 二叉树的序列化与反序列化\n",
    "# https://leetcode.cn/problems/serialize-and-deserialize-binary-tree/\n",
    "\n",
    "# 后序遍历\n",
    "# Definition for a binary tree node.\n",
    "class TreeNode(object):\n",
    "    def __init__(self, x):\n",
    "        self.val = x\n",
    "        self.left = None\n",
    "        self.right = None\n",
    "\n",
    "\n",
    "class Codec:\n",
    "    def serialize(self, root: TreeNode):\n",
    "        \"\"\"Encodes a tree to a single string.\n",
    "        \n",
    "        :type root: TreeNode\n",
    "        :rtype: str\n",
    "        \"\"\"\n",
    "        def help1(root: TreeNode, rootList: list):\n",
    "            if not root:\n",
    "                rootList.append('None')\n",
    "                return rootList\n",
    "            help1(root.left, rootList)\n",
    "            help1(root.right, rootList)\n",
    "            rootList.append(str(root.val))\n",
    "            return rootList\n",
    "        return ','.join(help1(root, []))\n",
    "        \n",
    "    def deserialize(self, data: str):\n",
    "        \"\"\"Decodes your encoded data to tree.\n",
    "        \n",
    "        :type data: str\n",
    "        :rtype: TreeNode\n",
    "        \"\"\"\n",
    "        def help2(rootList: list):\n",
    "            if not rootList:\n",
    "                return\n",
    "            final = rootList.pop()\n",
    "            if final == 'None':\n",
    "                return\n",
    "            root = TreeNode(int(final))\n",
    "            root.right = help2(rootList) # 先构造右子树，后构造左子树\n",
    "            root.left = help2(rootList)\n",
    "            return root\n",
    "        return help2(data.split(','))\n",
    "\n",
    "\n",
    "# Your Codec object will be instantiated and called as such:\n",
    "# ser = Codec()\n",
    "# deser = Codec()\n",
    "# ans = deser.deserialize(ser.serialize(root))"
   ]
  },
  {
   "cell_type": "markdown",
   "metadata": {},
   "source": [
    "<img src=\"297(2).png\" style=\"zoom:50%\" />"
   ]
  },
  {
   "cell_type": "code",
   "execution_count": 8,
   "metadata": {},
   "outputs": [
    {
     "data": {
      "text/plain": [
       "'None,None,None,4,2,None,None,3,1'"
      ]
     },
     "execution_count": 8,
     "metadata": {},
     "output_type": "execute_result"
    }
   ],
   "source": [
    "dummy = TreeNode(1)\n",
    "head = dummy\n",
    "head.left = TreeNode(2)\n",
    "head.left.right = TreeNode(4)\n",
    "head.right = TreeNode(3)\n",
    "\n",
    "Codec().serialize(dummy)"
   ]
  },
  {
   "cell_type": "code",
   "execution_count": 11,
   "metadata": {},
   "outputs": [],
   "source": [
    "# 297. 二叉树的序列化与反序列化\n",
    "# https://leetcode.cn/problems/serialize-and-deserialize-binary-tree/\n",
    "\n",
    "# 中序遍历\n",
    "# Definition for a binary tree node.\n",
    "class TreeNode(object):\n",
    "    def __init__(self, x):\n",
    "        self.val = x\n",
    "        self.left = None\n",
    "        self.right = None\n",
    "\n",
    "\n",
    "class Codec:\n",
    "    def serialize(self, root: TreeNode):\n",
    "        \"\"\"Encodes a tree to a single string.\n",
    "        \n",
    "        :type root: TreeNode\n",
    "        :rtype: str\n",
    "        \"\"\"  \n",
    "        def help1(root: TreeNode, rootList: list):\n",
    "            if not root:\n",
    "                rootList.append('None')\n",
    "                return rootList\n",
    "            help1(root.left, rootList)\n",
    "            rootList.append(str(root.val))\n",
    "            help1(root.right, rootList)\n",
    "            return rootList\n",
    "        return ','.join(help1(root, []))\n",
    "        \n",
    "    def deserialize(self, data: str):\n",
    "        \"\"\"Decodes your encoded data to tree.\n",
    "        \n",
    "        :type data: str\n",
    "        :rtype: TreeNode\n",
    "        \"\"\"\n",
    "        pass\n",
    "    # 无法进行反序列化\n",
    "        \n",
    "\n",
    "# Your Codec object will be instantiated and called as such:\n",
    "# ser = Codec()\n",
    "# deser = Codec()\n",
    "# ans = deser.deserialize(ser.serialize(root))"
   ]
  },
  {
   "cell_type": "code",
   "execution_count": 12,
   "metadata": {},
   "outputs": [
    {
     "data": {
      "text/plain": [
       "'None,2,None,4,None,1,None,3,None'"
      ]
     },
     "execution_count": 12,
     "metadata": {},
     "output_type": "execute_result"
    }
   ],
   "source": [
    "dummy = TreeNode(1)\n",
    "head = dummy\n",
    "head.left = TreeNode(2)\n",
    "head.left.right = TreeNode(4)\n",
    "head.right = TreeNode(3)\n",
    "\n",
    "Codec().serialize(dummy)"
   ]
  },
  {
   "cell_type": "code",
   "execution_count": null,
   "metadata": {},
   "outputs": [],
   "source": [
    "# 层序遍历框架\n",
    "class TreeNode:\n",
    "    def __init__(self, val=0, left=None, right=None):\n",
    "        self.val = val\n",
    "        self.left = left\n",
    "        self.right = right\n",
    "\n",
    "\n",
    "class Solution:\n",
    "    def levelOrder(self, root: Optional[TreeNode]) -> List[List[int]]:\n",
    "        if not root:\n",
    "            return []\n",
    "        q = []\n",
    "        q.append(root)\n",
    "        rootList = []\n",
    "        while q:\n",
    "            res = []\n",
    "            for _ in range(len(q)):\n",
    "                cur = q.pop(0)\n",
    "                res.append(cur.val)\n",
    "                if cur.left:\n",
    "                    q.append(cur.left)\n",
    "                if cur.right:\n",
    "                    q.append(cur.right)\n",
    "            rootList.append(res)\n",
    "        return rootList"
   ]
  },
  {
   "cell_type": "code",
   "execution_count": 17,
   "metadata": {},
   "outputs": [],
   "source": [
    "# 297. 二叉树的序列化与反序列化\n",
    "# https://leetcode.cn/problems/serialize-and-deserialize-binary-tree/\n",
    "\n",
    "# 层级遍历\n",
    "# Definition for a binary tree node.\n",
    "class TreeNode(object):\n",
    "    def __init__(self, x):\n",
    "        self.val = x\n",
    "        self.left = None\n",
    "        self.right = None\n",
    "\n",
    "\n",
    "class Codec:\n",
    "    def serialize(self, root: TreeNode):\n",
    "        \"\"\"Encodes a tree to a single string.\n",
    "        \n",
    "        :type root: TreeNode\n",
    "        :rtype: str\n",
    "        \"\"\"  \n",
    "        if not root:\n",
    "            return ''\n",
    "        q = [root]\n",
    "        rootList = []\n",
    "        while q:\n",
    "            cur = q.pop(0)\n",
    "            if not cur:\n",
    "                rootList.append('None')\n",
    "                continue\n",
    "            rootList.append(str(cur.val))\n",
    "            q.append(cur.left)\n",
    "            q.append(cur.right)\n",
    "        return ','.join(rootList)\n",
    "          \n",
    "    def deserialize(self, data: str):\n",
    "        \"\"\"Decodes your encoded data to tree.\n",
    "        \n",
    "        :type data: str\n",
    "        :rtype: TreeNode\n",
    "        \"\"\"\n",
    "        if not data:\n",
    "            return None\n",
    "        rootList = data.split(',')\n",
    "        root = TreeNode(int(rootList.pop(0)))\n",
    "        q = [root]\n",
    "        for i in range(len(rootList)):\n",
    "            if i%2 == 0:\n",
    "                parent = q.pop(0)\n",
    "                if rootList[i] != 'None':\n",
    "                    parent.left = TreeNode(int(rootList[i]))\n",
    "                    # q.append(TreeNode(int(rootList[i]))) # 未改变实际树的结构\n",
    "                    q.append(parent.left)\n",
    "            else:\n",
    "                if rootList[i] != 'None':\n",
    "                    parent.right = TreeNode(int(rootList[i]))\n",
    "                    # q.append(TreeNode(int(rootList[i])))\n",
    "                    q.append(parent.right)\n",
    "        return root\n",
    "        \n",
    "\n",
    "# Your Codec object will be instantiated and called as such:\n",
    "# ser = Codec()\n",
    "# deser = Codec()\n",
    "# ans = deser.deserialize(ser.serialize(root))"
   ]
  },
  {
   "cell_type": "markdown",
   "metadata": {},
   "source": [
    "<img src=\"297(3).png\" style=\"zoom:50%\" />"
   ]
  },
  {
   "cell_type": "code",
   "execution_count": 10,
   "metadata": {},
   "outputs": [
    {
     "name": "stdout",
     "output_type": "stream",
     "text": [
      "[None, None]\n"
     ]
    }
   ],
   "source": [
    "class TreeNode(object):\n",
    "    def __init__(self, x):\n",
    "        self.val = x\n",
    "        self.left = None\n",
    "        self.right = None\n",
    "    \n",
    "head = TreeNode(1)\n",
    "q = []\n",
    "q.append(head.left)\n",
    "q.append(head.right)\n",
    "print(q)"
   ]
  },
  {
   "cell_type": "code",
   "execution_count": 13,
   "metadata": {},
   "outputs": [],
   "source": [
    "class TreeNode(object):\n",
    "    def __init__(self, x):\n",
    "        self.val = x\n",
    "        self.left = None\n",
    "        self.right = None\n",
    "\n",
    "\n",
    "class Codec:\n",
    "    def serialize(self, root: TreeNode):\n",
    "        q = [root]\n",
    "        rootList = []\n",
    "        while q:\n",
    "            for _ in range(len(q)):\n",
    "                cur = q.pop(0)\n",
    "                if not cur:\n",
    "                    rootList.append('None')\n",
    "                else:\n",
    "                    rootList.append(str(cur.val))\n",
    "                    q.append(cur.left)\n",
    "                    q.append(cur.right)\n",
    "        return ','.join(rootList)\n",
    "\n",
    "\n",
    "# Your Codec object will be instantiated and called as such:\n",
    "# ser = Codec()\n",
    "# deser = Codec()\n",
    "# ans = deser.deserialize(ser.serialize(root))"
   ]
  },
  {
   "cell_type": "code",
   "execution_count": 18,
   "metadata": {},
   "outputs": [
    {
     "data": {
      "text/plain": [
       "'1,2,3,None,4,None,None,None,None'"
      ]
     },
     "execution_count": 18,
     "metadata": {},
     "output_type": "execute_result"
    }
   ],
   "source": [
    "dummy = TreeNode(1)\n",
    "head = dummy\n",
    "head.left = TreeNode(2)\n",
    "head.left.right = TreeNode(4)\n",
    "head.right = TreeNode(3)\n",
    "\n",
    "Codec().serialize(dummy)"
   ]
  },
  {
   "cell_type": "code",
   "execution_count": 24,
   "metadata": {},
   "outputs": [
    {
     "name": "stdout",
     "output_type": "stream",
     "text": [
      "False\n"
     ]
    },
    {
     "ename": "AttributeError",
     "evalue": "'NoneType' object has no attribute 'val'",
     "output_type": "error",
     "traceback": [
      "\u001b[1;31m---------------------------------------------------------------------------\u001b[0m",
      "\u001b[1;31mAttributeError\u001b[0m                            Traceback (most recent call last)",
      "Cell \u001b[1;32mIn[24], line 21\u001b[0m\n\u001b[0;32m     18\u001b[0m ead\u001b[39m.\u001b[39mright \u001b[39m=\u001b[39m TreeNode(\u001b[39m3\u001b[39m)\n\u001b[0;32m     20\u001b[0m \u001b[39mprint\u001b[39m(dummy \u001b[39m==\u001b[39m yummy)\n\u001b[1;32m---> 21\u001b[0m \u001b[39mprint\u001b[39m(dummy\u001b[39m.\u001b[39mright\u001b[39m.\u001b[39mright\u001b[39m.\u001b[39mval \u001b[39m==\u001b[39m yummy\u001b[39m.\u001b[39;49mright\u001b[39m.\u001b[39;49mright\u001b[39m.\u001b[39;49mval)\n",
      "\u001b[1;31mAttributeError\u001b[0m: 'NoneType' object has no attribute 'val'"
     ]
    }
   ],
   "source": [
    "class TreeNode(object):\n",
    "    def __init__(self, x):\n",
    "        self.val = x\n",
    "        self.left = None\n",
    "        self.right = None\n",
    "\n",
    "dummy = TreeNode(1)\n",
    "head = dummy\n",
    "head.left = TreeNode(2)\n",
    "head.left.right = TreeNode(4)\n",
    "head.right = TreeNode(3)\n",
    "head.right.right = TreeNode('None')\n",
    "\n",
    "yummy = TreeNode(1)\n",
    "ead = yummy\n",
    "ead.left = TreeNode(2)\n",
    "ead.left.right = TreeNode(4)\n",
    "ead.right = TreeNode(3)\n",
    "\n",
    "print(dummy == yummy)\n",
    "print(dummy.right.right.val == yummy.right.right.val)"
   ]
  },
  {
   "cell_type": "code",
   "execution_count": 23,
   "metadata": {},
   "outputs": [
    {
     "name": "stdout",
     "output_type": "stream",
     "text": [
      "1,2,3,None,4,None,None,None,None\n"
     ]
    }
   ],
   "source": [
    "class TreeNode(object):\n",
    "    def __init__(self, x):\n",
    "        self.val = x\n",
    "        self.left = None\n",
    "        self.right = None\n",
    "\n",
    "\n",
    "class Codec:\n",
    "    def serialize(self, root: TreeNode):\n",
    "        q = [root]\n",
    "        rootList = []\n",
    "        while q:\n",
    "            for _ in range(len(q)):\n",
    "                cur = q.pop(0)\n",
    "                if not cur:\n",
    "                    rootList.append('None')\n",
    "                else:\n",
    "                    rootList.append(str(cur.val))\n",
    "                    q.append(cur.left)\n",
    "                    q.append(cur.right)\n",
    "        return ','.join(rootList)\n",
    "    \n",
    "    def deserialize(self, data: str):\n",
    "        if not data:\n",
    "            return None\n",
    "        rootList = data.split(',')\n",
    "        root = TreeNode((rootList.pop(0)))\n",
    "        q = [root]\n",
    "        for i in range(len(rootList)):\n",
    "            if i%2 == 0:\n",
    "                parent = q.pop(0)\n",
    "                if rootList[i] != 'None':\n",
    "                    parent.left = TreeNode((rootList[i]))\n",
    "                    q.append(parent.left)\n",
    "            else:\n",
    "                if rootList[i] != 'None':\n",
    "                    parent.right = TreeNode((rootList[i]))\n",
    "                    q.append(parent.right)\n",
    "        return root\n",
    "\n",
    "root = Codec().deserialize('1,2,3,None,4,None,None,None,None')\n",
    "s = Codec().serialize(root)\n",
    "print(s)"
   ]
  },
  {
   "cell_type": "code",
   "execution_count": 1,
   "metadata": {},
   "outputs": [],
   "source": [
    "# 297. 二叉树的序列化与反序列化\n",
    "# https://leetcode.cn/problems/serialize-and-deserialize-binary-tree/\n",
    "\n",
    "# 层级遍历\n",
    "# Definition for a binary tree node.\n",
    "class TreeNode(object):\n",
    "    def __init__(self, x):\n",
    "        self.val = x\n",
    "        self.left = None\n",
    "        self.right = None\n",
    "\n",
    "\n",
    "class Codec:\n",
    "    def serialize(self, root: TreeNode):\n",
    "        \"\"\"Encodes a tree to a single string.\n",
    "        \n",
    "        :type root: TreeNode\n",
    "        :rtype: str\n",
    "        \"\"\"  \n",
    "        if not root:\n",
    "            return ''\n",
    "        q = [root]\n",
    "        rootList = []\n",
    "        while q:\n",
    "            cur = q.pop(0)\n",
    "            if not cur:\n",
    "                rootList.append('None')\n",
    "                continue\n",
    "            rootList.append(str(cur.val))\n",
    "            q.append(cur.left)\n",
    "            q.append(cur.right)\n",
    "        return ','.join(rootList)\n",
    "          \n",
    "    def deserialize(self, data: str):\n",
    "        \"\"\"Decodes your encoded data to tree.\n",
    "        \n",
    "        :type data: str\n",
    "        :rtype: TreeNode\n",
    "        \"\"\"\n",
    "        if not data:\n",
    "            return None\n",
    "        rootList = data.split(',')\n",
    "        root = TreeNode(int(rootList[0]))\n",
    "        q = [root]\n",
    "        i = 1\n",
    "        while q:\n",
    "            parent = q.pop(0)\n",
    "            if rootList[i] != 'None':\n",
    "                parent.left = TreeNode(int(rootList[i]))\n",
    "                q.append(parent.left)\n",
    "            i += 1\n",
    "            if rootList[i] != 'None':\n",
    "                parent.right = TreeNode(int(rootList[i]))\n",
    "                q.append(parent.right)\n",
    "            i += 1\n",
    "        return root\n",
    "        '''for i in range(len(rootList)):\n",
    "            if i%2 == 0:\n",
    "                parent = q.pop(0)\n",
    "                if rootList[i] != 'None':\n",
    "                    parent.left = TreeNode(int(rootList[i]))\n",
    "                    # q.append(TreeNode(int(rootList[i]))) # 未改变实际树的结构\n",
    "                    q.append(parent.left)\n",
    "            else:\n",
    "                if rootList[i] != 'None':\n",
    "                    parent.right = TreeNode(int(rootList[i]))\n",
    "                    # q.append(TreeNode(int(rootList[i])))\n",
    "                    q.append(parent.right)'''\n",
    "        \n",
    "\n",
    "# Your Codec object will be instantiated and called as such:\n",
    "# ser = Codec()\n",
    "# deser = Codec()\n",
    "# ans = deser.deserialize(ser.serialize(root))"
   ]
  },
  {
   "cell_type": "code",
   "execution_count": null,
   "metadata": {},
   "outputs": [],
   "source": [
    "# 前序遍历\n",
    "class Codec:\n",
    "    def serialize(self, root):\n",
    "        res = []\n",
    "        def dfs(root):\n",
    "            if not root:\n",
    "                res.append('#')\n",
    "                return\n",
    "            res.append(str(root.val)) # 必须将 int 转化为 str\n",
    "            dfs(root.left)\n",
    "            dfs(root.right)\n",
    "        dfs(root)\n",
    "        return ','.join(res)\n",
    "\n",
    "    def deserialize(self, data):\n",
    "        lst = data.split(',')\n",
    "        def dfs():\n",
    "            if not lst:\n",
    "                return\n",
    "            val = lst.pop(0)\n",
    "            if val=='#':\n",
    "                return\n",
    "            root = TreeNode(int(val))\n",
    "            root.left = dfs()\n",
    "            root.right = dfs()\n",
    "            return root\n",
    "        return dfs()"
   ]
  },
  {
   "cell_type": "code",
   "execution_count": null,
   "metadata": {},
   "outputs": [],
   "source": [
    "# 后序遍历\n",
    "class Codec:\n",
    "    def serialize(self, root):\n",
    "        res = []\n",
    "        def dfs(root):\n",
    "            if not root:\n",
    "                res.append('#')\n",
    "                return\n",
    "            dfs(root.left)\n",
    "            dfs(root.right)\n",
    "            res.append(str(root.val))\n",
    "        dfs(root)\n",
    "        return ','.join(res)\n",
    "\n",
    "    def deserialize(self, data):\n",
    "        lst = data.split(',')\n",
    "        def dfs():\n",
    "            if not lst:\n",
    "                return\n",
    "            val = lst.pop()\n",
    "            if val=='#':\n",
    "                return\n",
    "            root = TreeNode(int(val))\n",
    "            root.right = dfs() # 先构造右子树，后构造左子树\n",
    "            root.left = dfs()\n",
    "            return root\n",
    "        return dfs()"
   ]
  },
  {
   "cell_type": "code",
   "execution_count": null,
   "metadata": {},
   "outputs": [],
   "source": [
    "# 层序遍历\n",
    "class Codec:\n",
    "    def serialize(self, root):\n",
    "        if not root:\n",
    "            return ''\n",
    "        rootList = [root]\n",
    "        res = []\n",
    "        while rootList:\n",
    "            for _ in range(len(rootList)):\n",
    "                cur = rootList.pop(0)\n",
    "                if not cur:\n",
    "                    res.append('#')\n",
    "                    continue\n",
    "                res.append(str(cur.val))\n",
    "                rootList.append(cur.left)\n",
    "                rootList.append(cur.right)\n",
    "        return ','.join(res)\n",
    "\n",
    "    def deserialize(self, data):\n",
    "        if not data:\n",
    "            return\n",
    "        lst = data.split(',')\n",
    "        val = lst.pop(0)\n",
    "        root = TreeNode(int(val))\n",
    "        rootList = [root]\n",
    "        i = 0\n",
    "        while rootList:\n",
    "            cur = rootList.pop(0)\n",
    "            if lst[i]!='#':\n",
    "                cur.left = TreeNode(int(lst[i]))\n",
    "                rootList.append(cur.left)\n",
    "            i += 1\n",
    "            if lst[i]!='#':\n",
    "                cur.right = TreeNode(int(lst[i]))\n",
    "                rootList.append(cur.right)\n",
    "            i += 1\n",
    "        return root"
   ]
  }
 ],
 "metadata": {
  "kernelspec": {
   "display_name": "base",
   "language": "python",
   "name": "python3"
  },
  "language_info": {
   "codemirror_mode": {
    "name": "ipython",
    "version": 3
   },
   "file_extension": ".py",
   "mimetype": "text/x-python",
   "name": "python",
   "nbconvert_exporter": "python",
   "pygments_lexer": "ipython3",
   "version": "3.11.3"
  },
  "orig_nbformat": 4
 },
 "nbformat": 4,
 "nbformat_minor": 2
}
