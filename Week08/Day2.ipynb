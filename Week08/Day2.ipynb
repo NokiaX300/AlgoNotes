{
 "cells": [
  {
   "cell_type": "markdown",
   "metadata": {},
   "source": [
    "归并排序详解及应用\n",
    "\n",
    "https://labuladong.github.io/algo/di-yi-zhan-da78c/shou-ba-sh-66994/gui-bing-p-1387f/"
   ]
  },
  {
   "cell_type": "markdown",
   "metadata": {},
   "source": [
    "<img src=\"912.png\" style=\"zoom:50%\" />"
   ]
  },
  {
   "cell_type": "code",
   "execution_count": null,
   "metadata": {},
   "outputs": [],
   "source": [
    "# 每次合并操作需要遍历整个数组，比较两个有序子数组中的元素大小并放入新的有序数组中，所以单次合并操作的时间复杂度为O(n)\n",
    "# 而在归并排序的过程中，总共需要进行的合并操作次数为logn\n",
    "# 最终合并成一个有序数组的时间复杂度为O(logn * n)"
   ]
  },
  {
   "cell_type": "markdown",
   "metadata": {},
   "source": [
    "<img src=\"912(2).png\" style=\"zoom:50%\" />"
   ]
  },
  {
   "cell_type": "code",
   "execution_count": 6,
   "metadata": {},
   "outputs": [],
   "source": [
    "class Merge:\n",
    "    def __init__(self) -> None:\n",
    "        self.temp = None\n",
    "\n",
    "    def sort(self, nums):\n",
    "        self.temp = [0]*len(nums)\n",
    "        self._sort(nums, 0, len(nums)-1)\n",
    "        print(nums)\n",
    "    \n",
    "    def _sort(self, nums, lo, hi):\n",
    "        if hi == lo:\n",
    "            return\n",
    "        mid = (hi-lo)//2 + lo\n",
    "        self._sort(nums, lo, mid)\n",
    "        self._sort(nums, mid+1, hi)\n",
    "        self._merge(nums, lo, mid, hi)\n",
    "\n",
    "    def _merge(self, nums, lo, mid, hi):\n",
    "        for i in range(lo, hi+1):\n",
    "            self.temp[i] = nums[i]\n",
    "        i = lo\n",
    "        j = mid+1\n",
    "        for p in range(lo, hi+1):\n",
    "            if i == mid+1:\n",
    "                nums[p] = self.temp[j]\n",
    "                j += 1\n",
    "            elif j == hi+1:\n",
    "                nums[p] = self.temp[i]\n",
    "                i += 1\n",
    "            elif self.temp[i] > self.temp[j]:\n",
    "                nums[p] = self.temp[j]\n",
    "                j += 1\n",
    "            else:\n",
    "                nums[p] = self.temp[i]\n",
    "                i += 1"
   ]
  },
  {
   "cell_type": "code",
   "execution_count": 7,
   "metadata": {},
   "outputs": [
    {
     "name": "stdout",
     "output_type": "stream",
     "text": [
      "[1, 1, 2, 3, 4, 5, 6, 7]\n"
     ]
    }
   ],
   "source": [
    "Merge().sort([1,1,3,5,2,4,6,7])"
   ]
  },
  {
   "cell_type": "code",
   "execution_count": null,
   "metadata": {},
   "outputs": [],
   "source": [
    "# 912. 排序数组\n",
    "# https://leetcode.cn/problems/sort-an-array/\n",
    "\n",
    "class Solution:\n",
    "    def sortArray(self, nums: List[int]) -> List[int]:\n",
    "        pass"
   ]
  }
 ],
 "metadata": {
  "kernelspec": {
   "display_name": "base",
   "language": "python",
   "name": "python3"
  },
  "language_info": {
   "codemirror_mode": {
    "name": "ipython",
    "version": 3
   },
   "file_extension": ".py",
   "mimetype": "text/x-python",
   "name": "python",
   "nbconvert_exporter": "python",
   "pygments_lexer": "ipython3",
   "version": "3.11.3"
  },
  "orig_nbformat": 4
 },
 "nbformat": 4,
 "nbformat_minor": 2
}
