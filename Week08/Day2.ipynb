{
 "cells": [
  {
   "cell_type": "markdown",
   "metadata": {},
   "source": [
    "归并排序详解及应用\n",
    "\n",
    "https://labuladong.github.io/algo/di-yi-zhan-da78c/shou-ba-sh-66994/gui-bing-p-1387f/"
   ]
  },
  {
   "cell_type": "markdown",
   "metadata": {},
   "source": [
    "<img src=\"912.png\" style=\"zoom:50%\" />"
   ]
  },
  {
   "cell_type": "code",
   "execution_count": null,
   "metadata": {},
   "outputs": [],
   "source": [
    "# 每次合并操作需要遍历整个数组，比较两个有序子数组中的元素大小并放入新的有序数组中，所以单次合并操作的时间复杂度为O(n)\n",
    "# 而在归并排序的过程中，总共需要进行的合并操作次数为logn\n",
    "# 最终合并成一个有序数组的时间复杂度为O(logn * n)"
   ]
  },
  {
   "cell_type": "code",
   "execution_count": 6,
   "metadata": {},
   "outputs": [],
   "source": [
    "class Merge:\n",
    "    def __init__(self) -> None:\n",
    "        self.temp = None\n",
    "\n",
    "    def sort(self, nums):\n",
    "        self.temp = [0]*len(nums)\n",
    "        self._sort(nums, 0, len(nums)-1)\n",
    "        print(nums)\n",
    "    \n",
    "    def _sort(self, nums, lo, hi):\n",
    "        if hi == lo:\n",
    "            return\n",
    "        mid = (hi-lo)//2 + lo\n",
    "        self._sort(nums, lo, mid)\n",
    "        self._sort(nums, mid+1, hi)\n",
    "        self._merge(nums, lo, mid, hi)\n",
    "\n",
    "    def _merge(self, nums, lo, mid, hi):\n",
    "        for i in range(lo, hi+1):\n",
    "            self.temp[i] = nums[i]\n",
    "        i = lo\n",
    "        j = mid+1\n",
    "        for p in range(lo, hi+1):\n",
    "            if i == mid+1:\n",
    "                nums[p] = self.temp[j]\n",
    "                j += 1\n",
    "            elif j == hi+1:\n",
    "                nums[p] = self.temp[i]\n",
    "                i += 1\n",
    "            elif self.temp[i] > self.temp[j]:\n",
    "                nums[p] = self.temp[j]\n",
    "                j += 1\n",
    "            else:\n",
    "                nums[p] = self.temp[i]\n",
    "                i += 1"
   ]
  },
  {
   "cell_type": "code",
   "execution_count": 7,
   "metadata": {},
   "outputs": [
    {
     "name": "stdout",
     "output_type": "stream",
     "text": [
      "[1, 1, 2, 3, 4, 5, 6, 7]\n"
     ]
    }
   ],
   "source": [
    "Merge().sort([1,1,3,5,2,4,6,7])"
   ]
  },
  {
   "cell_type": "markdown",
   "metadata": {},
   "source": [
    "<img src=\"912(2).png\" style=\"zoom:50%\" />"
   ]
  },
  {
   "cell_type": "code",
   "execution_count": null,
   "metadata": {},
   "outputs": [],
   "source": [
    "# 912. 排序数组\n",
    "# https://leetcode.cn/problems/sort-an-array/\n",
    "\n",
    "from typing import List\n",
    "class Solution:\n",
    "    def sortArray(self, nums: List[int]) -> List[int]:\n",
    "        Merge().sort(nums)\n",
    "        return nums\n",
    "\n",
    "\n",
    "class Merge:\n",
    "    def __init__(self) -> None:\n",
    "        self.temp = None\n",
    "\n",
    "    def sort(self, nums):\n",
    "        self.temp = [0]*len(nums)\n",
    "        self._sort(nums, 0, len(nums)-1)\n",
    "    \n",
    "    def _sort(self, nums, lo, hi):\n",
    "        if hi == lo:\n",
    "            return\n",
    "        mid = (hi-lo)//2 + lo\n",
    "        self._sort(nums, lo, mid)\n",
    "        self._sort(nums, mid+1, hi)\n",
    "        self._merge(nums, lo, mid, hi)\n",
    "\n",
    "    def _merge(self, nums, lo, mid, hi):\n",
    "        for i in range(lo, hi+1):\n",
    "            self.temp[i] = nums[i]\n",
    "        i = lo\n",
    "        j = mid+1\n",
    "        for p in range(lo, hi+1):\n",
    "            if i == mid+1:\n",
    "                nums[p] = self.temp[j]\n",
    "                j += 1\n",
    "            elif j == hi+1:\n",
    "                nums[p] = self.temp[i]\n",
    "                i += 1\n",
    "            elif self.temp[i] > self.temp[j]:\n",
    "                nums[p] = self.temp[j]\n",
    "                j += 1\n",
    "            else:\n",
    "                nums[p] = self.temp[i]\n",
    "                i += 1"
   ]
  },
  {
   "cell_type": "code",
   "execution_count": null,
   "metadata": {},
   "outputs": [],
   "source": [
    "# 912. 排序数组\n",
    "# https://leetcode.cn/problems/sort-an-array/\n",
    "\n",
    "# 超时\n",
    "class Solution:\n",
    "    def sortArray(self, nums: List[int]) -> List[int]:\n",
    "        for i in range(len(nums)-1, 0, -1):\n",
    "            for j in range(0, i):\n",
    "                if nums[j]>nums[j+1]:\n",
    "                    nums[j], nums[j+1] = nums[j+1], nums[j]\n",
    "        return nums"
   ]
  },
  {
   "cell_type": "code",
   "execution_count": 2,
   "metadata": {},
   "outputs": [
    {
     "name": "stdout",
     "output_type": "stream",
     "text": [
      "987654321"
     ]
    }
   ],
   "source": [
    "for i in range(9, 0, -1):\n",
    "    print(i, end='')"
   ]
  },
  {
   "cell_type": "code",
   "execution_count": 15,
   "metadata": {},
   "outputs": [],
   "source": [
    "# 912. 排序数组\n",
    "# https://leetcode.cn/problems/sort-an-array/\n",
    "\n",
    "from typing import List\n",
    "class Solution:\n",
    "    def sortArray(self, nums: List[int]) -> List[int]:\n",
    "        temp = [0]*len(nums)\n",
    "        def sort(nums, lo, hi):\n",
    "            if lo == hi:\n",
    "                return\n",
    "            mid = lo + (hi-lo)//2\n",
    "            sort(nums, lo, mid)\n",
    "            sort(nums, mid+1, hi)\n",
    "            merge(nums, lo, mid, hi)\n",
    "\n",
    "        def merge(nums, lo, mid, hi):\n",
    "            # temp = [0]*len(nums) # 每次新创建一个temp，效率降低会超时\n",
    "            for i in range(lo, hi+1):\n",
    "                temp[i] = nums[i]\n",
    "            i = lo\n",
    "            j = mid+1\n",
    "            for p in range(lo, hi+1):\n",
    "                if i == mid+1:\n",
    "                    nums[p] = temp[j]\n",
    "                    j += 1\n",
    "                elif j == hi+1:\n",
    "                    nums[p] = temp[i]\n",
    "                    i += 1\n",
    "                elif temp[i]>temp[j]:\n",
    "                    nums[p] = temp[j]\n",
    "                    j += 1\n",
    "                else:\n",
    "                    nums[p] = temp[i]\n",
    "                    i += 1\n",
    "        sort(nums, 0, len(nums)-1)    \n",
    "        return nums"
   ]
  },
  {
   "cell_type": "code",
   "execution_count": 16,
   "metadata": {},
   "outputs": [
    {
     "data": {
      "text/plain": [
       "[1, 1, 2, 3, 4, 5, 6, 7]"
      ]
     },
     "execution_count": 16,
     "metadata": {},
     "output_type": "execute_result"
    }
   ],
   "source": [
    "Solution().sortArray([1,1,3,5,2,4,6,7])"
   ]
  },
  {
   "cell_type": "code",
   "execution_count": null,
   "metadata": {},
   "outputs": [],
   "source": [
    "# 315. 计算右侧小于当前元素的个数\n",
    "# https://leetcode.cn/problems/count-of-smaller-numbers-after-self/\n",
    "\n",
    "# 二分法\n",
    "import bisect\n",
    "class Solution:\n",
    "    def countSmaller(self, nums: List[int]) -> List[int]:\n",
    "        q = []\n",
    "        res = []\n",
    "        for num in nums[::-1]:\n",
    "            loc = bisect.bisect_left(q, num)\n",
    "            res.append(loc)\n",
    "            q.insert(loc, num)\n",
    "        return res[::-1]"
   ]
  },
  {
   "cell_type": "code",
   "execution_count": null,
   "metadata": {},
   "outputs": [],
   "source": [
    "# 315. 计算右侧小于当前元素的个数\n",
    "# https://leetcode.cn/problems/count-of-smaller-numbers-after-self/\n",
    "\n",
    "# 归并排序\n",
    "from typing import List\n",
    "class Pair:\n",
    "    def __init__(self, id, val) -> None:\n",
    "        self.id = id\n",
    "        self.val = val\n",
    "\n",
    "\n",
    "class Merge:\n",
    "    def __init__(self) -> None:\n",
    "        pass\n",
    "\n",
    "    def sort(self, nums):\n",
    "        pass\n",
    "    \n",
    "    def _sort(self, nums, lo, hi):\n",
    "        pass\n",
    "\n",
    "    def _merge(self, nums, lo, mid, hi):\n",
    "        pass\n",
    "\n",
    "\n",
    "class Solution:\n",
    "    def countSmaller(self, nums: List[int]) -> List[int]:\n",
    "        count = [0]*len(nums)\n",
    "        Merge().sort(nums)\n",
    "        res = []\n",
    "        for c in count:\n",
    "            res.append(c)\n",
    "        return res"
   ]
  },
  {
   "cell_type": "code",
   "execution_count": null,
   "metadata": {},
   "outputs": [],
   "source": [
    "class Solution:\n",
    "    class Pair:\n",
    "        def __init__(self, val, id):\n",
    "            self.val = val\n",
    "            self.id = id\n",
    "\n",
    "    def countSmaller(self, nums):\n",
    "        n = len(nums)\n",
    "        count = [0] * n\n",
    "        temp = [None] * n\n",
    "        arr = [None] * n\n",
    "\n",
    "        for i in range(n):\n",
    "            arr[i] = self.Pair(nums[i], i)\n",
    "\n",
    "        self.sort(arr, 0, n - 1)\n",
    "\n",
    "        res = []\n",
    "        for c in count:\n",
    "            res.append(c)\n",
    "        return res\n",
    "\n",
    "    def sort(self, arr, lo, hi):\n",
    "        if lo == hi:\n",
    "            return\n",
    "        mid = lo + (hi - lo) // 2\n",
    "        self.sort(arr, lo, mid)\n",
    "        self.sort(arr, mid + 1, hi)\n",
    "        self.merge(arr, lo, mid, hi)\n",
    "\n",
    "    def merge(self, arr, lo, mid, hi):\n",
    "        for i in range(lo, hi + 1):\n",
    "            temp[i] = arr[i]\n",
    "\n",
    "        i = lo\n",
    "        j = mid + 1\n",
    "        for p in range(lo, hi + 1):\n",
    "            if i == mid + 1:\n",
    "                arr[p] = temp[j]\n",
    "                j += 1\n",
    "            elif j == hi + 1:\n",
    "                arr[p] = temp[i]\n",
    "                count[arr[p].id] += j - mid - 1\n",
    "                i += 1\n",
    "            elif temp[i].val > temp[j].val:\n",
    "                arr[p] = temp[j]\n",
    "                j += 1\n",
    "            else:\n",
    "                arr[p] = temp[i]\n",
    "                count[arr[p].id] += j - mid - 1\n",
    "                i += 1"
   ]
  }
 ],
 "metadata": {
  "kernelspec": {
   "display_name": "base",
   "language": "python",
   "name": "python3"
  },
  "language_info": {
   "codemirror_mode": {
    "name": "ipython",
    "version": 3
   },
   "file_extension": ".py",
   "mimetype": "text/x-python",
   "name": "python",
   "nbconvert_exporter": "python",
   "pygments_lexer": "ipython3",
   "version": "3.11.3"
  },
  "orig_nbformat": 4
 },
 "nbformat": 4,
 "nbformat_minor": 2
}
