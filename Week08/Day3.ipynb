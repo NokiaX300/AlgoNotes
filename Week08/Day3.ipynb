{
 "cells": [
  {
   "cell_type": "markdown",
   "metadata": {},
   "source": [
    "二叉搜索树（一）\n",
    "\n",
    "https://labuladong.github.io/algo/di-yi-zhan-da78c/shou-ba-sh-66994/dong-ge-da-8f403/"
   ]
  },
  {
   "cell_type": "code",
   "execution_count": null,
   "metadata": {},
   "outputs": [],
   "source": [
    "# Binary Search Tree，简写 BST\n",
    "# BST 的中序遍历结果是升序的\n",
    "\n",
    "# 1、对于 BST 的每一个节点 node，左子树节点的值都比 node 的值要小，右子树节点的值都比 node 的值大\n",
    "# 2、对于 BST 的每一个节点 node，它的左侧子树和右侧子树都是 BST"
   ]
  },
  {
   "cell_type": "code",
   "execution_count": null,
   "metadata": {},
   "outputs": [],
   "source": [
    "# 230. 二叉搜索树中第K小的元素\n",
    "# https://leetcode.cn/problems/kth-smallest-element-in-a-bst/description/\n",
    "\n",
    "# Definition for a binary tree node.\n",
    "from typing import Optional\n",
    "class TreeNode:\n",
    "    def __init__(self, val=0, left=None, right=None):\n",
    "        self.val = val\n",
    "        self.left = left\n",
    "        self.right = right\n",
    "\n",
    "\n",
    "'''class Solution:\n",
    "    res = []\n",
    "    def kthSmallest(self, root: Optional[TreeNode], k: int) -> int:\n",
    "        if not root:\n",
    "            return\n",
    "        self.kthSmallest(root.left, k)\n",
    "        Solution.res.append(root.val)\n",
    "        if len(Solution.res) == k:\n",
    "            return root.val\n",
    "        self.kthSmallest(root.right, k)'''\n",
    "\n",
    "class Solution:\n",
    "    def kthSmallest(self, root: Optional[TreeNode], k: int) -> int:\n",
    "        self.res = [0]\n",
    "        self._help(root)\n",
    "        return self.res[k]\n",
    "\n",
    "    def _help(self, root: Optional[TreeNode]):\n",
    "        if not root:\n",
    "            return\n",
    "        self._help(root.left)\n",
    "        self.res.append(root.val)\n",
    "        self._help(root.right)"
   ]
  },
  {
   "cell_type": "code",
   "execution_count": null,
   "metadata": {},
   "outputs": [],
   "source": [
    "# 538. 把二叉搜索树转换为累加树\n",
    "# https://leetcode.cn/problems/convert-bst-to-greater-tree/\n",
    "\n",
    "# Definition for a binary tree node.\n",
    "class TreeNode:\n",
    "    def __init__(self, val=0, left=None, right=None):\n",
    "        self.val = val\n",
    "        self.left = left\n",
    "        self.right = right\n",
    "\n",
    "\n",
    "class Solution:\n",
    "    def convertBST(self, root: Optional[TreeNode]) -> Optional[TreeNode]:\n",
    "        self.s = 0\n",
    "        self._help(root)\n",
    "        return root\n",
    "\n",
    "    def _help(self, root: Optional[TreeNode]):\n",
    "        if not root:\n",
    "            return\n",
    "        self._help(root.right)\n",
    "        self.s += root.val\n",
    "        root.val = self.s\n",
    "        self._help(root.left)"
   ]
  }
 ],
 "metadata": {
  "kernelspec": {
   "display_name": "base",
   "language": "python",
   "name": "python3"
  },
  "language_info": {
   "name": "python",
   "version": "3.11.5"
  },
  "orig_nbformat": 4
 },
 "nbformat": 4,
 "nbformat_minor": 2
}
