{
 "cells": [
  {
   "cell_type": "markdown",
   "metadata": {},
   "source": [
    "二叉搜索树（三）\n",
    "\n",
    "https://labuladong.github.io/algo/di-yi-zhan-da78c/shou-ba-sh-66994/dong-ge-da-b16de/"
   ]
  },
  {
   "cell_type": "code",
   "execution_count": 30,
   "metadata": {},
   "outputs": [],
   "source": [
    "# 96. 不同的二叉搜索树\n",
    "# https://leetcode.cn/problems/unique-binary-search-trees/\n",
    "\n",
    "# dp[i] = i个不同的数组成的二叉搜索数的个数\n",
    "class Solution:\n",
    "    def numTrees(self, n: int) -> int:\n",
    "        dp = [0]*(n+1)\n",
    "        dp[0] = 1\n",
    "        dp[1] = 1\n",
    "        for i in range(2, n+1):\n",
    "            for j in range(1, i+1):\n",
    "                dp[i] += dp[j-1] * dp[i-j]\n",
    "        return dp[n]"
   ]
  },
  {
   "cell_type": "code",
   "execution_count": 36,
   "metadata": {},
   "outputs": [
    {
     "name": "stdout",
     "output_type": "stream",
     "text": [
      "[1, 2, 5, 14, 42]\n"
     ]
    }
   ],
   "source": [
    "res = []\n",
    "for i in range(1, 6):\n",
    "    res.append(Solution().numTrees(i))\n",
    "print(res)"
   ]
  },
  {
   "cell_type": "code",
   "execution_count": 37,
   "metadata": {},
   "outputs": [
    {
     "data": {
      "text/plain": [
       "[1, 2, 5, 14, 42]"
      ]
     },
     "execution_count": 37,
     "metadata": {},
     "output_type": "execute_result"
    }
   ],
   "source": [
    "# i=5\n",
    "# dp[j-1][i-j]\n",
    "\n",
    "# dp[0]*dp[4] j=1\n",
    "# dp[1]*dp[3] j=2\n",
    "# dp[2]*dp[2] j=3\n",
    "# dp[3]*dp[1] j=4\n",
    "# dp[4]*dp[0] j=5"
   ]
  },
  {
   "cell_type": "code",
   "execution_count": null,
   "metadata": {},
   "outputs": [],
   "source": [
    "# 95. 不同的二叉搜索树 II\n",
    "# https://leetcode.cn/problems/unique-binary-search-trees-ii/\n",
    "\n",
    "# Definition for a binary tree node.\n",
    "class TreeNode:\n",
    "    def __init__(self, val=0, left=None, right=None):\n",
    "        self.val = val\n",
    "        self.left = left\n",
    "        self.right = right\n",
    "\n",
    "\n",
    "class Solution:\n",
    "    def generateTrees(self, n: int) -> List[Optional[TreeNode]]:\n",
    "        return self._help(1, n)\n",
    "    \n",
    "    def _help(self, start, end):\n",
    "        if start > end:\n",
    "            return [None]\n",
    "        allTrees = []\n",
    "        for i in range(start, end+1):\n",
    "            leftTrees = self._help(start, i-1)\n",
    "            rightTrees = self._help(i+1, end)\n",
    "            for l in leftTrees:\n",
    "                for r in rightTrees:\n",
    "                    currentTree = TreeNode(i)\n",
    "                    currentTree.left = l\n",
    "                    currentTree.right = r\n",
    "                    allTrees.append(currentTree)\n",
    "        return allTrees"
   ]
  }
 ],
 "metadata": {
  "kernelspec": {
   "display_name": "base",
   "language": "python",
   "name": "python3"
  },
  "language_info": {
   "codemirror_mode": {
    "name": "ipython",
    "version": 3
   },
   "file_extension": ".py",
   "mimetype": "text/x-python",
   "name": "python",
   "nbconvert_exporter": "python",
   "pygments_lexer": "ipython3",
   "version": "3.11.3"
  },
  "orig_nbformat": 4
 },
 "nbformat": 4,
 "nbformat_minor": 2
}
