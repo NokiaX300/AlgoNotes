{
 "cells": [
  {
   "cell_type": "markdown",
   "metadata": {},
   "source": [
    "二叉搜索树（四）\n",
    "\n",
    "https://mp.weixin.qq.com/s/vH2Vv5RCJhoVb0qZ2MO1QA"
   ]
  },
  {
   "cell_type": "code",
   "execution_count": null,
   "metadata": {},
   "outputs": [],
   "source": [
    "# 如果当前节点要做的事情需要通过左右子树的计算结果推导出来，就要用到后序遍历"
   ]
  },
  {
   "cell_type": "markdown",
   "metadata": {},
   "source": [
    "<img src=\"1373.png\" style=\"zoom:50%\" />"
   ]
  },
  {
   "cell_type": "code",
   "execution_count": null,
   "metadata": {},
   "outputs": [],
   "source": [
    "# 1373. 二叉搜索子树的最大键值和\n",
    "# https://leetcode.cn/problems/maximum-sum-bst-in-binary-tree/description/?utm_source=LCUS&utm_medium=ip_redirect&utm_campaign=transfer2china\n",
    "\n",
    "# 前序遍历(超时)\n",
    "# Definition for a binary tree node.\n",
    "from typing import Optional\n",
    "class TreeNode:\n",
    "    def __init__(self, val=0, left=None, right=None):\n",
    "        self.val = val\n",
    "        self.left = left\n",
    "        self.right = right\n",
    "\n",
    "# 站在当前节点的视⻆，需要知道以下具体信息\n",
    "# 1、左右子树是否是 BST。\n",
    "# 2、左子树的最⼤值和右子树的最⼩值。\n",
    "# 3、左右子树的节点值之和。\n",
    "class Solution:\n",
    "    def maxSumBST(self, root: Optional[TreeNode]) -> int:\n",
    "        self.maxSum = 0\n",
    "        self._help(root)\n",
    "        return self.maxSum\n",
    "\n",
    "    def _help(self, root: Optional[TreeNode]) -> int:\n",
    "        if not root:\n",
    "            return\n",
    "        if not self._isBST(root, None, None):\n",
    "            self._help(root.left)\n",
    "            self._help(root.right)\n",
    "            return # 此处 return 终止后续代码运行\n",
    "        \n",
    "        if root.left:\n",
    "            leftMax = self._findMax(root.left)\n",
    "            if root.val <= leftMax.val: # 和上面一行放在一起是为了应对叶子结点\n",
    "                return\n",
    "        else:\n",
    "            leftMax = root\n",
    "\n",
    "        if root.right:\n",
    "            rightMax = self._findMin(root.right)\n",
    "            if root.val >= rightMax.val:\n",
    "                return\n",
    "        else:\n",
    "            rightMax = root\n",
    "\n",
    "        leftSum = self._findSum(root.left)\n",
    "        rightSum = self._findSum(root.right)\n",
    "        rootSum = leftSum + rightSum + root.val\n",
    "        self.maxSum = max(self.maxSum, rootSum)\n",
    "        \n",
    "        self._help(root.left)\n",
    "        self._help(root.right)\n",
    "\n",
    "    def _findMax(self, root: Optional[TreeNode]) -> Optional[TreeNode]:\n",
    "        while root.right:\n",
    "            root = root.right\n",
    "        return root\n",
    "\n",
    "    def _findMin(self, root: Optional[TreeNode]) -> Optional[TreeNode]:\n",
    "        while root.left:\n",
    "            root = root.left\n",
    "        return root\n",
    "\n",
    "    def _isBST(self, root: Optional[TreeNode], minNode: Optional[TreeNode], maxNode: Optional[TreeNode]) -> bool:\n",
    "        if not root:\n",
    "            return True\n",
    "        if minNode and root.val <= minNode.val:\n",
    "            return False\n",
    "        if maxNode and root.val >= maxNode.val:\n",
    "            return False\n",
    "        return self._isBST(root.left, minNode, root) and self._isBST(root.right, root, maxNode)\n",
    "\n",
    "    def _findSum(self, root: Optional[TreeNode]) -> int:\n",
    "        if not root:\n",
    "            return 0\n",
    "        left = self._findSum(root.left)\n",
    "        right = self._findSum(root.right)\n",
    "        s = left + right + root.val\n",
    "        return s"
   ]
  },
  {
   "cell_type": "code",
   "execution_count": 1,
   "metadata": {},
   "outputs": [
    {
     "data": {
      "text/plain": [
       "True"
      ]
     },
     "execution_count": 1,
     "metadata": {},
     "output_type": "execute_result"
    }
   ],
   "source": [
    "from typing import Optional\n",
    "class TreeNode:\n",
    "    def __init__(self, val=0, left=None, right=None):\n",
    "        self.val = val\n",
    "        self.left = left\n",
    "        self.right = right\n",
    "\n",
    "def _isBST(root: Optional[TreeNode], minNode: Optional[TreeNode], maxNode: Optional[TreeNode]) -> bool:\n",
    "    if not root:\n",
    "        return True\n",
    "    if minNode and root.val <= minNode.val:\n",
    "        return False\n",
    "    if maxNode and root.val >= maxNode.val:\n",
    "        return False\n",
    "    return _isBST(root.left, minNode, root) and _isBST(root.right, root, maxNode)\n",
    "\n",
    "_isBST(TreeNode(2), None, None)"
   ]
  },
  {
   "cell_type": "code",
   "execution_count": null,
   "metadata": {},
   "outputs": [],
   "source": [
    "# 1373. 二叉搜索子树的最大键值和\n",
    "# https://leetcode.cn/problems/maximum-sum-bst-in-binary-tree/description/?utm_source=LCUS&utm_medium=ip_redirect&utm_campaign=transfer2china\n",
    "\n",
    "# 后序遍历\n",
    "# Definition for a binary tree node.\n",
    "from typing import Optional\n",
    "class TreeNode:\n",
    "    def __init__(self, val=0, left=None, right=None):\n",
    "        self.val = val\n",
    "        self.left = left\n",
    "        self.right = right\n",
    "        \n",
    "# traverse(root)返回一个大小为 4 的 int 数组，我们暂且称它为res，其中：\n",
    "# res[0]记录以root为根的二叉树是否是 BST，若为 1 则说明是 BST，若为 0 则说明不是 BST；\n",
    "# res[1]记录以root为根的二叉树所有节点中的最小值；\n",
    "# res[2]记录以root为根的二叉树所有节点中的最大值；\n",
    "# res[3]记录以root为根的二叉树所有节点值之和。\n",
    "\n",
    "class Solution:\n",
    "    def maxSumBST(self, root: Optional[TreeNode]) -> int:\n",
    "        self.maxSum = 0\n",
    "        self._help(root)\n",
    "        return self.maxSum\n",
    "\n",
    "    def _help(self, root: Optional[TreeNode]):\n",
    "        if not root:\n",
    "            return [1, float('inf'), -float('inf'), 0]\n",
    "        left = self._help(root.left)\n",
    "        right = self._help(root.right)\n",
    "        res = [0]*4\n",
    "        if left[0] == right[0] == 1 and left[2] < root.val < right[1]:\n",
    "            res[0] = 1\n",
    "            res[1] = min(left[1], root.val)\n",
    "            res[2] = max(right[2], root.val)\n",
    "            res[3] = left[3] + right[3] + root.val\n",
    "            self.maxSum = max(self.maxSum, res[3])\n",
    "        else:\n",
    "            res[0] = 0\n",
    "        return res"
   ]
  },
  {
   "cell_type": "code",
   "execution_count": 2,
   "metadata": {},
   "outputs": [
    {
     "name": "stdout",
     "output_type": "stream",
     "text": [
      "1\n"
     ]
    }
   ],
   "source": [
    "a = b = 1\n",
    "if a == b == 1:\n",
    "    print('1')"
   ]
  }
 ],
 "metadata": {
  "kernelspec": {
   "display_name": "base",
   "language": "python",
   "name": "python3"
  },
  "language_info": {
   "codemirror_mode": {
    "name": "ipython",
    "version": 3
   },
   "file_extension": ".py",
   "mimetype": "text/x-python",
   "name": "python",
   "nbconvert_exporter": "python",
   "pygments_lexer": "ipython3",
   "version": "3.11.3"
  },
  "orig_nbformat": 4
 },
 "nbformat": 4,
 "nbformat_minor": 2
}
