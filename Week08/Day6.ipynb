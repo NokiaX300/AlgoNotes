{
 "cells": [
  {
   "cell_type": "markdown",
   "metadata": {},
   "source": [
    "二叉搜索树（四）\n",
    "\n",
    "https://mp.weixin.qq.com/s/vH2Vv5RCJhoVb0qZ2MO1QA"
   ]
  },
  {
   "cell_type": "code",
   "execution_count": null,
   "metadata": {},
   "outputs": [],
   "source": [
    "# 1373. 二叉搜索子树的最大键值和\n",
    "# https://leetcode.cn/problems/maximum-sum-bst-in-binary-tree/description/?utm_source=LCUS&utm_medium=ip_redirect&utm_campaign=transfer2china\n",
    "\n",
    "# Definition for a binary tree node.\n",
    "from typing import Optional\n",
    "class TreeNode:\n",
    "    def __init__(self, val=0, left=None, right=None):\n",
    "        self.val = val\n",
    "        self.left = left\n",
    "        self.right = right\n",
    "\n",
    "# 站在当前节点的视⻆，需要知道以下具体信息\n",
    "# 1、左右⼦树是否是 BST。\n",
    "# 2、左⼦树的最⼤值和右⼦树的最⼩值。\n",
    "# 3、左右⼦树的节点值之和。\n",
    "class Solution:\n",
    "    def maxSumBST(self, root: Optional[TreeNode]) -> int:\n",
    "        self.maxSum = 0\n",
    "        self._help(root)\n",
    "        return self.maxSum\n",
    "\n",
    "    def _help(self, root: Optional[TreeNode]) -> int:\n",
    "        if not root:\n",
    "            return\n",
    "        if not self._isBST(root.left) or not self._isBST(root.right):\n",
    "            pass\n",
    "        leftMax = self._findMax(root.left)\n",
    "        rightMax = self._findMin(root.right)\n",
    "        if root.val <= leftMax or root.val >= rightMax:\n",
    "            pass\n",
    "\n",
    "        leftSum = self._findSum(root.left)\n",
    "        rightSum = self._findSum(root.right)\n",
    "        rootSum = leftSum + rightSum + root.val\n",
    "        self.maxSum = max(self.maxSum, rootSum)\n",
    "        \n",
    "        self._help(root.left)\n",
    "        self._help(root.right)\n",
    "\n",
    "    def _findMax(self, root: Optional[TreeNode]) -> Optional[TreeNode]:\n",
    "        pass\n",
    "\n",
    "    def _findMin(self, root: Optional[TreeNode]) -> Optional[TreeNode]:\n",
    "        pass\n",
    "\n",
    "    def _isBST(self, root: Optional[TreeNode]) -> bool:\n",
    "        pass\n",
    "\n",
    "    def _findSum(self, root: Optional[TreeNode]) -> int:\n",
    "        pass"
   ]
  }
 ],
 "metadata": {
  "kernelspec": {
   "display_name": "base",
   "language": "python",
   "name": "python3"
  },
  "language_info": {
   "name": "python",
   "version": "3.11.3"
  },
  "orig_nbformat": 4
 },
 "nbformat": 4,
 "nbformat_minor": 2
}
