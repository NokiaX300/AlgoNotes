{
 "cells": [
  {
   "cell_type": "markdown",
   "metadata": {},
   "source": [
    "快速排序详解及应⽤\n",
    "\n",
    "https://labuladong.github.io/algo/di-yi-zhan-da78c/shou-ba-sh-66994/kuai-su-pa-39aa2/"
   ]
  },
  {
   "cell_type": "code",
   "execution_count": null,
   "metadata": {},
   "outputs": [],
   "source": [
    "# 快速排序是「不稳定排序」，与之相对的，归并排序 是「稳定排序」\n",
    "# 对于序列中的相同元素，如果排序之后它们的相对位置没有发生改变，则称该排序算法为「稳定排序」，反之则为「不稳定排序」"
   ]
  },
  {
   "cell_type": "code",
   "execution_count": null,
   "metadata": {},
   "outputs": [],
   "source": [
    "# 快速排序的过程是一个构造二叉搜索树的过程\n",
    "# 极端情况下二叉搜索树会退化成一个链表，导致操作效率大幅降低"
   ]
  },
  {
   "cell_type": "code",
   "execution_count": null,
   "metadata": {},
   "outputs": [],
   "source": [
    "# 912. 排序数组\n",
    "# https://leetcode.cn/problems/sort-an-array/description/\n",
    "\n",
    "import random\n",
    "class Solution:\n",
    "    def sortArray(self, nums: List[int]) -> List[int]:\n",
    "        random.shuffle(nums) # 为了避免出现耗时的极端情况，先随机打乱\n",
    "        self._sort(nums, 0, len(nums)-1)\n",
    "        return nums\n",
    "    \n",
    "    def _sort(self, nums, lo, hi):\n",
    "        if lo == hi:\n",
    "            return\n",
    "        i = lo\n",
    "        j = hi\n",
    "        while i <= j:\n",
    "            while nums[i] < nums[lo]:\n",
    "                i += 1 # 此 while 结束时恰好 nums[i] >= nums[p]\n",
    "            while nums[j] > nums[lo]:\n",
    "                j -= 1 # 此 while 结束时恰好 nums[j] <= nums[p]\n",
    "            if i <= j:\n",
    "                nums[i], nums[j] = nums[j], nums[i]\n",
    "                i += 1\n",
    "                j -= 1\n",
    "        if i < hi:\n",
    "            self._sort(nums, i, hi)\n",
    "        if j > lo:\n",
    "            self._sort(nums, lo, j)"
   ]
  }
 ],
 "metadata": {
  "kernelspec": {
   "display_name": "base",
   "language": "python",
   "name": "python3"
  },
  "language_info": {
   "codemirror_mode": {
    "name": "ipython",
    "version": 3
   },
   "file_extension": ".py",
   "mimetype": "text/x-python",
   "name": "python",
   "nbconvert_exporter": "python",
   "pygments_lexer": "ipython3",
   "version": "3.11.3"
  },
  "orig_nbformat": 4
 },
 "nbformat": 4,
 "nbformat_minor": 2
}
