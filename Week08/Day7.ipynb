{
 "cells": [
  {
   "cell_type": "markdown",
   "metadata": {},
   "source": [
    "快速排序详解及应⽤\n",
    "\n",
    "https://labuladong.github.io/algo/di-yi-zhan-da78c/shou-ba-sh-66994/kuai-su-pa-39aa2/"
   ]
  },
  {
   "cell_type": "code",
   "execution_count": null,
   "metadata": {},
   "outputs": [],
   "source": [
    "# 快速排序是「不稳定排序」，与之相对的，归并排序 是「稳定排序」\n",
    "# 对于序列中的相同元素，如果排序之后它们的相对位置没有发生改变，则称该排序算法为「稳定排序」，反之则为「不稳定排序」"
   ]
  },
  {
   "cell_type": "code",
   "execution_count": null,
   "metadata": {},
   "outputs": [],
   "source": [
    "# 快速排序的过程是一个构造二叉搜索树的过程\n",
    "# 极端情况下二叉搜索树会退化成一个链表，导致操作效率大幅降低"
   ]
  },
  {
   "cell_type": "code",
   "execution_count": null,
   "metadata": {},
   "outputs": [],
   "source": [
    "# 912. 排序数组\n",
    "# https://leetcode.cn/problems/sort-an-array/description/\n",
    "\n",
    "import random\n",
    "class Solution:\n",
    "    def sortArray(self, nums: List[int]) -> List[int]:\n",
    "        random.shuffle(nums) # 为了避免出现耗时的极端情况，先随机打乱\n",
    "        self._sort(nums, 0, len(nums)-1)\n",
    "        return nums\n",
    "    \n",
    "    def _sort(self, nums, lo, hi):\n",
    "        if lo == hi:\n",
    "            return\n",
    "        i = lo\n",
    "        j = hi\n",
    "        # 直到i=j+1时跳出循环, 在那之前要将所有小于pivot的挑出来放在一边, 大于pivot的放在一边\n",
    "        while i <= j:\n",
    "            # 将 nums[lo] 设置为 pivot\n",
    "            while nums[i] < nums[lo]:\n",
    "                i += 1 # 此 while 结束时恰好 nums[i] >= nums[p]\n",
    "            while nums[j] > nums[lo]:\n",
    "                j -= 1 # 此 while 结束时恰好 nums[j] <= nums[p]\n",
    "            if i <= j:\n",
    "                nums[i], nums[j] = nums[j], nums[i]\n",
    "                i += 1\n",
    "                j -= 1\n",
    "        if i < hi:\n",
    "            self._sort(nums, i, hi)\n",
    "        if j > lo:\n",
    "            self._sort(nums, lo, j)"
   ]
  },
  {
   "cell_type": "code",
   "execution_count": null,
   "metadata": {},
   "outputs": [],
   "source": [
    "# 215. 数组中的第K个最大元素\n",
    "# https://leetcode.cn/problems/kth-largest-element-in-an-array/description/\n",
    "\n",
    "# 你必须设计并实现时间复杂度为 O(n) 的算法解决此问题\n",
    "import heapq\n",
    "class Solution:\n",
    "    def findKthLargest(self, nums: List[int], k: int) -> int:\n",
    "        pq = []\n",
    "        for ele in nums:\n",
    "            heapq.heappush(pq, ele)\n",
    "            if len(pq) > k:\n",
    "                heapq.heappop(pq)\n",
    "        return pq[0]"
   ]
  },
  {
   "cell_type": "code",
   "execution_count": null,
   "metadata": {},
   "outputs": [],
   "source": [
    "# 215. 数组中的第K个最大元素\n",
    "# https://leetcode.cn/problems/kth-largest-element-in-an-array/description/\n",
    "\n",
    "# 快速选择算法\n",
    "# 牛\n",
    "import random\n",
    "class Solution:\n",
    "    def findKthLargest(self, nums: List[int], k: int) -> int:\n",
    "        self.k = k\n",
    "        random.shuffle(nums)\n",
    "        return self._sort(nums, 0, len(nums)-1)\n",
    "        \n",
    "    def _sort(self, nums, lo, hi):\n",
    "        mid = lo + (hi-lo)//2\n",
    "        if nums[lo] > nums[mid]:\n",
    "            nums[lo], nums[mid] = nums[mid], nums[lo]\n",
    "        if nums[lo] > nums[hi]: # 注意顺序\n",
    "            nums[lo], nums[hi] = nums[hi], nums[lo]\n",
    "        if nums[hi] < nums[mid]:\n",
    "            nums[hi], nums[mid] = nums[mid], nums[hi]\n",
    "        nums[lo], nums[mid] = nums[mid], nums[lo]\n",
    "        i, j = lo, hi\n",
    "        while i < j:\n",
    "            while i<j and nums[j]>=nums[lo]:\n",
    "                j -= 1\n",
    "            while i<j and nums[i]<=nums[lo]:\n",
    "                i += 1\n",
    "            nums[i], nums[j] = nums[j], nums[i]\n",
    "        nums[lo], nums[i] = nums[i], nums[lo]\n",
    "        if i > len(nums)-self.k:\n",
    "            return self._sort(nums, lo, i-1)\n",
    "        if i < len(nums)-self.k:\n",
    "            return self._sort(nums, i+1, hi)\n",
    "        return nums[-self.k]"
   ]
  },
  {
   "cell_type": "code",
   "execution_count": null,
   "metadata": {},
   "outputs": [],
   "source": [
    "# 挖坑填数\n",
    "# 取区间第一个数为基准数\n",
    "# 理解成在数组 a[0] 上挖了个坑\n",
    "# 从右向左找到小于基准的数填坑\n",
    "# 从左向右找到大于基准的数填上次的坑\n",
    "# 直到 i = j"
   ]
  }
 ],
 "metadata": {
  "kernelspec": {
   "display_name": "base",
   "language": "python",
   "name": "python3"
  },
  "language_info": {
   "codemirror_mode": {
    "name": "ipython",
    "version": 3
   },
   "file_extension": ".py",
   "mimetype": "text/x-python",
   "name": "python",
   "nbconvert_exporter": "python",
   "pygments_lexer": "ipython3",
   "version": "3.11.5"
  },
  "orig_nbformat": 4
 },
 "nbformat": 4,
 "nbformat_minor": 2
}
