{
 "cells": [
  {
   "cell_type": "markdown",
   "metadata": {},
   "source": [
    "如何计算完全二叉树的节点数\n",
    "\n",
    "https://labuladong.github.io/algo/di-yi-zhan-da78c/shou-ba-sh-66994/ru-he-ji-s-2320e/"
   ]
  },
  {
   "cell_type": "code",
   "execution_count": null,
   "metadata": {},
   "outputs": [],
   "source": [
    "# 222. 完全二叉树的节点个数\n",
    "# https://leetcode.cn/problems/count-complete-tree-nodes/?utm_source=LCUS&utm_medium=ip_redirect&utm_campaign=transfer2china\n",
    "\n",
    "# 时间复杂度是 O(logN*logN)\n",
    "# Definition for a binary tree node.\n",
    "from typing import Optional\n",
    "class TreeNode:\n",
    "    def __init__(self, val=0, left=None, right=None):\n",
    "        self.val = val\n",
    "        self.left = left\n",
    "        self.right = right\n",
    "\n",
    "\n",
    "class Solution: # 这两个递归只有一个会真的递归下去，另一个一定会触发 hl == hr 而立即返回，不会递归下去\n",
    "    def countNodes(self, root: Optional[TreeNode]) -> int:\n",
    "        l = root\n",
    "        r = root\n",
    "        hl = 0\n",
    "        hr = 0\n",
    "        while l:\n",
    "            l = l.left\n",
    "            hl += 1\n",
    "        while r:\n",
    "            r = r.right\n",
    "            hr += 1\n",
    "        if hl == hr:\n",
    "            return 2**hl - 1 # 涵盖了 if root == None:return 0 的情况\n",
    "        return self.countNodes(root.left) + self.countNodes(root.right) + 1"
   ]
  },
  {
   "cell_type": "code",
   "execution_count": 2,
   "metadata": {},
   "outputs": [
    {
     "data": {
      "text/plain": [
       "1"
      ]
     },
     "execution_count": 2,
     "metadata": {},
     "output_type": "execute_result"
    }
   ],
   "source": [
    "2**0"
   ]
  }
 ],
 "metadata": {
  "kernelspec": {
   "display_name": "base",
   "language": "python",
   "name": "python3"
  },
  "language_info": {
   "codemirror_mode": {
    "name": "ipython",
    "version": 3
   },
   "file_extension": ".py",
   "mimetype": "text/x-python",
   "name": "python",
   "nbconvert_exporter": "python",
   "pygments_lexer": "ipython3",
   "version": "3.11.3"
  },
  "orig_nbformat": 4
 },
 "nbformat": 4,
 "nbformat_minor": 2
}
