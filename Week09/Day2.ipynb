{
 "cells": [
  {
   "cell_type": "markdown",
   "metadata": {},
   "source": [
    "图论基础\n",
    "\n",
    "https://labuladong.github.io/algo/di-yi-zhan-da78c/shou-ba-sh-03a72/tu-lun-ji--d55b2/"
   ]
  },
  {
   "cell_type": "markdown",
   "metadata": {},
   "source": [
    "<img src=\"matrix.png\" style=\"zoom:50%\" />"
   ]
  },
  {
   "cell_type": "code",
   "execution_count": null,
   "metadata": {},
   "outputs": [],
   "source": [
    "from typing import List\n",
    "\n",
    "# graph[x] 存储 x 的所有邻居节点\n",
    "graph: List[List[int]]\n",
    "\n",
    "# 邻接矩阵\n",
    "# matrix[x][y] 记录 x 是否有一条指向 y 的边\n",
    "matrix: List[List[bool]]"
   ]
  },
  {
   "cell_type": "code",
   "execution_count": null,
   "metadata": {},
   "outputs": [],
   "source": [
    "# 多叉树的遍历\n",
    "def traverse(root):\n",
    "    if not root:\n",
    "        return\n",
    "    for child in root.children:\n",
    "        traverse(child)"
   ]
  },
  {
   "cell_type": "code",
   "execution_count": null,
   "metadata": {},
   "outputs": [],
   "source": [
    "# 图和多叉树最大的区别是，图是可能包含环的"
   ]
  },
  {
   "cell_type": "code",
   "execution_count": null,
   "metadata": {},
   "outputs": [],
   "source": [
    "# 图的遍历\n",
    "visited = []\n",
    "onPath = []\n",
    "def traverse(graph: List[List[int, int]], s):\n",
    "    if visited[s]: # 如果图中不含环，可以把 visited 数组省掉，基本就是多叉树的遍历\n",
    "        return\n",
    "    visited[s] = True\n",
    "    onPath[s] = True\n",
    "\n",
    "    for neighbor in graph.neighbors(s):\n",
    "        traverse(graph, neighbor)\n",
    "    \n",
    "    onPath[s] = False"
   ]
  },
  {
   "cell_type": "code",
   "execution_count": null,
   "metadata": {},
   "outputs": [],
   "source": [
    "# 797. 所有可能的路径\n",
    "# https://leetcode.cn/problems/all-paths-from-source-to-target/\n",
    "\n",
    "# 有向无环图（DAG）\n",
    "from typing import List\n",
    "class Solution:\n",
    "    def allPathsSourceTarget(self, graph: List[List[int]]) -> List[List[int]]:\n",
    "        self.res = []\n",
    "        self.traverse(graph, 0, [])\n",
    "        return self.res\n",
    "\n",
    "    def traverse(self, graph: List[List[int]], s: int, path: List[int]):\n",
    "        path.append(s)\n",
    "        if s == len(graph)-1:\n",
    "            self.res.append(path[:]) # 创建路径的副本\n",
    "        for v in graph[s]:\n",
    "            self.traverse(graph, v, path)\n",
    "        path.pop()"
   ]
  },
  {
   "cell_type": "code",
   "execution_count": 3,
   "metadata": {},
   "outputs": [
    {
     "data": {
      "text/plain": [
       "[[], []]"
      ]
     },
     "execution_count": 3,
     "metadata": {},
     "output_type": "execute_result"
    }
   ],
   "source": [
    "from typing import List\n",
    "class Solution:\n",
    "    def allPathsSourceTarget(self, graph: List[List[int]]) -> List[List[int]]:\n",
    "        self.res = []\n",
    "        self.traverse(graph, 0, [])\n",
    "        return self.res\n",
    "\n",
    "    def traverse(self, graph: List[List[int]], s: int, path: List[int]):\n",
    "        path.append(s)\n",
    "        if s == len(graph)-1:\n",
    "            self.res.append(path)\n",
    "        for v in graph[s]:\n",
    "            self.traverse(graph, v, path)\n",
    "        path.pop()\n",
    "Solution().allPathsSourceTarget([[1,2],[3],[3],[]])"
   ]
  },
  {
   "cell_type": "code",
   "execution_count": 7,
   "metadata": {},
   "outputs": [
    {
     "name": "stdout",
     "output_type": "stream",
     "text": [
      "[[1]]\n",
      "[[]]\n"
     ]
    }
   ],
   "source": [
    "s = []\n",
    "a = [1]\n",
    "s.append(a)\n",
    "print(s)\n",
    "\n",
    "a.pop()\n",
    "print(s)"
   ]
  }
 ],
 "metadata": {
  "kernelspec": {
   "display_name": "base",
   "language": "python",
   "name": "python3"
  },
  "language_info": {
   "codemirror_mode": {
    "name": "ipython",
    "version": 3
   },
   "file_extension": ".py",
   "mimetype": "text/x-python",
   "name": "python",
   "nbconvert_exporter": "python",
   "pygments_lexer": "ipython3",
   "version": "3.11.5"
  },
  "orig_nbformat": 4
 },
 "nbformat": 4,
 "nbformat_minor": 2
}
