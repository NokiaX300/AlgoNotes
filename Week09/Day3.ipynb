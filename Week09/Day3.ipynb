{
 "cells": [
  {
   "cell_type": "markdown",
   "metadata": {},
   "source": [
    "环检测及拓扑排序算法\n",
    "\n",
    "https://labuladong.github.io/algo/di-yi-zhan-da78c/shou-ba-sh-03a72/huan-jian--e36de/"
   ]
  },
  {
   "cell_type": "code",
   "execution_count": null,
   "metadata": {},
   "outputs": [],
   "source": [
    "# 207. 课程表\n",
    "# https://leetcode.cn/problems/course-schedule/description/\n",
    "\n",
    "# BFS\n",
    "from collections import defaultdict\n",
    "class Solution:\n",
    "    def canFinish(self, numCourses: int, prerequisites: List[List[int]]) -> bool:\n",
    "        pre = defaultdict(list)\n",
    "        post = defaultdict(list)\n",
    "        for i, j in prerequisites:\n",
    "            pre[i].append(j)\n",
    "            post[j].append(i)\n",
    "        indegree = [len(pre[i]) for i in range(numCourses)]\n",
    "        unlearn = [i for i in range(numCourses) if indegree[i] == 0]\n",
    "        learned = []\n",
    "        while unlearn:\n",
    "            ele = unlearn.pop()\n",
    "            learned.append(ele)\n",
    "            for po in post[ele]:\n",
    "                indegree[po] -= 1\n",
    "                if indegree[po] == 0:\n",
    "                    unlearn.append(po)\n",
    "        return len(learned) == numCourses"
   ]
  },
  {
   "cell_type": "code",
   "execution_count": null,
   "metadata": {},
   "outputs": [],
   "source": [
    "# 如果发现有向图中存在环，那就说明课程之间存在循环依赖，肯定没办法全部上完"
   ]
  },
  {
   "cell_type": "code",
   "execution_count": null,
   "metadata": {},
   "outputs": [],
   "source": [
    "# 207. 课程表\n",
    "# https://leetcode.cn/problems/course-schedule/description/\n",
    "\n",
    "# DFS\n",
    "from typing import List\n",
    "class Solution:\n",
    "    def __init__(self):\n",
    "        self.visited = []\n",
    "        self.onPath = []\n",
    "        self.noCycle = True\n",
    "\n",
    "    def buildGraph(self, numCourses: int, prerequisites: List[List[int]]) -> List[List[int]]:\n",
    "        graph = [[] for _ in range(numCourses)]\n",
    "        for pre in prerequisites:\n",
    "            graph[pre[1]].append(pre[0])\n",
    "        return graph\n",
    "\n",
    "    def canFinish(self, numCourses: int, prerequisites: List[List[int]]) -> bool:\n",
    "        graph = self.buildGraph(numCourses, prerequisites)\n",
    "        self.visited = [False]*numCourses\n",
    "        self.onPath = [False]*numCourses\n",
    "        for i in range(numCourses): # 注意图中并不是所有节点都相连，所以要将所有节点都作为起点调用一次 DFS 搜索算法\n",
    "            self.traverse(graph, i)\n",
    "        return self.noCycle\n",
    "\n",
    "    def traverse(self, graph: List[List[int]], s: int) -> None:\n",
    "        if self.onPath[s]:\n",
    "            self.noCycle = False\n",
    "        if self.visited[s]:\n",
    "            return\n",
    "        self.visited[s] = True\n",
    "        self.onPath[s] = True\n",
    "        for t in graph[s]:\n",
    "            self.traverse(graph, t)\n",
    "        self.onPath[s] = False"
   ]
  },
  {
   "cell_type": "code",
   "execution_count": null,
   "metadata": {},
   "outputs": [],
   "source": [
    "# 210. 课程表 II\n",
    "# https://leetcode.cn/problems/course-schedule-ii/\n",
    "\n",
    "# BFS\n",
    "from collections import defaultdict\n",
    "class Solution:\n",
    "    def findOrder(self, numCourses: int, prerequisites: List[List[int]]) -> List[int]:\n",
    "        pre= defaultdict(list)\n",
    "        post = defaultdict(list)\n",
    "        for i, j in prerequisites:\n",
    "            pre[i].append(j)\n",
    "            post[j].append(i)\n",
    "        indegree = [len(pre[i]) for i in range(numCourses)]\n",
    "        unlearn = [i for i in range(numCourses) if indegree[i] == 0]\n",
    "        learned = []\n",
    "        while unlearn:\n",
    "            ele = unlearn.pop()\n",
    "            learned.append(ele)\n",
    "            for po in post[ele]:\n",
    "                indegree[po] -= 1\n",
    "                if indegree[po] == 0:\n",
    "                    unlearn.append(po)\n",
    "        return learned if len(learned) == numCourses else []"
   ]
  },
  {
   "cell_type": "code",
   "execution_count": null,
   "metadata": {},
   "outputs": [],
   "source": [
    "# 把一幅图「拉平」，而且这个「拉平」的图里面，所有箭头方向都是一致的\n",
    "# 如果一幅有向图中存在环，是无法进行拓扑排序的"
   ]
  },
  {
   "cell_type": "markdown",
   "metadata": {},
   "source": [
    "<img src=\"210.png\" style=\"zoom:50%\" />"
   ]
  },
  {
   "cell_type": "code",
   "execution_count": null,
   "metadata": {},
   "outputs": [],
   "source": [
    "# 210. 课程表 II\n",
    "# https://leetcode.cn/problems/course-schedule-ii/\n",
    "\n",
    "# 之所以拓扑排序的基础是后序遍历，是因为一个任务必须等到它依赖的所有任务都完成之后才能开始开始执行\n",
    "class Solution:\n",
    "    def __init__(self) -> None:\n",
    "        self.visited = []\n",
    "        self.onPath = []\n",
    "        self.noCycle = True\n",
    "        self.postorder = []\n",
    "\n",
    "    def buildGraph(self, numCourses: int, prerequisites: List[List[int]]) -> List[List[int]]:\n",
    "        graph = [[] for _ in range(numCourses)]\n",
    "        for pre in prerequisites:\n",
    "            graph[pre[1]].append(pre[0])\n",
    "        return graph\n",
    "\n",
    "    def findOrder(self, numCourses: int, prerequisites: List[List[int]]) -> List[int]:\n",
    "        graph = self.buildGraph(numCourses, prerequisites)\n",
    "        self.visited = [False]*numCourses\n",
    "        self.onPath = [False]*numCourses\n",
    "        for i in range(numCourses):\n",
    "            self.traverse(graph, i)\n",
    "        if not self.noCycle:\n",
    "            return []\n",
    "        self.postorder.reverse()\n",
    "        return self.postorder\n",
    "\n",
    "    def traverse(self, graph: List[List[int]], s: int) -> None:\n",
    "        if self.onPath[s]:\n",
    "            self.noCycle = False\n",
    "        if self.visited[s]:\n",
    "            return\n",
    "        self.visited[s] = True\n",
    "        self.onPath[s] = True\n",
    "        for t in graph[s]:\n",
    "            self.traverse(graph, t)\n",
    "        self.postorder.append(s)\n",
    "        self.onPath[s] = False"
   ]
  }
 ],
 "metadata": {
  "kernelspec": {
   "display_name": "base",
   "language": "python",
   "name": "python3"
  },
  "language_info": {
   "codemirror_mode": {
    "name": "ipython",
    "version": 3
   },
   "file_extension": ".py",
   "mimetype": "text/x-python",
   "name": "python",
   "nbconvert_exporter": "python",
   "pygments_lexer": "ipython3",
   "version": "3.11.5"
  },
  "orig_nbformat": 4
 },
 "nbformat": 4,
 "nbformat_minor": 2
}
