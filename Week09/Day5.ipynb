{
 "cells": [
  {
   "cell_type": "markdown",
   "metadata": {},
   "source": [
    "并查集（Union-Find）算法\n",
    "\n",
    "https://labuladong.github.io/algo/di-yi-zhan-da78c/shou-ba-sh-03a72/bing-cha-j-323f3/"
   ]
  },
  {
   "cell_type": "markdown",
   "metadata": {},
   "source": [
    "<img src=\"union.png\" style=\"zoom:50%\" />"
   ]
  },
  {
   "cell_type": "code",
   "execution_count": null,
   "metadata": {},
   "outputs": [],
   "source": [
    "class UF:\n",
    "    # 记录连通分量\n",
    "    def __init__(self, n: int):\n",
    "        # 一开始互不连通\n",
    "        self.count = n\n",
    "        # 父节点指针初始指向自己\n",
    "        self.parent = [i for i in range(n)]\n",
    "\n",
    "    def union(self, p: int, q: int) -> None:\n",
    "        rootP = self.find(p)\n",
    "        rootQ = self.find(q)\n",
    "        if rootP == rootQ:\n",
    "            return\n",
    "        self.parent[rootP] = rootQ\n",
    "        self.count -= 1\n",
    "\n",
    "    \"\"\" 返回某个节点 x 的根节点 \"\"\"\n",
    "    def find(self, x: int) -> int:\n",
    "        while self.parent[x] != x:\n",
    "            x = self.parent[x]\n",
    "        return x\n",
    "    \n",
    "    \"\"\" 返回当前的连通分量个数 \"\"\"\n",
    "    def count(self) -> int:\n",
    "        return self.count\n",
    "    \n",
    "    def connected(self, p: int, q: int) -> bool:\n",
    "        return self.find(p) == self.find(q)"
   ]
  },
  {
   "cell_type": "markdown",
   "metadata": {},
   "source": [
    "<img src=\"size.png\" style=\"zoom:50%\" />"
   ]
  },
  {
   "cell_type": "code",
   "execution_count": null,
   "metadata": {},
   "outputs": [],
   "source": [
    "class UF: # 此时，find , union , connected 的时间复杂度都下降为 O(logN)\n",
    "    def __init__(self, n: int):\n",
    "        self.count = n\n",
    "        self.parent = [i for i in range(n)]\n",
    "        # 新增一个数组记录树的“重量”\n",
    "        self.size = [1]*n\n",
    "\n",
    "    def union(self, p: int, q: int) -> None:\n",
    "        rootP = self.find(p)\n",
    "        rootQ = self.find(q)\n",
    "        if rootP == rootQ:\n",
    "            return\n",
    "        if self.size[rootP] > self.size[rootQ]:\n",
    "            self.parent[rootQ] = rootP\n",
    "            self.size[rootP] += self.size[rootQ]\n",
    "        else:\n",
    "            self.parent[rootP] = rootQ\n",
    "            self.size[rootQ] += self.size[rootP]\n",
    "        self.count -= 1"
   ]
  },
  {
   "cell_type": "markdown",
   "metadata": {},
   "source": [
    "<img src=\"zip(2).png\" style=\"zoom:50%\" />"
   ]
  },
  {
   "cell_type": "code",
   "execution_count": null,
   "metadata": {},
   "outputs": [],
   "source": [
    "# 未完全压扁\n",
    "def find(self, x: int) -> int:\n",
    "    while self.parent[x] != x:\n",
    "        self.parent[x] = self.parent[self.parent[x]]\n",
    "        x = self.parent[x]\n",
    "    return x"
   ]
  },
  {
   "cell_type": "code",
   "execution_count": null,
   "metadata": {},
   "outputs": [],
   "source": [
    "# 完全压扁\n",
    "def find(self, x: int) -> int:"
   ]
  },
  {
   "cell_type": "code",
   "execution_count": null,
   "metadata": {},
   "outputs": [],
   "source": [
    "# 完全压扁\n",
    "def find(self, x: int) -> int:\n",
    "    if self.parent[x] != x:\n",
    "        self.parent[x] = self.find(self.parent[x])\n",
    "    return self.parent[x]"
   ]
  }
 ],
 "metadata": {
  "kernelspec": {
   "display_name": "base",
   "language": "python",
   "name": "python3"
  },
  "language_info": {
   "codemirror_mode": {
    "name": "ipython",
    "version": 3
   },
   "file_extension": ".py",
   "mimetype": "text/x-python",
   "name": "python",
   "nbconvert_exporter": "python",
   "pygments_lexer": "ipython3",
   "version": "3.11.3"
  },
  "orig_nbformat": 4
 },
 "nbformat": 4,
 "nbformat_minor": 2
}
