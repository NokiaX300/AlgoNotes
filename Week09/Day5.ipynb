{
 "cells": [
  {
   "cell_type": "markdown",
   "metadata": {},
   "source": [
    "并查集（Union-Find）算法\n",
    "\n",
    "https://labuladong.github.io/algo/di-yi-zhan-da78c/shou-ba-sh-03a72/bing-cha-j-323f3/"
   ]
  },
  {
   "cell_type": "code",
   "execution_count": null,
   "metadata": {},
   "outputs": [],
   "source": [
    "class UF:\n",
    "    # 记录连通分量\n",
    "    def __init__(self, n: int):\n",
    "        # 一开始互不连通\n",
    "        self.count = n\n",
    "        # 父节点指针初始指向自己\n",
    "        self.parent = [i for i in range(n)]\n",
    "\n",
    "    def union(self, p: int, q: int) -> None:\n",
    "        rootP = self.find(p)\n",
    "        rootQ = self.find(q)\n",
    "        if rootP == rootQ:\n",
    "            return\n",
    "        self.parent[rootP] = rootQ\n",
    "        self.count -= 1\n",
    "\n",
    "    \"\"\" 返回某个节点 x 的根节点 \"\"\"\n",
    "    def find(self, x: int) -> int:\n",
    "        while self.parent[x] != x:\n",
    "            x = self.parent[x]\n",
    "        return x\n",
    "    \n",
    "    \"\"\" 返回当前的连通分量个数 \"\"\"\n",
    "    def count(self) -> int:\n",
    "        return self.count\n",
    "    \n",
    "    def connected(self, p: int, q: int) -> bool:\n",
    "        return self.find(p) == self.find(q)"
   ]
  },
  {
   "cell_type": "markdown",
   "metadata": {},
   "source": [
    "<img src=\"union.png\" style=\"zoom:50%\" />"
   ]
  }
 ],
 "metadata": {
  "kernelspec": {
   "display_name": "base",
   "language": "python",
   "name": "python3"
  },
  "language_info": {
   "codemirror_mode": {
    "name": "ipython",
    "version": 3
   },
   "file_extension": ".py",
   "mimetype": "text/x-python",
   "name": "python",
   "nbconvert_exporter": "python",
   "pygments_lexer": "ipython3",
   "version": "3.11.3"
  },
  "orig_nbformat": 4
 },
 "nbformat": 4,
 "nbformat_minor": 2
}
