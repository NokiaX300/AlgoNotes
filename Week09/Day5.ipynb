{
 "cells": [
  {
   "cell_type": "markdown",
   "metadata": {},
   "source": [
    "并查集（Union-Find）算法\n",
    "\n",
    "https://labuladong.github.io/algo/di-yi-zhan-da78c/shou-ba-sh-03a72/bing-cha-j-323f3/"
   ]
  },
  {
   "cell_type": "markdown",
   "metadata": {},
   "source": [
    "<img src=\"union.png\" style=\"zoom:50%\" />"
   ]
  },
  {
   "cell_type": "code",
   "execution_count": null,
   "metadata": {},
   "outputs": [],
   "source": [
    "class UF:\n",
    "    # 记录连通分量\n",
    "    def __init__(self, n: int):\n",
    "        # 一开始互不连通\n",
    "        self.count = n\n",
    "        # 父节点指针初始指向自己\n",
    "        self.parent = [i for i in range(n)]\n",
    "\n",
    "    def union(self, p: int, q: int) -> None:\n",
    "        rootP = self.find(p)\n",
    "        rootQ = self.find(q)\n",
    "        if rootP == rootQ:\n",
    "            return\n",
    "        self.parent[rootP] = rootQ\n",
    "        self.count -= 1\n",
    "\n",
    "    \"\"\" 返回某个节点 x 的根节点 \"\"\"\n",
    "    def find(self, x: int) -> int:\n",
    "        while self.parent[x] != x:\n",
    "            x = self.parent[x]\n",
    "        return x\n",
    "    \n",
    "    \"\"\" 返回当前的连通分量个数 \"\"\"\n",
    "    def count(self) -> int:\n",
    "        return self.count\n",
    "    \n",
    "    def connected(self, p: int, q: int) -> bool:\n",
    "        return self.find(p) == self.find(q)"
   ]
  },
  {
   "cell_type": "markdown",
   "metadata": {},
   "source": [
    "<img src=\"size.png\" style=\"zoom:50%\" />"
   ]
  },
  {
   "cell_type": "code",
   "execution_count": null,
   "metadata": {},
   "outputs": [],
   "source": [
    "class UF: # 此时，find , union , connected 的时间复杂度都下降为 O(logN)\n",
    "    def __init__(self, n: int):\n",
    "        self.count = n\n",
    "        self.parent = [i for i in range(n)]\n",
    "        # 新增一个数组记录树的“重量”\n",
    "        self.size = [1]*n\n",
    "\n",
    "    def union(self, p: int, q: int) -> None:\n",
    "        rootP = self.find(p)\n",
    "        rootQ = self.find(q)\n",
    "        if rootP == rootQ:\n",
    "            return\n",
    "        if self.size[rootP] > self.size[rootQ]:\n",
    "            self.parent[rootQ] = rootP\n",
    "            self.size[rootP] += self.size[rootQ]\n",
    "        else:\n",
    "            self.parent[rootP] = rootQ\n",
    "            self.size[rootQ] += self.size[rootP]\n",
    "        self.count -= 1"
   ]
  },
  {
   "cell_type": "markdown",
   "metadata": {},
   "source": [
    "<img src=\"zip(2).png\" style=\"zoom:50%\" />"
   ]
  },
  {
   "cell_type": "code",
   "execution_count": null,
   "metadata": {},
   "outputs": [],
   "source": [
    "# 未完全压扁\n",
    "def find(self, x: int) -> int:\n",
    "    while self.parent[x] != x:\n",
    "        self.parent[x] = self.parent[self.parent[x]]\n",
    "        x = self.parent[x]\n",
    "    return x"
   ]
  },
  {
   "cell_type": "markdown",
   "metadata": {},
   "source": [
    "<img src=\"zip.png\" style=\"zoom:50%\" />"
   ]
  },
  {
   "cell_type": "code",
   "execution_count": null,
   "metadata": {},
   "outputs": [],
   "source": [
    "# 完全压扁\n",
    "def find(self, x: int) -> int:\n",
    "    root = x\n",
    "    while self.parent[root] != root:\n",
    "        root = self.parent[root]\n",
    "    oldParent = self.parent[x]\n",
    "    while x != root:\n",
    "        self.parent[x] = root\n",
    "        x = oldParent\n",
    "        oldParent = self.parent[oldParent]\n",
    "    return root"
   ]
  },
  {
   "cell_type": "code",
   "execution_count": null,
   "metadata": {},
   "outputs": [],
   "source": [
    "# 完全压扁\n",
    "def find(self, x: int) -> int:\n",
    "    if self.parent[x] != x:\n",
    "        self.parent[x] = self.find(self.parent[x])\n",
    "    return self.parent[x]"
   ]
  },
  {
   "cell_type": "code",
   "execution_count": null,
   "metadata": {},
   "outputs": [],
   "source": [
    "# 如果使用路径压缩技巧，那么 size 数组的平衡优化就不是特别必要了\n",
    "class UnionFind:\n",
    "    def __init__(self, n) -> None:\n",
    "        self.count = n\n",
    "        self.parent = [i for i in range(n)]\n",
    "\n",
    "    def union(self, p: int, q: int):\n",
    "        rootP = self.find(p)\n",
    "        rootQ = self.find(q)\n",
    "        if rootP == rootQ:\n",
    "            return\n",
    "        self.parent[rootP] = rootQ\n",
    "        self.count -= 1\n",
    "\n",
    "    def find(self, x: int) -> int:\n",
    "        if self.parent[x] != x:\n",
    "            self.parent[x] = self.find(self.parent[x])\n",
    "        return self.parent[x]\n",
    "\n",
    "    def connected(self, p: int, q: int) -> bool:\n",
    "        rootP = self.find(p)\n",
    "        rootQ = self.find(q)\n",
    "        return rootP == rootQ\n",
    "    \n",
    "    def count(self) -> int:\n",
    "        return self.count"
   ]
  },
  {
   "cell_type": "code",
   "execution_count": 18,
   "metadata": {},
   "outputs": [
    {
     "data": {
      "text/plain": [
       "2"
      ]
     },
     "execution_count": 18,
     "metadata": {},
     "output_type": "execute_result"
    }
   ],
   "source": [
    "# 323. 无向图中连通分量的数目\n",
    "# https://leetcode.cn/problems/number-of-connected-components-in-an-undirected-graph/\n",
    "\n",
    "from typing import List\n",
    "class Solution:\n",
    "    def countComponents(self, n: int, edges: List[List[int]]) -> int:\n",
    "        '''for e in edges: # 每次循环迭代时，都重新创建了 UF(n) 的实例\n",
    "            UF(n).union(e[0], e[1])\n",
    "        return UF(n).count'''\n",
    "        uf = UF(n)\n",
    "        for e in edges:\n",
    "            uf.union(e[0], e[1])\n",
    "        return uf.count\n",
    "\n",
    "\n",
    "class UF:\n",
    "    def __init__(self, n) -> None:\n",
    "        self.parent = [i for i in range(n)]\n",
    "        self.count = n\n",
    "\n",
    "    def union(self, p, q):\n",
    "        rootP = self.find(p)\n",
    "        rootQ = self.find(q)\n",
    "        if rootP == rootQ:\n",
    "            return\n",
    "        self.parent[rootP] = rootQ\n",
    "        self.count -= 1\n",
    "\n",
    "    def find(self, p):\n",
    "        if self.parent[p] != p:\n",
    "            self.parent[p] = self.find(self.parent[p])\n",
    "        return self.parent[p]\n",
    "    \n",
    "Solution().countComponents(6, edges=[[0,1],[0,3],[2,5],[4,5]])"
   ]
  },
  {
   "cell_type": "code",
   "execution_count": 10,
   "metadata": {},
   "outputs": [
    {
     "name": "stdout",
     "output_type": "stream",
     "text": [
      "2\n",
      "2\n",
      "<bound method A.cnt of <__main__.A object at 0x000002AF5548C450>>\n"
     ]
    }
   ],
   "source": [
    "class A:\n",
    "    def __init__(self) -> None:\n",
    "        self.count = 2\n",
    "\n",
    "    def cnt(self):\n",
    "        return self.count\n",
    "    \n",
    "print(A().count)\n",
    "print(A().cnt())\n",
    "print(A().cnt)"
   ]
  },
  {
   "cell_type": "code",
   "execution_count": null,
   "metadata": {},
   "outputs": [],
   "source": [
    "# 130. 被围绕的区域\n",
    "# https://leetcode.cn/problems/surrounded-regions/\n",
    "\n",
    "class Solution:\n",
    "    def solve(self, board: List[List[str]]) -> None:\n",
    "        \"\"\"\n",
    "        Do not return anything, modify board in-place instead.\n",
    "        \"\"\"\n",
    "        self.board = board\n",
    "        self.m = len(self.board)\n",
    "        self.n = len(self.board[0])\n",
    "        for i in range(self.m):\n",
    "            self.DFS(i, 0)\n",
    "            self.DFS(i, self.n-1)\n",
    "        for j in range(self.n):\n",
    "            self.DFS(0, j)\n",
    "            self.DFS(self.m-1, j)\n",
    "        for i in range(self.m):\n",
    "            for j in range(self.n):\n",
    "                if self.board[i][j] == 'O':\n",
    "                    self.board[i][j] = 'X'\n",
    "                elif self.board[i][j] == 'S':\n",
    "                    self.board[i][j] = 'O'\n",
    "\n",
    "    def DFS(self, y, x):\n",
    "        if not 0<=x<self.n or not 0<=y<self.m or self.board[y][x] != 'O':\n",
    "            return\n",
    "        self.board[y][x] = 'S'\n",
    "        self.DFS(y, x+1)\n",
    "        self.DFS(y, x-1)\n",
    "        self.DFS(y+1, x)\n",
    "        self.DFS(y-1, x)"
   ]
  },
  {
   "cell_type": "code",
   "execution_count": null,
   "metadata": {},
   "outputs": [],
   "source": [
    "# 130. 被围绕的区域\n",
    "# https://leetcode.cn/problems/surrounded-regions/\n",
    "\n",
    "class Solution:\n",
    "    def solve(self, board: List[List[str]]) -> None:\n",
    "        pass"
   ]
  }
 ],
 "metadata": {
  "kernelspec": {
   "display_name": "base",
   "language": "python",
   "name": "python3"
  },
  "language_info": {
   "codemirror_mode": {
    "name": "ipython",
    "version": 3
   },
   "file_extension": ".py",
   "mimetype": "text/x-python",
   "name": "python",
   "nbconvert_exporter": "python",
   "pygments_lexer": "ipython3",
   "version": "3.11.3"
  },
  "orig_nbformat": 4
 },
 "nbformat": 4,
 "nbformat_minor": 2
}
