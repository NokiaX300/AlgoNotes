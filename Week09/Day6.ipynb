{
 "cells": [
  {
   "cell_type": "markdown",
   "metadata": {},
   "source": [
    "Kruskal 最⼩⽣成树算法\n",
    "\n",
    "https://labuladong.github.io/algo/di-yi-zhan-da78c/shou-ba-sh-03a72/kruskal-zu-e6b5b/"
   ]
  },
  {
   "cell_type": "code",
   "execution_count": null,
   "metadata": {},
   "outputs": [],
   "source": [
    "# 261. 以图判树\n",
    "# https://leetcode.cn/problems/graph-valid-tree/\n",
    "\n",
    "# 对于添加的这条边，如果该边的两个节点本来就在同一连通分量里，那么添加这条边会产生环\n",
    "# 反之，如果该边的两个节点不在同一连通分量里，则添加这条边不会产生环\n",
    "from typing import List\n",
    "class Solution:\n",
    "    def validTree(n: int, edges: List[List[int]]):\n",
    "        uf = UF(n)\n",
    "        for edge in edges:\n",
    "            if uf.connected(edge[0], edge[1]):\n",
    "                return False\n",
    "            uf.union(edge[0], edge[1])\n",
    "        return uf.count() == 1\n",
    "\n",
    "\n",
    "class UF:\n",
    "    def __init__(self, n) -> None:\n",
    "        self.parent = [i for i in range(n)]\n",
    "        self.cnt = n\n",
    "\n",
    "    def union(self, p, q):\n",
    "        rootP = self.find(p)\n",
    "        rootQ = self.find(q)\n",
    "        if rootP == rootQ:\n",
    "            return\n",
    "        self.parent[rootP] = rootQ\n",
    "        self.cnt -= 1\n",
    "\n",
    "    def find(self, p):\n",
    "        if self.parent[p] != p:\n",
    "            self.parent[p] = self.find(self.parent[p])\n",
    "        return self.parent[p]\n",
    "\n",
    "    def connected(self, p, q):\n",
    "        rootP = self.find(p)\n",
    "        rootQ = self.find(q)\n",
    "        return rootP == rootQ\n",
    "    \n",
    "    def count(self):\n",
    "        return self.cnt"
   ]
  },
  {
   "cell_type": "markdown",
   "metadata": {},
   "source": [
    "<img src=\"Kruskal.png\" style=\"zoom:50%\" />"
   ]
  },
  {
   "cell_type": "code",
   "execution_count": null,
   "metadata": {},
   "outputs": [],
   "source": [
    "# 1135. 最低成本联通所有城市\n",
    "# https://leetcode.cn/problems/connecting-cities-with-minimum-cost/\n",
    "\n",
    "from typing import List\n",
    "class Solution:\n",
    "    def minimumCost(self, n: int, connections: List[List[int]]):\n",
    "        uf = UF(n+1) # 城市编号为 1...n，所以初始化大小为 n + 1\n",
    "        connections.sort(key=lambda x:x[2])\n",
    "        need = 0\n",
    "        for x,y,weight in connections:\n",
    "            if uf.connected(x,y):\n",
    "                continue\n",
    "            need += weight\n",
    "            uf.union(x,y)\n",
    "        if uf.count() == 2: # 因为节点 0 没有被使用，所以 0 会额外占用一个连通分量\n",
    "            return need\n",
    "        else:\n",
    "            return -1\n",
    "\n",
    "\n",
    "class UF:\n",
    "    def __init__(self, n) -> None:\n",
    "        self.cnt = n\n",
    "        self.parent = [i for i in range(n)]\n",
    "    \n",
    "    def union(self, p, q):\n",
    "        rootP = self.find(p)\n",
    "        rootQ = self.find(q)\n",
    "        if rootP == rootQ:\n",
    "            return\n",
    "        self.parent[rootP] = rootQ\n",
    "        self.cnt -= 1\n",
    "\n",
    "    def find(self, p):\n",
    "        if self.parent[p] != p:\n",
    "            self.parent[p] = self.find(self.parent[p])\n",
    "        return self.parent[p]\n",
    "    \n",
    "    def connected(self, p, q):\n",
    "        rootP = self.find(p)\n",
    "        rootQ = self.find(q)\n",
    "        return rootP == rootQ\n",
    "    \n",
    "    def count(self):\n",
    "        return self.cnt"
   ]
  },
  {
   "cell_type": "markdown",
   "metadata": {},
   "source": [
    "<img src=\"1135.png\" style=\"zoom:50%\" />"
   ]
  },
  {
   "cell_type": "code",
   "execution_count": 1,
   "metadata": {},
   "outputs": [
    {
     "name": "stdout",
     "output_type": "stream",
     "text": [
      "[(2, 1), (2, 2), (3, 3)]\n"
     ]
    }
   ],
   "source": [
    "a = [(2,1),(3,3),(2,2)]\n",
    "a.sort(key=lambda x:x[1])\n",
    "print(a)"
   ]
  },
  {
   "cell_type": "code",
   "execution_count": 3,
   "metadata": {},
   "outputs": [
    {
     "name": "stdout",
     "output_type": "stream",
     "text": [
      "2\n",
      "3\n"
     ]
    }
   ],
   "source": [
    "a = [(1,2,3),(1,3,4)]\n",
    "for x,y,z in a:\n",
    "    print(y)"
   ]
  },
  {
   "cell_type": "code",
   "execution_count": null,
   "metadata": {},
   "outputs": [],
   "source": [
    "# 1584. 连接所有点的最小费用\n",
    "# https://leetcode.cn/problems/min-cost-to-connect-all-points/\n",
    "\n",
    "class Solution:\n",
    "    def minCostConnectPoints(self, points: List[List[int]]) -> int:\n",
    "        n = len(points)\n",
    "        uf = UF(n)\n",
    "        edges = []\n",
    "        cost = 0\n",
    "        for i in range(n): # 生成所有边及权重\n",
    "            for j in range(i+1, n):\n",
    "                xi, yi = points[i][0], points[i][1]\n",
    "                xj, yj = points[j][0], points[j][1]\n",
    "                distance = abs(xj-xi) + abs(yj-yi)\n",
    "                edges.append((i, j, distance))\n",
    "        edges.sort(key=lambda x:x[2])\n",
    "        for x,y,d in edges:\n",
    "            if uf.connected(x,y):\n",
    "                continue\n",
    "            cost += d\n",
    "            uf.union(x,y)\n",
    "        return cost\n",
    "\n",
    "\n",
    "class UF:\n",
    "    def __init__(self, n) -> None:\n",
    "        self.cnt = n\n",
    "        self.parent = [i for i in range(n)]\n",
    "    \n",
    "    def union(self, p, q):\n",
    "        rootP = self.find(p)\n",
    "        rootQ = self.find(q)\n",
    "        if rootP == rootQ:\n",
    "            return\n",
    "        self.parent[rootP] = rootQ\n",
    "        self.cnt -= 1\n",
    "\n",
    "    def find(self, p):\n",
    "        if self.parent[p] != p:\n",
    "            self.parent[p] = self.find(self.parent[p])\n",
    "        return self.parent[p]\n",
    "    \n",
    "    def connected(self, p, q):\n",
    "        rootP = self.find(p)\n",
    "        rootQ = self.find(q)\n",
    "        return rootP == rootQ\n",
    "    \n",
    "    def count(self):\n",
    "        return self.cnt"
   ]
  },
  {
   "cell_type": "code",
   "execution_count": 7,
   "metadata": {},
   "outputs": [
    {
     "name": "stdout",
     "output_type": "stream",
     "text": [
      "[(1, 2, 3), (2, 2, 3)]\n"
     ]
    }
   ],
   "source": [
    "a = []\n",
    "a.append((1,2,3))\n",
    "a.append((2,2,3))\n",
    "print(a)"
   ]
  }
 ],
 "metadata": {
  "kernelspec": {
   "display_name": "base",
   "language": "python",
   "name": "python3"
  },
  "language_info": {
   "codemirror_mode": {
    "name": "ipython",
    "version": 3
   },
   "file_extension": ".py",
   "mimetype": "text/x-python",
   "name": "python",
   "nbconvert_exporter": "python",
   "pygments_lexer": "ipython3",
   "version": "3.11.3"
  },
  "orig_nbformat": 4
 },
 "nbformat": 4,
 "nbformat_minor": 2
}
