{
 "cells": [
  {
   "cell_type": "markdown",
   "metadata": {},
   "source": [
    "Kruskal 最⼩⽣成树算法\n",
    "\n",
    "https://labuladong.github.io/algo/di-yi-zhan-da78c/shou-ba-sh-03a72/kruskal-zu-e6b5b/"
   ]
  },
  {
   "cell_type": "code",
   "execution_count": null,
   "metadata": {},
   "outputs": [],
   "source": [
    "# 261. 以图判树\n",
    "# https://leetcode.cn/problems/graph-valid-tree/\n",
    "\n",
    "# 对于添加的这条边，如果该边的两个节点本来就在同一连通分量里，那么添加这条边会产生环\n",
    "# 反之，如果该边的两个节点不在同一连通分量里，则添加这条边不会产生环\n",
    "from typing import List\n",
    "class Solution:\n",
    "    def validTree(n: int, edges: List[List[int]]):\n",
    "        uf = UF(n)\n",
    "        for edge in edges:\n",
    "            if uf.connected(edge[0], edge[1]):\n",
    "                return False\n",
    "            uf.union(edge[0], edge[1])\n",
    "        return uf.count() == 1\n",
    "\n",
    "\n",
    "class UF:\n",
    "    def __init__(self, n) -> None:\n",
    "        self.parent = [i for i in range(n)]\n",
    "        self.cnt = n\n",
    "\n",
    "    def union(self, p, q):\n",
    "        rootP = self.find(p)\n",
    "        rootQ = self.find(q)\n",
    "        if rootP == rootQ:\n",
    "            return\n",
    "        self.parent[rootP] = rootQ\n",
    "        self.cnt -= 1\n",
    "\n",
    "    def find(self, p):\n",
    "        if self.parent[p] != p:\n",
    "            self.parent[p] = self.find(self.parent[p])\n",
    "        return self.parent[p]\n",
    "\n",
    "    def connected(self, p, q):\n",
    "        rootP = self.find(p)\n",
    "        rootQ = self.find(q)\n",
    "        return rootP == rootQ\n",
    "    \n",
    "    def count(self):\n",
    "        return self.cnt"
   ]
  },
  {
   "cell_type": "markdown",
   "metadata": {},
   "source": [
    "<img src=\"Kruskal.png\" style=\"zoom:50%\" />"
   ]
  },
  {
   "cell_type": "code",
   "execution_count": null,
   "metadata": {},
   "outputs": [],
   "source": [
    "# 1135. 最低成本联通所有城市\n",
    "# https://leetcode.cn/problems/connecting-cities-with-minimum-cost/\n",
    "\n",
    "from typing import List\n",
    "class Solution:\n",
    "    def minimumCost(n: int, connections: List[List[int]]):\n",
    "        pass"
   ]
  }
 ],
 "metadata": {
  "kernelspec": {
   "display_name": "base",
   "language": "python",
   "name": "python3"
  },
  "language_info": {
   "name": "python",
   "version": "3.11.3"
  },
  "orig_nbformat": 4
 },
 "nbformat": 4,
 "nbformat_minor": 2
}
