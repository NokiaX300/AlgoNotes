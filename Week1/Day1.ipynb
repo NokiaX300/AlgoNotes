{
 "cells": [
  {
   "attachments": {},
   "cell_type": "markdown",
   "metadata": {},
   "source": [
    "单行注释为“#”，多行为“三个引号”"
   ]
  },
  {
   "cell_type": "code",
   "execution_count": 2,
   "metadata": {},
   "outputs": [
    {
     "data": {
      "text/plain": [
       "1"
      ]
     },
     "execution_count": 2,
     "metadata": {},
     "output_type": "execute_result"
    }
   ],
   "source": [
    "'''\n",
    "我是注释\n",
    "我是注释我是注释\n",
    "'''\n",
    "1.01 ** 365 # 我是注释\n",
    "1.01 ** 365 # 我是注释\n",
    "10 % 3\n",
    "10 // 3"
   ]
  },
  {
   "cell_type": "code",
   "execution_count": null,
   "metadata": {},
   "outputs": [],
   "source": [
    "age = 18\n",
    "type(age)\n",
    "gender = True\n",
    "type(gender)"
   ]
  },
  {
   "attachments": {},
   "cell_type": "markdown",
   "metadata": {},
   "source": [
    "input读取的都是str"
   ]
  },
  {
   "cell_type": "code",
   "execution_count": null,
   "metadata": {},
   "outputs": [],
   "source": [
    "dj_str = input(\"单价\")\n",
    "sl_str = input(\"数量\")\n",
    "dj=float(dj_str)\n",
    "sl=float(sl_str)\n",
    "price = dj * sl\n",
    "print(price)"
   ]
  },
  {
   "cell_type": "code",
   "execution_count": null,
   "metadata": {},
   "outputs": [],
   "source": [
    "dj=float(input(\"单价\"))\n",
    "sl=float(input(\"数量\"))\n",
    "price = dj * sl\n",
    "print(price)"
   ]
  },
  {
   "cell_type": "code",
   "execution_count": null,
   "metadata": {},
   "outputs": [],
   "source": [
    "name = 'Ming'\n",
    "age = 23\n",
    "print('Hello, {}. You are {}.'.format(name, age))"
   ]
  },
  {
   "cell_type": "code",
   "execution_count": null,
   "metadata": {},
   "outputs": [],
   "source": [
    "name = 'Ming'\n",
    "age = 23\n",
    "print('Hello, {1}. You are {0}.'.format(age, name))"
   ]
  },
  {
   "cell_type": "code",
   "execution_count": null,
   "metadata": {},
   "outputs": [],
   "source": [
    "person = {'name': 'Ming', 'age': 23}\n",
    "print('Hello, {name}. You are {age}.'.format(**person))"
   ]
  },
  {
   "attachments": {},
   "cell_type": "markdown",
   "metadata": {},
   "source": [
    "多个单词定义变量用小写字母，下划线连接"
   ]
  },
  {
   "cell_type": "code",
   "execution_count": null,
   "metadata": {},
   "outputs": [],
   "source": [
    "import keyword\n",
    "print(keyword.kwlist)"
   ]
  },
  {
   "cell_type": "code",
   "execution_count": null,
   "metadata": {},
   "outputs": [],
   "source": [
    "age = int(input(\"输入年龄\"))\n",
    "if age >= 18:\n",
    "    print(\"adult\")\n",
    "else:\n",
    "    print(\"teenager\")"
   ]
  },
  {
   "cell_type": "code",
   "execution_count": null,
   "metadata": {},
   "outputs": [],
   "source": [
    "day = input(\"节日是：\")\n",
    "if day == \"平安夜\":\n",
    "    print(\"apple\")\n",
    "elif day == \"情人节\":\n",
    "    print(\"flower\")\n",
    "else:\n",
    "    print(\"NokiaX300\")"
   ]
  },
  {
   "cell_type": "code",
   "execution_count": null,
   "metadata": {},
   "outputs": [],
   "source": [
    "i = 1\n",
    "while i <= 5:\n",
    "    print(\"打印五遍\")\n",
    "    i = i + 1"
   ]
  },
  {
   "cell_type": "code",
   "execution_count": null,
   "metadata": {},
   "outputs": [],
   "source": [
    "i = 0\n",
    "s = 0\n",
    "while i <= 100:\n",
    "    s += i\n",
    "    i += 1\n",
    "print(\"0到100求和为: %d\" %s)"
   ]
  },
  {
   "attachments": {},
   "cell_type": "markdown",
   "metadata": {},
   "source": [
    "if情况有相同的要提出来"
   ]
  },
  {
   "cell_type": "code",
   "execution_count": null,
   "metadata": {},
   "outputs": [],
   "source": [
    "i = 0\n",
    "s = 0\n",
    "while i <= 100:\n",
    "    if i % 2 == 0:\n",
    "        s += i\n",
    "    i += 1\n",
    "print(\"0到100的偶数求和为: %d\" %s)"
   ]
  },
  {
   "attachments": {},
   "cell_type": "markdown",
   "metadata": {},
   "source": [
    "先循环行，每行再单独循环列"
   ]
  },
  {
   "cell_type": "code",
   "execution_count": null,
   "metadata": {},
   "outputs": [],
   "source": [
    "i = 1\n",
    "while i <= 9:\n",
    "    j = 1\n",
    "    while j <= i:\n",
    "        print(\"~\", end=\"\")\n",
    "        j += 1\n",
    "    i += 1\n",
    "    print(\"*\")"
   ]
  },
  {
   "cell_type": "code",
   "execution_count": null,
   "metadata": {},
   "outputs": [],
   "source": [
    "def multiple_table():\n",
    "    \"\"\"九九乘法表\"\"\"\n",
    "    \n",
    "    i = 1\n",
    "    while i <= 9:\n",
    "        j = 1\n",
    "        while j <= i:\n",
    "            print(\"%d * %d = %d \\t\" %(j, i, i*j), end=\"\")\n",
    "            j += 1\n",
    "        i += 1\n",
    "        print(\"\")"
   ]
  },
  {
   "cell_type": "code",
   "execution_count": null,
   "metadata": {},
   "outputs": [],
   "source": [
    "multiple_table()"
   ]
  },
  {
   "cell_type": "code",
   "execution_count": null,
   "metadata": {},
   "outputs": [],
   "source": [
    "def calc(numbers):\n",
    "    sum = 0\n",
    "    for n in numbers:\n",
    "        sum += n*n\n",
    "    return sum"
   ]
  },
  {
   "cell_type": "code",
   "execution_count": null,
   "metadata": {},
   "outputs": [],
   "source": [
    "print(calc((2, 4, 1, 3)))\n",
    "print(calc([2, 4, 1, 3]))"
   ]
  },
  {
   "cell_type": "code",
   "execution_count": null,
   "metadata": {},
   "outputs": [],
   "source": [
    "def calc(*numbers):\n",
    "    sum = 0\n",
    "    for n in numbers:\n",
    "        sum += n*n\n",
    "    return sum"
   ]
  },
  {
   "cell_type": "code",
   "execution_count": null,
   "metadata": {},
   "outputs": [],
   "source": [
    "print(calc(2, 4, 1, 3))\n",
    "print(calc(2, 4, 1, 3))"
   ]
  },
  {
   "attachments": {},
   "cell_type": "markdown",
   "metadata": {},
   "source": [
    "对于任意函数，不管其参数如何定义，都可以通过类似 func(*args, **kw) 的形式调用它"
   ]
  },
  {
   "cell_type": "code",
   "execution_count": null,
   "metadata": {},
   "outputs": [],
   "source": [
    "def f2(a, b, c=0, *, d, **kw):\n",
    "    print(f'a = {a}, b = {b}, c = {c}, d: {d}, kw: {kw}')\n",
    "    \n",
    "args = (11, 22, 33)\n",
    "kw = {'d': 44, 'x': '##'}\n",
    "f2(*args, **kw)"
   ]
  },
  {
   "cell_type": "code",
   "execution_count": null,
   "metadata": {},
   "outputs": [],
   "source": [
    "L = []\n",
    "n = 1\n",
    "while n < 20:\n",
    "    L.append(n)\n",
    "    n += 2\n",
    "print(L)"
   ]
  },
  {
   "cell_type": "code",
   "execution_count": null,
   "metadata": {},
   "outputs": [],
   "source": [
    "for i in range(1, 10):\n",
    "    print(i, end = \" \")\n",
    "print(end = \"\\n\")\n",
    "for j in range(10):\n",
    "    print(j, end = \" \")"
   ]
  },
  {
   "cell_type": "code",
   "execution_count": 3,
   "metadata": {},
   "outputs": [
    {
     "name": "stdout",
     "output_type": "stream",
     "text": [
      "[4, 16, 36, 64, 100]\n",
      "['AX', 'AY', 'AZ', 'BX', 'BY', 'BZ', 'CX', 'CY', 'CZ']\n"
     ]
    }
   ],
   "source": [
    "L = [x * x for x in range(1, 11) if x % 2 == 0]\n",
    "print(L)\n",
    "L = [m + n for m in 'ABC' for n in 'XYZ']\n",
    "print(L)"
   ]
  }
 ],
 "metadata": {
  "kernelspec": {
   "display_name": "base",
   "language": "python",
   "name": "python3"
  },
  "language_info": {
   "codemirror_mode": {
    "name": "ipython",
    "version": 3
   },
   "file_extension": ".py",
   "mimetype": "text/x-python",
   "name": "python",
   "nbconvert_exporter": "python",
   "pygments_lexer": "ipython3",
   "version": "3.11.3"
  },
  "orig_nbformat": 4
 },
 "nbformat": 4,
 "nbformat_minor": 2
}
