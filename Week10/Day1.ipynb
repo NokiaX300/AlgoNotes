{
 "cells": [
  {
   "cell_type": "markdown",
   "metadata": {},
   "source": [
    "Dijkstra 算法模板及应用\n",
    "\n",
    "https://labuladong.github.io/algo/di-yi-zhan-da78c/shou-ba-sh-03a72/dijkstra-s-6d0b2/"
   ]
  },
  {
   "cell_type": "markdown",
   "metadata": {},
   "source": [
    "<img src=\"Dijkstra.png\" style=\"zoom:50%\" />"
   ]
  },
  {
   "cell_type": "code",
   "execution_count": null,
   "metadata": {},
   "outputs": [],
   "source": [
    "# 二叉树层级遍历\n",
    "class TreeNode:\n",
    "    def __init__(self, val) -> None:\n",
    "        self.val = val\n",
    "        self.left = None\n",
    "        self.right = None\n",
    "\n",
    "def levelTraverse(root: TreeNode):\n",
    "    if not root:\n",
    "        return\n",
    "    q = [root]\n",
    "    depth = 1\n",
    "    while q:\n",
    "        for _ in range(len(q)):\n",
    "            cur = q.pop(0)\n",
    "            if cur.left:\n",
    "                q.append(cur.left)\n",
    "            if cur.right:\n",
    "                q.append(cur.right)\n",
    "            depth += 1"
   ]
  },
  {
   "cell_type": "code",
   "execution_count": null,
   "metadata": {},
   "outputs": [],
   "source": [
    "# 多叉树的层序遍历\n",
    "class TreeNode:\n",
    "    def __init__(self, val) -> None:\n",
    "        self.val = val\n",
    "        self.children = []\n",
    "\n",
    "def levelTraverse(root: TreeNode):\n",
    "    if not root:\n",
    "        return\n",
    "    q = [root]\n",
    "    depth = 1\n",
    "    while q:\n",
    "        for _ in range(len(q)):\n",
    "            cur = q.pop(0)\n",
    "            for child in cur.children:\n",
    "                q.append(child)\n",
    "        depth += 1"
   ]
  },
  {
   "cell_type": "code",
   "execution_count": null,
   "metadata": {},
   "outputs": [],
   "source": [
    "# BFS\n",
    "class Node:\n",
    "    def __init__(self, val) -> None:\n",
    "        self.val = val\n",
    "        self.adj = None\n",
    "\n",
    "def BFS(start: Node) -> int:\n",
    "    q = [start]\n",
    "    visited = {start}\n",
    "    step = 0\n",
    "    while q:\n",
    "        for _ in range(len(q)):\n",
    "            cur = q.pop(0)\n",
    "            for w in cur.adj:\n",
    "                if w not in visited:\n",
    "                    q.append(w)\n",
    "                    visited.add(w)\n",
    "        step += 1"
   ]
  },
  {
   "cell_type": "code",
   "execution_count": 7,
   "metadata": {},
   "outputs": [
    {
     "data": {
      "text/plain": [
       "set"
      ]
     },
     "execution_count": 7,
     "metadata": {},
     "output_type": "execute_result"
    }
   ],
   "source": [
    "v = {'a'}\n",
    "type(v)"
   ]
  },
  {
   "cell_type": "code",
   "execution_count": null,
   "metadata": {},
   "outputs": [],
   "source": [
    "# 二叉树层级遍历\n",
    "# 去掉 for 的同时维护 depth 变量\n",
    "class TreeNode:\n",
    "    def __init__(self, val) -> None:\n",
    "        self.val = val\n",
    "        self.left = None\n",
    "        self.right = None\n",
    "\n",
    "\n",
    "class State:\n",
    "    def __init__(self, node: TreeNode, depth: int) -> None:\n",
    "        self.node = node\n",
    "        self.depth = depth\n",
    "\n",
    "def levelTraverse(root: TreeNode):\n",
    "    if not root:\n",
    "        return\n",
    "    q = [State(root, 1)]\n",
    "    while q:\n",
    "        cur = q.pop(0)\n",
    "        cur_node = cur.node\n",
    "        cur_depth = cur.depth\n",
    "        if cur_node.left:\n",
    "            q.append(State(cur_node.left, cur_depth+1))\n",
    "        if cur_node.right:\n",
    "            q.append(State(cur_node.right, cur_depth+1))"
   ]
  },
  {
   "cell_type": "code",
   "execution_count": null,
   "metadata": {},
   "outputs": [],
   "source": [
    "import heapq\n",
    "\n",
    "def weight(fromNode: int, toNode: int) -> int:\n",
    "    pass\n",
    "\n",
    "def adj(s: int) -> list[int]:\n",
    "    pass\n",
    "\n",
    "def dijkstra(start: int, graph: list[list[int]]) -> list[int]:\n",
    "    V = len(graph)\n",
    "    distance = [0]*V # 记录最短路径的权重\n",
    "    for i in range(V):\n",
    "        distance[i] = float('inf')\n",
    "    distance[start] = 0\n",
    "    pq = []\n",
    "    heapq.heappush(pq, (0, start))\n",
    "    while pq:\n",
    "        curNode: tuple[int, int] = heapq.heappop(pq)\n",
    "        curId = curNode[1]\n",
    "        curDist = curNode[0]\n",
    "        if curDist > distance[curId]:\n",
    "            continue\n",
    "        for nextId in adj(curId):\n",
    "            distToNext = distance[curId] + weight(curId, nextId)\n",
    "            if distance[nextId] > distToNext:\n",
    "                distance[nextId] = distToNext\n",
    "                heapq.heappush(pq, (distToNext, nextId))\n",
    "    return distance"
   ]
  },
  {
   "cell_type": "code",
   "execution_count": 2,
   "metadata": {},
   "outputs": [
    {
     "name": "stdout",
     "output_type": "stream",
     "text": [
      "<class 'tuple'>\n"
     ]
    }
   ],
   "source": [
    "import heapq\n",
    "pq = []\n",
    "heapq.heappush(pq, (2, 'c'))\n",
    "heapq.heappush(pq, (3, 'a'))\n",
    "a = heapq.heappop(pq)\n",
    "print(type(a))"
   ]
  },
  {
   "cell_type": "code",
   "execution_count": 4,
   "metadata": {},
   "outputs": [
    {
     "name": "stdout",
     "output_type": "stream",
     "text": [
      "(3, 4)\n"
     ]
    },
    {
     "data": {
      "text/plain": [
       "[[1], [2]]"
      ]
     },
     "execution_count": 4,
     "metadata": {},
     "output_type": "execute_result"
    }
   ],
   "source": [
    "# python 3.9+\n",
    "a : tuple[int, int] = (3, 4)\n",
    "print(a)\n",
    "def fun(a: list) -> list[list[int]]:\n",
    "    return [[1],[2]]\n",
    "fun([1,2,3])"
   ]
  },
  {
   "cell_type": "code",
   "execution_count": null,
   "metadata": {},
   "outputs": [],
   "source": [
    "# 743. 网络延迟时间\n",
    "# https://leetcode.cn/problems/network-delay-time/\n",
    "\n",
    "import heapq\n",
    "from typing import List\n",
    "class Solution:\n",
    "    def networkDelayTime(self, times: List[List[int]], n: int, k: int) -> int:\n",
    "        graph = [[] for _ in range(n)]\n",
    "        for edge in times:\n",
    "            fromNode, toNode, weight = edge[0]-1, edge[1]-1, edge[2]\n",
    "            graph[fromNode].append([toNode, weight]) # 创建邻接表\n",
    "        distance = self.dijkstra(graph, k-1) # 创建最短距离表\n",
    "        res = 0\n",
    "        for d in distance:\n",
    "            if d == float('inf'):\n",
    "                return -1\n",
    "            res = max(res, d)\n",
    "        return res\n",
    "\n",
    "    def dijkstra(self, graph: List[List[int]], start: int) -> List[int]:\n",
    "        V = len(graph)\n",
    "        distance = [float('inf')]*V\n",
    "        distance[start] = 0\n",
    "        pq = []\n",
    "        heapq.heappush(pq, (0, start)) # 压入结点的 id 和 distance 信息\n",
    "        while pq:\n",
    "            curNode: tuple[int, int] = heapq.heappop(pq)\n",
    "            curId = curNode[1]\n",
    "            curDist = curNode[0]\n",
    "            if curDist > distance[curId]:\n",
    "                continue\n",
    "            for nextId, nextWeight in graph[curId]:\n",
    "                # distNext = curDist + nextWeight 也可以\n",
    "                distNext = distance[curId] + nextWeight\n",
    "                if distNext < distance[nextId]:\n",
    "                    distance[nextId] = distNext\n",
    "                    heapq.heappush(pq, (distNext, nextId))\n",
    "        return distance"
   ]
  },
  {
   "cell_type": "code",
   "execution_count": 4,
   "metadata": {},
   "outputs": [
    {
     "name": "stdout",
     "output_type": "stream",
     "text": [
      "[1, 3]\n"
     ]
    }
   ],
   "source": [
    "def fun(graph):\n",
    "    def adj(s):\n",
    "        nonlocal graph\n",
    "        graph[0] = 1\n",
    "        print(graph)\n",
    "    adj(2)\n",
    "fun([2,3])"
   ]
  },
  {
   "cell_type": "code",
   "execution_count": null,
   "metadata": {},
   "outputs": [],
   "source": [
    "# 1631. 最小体力消耗路径\n",
    "# https://leetcode.cn/problems/path-with-minimum-effort/\n",
    "\n",
    "import heapq\n",
    "from typing import List\n",
    "class Solution:\n",
    "    def minimumEffortPath(self, heights: List[List[int]]) -> int:\n",
    "        graph = self.buildGraph(heights)\n",
    "        distance = self.dijkstra(graph)\n",
    "        return\n",
    "\n",
    "    def buildGraph(self, heights: List[List[int]]) -> List[List[int]]:\n",
    "        pass\n",
    "\n",
    "    def dijkstra(self, graph: List[List[int]]) -> List[List[int]]:\n",
    "        m = len(graph)\n",
    "        n = len(graph[0])\n",
    "        distance = [[float('inf') for _ in range(n)] for _ in range(m)]\n",
    "        distance[0][0] = 0\n",
    "        pq = []\n",
    "        # heapq.heappush(pq, (0, 0, 0): tuple[int, int, int])\n",
    "        # 无法直接在函数调用中对元组进行类型注解\n",
    "        heapq.heappush(pq, (0, 0, 0))"
   ]
  },
  {
   "cell_type": "code",
   "execution_count": 11,
   "metadata": {},
   "outputs": [
    {
     "data": {
      "text/plain": [
       "tuple"
      ]
     },
     "execution_count": 11,
     "metadata": {},
     "output_type": "execute_result"
    }
   ],
   "source": [
    "s = 'w'\n",
    "def fun(a: tuple[3, s]):\n",
    "    return type(a)\n",
    "fun(a)"
   ]
  }
 ],
 "metadata": {
  "kernelspec": {
   "display_name": "base",
   "language": "python",
   "name": "python3"
  },
  "language_info": {
   "codemirror_mode": {
    "name": "ipython",
    "version": 3
   },
   "file_extension": ".py",
   "mimetype": "text/x-python",
   "name": "python",
   "nbconvert_exporter": "python",
   "pygments_lexer": "ipython3",
   "version": "3.11.3"
  },
  "orig_nbformat": 4
 },
 "nbformat": 4,
 "nbformat_minor": 2
}
