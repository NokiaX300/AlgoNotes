{
 "cells": [
  {
   "cell_type": "markdown",
   "metadata": {},
   "source": [
    "Dijkstra 算法模板及应用\n",
    "\n",
    "https://labuladong.github.io/algo/di-yi-zhan-da78c/shou-ba-sh-03a72/dijkstra-s-6d0b2/"
   ]
  },
  {
   "cell_type": "markdown",
   "metadata": {},
   "source": [
    "<img src=\"Dijkstra.png\" style=\"zoom:50%\" />"
   ]
  },
  {
   "cell_type": "code",
   "execution_count": null,
   "metadata": {},
   "outputs": [],
   "source": [
    "# 二叉树层级遍历\n",
    "class TreeNode:\n",
    "    def __init__(self, val) -> None:\n",
    "        self.val = val\n",
    "        self.left = None\n",
    "        self.right = None\n",
    "\n",
    "def levelTraverse(root: TreeNode):\n",
    "    if not root:\n",
    "        return\n",
    "    q = [root]\n",
    "    depth = 1\n",
    "    while q:\n",
    "        for _ in range(len(q)):\n",
    "            cur = q.pop(0)\n",
    "            if cur.left:\n",
    "                q.append(cur.left)\n",
    "            if cur.right:\n",
    "                q.append(cur.right)\n",
    "            depth += 1"
   ]
  },
  {
   "cell_type": "code",
   "execution_count": null,
   "metadata": {},
   "outputs": [],
   "source": [
    "# 多叉树的层序遍历\n",
    "class TreeNode:\n",
    "    def __init__(self, val) -> None:\n",
    "        self.val = val\n",
    "        self.children = []\n",
    "\n",
    "def levelTraverse(root: TreeNode):\n",
    "    if not root:\n",
    "        return\n",
    "    q = [root]\n",
    "    depth = 1\n",
    "    while q:\n",
    "        for _ in range(len(q)):\n",
    "            cur = q.pop(0)\n",
    "            for child in cur.children:\n",
    "                q.append(child)\n",
    "        depth += 1"
   ]
  },
  {
   "cell_type": "code",
   "execution_count": null,
   "metadata": {},
   "outputs": [],
   "source": [
    "# BFS\n",
    "class Node:\n",
    "    def __init__(self, val) -> None:\n",
    "        self.val = val\n",
    "        self.adj = None\n",
    "\n",
    "def BFS(start: Node) -> int:\n",
    "    q = [start]\n",
    "    visited = {start}\n",
    "    step = 0\n",
    "    while q:\n",
    "        for _ in range(len(q)):\n",
    "            cur = q.pop(0)\n",
    "            for w in cur.adj:\n",
    "                if w not in visited:\n",
    "                    q.append(w)\n",
    "                    visited.add(w)\n",
    "        step += 1"
   ]
  },
  {
   "cell_type": "code",
   "execution_count": 7,
   "metadata": {},
   "outputs": [
    {
     "data": {
      "text/plain": [
       "set"
      ]
     },
     "execution_count": 7,
     "metadata": {},
     "output_type": "execute_result"
    }
   ],
   "source": [
    "v = {'a'}\n",
    "type(v)"
   ]
  },
  {
   "cell_type": "code",
   "execution_count": null,
   "metadata": {},
   "outputs": [],
   "source": [
    "# 二叉树层级遍历\n",
    "# 去掉 for 的同时维护 depth 变量\n",
    "class TreeNode:\n",
    "    def __init__(self, val) -> None:\n",
    "        self.val = val\n",
    "        self.left = None\n",
    "        self.right = None\n",
    "\n",
    "\n",
    "class State:\n",
    "    def __init__(self, node: TreeNode, depth: int) -> None:\n",
    "        self.node = node\n",
    "        self.depth = depth\n",
    "\n",
    "def levelTraverse(root: TreeNode):\n",
    "    if not root:\n",
    "        return\n",
    "    q = [State(root, 1)]\n",
    "    while q:\n",
    "        cur = q.pop(0)\n",
    "        cur_node = cur.node\n",
    "        cur_depth = cur.depth\n",
    "        if cur_node.left:\n",
    "            q.append(State(cur_node.left, cur_depth+1))\n",
    "        if cur_node.right:\n",
    "            q.append(State(cur_node.right, cur_depth+1))"
   ]
  }
 ],
 "metadata": {
  "kernelspec": {
   "display_name": "base",
   "language": "python",
   "name": "python3"
  },
  "language_info": {
   "codemirror_mode": {
    "name": "ipython",
    "version": 3
   },
   "file_extension": ".py",
   "mimetype": "text/x-python",
   "name": "python",
   "nbconvert_exporter": "python",
   "pygments_lexer": "ipython3",
   "version": "3.11.3"
  },
  "orig_nbformat": 4
 },
 "nbformat": 4,
 "nbformat_minor": 2
}
