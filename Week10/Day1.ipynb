{
 "cells": [
  {
   "cell_type": "code",
   "execution_count": null,
   "metadata": {},
   "outputs": [],
   "source": [
    "# 169. 多数元素\n",
    "# https://leetcode.cn/problems/majority-element/\n",
    "\n",
    "from collections import Counter\n",
    "class Solution:\n",
    "    def majorityElement(self, nums: List[int]) -> int:\n",
    "        dic = Counter(nums)\n",
    "        for i in dic:\n",
    "            if dic[i] > len(nums)//2:\n",
    "                return i"
   ]
  },
  {
   "cell_type": "code",
   "execution_count": null,
   "metadata": {},
   "outputs": [],
   "source": [
    "# 169. 多数元素\n",
    "# https://leetcode.cn/problems/majority-element/\n",
    "\n",
    "class Solution:\n",
    "    def majorityElement(self, nums: List[int]) -> int:\n",
    "        major = 0\n",
    "        count = 0\n",
    "        for ele in nums:\n",
    "            if count == 0:\n",
    "                major = ele\n",
    "            if ele == major:\n",
    "                count += 1\n",
    "            else:\n",
    "                count -= 1\n",
    "        return major"
   ]
  },
  {
   "cell_type": "code",
   "execution_count": null,
   "metadata": {},
   "outputs": [],
   "source": [
    "# 240. 搜索二维矩阵 II\n",
    "# https://leetcode.cn/problems/search-a-2d-matrix-ii/\n",
    "\n",
    "class Solution:\n",
    "    def searchMatrix(self, matrix: List[List[int]], target: int) -> bool:\n",
    "        for i in range(len(matrix)):\n",
    "            for j in range(len(matrix[i])):\n",
    "                if target in matrix[i]:\n",
    "                    return True\n",
    "        return False"
   ]
  },
  {
   "cell_type": "code",
   "execution_count": null,
   "metadata": {},
   "outputs": [],
   "source": [
    "# 240. 搜索二维矩阵 II\n",
    "# https://leetcode.cn/problems/search-a-2d-matrix-ii/\n",
    "\n",
    "from itertools import chain\n",
    "class Solution:\n",
    "    def searchMatrix(self, matrix: List[List[int]], target: int) -> bool:\n",
    "        return target in chain(*matrix)"
   ]
  },
  {
   "cell_type": "code",
   "execution_count": 4,
   "metadata": {},
   "outputs": [
    {
     "name": "stdout",
     "output_type": "stream",
     "text": [
      "[1, 4, 7, 11, 15, 2, 5, 8, 12, 19, 3, 6, 9, 16, 22, 10, 13, 14, 17, 24, 18, 21, 23, 26, 30]\n"
     ]
    }
   ],
   "source": [
    "from itertools import chain\n",
    "matrix = [[1,4,7,11,15],[2,5,8,12,19],[3,6,9,16,22],[10,13,14,17,24],[18,21,23,26,30]]\n",
    "print(list(chain(*matrix)))"
   ]
  },
  {
   "cell_type": "code",
   "execution_count": 2,
   "metadata": {},
   "outputs": [
    {
     "ename": "TypeError",
     "evalue": "learn_optional() missing 1 required positional argument: 'arg'",
     "output_type": "error",
     "traceback": [
      "\u001b[1;31m---------------------------------------------------------------------------\u001b[0m",
      "\u001b[1;31mTypeError\u001b[0m                                 Traceback (most recent call last)",
      "Cell \u001b[1;32mIn[2], line 4\u001b[0m\n\u001b[0;32m      2\u001b[0m \u001b[39mdef\u001b[39;00m \u001b[39mlearn_optional\u001b[39m(arg):\n\u001b[0;32m      3\u001b[0m     \u001b[39mprint\u001b[39m(arg)\n\u001b[1;32m----> 4\u001b[0m learn_optional()\n",
      "\u001b[1;31mTypeError\u001b[0m: learn_optional() missing 1 required positional argument: 'arg'"
     ]
    }
   ],
   "source": [
    "def learn_optional(arg):\n",
    "    print(arg)\n",
    "learn_optional()"
   ]
  },
  {
   "cell_type": "code",
   "execution_count": 14,
   "metadata": {},
   "outputs": [
    {
     "name": "stdout",
     "output_type": "stream",
     "text": [
      "5\n"
     ]
    }
   ],
   "source": [
    "from typing import Optional\n",
    "def learn_optional(arg: Optional[int] = None):\n",
    "    print(arg)\n",
    "learn_optional(5)"
   ]
  },
  {
   "cell_type": "code",
   "execution_count": null,
   "metadata": {},
   "outputs": [],
   "source": [
    "# 尽管删除了类型注解，函数仍然可以正常运行，但使用类型注解可以提高代码的可读性、可维护性和可靠性\n",
    "# 类型注解可以帮助开发者理解函数的预期输入类型，同时也能提供静态类型检查工具的支持，帮助发现潜在的类型相关错误\n",
    "# 因此，建议在代码中保留类型注解以提高代码质量。"
   ]
  },
  {
   "cell_type": "code",
   "execution_count": null,
   "metadata": {},
   "outputs": [],
   "source": [
    "# 49. 字母异位词分组\n",
    "# https://leetcode.cn/problems/group-anagrams/\n",
    "\n",
    "class Solution:\n",
    "    def groupAnagrams(self, strs: List[str]) -> List[List[str]]:\n",
    "        dic = {}\n",
    "        for ele in strs:\n",
    "            ele_ = ''.join(sorted(ele))\n",
    "            if ele_ not in dic:\n",
    "                dic[ele_] = [ele]\n",
    "            else:\n",
    "                dic[ele_].append(ele)\n",
    "        return list(dic.values())"
   ]
  },
  {
   "cell_type": "code",
   "execution_count": 1,
   "metadata": {},
   "outputs": [
    {
     "name": "stdout",
     "output_type": "stream",
     "text": [
      "aet\n",
      "aet\n",
      "ant\n",
      "aet\n",
      "ant\n",
      "abt\n",
      "['eat', 'tea', 'tan', 'ate', 'nat', 'bat']\n"
     ]
    }
   ],
   "source": [
    "strs = [\"eat\", \"tea\", \"tan\", \"ate\", \"nat\", \"bat\"]\n",
    "for ele in strs:\n",
    "        ele = ''.join(sorted(ele))\n",
    "        print(ele)\n",
    "print(strs) # 临时变量并不会直接修改strs列表中的元素，它只是一个指向每个元素的副本"
   ]
  },
  {
   "cell_type": "code",
   "execution_count": 2,
   "metadata": {},
   "outputs": [
    {
     "name": "stdout",
     "output_type": "stream",
     "text": [
      "['aet', 'aet', 'ant', 'aet', 'ant', 'abt']\n"
     ]
    }
   ],
   "source": [
    "strs = [\"eat\", \"tea\", \"tan\", \"ate\", \"nat\", \"bat\"]\n",
    "for i in range(len(strs)):\n",
    "        strs[i] = ''.join(sorted(strs[i]))\n",
    "print(strs) # 临时变量并不会直接修改strs列表中的元素，它只是一个指向每个元素的副本"
   ]
  },
  {
   "cell_type": "code",
   "execution_count": null,
   "metadata": {},
   "outputs": [],
   "source": [
    "# 30. 串联所有单词的子串\n",
    "# https://leetcode.cn/problems/substring-with-concatenation-of-all-words/\n",
    "\n",
    "from collections import Counter\n",
    "class Solution:\n",
    "    def findSubstring(self, s: str, words: List[str]) -> List[int]:\n",
    "        len_single = len(words[0])\n",
    "        len_all = len_single * len(words)\n",
    "        res = []\n",
    "        for i in range(len(s) - len_all + 1):\n",
    "            tmp = s[i:i+len_all]\n",
    "            tp = []\n",
    "            for j in range(0, len_all, len_single):\n",
    "                tp.append(tmp[j:j+len_single])\n",
    "            if Counter(tp) == Counter(words):\n",
    "                res.append(i)\n",
    "        return res"
   ]
  },
  {
   "cell_type": "code",
   "execution_count": 3,
   "metadata": {},
   "outputs": [
    {
     "name": "stdout",
     "output_type": "stream",
     "text": [
      "Counter({'word': 2, 'good': 1, 'best': 1})\n"
     ]
    }
   ],
   "source": [
    "words = [\"word\",\"good\",\"best\",\"word\"]\n",
    "from collections import Counter\n",
    "print(Counter(words))"
   ]
  },
  {
   "cell_type": "code",
   "execution_count": null,
   "metadata": {},
   "outputs": [],
   "source": [
    "# 70. 爬楼梯\n",
    "# https://leetcode.cn/problems/climbing-stairs/\n",
    "\n",
    "# 超时DFS算法\n",
    "class Solution:\n",
    "    def climbStairs(self, n: int) -> int:\n",
    "        if n == 1 or n == 0:\n",
    "            return 1\n",
    "        return Solution.climbStairs(self, n-1) + Solution.climbStairs(self, n-2)\n",
    "Solution().climbStairs(38)\n",
    "\n",
    "# 记忆化递归\n",
    "class Solution:\n",
    "    lst = [-1]*50\n",
    "    def climbStairs(self, n: int) -> int:\n",
    "        if self.lst[n] != -1:\n",
    "            return self.lst[n] # 如果第n层不是-1的话,就说明有数据,可以直接递归出去,不用深度查找\n",
    "        if n == 1 or n == 0:\n",
    "            return 1\n",
    "        self.lst[n] = Solution.climbStairs(self, n-1) + Solution.climbStairs(self, n-2)\n",
    "        return self.lst[n]\n",
    "    \n",
    "\n",
    "# dp\n",
    "class Solution:\n",
    "    def climbStairs(self, n: int) -> int:\n",
    "        dp = [-1]*50\n",
    "        dp[0] = 1\n",
    "        dp[1] = 1\n",
    "        for i in range(2, n+1):\n",
    "            dp[i] = dp[i-1] + dp[i-2]\n",
    "        return dp[n]\n",
    "\n",
    "# Fibonacci\n",
    "class Solution:\n",
    "    def climbStairs(self, n: int) -> int:\n",
    "        a, b = 1, 1\n",
    "        for i in range(2, n+1):\n",
    "            a, b = b, a+b\n",
    "        return b"
   ]
  },
  {
   "cell_type": "code",
   "execution_count": null,
   "metadata": {},
   "outputs": [],
   "source": [
    "# 112. 路径总和\n",
    "# https://leetcode.cn/problems/path-sum/\n",
    "\n",
    "# Definition for a binary tree node.\n",
    "class TreeNode:\n",
    "    def __init__(self, val=0, left=None, right=None):\n",
    "        self.val = val\n",
    "        self.left = left\n",
    "        self.right = right\n",
    "\n",
    "\n",
    "class Solution:\n",
    "    def hasPathSum(self, root: Optional[TreeNode], targetSum: int) -> bool:\n",
    "        if not root:\n",
    "            return False\n",
    "        if not root.left and not root.right:\n",
    "            return root.val == targetSum\n",
    "        return self.hasPathSum(root.left, targetSum-root.val) or self.hasPathSum(root.right, targetSum-root.val)"
   ]
  },
  {
   "cell_type": "code",
   "execution_count": null,
   "metadata": {},
   "outputs": [],
   "source": [
    "# 倒序打印一条单链表上所有节点的值\n",
    "\n",
    "def traverse(head: ListNode) -> None:\n",
    "    if not head:\n",
    "        return\n",
    "    traverse(head.next)\n",
    "    print(head.val)"
   ]
  },
  {
   "cell_type": "code",
   "execution_count": null,
   "metadata": {},
   "outputs": [],
   "source": [
    "# 84. 柱状图中最大的矩形\n",
    "# https://leetcode.cn/problems/largest-rectangle-in-histogram/\n",
    "\n",
    "class Solution:\n",
    "    def largestRectangleArea(self, heights: List[int]) -> int:\n",
    "        stack = [-1]\n",
    "        heights.append(-1)\n",
    "        maxarea = 0\n",
    "        for i, v in enumerate(heights):\n",
    "            while v < heights[stack[-1]]:\n",
    "                h = stack.pop()\n",
    "                maxarea = max(maxarea, heights[h] * (i-1-stack[-1]))\n",
    "            stack.append(i)\n",
    "        return maxarea"
   ]
  },
  {
   "cell_type": "code",
   "execution_count": 1,
   "metadata": {},
   "outputs": [
    {
     "name": "stdout",
     "output_type": "stream",
     "text": [
      "770199"
     ]
    }
   ],
   "source": [
    "import random\n",
    "for i in range(6):\n",
    "    print(random.randint(0, 9), end='')"
   ]
  },
  {
   "cell_type": "code",
   "execution_count": null,
   "metadata": {},
   "outputs": [],
   "source": [
    "# 85. 最大矩形\n",
    "# https://leetcode.cn/problems/maximal-rectangle/\n",
    "\n",
    "# 逐行运用84题函数\n",
    "class Solution:\n",
    "    def maximalRectangle(self, matrix: List[List[str]]) -> int:\n",
    "        m = len(matrix)\n",
    "        n = len(matrix[0])\n",
    "        heights = [0]*n\n",
    "        res = 0\n",
    "        for i in range(m):\n",
    "            for j in range(n):\n",
    "                if matrix[i][j] == '1':\n",
    "                    heights[j] += 1 \n",
    "                else:\n",
    "                    heights[j] = 0\n",
    "            res = max(res, self.largestRectangleArea(heights))\n",
    "        return res\n",
    "\n",
    "    def largestRectangleArea(self, heights: List[int]) -> int:\n",
    "        stack = [-1]\n",
    "        heights.append(-1)\n",
    "        area = 0\n",
    "        for i, v in enumerate(heights):\n",
    "            while v < heights[stack[-1]]:\n",
    "                h = stack.pop()\n",
    "                area = max(area, heights[h] * (i-1-stack[-1]))\n",
    "            stack.append(i)\n",
    "        return area"
   ]
  },
  {
   "cell_type": "code",
   "execution_count": null,
   "metadata": {},
   "outputs": [],
   "source": [
    "# 463. 岛屿的周长\n",
    "# https://leetcode.cn/problems/island-perimeter/\n",
    "\n",
    "class Solution:\n",
    "    def islandPerimeter(self, grid: List[List[int]]) -> int:\n",
    "        dx = [1,-1,0,0]\n",
    "        dy = [0,0,1,-1]\n",
    "        m = len(grid)\n",
    "        n = len(grid[0])\n",
    "        res = 0\n",
    "        for i in range(m):\n",
    "            for j in range(n):\n",
    "                if grid[i][j]:\n",
    "                    c = 4\n",
    "                    for k in range(4):\n",
    "                        a, b = i+dx[k], j+dy[k]\n",
    "                        if  0 <= a < m and 0 <= b < n and grid[a][b]:\n",
    "                            c -= 1\n",
    "                    res += c\n",
    "        return res"
   ]
  }
 ],
 "metadata": {
  "kernelspec": {
   "display_name": "base",
   "language": "python",
   "name": "python3"
  },
  "language_info": {
   "codemirror_mode": {
    "name": "ipython",
    "version": 3
   },
   "file_extension": ".py",
   "mimetype": "text/x-python",
   "name": "python",
   "nbconvert_exporter": "python",
   "pygments_lexer": "ipython3",
   "version": "3.11.3"
  },
  "orig_nbformat": 4
 },
 "nbformat": 4,
 "nbformat_minor": 2
}
