{
 "cells": [
  {
   "cell_type": "markdown",
   "metadata": {},
   "source": [
    "Dijkstra 算法模板及应用\n",
    "\n",
    "https://labuladong.github.io/algo/di-yi-zhan-da78c/shou-ba-sh-03a72/dijkstra-s-6d0b2/"
   ]
  },
  {
   "cell_type": "markdown",
   "metadata": {},
   "source": [
    "<img src=\"Dijkstra.png\" style=\"zoom:50%\" />"
   ]
  },
  {
   "cell_type": "code",
   "execution_count": null,
   "metadata": {},
   "outputs": [],
   "source": [
    "# 二叉树层级遍历\n",
    "class TreeNode:\n",
    "    def __init__(self, val) -> None:\n",
    "        self.val = val\n",
    "        self.left = None\n",
    "        self.right = None\n",
    "\n",
    "def levelTraverse(root: TreeNode):\n",
    "    if not root:\n",
    "        return\n",
    "    q = [root]\n",
    "    depth = 1\n",
    "    while q:\n",
    "        for _ in range(len(q)):\n",
    "            cur = q.pop(0)\n",
    "            if cur.left:\n",
    "                q.append(cur.left)\n",
    "            if cur.right:\n",
    "                q.append(cur.right)\n",
    "            depth += 1"
   ]
  },
  {
   "cell_type": "code",
   "execution_count": null,
   "metadata": {},
   "outputs": [],
   "source": [
    "# 多叉树的层序遍历\n",
    "class TreeNode:\n",
    "    def __init__(self, val) -> None:\n",
    "        self.val = val\n",
    "        self.children = []\n",
    "\n",
    "def levelTraverse(root: TreeNode):\n",
    "    if not root:\n",
    "        return\n",
    "    q = [root]\n",
    "    depth = 1\n",
    "    while q:\n",
    "        for _ in range(len(q)):\n",
    "            cur = q.pop(0)\n",
    "            for child in cur.children:\n",
    "                q.append(child)\n",
    "        depth += 1"
   ]
  },
  {
   "cell_type": "code",
   "execution_count": null,
   "metadata": {},
   "outputs": [],
   "source": [
    "# BFS\n",
    "class Node:\n",
    "    def __init__(self, val) -> None:\n",
    "        self.val = val\n",
    "        self.adj = None\n",
    "\n",
    "def BFS(start: Node) -> int:\n",
    "    q = [start]\n",
    "    visited = {start}\n",
    "    step = 0\n",
    "    while q:\n",
    "        for _ in range(len(q)):\n",
    "            cur = q.pop(0)\n",
    "            for w in cur.adj:\n",
    "                if w not in visited:\n",
    "                    q.append(w)\n",
    "                    visited.add(w)\n",
    "        step += 1"
   ]
  },
  {
   "cell_type": "code",
   "execution_count": 7,
   "metadata": {},
   "outputs": [
    {
     "data": {
      "text/plain": [
       "set"
      ]
     },
     "execution_count": 7,
     "metadata": {},
     "output_type": "execute_result"
    }
   ],
   "source": [
    "v = {'a'}\n",
    "type(v)"
   ]
  },
  {
   "cell_type": "code",
   "execution_count": null,
   "metadata": {},
   "outputs": [],
   "source": [
    "# 二叉树层级遍历\n",
    "# 去掉 for 的同时维护 depth 变量\n",
    "class TreeNode:\n",
    "    def __init__(self, val) -> None:\n",
    "        self.val = val\n",
    "        self.left = None\n",
    "        self.right = None\n",
    "\n",
    "\n",
    "class State:\n",
    "    def __init__(self, node: TreeNode, depth: int) -> None:\n",
    "        self.node = node\n",
    "        self.depth = depth\n",
    "\n",
    "def levelTraverse(root: TreeNode):\n",
    "    if not root:\n",
    "        return\n",
    "    q = [State(root, 1)]\n",
    "    while q:\n",
    "        cur = q.pop(0)\n",
    "        cur_node = cur.node\n",
    "        cur_depth = cur.depth\n",
    "        if cur_node.left:\n",
    "            q.append(State(cur_node.left, cur_depth+1))\n",
    "        if cur_node.right:\n",
    "            q.append(State(cur_node.right, cur_depth+1))"
   ]
  },
  {
   "cell_type": "code",
   "execution_count": null,
   "metadata": {},
   "outputs": [],
   "source": [
    "import heapq\n",
    "\n",
    "def weight(fromNode: int, toNode: int) -> int:\n",
    "    pass\n",
    "\n",
    "def adj(s: int) -> list[int]:\n",
    "    pass\n",
    "\n",
    "def dijkstra(start: int, graph: list[list[int]]) -> list[int]:\n",
    "    V = len(graph)\n",
    "    distance = [0]*V # 记录最短路径的权重\n",
    "    for i in range(V):\n",
    "        distance[i] = float('inf')\n",
    "    distance[start] = 0\n",
    "    pq = []\n",
    "    heapq.heappush(pq, (0, start))\n",
    "    while pq:\n",
    "        curNode: tuple[int, int] = heapq.heappop(pq)\n",
    "        curId = curNode[1]\n",
    "        curDist = curNode[0]\n",
    "        if curDist > distance[curId]:\n",
    "            continue\n",
    "        for nextId in adj(curId):\n",
    "            distToNext = distance[curId] + weight(curId, nextId)\n",
    "            if distance[nextId] > distToNext:\n",
    "                distance[nextId] = distToNext\n",
    "                heapq.heappush(pq, (distToNext, nextId))\n",
    "    return distance"
   ]
  },
  {
   "cell_type": "code",
   "execution_count": 2,
   "metadata": {},
   "outputs": [
    {
     "name": "stdout",
     "output_type": "stream",
     "text": [
      "<class 'tuple'>\n"
     ]
    }
   ],
   "source": [
    "import heapq\n",
    "pq = []\n",
    "heapq.heappush(pq, (2, 'c'))\n",
    "heapq.heappush(pq, (3, 'a'))\n",
    "a = heapq.heappop(pq)\n",
    "print(type(a))"
   ]
  },
  {
   "cell_type": "code",
   "execution_count": 4,
   "metadata": {},
   "outputs": [
    {
     "name": "stdout",
     "output_type": "stream",
     "text": [
      "(3, 4)\n"
     ]
    },
    {
     "data": {
      "text/plain": [
       "[[1], [2]]"
      ]
     },
     "execution_count": 4,
     "metadata": {},
     "output_type": "execute_result"
    }
   ],
   "source": [
    "# python 3.9+\n",
    "a : tuple[int, int] = (3, 4)\n",
    "print(a)\n",
    "def fun(a: list) -> list[list[int]]:\n",
    "    return [[1],[2]]\n",
    "fun([1,2,3])"
   ]
  },
  {
   "cell_type": "code",
   "execution_count": null,
   "metadata": {},
   "outputs": [],
   "source": [
    "# 743. 网络延迟时间\n",
    "# https://leetcode.cn/problems/network-delay-time/\n",
    "\n",
    "import heapq\n",
    "from typing import List\n",
    "from typing import Tuple\n",
    "class Solution:\n",
    "    def networkDelayTime(self, times: List[List[int]], n: int, k: int) -> int:\n",
    "        graph = [[] for _ in range(n)]\n",
    "        for edge in times:\n",
    "            fromNode, toNode, weight = edge[0]-1, edge[1]-1, edge[2]\n",
    "            graph[fromNode].append([toNode, weight]) # 创建邻接表\n",
    "        distance = self.dijkstra(graph, k-1) # 创建最短距离表\n",
    "        res = 0\n",
    "        for d in distance:\n",
    "            if d == float('inf'):\n",
    "                return -1\n",
    "            res = max(res, d)\n",
    "        return res\n",
    "\n",
    "    def dijkstra(self, graph: List[List[Tuple[int, int]]], start: int) -> List[int]:\n",
    "        V = len(graph)\n",
    "        distance = [float('inf')]*V\n",
    "        distance[start] = 0\n",
    "        pq = []\n",
    "        heapq.heappush(pq, (0, start)) # 压入结点的 id 和 distance 信息\n",
    "        while pq:\n",
    "            curNode: tuple[int, int] = heapq.heappop(pq)\n",
    "            curId = curNode[1]\n",
    "            curDist = curNode[0]\n",
    "            if curDist > distance[curId]:\n",
    "                continue\n",
    "            for nextId, nextWeight in graph[curId]:\n",
    "                # distNext = curDist + nextWeight 也可以\n",
    "                distNext = distance[curId] + nextWeight\n",
    "                if distNext < distance[nextId]:\n",
    "                    distance[nextId] = distNext\n",
    "                    heapq.heappush(pq, (distNext, nextId))\n",
    "        return distance"
   ]
  },
  {
   "cell_type": "code",
   "execution_count": 4,
   "metadata": {},
   "outputs": [
    {
     "name": "stdout",
     "output_type": "stream",
     "text": [
      "[1, 3]\n"
     ]
    }
   ],
   "source": [
    "def fun(graph):\n",
    "    def adj(s):\n",
    "        nonlocal graph\n",
    "        graph[0] = 1\n",
    "        print(graph)\n",
    "    adj(2)\n",
    "fun([2,3])"
   ]
  },
  {
   "cell_type": "markdown",
   "metadata": {},
   "source": [
    "<img src=\"1631.png\" style=\"zoom:50%\" />"
   ]
  },
  {
   "cell_type": "code",
   "execution_count": 4,
   "metadata": {},
   "outputs": [
    {
     "name": "stdout",
     "output_type": "stream",
     "text": [
      "[[0, 1, 1], [2, 4, 1], [2, 2, 1]]\n"
     ]
    },
    {
     "data": {
      "text/plain": [
       "1"
      ]
     },
     "execution_count": 4,
     "metadata": {},
     "output_type": "execute_result"
    }
   ],
   "source": [
    "# 1631. 最小体力消耗路径\n",
    "# https://leetcode.cn/problems/path-with-minimum-effort/\n",
    "\n",
    "import heapq\n",
    "from typing import List\n",
    "class Solution:\n",
    "    def minimumEffortPath(self, heights: List[List[int]]) -> int:\n",
    "        self.m = len(heights)\n",
    "        self.n = len(heights[0])\n",
    "        distance = self.dijkstra(heights, 0, 0)\n",
    "        print(distance)\n",
    "        return distance[self.m-1][self.n-1]\n",
    "    \n",
    "    def dijkstra(self, graph: List[List[int]], startX: int, startY: int) -> List[List[int]]:\n",
    "        distance = [[float('inf') for _ in range(self.n)] for _ in range(self.m)]\n",
    "        distance[startX][startY] = 0\n",
    "        pq = []\n",
    "        heapq.heappush(pq, (0, startX, startY))\n",
    "        while pq:\n",
    "            curNode = heapq.heappop(pq)\n",
    "            curX = curNode[1]\n",
    "            curY = curNode[2]\n",
    "            curDist = curNode[0]\n",
    "            if curDist > distance[curX][curY]:\n",
    "                continue\n",
    "            for neighbor in self.adj(curX, curY):\n",
    "                nX = neighbor[0]\n",
    "                nY = neighbor[1]\n",
    "                nextDist = max(curDist, abs(graph[nX][nY]-graph[curX][curY])) # 本题特殊之处\n",
    "                if nextDist < distance[nX][nY]:\n",
    "                    distance[nX][nY] = nextDist\n",
    "                    heapq.heappush(pq, (nextDist, nX, nY))\n",
    "        return distance\n",
    "    \n",
    "    # 返回坐标 (x, y) 的上下左右相邻坐标\n",
    "    def adj(self, x: int, y: int) -> List[List[int]]: # 不支持 List[int, int] ，因为 List 类型只接受单个类型作为泛型参数，不能包含多个类型\n",
    "        directions = [[1,0],[-1,0],[0,1],[0,-1]]\n",
    "        neighbors = []\n",
    "        for dx, dy in directions:\n",
    "            nx = x + dx\n",
    "            ny = y + dy\n",
    "            if nx>=self.m or nx<0 or ny>=self.n or ny<0:\n",
    "                continue\n",
    "            neighbors.append([nx, ny])\n",
    "        return neighbors\n",
    "    \n",
    "Solution().minimumEffortPath(heights = [[1,2,3],[3,8,4],[5,3,5]])"
   ]
  },
  {
   "cell_type": "markdown",
   "metadata": {},
   "source": [
    "<img src=\"1631.png\" style=\"zoom:50%\" />"
   ]
  },
  {
   "cell_type": "code",
   "execution_count": 15,
   "metadata": {},
   "outputs": [
    {
     "name": "stdout",
     "output_type": "stream",
     "text": [
      "[[(1, 1), (5, 0)], [(0, 1), (2, 1), (6, 0)], [(1, 1), (3, 0), (7, 0)], [(2, 0), (4, 0), (8, 1)], [(3, 0), (9, 0)], [(0, 0), (6, 1), (10, 0)], [(1, 0), (5, 1), (7, 1), (11, 0)], [(2, 0), (6, 1), (8, 1), (12, 0)], [(3, 1), (7, 1), (9, 1), (13, 0)], [(4, 0), (8, 1), (14, 0)], [(5, 0), (11, 1), (15, 0)], [(6, 0), (10, 1), (12, 1), (16, 0)], [(7, 0), (11, 1), (13, 1), (17, 0)], [(8, 0), (12, 1), (14, 1), (18, 0)], [(9, 0), (13, 1), (19, 0)], [(10, 0), (16, 1), (20, 0)], [(11, 0), (15, 1), (17, 1), (21, 1)], [(12, 0), (16, 1), (18, 1), (22, 0)], [(13, 0), (17, 1), (19, 1), (23, 0)], [(14, 0), (18, 1), (24, 0)], [(15, 0), (21, 0)], [(16, 1), (20, 0), (22, 0)], [(17, 0), (21, 0), (23, 1)], [(18, 0), (22, 1), (24, 1)], [(19, 0), (23, 1)]]\n",
      "[0, 1, 0, 0, 0, 0, 1, 0, 1, 0, 0, 1, 0, 1, 0, 0, 1, 0, 1, 0, 0, 0, 0, 1, 0]\n"
     ]
    },
    {
     "data": {
      "text/plain": [
       "0"
      ]
     },
     "execution_count": 15,
     "metadata": {},
     "output_type": "execute_result"
    }
   ],
   "source": [
    "# 1631. 最小体力消耗路径\n",
    "# https://leetcode.cn/problems/path-with-minimum-effort/\n",
    "\n",
    "# distance 降为一维数组\n",
    "import heapq\n",
    "from typing import List, Tuple\n",
    "class Solution:\n",
    "    def minimumEffortPath(self, heights: List[List[int]]) -> int:\n",
    "        self.m = len(heights)\n",
    "        self.n = len(heights[0])\n",
    "        graph = self.buildGraph(heights)\n",
    "        print(graph)\n",
    "        distance = self.dijkstra(graph, 0)\n",
    "        print(distance)\n",
    "        return distance[self.m*self.n-1]\n",
    "    \n",
    "    def buildGraph(self, heights: List[List[int]]) -> List[List[Tuple[int, int]]]:\n",
    "        graph = [[] for _ in range(self.m*self.n)]\n",
    "        for i in range(self.m):\n",
    "            for j in range(self.n):\n",
    "                prj = i*self.n+j\n",
    "                if i>0:\n",
    "                    graph[prj-self.n].append((prj, abs(heights[i][j]-heights[i-1][j])))\n",
    "                if j>0:\n",
    "                    graph[prj-1].append((prj, abs(heights[i][j]-heights[i][j-1])))\n",
    "                # 不仅要有 → 和 ↓，全方向都要有\n",
    "                if i<self.m-1:\n",
    "                    graph[prj+self.n].append((prj, abs(heights[i+1][j]-heights[i][j])))\n",
    "                if j<self.n-1:\n",
    "                    graph[prj+1].append((prj, abs(heights[i][j+1]-heights[i][j])))\n",
    "        return graph\n",
    "\n",
    "    # distance[i] 是 start 到 i 为最小体力消耗值的路径时的体力消耗值\n",
    "    def dijkstra(self, graph: List[List[Tuple[int, int]]], start: int) -> List[int]:\n",
    "        distance = [float('inf') for _ in range(self.m*self.n)]\n",
    "        distance[start] = 0\n",
    "        pq = []\n",
    "        # heapq.heappush(pq, (0, start): tuple[int, int])\n",
    "        # 无法直接在函数调用中对元组进行类型注解\n",
    "        heapq.heappush(pq, (0, start))\n",
    "        while pq:\n",
    "            curNode = heapq.heappop(pq)\n",
    "            curId = curNode[1]\n",
    "            curDist = curNode[0]\n",
    "            if curDist > distance[curId]:\n",
    "                continue\n",
    "            '''nId1 = curId+self.n\n",
    "            nId2 = curId+1\n",
    "            # if nId1 <= self.m*self.n-1:\n",
    "            if nId1 <= (self.m-1)*self.n+nId1%self.n:\n",
    "                nextDist1 = max(curDist, abs(graph[nId1]-graph[curId]))\n",
    "                if nextDist1 < distance[nId1]:\n",
    "                    distance[nId1] = nextDist1\n",
    "                    heapq.heappush(pq, (nextDist1, nId1))\n",
    "            # if nId2 <= self.m*self.n-1: 比如该实例中2和3其实不挨着\n",
    "            if nId1 <= (self.m-1)*self.n+nId1%self.n and nId2 <= (nId2//self.n)*self.n+self.n-1:\n",
    "                nextDist2 = max(curDist, abs(graph[nId2]-graph[curId]))\n",
    "                if nextDist2 < distance[nId2]:\n",
    "                    distance[nId2] = nextDist2\n",
    "                    heapq.heappush(pq, (nextDist2, nId2))'''\n",
    "            for nId, ab in graph[curId]:\n",
    "                nextDist = max(curDist, ab)\n",
    "                if nextDist < distance[nId]:\n",
    "                    distance[nId] = nextDist\n",
    "                    heapq.heappush(pq, (nextDist, nId))\n",
    "        return distance\n",
    "    \n",
    "Solution().minimumEffortPath(heights = [[1,2,1,1,1],[1,2,1,2,1],[1,2,1,2,1],[1,2,1,2,1],[1,1,1,2,1]])"
   ]
  },
  {
   "cell_type": "code",
   "execution_count": 11,
   "metadata": {},
   "outputs": [
    {
     "data": {
      "text/plain": [
       "tuple"
      ]
     },
     "execution_count": 11,
     "metadata": {},
     "output_type": "execute_result"
    }
   ],
   "source": [
    "s = 'w'\n",
    "def fun(a: tuple[3, s]):\n",
    "    return type(a)\n",
    "fun(a)"
   ]
  },
  {
   "cell_type": "code",
   "execution_count": 5,
   "metadata": {},
   "outputs": [
    {
     "name": "stdout",
     "output_type": "stream",
     "text": [
      "[[False, False, False, False, False, False]]\n"
     ]
    }
   ],
   "source": [
    "graph = [[False for _ in range(2) for _ in range(3)]]\n",
    "print(graph)"
   ]
  },
  {
   "cell_type": "code",
   "execution_count": 6,
   "metadata": {},
   "outputs": [
    {
     "name": "stdout",
     "output_type": "stream",
     "text": [
      "[1, 2, 2, 3, 8, 2, 5, 3, 5]\n"
     ]
    }
   ],
   "source": [
    "heights = [[1,2,2],[3,8,2],[5,3,5]]\n",
    "graph = [0]*9\n",
    "for i in range(len(heights)):\n",
    "    for j in range(len(heights[0])):\n",
    "        prj = i*len(heights[0])+j\n",
    "        graph[prj] = heights[i][j]\n",
    "print(graph)"
   ]
  },
  {
   "cell_type": "code",
   "execution_count": 6,
   "metadata": {},
   "outputs": [
    {
     "name": "stdout",
     "output_type": "stream",
     "text": [
      "[[(1, 1), (3, 2)], [(2, 0), (4, 6)], [(5, 0)], [(4, 5), (6, 2)], [(5, 6), (7, 5)], [(8, 3)], [(7, 2)], [(8, 2)], []]\n"
     ]
    }
   ],
   "source": [
    "heights = [[1,2,2],[3,8,2],[5,3,5]]\n",
    "m = len(heights)\n",
    "n = len(heights[0])\n",
    "graph = [[] for _ in range(m*n)]\n",
    "for i in range(m):\n",
    "    for j in range(n):\n",
    "        prj = i*n+j\n",
    "        if i>0:\n",
    "            graph[prj-n].append((prj, abs(heights[i][j]-heights[i-1][j])))\n",
    "        if j>0:\n",
    "            graph[prj-1].append((prj, abs(heights[i][j]-heights[i][j-1])))\n",
    "print(graph)"
   ]
  },
  {
   "cell_type": "code",
   "execution_count": 13,
   "metadata": {},
   "outputs": [
    {
     "name": "stdout",
     "output_type": "stream",
     "text": [
      "6\n",
      "0\n"
     ]
    }
   ],
   "source": [
    "i = 2\n",
    "j = 0\n",
    "n = 3\n",
    "prj = i*n+j\n",
    "print(prj)\n",
    "x = prj%n\n",
    "print(x)"
   ]
  },
  {
   "cell_type": "code",
   "execution_count": 16,
   "metadata": {},
   "outputs": [],
   "source": [
    "# 1631. 最小体力消耗路径\n",
    "# https://leetcode.cn/problems/path-with-minimum-effort/\n",
    "\n",
    "# 直接设定起点和终点\n",
    "import heapq\n",
    "from typing import List\n",
    "class Solution:\n",
    "    def minimumEffortPath(self, heights: List[List[int]]) -> int:\n",
    "        m = len(heights)\n",
    "        n = len(heights[0])\n",
    "        directions = [[1,0],[-1,0],[0,1],[0,-1]]\n",
    "        distance = [float('inf')]*(m*n)\n",
    "        pq = []\n",
    "        heapq.heappush(pq, (0, 0, 0))\n",
    "        distance[0] = 0\n",
    "        visited = set()\n",
    "\n",
    "        while pq:\n",
    "            curNode = heapq.heappop(pq)\n",
    "            curX = curNode[1]\n",
    "            curY = curNode[2]\n",
    "            curDist = curNode[0]\n",
    "            prj = curX*n+curY\n",
    "            if prj in visited: # 没有此行将无限循环\n",
    "                continue\n",
    "            if curX == m-1 and curY == n-1:\n",
    "                break\n",
    "            visited.add(prj)\n",
    "\n",
    "            if curDist > distance[prj]:\n",
    "                continue\n",
    "            for dx, dy in directions:\n",
    "                nextX = curX + dx\n",
    "                nextY = curY + dy\n",
    "                if 0<=nextX<=m-1 and 0<=nextY<=n-1:\n",
    "                    nextDist = max(curDist, abs(heights[nextX][nextY]-heights[curX][curY]))\n",
    "                    if nextDist < distance[nextX*n+nextY]:\n",
    "                        distance[nextX*n+nextY] = nextDist\n",
    "                        heapq.heappush(pq, (nextDist, nextX, nextY))\n",
    "        return distance[m*n-1]"
   ]
  },
  {
   "cell_type": "code",
   "execution_count": null,
   "metadata": {},
   "outputs": [],
   "source": [
    "# 1514. 概率最大的路径\n",
    "# https://leetcode.cn/problems/path-with-maximum-probability/\n",
    "\n",
    "class Solution:\n",
    "    def maxProbability(self, n: int, edges: List[List[int]], succProb: List[float], start_node: int, end_node: int) -> float:\n",
    "        pass"
   ]
  }
 ],
 "metadata": {
  "kernelspec": {
   "display_name": "base",
   "language": "python",
   "name": "python3"
  },
  "language_info": {
   "codemirror_mode": {
    "name": "ipython",
    "version": 3
   },
   "file_extension": ".py",
   "mimetype": "text/x-python",
   "name": "python",
   "nbconvert_exporter": "python",
   "pygments_lexer": "ipython3",
   "version": "3.11.3"
  },
  "orig_nbformat": 4
 },
 "nbformat": 4,
 "nbformat_minor": 2
}
