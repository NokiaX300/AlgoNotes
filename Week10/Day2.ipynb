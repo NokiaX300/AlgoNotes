{
 "cells": [
  {
   "cell_type": "markdown",
   "metadata": {},
   "source": [
    "名流问题\n",
    "\n",
    "https://labuladong.github.io/algo/di-yi-zhan-da78c/shou-ba-sh-03a72/zhong-li-x-ec564/"
   ]
  },
  {
   "cell_type": "code",
   "execution_count": null,
   "metadata": {},
   "outputs": [],
   "source": [
    "# 名人节点的出度为 0，入度为 n - 1"
   ]
  },
  {
   "cell_type": "markdown",
   "metadata": {},
   "source": [
    "<img src=\"findCelebrity.png\" style=\"zoom:50%\" />"
   ]
  },
  {
   "cell_type": "code",
   "execution_count": null,
   "metadata": {},
   "outputs": [],
   "source": [
    "# 277. 搜寻名人\n",
    "# https://leetcode.cn/problems/find-the-celebrity/\n",
    "\n",
    "# 拍拍脑袋\n",
    "class Solution:\n",
    "    # 能够返回 i 是否认识 j\n",
    "    def knows(self, i: int, j: int) -> bool:\n",
    "        pass\n",
    "\n",
    "    # 返回「名人」的编号\n",
    "    def findCelebrity(self, n: int) -> int:\n",
    "        for i in range(n):\n",
    "            other = 0\n",
    "            while other<n:\n",
    "                if i == other:\n",
    "                    other += 1\n",
    "                    continue\n",
    "                if self.knows(i, other) or not self.knows(other, i):\n",
    "                    break\n",
    "                other += 1\n",
    "            if other == n:\n",
    "                return i\n",
    "        return -1"
   ]
  },
  {
   "cell_type": "code",
   "execution_count": null,
   "metadata": {},
   "outputs": [],
   "source": [
    "# 277. 搜寻名人\n",
    "# https://leetcode.cn/problems/find-the-celebrity/\n",
    "\n",
    "# 优化时间复杂度\n",
    "class Solution:\n",
    "    # 能够返回 i 是否认识 j\n",
    "    def knows(self, i: int, j: int) -> bool:\n",
    "        pass\n",
    "\n",
    "    # 返回「名人」的编号\n",
    "    def findCelebrity(self, n: int) -> int:\n",
    "        q = []\n",
    "        for i in range(n):\n",
    "            q.append(i)\n",
    "        while len(q)>=2:\n",
    "            cand = q.pop(0)\n",
    "            other = q.pop(0)\n",
    "            if self.knows(cand, other) or not self.knows(other, cand):\n",
    "                q.insert(0, other) # cand 不可能是名人，排除，让 other 归队\n",
    "            else:\n",
    "                q.insert(0, cand) # other 不可能是名人，排除，让 cand 归队\n",
    "        \n",
    "        cand = q.pop()\n",
    "        for other in range(n):\n",
    "            if other == cand:\n",
    "                continue\n",
    "            if self.knows(cand, other) or not self.knows(other, cand):\n",
    "                return -1\n",
    "        return cand"
   ]
  },
  {
   "cell_type": "code",
   "execution_count": null,
   "metadata": {},
   "outputs": [],
   "source": [
    "# 277. 搜寻名人\n",
    "# https://leetcode.cn/problems/find-the-celebrity/\n",
    "\n",
    "# 优化空间复杂度\n",
    "class Solution:\n",
    "    # 能够返回 i 是否认识 j\n",
    "    def knows(self, i: int, j: int) -> bool:\n",
    "        pass\n",
    "\n",
    "    # 返回「名人」的编号\n",
    "    def findCelebrity(self, n: int) -> int:\n",
    "        cand = 0\n",
    "        for other in range(1, n):\n",
    "            if self.knows(cand, other) or not self.knows(other, cand):\n",
    "                cand = other\n",
    "        for other in range(n):\n",
    "            if cand == other:\n",
    "                continue\n",
    "            if self.knows(cand, other) or not self.knows(other, cand):\n",
    "                return -1\n",
    "        return cand"
   ]
  }
 ],
 "metadata": {
  "kernelspec": {
   "display_name": "base",
   "language": "python",
   "name": "python3"
  },
  "language_info": {
   "name": "python",
   "version": "3.11.5"
  },
  "orig_nbformat": 4
 },
 "nbformat": 4,
 "nbformat_minor": 2
}
