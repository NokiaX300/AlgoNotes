{
 "cells": [
  {
   "cell_type": "markdown",
   "metadata": {},
   "source": [
    "名流问题\n",
    "\n",
    "https://labuladong.github.io/algo/di-yi-zhan-da78c/shou-ba-sh-03a72/zhong-li-x-ec564/"
   ]
  },
  {
   "cell_type": "code",
   "execution_count": null,
   "metadata": {},
   "outputs": [],
   "source": [
    "# 名人节点的出度为 0，入度为 n - 1"
   ]
  },
  {
   "cell_type": "markdown",
   "metadata": {},
   "source": [
    "<img src=\"findCelebrity.png\" style=\"zoom:50%\" />"
   ]
  },
  {
   "cell_type": "code",
   "execution_count": null,
   "metadata": {},
   "outputs": [],
   "source": [
    "# 277. 搜寻名人\n",
    "# https://leetcode.cn/problems/find-the-celebrity/\n",
    "\n",
    "# 拍拍脑袋\n",
    "class Solution:\n",
    "    # 能够返回 i 是否认识 j\n",
    "    def knows(i: int, j: int) -> bool:\n",
    "        pass\n",
    "\n",
    "    # 返回「名人」的编号\n",
    "    def findCelebrity(n: int) -> int:\n",
    "        pass"
   ]
  }
 ],
 "metadata": {
  "kernelspec": {
   "display_name": "base",
   "language": "python",
   "name": "python3"
  },
  "language_info": {
   "name": "python",
   "version": "3.11.3"
  },
  "orig_nbformat": 4
 },
 "nbformat": 4,
 "nbformat_minor": 2
}
