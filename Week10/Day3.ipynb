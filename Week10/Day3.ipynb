{
 "cells": [
  {
   "cell_type": "markdown",
   "metadata": {},
   "source": [
    "回溯算法解题套路框架\n",
    "\n",
    "https://labuladong.github.io/algo/di-san-zha-24031/bao-li-sou-96f79/hui-su-sua-c26da/"
   ]
  },
  {
   "cell_type": "code",
   "execution_count": null,
   "metadata": {},
   "outputs": [],
   "source": [
    "# DFS 算法，关注点在节点\n",
    "def traverse(root):\n",
    "    if root is None:\n",
    "        return\n",
    "    print(\"进入节点\", root)\n",
    "    for child in root.children:\n",
    "        traverse(child)\n",
    "    print(\"离开节点\", root)\n",
    "\n",
    "# 回溯算法，关注点在树枝\n",
    "def backtrack(root):\n",
    "    if root is None:\n",
    "        return\n",
    "    for child in root.children:\n",
    "        # 做选择\n",
    "        print(\"从\", root, \"到\", child)\n",
    "        backtrack(child)\n",
    "        # 撤销选择\n",
    "        print(\"从\", child, \"到\", root)"
   ]
  },
  {
   "cell_type": "code",
   "execution_count": null,
   "metadata": {},
   "outputs": [],
   "source": [
    "# 46. 全排列\n",
    "# https://leetcode.cn/problems/permutations/\n",
    "\n",
    "from typing import List\n",
    "class Solution:\n",
    "    def permute(self, nums: List[int]) -> List[List[int]]:\n",
    "        self.res = []\n",
    "        self.track = []\n",
    "        self.used = [False]*len(nums)\n",
    "        self.backtrack(nums, self.track, self.used)\n",
    "        return self.res\n",
    "\n",
    "    def backtrack(self, nums: List[int], track: List[int], used: List[bool]):\n",
    "        if len(track) == len(nums):\n",
    "            self.res.append(track.copy())\n",
    "            return\n",
    "        for i in range(len(nums)):\n",
    "            if used[i]:\n",
    "                continue\n",
    "            track.append(nums[i])\n",
    "            used[i] = True\n",
    "            self.backtrack(nums, track, used)\n",
    "            track.pop()\n",
    "            used[i] = False"
   ]
  }
 ],
 "metadata": {
  "kernelspec": {
   "display_name": "base",
   "language": "python",
   "name": "python3"
  },
  "language_info": {
   "name": "python",
   "version": "3.11.3"
  },
  "orig_nbformat": 4
 },
 "nbformat": 4,
 "nbformat_minor": 2
}
