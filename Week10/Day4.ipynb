{
 "cells": [
  {
   "cell_type": "markdown",
   "metadata": {},
   "source": [
    "回溯算法团灭⼦集、排列、组合问题\n",
    "\n",
    "https://labuladong.github.io/algo/di-san-zha-24031/bao-li-sou-96f79/hui-su-sua-56e11/"
   ]
  },
  {
   "cell_type": "markdown",
   "metadata": {},
   "source": [
    "<img src=\"78.png\" style=\"zoom:50%\" />"
   ]
  },
  {
   "cell_type": "code",
   "execution_count": null,
   "metadata": {},
   "outputs": [],
   "source": [
    "# 78. 子集\n",
    "# https://leetcode.cn/problems/subsets/\n",
    "\n",
    "from typing import List\n",
    "class Solution:\n",
    "    def subsets(self, nums: List[int]) -> List[List[int]]:\n",
    "        self.track = []\n",
    "        self.res = []\n",
    "        self.backtrack(nums, 0)\n",
    "        return self.res\n",
    "\n",
    "    def backtrack(self, nums: List[int], start: int) -> None:\n",
    "        self.res.append(self.track.copy())\n",
    "        for i in range(start, len(nums)):\n",
    "            self.track.append(nums[i])\n",
    "            self.backtrack(nums, i+1)\n",
    "            self.track.pop()"
   ]
  }
 ],
 "metadata": {
  "kernelspec": {
   "display_name": "base",
   "language": "python",
   "name": "python3"
  },
  "language_info": {
   "name": "python",
   "version": "3.11.3"
  },
  "orig_nbformat": 4
 },
 "nbformat": 4,
 "nbformat_minor": 2
}
