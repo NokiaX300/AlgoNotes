{
 "cells": [
  {
   "cell_type": "markdown",
   "metadata": {},
   "source": [
    "回溯算法团灭⼦集、排列、组合问题\n",
    "\n",
    "https://labuladong.github.io/algo/di-san-zha-24031/bao-li-sou-96f79/hui-su-sua-56e11/"
   ]
  },
  {
   "cell_type": "markdown",
   "metadata": {},
   "source": [
    "<img src=\"78.png\" style=\"zoom:50%\" />"
   ]
  },
  {
   "cell_type": "code",
   "execution_count": 6,
   "metadata": {},
   "outputs": [
    {
     "data": {
      "text/plain": [
       "[[], [1], [1, 2], [1, 2, 3], [1, 3], [2], [2, 3], [3]]"
      ]
     },
     "execution_count": 6,
     "metadata": {},
     "output_type": "execute_result"
    }
   ],
   "source": [
    "# 78. 子集\n",
    "# https://leetcode.cn/problems/subsets/\n",
    "\n",
    "# for →\n",
    "# start ↓\n",
    "from typing import List\n",
    "class Solution:\n",
    "    def subsets(self, nums: List[int]) -> List[List[int]]:\n",
    "        self.track = []\n",
    "        self.res = []\n",
    "        self.backtrack(nums, 0)\n",
    "        return self.res\n",
    "\n",
    "    def backtrack(self, nums: List[int], start: int) -> None:\n",
    "        self.res.append(self.track.copy())\n",
    "        for i in range(start, len(nums)):\n",
    "            self.track.append(nums[i])\n",
    "            self.backtrack(nums, i+1)\n",
    "            self.track.pop()\n",
    "\n",
    "Solution().subsets([1,2,3])"
   ]
  },
  {
   "cell_type": "code",
   "execution_count": 8,
   "metadata": {},
   "outputs": [
    {
     "data": {
      "text/plain": [
       "[[1, 2], [1, 3], [1, 4], [2, 3], [2, 4], [3, 4]]"
      ]
     },
     "execution_count": 8,
     "metadata": {},
     "output_type": "execute_result"
    }
   ],
   "source": [
    "# 77. 组合\n",
    "# https://leetcode.cn/problems/combinations/\n",
    "\n",
    "class Solution:\n",
    "    def combine(self, n: int, k: int) -> List[List[int]]:\n",
    "        self.res = []\n",
    "        self.track = []\n",
    "        self.backtrack(n, 1, k)\n",
    "        return self.res\n",
    "\n",
    "    def backtrack(self, n: int, start: int, k: int) -> None:\n",
    "        if len(self.track) == k:\n",
    "            self.res.append(self.track.copy())\n",
    "            return\n",
    "        for i in range(start, n+1):\n",
    "            self.track.append(i)\n",
    "            self.backtrack(n, i+1, k)\n",
    "            self.track.pop()\n",
    "\n",
    "Solution().combine(n = 4, k = 2)"
   ]
  },
  {
   "cell_type": "code",
   "execution_count": null,
   "metadata": {},
   "outputs": [],
   "source": [
    "# 90. 子集 II\n",
    "# https://leetcode.cn/problems/subsets-ii/\n",
    "\n",
    "# 需要先进行排序，让相同的元素靠在一起，如果发现 nums[i] == nums[i-1]，则跳过\n",
    "class Solution:\n",
    "    def subsetsWithDup(self, nums: List[int]) -> List[List[int]]:\n",
    "        pass"
   ]
  }
 ],
 "metadata": {
  "kernelspec": {
   "display_name": "base",
   "language": "python",
   "name": "python3"
  },
  "language_info": {
   "codemirror_mode": {
    "name": "ipython",
    "version": 3
   },
   "file_extension": ".py",
   "mimetype": "text/x-python",
   "name": "python",
   "nbconvert_exporter": "python",
   "pygments_lexer": "ipython3",
   "version": "3.11.3"
  },
  "orig_nbformat": 4
 },
 "nbformat": 4,
 "nbformat_minor": 2
}
