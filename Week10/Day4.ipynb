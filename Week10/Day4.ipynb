{
 "cells": [
  {
   "cell_type": "markdown",
   "metadata": {},
   "source": [
    "回溯算法团灭排列、组合问题\n",
    "\n",
    "https://labuladong.github.io/algo/di-san-zha-24031/bao-li-sou-96f79/hui-su-sua-56e11/"
   ]
  },
  {
   "cell_type": "code",
   "execution_count": 15,
   "metadata": {},
   "outputs": [],
   "source": [
    "# 组合问题和子集问题是等价的"
   ]
  },
  {
   "cell_type": "markdown",
   "metadata": {},
   "source": [
    "<img src=\"78.png\" style=\"zoom:50%\" />"
   ]
  },
  {
   "cell_type": "code",
   "execution_count": 6,
   "metadata": {},
   "outputs": [
    {
     "data": {
      "text/plain": [
       "[[], [1], [1, 2], [1, 2, 3], [1, 3], [2], [2, 3], [3]]"
      ]
     },
     "execution_count": 6,
     "metadata": {},
     "output_type": "execute_result"
    }
   ],
   "source": [
    "# 78. 子集\n",
    "# https://leetcode.cn/problems/subsets/\n",
    "\n",
    "# for →\n",
    "# start ↓\n",
    "from typing import List\n",
    "class Solution:\n",
    "    def subsets(self, nums: List[int]) -> List[List[int]]:\n",
    "        self.track = []\n",
    "        self.res = []\n",
    "        self.backtrack(nums, 0)\n",
    "        return self.res\n",
    "\n",
    "    def backtrack(self, nums: List[int], start: int) -> None:\n",
    "        self.res.append(self.track.copy())\n",
    "        for i in range(start, len(nums)):\n",
    "            self.track.append(nums[i])\n",
    "            self.backtrack(nums, i+1)\n",
    "            self.track.pop()\n",
    "\n",
    "Solution().subsets([1,2,3])"
   ]
  },
  {
   "cell_type": "code",
   "execution_count": 8,
   "metadata": {},
   "outputs": [
    {
     "data": {
      "text/plain": [
       "[[1, 2], [1, 3], [1, 4], [2, 3], [2, 4], [3, 4]]"
      ]
     },
     "execution_count": 8,
     "metadata": {},
     "output_type": "execute_result"
    }
   ],
   "source": [
    "# 77. 组合\n",
    "# https://leetcode.cn/problems/combinations/\n",
    "\n",
    "class Solution:\n",
    "    def combine(self, n: int, k: int) -> List[List[int]]:\n",
    "        self.res = []\n",
    "        self.track = []\n",
    "        self.backtrack(n, 1, k)\n",
    "        return self.res\n",
    "\n",
    "    def backtrack(self, n: int, start: int, k: int) -> None:\n",
    "        if len(self.track) == k:\n",
    "            self.res.append(self.track.copy())\n",
    "            return\n",
    "        for i in range(start, n+1):\n",
    "            self.track.append(i)\n",
    "            self.backtrack(n, i+1, k)\n",
    "            self.track.pop()\n",
    "\n",
    "Solution().combine(n = 4, k = 2)"
   ]
  },
  {
   "cell_type": "markdown",
   "metadata": {},
   "source": [
    "<img src=\"90.png\" style=\"zoom:50%\" />"
   ]
  },
  {
   "cell_type": "code",
   "execution_count": null,
   "metadata": {},
   "outputs": [],
   "source": [
    "# 90. 子集 II\n",
    "# https://leetcode.cn/problems/subsets-ii/\n",
    "\n",
    "# 需要先进行排序，让相同的元素靠在一起，如果发现 nums[i] == nums[i-1]，则跳过\n",
    "class Solution:\n",
    "    def subsetsWithDup(self, nums: List[int]) -> List[List[int]]:\n",
    "        nums.sort()\n",
    "        self.res = []\n",
    "        self.track = []\n",
    "        self.backtrack(nums, 0)\n",
    "        return self.res\n",
    "\n",
    "    def backtrack(self, nums: List[int], start: int) -> None:\n",
    "        self.res.append(self.track.copy())\n",
    "        for i in range(start, len(nums)):\n",
    "            # if i>0 and nums[i] == nums[i-1]:\n",
    "            # 确保我们只跳过相同元素的重复组合，而不会跳过相同的元素，比如漏掉[1,2,2]\n",
    "            if i>start and nums[i] == nums[i-1]:\n",
    "                continue\n",
    "            self.track.append(nums[i])\n",
    "            self.backtrack(nums, i+1)\n",
    "            self.track.pop()"
   ]
  },
  {
   "cell_type": "code",
   "execution_count": null,
   "metadata": {},
   "outputs": [],
   "source": [
    "# 40. 组合总和 II\n",
    "# https://leetcode.cn/problems/combination-sum-ii/\n",
    "\n",
    "class Solution:\n",
    "    def combinationSum2(self, candidates: List[int], target: int) -> List[List[int]]:\n",
    "        self.target = target\n",
    "        candidates.sort()\n",
    "        self.res = []\n",
    "        self.track = []\n",
    "        self.backtrack(candidates, 0)\n",
    "        return self.res\n",
    "\n",
    "    def backtrack(self, nums: List[int], start: int) -> None:\n",
    "        if sum(self.track) == self.target:\n",
    "            self.res.append(self.track.copy())\n",
    "        if sum(self.track) > self.target:\n",
    "            return\n",
    "        for i in range(start, len(nums)):\n",
    "            if i>start and nums[i] == nums[i-1]:\n",
    "                continue\n",
    "            self.track.append(nums[i])\n",
    "            self.backtrack(nums, i+1)\n",
    "            self.track.pop()"
   ]
  },
  {
   "cell_type": "code",
   "execution_count": null,
   "metadata": {},
   "outputs": [],
   "source": [
    "# 47. 全排列 II\n",
    "# https://leetcode.cn/problems/permutations-ii/\n",
    "\n",
    "class Solution:\n",
    "    def permuteUnique(self, nums: List[int]) -> List[List[int]]:\n",
    "        nums.sort()\n",
    "        self.res = []\n",
    "        self.track = []\n",
    "        self.used = [False]*len(nums)\n",
    "        self.backtrack(nums)\n",
    "        return self.res\n",
    "\n",
    "    def backtrack(self, nums: List[int]) -> None:\n",
    "        if len(self.track) == len(nums):\n",
    "            self.res.append(self.track.copy())\n",
    "        for i in range(len(nums)):\n",
    "            if self.used[i]:\n",
    "                continue\n",
    "\n",
    "            if i>0 and nums[i] == nums[i-1] and not self.used[i-1]: # 保证相同元素在排列中的相对位置保持不变\n",
    "                continue\n",
    "\n",
    "            self.track.append(nums[i])\n",
    "            self.used[i] = True\n",
    "            self.backtrack(nums)\n",
    "            self.track.pop()\n",
    "            self.used[i] = False"
   ]
  },
  {
   "cell_type": "markdown",
   "metadata": {},
   "source": [
    "<img src=\"39.png\" style=\"zoom:50%\" />"
   ]
  },
  {
   "cell_type": "code",
   "execution_count": null,
   "metadata": {},
   "outputs": [],
   "source": [
    "# 39. 组合总和\n",
    "# https://leetcode.cn/problems/combination-sum/\n",
    "\n",
    "# 如果想让每个元素被重复使用，只要把 i + 1 改成 i 即可\n",
    "class Solution:\n",
    "    def combinationSum(self, candidates: List[int], target: int) -> List[List[int]]:\n",
    "        candidates.sort()\n",
    "        self.target = target\n",
    "        self.res = []\n",
    "        self.track = []\n",
    "        self.backtrack(candidates, 0)\n",
    "        return self.res\n",
    "        \n",
    "    def backtrack(self, nums: List[int], start: int) -> None:\n",
    "        if sum(self.track) == self.target:\n",
    "            self.res.append(self.track.copy())\n",
    "        if sum(self.track) > self.target:\n",
    "            return\n",
    "        for i in range(start, len(nums)):\n",
    "            self.track.append(nums[i])\n",
    "            self.backtrack(nums, i)\n",
    "            self.track.pop()"
   ]
  },
  {
   "cell_type": "code",
   "execution_count": 14,
   "metadata": {},
   "outputs": [
    {
     "data": {
      "text/plain": [
       "[[1, 1, 1],\n",
       " [1, 1, 2],\n",
       " [1, 1, 3],\n",
       " [1, 2, 1],\n",
       " [1, 2, 2],\n",
       " [1, 2, 3],\n",
       " [1, 3, 1],\n",
       " [1, 3, 2],\n",
       " [1, 3, 3],\n",
       " [2, 1, 1],\n",
       " [2, 1, 2],\n",
       " [2, 1, 3],\n",
       " [2, 2, 1],\n",
       " [2, 2, 2],\n",
       " [2, 2, 3],\n",
       " [2, 3, 1],\n",
       " [2, 3, 2],\n",
       " [2, 3, 3],\n",
       " [3, 1, 1],\n",
       " [3, 1, 2],\n",
       " [3, 1, 3],\n",
       " [3, 2, 1],\n",
       " [3, 2, 2],\n",
       " [3, 2, 3],\n",
       " [3, 3, 1],\n",
       " [3, 3, 2],\n",
       " [3, 3, 3]]"
      ]
     },
     "execution_count": 14,
     "metadata": {},
     "output_type": "execute_result"
    }
   ],
   "source": [
    "class Solution:\n",
    "    def permuteRepeat(self, nums: List[int]) -> List[List[int]]:\n",
    "        self.res = []\n",
    "        self.track = []\n",
    "        self.backtrack(nums)\n",
    "        return self.res\n",
    "\n",
    "    def backtrack(self, nums: List[int]) -> None:\n",
    "        if len(self.track) == len(nums):\n",
    "            self.res.append(self.track.copy())\n",
    "            return\n",
    "        for i in range(len(nums)):\n",
    "            self.track.append(nums[i])\n",
    "            self.backtrack(nums)\n",
    "            self.track.pop()\n",
    "\n",
    "Solution().permuteRepeat([1,2,3])"
   ]
  },
  {
   "cell_type": "code",
   "execution_count": 16,
   "metadata": {},
   "outputs": [],
   "source": [
    "nums = [1,2,3]\n",
    "track = []\n",
    "used = [False]*len(nums)"
   ]
  },
  {
   "cell_type": "code",
   "execution_count": 17,
   "metadata": {},
   "outputs": [],
   "source": [
    "# 无重复元素，不可复选\n",
    "\n",
    "# 组合\n",
    "def backtrack(nums: List[int], start: int):\n",
    "    for i in range(start, len(nums)):\n",
    "        track.append(nums[i])\n",
    "        backtrack(nums, i+1)\n",
    "        track.pop()\n",
    "\n",
    "# 排列\n",
    "def backtrack(nums: List[int]):\n",
    "    for i in range(len(nums)):\n",
    "        if used[i]:\n",
    "            continue\n",
    "        track.append(nums[i])\n",
    "        used[i] = True\n",
    "        backtrack(nums)\n",
    "        track.pop()\n",
    "        used[i] = False"
   ]
  },
  {
   "cell_type": "code",
   "execution_count": null,
   "metadata": {},
   "outputs": [],
   "source": [
    "# 有重复元素，不可复选\n",
    "nums.sort()\n",
    "\n",
    "# 组合\n",
    "def backtrack(nums: List[int], start: int):\n",
    "    for i in range(start, len(nums)):\n",
    "        if i>0 and nums[i] == nums[i-1]:\n",
    "            continue\n",
    "        track.append(nums[i])\n",
    "        backtrack(nums, i+1)\n",
    "        track.pop()\n",
    "\n",
    "# 排列\n",
    "def backtrack(nums: List[int]):\n",
    "    for i in range(len(nums)):\n",
    "        if used[i]:\n",
    "            continue\n",
    "        if i>0 and nums[i] == nums[i-1] and not used[i-1]:\n",
    "            continue\n",
    "        track.append(nums[i])\n",
    "        used[i] = True\n",
    "        backtrack(nums)\n",
    "        track.pop()\n",
    "        used[i] = False"
   ]
  }
 ],
 "metadata": {
  "kernelspec": {
   "display_name": "base",
   "language": "python",
   "name": "python3"
  },
  "language_info": {
   "codemirror_mode": {
    "name": "ipython",
    "version": 3
   },
   "file_extension": ".py",
   "mimetype": "text/x-python",
   "name": "python",
   "nbconvert_exporter": "python",
   "pygments_lexer": "ipython3",
   "version": "3.11.3"
  },
  "orig_nbformat": 4
 },
 "nbformat": 4,
 "nbformat_minor": 2
}
