{
 "cells": [
  {
   "cell_type": "markdown",
   "metadata": {},
   "source": [
    "回溯算法实践：集合划分\n",
    "\n",
    "https://labuladong.github.io/algo/di-san-zha-24031/bao-li-sou-96f79/hui-su-sua-a5f2f/"
   ]
  },
  {
   "cell_type": "code",
   "execution_count": 38,
   "metadata": {},
   "outputs": [],
   "source": [
    "# 698. 划分为k个相等的子集\n",
    "# https://leetcode.cn/problems/partition-to-k-equal-sum-subsets/description/\n",
    "\n",
    "from typing import List\n",
    "class Solution:\n",
    "    def canPartitionKSubsets(self, nums: List[int], k: int) -> bool:\n",
    "        if sum(nums)%k != 0:\n",
    "            return False\n",
    "        nums.sort(reverse=True)\n",
    "        self.avr = sum(nums)//k\n",
    "        self.used = [False]*len(nums) # 不使用差集，使用 used 做记录\n",
    "        self.flag = False\n",
    "        self.demo = set() # 降低时间复杂度，不写会超时\n",
    "        self.backtrack(nums, 0, k, [])\n",
    "        return self.flag\n",
    "    \n",
    "    def backtrack(self, nums, start, k, track: List[int]):\n",
    "        if k == 0:\n",
    "            self.flag = True\n",
    "            return\n",
    "        if sum(track) == self.avr:\n",
    "            k -= 1\n",
    "            state = str(self.used) # 神奇储存方式\n",
    "            if state in self.demo: # 发现 self.used 重现，及时止损\n",
    "                return\n",
    "            self.demo.add(state)\n",
    "            self.backtrack(nums, 0, k, []) # 不使用 self.track 因为递归修改后会影响到回溯时的 pop() 环节\n",
    "            \n",
    "        for i in range(start, len(nums)):\n",
    "            if not self.used[i] and sum(track)+nums[i]<=self.avr:\n",
    "                track.append(nums[i])\n",
    "                self.used[i] = True\n",
    "                self.backtrack(nums, i+1, k, track)\n",
    "                track.pop()\n",
    "                self.used[i] = False"
   ]
  },
  {
   "cell_type": "code",
   "execution_count": null,
   "metadata": {},
   "outputs": [],
   "source": [
    "# 差集\n",
    "# C = list(set(A)-set(B))"
   ]
  },
  {
   "cell_type": "code",
   "execution_count": null,
   "metadata": {},
   "outputs": [],
   "source": [
    "# 可以使用全局变量来强制跳出全部递归\n",
    "# 函数开头加：\n",
    "#   if not self.isGo:\n",
    "#       return"
   ]
  },
  {
   "cell_type": "code",
   "execution_count": 34,
   "metadata": {},
   "outputs": [
    {
     "data": {
      "text/plain": [
       "False"
      ]
     },
     "execution_count": 34,
     "metadata": {},
     "output_type": "execute_result"
    }
   ],
   "source": [
    "'''from typing import List\n",
    "class Solution:\n",
    "    def canPartitionKSubsets(self, nums: List[int], k: int) -> bool:\n",
    "        nums.sort(reverse=True)\n",
    "        if sum(nums)%k != 0:\n",
    "            return False\n",
    "        self.avr = sum(nums)//k\n",
    "        self.track = []\n",
    "        self.used = [False]*len(nums)\n",
    "        self.flag = False\n",
    "        self.isGo = True\n",
    "        self.backtrack(nums, 0, k)\n",
    "        return self.flag\n",
    "    \n",
    "    def backtrack(self, nums, start, k):\n",
    "        if not self.isGo:\n",
    "            return\n",
    "        if k == 0:\n",
    "            self.flag = True\n",
    "            return\n",
    "        if sum(self.track) == self.avr:\n",
    "            k -= 1\n",
    "            self.track = []\n",
    "            self.backtrack(nums, 0, k)\n",
    "        for i in range(start, len(nums)):\n",
    "            if not self.used[i] and sum(self.track)+nums[i]<=self.avr:\n",
    "                self.track.append(nums[i])\n",
    "                self.used[i] = True\n",
    "                self.backtrack(nums, i+1, k)\n",
    "                if not self.isGo:\n",
    "                    return\n",
    "                self.track.pop()\n",
    "                self.used[i] = False\n",
    "            if i == len(nums)-1:\n",
    "                self.isGo = False\n",
    "                return\n",
    "\n",
    "Solution().canPartitionKSubsets(nums = [2,2,2,2,3,4,5], k = 4)'''"
   ]
  }
 ],
 "metadata": {
  "kernelspec": {
   "display_name": "base",
   "language": "python",
   "name": "python3"
  },
  "language_info": {
   "codemirror_mode": {
    "name": "ipython",
    "version": 3
   },
   "file_extension": ".py",
   "mimetype": "text/x-python",
   "name": "python",
   "nbconvert_exporter": "python",
   "pygments_lexer": "ipython3",
   "version": "3.11.5"
  },
  "orig_nbformat": 4
 },
 "nbformat": 4,
 "nbformat_minor": 2
}
