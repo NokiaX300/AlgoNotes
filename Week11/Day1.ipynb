{
 "cells": [
  {
   "cell_type": "markdown",
   "metadata": {},
   "source": [
    "如何用 BFS 算法秒杀各种智力题\n",
    "\n",
    "https://labuladong.github.io/algo/di-san-zha-24031/bao-li-sou-96f79/ru-he-yong-7333b/"
   ]
  }
 ],
 "metadata": {
  "kernelspec": {
   "display_name": "base",
   "language": "python",
   "name": "python3"
  },
  "language_info": {
   "name": "python",
   "version": "3.11.3"
  }
 },
 "nbformat": 4,
 "nbformat_minor": 2
}
