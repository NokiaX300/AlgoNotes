{
 "cells": [
  {
   "cell_type": "markdown",
   "metadata": {},
   "source": [
    "如何用 BFS 算法秒杀各种智力题\n",
    "\n",
    "https://labuladong.github.io/algo/di-san-zha-24031/bao-li-sou-96f79/ru-he-yong-7333b/"
   ]
  },
  {
   "cell_type": "code",
   "execution_count": 17,
   "metadata": {},
   "outputs": [
    {
     "data": {
      "text/plain": [
       "1"
      ]
     },
     "execution_count": 17,
     "metadata": {},
     "output_type": "execute_result"
    }
   ],
   "source": [
    "# 773. 滑动谜题\n",
    "# https://leetcode.cn/problems/sliding-puzzle/\n",
    "\n",
    "# BFS 算法并不只是一个寻路算法，而是一种暴力搜索算法\n",
    "class Solution:\n",
    "    def slidingPuzzle(self, board) -> int:\n",
    "        neighbors = [[1, 3], [0, 2, 4], [1, 5], [0, 4], [1, 3, 5], [2, 4]]\n",
    "        target = (1,2,3,4,5,0)\n",
    "        start = tuple([item for subboard in board for item in subboard])\n",
    "        visited = set(start)\n",
    "        q = [start]\n",
    "        step = 0\n",
    "        while q:\n",
    "            for _ in range(len(q)):\n",
    "                cur = q.pop(0)\n",
    "                if cur == target:\n",
    "                    return step\n",
    "                idx = cur.index(0)\n",
    "                for neighbor in neighbors[idx]:\n",
    "                    new_mat = self.swap(cur, idx, neighbor)\n",
    "                    if new_mat not in visited:\n",
    "                        q.append(new_mat)\n",
    "                        visited.add(new_mat)\n",
    "            step += 1\n",
    "        return -1\n",
    "\n",
    "    def swap(self, mat, i, j):\n",
    "        mat = list(mat)\n",
    "        mat[i], mat[j] = mat[j], mat[i]\n",
    "        mat = tuple(mat)\n",
    "        return mat\n",
    "    \n",
    "Solution().slidingPuzzle([[1,2,3],[4,0,5]])"
   ]
  },
  {
   "cell_type": "code",
   "execution_count": 9,
   "metadata": {},
   "outputs": [
    {
     "name": "stdout",
     "output_type": "stream",
     "text": [
      "[1, 2, 3, 2, 4]\n",
      "1\n"
     ]
    }
   ],
   "source": [
    "a = [[1,2,3],[2,4]]\n",
    "start = [item for subboard in a for item in subboard]\n",
    "print(start)\n",
    "print(start.index(2))"
   ]
  },
  {
   "cell_type": "code",
   "execution_count": 16,
   "metadata": {},
   "outputs": [
    {
     "ename": "TypeError",
     "evalue": "unhashable type: 'list'",
     "output_type": "error",
     "traceback": [
      "\u001b[1;31m---------------------------------------------------------------------------\u001b[0m",
      "\u001b[1;31mTypeError\u001b[0m                                 Traceback (most recent call last)",
      "\u001b[1;32ms:\\NokiaX300\\Notes_Python\\Week11\\Day1.ipynb 单元格 4\u001b[0m line \u001b[0;36m2\n\u001b[0;32m      <a href='vscode-notebook-cell:/s%3A/NokiaX300/Notes_Python/Week11/Day1.ipynb#W4sZmlsZQ%3D%3D?line=0'>1</a>\u001b[0m a \u001b[39m=\u001b[39m [\u001b[39m1\u001b[39m,\u001b[39m2\u001b[39m,\u001b[39m3\u001b[39m,\u001b[39m4\u001b[39m]\n\u001b[1;32m----> <a href='vscode-notebook-cell:/s%3A/NokiaX300/Notes_Python/Week11/Day1.ipynb#W4sZmlsZQ%3D%3D?line=1'>2</a>\u001b[0m s \u001b[39m=\u001b[39m \u001b[39mset\u001b[39;49m([a])\n\u001b[0;32m      <a href='vscode-notebook-cell:/s%3A/NokiaX300/Notes_Python/Week11/Day1.ipynb#W4sZmlsZQ%3D%3D?line=2'>3</a>\u001b[0m \u001b[39mprint\u001b[39m(s)\n",
      "\u001b[1;31mTypeError\u001b[0m: unhashable type: 'list'"
     ]
    }
   ],
   "source": [
    "a = [1,2,3,4]\n",
    "s = set([a])\n",
    "print(s)"
   ]
  }
 ],
 "metadata": {
  "kernelspec": {
   "display_name": "base",
   "language": "python",
   "name": "python3"
  },
  "language_info": {
   "codemirror_mode": {
    "name": "ipython",
    "version": 3
   },
   "file_extension": ".py",
   "mimetype": "text/x-python",
   "name": "python",
   "nbconvert_exporter": "python",
   "pygments_lexer": "ipython3",
   "version": "3.11.5"
  }
 },
 "nbformat": 4,
 "nbformat_minor": 2
}
