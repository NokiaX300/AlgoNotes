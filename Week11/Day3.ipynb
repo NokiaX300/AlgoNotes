{
 "cells": [
  {
   "cell_type": "markdown",
   "metadata": {},
   "source": [
    "括号生成\n",
    "\n",
    "https://labuladong.github.io/algo/di-san-zha-24031/bao-li-sou-96f79/hui-su-sua-89170/"
   ]
  },
  {
   "cell_type": "code",
   "execution_count": null,
   "metadata": {},
   "outputs": [],
   "source": [
    "# 22. 括号生成\n",
    "# https://leetcode.cn/problems/generate-parentheses/\n",
    "\n",
    "class Solution:\n",
    "    def generateParenthesis(self, n: int) -> List[str]:\n",
    "        if n == 0:\n",
    "            return []\n",
    "        res = []\n",
    "        track = ''\n",
    "        self.backtrack(n, n, track, res)\n",
    "        return res\n",
    "\n",
    "    def backtrack(self, left, right, track, res):\n",
    "        if right<left:\n",
    "            return\n",
    "        if left<0 or right<0:\n",
    "            return\n",
    "        if left==0 and right==0:\n",
    "            res.append(track)\n",
    "            return\n",
    "        \n",
    "        track += '('\n",
    "        self.backtrack(left-1, right, track, res)\n",
    "        track = track[:-1]\n",
    "\n",
    "        track += ')'\n",
    "        self.backtrack(left, right-1, track, res)\n",
    "        track = track[:-1]"
   ]
  }
 ],
 "metadata": {
  "kernelspec": {
   "display_name": "base",
   "language": "python",
   "name": "python3"
  },
  "language_info": {
   "name": "python",
   "version": "3.11.3"
  }
 },
 "nbformat": 4,
 "nbformat_minor": 2
}
