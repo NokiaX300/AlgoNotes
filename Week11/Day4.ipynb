{
 "cells": [
  {
   "cell_type": "markdown",
   "metadata": {},
   "source": [
    "动态规划解题套路框架\n",
    "\n",
    "https://labuladong.online/algo/essential-technique/dynamic-programming-framework-2/"
   ]
  },
  {
   "cell_type": "code",
   "execution_count": null,
   "metadata": {},
   "outputs": [],
   "source": [
    "# 三要素\n",
    "\n",
    "# 状态转移方程\n",
    "# 最优子结构\n",
    "# 备忘录"
   ]
  },
  {
   "cell_type": "code",
   "execution_count": null,
   "metadata": {},
   "outputs": [],
   "source": [
    "# 记忆化搜索：自顶向下递归，在递归过程中动态存储结果\n",
    "# 动态规划：自底向上迭代，预先分配空间，然后按顺序填充结果"
   ]
  },
  {
   "cell_type": "code",
   "execution_count": null,
   "metadata": {},
   "outputs": [],
   "source": [
    "# 322. 零钱兑换\n",
    "# https://leetcode.cn/problems/coin-change/description/\n",
    "\n",
    "# 记忆化搜索\n",
    "class Solution:\n",
    "    def coinChange(self, coins: List[int], amount: int) -> int:\n",
    "        self.memo = {}\n",
    "        \n",
    "        def dp(amount):\n",
    "            if amount in self.memo:\n",
    "                return self.memo[amount]\n",
    "            if amount<0:\n",
    "                return -1\n",
    "            if amount==0:\n",
    "                return 0\n",
    "            res = float('inf')\n",
    "            for coin in coins:\n",
    "                sub = dp(amount-coin)\n",
    "                if sub == -1:\n",
    "                    continue\n",
    "                res = min(res, sub+1)\n",
    "            self.memo[amount] = res if res != float('inf') else -1\n",
    "            return self.memo[amount]\n",
    "\n",
    "        return dp(amount)"
   ]
  },
  {
   "cell_type": "code",
   "execution_count": null,
   "metadata": {},
   "outputs": [],
   "source": [
    "# 322. 零钱兑换\n",
    "# https://leetcode.cn/problems/coin-change/description/\n",
    "\n",
    "# 记忆化搜索\n",
    "# 完全背包\n",
    "class Solution:\n",
    "    def coinChange(self, coins: List[int], amount: int) -> int:\n",
    "        @cache\n",
    "        def dfs(i, c):\n",
    "            if i<0:\n",
    "                return 0 if c==0 else float('inf')\n",
    "            if c<coins[i]:\n",
    "                return dfs(i-1, c)\n",
    "            return min(dfs(i-1, c), dfs(i, c-coins[i])+1)\n",
    "        res = dfs(len(coins)-1, amount)\n",
    "        return res if res != float('inf') else -1"
   ]
  },
  {
   "cell_type": "code",
   "execution_count": null,
   "metadata": {},
   "outputs": [],
   "source": [
    "# 322. 零钱兑换\n",
    "# https://leetcode.cn/problems/coin-change/description/\n",
    "\n",
    "# 迭代\n",
    "# 完全背包\n",
    "class Solution:\n",
    "    def coinChange(self, coins: List[int], amount: int) -> int:\n",
    "        dp = [float('inf') for _ in range(amount+1)]\n",
    "        dp[0] = 0\n",
    "        for coin in coins:\n",
    "            for i in range(coin, amount+1):\n",
    "                dp[i] = min(dp[i], dp[i-coin]+1)\n",
    "        return dp[amount] if dp[amount] != float('inf') else -1"
   ]
  }
 ],
 "metadata": {
  "kernelspec": {
   "display_name": "base",
   "language": "python",
   "name": "python3"
  },
  "language_info": {
   "name": "python",
   "version": "3.11.5"
  }
 },
 "nbformat": 4,
 "nbformat_minor": 2
}
