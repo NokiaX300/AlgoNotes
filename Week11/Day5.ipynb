{
 "cells": [
  {
   "cell_type": "markdown",
   "metadata": {},
   "source": [
    "base case 和备忘录的初始值怎么定？\n",
    "\n",
    "https://labuladong.online/algo/dynamic-programming/memo-fundamental/"
   ]
  },
  {
   "cell_type": "code",
   "execution_count": null,
   "metadata": {},
   "outputs": [],
   "source": [
    "# 931. 下降路径最小和\n",
    "# https://leetcode.cn/problems/minimum-falling-path-sum/description/\n",
    "\n",
    "class Solution:\n",
    "    def minFallingPathSum(self, matrix: List[List[int]]) -> int:\n",
    "        m = len(matrix)\n",
    "        n = len(matrix[0])\n",
    "        @cache\n",
    "        # 定义为落到 matrix[i][j] 的最小路径和\n",
    "        def dfs(i, j):\n",
    "            if i<0 or j<0 or i>m-1 or j>n-1:\n",
    "                return float('inf')\n",
    "            if i==0:\n",
    "                return matrix[i][j]\n",
    "            return min(dfs(i-1,j-1),dfs(i-1,j),dfs(i-1,j+1))+matrix[i][j]\n",
    "        res = float('inf')\n",
    "        for j in range(n):\n",
    "            res = min(res, dfs(m-1, j))\n",
    "        return res"
   ]
  },
  {
   "cell_type": "code",
   "execution_count": null,
   "metadata": {},
   "outputs": [],
   "source": [
    "# 931. 下降路径最小和\n",
    "# https://leetcode.cn/problems/minimum-falling-path-sum/description/\n",
    "\n",
    "class Solution:\n",
    "    def minFallingPathSum(self, matrix: List[List[int]]) -> int:\n",
    "        n = len(matrix)\n",
    "        # 插入新的两列来避免数组越界\n",
    "        f = [[float('inf')] * (n + 2) for _ in range(n)]\n",
    "        f[0][1: n + 1] = matrix[0]\n",
    "        for r in range(1, n):\n",
    "            for c in range(n):\n",
    "                f[r][c + 1] = min(f[r - 1][c], f[r - 1][c + 1], f[r - 1][c + 2]) + matrix[r][c]\n",
    "        return min(f[-1])"
   ]
  }
 ],
 "metadata": {
  "kernelspec": {
   "display_name": "base",
   "language": "python",
   "name": "python3"
  },
  "language_info": {
   "codemirror_mode": {
    "name": "ipython",
    "version": 3
   },
   "file_extension": ".py",
   "mimetype": "text/x-python",
   "name": "python",
   "nbconvert_exporter": "python",
   "pygments_lexer": "ipython3",
   "version": "3.11.5"
  }
 },
 "nbformat": 4,
 "nbformat_minor": 2
}
