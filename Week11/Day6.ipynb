{
 "cells": [
  {
   "cell_type": "markdown",
   "metadata": {},
   "source": [
    "最优⼦结构和 dp 数组的遍历⽅向怎么定？\n",
    "\n",
    "https://labuladong.online/algo/dynamic-programming/faq-summary/"
   ]
  },
  {
   "cell_type": "code",
   "execution_count": null,
   "metadata": {},
   "outputs": [],
   "source": [
    "# 64. 最小路径和\n",
    "# https://leetcode.cn/problems/minimum-path-sum/description/?envType=study-plan-v2&envId=top-100-liked\n",
    "\n",
    "class Solution:\n",
    "    def minPathSum(self, grid: List[List[int]]) -> int:\n",
    "        @cache\n",
    "        def dfs(i, j):\n",
    "            if i<0 or j<0:\n",
    "                return float('inf')\n",
    "            if i==0 and j==0:\n",
    "                return grid[0][0]\n",
    "            return min(dfs(i-1,j),dfs(i,j-1))+grid[i][j]\n",
    "        m = len(grid)\n",
    "        n = len(grid[0])\n",
    "        return dfs(m-1,n-1)"
   ]
  },
  {
   "cell_type": "code",
   "execution_count": null,
   "metadata": {},
   "outputs": [],
   "source": [
    "# 64. 最小路径和\n",
    "# https://leetcode.cn/problems/minimum-path-sum/description/?envType=study-plan-v2&envId=top-100-liked\n",
    "\n",
    "class Solution:\n",
    "    def minPathSum(self, grid: List[List[int]]) -> int:\n",
    "        m = len(grid)\n",
    "        n = len(grid[0])\n",
    "        dp = [[float('inf')]*n for _ in range(m)]\n",
    "        dp[0][0] = grid[0][0]\n",
    "        # 注意第一行和第一列需要有初始值\n",
    "        for i in range(1, m):\n",
    "            dp[i][0] = dp[i-1][0]+grid[i][0]\n",
    "        for j in range(1, n):\n",
    "            dp[0][j] = dp[0][j-1]+grid[0][j]\n",
    "        for i in range(1, m):\n",
    "            for j in range(1, n):\n",
    "                dp[i][j] = min(dp[i-1][j],dp[i][j-1])+grid[i][j]\n",
    "        return dp[m-1][n-1]"
   ]
  }
 ],
 "metadata": {
  "kernelspec": {
   "display_name": "base",
   "language": "python",
   "name": "python3"
  },
  "language_info": {
   "name": "python",
   "version": "3.11.5"
  }
 },
 "nbformat": 4,
 "nbformat_minor": 2
}
