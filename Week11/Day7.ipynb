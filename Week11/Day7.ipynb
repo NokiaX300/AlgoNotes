{
 "cells": [
  {
   "cell_type": "markdown",
   "metadata": {},
   "source": [
    "算法时空复杂度分析实用指南\n",
    "\n",
    "https://labuladong.online/algo/essential-technique/complexity-analysis/"
   ]
  },
  {
   "cell_type": "code",
   "execution_count": null,
   "metadata": {},
   "outputs": [],
   "source": [
    "# 嵌套循环 O(N^2)\n",
    "for i in range(n):\n",
    "    for j in range(i, -1, -1):\n",
    "        dp[i][j] = ..."
   ]
  },
  {
   "cell_type": "code",
   "execution_count": null,
   "metadata": {},
   "outputs": [],
   "source": [
    "# 双指针 O(N)\n",
    "while right < len(s):\n",
    "    right += 1\n",
    "    while window_needs_shrink(window, need):\n",
    "        left += 1"
   ]
  },
  {
   "cell_type": "code",
   "execution_count": null,
   "metadata": {},
   "outputs": [],
   "source": [
    "# 如果想衡量数据结构类中的某个方法的时间复杂度\n",
    "# 不能简单地看最坏时间复杂度\n",
    "# 而应该看摊还（平均）时间复杂度"
   ]
  },
  {
   "cell_type": "code",
   "execution_count": null,
   "metadata": {},
   "outputs": [],
   "source": [
    "# 最坏情况下复杂度应该是 O(N)\n",
    "# 但它的平均时间复杂度依然为 O(1)\n",
    "from collections import deque\n",
    "class MonotonicQueue:\n",
    "    def __init__(self):\n",
    "        self.q = deque()\n",
    "\n",
    "    def push(self, e: int):\n",
    "        # 将小于 e 的元素全部删除\n",
    "        while self.q and self.q[-1] < e:\n",
    "            self.q.pop()\n",
    "        self.q.append(e)\n",
    "\n",
    "    def pop(self, e: int):\n",
    "        if self.q and self.q[0] == e:\n",
    "            self"
   ]
  },
  {
   "cell_type": "code",
   "execution_count": null,
   "metadata": {},
   "outputs": [],
   "source": [
    "# 计算平均时间复杂度最常用的方法叫做「聚合分析」\n",
    "# N个 push, pop\n",
    "# 每个元素只会入队和出队一次，所以这 N 个操作的总时间复杂度是 O(N)\n",
    "# 平均下来，一次操作的时间复杂度就是 O(N)/N = O(1)"
   ]
  },
  {
   "cell_type": "code",
   "execution_count": null,
   "metadata": {},
   "outputs": [],
   "source": [
    "# 递归算法的时间复杂度 = 递归的次数 x 函数本身的时间复杂度\n",
    "# 递归算法的空间复杂度 = 递归堆栈的深度 + 算法申请的存储空间"
   ]
  },
  {
   "cell_type": "code",
   "execution_count": null,
   "metadata": {},
   "outputs": [],
   "source": [
    "# 递归算法的时间复杂度 = 递归树的节点个数 x 每个节点的时间复杂度\n",
    "# 递归算法的空间复杂度 = 递归树的高度 + 算法申请的存储空间"
   ]
  },
  {
   "cell_type": "markdown",
   "metadata": {},
   "source": [
    "<img src=\"backtrack.png\" style=\"zoom:50%\" />"
   ]
  },
  {
   "cell_type": "code",
   "execution_count": null,
   "metadata": {},
   "outputs": [],
   "source": [
    "# 对于非叶子节点, 会执行 for 循环, 复杂度为 O(N)\n",
    "# 对于叶子节点, 不会执行循环, 但将track中的值拷贝到 res 列表中也需要 O(N) 的时间\n",
    "# 所以 backtrack 函数本身的时间复杂度为 O(N)\n",
    "# 节点总数的上界是 O(N*N!)\n",
    "# 总时间复杂度 = O(N^2 * N!)\n",
    "\n",
    "# 递归深度为递归树的高度 O(N)\n",
    "# 算法需要存储所有全排列的结果, 即需要申请的空间为 O(N*N!)\n",
    "# 总的空间复杂度为 O(N*N!)"
   ]
  }
 ],
 "metadata": {
  "kernelspec": {
   "display_name": "base",
   "language": "python",
   "name": "python3"
  },
  "language_info": {
   "name": "python",
   "version": "3.11.5"
  }
 },
 "nbformat": 4,
 "nbformat_minor": 2
}
