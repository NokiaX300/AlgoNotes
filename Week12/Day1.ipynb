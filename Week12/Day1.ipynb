{
 "cells": [
  {
   "cell_type": "markdown",
   "metadata": {},
   "source": [
    "动态规划设计：最长递增子序列\n",
    "\n",
    "https://labuladong.online/algo/dynamic-programming/longest-increasing-subsequence/"
   ]
  },
  {
   "cell_type": "code",
   "execution_count": null,
   "metadata": {},
   "outputs": [],
   "source": [
    "# 300. 最长递增子序列\n",
    "# https://leetcode.cn/problems/longest-increasing-subsequence/description/?envType=study-plan-v2&envId=top-100-liked\n",
    "\n",
    "class Solution:\n",
    "    def lengthOfLIS(self, nums: List[int]) -> int:\n",
    "        # dfs(i) 表示以 nums[i] 结尾的最长递增子序列的长度\n",
    "        @cache\n",
    "        def dfs(i):\n",
    "            res = 0\n",
    "            for j in range(i):\n",
    "                if nums[j]<nums[i]:\n",
    "                    res = max(res, dfs(j))\n",
    "            return res+1\n",
    "        res = 0\n",
    "        for i in range(len(nums)):\n",
    "            res = max(res, dfs(i))\n",
    "        return res"
   ]
  },
  {
   "cell_type": "code",
   "execution_count": null,
   "metadata": {},
   "outputs": [],
   "source": [
    "# 300. 最长递增子序列\n",
    "# https://leetcode.cn/problems/longest-increasing-subsequence/description/?envType=study-plan-v2&envId=top-100-liked\n",
    "\n",
    "class Solution:\n",
    "    def lengthOfLIS(self, nums: List[int]) -> int:\n",
    "        dp = [0]*len(nums)\n",
    "        for i in range(len(nums)):\n",
    "            for j in range(i):\n",
    "                if nums[i]>nums[j]:\n",
    "                    dp[i] = max(dp[i], dp[j])\n",
    "            dp[i] += 1\n",
    "        return max(dp)"
   ]
  },
  {
   "cell_type": "code",
   "execution_count": null,
   "metadata": {},
   "outputs": [],
   "source": [
    "# 300. 最长递增子序列\n",
    "# https://leetcode.cn/problems/longest-increasing-subsequence/description/?envType=study-plan-v2&envId=top-100-liked\n",
    "\n",
    "class Solution:\n",
    "    def lengthOfLIS(self, nums: List[int]) -> int:\n",
    "        # dfs(i) 表示以 nums[i] 结尾的最长递增子序列的长度\n",
    "        @cache\n",
    "        def dfs(i):\n",
    "            temp = 0\n",
    "            for j in range(i):\n",
    "                if nums[j]<nums[i]:\n",
    "                    temp = max(temp, dfs(j))\n",
    "            return temp+1\n",
    "        res = 0\n",
    "        for i in range(len(nums)):\n",
    "            res = max(res, dfs(i))\n",
    "        return res"
   ]
  },
  {
   "cell_type": "code",
   "execution_count": null,
   "metadata": {},
   "outputs": [],
   "source": [
    "# 354. 俄罗斯套娃信封问题\n",
    "# https://leetcode.cn/problems/russian-doll-envelopes/description/\n",
    "\n",
    "# 相当于在二维平面中找一个最长递增的子序列\n",
    "# 先对宽度 w 进行升序排序\n",
    "# 如果遇到 w 相同的情况, 则按照高度 h 降序排序\n",
    "# 之后把所有的 h 作为一个数组, 在这个数组上计算 LIS 的长度就是答案\n",
    "# 超出时间限制\n",
    "class Solution:\n",
    "    def maxEnvelopes(self, envelopes: List[List[int]]) -> int:\n",
    "        envelopes = sorted(envelopes, key=lambda x:(x[0], -x[1]))\n",
    "        height = [a[1] for a in envelopes]\n",
    "        return self.lengthOfLIS(height)\n",
    "    \n",
    "    def lengthOfLIS(self, height):\n",
    "        # 定义为以 nums[i] 结尾的最长递增子序列的长度\n",
    "        @cache\n",
    "        def dfs(i):\n",
    "            res = 0\n",
    "            for j in range(i):\n",
    "                if height[j]<height[i]:\n",
    "                    res = max(res, dfs(j))\n",
    "            return res+1\n",
    "        s = 0\n",
    "        for i in range(len(height)):\n",
    "            s = max(s, dfs(i))\n",
    "        return s"
   ]
  },
  {
   "cell_type": "markdown",
   "metadata": {},
   "source": [
    "<img src=\"russia.png\" style=\"zoom:50%\" />"
   ]
  },
  {
   "cell_type": "code",
   "execution_count": null,
   "metadata": {},
   "outputs": [],
   "source": [
    "# 354. 俄罗斯套娃信封问题\n",
    "# https://leetcode.cn/problems/russian-doll-envelopes/description/\n",
    "\n",
    "# 保证它始终是当前长度下的最优子序列（尽可能小的结尾元素）\n",
    "import bisect\n",
    "class Solution:\n",
    "    def maxEnvelopes(self, envelopes: List[List[int]]) -> int:\n",
    "        envelopes = sorted(envelopes, key=lambda x:(x[0], -x[1]))\n",
    "        height = [a[1] for a in envelopes]\n",
    "        return self.lengthOfLIS(height)\n",
    "    \n",
    "    def lengthOfLIS(self, height):\n",
    "        lst = []\n",
    "        for h in height:\n",
    "            ind = bisect.bisect_left(lst, h)\n",
    "            if ind>=len(lst):\n",
    "                lst.append(h)\n",
    "            else:\n",
    "                lst[ind] = h\n",
    "        return len(lst)"
   ]
  }
 ],
 "metadata": {
  "kernelspec": {
   "display_name": "base",
   "language": "python",
   "name": "python3"
  },
  "language_info": {
   "name": "python",
   "version": "3.11.5"
  }
 },
 "nbformat": 4,
 "nbformat_minor": 2
}
