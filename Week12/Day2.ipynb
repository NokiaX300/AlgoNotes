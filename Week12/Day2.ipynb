{
 "cells": [
  {
   "cell_type": "markdown",
   "metadata": {},
   "source": [
    "最⼤⼦数组和问题\n",
    "\n",
    "https://labuladong.online/algo/dynamic-programming/maximum-subarray/"
   ]
  },
  {
   "cell_type": "code",
   "execution_count": null,
   "metadata": {},
   "outputs": [],
   "source": [
    "# 53. 最大子数组和\n",
    "# https://leetcode.cn/problems/maximum-subarray/description/\n",
    "\n",
    "# 前缀和\n",
    "class Solution:\n",
    "    def maxSubArray(self, nums: List[int]) -> int:\n",
    "        min_summ = 0\n",
    "        summ = 0\n",
    "        res = -float('inf')\n",
    "        for num in nums:\n",
    "            summ += num\n",
    "            res = max(res, summ-min_summ)\n",
    "            min_summ = min(min_summ, summ)\n",
    "        return res"
   ]
  },
  {
   "cell_type": "code",
   "execution_count": null,
   "metadata": {},
   "outputs": [],
   "source": [
    "# 53. 最大子数组和\n",
    "# https://leetcode.cn/problems/maximum-subarray/description/\n",
    "\n",
    "# 定义为以 nums[i] 为结尾的「最⼤⼦数组和」\n",
    "class Solution:\n",
    "    def maxSubArray(self, nums: List[int]) -> int:\n",
    "        n = len(nums)\n",
    "        dp = [-float('inf')]*n\n",
    "        dp[0] = nums[0]\n",
    "        for i in range(1, n):\n",
    "            # 如果 nums[i] 左边的子数组元素和是负的, 就不用和左边的子数组拼在一起了\n",
    "            dp[i] = max(dp[i-1], 0)+nums[i]\n",
    "        return max(dp)"
   ]
  }
 ],
 "metadata": {
  "kernelspec": {
   "display_name": "base",
   "language": "python",
   "name": "python3"
  },
  "language_info": {
   "name": "python",
   "version": "3.11.5"
  }
 },
 "nbformat": 4,
 "nbformat_minor": 2
}
