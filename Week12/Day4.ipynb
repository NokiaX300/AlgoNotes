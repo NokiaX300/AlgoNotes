{
 "cells": [
  {
   "cell_type": "markdown",
   "metadata": {},
   "source": [
    "经典动态规划：最长公共子序列\n",
    "\n",
    "https://labuladong.online/algo/dynamic-programming/longest-common-subsequence/"
   ]
  },
  {
   "cell_type": "code",
   "execution_count": null,
   "metadata": {},
   "outputs": [],
   "source": [
    "# 1143. 最长公共子序列\n",
    "# https://leetcode.cn/problems/longest-common-subsequence/description/?envType=study-plan-v2&envId=top-100-liked\n",
    "\n",
    "class Solution:\n",
    "    def longestCommonSubsequence(self, text1: str, text2: str) -> int:\n",
    "        # dfs(i) 代表前 i, j 个中最长公共子序列\n",
    "        @cache\n",
    "        def dfs(i, j):\n",
    "            if i<0 or j<0:\n",
    "                return 0\n",
    "            if text1[i]==text2[j]:\n",
    "                return dfs(i-1, j-1)+1\n",
    "            return max(dfs(i-1, j), dfs(i, j-1))\n",
    "        return dfs(len(text1)-1, len(text2)-1)"
   ]
  },
  {
   "cell_type": "code",
   "execution_count": null,
   "metadata": {},
   "outputs": [],
   "source": [
    "# 583. 两个字符串的删除操作\n",
    "# https://leetcode.cn/problems/delete-operation-for-two-strings/description/\n",
    "\n",
    "# 简化的编辑距离（没有替换操作）\n",
    "class Solution:\n",
    "    def minDistance(self, word1: str, word2: str) -> int:\n",
    "        # dfs(i, j) 代表使 word1[..i] 和 word2[..j] 相同的最小删除次数\n",
    "        @cache\n",
    "        def dfs(i, j):\n",
    "            if i<0:\n",
    "                return j+1\n",
    "            if j<0:\n",
    "                return i+1\n",
    "            if word1[i]==word2[j]:\n",
    "                return dfs(i-1,j-1)\n",
    "            return min(dfs(i-1,j),dfs(i,j-1))+1\n",
    "        return dfs(len(word1)-1, len(word2)-1)"
   ]
  },
  {
   "cell_type": "code",
   "execution_count": null,
   "metadata": {},
   "outputs": [],
   "source": [
    "# 712. 两个字符串的最小ASCII删除和\n",
    "# https://leetcode.cn/problems/minimum-ascii-delete-sum-for-two-strings/description/\n",
    "\n",
    "class Solution:\n",
    "    def minimumDeleteSum(self, s1: str, s2: str) -> int:\n",
    "        # dfs(i, j) 代表使 s1[..i] 和 s2[..j] 相同的最小删除和\n",
    "        @cache\n",
    "        def dfs(i, j):\n",
    "            if i<0:\n",
    "                return sum(ord(s2[k]) for k in range(j+1))\n",
    "            if j<0:\n",
    "                return sum(ord(s1[k]) for k in range(i+1))\n",
    "            if s1[i]==s2[j]:\n",
    "                return dfs(i-1,j-1)\n",
    "            return min(dfs(i-1,j)+ord(s1[i]),dfs(i,j-1)+ord(s2[j]))\n",
    "        return dfs(len(s1)-1, len(s2)-1)"
   ]
  }
 ],
 "metadata": {
  "kernelspec": {
   "display_name": "base",
   "language": "python",
   "name": "python3"
  },
  "language_info": {
   "name": "python",
   "version": "3.11.5"
  }
 },
 "nbformat": 4,
 "nbformat_minor": 2
}
