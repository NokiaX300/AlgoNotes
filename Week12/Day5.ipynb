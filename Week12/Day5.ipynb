{
 "cells": [
  {
   "cell_type": "markdown",
   "metadata": {},
   "source": [
    "经典动态规划：正则表达式\n",
    "\n",
    "https://labuladong.online/algo/dynamic-programming/regular-expression-matching/#main-content"
   ]
  },
  {
   "cell_type": "code",
   "execution_count": null,
   "metadata": {},
   "outputs": [],
   "source": [
    "# 10. 正则表达式匹配\n",
    "# https://leetcode.cn/problems/regular-expression-matching/description/\n",
    "\n",
    "# flix神\n",
    "class Solution:\n",
    "    def isMatch(self, s: str, p: str) -> bool:\n",
    "        m, n = len(s), len(p)\n",
    "        dp = [[False] * (n+1) for _ in range(m+1)]\n",
    "        dp[0][0] = True\n",
    "        for j in range(1, n+1):\n",
    "            if p[j-1] == '*':\n",
    "                dp[0][j] = dp[0][j-2]\n",
    "        for i in range(1, m+1):\n",
    "            for j in range(1, n+1):\n",
    "                if s[i-1] == p[j-1] or p[j-1] == '.':\n",
    "                    dp[i][j] = dp[i-1][j-1]\n",
    "                elif p[j-1] == '*':\n",
    "                    # 题目保证'*'号不会是第一个字符，所以此处有 j>=2\n",
    "                    if s[i-1] != p[j-2] and p[j-2] != '.':\n",
    "                        # 忽略 '*' 和它前面的字符\n",
    "                        dp[i][j] = dp[i][j-2]\n",
    "                    else:\n",
    "                        # dp[i][j-2]：处理 * 表示前面的字符出现零次的情况\n",
    "                        # dp[i-1][j]：处理 * 表示前面的字符出现一次或多次的情况\n",
    "                        # 注意 * 可以表示前面的字符出现零次!!!（见后面例子）\n",
    "                        dp[i][j] = dp[i][j-2] | dp[i-1][j]\n",
    "        return dp[m][n]"
   ]
  },
  {
   "cell_type": "code",
   "execution_count": null,
   "metadata": {},
   "outputs": [],
   "source": [
    "# 匹配成功!\n",
    "s = \"aaa\"\n",
    "p = \"ab*a*c*a\""
   ]
  }
 ],
 "metadata": {
  "kernelspec": {
   "display_name": "base",
   "language": "python",
   "name": "python3"
  },
  "language_info": {
   "name": "python",
   "version": "3.11.5"
  }
 },
 "nbformat": 4,
 "nbformat_minor": 2
}
