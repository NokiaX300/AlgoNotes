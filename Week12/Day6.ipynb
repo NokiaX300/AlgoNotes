{
 "cells": [
  {
   "cell_type": "markdown",
   "metadata": {},
   "source": [
    "0-1 背包问题\n",
    "\n",
    "https://labuladong.online/algo/dynamic-programming/knapsack1/"
   ]
  },
  {
   "cell_type": "code",
   "execution_count": null,
   "metadata": {},
   "outputs": [],
   "source": [
    "# 0-1 背包代表「装进背包」或者「不装进背包」"
   ]
  },
  {
   "cell_type": "code",
   "execution_count": null,
   "metadata": {},
   "outputs": [],
   "source": [
    "# dp[i][c] 定义为在剩余容量为 c 时，从前 i 个物品中得到的最大价值和"
   ]
  },
  {
   "cell_type": "code",
   "execution_count": null,
   "metadata": {},
   "outputs": [],
   "source": [
    "# dp[i][c] = max(dp[i-1][c], dp[i-1][c - w[i]] + v[i])"
   ]
  },
  {
   "cell_type": "code",
   "execution_count": null,
   "metadata": {},
   "outputs": [],
   "source": [
    "# 494. 目标和\n",
    "# https://leetcode.cn/problems/target-sum/description/\n",
    "\n",
    "class Solution:\n",
    "    def __init__(self) -> None:\n",
    "        self.dic = {}\n",
    "        \n",
    "    def findTargetSumWays(self, nums: List[int], target: int) -> int:\n",
    "        if len(nums)==0:\n",
    "            return 0\n",
    "        return self.dp(nums, 0, target)\n",
    "    \n",
    "    def dp(self, nums, i, remain):\n",
    "        if i == len(nums):\n",
    "            if remain == 0:\n",
    "                return 1\n",
    "            return 0\n",
    "        key = (i, remain)\n",
    "        if key in self.dic:\n",
    "            return self.dic[key]\n",
    "        result = self.dp(nums, i+1, remain-nums[i]) + self.dp(nums, i+1, remain+nums[i])\n",
    "        self.dic[key] = result\n",
    "        return result"
   ]
  }
 ],
 "metadata": {
  "kernelspec": {
   "display_name": "base",
   "language": "python",
   "name": "python3"
  },
  "language_info": {
   "name": "python",
   "version": "3.11.5"
  }
 },
 "nbformat": 4,
 "nbformat_minor": 2
}
