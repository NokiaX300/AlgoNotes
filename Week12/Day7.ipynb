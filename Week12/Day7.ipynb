{
 "cells": [
  {
   "cell_type": "markdown",
   "metadata": {},
   "source": [
    "完全背包问题\n",
    "\n",
    "https://labuladong.online/algo/dynamic-programming/knapsack3/"
   ]
  },
  {
   "cell_type": "code",
   "execution_count": null,
   "metadata": {},
   "outputs": [],
   "source": [
    "# 每个物品的数量是无限的"
   ]
  },
  {
   "cell_type": "code",
   "execution_count": null,
   "metadata": {},
   "outputs": [],
   "source": [
    "# 518. 零钱兑换 II\n",
    "# https://leetcode.cn/problems/coin-change-ii/description/\n",
    "\n",
    "# 若只使用 coins 中的前 i 个硬币的面值\n",
    "# 若想凑出金额 j, 有 dp[i][j] 种凑法\n",
    "class Solution:\n",
    "    def change(self, amount: int, coins: List[int]) -> int:\n",
    "        @cache\n",
    "        def dfs(i, c):\n",
    "            if i<0:\n",
    "                if c==0:\n",
    "                    return 1\n",
    "                else:\n",
    "                    return 0\n",
    "            if c<coins[i]:\n",
    "                return dfs(i-1, c)\n",
    "            return dfs(i-1,c)+dfs(i,c-coins[i])\n",
    "        return dfs(len(coins)-1,amount)"
   ]
  }
 ],
 "metadata": {
  "kernelspec": {
   "display_name": "base",
   "language": "python",
   "name": "python3"
  },
  "language_info": {
   "name": "python",
   "version": "3.11.5"
  }
 },
 "nbformat": 4,
 "nbformat_minor": 2
}
