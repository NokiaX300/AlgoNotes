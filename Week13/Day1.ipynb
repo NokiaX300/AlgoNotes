{
 "cells": [
  {
   "cell_type": "markdown",
   "metadata": {},
   "source": [
    "子集背包问题\n",
    "\n",
    "https://labuladong.online/algo/dynamic-programming/knapsack2/"
   ]
  },
  {
   "cell_type": "code",
   "execution_count": null,
   "metadata": {},
   "outputs": [],
   "source": [
    "# 416. 分割等和子集\n",
    "# https://leetcode.cn/problems/partition-equal-subset-sum/?envType=study-plan-v2&envId=top-100-liked\n",
    "\n",
    "# 定义 dfs(i,target) 表示能否从 nums[0] 到 nums[i] 中选出一个和恰好等于 target 的子序列\n",
    "class Solution:\n",
    "    def canPartition(self, nums: List[int]) -> bool:\n",
    "        # 定义 dfs(i,j) 表示能否从 nums[0] 到 nums[i] 中选出一个和恰好等于 j 的子序列\n",
    "        @cache\n",
    "        def dfs(i, target):\n",
    "            if i<0:\n",
    "                return target==0\n",
    "            return target>=nums[i] and dfs(i-1, target-nums[i]) or dfs(i-1, target)\n",
    "        summ = sum(nums)\n",
    "        return summ%2==0 and dfs(len(nums)-1, summ//2)"
   ]
  },
  {
   "cell_type": "code",
   "execution_count": null,
   "metadata": {},
   "outputs": [],
   "source": [
    "# 416. 分割等和子集\n",
    "# https://leetcode.cn/problems/partition-equal-subset-sum/?envType=study-plan-v2&envId=top-100-liked\n",
    "\n",
    "# 定义 dfs(i,target) 表示能否从 nums[0] 到 nums[i] 中选出一个和恰好等于 target 的子序列\n",
    "class Solution:\n",
    "    def canPartition(self, nums: List[int]) -> bool:\n",
    "        s = sum(nums)\n",
    "        if s % 2:\n",
    "            return False\n",
    "        s //= 2\n",
    "        n = len(nums)\n",
    "        f = [[False] * (s + 1) for _ in range(n + 1)]\n",
    "        f[0][0] = True\n",
    "        for i, x in enumerate(nums):\n",
    "            for j in range(s + 1):\n",
    "                f[i + 1][j] = j >= x and f[i][j - x] or f[i][j]\n",
    "        return f[n][s]"
   ]
  }
 ],
 "metadata": {
  "kernelspec": {
   "display_name": "base",
   "language": "python",
   "name": "python3"
  },
  "language_info": {
   "name": "python",
   "version": "3.11.5"
  }
 },
 "nbformat": 4,
 "nbformat_minor": 2
}
