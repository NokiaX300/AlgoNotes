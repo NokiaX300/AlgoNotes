{
 "cells": [
  {
   "cell_type": "markdown",
   "metadata": {},
   "source": [
    "一个方法团灭 LeetCode 股票买卖问题\n",
    "\n",
    "https://labuladong.online/algo/dynamic-programming/stock-problem-summary/"
   ]
  },
  {
   "cell_type": "code",
   "execution_count": null,
   "metadata": {},
   "outputs": [],
   "source": [
    "# dp[i][k][0] = max(dp[i-1][k][0], dp[i-1][k][1] + prices[i])\n",
    "\n",
    "# 解释：今天我没有持有股票，有两种可能，我从这两种可能中求最大利润：\n",
    "# 1、我昨天就没有持有，且截至昨天最大交易次数限制为 k；然后我今天选择 rest，所以我今天还是没有持有，最大交易次数限制依然为 k。\n",
    "# 2、我昨天持有股票，且截至昨天最大交易次数限制为 k；但是今天我 sell 了，所以我今天没有持有股票了，最大交易次数限制依然为 k。"
   ]
  },
  {
   "cell_type": "code",
   "execution_count": null,
   "metadata": {},
   "outputs": [],
   "source": [
    "# dp[i][k][1] = max(dp[i-1][k][1], dp[i-1][k-1][0] - prices[i])\n",
    "\n",
    "# 解释：今天我持有着股票，最大交易次数限制为 k，那么对于昨天来说，有两种可能，我从这两种可能中求最大利润：\n",
    "# 1、我昨天就持有着股票，且截至昨天最大交易次数限制为 k；然后今天选择 rest，所以我今天还持有着股票，最大交易次数限制依然为 k。\n",
    "# 2、我昨天本没有持有，且截至昨天最大交易次数限制为 k - 1；但今天我选择 buy，所以今天我就持有股票了，最大交易次数限制为 k。"
   ]
  },
  {
   "cell_type": "code",
   "execution_count": null,
   "metadata": {},
   "outputs": [],
   "source": [
    "# 188. 买卖股票的最佳时机 IV\n",
    "# https://leetcode.cn/problems/best-time-to-buy-and-sell-stock-iv/description/\n",
    "\n",
    "class Solution:\n",
    "    def maxProfit(self, k: int, prices: List[int]) -> int:\n",
    "        n = len(prices)\n",
    "        @cache\n",
    "        def dfs(i,j,hold):\n",
    "            if j<0:\n",
    "                return -float('inf')\n",
    "            if i<0:\n",
    "                if hold:\n",
    "                    return -float('inf')\n",
    "                else:\n",
    "                    return 0\n",
    "            if hold:\n",
    "                return max(dfs(i-1,j,True), dfs(i-1,j-1,False)-prices[i])\n",
    "            # 买入 + 卖出才算一笔交易, 不是两笔交易\n",
    "            return max(dfs(i-1,j,False), dfs(i-1,j,True)+prices[i])\n",
    "        return dfs(n-1, k, False)"
   ]
  },
  {
   "cell_type": "code",
   "execution_count": null,
   "metadata": {},
   "outputs": [],
   "source": [
    "# 188. 买卖股票的最佳时机 IV\n",
    "# https://leetcode.cn/problems/best-time-to-buy-and-sell-stock-iv/description/\n",
    "\n",
    "class Solution:\n",
    "    def maxProfit(self, k: int, prices: List[int]) -> int:\n",
    "        n = len(prices)\n",
    "        f = [[[-inf] * 2 for _ in range(k + 2)] for _ in range(n + 1)]\n",
    "        for j in range(1, k + 2):\n",
    "            f[0][j][0] = 0\n",
    "        for i, p in enumerate(prices):\n",
    "            for j in range(1, k + 2):\n",
    "                f[i + 1][j][0] = max(f[i][j][0], f[i][j][1] + p)\n",
    "                f[i + 1][j][1] = max(f[i][j][1], f[i][j - 1][0] - p)\n",
    "        return f[-1][-1][0]"
   ]
  }
 ],
 "metadata": {
  "kernelspec": {
   "display_name": "base",
   "language": "python",
   "name": "python3"
  },
  "language_info": {
   "name": "python",
   "version": "3.11.5"
  }
 },
 "nbformat": 4,
 "nbformat_minor": 2
}
