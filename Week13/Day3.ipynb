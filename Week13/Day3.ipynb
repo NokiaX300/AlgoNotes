{
 "cells": [
  {
   "cell_type": "markdown",
   "metadata": {},
   "source": [
    "一个方法团灭 LeetCode 打家劫舍问题\n",
    "\n",
    "https://labuladong.online/algo/dynamic-programming/house-robber/"
   ]
  },
  {
   "cell_type": "code",
   "execution_count": null,
   "metadata": {},
   "outputs": [],
   "source": [
    "# 198. 打家劫舍\n",
    "# https://leetcode.cn/problems/house-robber/?envType=study-plan-v2&envId=top-100-liked\n",
    "\n",
    "from functools import cache\n",
    "class Solution:\n",
    "    def rob(self, nums: List[int]) -> int:\n",
    "        @cache\n",
    "        def dfs(i):\n",
    "            if i<0:\n",
    "                return 0\n",
    "            return max(dfs(i-1), dfs(i-2)+nums[i])\n",
    "        return dfs(len(nums)-1)"
   ]
  },
  {
   "cell_type": "code",
   "execution_count": null,
   "metadata": {},
   "outputs": [],
   "source": [
    "# 198. 打家劫舍\n",
    "# https://leetcode.cn/problems/house-robber/?envType=study-plan-v2&envId=top-100-liked\n",
    "\n",
    "class Solution:\n",
    "    def rob(self, nums: List[int]) -> int:\n",
    "        dp = [0]*(len(nums)+2)\n",
    "        for i,c in enumerate(nums):\n",
    "            # 注意是 dp[i]+c\n",
    "            dp[i+2] = max(dp[i+1], dp[i]+c)\n",
    "        return dp[-1]"
   ]
  },
  {
   "cell_type": "code",
   "execution_count": null,
   "metadata": {},
   "outputs": [],
   "source": [
    "# 213. 打家劫舍 II\n",
    "# https://leetcode.cn/problems/house-robber-ii/\n",
    "\n",
    "class Solution:\n",
    "    def rob(self, nums: List[int]) -> int:\n",
    "        if len(nums) == 1:\n",
    "            return nums[0]\n",
    "        def rob_linear(nums):\n",
    "            @cache\n",
    "            def dfs(i):\n",
    "                if i < 0:\n",
    "                    return 0\n",
    "                return max(dfs(i - 1), dfs(i - 2) + nums[i])\n",
    "            return dfs(len(nums) - 1)        \n",
    "        return max(rob_linear(nums[1:]), rob_linear(nums[:-1]))"
   ]
  }
 ],
 "metadata": {
  "kernelspec": {
   "display_name": "base",
   "language": "python",
   "name": "python3"
  },
  "language_info": {
   "name": "python",
   "version": "3.11.5"
  }
 },
 "nbformat": 4,
 "nbformat_minor": 2
}
