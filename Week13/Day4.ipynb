{
 "cells": [
  {
   "cell_type": "markdown",
   "metadata": {},
   "source": [
    "经典动态规划：博弈问题\n",
    "\n",
    "https://labuladong.online/algo/dynamic-programming/game-theory/"
   ]
  },
  {
   "cell_type": "code",
   "execution_count": null,
   "metadata": {},
   "outputs": [],
   "source": [
    "# 486. 预测赢家\n",
    "# https://leetcode.cn/problems/predict-the-winner/description/\n",
    "\n",
    "class Solution:\n",
    "    def predictTheWinner(self, nums: List[int]) -> bool:"
   ]
  }
 ],
 "metadata": {
  "kernelspec": {
   "display_name": "base",
   "language": "python",
   "name": "python3"
  },
  "language_info": {
   "name": "python",
   "version": "3.11.5"
  }
 },
 "nbformat": 4,
 "nbformat_minor": 2
}
