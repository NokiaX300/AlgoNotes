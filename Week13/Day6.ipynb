{
 "cells": [
  {
   "cell_type": "markdown",
   "metadata": {},
   "source": [
    "经典动态规划：高楼扔鸡蛋\n",
    "\n",
    "https://labuladong.online/algo/dynamic-programming/egg-drop/"
   ]
  },
  {
   "cell_type": "code",
   "execution_count": null,
   "metadata": {},
   "outputs": [],
   "source": [
    "# 当我们从某层楼扔下鸡蛋时，有两种情况：\n",
    "# 鸡蛋碎了，接下来需要在鸡蛋碎的楼层下方进行测试，状态转移为 f(t-1, k-1)，表示剩下 t-1 次操作和 k-1 个鸡蛋能测试的最大楼层数。\n",
    "# 鸡蛋没碎，接下来需要在楼层的上方继续测试，状态转移为 f(t-1, k)，表示剩下 t-1 次操作和 k 个鸡蛋能测试的最大楼层数。\n",
    "# 综合这两种情况，我们得到状态转移方程\n",
    "# f(t,k) = 1 + f(t−1,k−1) + f(t−1,k)\n",
    "# 这个方程表示我们当前这一层的楼层测试，然后加上两种情况的结果。"
   ]
  },
  {
   "cell_type": "code",
   "execution_count": null,
   "metadata": {},
   "outputs": [],
   "source": [
    "# 887. 鸡蛋掉落\n",
    "# https://leetcode.cn/problems/super-egg-drop/description/\n",
    "\n",
    "# 官解 3\n",
    "class Solution:\n",
    "    def superEggDrop(self, k: int, n: int) -> int:\n",
    "        if n==1:\n",
    "            return 1\n",
    "        dp = [[0]*(k+1) for _ in range(n+1)]\n",
    "        for i in range(1, k+1):\n",
    "            dp[1][i] = 1\n",
    "        res = -1\n",
    "        for i in range(2, n+1):\n",
    "            for j in range(1, k+1):\n",
    "                dp[i][j] = 1 + dp[i-1][j-1] + dp[i-1][j]\n",
    "            if dp[i][j] >= n:\n",
    "                res = i\n",
    "                break\n",
    "        return res"
   ]
  }
 ],
 "metadata": {
  "kernelspec": {
   "display_name": "base",
   "language": "python",
   "name": "python3"
  },
  "language_info": {
   "name": "python",
   "version": "3.11.5"
  }
 },
 "nbformat": 4,
 "nbformat_minor": 2
}
