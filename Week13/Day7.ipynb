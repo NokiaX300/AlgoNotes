{
 "cells": [
  {
   "cell_type": "markdown",
   "metadata": {},
   "source": [
    "动态规划帮我通关了《魔塔》\n",
    "\n",
    "https://labuladong.online/algo/dynamic-programming/magic-tower/"
   ]
  },
  {
   "cell_type": "code",
   "execution_count": null,
   "metadata": {},
   "outputs": [],
   "source": [
    "# 反向思考\n",
    "# dp[i-1][j-1] 的值由 dp[i][j-1] 和 dp[i-1][j] 确定"
   ]
  },
  {
   "cell_type": "code",
   "execution_count": null,
   "metadata": {},
   "outputs": [],
   "source": [
    "# 174. 地下城游戏\n",
    "# https://leetcode.cn/problems/dungeon-game/description/\n",
    "\n",
    "class Solution:\n",
    "    def calculateMinimumHP(self, dungeon: List[List[int]]) -> int:\n",
    "        m = len(dungeon)\n",
    "        n = len(dungeon[0])\n",
    "        @cache\n",
    "        def dfs(i, j):\n",
    "            if i>m-1 or j>n-1:\n",
    "                return float('inf')\n",
    "            if i==m-1 and j==n-1:\n",
    "                if dungeon[i][j]<0:\n",
    "                    return 1-dungeon[i][j]\n",
    "                else:\n",
    "                    return 1\n",
    "            # 注意路上血量至少为 1\n",
    "            return max(min(dfs(i+1,j),dfs(i,j+1))-dungeon[i][j], 1)\n",
    "        return dfs(0,0)"
   ]
  },
  {
   "cell_type": "code",
   "execution_count": null,
   "metadata": {},
   "outputs": [],
   "source": [
    "# 174. 地下城游戏\n",
    "# https://leetcode.cn/problems/dungeon-game/description/\n",
    "\n",
    "class Solution:\n",
    "    def calculateMinimumHP(self, dungeon: List[List[int]]) -> int:\n",
    "        m = len(dungeon)\n",
    "        n = len(dungeon[0])\n",
    "        # 提前给右边和下边设墙\n",
    "        dp = [[float('inf')]*(n+1) for _ in range(m+1)]\n",
    "        # 用 1 表示骑士从终点离开时的健康需求\n",
    "        dp[m][n-1] = dp[m-1][n] = 1\n",
    "        for i in range(m-1,-1,-1):\n",
    "            for j in range(n-1,-1,-1):\n",
    "                dp[i][j] = max(min(dp[i+1][j],dp[i][j+1])-dungeon[i][j], 1)\n",
    "        return dp[0][0]"
   ]
  }
 ],
 "metadata": {
  "kernelspec": {
   "display_name": "base",
   "language": "python",
   "name": "python3"
  },
  "language_info": {
   "name": "python",
   "version": "3.11.5"
  }
 },
 "nbformat": 4,
 "nbformat_minor": 2
}
