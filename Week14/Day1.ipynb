{
 "cells": [
  {
   "cell_type": "markdown",
   "metadata": {},
   "source": [
    "动态规划帮我通关了《辐射4》\n",
    "\n",
    "https://labuladong.online/algo/dynamic-programming/freedom-trail/"
   ]
  },
  {
   "cell_type": "code",
   "execution_count": null,
   "metadata": {},
   "outputs": [],
   "source": [
    "# 514. 自由之路\n",
    "# https://leetcode.cn/problems/freedom-trail/description/\n",
    "\n",
    "# 灵神\n",
    "class Solution:\n",
    "    def findRotateSteps(self, s: str, t: str) -> int:\n",
    "        s = [ord(c) - ord('a') for c in s]\n",
    "        t = [ord(c) - ord('a') for c in t]\n",
    "        n = len(s)\n",
    "\n",
    "        # 先算出每个字母的最后一次出现的下标\n",
    "        # 由于 s 是环形的，循环结束后的 pos 就刚好是 left[0]\n",
    "        pos = [0] * 26  # 初始值不重要\n",
    "        for i, c in enumerate(s):\n",
    "            pos[c] = i\n",
    "        # 计算每个 s[i] 左边 a-z 的最近下标（左边没有就从 n-1 往左找）\n",
    "        left = [None] * n\n",
    "        for i, c in enumerate(s):\n",
    "            left[i] = pos[:]\n",
    "            pos[c] = i  # 更新下标\n",
    "\n",
    "        # 先算出每个字母的首次出现的下标\n",
    "        # 由于 s 是环形的，循环结束后的 pos 就刚好是 right[n-1]\n",
    "        for i in range(n - 1, -1, -1):\n",
    "            pos[s[i]] = i\n",
    "        # 计算每个 s[i] 右边 a-z 的最近下标（左边没有就从 0 往右找）\n",
    "        right = [None] * n\n",
    "        for i in range(n - 1, -1, -1):\n",
    "            right[i] = pos[:]\n",
    "            pos[s[i]] = i  # 更新下标\n",
    "\n",
    "        @cache  # 缓存装饰器，避免重复计算 dfs 的结果\n",
    "        def dfs(j: int, i: int) -> int:\n",
    "            if j == len(t):\n",
    "                return 0\n",
    "            c = t[j]\n",
    "            if s[i] == c:  # 无需旋转\n",
    "                return dfs(j + 1, i)\n",
    "            # 左边最近 or 右边最近，取最小值\n",
    "            l, r = left[i][c], right[i][c]\n",
    "            return min(dfs(j + 1, l) + (n - l + i if l > i else i - l),\n",
    "                       dfs(j + 1, r) + (n - i + r if r < i else r - i))\n",
    "\n",
    "        return dfs(0, 0) + len(t)"
   ]
  }
 ],
 "metadata": {
  "kernelspec": {
   "display_name": "base",
   "language": "python",
   "name": "python3"
  },
  "language_info": {
   "name": "python",
   "version": "3.11.5"
  }
 },
 "nbformat": 4,
 "nbformat_minor": 2
}
