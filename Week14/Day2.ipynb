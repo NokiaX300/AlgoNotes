{
 "cells": [
  {
   "cell_type": "markdown",
   "metadata": {},
   "source": [
    "旅游省钱大法：加权最短路径\n",
    "\n",
    "https://labuladong.online/algo/dynamic-programming/cheap-travel/"
   ]
  },
  {
   "cell_type": "code",
   "execution_count": null,
   "metadata": {},
   "outputs": [],
   "source": [
    "# 787. K 站中转内最便宜的航班\n",
    "# https://leetcode.cn/problems/cheapest-flights-within-k-stops/description/\n",
    "\n",
    "class Solution:\n",
    "    def findCheapestPrice(self, n: int, flights: List[List[int]], src: int, dst: int, k: int) -> int:\n",
    "        f = [[float(\"inf\")] * n for _ in range(k + 2)]\n",
    "        f[0][src] = 0\n",
    "        for t in range(1, k + 2):\n",
    "            for j, i, cost in flights:\n",
    "                f[t][i] = min(f[t][i], f[t - 1][j] + cost)\n",
    "        \n",
    "        ans = min(f[t][dst] for t in range(1, k + 2))\n",
    "        return -1 if ans == float(\"inf\") else ans"
   ]
  }
 ],
 "metadata": {
  "kernelspec": {
   "display_name": "base",
   "language": "python",
   "name": "python3"
  },
  "language_info": {
   "name": "python",
   "version": "3.11.5"
  }
 },
 "nbformat": 4,
 "nbformat_minor": 2
}
