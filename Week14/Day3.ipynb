{
 "cells": [
  {
   "cell_type": "markdown",
   "metadata": {},
   "source": [
    "谈谈游戏中的随机算法\n",
    "\n",
    "https://labuladong.online/algo/frequency-interview/random-algorithm/"
   ]
  },
  {
   "cell_type": "code",
   "execution_count": null,
   "metadata": {},
   "outputs": [],
   "source": [
    "# 洗牌算法"
   ]
  },
  {
   "cell_type": "code",
   "execution_count": null,
   "metadata": {},
   "outputs": [],
   "source": [
    "# 384. 打乱数组\n",
    "# https://leetcode.cn/problems/shuffle-an-array/description/\n",
    "\n",
    "import random\n",
    "class Solution:\n",
    "    def __init__(self, nums: List[int]):\n",
    "        self.nums = nums\n",
    "        self.original = nums.copy()\n",
    "\n",
    "    def reset(self) -> List[int]:\n",
    "        self.nums = self.original.copy()\n",
    "        return self.nums\n",
    "\n",
    "    def shuffle(self) -> List[int]:\n",
    "        for i in range(len(self.nums)):\n",
    "            # random.randrange(start, stop): 从给定的范围中生成一个随机整数, 不包含 stop\n",
    "            j = random.randrange(i, len(self.nums))\n",
    "            self.nums[i],self.nums[j] = self.nums[j],self.nums[i]\n",
    "        return self.nums"
   ]
  },
  {
   "cell_type": "code",
   "execution_count": null,
   "metadata": {},
   "outputs": [],
   "source": [
    "# ⽔塘抽样算法"
   ]
  },
  {
   "cell_type": "code",
   "execution_count": null,
   "metadata": {},
   "outputs": [],
   "source": [
    "# 当你遇到第 i 个元素时, 应该有 1/i 的概率选择该元素, 1 - 1/i 的概率保持原有的选择\n",
    "\n",
    "import random\n",
    "class ListNode:\n",
    "    def __init__(self, val=0, next=None):\n",
    "        self.val = val\n",
    "        self.next = next\n",
    "\n",
    "\n",
    "def getRandom(head: ListNode) -> int:\n",
    "    i = 0\n",
    "    res = 0\n",
    "    p = head\n",
    "    while p is not None:\n",
    "        i += 1\n",
    "        # 生成一个 [0, i) 之间的整数\n",
    "        # 这个整数等于 0 的概率就是 1/i\n",
    "        if random.randint(0, i - 1) == 0:\n",
    "            res = p.val\n",
    "        p = p.next\n",
    "    return res"
   ]
  },
  {
   "cell_type": "code",
   "execution_count": null,
   "metadata": {},
   "outputs": [],
   "source": [
    "# 蒙特卡洛验证法"
   ]
  },
  {
   "cell_type": "markdown",
   "metadata": {},
   "source": [
    "<img src=\"sample.png\" style=\"zoom:50%\" />"
   ]
  },
  {
   "cell_type": "code",
   "execution_count": null,
   "metadata": {},
   "outputs": [],
   "source": [
    "import random\n",
    "def sample(lo, hi, k):\n",
    "    # 在 [lo, hi) 中随机选取 k 个数\n",
    "    return random.sample(range(lo, hi), k)\n",
    "\n",
    "def main():\n",
    "    # 在 [12, 22) 中随机选取 3 个数\n",
    "    lo, hi, k = 12, 22, 3\n",
    "    # 记录每个元素被选中的次数\n",
    "    count = [0] * (hi - lo)\n",
    "    # 重复 10 万次\n",
    "    N = 1000000\n",
    "    for _ in range(N):\n",
    "        res = sample(lo, hi, k)\n",
    "        for elem in res:\n",
    "            # 对随机选取的元素进行记录\n",
    "            count[elem - lo] += 1\n",
    "    print(count)"
   ]
  }
 ],
 "metadata": {
  "kernelspec": {
   "display_name": "base",
   "language": "python",
   "name": "python3"
  },
  "language_info": {
   "name": "python",
   "version": "3.11.5"
  }
 },
 "nbformat": 4,
 "nbformat_minor": 2
}
