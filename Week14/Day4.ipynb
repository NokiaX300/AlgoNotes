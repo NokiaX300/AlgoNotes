{
 "cells": [
  {
   "cell_type": "markdown",
   "metadata": {},
   "source": [
    "如何高效寻找素数\n",
    "\n",
    "https://labuladong.online/algo/frequency-interview/print-prime-number/"
   ]
  },
  {
   "cell_type": "code",
   "execution_count": null,
   "metadata": {},
   "outputs": [],
   "source": [
    "# 判断整数 n 是否是素数\n",
    "def check(n):\n",
    "    for i in range(2, n):\n",
    "        if n%i==0:\n",
    "            return False\n",
    "    return True"
   ]
  },
  {
   "cell_type": "code",
   "execution_count": null,
   "metadata": {},
   "outputs": [],
   "source": [
    "# 204. 计数质数\n",
    "# https://leetcode.cn/problems/count-primes/description/\n",
    "\n",
    "class Solution:\n",
    "    def countPrimes(self, n: int) -> int:\n",
    "        isPrime = [True]*n\n",
    "        for i in range(2, n):\n",
    "            if isPrime[i]:\n",
    "                for j in range(i*i, n, i):\n",
    "                    isPrime[j] = False\n",
    "        res = 0\n",
    "        for i in range(2, n):\n",
    "            if isPrime[i]:\n",
    "                res += 1\n",
    "        return res"
   ]
  }
 ],
 "metadata": {
  "kernelspec": {
   "display_name": "base",
   "language": "python",
   "name": "python3"
  },
  "language_info": {
   "name": "python",
   "version": "3.11.5"
  }
 },
 "nbformat": 4,
 "nbformat_minor": 2
}
