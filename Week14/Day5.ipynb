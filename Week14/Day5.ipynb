{
 "cells": [
  {
   "cell_type": "markdown",
   "metadata": {},
   "source": [
    "讲两道常考的阶乘算法题\n",
    "\n",
    "https://labuladong.online/algo/frequency-interview/factorial-problems/"
   ]
  },
  {
   "cell_type": "code",
   "execution_count": null,
   "metadata": {},
   "outputs": [],
   "source": [
    "# 172. 阶乘后的零\n",
    "# https://leetcode.cn/problems/factorial-trailing-zeroes/description/\n",
    "\n",
    "# 质因子 5 的个数不会大于质因子 2 的个数\n",
    "# n! 中质因子 5 的个数等于 [1,n] 的每个数的质因子 5 的个数之和\n",
    "class Solution:\n",
    "    def trailingZeroes(self, n: int) -> int:\n",
    "        res = 0\n",
    "        for i in range(5, n+1, 5):\n",
    "            while i%5==0:\n",
    "                i //= 5\n",
    "                res += 1\n",
    "        return res"
   ]
  },
  {
   "cell_type": "code",
   "execution_count": null,
   "metadata": {},
   "outputs": [],
   "source": [
    "# 793. 阶乘函数后 K 个零\n",
    "# https://leetcode.cn/problems/preimage-size-of-factorial-zeroes-function/\n",
    "\n",
    "class Solution:\n",
    "    def preimageSizeFZF(self, k: int) -> int:\n",
    "        i, j = 5, 1\n",
    "        while i <= k:\n",
    "            t = j\n",
    "            if i == k:\n",
    "                return 0\n",
    "            while t % 5 == 0:\n",
    "                t //= 5\n",
    "                i += 1\n",
    "                if i == k:\n",
    "                    return 0\n",
    "            i += 6\n",
    "            j += 1\n",
    "        return 5"
   ]
  },
  {
   "cell_type": "code",
   "execution_count": null,
   "metadata": {},
   "outputs": [],
   "source": [
    "# 793. 阶乘函数后 K 个零\n",
    "# https://leetcode.cn/problems/preimage-size-of-factorial-zeroes-function/\n",
    "\n",
    "class Solution:\n",
    "    def preimageSizeFZF(self, k: int) -> int:\n",
    "        def zeta(x):\n",
    "            # 计算阶乘x末尾有多少个0\n",
    "            res = 0\n",
    "            while x > 0:\n",
    "                x //= 5\n",
    "                res += x\n",
    "            return res\n",
    "\n",
    "        # 二分查找范围\n",
    "        left, right = 0, 5 * (k + 1)\n",
    "        \n",
    "        while left <= right:\n",
    "            mid = (left + right) // 2\n",
    "            z = zeta(mid)\n",
    "            if z == k:\n",
    "                return 5\n",
    "            elif z < k:\n",
    "                left = mid + 1\n",
    "            else:\n",
    "                right = mid - 1\n",
    "        return 0"
   ]
  }
 ],
 "metadata": {
  "kernelspec": {
   "display_name": "base",
   "language": "python",
   "name": "python3"
  },
  "language_info": {
   "name": "python",
   "version": "3.11.5"
  }
 },
 "nbformat": 4,
 "nbformat_minor": 2
}
