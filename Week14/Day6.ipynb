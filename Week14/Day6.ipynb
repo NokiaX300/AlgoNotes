{
 "cells": [
  {
   "cell_type": "markdown",
   "metadata": {},
   "source": [
    "老司机加油算法\n",
    "\n",
    "https://labuladong.online/algo/frequency-interview/gas-station-greedy/"
   ]
  },
  {
   "cell_type": "code",
   "execution_count": null,
   "metadata": {},
   "outputs": [],
   "source": [
    "# 134. 加油站\n",
    "# https://leetcode.cn/problems/gas-station/description/\n",
    "\n",
    "class Solution:\n",
    "    def canCompleteCircuit(self, gas: List[int], cost: List[int]) -> int:\n",
    "        n = len(gas)\n",
    "        cur = 0\n",
    "        lowest = 0\n",
    "        # 起始点\n",
    "        start = 0\n",
    "        for i in range(n):\n",
    "            cur += gas[i]-cost[i]\n",
    "            if cur<lowest:\n",
    "                lowest = cur\n",
    "                start = i+1\n",
    "        if cur<0:\n",
    "            return -1\n",
    "        if start==n:\n",
    "            return 0\n",
    "        else:\n",
    "            return start"
   ]
  },
  {
   "cell_type": "markdown",
   "metadata": {},
   "source": [
    "<img src=\"gas.png\" style=\"zoom:50%\" />"
   ]
  },
  {
   "cell_type": "markdown",
   "metadata": {},
   "source": [
    "<img src=\"gas2.png\" style=\"zoom:50%\" />"
   ]
  }
 ],
 "metadata": {
  "kernelspec": {
   "display_name": "base",
   "language": "python",
   "name": "python3"
  },
  "language_info": {
   "name": "python",
   "version": "3.11.5"
  }
 },
 "nbformat": 4,
 "nbformat_minor": 2
}
