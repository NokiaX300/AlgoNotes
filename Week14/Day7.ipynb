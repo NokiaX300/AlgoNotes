{
 "cells": [
  {
   "cell_type": "markdown",
   "metadata": {},
   "source": [
    "如何同时寻找缺失和重复的元素\n",
    "\n",
    "https://labuladong.online/algo/frequency-interview/mismatch-set/"
   ]
  },
  {
   "cell_type": "code",
   "execution_count": null,
   "metadata": {},
   "outputs": [],
   "source": [
    "# 645. 错误的集合\n",
    "# https://leetcode.cn/problems/set-mismatch/description/\n",
    "\n",
    "class Solution:\n",
    "    def findErrorNums(self, nums):\n",
    "        dup = -1\n",
    "        miss = -1\n",
    "        # 第一次遍历：查找重复的数字\n",
    "        for i in range(len(nums)):\n",
    "            # 获取当前数字对应的索引位置\n",
    "            idx = abs(nums[i]) - 1\n",
    "            # 已经访问过该索引位置\n",
    "            if nums[idx] < 0:\n",
    "                dup = idx + 1\n",
    "            nums[idx] = -nums[idx]\n",
    "        # 第二次遍历：查找缺失的数字\n",
    "        for i in range(len(nums)):\n",
    "            if nums[i] > 0 and i + 1 != dup:\n",
    "                miss = i + 1\n",
    "                break\n",
    "        return [dup, miss]"
   ]
  }
 ],
 "metadata": {
  "kernelspec": {
   "display_name": "base",
   "language": "python",
   "name": "python3"
  },
  "language_info": {
   "name": "python",
   "version": "3.11.5"
  }
 },
 "nbformat": 4,
 "nbformat_minor": 2
}
