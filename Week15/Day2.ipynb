{
 "cells": [
  {
   "cell_type": "markdown",
   "metadata": {},
   "source": [
    "一个方法解决三道区间问题\n",
    "\n",
    "https://labuladong.online/algo/practice-in-action/interval-problem-summary/"
   ]
  },
  {
   "cell_type": "code",
   "execution_count": null,
   "metadata": {},
   "outputs": [],
   "source": [
    "# 1288. 删除被覆盖区间\n",
    "# https://leetcode.cn/problems/remove-covered-intervals/description/\n",
    "\n",
    "class Solution:\n",
    "    def removeCoveredIntervals(self, intervals: List[List[int]]) -> int:\n",
    "        res = 0\n",
    "        for in_ in intervals:\n",
    "            for out_ in intervals:\n",
    "                if in_ != out_ and out_[0]<=in_[0] and in_[1]<=out_[1]:\n",
    "                    res += 1\n",
    "                    break\n",
    "        return len(intervals)-res"
   ]
  },
  {
   "cell_type": "code",
   "execution_count": null,
   "metadata": {},
   "outputs": [],
   "source": [
    "# 1288. 删除被覆盖区间\n",
    "# https://leetcode.cn/problems/remove-covered-intervals/description/\n",
    "\n",
    "class Solution:\n",
    "    def removeCoveredIntervals(self, intervals: List[List[int]]) -> int:\n",
    "        res = 0\n",
    "        n = len(intervals)\n",
    "        intervals.sort(key=lambda x:(x[0], -x[1]))\n",
    "        rmax = intervals[0][1]\n",
    "        intervals.pop(0)\n",
    "        for interval in intervals:\n",
    "            if interval[1]<=rmax:\n",
    "                res += 1\n",
    "            else:\n",
    "                rmax = max(rmax, interval[1])\n",
    "        return n-res"
   ]
  },
  {
   "cell_type": "code",
   "execution_count": null,
   "metadata": {},
   "outputs": [],
   "source": [
    "# 56. 合并区间\n",
    "# https://leetcode.cn/problems/merge-intervals/description/\n",
    "\n",
    "# 直接在结果列表修改\n",
    "class Solution:\n",
    "    def merge(self, intervals: List[List[int]]) -> List[List[int]]:\n",
    "        intervals.sort(key=lambda x:x[0])\n",
    "        res = [intervals[0]]\n",
    "        for interval in intervals:\n",
    "            if interval[0]<=res[-1][1]:\n",
    "                res[-1][1] = max(res[-1][1], interval[1])\n",
    "            else:\n",
    "                res.append(interval)\n",
    "        return res"
   ]
  },
  {
   "cell_type": "code",
   "execution_count": null,
   "metadata": {},
   "outputs": [],
   "source": [
    "# 986. 区间列表的交集\n",
    "# https://leetcode.cn/problems/interval-list-intersections/\n",
    "\n",
    "class Solution:\n",
    "    def intervalIntersection(self, firstList: List[List[int]], secondList: List[List[int]]) -> List[List[int]]:\n",
    "        i = 0\n",
    "        j = 0\n",
    "        res = []\n",
    "        while i<len(firstList) and j<len(secondList):\n",
    "            lo = max(firstList[i][0], secondList[j][0])\n",
    "            hi = min(firstList[i][1], secondList[j][1])\n",
    "            if lo<=hi:\n",
    "                res.append([lo, hi])\n",
    "            if firstList[i][1]>=secondList[j][1]:\n",
    "                j += 1\n",
    "            else:\n",
    "                i += 1\n",
    "        return res"
   ]
  }
 ],
 "metadata": {
  "kernelspec": {
   "display_name": "base",
   "language": "python",
   "name": "python3"
  },
  "language_info": {
   "name": "python",
   "version": "3.11.5"
  }
 },
 "nbformat": 4,
 "nbformat_minor": 2
}
