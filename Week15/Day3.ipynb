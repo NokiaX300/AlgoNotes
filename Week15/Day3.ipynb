{
 "cells": [
  {
   "cell_type": "markdown",
   "metadata": {},
   "source": [
    "分治算法详解：运算优先级\n",
    "\n",
    "https://labuladong.online/algo/practice-in-action/divide-and-conquer/"
   ]
  },
  {
   "cell_type": "code",
   "execution_count": null,
   "metadata": {},
   "outputs": [],
   "source": [
    "# 241. 为运算表达式设计优先级\n",
    "# https://leetcode.cn/problems/different-ways-to-add-parentheses/description/\n",
    "\n",
    "# 牛\n",
    "class Solution:\n",
    "    def diffWaysToCompute(self, input: str) -> List[int]:\n",
    "        # 如果只有数字，直接返回\n",
    "        if input.isdigit():\n",
    "            return [int(input)]\n",
    "\n",
    "        res = []\n",
    "        for i, char in enumerate(input):\n",
    "            if char in ['+', '-', '*']:\n",
    "                # 1.分解：遇到运算符，计算左右两侧的结果集\n",
    "                # 2.解决：diffWaysToCompute 递归函数求出子问题的解\n",
    "                left = self.diffWaysToCompute(input[:i])\n",
    "                right = self.diffWaysToCompute(input[i+1:])\n",
    "                # 3.合并：根据运算符合并子问题的解\n",
    "                for l in left:\n",
    "                    for r in right:\n",
    "                        if char == '+':\n",
    "                            res.append(l + r)\n",
    "                        elif char == '-':\n",
    "                            res.append(l - r)\n",
    "                        else:\n",
    "                            res.append(l * r)\n",
    "\n",
    "        return res"
   ]
  }
 ],
 "metadata": {
  "kernelspec": {
   "display_name": "base",
   "language": "python",
   "name": "python3"
  },
  "language_info": {
   "name": "python",
   "version": "3.11.5"
  }
 },
 "nbformat": 4,
 "nbformat_minor": 2
}
