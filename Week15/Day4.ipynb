{
 "cells": [
  {
   "cell_type": "markdown",
   "metadata": {},
   "source": [
    "扫描线技巧：安排会议室\n",
    "\n",
    "https://labuladong.online/algo/frequency-interview/scan-line-technique/"
   ]
  },
  {
   "cell_type": "code",
   "execution_count": null,
   "metadata": {},
   "outputs": [],
   "source": [
    "# 253. 会议室 II\n",
    "# https://leetcode.cn/problems/meeting-rooms-ii/description/\n",
    "\n",
    "def minMeetingRooms(meetings):\n",
    "    n = len(meetings)\n",
    "    begin = [0] * n\n",
    "    end = [0] * n\n",
    "\n",
    "    for i in range(n):\n",
    "        begin[i] = meetings[i][0]\n",
    "        end[i] = meetings[i][1]\n",
    "\n",
    "    begin.sort()\n",
    "    end.sort()\n",
    "\n",
    "    count = 0  # 计数器，记录当前需要的会议室数量\n",
    "    res = 0  # 记录需要的最大会议室数量\n",
    "    i, j = 0, 0  # 双指针，i用于遍历开始时间，j用于遍历结束时间\n",
    "\n",
    "    while i < n and j < n:\n",
    "        if begin[i] < end[j]:\n",
    "            # 有会议开始，增加会议室\n",
    "            count += 1\n",
    "            i += 1\n",
    "        else:\n",
    "            # 有会议结束，释放会议室\n",
    "            count -= 1\n",
    "            j += 1\n",
    "\n",
    "        # 记录需要的最大会议室数量\n",
    "        res = max(res, count)\n",
    "\n",
    "    return res\n"
   ]
  }
 ],
 "metadata": {
  "kernelspec": {
   "display_name": "base",
   "language": "python",
   "name": "python3"
  },
  "language_info": {
   "name": "python",
   "version": "3.11.5"
  }
 },
 "nbformat": 4,
 "nbformat_minor": 2
}
