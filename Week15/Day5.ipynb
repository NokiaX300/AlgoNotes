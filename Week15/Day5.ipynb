{
 "cells": [
  {
   "cell_type": "markdown",
   "metadata": {},
   "source": [
    "剪视频剪出一个贪心算法\n",
    "\n",
    "https://labuladong.online/algo/frequency-interview/cut-video/"
   ]
  },
  {
   "cell_type": "code",
   "execution_count": null,
   "metadata": {},
   "outputs": [],
   "source": [
    "# 1024. 视频拼接\n",
    "# https://leetcode.cn/problems/video-stitching/description/\n",
    "\n",
    "class Solution:\n",
    "    def videoStitching(self, clips: List[List[int]], time: int) -> int:\n",
    "        if time == 0:\n",
    "            return 0\n",
    "        clips.sort(key=lambda x: (x[0], -x[1]))\n",
    "\n",
    "        res = 0  # 记录选择的视频个数\n",
    "        curEnd = 0  # 当前覆盖的最远位置\n",
    "        nextEnd = 0  # 下一个可能的最远覆盖位置\n",
    "        i = 0\n",
    "        n = len(clips)\n",
    "        \n",
    "        while i < n and clips[i][0] <= curEnd:\n",
    "            # 在 res 个视频的区间内贪心选择下一个视频\n",
    "            while i < n and clips[i][0] <= curEnd:\n",
    "                nextEnd = max(nextEnd, clips[i][1])\n",
    "                i += 1\n",
    "            \n",
    "            res += 1  # 找到下一个视频，增加视频片段数\n",
    "            curEnd = nextEnd  # 更新当前覆盖的最远位置\n",
    "            \n",
    "            if curEnd >= time:\n",
    "                # 已经可以拼出区间 [0, T]\n",
    "                return res\n",
    "        \n",
    "        # 无法拼出区间 [0, T]\n",
    "        return -1"
   ]
  }
 ],
 "metadata": {
  "kernelspec": {
   "display_name": "base",
   "language": "python",
   "name": "python3"
  },
  "language_info": {
   "name": "python",
   "version": "3.11.5"
  }
 },
 "nbformat": 4,
 "nbformat_minor": 2
}
