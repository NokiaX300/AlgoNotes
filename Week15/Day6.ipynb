{
 "cells": [
  {
   "cell_type": "markdown",
   "metadata": {},
   "source": [
    "谁能想到，斗地主也能玩出算法\n",
    "\n",
    "https://labuladong.online/algo/practice-in-action/split-array-into-consecutive-subsequences/"
   ]
  },
  {
   "cell_type": "code",
   "execution_count": 12,
   "metadata": {},
   "outputs": [],
   "source": [
    "# 659. 分割数组为连续子序列\n",
    "# https://leetcode.cn/problems/split-array-into-consecutive-subsequences/description/\n",
    "\n",
    "from collections import deque\n",
    "class Solution:\n",
    "    def isPossible(self, nums) -> bool:\n",
    "        st = deque()\n",
    "        for _,c in enumerate(nums):\n",
    "            for _,v in enumerate(st):\n",
    "                if c==v[-1]+1:\n",
    "                    v.append(c)\n",
    "                    break\n",
    "            else:\n",
    "                st.appendleft([c])\n",
    "            # print(st)\n",
    "        for v in st:\n",
    "            if len(v)<3:\n",
    "                return False\n",
    "        return True"
   ]
  },
  {
   "cell_type": "code",
   "execution_count": 13,
   "metadata": {},
   "outputs": [
    {
     "name": "stdout",
     "output_type": "stream",
     "text": [
      "deque([[1]])\n",
      "deque([[1, 2]])\n",
      "deque([[1, 2, 3]])\n",
      "deque([[3], [1, 2, 3]])\n",
      "deque([[3, 4], [1, 2, 3]])\n",
      "deque([[3, 4, 5], [1, 2, 3]])\n"
     ]
    },
    {
     "data": {
      "text/plain": [
       "True"
      ]
     },
     "execution_count": 13,
     "metadata": {},
     "output_type": "execute_result"
    }
   ],
   "source": [
    "Solution().isPossible([1,2,3,3,4,5])"
   ]
  }
 ],
 "metadata": {
  "kernelspec": {
   "display_name": "base",
   "language": "python",
   "name": "python3"
  },
  "language_info": {
   "codemirror_mode": {
    "name": "ipython",
    "version": 3
   },
   "file_extension": ".py",
   "mimetype": "text/x-python",
   "name": "python",
   "nbconvert_exporter": "python",
   "pygments_lexer": "ipython3",
   "version": "3.11.5"
  }
 },
 "nbformat": 4,
 "nbformat_minor": 2
}
