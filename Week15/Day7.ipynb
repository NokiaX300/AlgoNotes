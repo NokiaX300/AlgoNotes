{
 "cells": [
  {
   "cell_type": "markdown",
   "metadata": {},
   "source": [
    "如何判定完美矩形\n",
    "\n",
    "https://labuladong.online/algo/frequency-interview/perfect-rectangle/"
   ]
  },
  {
   "cell_type": "code",
   "execution_count": null,
   "metadata": {},
   "outputs": [],
   "source": [
    "# 391. 完美矩形\n",
    "# https://leetcode.cn/problems/perfect-rectangle/description/\n",
    "\n",
    "# 牛\n",
    "# 叹为观止\n",
    "# https://leetcode.cn/problems/perfect-rectangle/solutions/1105335/ge-lin-gong-shi-shuang-chao-100-by-aijk-h7x6\n",
    "\n",
    "class Solution(object):\n",
    "    def isRectangleCover(self, rectangles):\n",
    "        mx,my,ma,mb = rectangles[0]\n",
    "        s,s1,s2,s3 = 0,0,0,0\n",
    "        for x,y,a,b in rectangles:\n",
    "            mx,my,ma,mb = min(mx,x),min(my,y),max(ma,a),max(mb,b)\n",
    "            x1,x2,y1,y2 = a-x,a*a-x*x,b-y,b*b-y*y\n",
    "            s += x1*y1\n",
    "            s1 += x2*y1\n",
    "            s2 += x1*y2\n",
    "            s3 += x2*y2\n",
    "        return s==(ma-mx)*(mb-my) and s1==(ma*ma-mx*mx)*(mb-my) and s2 == (ma-mx)*(mb*mb-my*my) and s3==(ma*ma-mx*mx)*(mb*mb-my*my)"
   ]
  }
 ],
 "metadata": {
  "kernelspec": {
   "display_name": "base",
   "language": "python",
   "name": "python3"
  },
  "language_info": {
   "name": "python",
   "version": "3.11.5"
  }
 },
 "nbformat": 4,
 "nbformat_minor": 2
}
