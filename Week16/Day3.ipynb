{
 "cells": [
  {
   "cell_type": "markdown",
   "metadata": {},
   "source": [
    "常用的位操作\n",
    "\n",
    "https://labuladong.online/algo/frequency-interview/bitwise-operation/"
   ]
  },
  {
   "cell_type": "code",
   "execution_count": null,
   "metadata": {},
   "outputs": [],
   "source": [
    "# 191. 位1的个数\n",
    "# https://leetcode.cn/problems/number-of-1-bits/description/\n",
    "\n",
    "# n&(n-1) 作用是消除数字 n 的二进制表示中的最后一个 1\n",
    "class Solution:\n",
    "    def hammingWeight(self, n: int) -> int:\n",
    "        res = 0\n",
    "        while n:\n",
    "            n = n&(n-1)\n",
    "            res += 1\n",
    "        return res"
   ]
  },
  {
   "cell_type": "code",
   "execution_count": null,
   "metadata": {},
   "outputs": [],
   "source": [
    "# 231. 2 的幂\n",
    "# https://leetcode.cn/problems/power-of-two/description/\n",
    "\n",
    "# 2 的指数的二进制表示一定只含有一个 1\n",
    "class Solution:\n",
    "    def isPowerOfTwo(self, n: int) -> bool:\n",
    "        if n<=0:\n",
    "            return False\n",
    "        return not n&(n-1)"
   ]
  },
  {
   "cell_type": "code",
   "execution_count": 3,
   "metadata": {},
   "outputs": [
    {
     "name": "stdout",
     "output_type": "stream",
     "text": [
      "6\n",
      "3\n"
     ]
    }
   ],
   "source": [
    "# 先转换为二进制然后异或\n",
    "# 注意 a^0=0, a^a=0\n",
    "print(3^5)\n",
    "print(3^0)"
   ]
  },
  {
   "cell_type": "code",
   "execution_count": null,
   "metadata": {},
   "outputs": [],
   "source": [
    "# 136. 只出现一次的数字\n",
    "# https://leetcode.cn/problems/single-number/description/?envType=study-plan-v2&envId=top-100-liked\n",
    "\n",
    "# 异或运算满足交换律和结合律\n",
    "class Solution:\n",
    "    def singleNumber(self, nums: List[int]) -> int:\n",
    "        res = 0\n",
    "        for num in nums:\n",
    "            res ^= num\n",
    "        return res"
   ]
  },
  {
   "cell_type": "code",
   "execution_count": null,
   "metadata": {},
   "outputs": [],
   "source": [
    "# 268. 丢失的数字\n",
    "# https://leetcode.cn/problems/missing-number/description/\n",
    "\n",
    "class Solution:\n",
    "    def missingNumber(self, nums: List[int]) -> int:\n",
    "        n = len(nums)\n",
    "        res = 0\n",
    "        res ^= n\n",
    "        for i,c in enumerate(nums):\n",
    "            res ^= i ^ c\n",
    "        return res"
   ]
  }
 ],
 "metadata": {
  "kernelspec": {
   "display_name": "base",
   "language": "python",
   "name": "python3"
  },
  "language_info": {
   "codemirror_mode": {
    "name": "ipython",
    "version": 3
   },
   "file_extension": ".py",
   "mimetype": "text/x-python",
   "name": "python",
   "nbconvert_exporter": "python",
   "pygments_lexer": "ipython3",
   "version": "3.11.5"
  }
 },
 "nbformat": 4,
 "nbformat_minor": 2
}
