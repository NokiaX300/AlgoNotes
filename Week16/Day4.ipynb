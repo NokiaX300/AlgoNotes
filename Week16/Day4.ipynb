{
 "cells": [
  {
   "cell_type": "markdown",
   "metadata": {},
   "source": [
    "一文秒杀所有丑数系列问题\n",
    "\n",
    "https://labuladong.online/algo/frequency-interview/ugly-number-summary/"
   ]
  },
  {
   "cell_type": "code",
   "execution_count": null,
   "metadata": {},
   "outputs": [],
   "source": [
    "# 263. 丑数\n",
    "# https://leetcode.cn/problems/ugly-number/description/\n",
    "\n",
    "class Solution:\n",
    "    def isUgly(self, n: int) -> bool:\n",
    "        if n<=0:\n",
    "            return False\n",
    "        while n%2==0:\n",
    "            n//=2\n",
    "        while n%3==0:\n",
    "            n//=3\n",
    "        while n%5==0:\n",
    "            n//=5\n",
    "        return n==1"
   ]
  },
  {
   "cell_type": "code",
   "execution_count": null,
   "metadata": {},
   "outputs": [],
   "source": [
    "# 264. 丑数 II\n",
    "# https://leetcode.cn/problems/ugly-number-ii/description/\n",
    "\n",
    "class Solution:\n",
    "    def nthUglyNumber(self, n: int) -> int:\n",
    "        res, a, b, c = [1] * n, 0, 0, 0\n",
    "        for i in range(1, n):\n",
    "            n2, n3, n5 = res[a] * 2, res[b] * 3, res[c] * 5\n",
    "            res[i] = min(n2, n3, n5)\n",
    "            if res[i] == n2: a += 1\n",
    "            if res[i] == n3: b += 1\n",
    "            if res[i] == n5: c += 1\n",
    "        return res[-1]"
   ]
  },
  {
   "cell_type": "code",
   "execution_count": null,
   "metadata": {},
   "outputs": [],
   "source": [
    "# 313. 超级丑数\n",
    "# https://leetcode.cn/problems/super-ugly-number/description/\n",
    "\n",
    "class Solution:\n",
    "    def nthSuperUglyNumber(self, n: int, primes: List[int]) -> int:\n",
    "        res = [1] * n\n",
    "        pointers = [0] * len(primes)\n",
    "        for i in range(1, n):\n",
    "            next_ugly = min(primes[j] * res[pointers[j]] for j in range(len(primes)))\n",
    "            res[i] = next_ugly\n",
    "            for j in range(len(primes)):\n",
    "                if res[i] == primes[j] * res[pointers[j]]:\n",
    "                    pointers[j] += 1\n",
    "        return res[-1]"
   ]
  }
 ],
 "metadata": {
  "kernelspec": {
   "display_name": "base",
   "language": "python",
   "name": "python3"
  },
  "language_info": {
   "name": "python",
   "version": "3.11.5"
  }
 },
 "nbformat": 4,
 "nbformat_minor": 2
}
