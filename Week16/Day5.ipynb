{
 "cells": [
  {
   "cell_type": "markdown",
   "metadata": {},
   "source": [
    "烧饼排序算法\n",
    "\n",
    "https://labuladong.online/algo/frequency-interview/pancake-sorting/"
   ]
  },
  {
   "cell_type": "code",
   "execution_count": null,
   "metadata": {},
   "outputs": [],
   "source": [
    "# 969. 煎饼排序\n",
    "# https://leetcode.cn/problems/pancake-sorting/description/\n",
    "\n",
    "class Solution:\n",
    "    def pancakeSort(self, arr: List[int]) -> List[int]:\n",
    "        res = []\n",
    "        def reverse(arr, i, j):\n",
    "            while i<j:\n",
    "                arr[i],arr[j] = arr[j],arr[i]\n",
    "                i += 1\n",
    "                j -= 1\n",
    "        def sort(arr, n):\n",
    "            if n==1:\n",
    "                return\n",
    "            # 寻找最大饼的索引\n",
    "            max_ = 0\n",
    "            max_ind = 0\n",
    "            for i in range(n):\n",
    "                if arr[i]>max_:\n",
    "                    max_ = arr[i]\n",
    "                    max_ind = i\n",
    "            # 将最大饼翻到最上面\n",
    "            reverse(arr, 0, max_ind)\n",
    "            res.append(max_ind+1)\n",
    "            # 将最大饼翻到最下面\n",
    "            reverse(arr, 0, n-1)\n",
    "            res.append(n)\n",
    "            sort(arr, n-1)\n",
    "        sort(arr, len(arr))\n",
    "        return res"
   ]
  }
 ],
 "metadata": {
  "kernelspec": {
   "display_name": "base",
   "language": "python",
   "name": "python3"
  },
  "language_info": {
   "name": "python",
   "version": "3.11.5"
  }
 },
 "nbformat": 4,
 "nbformat_minor": 2
}
