{
 "cells": [
  {
   "cell_type": "markdown",
   "metadata": {},
   "source": [
    "烧饼排序算法\n",
    "\n",
    "https://labuladong.online/algo/frequency-interview/pancake-sorting/"
   ]
  }
 ],
 "metadata": {
  "language_info": {
   "name": "python"
  }
 },
 "nbformat": 4,
 "nbformat_minor": 2
}
