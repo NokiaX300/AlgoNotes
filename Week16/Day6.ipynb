{
 "cells": [
  {
   "cell_type": "markdown",
   "metadata": {},
   "source": [
    "字符串乘法计算\n",
    "\n",
    "https://labuladong.online/algo/practice-in-action/multiply-strings/"
   ]
  },
  {
   "cell_type": "code",
   "execution_count": null,
   "metadata": {},
   "outputs": [],
   "source": [
    "# 43. 字符串相乘\n",
    "# https://leetcode.cn/problems/multiply-strings/description/\n",
    "\n",
    "class Solution:\n",
    "    def multiply(self, num1: str, num2: str) -> str:\n",
    "        m, n = len(num1), len(num2)\n",
    "        # 结果最多为 m + n 位数\n",
    "        res = [0] * (m + n)\n",
    "        # 从个位数开始逐位相乘\n",
    "        for i in reversed(range(m)):\n",
    "            for j in reversed(range(n)):\n",
    "                mul = (ord(num1[i]) - ord('0')) * (ord(num2[j]) - ord('0'))\n",
    "                # 乘积在 res 对应的索引位置\n",
    "                p1, p2 = i + j, i + j + 1\n",
    "                # 叠加到 res 上\n",
    "                summ = mul + res[p2]\n",
    "                res[p2] = summ % 10\n",
    "                res[p1] += summ // 10\n",
    "        # 结果前缀可能存的 0（未使用的位）\n",
    "        i = 0\n",
    "        while i < len(res) and res[i] == 0:\n",
    "            i += 1\n",
    "        # 将计算结果转化成字符串\n",
    "        str_res = ''.join(str(x) for x in res[i:])\n",
    "        \n",
    "        return \"0\" if not str_res else str_res"
   ]
  }
 ],
 "metadata": {
  "kernelspec": {
   "display_name": "base",
   "language": "python",
   "name": "python3"
  },
  "language_info": {
   "name": "python",
   "version": "3.11.5"
  }
 },
 "nbformat": 4,
 "nbformat_minor": 2
}
