{
 "cells": [
  {
   "cell_type": "code",
   "execution_count": null,
   "metadata": {},
   "outputs": [],
   "source": [
    "# 力扣 hot100-67\n",
    "# 153. 寻找旋转排序数组中的最小值\n",
    "# https://leetcode.cn/problems/find-minimum-in-rotated-sorted-array/description/?envType=study-plan-v2&envId=top-100-liked\n",
    "\n",
    "class Solution:\n",
    "    def findMin(self, nums: List[int]) -> int:\n",
    "        left = 0\n",
    "        right = len(nums)-1\n",
    "        while left<right:\n",
    "            mid = (right-left)//2+left\n",
    "            if nums[mid]<=nums[-1]:\n",
    "                right = mid\n",
    "            else:\n",
    "                left = mid+1\n",
    "        return nums[right]"
   ]
  },
  {
   "cell_type": "code",
   "execution_count": null,
   "metadata": {},
   "outputs": [],
   "source": [
    "# 力扣 hot100-68\n",
    "# 4. 寻找两个正序数组的中位数\n",
    "# https://leetcode.cn/problems/median-of-two-sorted-arrays/description/?envType=study-plan-v2&envId=top-100-liked\n",
    "\n",
    "# 其实是处理数据流用的\n",
    "import heapq\n",
    "class Solution:\n",
    "    def findMedianSortedArrays(self, nums1: List[int], nums2: List[int]) -> float:\n",
    "        # 漏斗结构\n",
    "        small = [] # 正三角, 负数用来找最大值\n",
    "        large = [] # 倒三角\n",
    "        for num in nums1+nums2:\n",
    "            if len(small)<len(large):\n",
    "                s = heapq.heappushpop(large, num)\n",
    "                heapq.heappush(small, -s)\n",
    "            else:\n",
    "                t = heapq.heappushpop(small, -num)\n",
    "                heapq.heappush(large, -t)\n",
    "        if len(small)==len(large):\n",
    "            a = large[0]\n",
    "            b = -small[0]\n",
    "            return (b-a)/2+a\n",
    "        else:\n",
    "            return large[0]"
   ]
  },
  {
   "cell_type": "code",
   "execution_count": 1,
   "metadata": {},
   "outputs": [
    {
     "name": "stdout",
     "output_type": "stream",
     "text": [
      "4\n",
      "1\n",
      "2\n",
      "3\n"
     ]
    }
   ],
   "source": [
    "a = [4]\n",
    "b = [1,2,3]\n",
    "for e in a+b:\n",
    "    print(e)"
   ]
  },
  {
   "cell_type": "code",
   "execution_count": null,
   "metadata": {},
   "outputs": [],
   "source": [
    "# 力扣 hot100-69\n",
    "# 20. 有效的括号\n",
    "# https://leetcode.cn/problems/valid-parentheses/description/?envType=study-plan-v2&envId=top-100-liked\n",
    "\n",
    "class Solution:\n",
    "    def isValid(self, s: str) -> bool:\n",
    "        st = []\n",
    "        for c in s:\n",
    "            if c in '([{':\n",
    "                st.append(c)\n",
    "            else:\n",
    "                if st and self.check(st, c):\n",
    "                    st.pop()\n",
    "                else:\n",
    "                    return False\n",
    "        return not st\n",
    "    \n",
    "    def check(self, st, c):\n",
    "        a = st[-1]\n",
    "        if c=='(' and a==')':\n",
    "            return True\n",
    "        if c=='[' and a==']':\n",
    "            return True\n",
    "        if c=='{' and a=='}':\n",
    "            return True\n",
    "        return False"
   ]
  },
  {
   "cell_type": "code",
   "execution_count": 2,
   "metadata": {},
   "outputs": [
    {
     "name": "stdout",
     "output_type": "stream",
     "text": [
      "a\n",
      "s\n",
      "d\n"
     ]
    }
   ],
   "source": [
    "s = 'asd'\n",
    "for c in s:\n",
    "    print(c)"
   ]
  },
  {
   "cell_type": "code",
   "execution_count": null,
   "metadata": {},
   "outputs": [],
   "source": [
    "# 力扣 hot100-70\n",
    "# 155. 最小栈\n",
    "# https://leetcode.cn/problems/min-stack/description/?envType=study-plan-v2&envId=top-100-liked\n",
    "\n",
    "# 辅助栈\n",
    "class MinStack:\n",
    "    def __init__(self):\n",
    "        self.stack = []\n",
    "        # 方便 push 时候不用分类讨论\n",
    "        self.min_stack = [float('inf')]\n",
    "\n",
    "    def push(self, val: int) -> None:\n",
    "        self.stack.append(val)\n",
    "        # 无论如何都要加一个元素进去\n",
    "        self.min_stack.append(min(val, self.min_stack[-1]))\n",
    "\n",
    "    def pop(self) -> None:\n",
    "        self.stack.pop()\n",
    "        self.min_stack.pop()\n",
    "\n",
    "    def top(self) -> int:\n",
    "        return self.stack[-1]\n",
    "\n",
    "    def getMin(self) -> int:\n",
    "        return self.min_stack[-1]"
   ]
  },
  {
   "cell_type": "code",
   "execution_count": null,
   "metadata": {},
   "outputs": [],
   "source": [
    "# 力扣 hot100-71\n",
    "# 394. 字符串解码\n",
    "# https://leetcode.cn/problems/decode-string/?envType=study-plan-v2&envId=top-100-liked\n",
    "\n",
    "class Solution:\n",
    "    def decodeString(self, s: str) -> str:\n",
    "        st = []\n",
    "        for c in s:\n",
    "            if c != ']':\n",
    "                st.append(c)\n",
    "            else:\n",
    "                temp = []\n",
    "                while st[-1]!='[':\n",
    "                    temp.append(st.pop())\n",
    "                temp = temp[::-1]\n",
    "                temp = ''.join(temp)\n",
    "                st.pop()\n",
    "                num = []\n",
    "                # while st and st[-1]!=']':\n",
    "                while st and st[-1].isdigit():\n",
    "                    num.append(st.pop())\n",
    "                num = num[::-1]\n",
    "                num = int(''.join(num))\n",
    "                for _ in range(num):\n",
    "                    # res.append(temp)\n",
    "                    st.append(temp)\n",
    "        return ''.join(st)"
   ]
  },
  {
   "cell_type": "code",
   "execution_count": 5,
   "metadata": {},
   "outputs": [
    {
     "data": {
      "text/plain": [
       "12"
      ]
     },
     "execution_count": 5,
     "metadata": {},
     "output_type": "execute_result"
    }
   ],
   "source": [
    "a = [1,2]\n",
    "b = int(''.join(map(str, a)))\n",
    "b"
   ]
  },
  {
   "cell_type": "code",
   "execution_count": null,
   "metadata": {},
   "outputs": [],
   "source": [
    "# 力扣 hot100-72\n",
    "# 739. 每日温度\n",
    "# https://leetcode.cn/problems/daily-temperatures/?envType=study-plan-v2&envId=top-100-liked\n",
    "\n",
    "class Solution:\n",
    "    def dailyTemperatures(self, temperatures: List[int]) -> List[int]:\n",
    "        res = [0]*len(temperatures)\n",
    "        st = []\n",
    "        for i in range(len(temperatures)-1, -1, -1):\n",
    "            while st and temperatures[st[-1]]<=temperatures[i]:\n",
    "                st.pop()\n",
    "            if st:\n",
    "                res[i] = st[-1]-i\n",
    "            st.append(i)\n",
    "        return res"
   ]
  },
  {
   "cell_type": "code",
   "execution_count": null,
   "metadata": {},
   "outputs": [],
   "source": [
    "# 力扣 hot100-73\n",
    "# 84. 柱状图中最大的矩形\n",
    "# https://leetcode.cn/problems/largest-rectangle-in-histogram/description/?envType=study-plan-v2&envId=top-100-liked\n",
    "\n",
    "class Solution:\n",
    "    def largestRectangleArea(self, heights: List[int]) -> int:\n",
    "        heights.append(-1)\n",
    "        st = []\n",
    "        res = 0\n",
    "        for i,c in enumerate(heights):\n",
    "            while st and c<heights[st[-1]]:\n",
    "                h = st.pop()\n",
    "                if st:\n",
    "                    res = max(res, heights[h]*(i-st[-1]-1))\n",
    "                else:\n",
    "                    res = max(res, heights[h]*i)\n",
    "            st.append(i)\n",
    "        return res"
   ]
  },
  {
   "cell_type": "code",
   "execution_count": null,
   "metadata": {},
   "outputs": [],
   "source": [
    "# 力扣 hot100-73\n",
    "# 84. 柱状图中最大的矩形\n",
    "# https://leetcode.cn/problems/largest-rectangle-in-histogram/description/?envType=study-plan-v2&envId=top-100-liked\n",
    "\n",
    "class Solution:\n",
    "    def largestRectangleArea(self, heights: List[int]) -> int:\n",
    "        heights.append(-1)\n",
    "        st = [-1]\n",
    "        res = 0\n",
    "        for i,c in enumerate(heights):\n",
    "            while c<heights[st[-1]]:\n",
    "                h = st.pop()\n",
    "                res = max(res, heights[h]*(i-st[-1]-1))\n",
    "            st.append(i)\n",
    "        return res"
   ]
  },
  {
   "cell_type": "code",
   "execution_count": null,
   "metadata": {},
   "outputs": [],
   "source": [
    "# 力扣 hot100-74\n",
    "# 215. 数组中的第K个最大元素\n",
    "# https://leetcode.cn/problems/kth-largest-element-in-an-array/?envType=study-plan-v2&envId=top-100-liked\n",
    "\n",
    "# 堆排序\n",
    "import heapq\n",
    "class Solution:\n",
    "    def findKthLargest(self, nums: List[int], k: int) -> int:\n",
    "        st = []\n",
    "        for num in nums:\n",
    "            heapq.heappush(st, num)\n",
    "            # 保证堆中是前 k 个最大元素\n",
    "            if len(st)>k:\n",
    "                heapq.heappop(st)\n",
    "        return st[0]    "
   ]
  },
  {
   "cell_type": "code",
   "execution_count": null,
   "metadata": {},
   "outputs": [],
   "source": [
    "# 力扣 hot100-75\n",
    "# 347. 前 K 个高频元素\n",
    "# https://leetcode.cn/problems/top-k-frequent-elements/?envType=study-plan-v2&envId=top-100-liked\n",
    "\n",
    "from collections import defaultdict\n",
    "class Solution:\n",
    "    def topKFrequent(self, nums: List[int], k: int) -> List[int]:\n",
    "        dic = defaultdict(int)\n",
    "        for num in nums:\n",
    "            dic[num] += 1\n",
    "        st = []\n",
    "        for i,c in dic.items():\n",
    "            heapq.heappush(st, (c, i))\n",
    "            if len(st)>k:\n",
    "                heapq.heappop(st)\n",
    "        res = []\n",
    "        for ele in st:\n",
    "            res.append(ele[1])\n",
    "        return res"
   ]
  },
  {
   "cell_type": "code",
   "execution_count": null,
   "metadata": {},
   "outputs": [],
   "source": [
    "# 力扣 hot100-76\n",
    "# 295. 数据流的中位数\n",
    "# https://leetcode.cn/problems/find-median-from-data-stream/description/?envType=study-plan-v2&envId=top-100-liked\n",
    "\n",
    "import heapq\n",
    "class MedianFinder:\n",
    "    def __init__(self):\n",
    "        self.small = []\n",
    "        self.large = []\n",
    "\n",
    "    def addNum(self, num: int) -> None:\n",
    "        if len(self.small)<len(self.large):\n",
    "            s = heapq.heappushpop(self.large, num)\n",
    "            heapq.heappush(self.small, -s)\n",
    "        else:\n",
    "            s = heapq.heappushpop(self.small, -num)\n",
    "            heapq.heappush(self.large, -s)\n",
    "\n",
    "    def findMedian(self) -> float:\n",
    "        if len(self.small)==len(self.large):\n",
    "            a = -self.small[0]\n",
    "            b = self.large[0]\n",
    "            return (b-a)/2+a\n",
    "        else:\n",
    "            return self.large[0]"
   ]
  },
  {
   "cell_type": "code",
   "execution_count": null,
   "metadata": {},
   "outputs": [],
   "source": [
    "# 力扣 hot100-77\n",
    "# 121. 买卖股票的最佳时机\n",
    "# https://leetcode.cn/problems/best-time-to-buy-and-sell-stock/description/?envType=study-plan-v2&envId=top-100-liked\n",
    "\n",
    "class Solution:\n",
    "    def maxProfit(self, prices: List[int]) -> int:\n",
    "        st = []\n",
    "        res = 0\n",
    "        for price in prices:\n",
    "            while st and price<=st[-1]:\n",
    "                st.pop()\n",
    "            if st:\n",
    "                res = max(res, price-st[0])\n",
    "            st.append(price)\n",
    "        return res"
   ]
  },
  {
   "cell_type": "code",
   "execution_count": null,
   "metadata": {},
   "outputs": [],
   "source": [
    "# 力扣 hot100-78\n",
    "# 55. 跳跃游戏\n",
    "# https://leetcode.cn/problems/jump-game/description/?envType=study-plan-v2&envId=top-100-liked\n",
    "\n",
    "class Solution:\n",
    "    def canJump(self, nums: List[int]) -> bool:\n",
    "        farest = 0\n",
    "        # 注意是 n-1, 因为在最后一个节点上不需要再跳了\n",
    "        for i in range(len(nums)-1):\n",
    "            farest = max(farest, i+nums[i])\n",
    "            if farest<=i:\n",
    "                return False\n",
    "        return farest>=len(nums)-1"
   ]
  },
  {
   "cell_type": "code",
   "execution_count": null,
   "metadata": {},
   "outputs": [],
   "source": [
    "# 力扣 hot100-78\n",
    "# 55. 跳跃游戏\n",
    "# https://leetcode.cn/problems/jump-game/description/?envType=study-plan-v2&envId=top-100-liked\n",
    "\n",
    "# 还得是灵神\n",
    "class Solution:\n",
    "    def canJump(self, nums: List[int]) -> bool:\n",
    "        farest = 0\n",
    "        for i,c in enumerate(nums):\n",
    "            if farest<i:\n",
    "                return False\n",
    "            farest = max(farest, i+c)\n",
    "        return True"
   ]
  },
  {
   "cell_type": "code",
   "execution_count": null,
   "metadata": {},
   "outputs": [],
   "source": [
    "# 力扣 hot100-79\n",
    "# 45. 跳跃游戏 II\n",
    "# https://leetcode.cn/problems/jump-game-ii/description/?envType=study-plan-v2&envId=top-100-liked\n",
    "\n",
    "class Solution:\n",
    "    def jump(self, nums: List[int]) -> int:\n",
    "        cur_right = 0\n",
    "        next_right = 0\n",
    "        res = 0\n",
    "        for i in range(len(nums)-1):\n",
    "            next_right = max(next_right, i+nums[i])\n",
    "            if i == cur_right:\n",
    "                cur_right = next_right\n",
    "                res += 1\n",
    "        return res"
   ]
  },
  {
   "cell_type": "code",
   "execution_count": null,
   "metadata": {},
   "outputs": [],
   "source": [
    "# 力扣 hot100-80\n",
    "# 763. 划分字母区间\n",
    "# https://leetcode.cn/problems/partition-labels/description/?envType=study-plan-v2&envId=top-100-liked\n",
    "\n",
    "# 还得是灵神\n",
    "# 合并区间\n",
    "class Solution:\n",
    "    def partitionLabels(self, s: str) -> List[int]:\n",
    "        last = {c:i for i,c in enumerate(s)}\n",
    "        res = []\n",
    "        start = 0\n",
    "        end = 0\n",
    "        for i,c in enumerate(s):\n",
    "            end = max(end, last[c])\n",
    "            if end==i:\n",
    "                res.append(end-start+1)\n",
    "                start = i+1\n",
    "        return res"
   ]
  },
  {
   "cell_type": "code",
   "execution_count": null,
   "metadata": {},
   "outputs": [],
   "source": [
    "# 力扣 hot100-81\n",
    "# 70. 爬楼梯\n",
    "# https://leetcode.cn/problems/climbing-stairs/description/?envType=study-plan-v2&envId=top-100-liked\n",
    "\n",
    "from functools import cache\n",
    "class Solution:\n",
    "    def climbStairs(self, n: int) -> int:\n",
    "        @cache\n",
    "        def dfs(i):\n",
    "            if i<=1:\n",
    "                return 1\n",
    "            return dfs(i-1)+dfs(i-2)\n",
    "        return dfs(n)"
   ]
  },
  {
   "cell_type": "code",
   "execution_count": null,
   "metadata": {},
   "outputs": [],
   "source": [
    "# 力扣 hot100-81\n",
    "# 70. 爬楼梯\n",
    "# https://leetcode.cn/problems/climbing-stairs/description/?envType=study-plan-v2&envId=top-100-liked\n",
    "\n",
    "class Solution:\n",
    "    def climbStairs(self, n: int) -> int:\n",
    "        dp = [0]*(n+1)\n",
    "        dp[0] = dp[1] = 1\n",
    "        for i in range(2, n+1):\n",
    "            dp[i] = dp[i-1]+dp[i-2]\n",
    "        return dp[n]"
   ]
  },
  {
   "cell_type": "code",
   "execution_count": null,
   "metadata": {},
   "outputs": [],
   "source": [
    "# 力扣 hot100-81\n",
    "# 70. 爬楼梯\n",
    "# https://leetcode.cn/problems/climbing-stairs/description/?envType=study-plan-v2&envId=top-100-liked\n",
    "\n",
    "class Solution:\n",
    "    def climbStairs(self, n: int) -> int:\n",
    "        f0 = f1 = 1\n",
    "        for _ in range(2, n+1):\n",
    "            new = f0+f1\n",
    "            f0 = f1\n",
    "            f1 = new\n",
    "        return f1"
   ]
  },
  {
   "cell_type": "code",
   "execution_count": 2,
   "metadata": {},
   "outputs": [],
   "source": [
    "# 力扣 hot100-82\n",
    "# 118. 杨辉三角\n",
    "# https://leetcode.cn/problems/pascals-triangle/description/?envType=study-plan-v2&envId=top-100-liked\n",
    "\n",
    "class Solution:\n",
    "    def generate(self, numRows: int):\n",
    "        res = []\n",
    "        for i in range(numRows):\n",
    "            res.append([1]*(i+1))\n",
    "        for i in range(2, numRows):\n",
    "            for j in range(1, i):\n",
    "                res[i][j] = res[i-1][j-1]+res[i-1][j]\n",
    "        return res"
   ]
  },
  {
   "cell_type": "code",
   "execution_count": 5,
   "metadata": {},
   "outputs": [
    {
     "name": "stdout",
     "output_type": "stream",
     "text": [
      "[1]\n",
      "[1, 1]\n",
      "[1, 2, 1]\n",
      "[1, 3, 3, 1]\n",
      "[1, 4, 6, 4, 1]\n"
     ]
    }
   ],
   "source": [
    "res = Solution().generate(5)\n",
    "for lst in res:\n",
    "    print(lst, end='\\n')"
   ]
  },
  {
   "cell_type": "code",
   "execution_count": null,
   "metadata": {},
   "outputs": [],
   "source": [
    "# 力扣 hot100-83\n",
    "# 198. 打家劫舍\n",
    "# https://leetcode.cn/problems/house-robber/?envType=study-plan-v2&envId=top-100-liked\n",
    "\n",
    "# class Solution:\n",
    "#     def rob(self, nums: List[int]) -> int:\n",
    "#         n = len(nums)\n",
    "#         a = b = 0\n",
    "#         for i in range(0, n, 2):\n",
    "#             a += nums[i]\n",
    "#         for i in range(1, n ,2):\n",
    "#             b += nums[i]\n",
    "#         return max(a, b)\n",
    "\n",
    "from functools import cache\n",
    "class Solution:\n",
    "    def rob(self, nums: List[int]) -> int:\n",
    "        @cache\n",
    "        def dfs(i):\n",
    "            if i<0:\n",
    "                return 0\n",
    "            return max(dfs(i-1), dfs(i-2)+nums[i])\n",
    "        return dfs(len(nums)-1)"
   ]
  },
  {
   "cell_type": "code",
   "execution_count": null,
   "metadata": {},
   "outputs": [],
   "source": [
    "# 力扣 hot100-83\n",
    "# 198. 打家劫舍\n",
    "# https://leetcode.cn/problems/house-robber/?envType=study-plan-v2&envId=top-100-liked\n",
    "\n",
    "class Solution:\n",
    "    def rob(self, nums: List[int]) -> int:\n",
    "        dp = [0]*(len(nums)+2)\n",
    "        for i,c in enumerate(nums):\n",
    "            dp[i+2] = max(dp[i+1], dp[i]+c)\n",
    "        return dp[-1]"
   ]
  },
  {
   "cell_type": "code",
   "execution_count": null,
   "metadata": {},
   "outputs": [],
   "source": [
    "# 力扣 hot100-84\n",
    "# 279. 完全平方数\n",
    "# https://leetcode.cn/problems/perfect-squares/description/?envType=study-plan-v2&envId=top-100-liked\n",
    "\n",
    "# 完全背包\n",
    "# 注意本题是一定有解的, 因为 1 是完全平方数\n",
    "# 定义 dfs(i,j) 表示从前 i 个完全平方数中选一些数（可以重复选）, 满足元素和恰好等于 j, 最少要选的数字个数\n",
    "from functools import cache\n",
    "import math\n",
    "@cache\n",
    "def dfs(i, j):\n",
    "    if j == 0:\n",
    "        return 0\n",
    "    if i == 0:\n",
    "        return float('inf')\n",
    "    if i*i>j:\n",
    "        return dfs(i-1, j)\n",
    "    # 注意这里是 i 而不是 i−1, 因为我们可以继续选第 i 个完全平方数\n",
    "    return min(dfs(i-1, j), dfs(i, j-i*i)+1)\n",
    "class Solution:\n",
    "    def numSquares(self, n: int) -> int:\n",
    "        return dfs(int(math.sqrt(n)), n)"
   ]
  },
  {
   "cell_type": "code",
   "execution_count": null,
   "metadata": {},
   "outputs": [],
   "source": [
    "# 力扣 hot100-85\n",
    "# 322. 零钱兑换\n",
    "# https://leetcode.cn/problems/coin-change/description/?envType=study-plan-v2&envId=top-100-liked\n",
    "\n",
    "from functools import cache\n",
    "class Solution:\n",
    "    def coinChange(self, coins: List[int], amount: int) -> int:\n",
    "        @cache\n",
    "        def dfs(i, c):\n",
    "            if i<0:\n",
    "                return 0 if c==0 else float('inf')\n",
    "            if coins[i]>c:\n",
    "                return dfs(i-1, c)\n",
    "            return min(dfs(i-1, c), dfs(i, c-coins[i])+1)\n",
    "        res = dfs(len(coins)-1, amount)\n",
    "        return res if res<float('inf') else -1"
   ]
  },
  {
   "cell_type": "code",
   "execution_count": null,
   "metadata": {},
   "outputs": [],
   "source": [
    "# 力扣 hot100-85\n",
    "# 322. 零钱兑换\n",
    "# https://leetcode.cn/problems/coin-change/description/?envType=study-plan-v2&envId=top-100-liked\n",
    "\n",
    "class Solution:\n",
    "    def coinChange(self, coins: List[int], amount: int) -> int:\n",
    "        # 不能直接复制列表, 多个列表会引用同一个内存地址\n",
    "        # dp = [[float('inf')]*(amount+1)]*(len(coins)+1)\n",
    "        dp = [[float('inf')]*(amount+1) for _ in range(len(coins)+1)]\n",
    "        dp[0][0] = 0\n",
    "        for i, x in enumerate(coins):\n",
    "            for c in range(amount+1):\n",
    "                if c<x:\n",
    "                    dp[i+1][c] = dp[i][c]\n",
    "                else:\n",
    "                    dp[i+1][c] = min(dp[i][c], dp[i+1][c-x]+1)\n",
    "        res = dp[len(coins)][amount]\n",
    "        return res if res<float('inf') else -1"
   ]
  },
  {
   "cell_type": "code",
   "execution_count": null,
   "metadata": {},
   "outputs": [],
   "source": [
    "# 力扣 hot100-86\n",
    "# 139. 单词拆分\n",
    "# https://leetcode.cn/problems/word-break/?envType=study-plan-v2&envId=top-100-liked\n",
    "\n",
    "class Solution:\n",
    "    def wordBreak(self, s: str, wordDict: List[str]) -> bool:\n",
    "        n = len(s)\n",
    "        @cache\n",
    "        def dfs(i):\n",
    "            if i==n:\n",
    "                return True\n",
    "            for j in range(i+1, n+1):\n",
    "                if s[i:j] in wordDict and dfs(j):\n",
    "                    return True\n",
    "            return False\n",
    "        return dfs(0)"
   ]
  }
 ],
 "metadata": {
  "kernelspec": {
   "display_name": "base",
   "language": "python",
   "name": "python3"
  },
  "language_info": {
   "codemirror_mode": {
    "name": "ipython",
    "version": 3
   },
   "file_extension": ".py",
   "mimetype": "text/x-python",
   "name": "python",
   "nbconvert_exporter": "python",
   "pygments_lexer": "ipython3",
   "version": "3.11.5"
  }
 },
 "nbformat": 4,
 "nbformat_minor": 2
}
