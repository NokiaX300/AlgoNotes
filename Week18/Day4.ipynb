{
 "cells": [
  {
   "cell_type": "code",
   "execution_count": null,
   "metadata": {},
   "outputs": [],
   "source": [
    "# 419 周赛\n",
    "# 第 K 大的完美二叉子树的大小\n",
    "# https://leetcode.cn/contest/weekly-contest-419/problems/k-th-largest-perfect-subtree-size-in-binary-tree/description/\n",
    "\n",
    "class Solution:\n",
    "    def kthLargestPerfectSubtree(self, root: Optional[TreeNode], k: int) -> int:\n",
    "        res = []\n",
    "        def traverse(root):\n",
    "            if not root:\n",
    "                return 0\n",
    "            left_ = traverse(root.left)\n",
    "            right_ = traverse(root.right)\n",
    "            if left_==right_ and left_ != -1:\n",
    "                cur = left_+right_+1\n",
    "                res.append(cur)\n",
    "                return cur\n",
    "            return -1\n",
    "        traverse(root)\n",
    "        res.sort(reverse=True)\n",
    "        if len(res)>=k:\n",
    "            return res[k-1]\n",
    "        else:\n",
    "            return -1"
   ]
  },
  {
   "cell_type": "code",
   "execution_count": null,
   "metadata": {},
   "outputs": [],
   "source": [
    "# 419 周赛\n",
    "# 统计能获胜的出招序列数\n",
    "# https://leetcode.cn/contest/weekly-contest-419/problems/count-the-number-of-winning-sequences/description/\n",
    "\n",
    "class Solution:\n",
    "    def countWinningSequences(self, s: str) -> int:\n",
    "        # i 表示位置 j 表示得分之差 pre 表示上一个的选择\n",
    "        # 0<1<2<0\n",
    "        MOD = 10**9+7\n",
    "        # 建立 'FWE' 到 012 的映射\n",
    "        dic = {c:i for i,c in enumerate('FWE')}\n",
    "        # 将 s 转化为纯数字列表\n",
    "        s = [dic[c] for c in s]\n",
    "        @cache\n",
    "        def dfs(i,j,pre):\n",
    "            # 和对方差距过大无法弥补\n",
    "            if -j>i:\n",
    "                return 0\n",
    "            if i<0:\n",
    "                return 1\n",
    "            res = 0\n",
    "            for cur in range(3):\n",
    "                if cur==pre:\n",
    "                    continue\n",
    "                # 分类讨论见灵神视频\n",
    "                score = (cur-s[i])%3\n",
    "                if score==2:\n",
    "                    score = -1\n",
    "                res += dfs(i-1, j+score, cur)\n",
    "            return res%MOD\n",
    "        return dfs(len(s)-1,0,3)"
   ]
  },
  {
   "cell_type": "code",
   "execution_count": 2,
   "metadata": {},
   "outputs": [
    {
     "data": {
      "text/plain": [
       "4"
      ]
     },
     "execution_count": 2,
     "metadata": {},
     "output_type": "execute_result"
    }
   ],
   "source": [
    "# 移动\n",
    "# 给定一个非负整数数组, 对每个数字可以加一减一或不变\n",
    "# 求操作后可以使某个数字出现最多的次数\n",
    "# 如 [1,1,2,3,6] → [2,2,2,2,6] 返回 4\n",
    "\n",
    "from collections import defaultdict\n",
    "def maxFrequency(nums):\n",
    "    if not nums:\n",
    "        return 0\n",
    "    dic = defaultdict(int)\n",
    "    for _,c in enumerate(nums):\n",
    "        if c==9:\n",
    "            dic[9] += 1\n",
    "            dic[8] += 1\n",
    "        elif c==0:\n",
    "            dic[0] += 1\n",
    "            dic[1] += 1\n",
    "        else:\n",
    "            dic[c-1] += 1\n",
    "            dic[c] += 1\n",
    "            dic[c+1] += 1\n",
    "    return sorted(dic.values(), reverse=True)[0]\n",
    "\n",
    "maxFrequency([0,1,1,2,4,4,6,7])"
   ]
  }
 ],
 "metadata": {
  "kernelspec": {
   "display_name": "base",
   "language": "python",
   "name": "python3"
  },
  "language_info": {
   "codemirror_mode": {
    "name": "ipython",
    "version": 3
   },
   "file_extension": ".py",
   "mimetype": "text/x-python",
   "name": "python",
   "nbconvert_exporter": "python",
   "pygments_lexer": "ipython3",
   "version": "3.11.5"
  }
 },
 "nbformat": 4,
 "nbformat_minor": 2
}
