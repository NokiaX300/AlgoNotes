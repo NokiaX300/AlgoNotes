{
 "cells": [
  {
   "cell_type": "code",
   "execution_count": null,
   "metadata": {},
   "outputs": [],
   "source": [
    "# 419 周赛\n",
    "# 第 K 大的完美二叉子树的大小\n",
    "# https://leetcode.cn/contest/weekly-contest-419/problems/k-th-largest-perfect-subtree-size-in-binary-tree/description/\n",
    "\n",
    "class Solution:\n",
    "    def kthLargestPerfectSubtree(self, root: Optional[TreeNode], k: int) -> int:\n",
    "        res = []\n",
    "        def traverse(root):\n",
    "            if not root:\n",
    "                return 0\n",
    "            left_ = traverse(root.left)\n",
    "            right_ = traverse(root.right)\n",
    "            if left_==right_ and left_ != -1:\n",
    "                cur = left_+right_+1\n",
    "                res.append(cur)\n",
    "                return cur\n",
    "            return -1\n",
    "        traverse(root)\n",
    "        res.sort(reverse=True)\n",
    "        if len(res)>=k:\n",
    "            return res[k-1]\n",
    "        else:\n",
    "            return -1"
   ]
  },
  {
   "cell_type": "code",
   "execution_count": null,
   "metadata": {},
   "outputs": [],
   "source": [
    "# 419 周赛\n",
    "# 统计能获胜的出招序列数\n",
    "# https://leetcode.cn/contest/weekly-contest-419/problems/count-the-number-of-winning-sequences/description/\n",
    "\n",
    "class Solution:\n",
    "    def countWinningSequences(self, s: str) -> int:\n",
    "        # i 表示位置 j 表示得分之差 pre 表示上一个的选择\n",
    "        # 0<1<2<0\n",
    "        MOD = 10**9+7\n",
    "        # 建立 'FWE' 到 012 的映射\n",
    "        dic = {c:i for i,c in enumerate('FWE')}\n",
    "        # 将 s 转化为纯数字列表\n",
    "        s = [dic[c] for c in s]\n",
    "        @cache\n",
    "        def dfs(i,j,pre):\n",
    "            # 和对方差距过大无法弥补\n",
    "            if -j>i:\n",
    "                return 0\n",
    "            if i<0:\n",
    "                return 1\n",
    "            res = 0\n",
    "            for cur in range(3):\n",
    "                if cur==pre:\n",
    "                    continue\n",
    "                # 分类讨论见灵神视频\n",
    "                score = (cur-s[i])%3\n",
    "                if score==2:\n",
    "                    score = -1\n",
    "                res += dfs(i-1, j+score, cur)\n",
    "            return res%MOD\n",
    "        return dfs(len(s)-1,0,3)"
   ]
  },
  {
   "cell_type": "code",
   "execution_count": 2,
   "metadata": {},
   "outputs": [
    {
     "data": {
      "text/plain": [
       "4"
      ]
     },
     "execution_count": 2,
     "metadata": {},
     "output_type": "execute_result"
    }
   ],
   "source": [
    "# 移动成都研究院\n",
    "# 给定一个非负整数数组, 对每个数字可以加一减一或不变\n",
    "# 求操作后可以使某个数字出现最多的次数\n",
    "# 如 [1,1,2,3,6] → [2,2,2,2,6] 返回 4\n",
    "\n",
    "from collections import defaultdict\n",
    "def maxFrequency(nums):\n",
    "    if not nums:\n",
    "        return 0\n",
    "    dic = defaultdict(int)\n",
    "    for _,c in enumerate(nums):\n",
    "        if c==9:\n",
    "            dic[9] += 1\n",
    "            dic[8] += 1\n",
    "        elif c==0:\n",
    "            dic[0] += 1\n",
    "            dic[1] += 1\n",
    "        else:\n",
    "            dic[c-1] += 1\n",
    "            dic[c] += 1\n",
    "            dic[c+1] += 1\n",
    "    return sorted(dic.values(), reverse=True)[0]\n",
    "\n",
    "maxFrequency([0,1,1,2,4,4,6,7])"
   ]
  },
  {
   "cell_type": "code",
   "execution_count": null,
   "metadata": {},
   "outputs": [],
   "source": [
    "# 中金\n",
    "# 写出尽可能多的方法展示斐波那契数列前 n 项\n",
    "\n",
    "# 递归\n",
    "def dfs(n):\n",
    "    if n<=0:\n",
    "        return []\n",
    "    if n==1:\n",
    "        return [1]\n",
    "    if n==2:\n",
    "        return [1,1]\n",
    "    lst = dfs(n-1)\n",
    "    lst.append(lst[-2]+lst[-1])\n",
    "    return lst\n",
    "\n",
    "# 迭代\n",
    "def dp(n):\n",
    "    if n<=0:\n",
    "        return []\n",
    "    lst = [1,1]\n",
    "    for i in range(2, n):\n",
    "        lst.append(lst[i-2]+lst[i-1])\n",
    "    return lst[:n]"
   ]
  },
  {
   "cell_type": "code",
   "execution_count": null,
   "metadata": {},
   "outputs": [],
   "source": [
    "# 121. 买卖股票的最佳时机\n",
    "# https://leetcode.cn/problems/best-time-to-buy-and-sell-stock/description/\n",
    "\n",
    "class Solution:\n",
    "    def maxProfit(self, prices: List[int]) -> int:\n",
    "        st = []\n",
    "        res = 0\n",
    "        for i in range(len(prices)):\n",
    "            while st and prices[i]<=st[-1]:\n",
    "                st.pop()\n",
    "            if st:\n",
    "                res = max(res, prices[i]-st[0])\n",
    "            st.append(prices[i])\n",
    "        return res"
   ]
  },
  {
   "cell_type": "code",
   "execution_count": null,
   "metadata": {},
   "outputs": [],
   "source": [
    "# 122. 买卖股票的最佳时机 II\n",
    "# https://leetcode.cn/problems/best-time-to-buy-and-sell-stock-ii/\n",
    "\n",
    "class Solution:\n",
    "    def maxProfit(self, prices: List[int]) -> int:\n",
    "        res = 0\n",
    "        for i in range(1, len(prices)):\n",
    "            if prices[i]>prices[i-1]:\n",
    "                res += prices[i]-prices[i-1]\n",
    "        return res"
   ]
  },
  {
   "cell_type": "code",
   "execution_count": null,
   "metadata": {},
   "outputs": [],
   "source": [
    "# 122. 买卖股票的最佳时机 II\n",
    "# https://leetcode.cn/problems/best-time-to-buy-and-sell-stock-ii/\n",
    "\n",
    "# 灵神\n",
    "class Solution:\n",
    "    def maxProfit(self, prices: List[int]) -> int:\n",
    "        # dfs(i, hold) 代表到第 i 天结束时最大利润\n",
    "        @cache\n",
    "        def dfs(i, hold: bool):\n",
    "            if i<0:\n",
    "                if hold:\n",
    "                    return -float('inf')\n",
    "                else:\n",
    "                    return 0\n",
    "            if hold:\n",
    "                # 注意加还是减，买的话要花钱的\n",
    "                return max(dfs(i-1, True), dfs(i-1, False)-prices[i])\n",
    "            return max(dfs(i-1, False), dfs(i-1, True)+prices[i])\n",
    "        return dfs(len(prices)-1, False)"
   ]
  },
  {
   "cell_type": "code",
   "execution_count": null,
   "metadata": {},
   "outputs": [],
   "source": [
    "# 309. 买卖股票的最佳时机含冷冻期\n",
    "# https://leetcode.cn/problems/best-time-to-buy-and-sell-stock-with-cooldown/description/\n",
    "\n",
    "class Solution:\n",
    "    def maxProfit(self, prices: List[int]) -> int:\n",
    "        @cache\n",
    "        def dfs(i, hold):\n",
    "            if i<0:\n",
    "                if hold:\n",
    "                    return -float('inf')\n",
    "                else:\n",
    "                    return 0\n",
    "            if hold:\n",
    "                return max(dfs(i-1, True), dfs(i-2, False)-prices[i])\n",
    "            return max(dfs(i-1, False), dfs(i-1, True)+prices[i])\n",
    "        return dfs(len(prices)-1, False)"
   ]
  },
  {
   "cell_type": "code",
   "execution_count": null,
   "metadata": {},
   "outputs": [],
   "source": [
    "# 中金\n",
    "# 123. 买卖股票的最佳时机 III\n",
    "# https://leetcode.cn/problems/best-time-to-buy-and-sell-stock-iii/\n",
    "\n",
    "class Solution:\n",
    "    def maxProfit(self, prices: List[int]) -> int:\n",
    "        @cache\n",
    "        def dfs(i,k,hold):\n",
    "            if k<0:\n",
    "                return -float('inf')\n",
    "            if i<0:\n",
    "                if hold:\n",
    "                    return -float('inf')\n",
    "                else:\n",
    "                    return 0\n",
    "            if hold:\n",
    "                return max(dfs(i-1,k,True), dfs(i-1,k,False)-prices[i])\n",
    "            return max(dfs(i-1,k,False), dfs(i-1,k-1,True)+prices[i])\n",
    "        return dfs(len(prices)-1,2,False)"
   ]
  },
  {
   "cell_type": "code",
   "execution_count": null,
   "metadata": {},
   "outputs": [],
   "source": [
    "# 188. 买卖股票的最佳时机 IV\n",
    "# https://leetcode.cn/problems/best-time-to-buy-and-sell-stock-iv/description/\n",
    "\n",
    "class Solution:\n",
    "    def maxProfit(self, k: int, prices: List[int]) -> int:\n",
    "        # dfs(i, k, hold) 代表到第 i 天结束时完成至多 k 次交易\n",
    "        @cache\n",
    "        def dfs(i, k, hold):\n",
    "            if k<0:\n",
    "                return -float('inf')\n",
    "            if i<0:\n",
    "                if hold:\n",
    "                    return -float('inf')\n",
    "                else:\n",
    "                    return 0\n",
    "            if hold:\n",
    "                return max(dfs(i-1,k,True), dfs(i-1,k,False)-prices[i])\n",
    "            return max(dfs(i-1,k,False), dfs(i-1,k-1,True)+prices[i])\n",
    "        return dfs(len(prices)-1,k,False)"
   ]
  },
  {
   "cell_type": "code",
   "execution_count": null,
   "metadata": {},
   "outputs": [],
   "source": [
    "# 420 周赛\n",
    "# 出现在屏幕上的字符串序列\n",
    "# https://leetcode.cn/contest/weekly-contest-420/problems/find-the-sequence-of-strings-appeared-on-the-screen/description/\n",
    "\n",
    "class Solution:\n",
    "    def stringSequence(self, target: str) -> List[str]:\n",
    "        res = []\n",
    "        cur = ''\n",
    "        for c in target:\n",
    "            cur += 'a'\n",
    "            res.append(cur)\n",
    "            while cur[-1] != c:\n",
    "                cur = cur[:-1] + chr(ord(cur[-1])+1)\n",
    "                res.append(cur)\n",
    "        return res"
   ]
  },
  {
   "cell_type": "code",
   "execution_count": 1,
   "metadata": {},
   "outputs": [
    {
     "name": "stdout",
     "output_type": "stream",
     "text": [
      "0 a\n",
      "1 s\n",
      "2 d\n"
     ]
    }
   ],
   "source": [
    "a = 'asd'\n",
    "for i,c in enumerate(a):\n",
    "    print(i,c)"
   ]
  },
  {
   "cell_type": "code",
   "execution_count": null,
   "metadata": {},
   "outputs": [],
   "source": [
    "# 420 周赛\n",
    "# 字符至少出现 K 次的子字符串 I\n",
    "# https://leetcode.cn/contest/weekly-contest-420/problems/count-substrings-with-k-frequency-characters-i/description/\n",
    "\n",
    "from collections import defaultdict\n",
    "class Solution:\n",
    "    def numberOfSubstrings(self, s: str, k: int) -> int:\n",
    "        left = 0\n",
    "        right = 0\n",
    "        res = 0\n",
    "        window = defaultdict(int)\n",
    "        while right<len(s):\n",
    "            keyr = s[right]\n",
    "            window[keyr] += 1\n",
    "            right += 1\n",
    "            while any(count >= k for count in window.values()):\n",
    "                res += len(s) - right + 1\n",
    "                keyl = s[left]\n",
    "                if keyl in window:\n",
    "                    window[keyl] -= 1\n",
    "                left += 1\n",
    "        return res"
   ]
  },
  {
   "cell_type": "code",
   "execution_count": null,
   "metadata": {},
   "outputs": [],
   "source": [
    "# 420 周赛\n",
    "# 使数组非递减的最少除法操作次数\n",
    "# https://leetcode.cn/contest/weekly-contest-420/problems/minimum-division-operations-to-make-array-non-decreasing/description/\n",
    "\n",
    "class Solution:\n",
    "    def minOperations(self, nums: List[int]) -> int:\n",
    "        @cache\n",
    "        def find_max(n):\n",
    "            for i in range(n//2,1,-1):\n",
    "                if n%i==0:\n",
    "                    return i\n",
    "            return -1\n",
    "        res = 0\n",
    "        for i in range(len(nums)-1,0,-1):\n",
    "            while nums[i-1]>nums[i]:\n",
    "                temp = find_max(nums[i-1])\n",
    "                if temp==-1:\n",
    "                    return -1\n",
    "                nums[i-1] //= temp\n",
    "                res += 1\n",
    "        return res"
   ]
  },
  {
   "cell_type": "code",
   "execution_count": 2,
   "metadata": {},
   "outputs": [
    {
     "data": {
      "text/plain": [
       "35"
      ]
     },
     "execution_count": 2,
     "metadata": {},
     "output_type": "execute_result"
    }
   ],
   "source": [
    "def find_max(n):\n",
    "    for i in range(n-1,1,-1):\n",
    "        if n%i==0:\n",
    "            return i\n",
    "    return -1\n",
    "find_max(105)"
   ]
  },
  {
   "cell_type": "code",
   "execution_count": 1,
   "metadata": {},
   "outputs": [],
   "source": [
    "# 电信\n",
    "# 问 [1,n] 中有多少个开头结尾都是 7 的数\n",
    "\n",
    "class Solution:\n",
    "    def seven_good_number(self , n: int) -> int:\n",
    "        def check(n: int):\n",
    "            s = str(n)\n",
    "            if s[0]==s[-1]=='7':\n",
    "                return True\n",
    "            return False\n",
    "        res = 0\n",
    "        for i in range(n):\n",
    "            if check(i):\n",
    "                res += 1\n",
    "        return res"
   ]
  },
  {
   "cell_type": "code",
   "execution_count": 2,
   "metadata": {},
   "outputs": [
    {
     "data": {
      "text/plain": [
       "2"
      ]
     },
     "execution_count": 2,
     "metadata": {},
     "output_type": "execute_result"
    }
   ],
   "source": [
    "Solution().seven_good_number(100)"
   ]
  },
  {
   "cell_type": "code",
   "execution_count": 13,
   "metadata": {},
   "outputs": [],
   "source": [
    "# 电信\n",
    "# 整数序列 a, 两个整数 x,k\n",
    "# 求出有多少个区间 [L, R], 使得该区间中恰好有 k 个a_i满足a_i能被 x 整除\n",
    "\n",
    "# [1,2,3,4],2,1\n",
    "# 6\n",
    "# 总共有6个区间，满足恰好有1个数被2整除\n",
    "# [1,2],[1,3],[2,2],[2,3],[3,4],[4,4]\n",
    "class Solution:\n",
    "    def kinterval(self, a, x: int, k: int) -> int:\n",
    "        res = 0\n",
    "        n = len(a)\n",
    "        dp = [0]*(n+1)\n",
    "        for i in range(n):\n",
    "            if a[i]%x==0:\n",
    "                dp[i+1] = dp[i]+1\n",
    "            else:\n",
    "                dp[i+1] = dp[i]\n",
    "        print(dp)\n",
    "        preSum = dict()\n",
    "        for i in range(n+1):\n",
    "            target = dp[i]-k\n",
    "            res += preSum.get(target, 0)\n",
    "            preSum[dp[i]] = preSum.get(dp[i], 0)+1\n",
    "            print(preSum)\n",
    "            print(res)\n",
    "        return res"
   ]
  },
  {
   "cell_type": "code",
   "execution_count": 14,
   "metadata": {},
   "outputs": [
    {
     "name": "stdout",
     "output_type": "stream",
     "text": [
      "[0, 0, 1, 1, 2]\n",
      "{0: 1}\n",
      "0\n",
      "{0: 2}\n",
      "0\n",
      "{0: 2, 1: 1}\n",
      "2\n",
      "{0: 2, 1: 2}\n",
      "4\n",
      "{0: 2, 1: 2, 2: 1}\n",
      "6\n"
     ]
    },
    {
     "data": {
      "text/plain": [
       "6"
      ]
     },
     "execution_count": 14,
     "metadata": {},
     "output_type": "execute_result"
    }
   ],
   "source": [
    "Solution().kinterval([1,2,3,4],2,1)"
   ]
  },
  {
   "cell_type": "code",
   "execution_count": null,
   "metadata": {},
   "outputs": [],
   "source": [
    "# 142 双周赛\n",
    "# 找到初始输入字符串 I\n",
    "# https://leetcode.cn/contest/biweekly-contest-142/problems/find-the-original-typed-string-i/description/\n",
    "\n",
    "from collections import defaultdict\n",
    "class Solution:\n",
    "    def possibleStringCount(self, word: str) -> int:\n",
    "        dic = defaultdict(int)\n",
    "        res = 0\n",
    "        if len(word)==1:\n",
    "            return 1\n",
    "        dic[word[0]] += 1\n",
    "        for i in range(1, len(word)):\n",
    "            if word[i]==word[i-1]:\n",
    "                dic[word[i]] += 1\n",
    "            else:\n",
    "                res += dic[word[i-1]]-1\n",
    "                dic[word[i-1]] = 0\n",
    "                dic[word[i]] += 1\n",
    "        res += dic[word[-1]]\n",
    "        return res"
   ]
  },
  {
   "cell_type": "code",
   "execution_count": null,
   "metadata": {},
   "outputs": [],
   "source": [
    "# 142 双周赛\n",
    "# 修改后子树的大小\n",
    "# https://leetcode.cn/contest/biweekly-contest-142/problems/find-subtree-sizes-after-changes/description/\n",
    "\n",
    "from collections import defaultdict\n",
    "class Solution:\n",
    "    def findSubtreeSizes(self, parent: List[int], s: str) -> List[int]:\n",
    "        n = len(parent)\n",
    "        sons = defaultdict(list)\n",
    "        for i in range(1, n):\n",
    "            sons[parent[i]].append(i)\n",
    "        new_tree = parent.copy()\n",
    "        res= [0] * n\n",
    "\n",
    "        def find(i, target):\n",
    "            while i != -1:\n",
    "                if s[i] == target:\n",
    "                    return i\n",
    "                i = parent[i]\n",
    "            return -1\n",
    "        \n",
    "        for i in range(1, n):\n",
    "            y = find(parent[i], s[i])\n",
    "            if y != -1:\n",
    "                sons[parent[i]].remove(i)\n",
    "                new_tree[i] = y\n",
    "                sons[y].append(i)\n",
    "\n",
    "        def traverse(i):\n",
    "            size = 1\n",
    "            for child in sons[i]:\n",
    "                size += traverse(child)\n",
    "            res[i] = size\n",
    "            return size\n",
    "\n",
    "        traverse(0)\n",
    "        return res"
   ]
  },
  {
   "cell_type": "code",
   "execution_count": null,
   "metadata": {},
   "outputs": [],
   "source": [
    "# 142 双周赛\n",
    "# 旅客可以得到的最多点数\n",
    "# https://leetcode.cn/contest/biweekly-contest-142/problems/maximum-points-tourist-can-earn/description/\n",
    "\n",
    "class Solution:\n",
    "    def maxScore(self, n: int, k: int, stayScore: List[List[int]], travelScore: List[List[int]]) -> int:\n",
    "        # dp[i][c] 代表在第 i 天结束时，位于城市 c 会获得的最大点数\n",
    "        dp = [0]*n\n",
    "        for i in range(n):\n",
    "            stay = stayScore[0][i]\n",
    "            travel = 0\n",
    "            for o in range(n):\n",
    "                if o != i:\n",
    "                    travel = max(travel, travelScore[o][i])\n",
    "            dp[i] = max(stay, travel)\n",
    "        # 定义一个临时 dp_temp\n",
    "        for d in range(1, k):\n",
    "            dp_temp = [0]*n\n",
    "            for i in range(n):\n",
    "                stay = dp[i] + stayScore[d][i]\n",
    "                travel = 0\n",
    "                for o in range(n):\n",
    "                    if o != i:\n",
    "                        travel = max(travel, dp[o] + travelScore[o][i])\n",
    "                dp_temp[i] = max(stay, travel)\n",
    "            dp = dp_temp\n",
    "        return max(dp)"
   ]
  }
 ],
 "metadata": {
  "kernelspec": {
   "display_name": "base",
   "language": "python",
   "name": "python3"
  },
  "language_info": {
   "codemirror_mode": {
    "name": "ipython",
    "version": 3
   },
   "file_extension": ".py",
   "mimetype": "text/x-python",
   "name": "python",
   "nbconvert_exporter": "python",
   "pygments_lexer": "ipython3",
   "version": "3.11.5"
  }
 },
 "nbformat": 4,
 "nbformat_minor": 2
}
