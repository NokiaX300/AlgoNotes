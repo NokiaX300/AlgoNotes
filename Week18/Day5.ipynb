{
 "cells": [
  {
   "cell_type": "code",
   "execution_count": null,
   "metadata": {},
   "outputs": [],
   "source": [
    "# 华为真题\n",
    "# N叉树子节点之和加上自身节点值\n",
    "# 输入层序遍历结果共 2N 个数, 其中一半为 -1\n",
    "# 第x个 -1 是第x个节点的标志\n",
    "# 如果这个 -1 后还是 -1, 说明x节点没有子节点\n",
    "# 否则 -1 后的节点都是x节点的子节点\n",
    "# 输入 [5,-1,2,3,8,-1,-1,1,7,-1,-1,-1]\n",
    "# 如图所示\n",
    "# 输出 [26,-1,2,11,8,-1,-1,1,7,-1,-1,-1]"
   ]
  },
  {
   "cell_type": "markdown",
   "metadata": {},
   "source": [
    "         5                 26\n",
    "       / | \\             / |  \\\n",
    "      2  3   8         2   11   8\n",
    "         / \\               / \\\n",
    "        1   7            1    7"
   ]
  },
  {
   "cell_type": "code",
   "execution_count": null,
   "metadata": {},
   "outputs": [],
   "source": [
    "# 力扣编程基础-01\n",
    "# 1768. 交替合并字符串\n",
    "# https://leetcode.cn/problems/merge-strings-alternately/description/?envType=study-plan-v2&envId=programming-skills\n",
    "\n",
    "class Solution:\n",
    "    def mergeAlternately(self, word1: str, word2: str) -> str:\n",
    "        res = ''\n",
    "        while word1 and word2:\n",
    "            res += word1[0]\n",
    "            res += word2[0]\n",
    "            word1 = word1[1:]\n",
    "            word2 = word2[1:]\n",
    "        if word1:\n",
    "            res += word1\n",
    "        if word2:\n",
    "            res += word2\n",
    "        return res"
   ]
  },
  {
   "cell_type": "code",
   "execution_count": 1,
   "metadata": {},
   "outputs": [
    {
     "name": "stdout",
     "output_type": "stream",
     "text": [
      "a\n",
      "d\n"
     ]
    }
   ],
   "source": [
    "w = 'ad'\n",
    "while w:\n",
    "    print(w[0])\n",
    "    w=w[1:]"
   ]
  },
  {
   "cell_type": "code",
   "execution_count": null,
   "metadata": {},
   "outputs": [],
   "source": [
    "# 力扣编程基础-02\n",
    "# 389. 找不同\n",
    "# https://leetcode.cn/problems/find-the-difference/?envType=study-plan-v2&envId=programming-skills\n",
    "\n",
    "class Solution:\n",
    "    def findTheDifference(self, s: str, t: str) -> str:\n",
    "        s = sorted(s)\n",
    "        t = sorted(t)\n",
    "        for i in range(len(s)):\n",
    "            if s[i] != t[i]:\n",
    "                return t[i]\n",
    "        return t[-1]"
   ]
  },
  {
   "cell_type": "code",
   "execution_count": null,
   "metadata": {},
   "outputs": [],
   "source": [
    "# 力扣编程基础-03\n",
    "# 28. 找出字符串中第一个匹配项的下标\n",
    "# https://leetcode.cn/problems/find-the-index-of-the-first-occurrence-in-a-string/description/?envType=study-plan-v2&envId=programming-skills\n",
    "\n",
    "class Solution:\n",
    "    def strStr(self, haystack: str, needle: str) -> int:\n",
    "        def check(i):\n",
    "            if needle==haystack[i:i+len(needle)]:\n",
    "                return True\n",
    "            return False\n",
    "        for i in range(len(haystack)-len(needle)+1):\n",
    "            if check(i):\n",
    "                return i\n",
    "        return -1"
   ]
  },
  {
   "cell_type": "code",
   "execution_count": null,
   "metadata": {},
   "outputs": [],
   "source": [
    "# 力扣编程基础-04\n",
    "# 242. 有效的字母异位词\n",
    "# https://leetcode.cn/problems/valid-anagram/description/?envType=study-plan-v2&envId=programming-skills\n",
    "\n",
    "class Solution:\n",
    "    def isAnagram(self, s: str, t: str) -> bool:\n",
    "        return sorted(s)==sorted(t)"
   ]
  },
  {
   "cell_type": "code",
   "execution_count": null,
   "metadata": {},
   "outputs": [],
   "source": [
    "# 力扣编程基础-05\n",
    "# 459. 重复的子字符串\n",
    "# https://leetcode.cn/problems/repeated-substring-pattern/description/?envType=study-plan-v2&envId=programming-skills\n",
    "\n",
    "# 掐头去尾不会影响重复子串\n",
    "class Solution:\n",
    "    def repeatedSubstringPattern(self, s: str) -> bool:\n",
    "        t = s+s\n",
    "        t = t[1:-1]\n",
    "        return s in t"
   ]
  },
  {
   "cell_type": "code",
   "execution_count": null,
   "metadata": {},
   "outputs": [],
   "source": [
    "# 力扣编程基础-06\n",
    "# 283. 移动零\n",
    "# https://leetcode.cn/problems/move-zeroes/?envType=study-plan-v2&envId=programming-skills\n",
    "\n",
    "class Solution:\n",
    "    def moveZeroes(self, nums: List[int]) -> None:\n",
    "        for i in range(len(nums)-2,-1,-1):\n",
    "            if nums[i]!=0:\n",
    "                continue\n",
    "            while i+1<len(nums):\n",
    "                nums[i],nums[i+1] = nums[i+1],nums[i]\n",
    "                i += 1"
   ]
  },
  {
   "cell_type": "code",
   "execution_count": null,
   "metadata": {},
   "outputs": [],
   "source": [
    "# 力扣编程基础-07\n",
    "# 66. 加一\n",
    "# https://leetcode.cn/problems/plus-one/?envType=study-plan-v2&envId=programming-skills\n",
    "\n",
    "# class Solution:\n",
    "#     def plusOne(self, digits: List[int]) -> List[int]:\n",
    "#         res = []\n",
    "#         for i in range(len(digits)):\n",
    "#             a = digits[i]+1\n",
    "#             res.extend(list(str(a)))\n",
    "#         return list(map(int, res))\n",
    "\n",
    "class Solution:\n",
    "    def plusOne(self, digits: List[int]) -> List[int]:\n",
    "        a = int(''.join(map(str, digits)))\n",
    "        a += 1\n",
    "        return list(map(int, list(str(a))))"
   ]
  },
  {
   "cell_type": "code",
   "execution_count": 3,
   "metadata": {},
   "outputs": [
    {
     "data": {
      "text/plain": [
       "['1', '0']"
      ]
     },
     "execution_count": 3,
     "metadata": {},
     "output_type": "execute_result"
    }
   ],
   "source": [
    "a = 10\n",
    "b = list(str(a))\n",
    "b"
   ]
  },
  {
   "cell_type": "code",
   "execution_count": null,
   "metadata": {},
   "outputs": [],
   "source": [
    "# 力扣编程基础-08\n",
    "# 1822. 数组元素积的符号\n",
    "# https://leetcode.cn/problems/sign-of-the-product-of-an-array/description/?envType=study-plan-v2&envId=programming-skills\n",
    "\n",
    "class Solution:\n",
    "    def arraySign(self, nums: List[int]) -> int:\n",
    "        flag = 1\n",
    "        for _,c in enumerate(nums):\n",
    "            if c>0:\n",
    "                continue\n",
    "            elif c<0:\n",
    "                if flag>0:\n",
    "                    flag = -1\n",
    "                else:\n",
    "                    flag = 1\n",
    "            else:\n",
    "                return 0\n",
    "        return flag"
   ]
  },
  {
   "cell_type": "code",
   "execution_count": null,
   "metadata": {},
   "outputs": [],
   "source": [
    "# 力扣编程基础-09\n",
    "# 1502. 判断能否形成等差数列\n",
    "# https://leetcode.cn/problems/can-make-arithmetic-progression-from-sequence/description/?envType=study-plan-v2&envId=programming-skills\n",
    "\n",
    "class Solution:\n",
    "    def canMakeArithmeticProgression(self, arr: List[int]) -> bool:\n",
    "        arr = sorted(arr)\n",
    "        d = arr[1]-arr[0]\n",
    "        for i in range(2, len(arr)):\n",
    "            if arr[i] != arr[i-1]+d:\n",
    "                return False\n",
    "        return True"
   ]
  },
  {
   "cell_type": "code",
   "execution_count": null,
   "metadata": {},
   "outputs": [],
   "source": [
    "# 力扣编程基础-10\n",
    "# 896. 单调数列\n",
    "# https://leetcode.cn/problems/monotonic-array/description/?envType=study-plan-v2&envId=programming-skills\n",
    "\n",
    "class Solution:\n",
    "    def isMonotonic(self, nums: List[int]) -> bool:\n",
    "        flag1 = False\n",
    "        flag2 = False\n",
    "        for i in range(1, len(nums)):\n",
    "            if nums[i]>nums[i-1]:\n",
    "                flag1 = True\n",
    "            elif nums[i]<nums[i-1]:\n",
    "                flag2 = True\n",
    "        return not (flag1 and flag2)"
   ]
  },
  {
   "cell_type": "code",
   "execution_count": 6,
   "metadata": {},
   "outputs": [
    {
     "name": "stdout",
     "output_type": "stream",
     "text": [
      "[0, 1, 3, 7]\n",
      "[1, 1, 2]\n"
     ]
    }
   ],
   "source": [
    "a = [1,2,4]\n",
    "preSum = [0]*4\n",
    "diff = [0]*3\n",
    "for i in range(len(a)):\n",
    "    preSum[i+1] = preSum[i]+a[i]\n",
    "print(preSum)\n",
    "\n",
    "diff[0] = a[0]\n",
    "for i in range(1, len(a)):\n",
    "    diff[i] = a[i]-a[i-1]\n",
    "print(diff)"
   ]
  },
  {
   "cell_type": "code",
   "execution_count": null,
   "metadata": {},
   "outputs": [],
   "source": [
    "# 力扣编程基础-11\n",
    "# 13. 罗马数字转整数\n",
    "# https://leetcode.cn/problems/roman-to-integer/description/?envType=study-plan-v2&envId=programming-skills\n",
    "\n",
    "from itertools import pairwise\n",
    "class Solution:\n",
    "    def romanToInt(self, s: str) -> int:\n",
    "        ROMAN = {\n",
    "        'I': 1,\n",
    "        'V': 5,\n",
    "        'X': 10,\n",
    "        'L': 50,\n",
    "        'C': 100,\n",
    "        'D': 500,\n",
    "        'M': 1000,\n",
    "    }\n",
    "        ans = 0\n",
    "        for x, y in pairwise(s):  # 遍历相邻的罗马数字\n",
    "            x, y = ROMAN[x], ROMAN[y]\n",
    "            ans += x if x >= y else -x\n",
    "        return ans + ROMAN[s[-1]]  # 加上最后一个"
   ]
  },
  {
   "cell_type": "code",
   "execution_count": null,
   "metadata": {},
   "outputs": [],
   "source": [
    "# 力扣编程基础-12\n",
    "# 58. 最后一个单词的长度\n",
    "# https://leetcode.cn/problems/length-of-last-word/?envType=study-plan-v2&envId=programming-skills\n",
    "\n",
    "class Solution:\n",
    "    def lengthOfLastWord(self, s: str) -> int:\n",
    "        return len(s.split()[-1])"
   ]
  },
  {
   "cell_type": "code",
   "execution_count": null,
   "metadata": {},
   "outputs": [],
   "source": [
    "# 力扣编程基础-13\n",
    "# 709. 转换成小写字母\n",
    "# https://leetcode.cn/problems/to-lower-case/description/?envType=study-plan-v2&envId=programming-skills\n",
    "\n",
    "class Solution:\n",
    "    def toLowerCase(self, s: str) -> str:\n",
    "        return s.lower()"
   ]
  },
  {
   "cell_type": "code",
   "execution_count": null,
   "metadata": {},
   "outputs": [],
   "source": [
    "# 力扣编程基础-14\n",
    "# 682. 棒球比赛\n",
    "# https://leetcode.cn/problems/baseball-game/?envType=study-plan-v2&envId=programming-skills\n",
    "\n",
    "class Solution:\n",
    "    def calPoints(self, operations: List[str]) -> int:\n",
    "        st = []\n",
    "        for _,c in enumerate(operations):\n",
    "            if c == '+':\n",
    "                st.append(st[-2]+st[-1])\n",
    "            elif c == 'D':\n",
    "                st.append(st[-1]*2)\n",
    "            elif c == 'C':\n",
    "                st.pop()\n",
    "            else:\n",
    "                st.append(int(c))\n",
    "        return sum(st)"
   ]
  },
  {
   "cell_type": "code",
   "execution_count": null,
   "metadata": {},
   "outputs": [],
   "source": [
    "# 力扣编程基础-15\n",
    "# 657. 机器人能否返回原点\n",
    "# https://leetcode.cn/problems/robot-return-to-origin/description/?envType=study-plan-v2&envId=programming-skills\n",
    "\n",
    "from collections import Counter\n",
    "class Solution:\n",
    "    def judgeCircle(self, moves: str) -> bool:\n",
    "        dic = Counter(moves)\n",
    "        if dic['U']==dic['D'] and dic['L']==dic['R']:\n",
    "            return True\n",
    "        return False"
   ]
  },
  {
   "cell_type": "code",
   "execution_count": null,
   "metadata": {},
   "outputs": [],
   "source": [
    "# 力扣编程基础-16\n",
    "# 1275. 找出井字棋的获胜者\n",
    "# https://leetcode.cn/problems/find-winner-on-a-tic-tac-toe-game/description/?envType=study-plan-v2&envId=programming-skills\n",
    "\n",
    "class Solution:\n",
    "    def tictactoe(self, moves: List[List[int]]) -> str:\n",
    "        wins = [\n",
    "            [(0, 0), (0, 1), (0, 2)],\n",
    "            [(1, 0), (1, 1), (1, 2)],\n",
    "            [(2, 0), (2, 1), (2, 2)],\n",
    "            [(0, 0), (1, 0), (2, 0)],\n",
    "            [(0, 1), (1, 1), (2, 1)],\n",
    "            [(0, 2), (1, 2), (2, 2)],\n",
    "            [(0, 0), (1, 1), (2, 2)],\n",
    "            [(0, 2), (1, 1), (2, 0)],\n",
    "        ]\n",
    "\n",
    "        def checkwin(S):\n",
    "            for win in wins:\n",
    "                flag = True\n",
    "                for pos in win:\n",
    "                    if pos not in S:\n",
    "                        flag = False\n",
    "                        break\n",
    "                if flag:\n",
    "                    return True\n",
    "            return False\n",
    "\n",
    "        A, B = set(), set()\n",
    "        for i, (x, y) in enumerate(moves):\n",
    "            if i % 2 == 0:\n",
    "                A.add((x, y))\n",
    "                if checkwin(A):\n",
    "                    return \"A\"\n",
    "            else:\n",
    "                B.add((x, y))\n",
    "                if checkwin(B):\n",
    "                    return \"B\"\n",
    "        \n",
    "        return \"Draw\" if len(moves) == 9 else \"Pending\""
   ]
  },
  {
   "cell_type": "code",
   "execution_count": null,
   "metadata": {},
   "outputs": [],
   "source": [
    "# 力扣编程基础-17\n",
    "# 1041. 困于环中的机器人\n",
    "# https://leetcode.cn/problems/robot-bounded-in-circle/description/?envType=study-plan-v2&envId=programming-skills\n",
    "\n",
    "class Solution:\n",
    "    def isRobotBounded(self, instructions: str) -> bool:\n",
    "        direc = [[0, 1], [1, 0], [0, -1], [-1, 0]]\n",
    "        direcIndex = 0\n",
    "        x, y = 0, 0\n",
    "        for instruction in instructions:\n",
    "            if instruction == 'G':\n",
    "                x += direc[direcIndex][0]\n",
    "                y += direc[direcIndex][1]\n",
    "            elif instruction == 'L':\n",
    "                direcIndex -= 1\n",
    "                direcIndex %= 4\n",
    "            else:\n",
    "                direcIndex += 1\n",
    "                direcIndex %= 4\n",
    "        return direcIndex != 0 or (x == 0 and y == 0)"
   ]
  },
  {
   "cell_type": "code",
   "execution_count": null,
   "metadata": {},
   "outputs": [],
   "source": [
    "# 力扣编程基础-18\n",
    "# 1672. 最富有客户的资产总量\n",
    "# https://leetcode.cn/problems/richest-customer-wealth/description/?envType=study-plan-v2&envId=programming-skills\n",
    "\n",
    "class Solution:\n",
    "    def maximumWealth(self, accounts: List[List[int]]) -> int:\n",
    "        return max(sum(accounts[i]) for i in range(len(accounts)))"
   ]
  },
  {
   "cell_type": "code",
   "execution_count": null,
   "metadata": {},
   "outputs": [],
   "source": [
    "# 力扣编程基础-19\n",
    "# 1572. 矩阵对角线元素的和\n",
    "# https://leetcode.cn/problems/matrix-diagonal-sum/description/?envType=study-plan-v2&envId=programming-skills\n",
    "\n",
    "class Solution:\n",
    "    def diagonalSum(self, mat: List[List[int]]) -> int:\n",
    "        return sum(mat[i][j] for i in range(len(mat)) for j in range(len(mat)) if i==j or i+j==len(mat)-1)"
   ]
  },
  {
   "cell_type": "code",
   "execution_count": null,
   "metadata": {},
   "outputs": [],
   "source": [
    "# 力扣编程基础-20\n",
    "# 54. 螺旋矩阵\n",
    "# https://leetcode.cn/problems/spiral-matrix/\n",
    "\n",
    "class Solution:\n",
    "    def check(self):\n",
    "        return not self.left_bound<=self.right_bound or not self.upper_bound<=self.lower_bound\n",
    "\n",
    "    def spiralOrder(self, matrix: List[List[int]]) -> List[int]:\n",
    "        m = len(matrix)\n",
    "        n = len(matrix[0])\n",
    "        self.left_bound = 0\n",
    "        self.right_bound = n-1\n",
    "        self.upper_bound = 0\n",
    "        self.lower_bound = m-1\n",
    "        res = []\n",
    "        while len(res) < m*n:\n",
    "            if self.check():break\n",
    "            for j in range(self.left_bound, self.right_bound+1):\n",
    "                res.append(matrix[self.upper_bound][j])\n",
    "            self.upper_bound += 1\n",
    "            if self.check():break\n",
    "            for i in range(self.upper_bound, self.lower_bound+1):\n",
    "                res.append(matrix[i][self.right_bound])\n",
    "            self.right_bound -= 1\n",
    "            if self.check():break\n",
    "            for g in range(self.right_bound, self.left_bound-1, -1):\n",
    "                res.append(matrix[self.lower_bound][g])\n",
    "            self.lower_bound -= 1\n",
    "            if self.check():break\n",
    "            for h in range(self.lower_bound, self.upper_bound-1, -1):\n",
    "                res.append(matrix[h][self.left_bound])\n",
    "            self.left_bound += 1\n",
    "        return res"
   ]
  },
  {
   "cell_type": "code",
   "execution_count": null,
   "metadata": {},
   "outputs": [],
   "source": [
    "# 力扣编程基础-21\n",
    "# 73. 矩阵置零\n",
    "# https://leetcode.cn/problems/set-matrix-zeroes/description/?envType=study-plan-v2&envId=top-100-liked\n",
    "\n",
    "class Solution:\n",
    "    def setZeroes(self, matrix: List[List[int]]) -> None:\n",
    "        i = 0\n",
    "        j = 0\n",
    "        m = len(matrix)\n",
    "        n = len(matrix[0])\n",
    "        for i in range(m):\n",
    "            for j in range(n):\n",
    "                if matrix[i][j] == 0:\n",
    "                    for p in range(m):\n",
    "                        if matrix[p][j] != 0:\n",
    "                            matrix[p][j] = 's'\n",
    "                    for q in range(n):\n",
    "                        if matrix[i][q] != 0:\n",
    "                            matrix[i][q] = 's'\n",
    "        for i in range(m):\n",
    "            for j in range(n):\n",
    "                if matrix[i][j] == 's':\n",
    "                    matrix[i][j] = 0"
   ]
  },
  {
   "cell_type": "code",
   "execution_count": null,
   "metadata": {},
   "outputs": [],
   "source": [
    "# 力扣编程基础-22\n",
    "# 1523. 在区间范围内统计奇数数目\n",
    "# https://leetcode.cn/problems/count-odd-numbers-in-an-interval-range/?envType=study-plan-v2&envId=programming-skills\n",
    "\n",
    "# 超时\n",
    "# class Solution:\n",
    "#     def countOdds(self, low: int, high: int) -> int:\n",
    "#         res = 0\n",
    "#         for i in range(high, low-1, -1):\n",
    "#             if i%2==1:\n",
    "#                 res += 1\n",
    "#         return res\n",
    "\n",
    "class Solution:\n",
    "    def countOdds(self, low: int, high: int) -> int:\n",
    "        res = 0\n",
    "        a = False\n",
    "        b = False\n",
    "        if low%2==1:\n",
    "            res += 1\n",
    "            a = True\n",
    "        if high%2==1:\n",
    "            res += 1\n",
    "            b = True\n",
    "        if a and b:\n",
    "            res += (high-low)//2-1\n",
    "        else:\n",
    "            res += (high-low)//2\n",
    "        return res"
   ]
  },
  {
   "cell_type": "code",
   "execution_count": null,
   "metadata": {},
   "outputs": [],
   "source": [
    "# 力扣编程基础-23\n",
    "# 1491. 去掉最低工资和最高工资后的工资平均值\n",
    "# https://leetcode.cn/problems/average-salary-excluding-the-minimum-and-maximum-salary/description/?envType=study-plan-v2&envId=programming-skills\n",
    "\n",
    "class Solution:\n",
    "    def average(self, salary: List[int]) -> float:\n",
    "        n = len(salary)-2\n",
    "        salary = sorted(salary)[1:-1]\n",
    "        return sum(salary)/n"
   ]
  },
  {
   "cell_type": "code",
   "execution_count": null,
   "metadata": {},
   "outputs": [],
   "source": [
    "# 力扣编程基础-24\n",
    "# 860. 柠檬水找零\n",
    "# https://leetcode.cn/problems/lemonade-change/description/?envType=study-plan-v2&envId=programming-skills\n",
    "\n",
    "class Solution:\n",
    "    def lemonadeChange(self, bills: List[int]) -> bool:\n",
    "        five = 0\n",
    "        ten = 0\n",
    "        for _,c in enumerate(bills):\n",
    "            if c==5:\n",
    "                five += 1\n",
    "            elif c==10:\n",
    "                five -= 1\n",
    "                ten += 1\n",
    "            # 直接在这里分叉\n",
    "            elif ten:\n",
    "                ten -= 1\n",
    "                five -= 1\n",
    "            else:\n",
    "                five -= 3\n",
    "            if five<0:\n",
    "                return False\n",
    "        return True"
   ]
  },
  {
   "cell_type": "code",
   "execution_count": null,
   "metadata": {},
   "outputs": [],
   "source": [
    "# 力扣编程基础-25\n",
    "# 976. 三角形的最大周长\n",
    "# https://leetcode.cn/problems/largest-perimeter-triangle/description/?envType=study-plan-v2&envId=programming-skills\n",
    "\n",
    "class Solution:\n",
    "    def largestPerimeter(self, nums: List[int]) -> int:\n",
    "        nums = sorted(nums)\n",
    "        res = 0\n",
    "        for i in range(len(nums)-1,1,-1):\n",
    "            if nums[i] >= nums[i-1]+nums[i-2]:\n",
    "                continue\n",
    "            res = max(res, nums[i]+nums[i-1]+nums[i-2])\n",
    "        return res"
   ]
  }
 ],
 "metadata": {
  "kernelspec": {
   "display_name": "base",
   "language": "python",
   "name": "python3"
  },
  "language_info": {
   "codemirror_mode": {
    "name": "ipython",
    "version": 3
   },
   "file_extension": ".py",
   "mimetype": "text/x-python",
   "name": "python",
   "nbconvert_exporter": "python",
   "pygments_lexer": "ipython3",
   "version": "3.11.5"
  }
 },
 "nbformat": 4,
 "nbformat_minor": 2
}
