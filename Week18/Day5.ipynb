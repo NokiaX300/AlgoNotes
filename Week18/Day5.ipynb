{
 "cells": [
  {
   "cell_type": "code",
   "execution_count": null,
   "metadata": {},
   "outputs": [],
   "source": [
    "# 华为真题\n",
    "# N叉树子节点之和加上自身节点值\n",
    "# 输入层序遍历结果共 2N 个数, 其中一半为 -1\n",
    "# 第x个 -1 是第x个节点的标志\n",
    "# 如果这个 -1 后还是 -1, 说明x节点没有子节点\n",
    "# 否则 -1 后的节点都是x节点的子节点\n",
    "# 输入 [5,-1,2,3,8,-1,-1,1,7,-1,-1,-1]\n",
    "# 如图所示\n",
    "# 输出 [26,-1,2,11,8,-1,-1,1,7,-1,-1,-1]"
   ]
  },
  {
   "cell_type": "markdown",
   "metadata": {},
   "source": [
    "         5                 26\n",
    "       / | \\             / |  \\\n",
    "      2  3   8         2   11   8\n",
    "         / \\               / \\\n",
    "        1   7            1    7"
   ]
  },
  {
   "cell_type": "code",
   "execution_count": null,
   "metadata": {},
   "outputs": [],
   "source": [
    "# 力扣编程基础-01\n",
    "# 1768. 交替合并字符串\n",
    "# https://leetcode.cn/problems/merge-strings-alternately/description/?envType=study-plan-v2&envId=programming-skills\n",
    "\n",
    "class Solution:\n",
    "    def mergeAlternately(self, word1: str, word2: str) -> str:\n",
    "        "
   ]
  }
 ],
 "metadata": {
  "kernelspec": {
   "display_name": "base",
   "language": "python",
   "name": "python3"
  },
  "language_info": {
   "codemirror_mode": {
    "name": "ipython",
    "version": 3
   },
   "file_extension": ".py",
   "mimetype": "text/x-python",
   "name": "python",
   "nbconvert_exporter": "python",
   "pygments_lexer": "ipython3",
   "version": "3.11.5"
  }
 },
 "nbformat": 4,
 "nbformat_minor": 2
}
