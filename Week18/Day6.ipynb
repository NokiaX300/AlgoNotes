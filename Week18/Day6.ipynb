{
 "cells": [
  {
   "cell_type": "code",
   "execution_count": null,
   "metadata": {},
   "outputs": [],
   "source": [
    "# 力扣编程基础-26\n",
    "# 1232. 缀点成线\n",
    "# https://leetcode.cn/problems/check-if-it-is-a-straight-line/?envType=study-plan-v2&envId=programming-skills\n",
    "\n",
    "# 利用向量共线性\n",
    "class Solution:\n",
    "    def checkStraightLine(self, coordinates: List[List[int]]) -> bool:\n",
    "        x0 = coordinates[0][0]\n",
    "        y0 = coordinates[0][1]\n",
    "        x = coordinates[1][0]-x0\n",
    "        y = coordinates[1][1]-y0\n",
    "        for i in range(2, len(coordinates)):\n",
    "            xi = coordinates[i][0]-x0\n",
    "            yi = coordinates[i][1]-y0\n",
    "            if x*yi-y*xi:\n",
    "                return False\n",
    "        return True"
   ]
  },
  {
   "cell_type": "code",
   "execution_count": null,
   "metadata": {},
   "outputs": [],
   "source": [
    "# 力扣编程基础-27\n",
    "# 67. 二进制求和\n",
    "# https://leetcode.cn/problems/add-binary/?envType=study-plan-v2&envId=programming-skills\n",
    "\n",
    "class Solution:\n",
    "    def addBinary(self, a: str, b: str) -> str:\n",
    "        return str(bin(int(a, 2)+int(b, 2)))[2:]"
   ]
  },
  {
   "cell_type": "code",
   "execution_count": 13,
   "metadata": {},
   "outputs": [
    {
     "data": {
      "text/plain": [
       "'100'"
      ]
     },
     "execution_count": 13,
     "metadata": {},
     "output_type": "execute_result"
    }
   ],
   "source": [
    "a = '11'\n",
    "b = '1'\n",
    "str(bin(int(a, 2)+int(b, 2)))[2:]"
   ]
  },
  {
   "cell_type": "code",
   "execution_count": null,
   "metadata": {},
   "outputs": [],
   "source": [
    "# 力扣编程基础-28\n",
    "# 43. 字符串相乘\n",
    "# https://leetcode.cn/problems/multiply-strings/description/?envType=study-plan-v2&envId=programming-skills\n",
    "\n",
    "class Solution:\n",
    "    def multiply(self, num1: str, num2: str) -> str:\n",
    "        return str(eval(num1+'*'+num2))"
   ]
  },
  {
   "cell_type": "code",
   "execution_count": null,
   "metadata": {},
   "outputs": [],
   "source": [
    "# 力扣编程基础-29\n",
    "# 50. Pow(x, n)\n",
    "# https://leetcode.cn/problems/powx-n/description/?envType=study-plan-v2&envId=programming-skills\n",
    "\n",
    "class Solution:\n",
    "    def myPow(self, x: float, n: int) -> float:\n",
    "        if n>=0:\n",
    "            return self.cal(x, n)\n",
    "        else:\n",
    "            return 1/self.cal(x, -n)\n",
    "        \n",
    "    def cal(self, x, n):\n",
    "        if n==0:\n",
    "            return 1\n",
    "        part = self.cal(x, n//2)\n",
    "        result = part*part # 写成 part**2 会溢出\n",
    "        if n%2 == 1:\n",
    "            result *= x\n",
    "        return result"
   ]
  },
  {
   "cell_type": "code",
   "execution_count": null,
   "metadata": {},
   "outputs": [],
   "source": [
    "# 力扣编程基础-30\n",
    "# 21. 合并两个有序链表\n",
    "# https://leetcode.cn/problems/merge-two-sorted-lists/description/?envType=study-plan-v2&envId=programming-skills\n",
    "\n",
    "class Solution:\n",
    "    def mergeTwoLists(self, list1: Optional[ListNode], list2: Optional[ListNode]) -> Optional[ListNode]:\n",
    "        p1 = list1\n",
    "        p2 = list2\n",
    "        dummy = ListNode(-1)\n",
    "        p = dummy\n",
    "        while p1 and p2:\n",
    "            if p1.val<p2.val:\n",
    "                p.next = p1\n",
    "                p1 = p1.next\n",
    "            else:\n",
    "                p.next = p2\n",
    "                p2 = p2.next\n",
    "            p = p.next\n",
    "        if p1:\n",
    "            p.next = p1\n",
    "        if p2:\n",
    "            p.next = p2\n",
    "        return dummy.next"
   ]
  },
  {
   "cell_type": "code",
   "execution_count": null,
   "metadata": {},
   "outputs": [],
   "source": [
    "# 力扣编程基础-31\n",
    "# 206. 反转链表\n",
    "# https://leetcode.cn/problems/reverse-linked-list/description/?envType=study-plan-v2&envId=programming-skills\n",
    "\n",
    "# 迭代\n",
    "class Solution:\n",
    "    def reverseList(self, head: Optional[ListNode]) -> Optional[ListNode]:\n",
    "        dummy = ListNode(-1)\n",
    "        while head:\n",
    "            head.next, head, dummy.next = dummy.next, head.next, head\n",
    "        return dummy.next"
   ]
  },
  {
   "cell_type": "code",
   "execution_count": null,
   "metadata": {},
   "outputs": [],
   "source": [
    "# 力扣编程基础-31\n",
    "# 206. 反转链表\n",
    "# https://leetcode.cn/problems/reverse-linked-list/description/?envType=study-plan-v2&envId=programming-skills\n",
    "\n",
    "# 递归\n",
    "class Solution:\n",
    "    def reverseList(self, head: Optional[ListNode]) -> Optional[ListNode]:\n",
    "        if not head or not head.next:\n",
    "            return head\n",
    "        last = self.reverseList(head.next)\n",
    "        head.next.next = head\n",
    "        head.next = None\n",
    "        return last"
   ]
  },
  {
   "cell_type": "code",
   "execution_count": null,
   "metadata": {},
   "outputs": [],
   "source": [
    "# 力扣编程基础-32\n",
    "# 2. 两数相加\n",
    "# https://leetcode.cn/problems/add-two-numbers/description/?envType=study-plan-v2&envId=programming-skills\n",
    "\n",
    "class Solution:\n",
    "    def addTwoNumbers(self, l1: Optional[ListNode], l2: Optional[ListNode]) -> Optional[ListNode]:\n",
    "        carry = 0\n",
    "        dummy = ListNode(-1)\n",
    "        p = dummy\n",
    "        while l1 or l2 or carry:\n",
    "            if l1:\n",
    "                v1 = l1.val\n",
    "                l1 = l1.next\n",
    "            else:\n",
    "                v1 = 0\n",
    "            if l2:\n",
    "                v2 = l2.val\n",
    "                l2 = l2.next\n",
    "            else:\n",
    "                v2 = 0\n",
    "            summ = v1+v2+carry\n",
    "            carry = summ//10\n",
    "            summ %= 10\n",
    "            p.next = ListNode(summ)\n",
    "            p = p.next\n",
    "        return dummy.next"
   ]
  },
  {
   "cell_type": "code",
   "execution_count": null,
   "metadata": {},
   "outputs": [],
   "source": [
    "# 力扣编程基础-33\n",
    "# 445. 两数相加 II\n",
    "# https://leetcode.cn/problems/add-two-numbers-ii/description/?envType=study-plan-v2&envId=programming-skills\n",
    "\n",
    "# 先反转再相加\n",
    "class Solution:\n",
    "    def addTwoNumbers(self, l1: Optional[ListNode], l2: Optional[ListNode]) -> Optional[ListNode]:\n",
    "        def reverse(head):\n",
    "            if not head or not head.next:\n",
    "                return head\n",
    "            last = reverse(head.next)\n",
    "            head.next.next = head\n",
    "            head.next = None\n",
    "            return last\n",
    "        \n",
    "        def addTwo(l1, l2):\n",
    "            dummy = ListNode(-1)\n",
    "            p = dummy\n",
    "            carry = 0\n",
    "            while l1 or l2 or carry:\n",
    "                if l1:\n",
    "                    v1 = l1.val\n",
    "                    l1 = l1.next\n",
    "                else:\n",
    "                    v1 = 0\n",
    "                if l2:\n",
    "                    v2 = l2.val\n",
    "                    l2 = l2.next\n",
    "                else:\n",
    "                    v2 = 0\n",
    "                summ = v1+v2+carry\n",
    "                carry = summ//10\n",
    "                summ %= 10\n",
    "                p.next = ListNode(summ)\n",
    "                p = p.next\n",
    "            return dummy.next\n",
    "\n",
    "        l1 = reverse(l1)\n",
    "        l2 = reverse(l2)\n",
    "        l3 = addTwo(l1, l2)\n",
    "        return reverse(l3)"
   ]
  },
  {
   "cell_type": "code",
   "execution_count": null,
   "metadata": {},
   "outputs": [],
   "source": [
    "# 力扣入门-01\n",
    "# 2235. 两整数相加\n",
    "# https://leetcode.cn/problems/add-two-integers/description/?envType=study-plan-v2&envId=primers-list\n",
    "\n",
    "class Solution:\n",
    "    def sum(self, num1: int, num2: int) -> int:\n",
    "        return num1+num2"
   ]
  },
  {
   "cell_type": "code",
   "execution_count": null,
   "metadata": {},
   "outputs": [],
   "source": [
    "# 力扣入门-02\n",
    "# 2469. 温度转换\n",
    "# https://leetcode.cn/problems/convert-the-temperature/?envType=study-plan-v2&envId=primers-list\n",
    "\n",
    "class Solution:\n",
    "    def convertTemperature(self, celsius: float):\n",
    "        a = round(celsius+273.15, 5)\n",
    "        b = round(celsius*1.80+32.00, 5)\n",
    "        # return [f'{a:.5f}', f'{b:.5f}']\n",
    "        return [a, b]"
   ]
  },
  {
   "cell_type": "code",
   "execution_count": null,
   "metadata": {},
   "outputs": [
    {
     "data": {
      "text/plain": [
       "['309.65000', '97.70000']"
      ]
     },
     "execution_count": 5,
     "metadata": {},
     "output_type": "execute_result"
    }
   ],
   "source": [
    "Solution().convertTemperature(36.50)\n",
    "# 注意 f字符串 返回字符串\n",
    "# 浮点数取精度用 round"
   ]
  },
  {
   "cell_type": "code",
   "execution_count": null,
   "metadata": {},
   "outputs": [],
   "source": [
    "# 力扣入门-03\n",
    "# 2413. 最小偶倍数\n",
    "# https://leetcode.cn/problems/smallest-even-multiple/description/?envType=study-plan-v2&envId=primers-list\n",
    "\n",
    "class Solution:\n",
    "    def smallestEvenMultiple(self, n: int) -> int:\n",
    "        if n%2==1:\n",
    "            return 2*n\n",
    "        return n"
   ]
  },
  {
   "cell_type": "code",
   "execution_count": null,
   "metadata": {},
   "outputs": [],
   "source": [
    "# 力扣入门-04\n",
    "# 2236. 判断根结点是否等于子结点之和\n",
    "# https://leetcode.cn/problems/root-equals-sum-of-children/description/?envType=study-plan-v2&envId=primers-list\n",
    "\n",
    "class Solution:\n",
    "    def checkTree(self, root: Optional[TreeNode]) -> bool:\n",
    "        return root.val == root.left.val+root.right.val"
   ]
  },
  {
   "cell_type": "code",
   "execution_count": null,
   "metadata": {},
   "outputs": [],
   "source": [
    "# 力扣入门-05\n",
    "# 1486. 数组异或操作\n",
    "# https://leetcode.cn/problems/xor-operation-in-an-array/description/?envType=study-plan-v2&envId=primers-list\n",
    "\n",
    "class Solution:\n",
    "    def xorOperation(self, n: int, start: int) -> int:\n",
    "        res = start\n",
    "        for i in range(1, n):\n",
    "            res ^= start+2*i\n",
    "        return res"
   ]
  },
  {
   "cell_type": "code",
   "execution_count": null,
   "metadata": {},
   "outputs": [],
   "source": [
    "# 力扣入门-06\n",
    "# 1512. 好数对的数目\n",
    "# https://leetcode.cn/problems/number-of-good-pairs/description/?envType=study-plan-v2&envId=primers-list\n",
    "\n",
    "# 组合计数\n",
    "from collections import Counter\n",
    "class Solution:\n",
    "    def numIdenticalPairs(self, nums: List[int]) -> int:\n",
    "        dic = Counter(nums)\n",
    "        return sum(v*(v-1)//2 for v in dic.values())"
   ]
  },
  {
   "cell_type": "code",
   "execution_count": null,
   "metadata": {},
   "outputs": [],
   "source": [
    "# 力扣入门-06\n",
    "# 1512. 好数对的数目\n",
    "# https://leetcode.cn/problems/number-of-good-pairs/description/?envType=study-plan-v2&envId=primers-list\n",
    "\n",
    "# 灵神\n",
    "from collections import defaultdict\n",
    "class Solution:\n",
    "    def numIdenticalPairs(self, nums: List[int]) -> int:\n",
    "        dic = defaultdict(int)\n",
    "        res = 0\n",
    "        for _,c in enumerate(nums):\n",
    "            res += dic[c]\n",
    "            dic[c] += 1\n",
    "        return res "
   ]
  },
  {
   "cell_type": "code",
   "execution_count": null,
   "metadata": {},
   "outputs": [],
   "source": [
    "# 力扣入门-07\n",
    "# 1534. 统计好三元组\n",
    "# https://leetcode.cn/problems/count-good-triplets/description/?envType=study-plan-v2&envId=primers-list\n",
    "\n",
    "class Solution:\n",
    "    def countGoodTriplets(self, arr: List[int], a: int, b: int, c: int) -> int:\n",
    "        n = len(arr)\n",
    "        cnt = 0\n",
    "        for i in range(n):\n",
    "            for j in range(i + 1, n):\n",
    "                for k in range(j + 1, n):\n",
    "                    if abs(arr[i] - arr[j]) <= a and abs(arr[j] - arr[k]) <= b and abs(arr[i] - arr[k]) <= c:\n",
    "                        cnt += 1\n",
    "        return cnt"
   ]
  },
  {
   "cell_type": "code",
   "execution_count": null,
   "metadata": {
    "vscode": {
     "languageId": "sql"
    }
   },
   "outputs": [],
   "source": [
    "-- 力扣入门-08\n",
    "-- 584. 寻找用户推荐人\n",
    "-- https://leetcode.cn/problems/find-customer-referee/description/?envType=study-plan-v2&envId=primers-list\n",
    "\n",
    "SELECT name\n",
    "FROM Customer\n",
    "WHERE referee_id != 2 OR referee_id IS NULL"
   ]
  },
  {
   "cell_type": "code",
   "execution_count": null,
   "metadata": {
    "vscode": {
     "languageId": "sql"
    }
   },
   "outputs": [],
   "source": [
    "-- 力扣入门-09\n",
    "-- 1757. 可回收且低脂的产品\n",
    "-- https://leetcode.cn/problems/recyclable-and-low-fat-products/description/?envType=study-plan-v2&envId=primers-list\n",
    "\n",
    "SELECT product_id\n",
    "FROM Products\n",
    "WHERE low_fats='Y' AND recyclable='Y'"
   ]
  },
  {
   "cell_type": "code",
   "execution_count": null,
   "metadata": {},
   "outputs": [],
   "source": [
    "# 力扣入门-10\n",
    "# 709. 转换成小写字母\n",
    "# https://leetcode.cn/problems/to-lower-case/description/?envType=study-plan-v2&envId=primers-list\n",
    "\n",
    "class Solution:\n",
    "    def toLowerCase(self, s: str) -> str:\n",
    "        return s.lower()"
   ]
  },
  {
   "cell_type": "code",
   "execution_count": null,
   "metadata": {},
   "outputs": [],
   "source": [
    "# 力扣入门-11\n",
    "# 258. 各位相加\n",
    "# https://leetcode.cn/problems/add-digits/description/?envType=study-plan-v2&envId=primers-list\n",
    "\n",
    "class Solution:\n",
    "    def addDigits(self, num: int) -> int:\n",
    "        while num>=10:\n",
    "            summ = 0\n",
    "            for i in str(num):\n",
    "                summ += int(i)\n",
    "            num = summ\n",
    "        return num"
   ]
  },
  {
   "cell_type": "code",
   "execution_count": 9,
   "metadata": {},
   "outputs": [
    {
     "data": {
      "text/plain": [
       "['1', '0']"
      ]
     },
     "execution_count": 9,
     "metadata": {},
     "output_type": "execute_result"
    }
   ],
   "source": [
    "a = 10\n",
    "list(str(a))"
   ]
  },
  {
   "cell_type": "code",
   "execution_count": null,
   "metadata": {},
   "outputs": [],
   "source": [
    "# 力扣入门-12\n",
    "# 1281. 整数的各位积和之差\n",
    "# https://leetcode.cn/problems/subtract-the-product-and-sum-of-digits-of-an-integer/description/?envType=study-plan-v2&envId=primers-list\n",
    "\n",
    "class Solution:\n",
    "    def subtractProductAndSum(self, n: int) -> int:\n",
    "        a = 1\n",
    "        for c in str(n):\n",
    "            a *= int(c)\n",
    "        b = 0\n",
    "        for c in str(n):\n",
    "            b += int(c)\n",
    "        return a-b"
   ]
  },
  {
   "cell_type": "code",
   "execution_count": null,
   "metadata": {},
   "outputs": [],
   "source": [
    "# 力扣入门-13\n",
    "# 231. 2 的幂\n",
    "# https://leetcode.cn/problems/power-of-two/description/?envType=study-plan-v2&envId=primers-list\n",
    "\n",
    "class Solution:\n",
    "    def isPowerOfTwo(self, n: int) -> bool:\n",
    "        if n<=0:\n",
    "            return False\n",
    "        return not n&(n-1)"
   ]
  },
  {
   "cell_type": "code",
   "execution_count": null,
   "metadata": {},
   "outputs": [],
   "source": [
    "# 力扣入门-14\n",
    "# 326. 3 的幂\n",
    "# https://leetcode.cn/problems/power-of-three/description/?envType=study-plan-v2&envId=primers-list\n",
    "\n",
    "class Solution {\n",
    "    public boolean isPowerOfThree(int n) {\n",
    "        Set<Integer> set = new HashSet<Integer>() {\n",
    "            {\n",
    "                add(1);\n",
    "                add(3);\n",
    "                add(9);\n",
    "                add(27);\n",
    "                add(81);\n",
    "                add(243);\n",
    "                add(729);\n",
    "                add(2187);\n",
    "                add(6561);\n",
    "                add(19683);\n",
    "                add(59049);\n",
    "                add(177147);\n",
    "                add(531441);\n",
    "                add(1594323);\n",
    "                add(4782969);\n",
    "                add(14348907);\n",
    "                add(43046721);\n",
    "                add(129140163);\n",
    "                add(387420489);\n",
    "                add(1162261467);\n",
    "            }\n",
    "        };\n",
    "\n",
    "        return set.contains(n);\n",
    "    }\n",
    "}"
   ]
  },
  {
   "cell_type": "code",
   "execution_count": null,
   "metadata": {},
   "outputs": [],
   "source": [
    "# 力扣入门-14\n",
    "# 326. 3 的幂\n",
    "# https://leetcode.cn/problems/power-of-three/description/?envType=study-plan-v2&envId=primers-list\n",
    "\n",
    "class Solution:\n",
    "    def isPowerOfThree(self, n: int) -> bool:\n",
    "        while n and n%3==0:\n",
    "            n /= 3\n",
    "        return n==1"
   ]
  },
  {
   "cell_type": "code",
   "execution_count": null,
   "metadata": {},
   "outputs": [],
   "source": [
    "# 力扣入门-15\n",
    "# 263. 丑数\n",
    "# https://leetcode.cn/problems/ugly-number/description/?envType=study-plan-v2&envId=primers-list\n",
    "\n",
    "class Solution:\n",
    "    def isUgly(self, n: int) -> bool:\n",
    "        if n<=0:\n",
    "            return False\n",
    "        while n%2==0:\n",
    "            n//=2\n",
    "        while n%3==0:\n",
    "            n//=3\n",
    "        while n%5==0:\n",
    "            n//=5\n",
    "        return n==1"
   ]
  },
  {
   "cell_type": "code",
   "execution_count": null,
   "metadata": {},
   "outputs": [],
   "source": [
    "# 力扣入门-16\n",
    "# 1470. 重新排列数组\n",
    "# https://leetcode.cn/problems/shuffle-the-array/?envType=study-plan-v2&envId=primers-list\n",
    "\n",
    "class Solution:\n",
    "    def shuffle(self, nums: List[int], n: int) -> List[int]:\n",
    "        pass"
   ]
  }
 ],
 "metadata": {
  "kernelspec": {
   "display_name": "base",
   "language": "python",
   "name": "python3"
  },
  "language_info": {
   "codemirror_mode": {
    "name": "ipython",
    "version": 3
   },
   "file_extension": ".py",
   "mimetype": "text/x-python",
   "name": "python",
   "nbconvert_exporter": "python",
   "pygments_lexer": "ipython3",
   "version": "3.11.5"
  }
 },
 "nbformat": 4,
 "nbformat_minor": 2
}
