{
 "cells": [
  {
   "cell_type": "code",
   "execution_count": null,
   "metadata": {},
   "outputs": [],
   "source": [
    "# 力扣编程基础-26\n",
    "# 1232. 缀点成线\n",
    "# https://leetcode.cn/problems/check-if-it-is-a-straight-line/?envType=study-plan-v2&envId=programming-skills\n",
    "\n",
    "# 利用向量共线性\n",
    "class Solution:\n",
    "    def checkStraightLine(self, coordinates: List[List[int]]) -> bool:\n",
    "        x0 = coordinates[0][0]\n",
    "        y0 = coordinates[0][1]\n",
    "        x = coordinates[1][0]-x0\n",
    "        y = coordinates[1][1]-y0\n",
    "        for i in range(2, len(coordinates)):\n",
    "            xi = coordinates[i][0]-x0\n",
    "            yi = coordinates[i][1]-y0\n",
    "            if x*yi-y*xi:\n",
    "                return False\n",
    "        return True"
   ]
  }
 ],
 "metadata": {
  "language_info": {
   "name": "python"
  }
 },
 "nbformat": 4,
 "nbformat_minor": 2
}
