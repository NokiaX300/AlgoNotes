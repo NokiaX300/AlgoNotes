{
 "cells": [
  {
   "cell_type": "code",
   "execution_count": null,
   "metadata": {},
   "outputs": [],
   "source": [
    "# 力扣编程基础-26\n",
    "# 1232. 缀点成线\n",
    "# https://leetcode.cn/problems/check-if-it-is-a-straight-line/?envType=study-plan-v2&envId=programming-skills\n",
    "\n",
    "# 利用向量共线性\n",
    "class Solution:\n",
    "    def checkStraightLine(self, coordinates: List[List[int]]) -> bool:\n",
    "        x0 = coordinates[0][0]\n",
    "        y0 = coordinates[0][1]\n",
    "        x = coordinates[1][0]-x0\n",
    "        y = coordinates[1][1]-y0\n",
    "        for i in range(2, len(coordinates)):\n",
    "            xi = coordinates[i][0]-x0\n",
    "            yi = coordinates[i][1]-y0\n",
    "            if x*yi-y*xi:\n",
    "                return False\n",
    "        return True"
   ]
  },
  {
   "cell_type": "code",
   "execution_count": null,
   "metadata": {},
   "outputs": [],
   "source": [
    "# 力扣编程基础-27\n",
    "# 67. 二进制求和\n",
    "# https://leetcode.cn/problems/add-binary/?envType=study-plan-v2&envId=programming-skills\n",
    "\n",
    "class Solution:\n",
    "    def addBinary(self, a: str, b: str) -> str:\n",
    "        return str(bin(int(a, 2)+int(b, 2)))[2:]"
   ]
  },
  {
   "cell_type": "code",
   "execution_count": 13,
   "metadata": {},
   "outputs": [
    {
     "data": {
      "text/plain": [
       "'100'"
      ]
     },
     "execution_count": 13,
     "metadata": {},
     "output_type": "execute_result"
    }
   ],
   "source": [
    "a = '11'\n",
    "b = '1'\n",
    "str(bin(int(a, 2)+int(b, 2)))[2:]"
   ]
  },
  {
   "cell_type": "code",
   "execution_count": null,
   "metadata": {},
   "outputs": [],
   "source": [
    "# 力扣编程基础-28\n",
    "# 43. 字符串相乘\n",
    "# https://leetcode.cn/problems/multiply-strings/description/?envType=study-plan-v2&envId=programming-skills\n",
    "\n",
    "class Solution:\n",
    "    def multiply(self, num1: str, num2: str) -> str:\n",
    "        return str(eval(num1+'*'+num2))"
   ]
  },
  {
   "cell_type": "code",
   "execution_count": null,
   "metadata": {},
   "outputs": [],
   "source": [
    "# 力扣编程基础-29\n",
    "# 50. Pow(x, n)\n",
    "# https://leetcode.cn/problems/powx-n/description/?envType=study-plan-v2&envId=programming-skills\n",
    "\n",
    "class Solution:\n",
    "    def myPow(self, x: float, n: int) -> float:\n",
    "        if n>=0:\n",
    "            return self.cal(x, n)\n",
    "        else:\n",
    "            return 1/self.cal(x, -n)\n",
    "        \n",
    "    def cal(self, x, n):\n",
    "        if n==0:\n",
    "            return 1\n",
    "        part = self.cal(x, n//2)\n",
    "        result = part*part # 写成 part**2 会溢出\n",
    "        if n%2 == 1:\n",
    "            result *= x\n",
    "        return result"
   ]
  },
  {
   "cell_type": "code",
   "execution_count": null,
   "metadata": {},
   "outputs": [],
   "source": [
    "# 力扣编程基础-30\n",
    "# 21. 合并两个有序链表\n",
    "# https://leetcode.cn/problems/merge-two-sorted-lists/description/?envType=study-plan-v2&envId=programming-skills"
   ]
  }
 ],
 "metadata": {
  "kernelspec": {
   "display_name": "base",
   "language": "python",
   "name": "python3"
  },
  "language_info": {
   "codemirror_mode": {
    "name": "ipython",
    "version": 3
   },
   "file_extension": ".py",
   "mimetype": "text/x-python",
   "name": "python",
   "nbconvert_exporter": "python",
   "pygments_lexer": "ipython3",
   "version": "3.11.5"
  }
 },
 "nbformat": 4,
 "nbformat_minor": 2
}
