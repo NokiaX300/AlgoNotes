{
 "cells": [
  {
   "cell_type": "code",
   "execution_count": null,
   "metadata": {},
   "outputs": [],
   "source": [
    "# 力扣入门-17\n",
    "# 867. 转置矩阵\n",
    "# https://leetcode.cn/problems/transpose-matrix/?envType=study-plan-v2&envId=primers-list\n",
    "\n",
    "# class Solution:\n",
    "#     def transpose(self, matrix: List[List[int]]) -> List[List[int]]:\n",
    "#         for i in range(len(matrix)-1):\n",
    "#             for j in range(i+1, len(matrix[0])):\n",
    "#                 matrix[i][j], matrix[j][i] = matrix[j][i], matrix[i][j]\n",
    "\n",
    "class Solution:\n",
    "    def transpose(self, matrix: List[List[int]]) -> List[List[int]]:\n",
    "        m = len(matrix)\n",
    "        n = len(matrix[0])\n",
    "        new = [[0]*m for _ in range(n)]\n",
    "        for i in range(m):\n",
    "            for j in range(n):\n",
    "                new[j][i] = matrix[i][j]\n",
    "        return new"
   ]
  },
  {
   "cell_type": "code",
   "execution_count": null,
   "metadata": {},
   "outputs": [],
   "source": [
    "# 力扣入门-18\n",
    "# 1422. 分割字符串的最大得分\n",
    "# https://leetcode.cn/problems/maximum-score-after-splitting-a-string/description/?envType=study-plan-v2&envId=primers-list\n",
    "\n",
    "# 注意非空\n",
    "from collections import Counter\n",
    "class Solution:\n",
    "    def maxScore(self, s: str) -> int:\n",
    "        res = 0\n",
    "        for i in range(1, len(s)):\n",
    "            left = Counter(s[:i])\n",
    "            right = Counter(s[i:])\n",
    "            res = max(res, left['0']+right['1'])\n",
    "        return res"
   ]
  },
  {
   "cell_type": "code",
   "execution_count": 1,
   "metadata": {},
   "outputs": [
    {
     "data": {
      "text/plain": [
       "5"
      ]
     },
     "execution_count": 1,
     "metadata": {},
     "output_type": "execute_result"
    }
   ],
   "source": [
    "a = 0\n",
    "a += 3+2\n",
    "a"
   ]
  },
  {
   "cell_type": "code",
   "execution_count": null,
   "metadata": {},
   "outputs": [],
   "source": [
    "# 力扣入门-19\n",
    "# 2586. 统计范围内的元音字符串数\n",
    "# https://leetcode.cn/problems/count-the-number-of-vowel-strings-in-range/description/?envType=study-plan-v2&envId=primers-list\n",
    "\n",
    "class Solution:\n",
    "    def vowelStrings(self, words: List[str], left: int, right: int) -> int:\n",
    "        def check(word: str):\n",
    "            vowel = {'a','e','i','o','u'}\n",
    "            if word[0] in vowel and word[-1] in vowel:\n",
    "                return True\n",
    "            return False\n",
    "        res = 0\n",
    "        for i in range(left, right+1):\n",
    "            if check(words[i]):\n",
    "                res += 1\n",
    "        return res"
   ]
  },
  {
   "cell_type": "code",
   "execution_count": null,
   "metadata": {},
   "outputs": [],
   "source": [
    "# 力扣入门-20\n",
    "# 852. 山脉数组的峰顶索引\n",
    "# https://leetcode.cn/problems/peak-index-in-a-mountain-array/description/?envType=study-plan-v2&envId=primers-list\n",
    "\n",
    "class Solution:\n",
    "    def peakIndexInMountainArray(self, arr: List[int]) -> int:\n",
    "        left = 0\n",
    "        right = 1\n",
    "        while right<len(arr):\n",
    "            if arr[right]<arr[left]:\n",
    "                return left\n",
    "            right += 1\n",
    "            left += 1"
   ]
  },
  {
   "cell_type": "code",
   "execution_count": null,
   "metadata": {},
   "outputs": [],
   "source": [
    "# LeetCode75-01\n",
    "# 1768. 交替合并字符串\n",
    "# https://leetcode.cn/problems/merge-strings-alternately/description/?envType=study-plan-v2&envId=leetcode-75\n",
    "\n",
    "class Solution:\n",
    "    def mergeAlternately(self, word1: str, word2: str) -> str:\n",
    "        res = ''\n",
    "        i = 0\n",
    "        while i<len(word1) and i<len(word2):\n",
    "            res += word1[i]\n",
    "            res += word2[i]\n",
    "            i += 1\n",
    "        if len(word1)!=i:\n",
    "            res += word1[i:]\n",
    "        if len(word2)!=i:\n",
    "            res += word2[i:]\n",
    "        return res"
   ]
  },
  {
   "cell_type": "code",
   "execution_count": null,
   "metadata": {},
   "outputs": [],
   "source": [
    "# LeetCode75-02\n",
    "# 1071. 字符串的最大公因子\n",
    "# https://leetcode.cn/problems/greatest-common-divisor-of-strings/?envType=study-plan-v2&envId=leetcode-75\n",
    "\n",
    "class Solution:\n",
    "    def gcdOfStrings(self, str1: str, str2: str) -> str:\n",
    "        def check(x, s):\n",
    "            a = len(s)\n",
    "            b = len(x)\n",
    "            if a%b==0 and s==x*(a//b):\n",
    "                return True\n",
    "            return False\n",
    "        res = ''\n",
    "        for i in range(min(len(str1), len(str2))):\n",
    "            if check(str1[:i+1], str1) and check(str1[:i+1], str2):\n",
    "                res = max(res, str1[:i+1], key=len)\n",
    "        return res"
   ]
  },
  {
   "cell_type": "code",
   "execution_count": null,
   "metadata": {},
   "outputs": [],
   "source": [
    "# LeetCode75-03\n",
    "# 1431. 拥有最多糖果的孩子\n",
    "# https://leetcode.cn/problems/kids-with-the-greatest-number-of-candies/description/?envType=study-plan-v2&envId=leetcode-75\n",
    "\n",
    "class Solution:\n",
    "    def kidsWithCandies(self, candies: List[int], extraCandies: int) -> List[bool]:\n",
    "        res = [False]*len(candies)\n",
    "        for i in range(len(candies)):\n",
    "            if candies[i]+extraCandies>=max(candies):\n",
    "                res[i] = True\n",
    "        return res"
   ]
  },
  {
   "cell_type": "code",
   "execution_count": null,
   "metadata": {},
   "outputs": [],
   "source": [
    "# LeetCode75-04\n",
    "# 605. 种花问题\n",
    "# https://leetcode.cn/problems/can-place-flowers/description/?envType=study-plan-v2&envId=leetcode-75\n",
    "\n",
    "class Solution:\n",
    "    def canPlaceFlowers(self, flowerbed: List[int], n: int) -> bool:\n",
    "        # 头尾插入0\n",
    "        flowerbed = [0]+flowerbed+[0]\n",
    "        for i in range(len(flowerbed)):\n",
    "            if i-1>=0 and i+1<len(flowerbed) and sum(flowerbed[i-1:i+2])==0:\n",
    "                flowerbed[i] = 1\n",
    "                n -= 1\n",
    "        return n<=0"
   ]
  },
  {
   "cell_type": "code",
   "execution_count": null,
   "metadata": {},
   "outputs": [],
   "source": [
    "# LeetCode75-05\n",
    "# 345. 反转字符串中的元音字母\n",
    "# https://leetcode.cn/problems/reverse-vowels-of-a-string/description/?envType=study-plan-v2&envId=leetcode-75\n",
    "\n",
    "class Solution:\n",
    "    def reverseVowels(self, s: str) -> str:\n",
    "        st = []\n",
    "        s = list(s)\n",
    "        for i in range(len(s)):\n",
    "            if s[i].lower() in {'a','e','i','o','u'}:\n",
    "                st.append(s[i])\n",
    "        for i in range(len(s)):\n",
    "            if s[i].lower() in {'a','e','i','o','u'}:\n",
    "                s[i] = st.pop()\n",
    "        return ''.join(s)"
   ]
  }
 ],
 "metadata": {
  "kernelspec": {
   "display_name": "base",
   "language": "python",
   "name": "python3"
  },
  "language_info": {
   "codemirror_mode": {
    "name": "ipython",
    "version": 3
   },
   "file_extension": ".py",
   "mimetype": "text/x-python",
   "name": "python",
   "nbconvert_exporter": "python",
   "pygments_lexer": "ipython3",
   "version": "3.11.5"
  }
 },
 "nbformat": 4,
 "nbformat_minor": 2
}
