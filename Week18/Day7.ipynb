{
 "cells": [
  {
   "cell_type": "code",
   "execution_count": null,
   "metadata": {},
   "outputs": [],
   "source": [
    "# 力扣入门-17\n",
    "# 867. 转置矩阵\n",
    "# https://leetcode.cn/problems/transpose-matrix/?envType=study-plan-v2&envId=primers-list\n",
    "\n",
    "# class Solution:\n",
    "#     def transpose(self, matrix: List[List[int]]) -> List[List[int]]:\n",
    "#         for i in range(len(matrix)-1):\n",
    "#             for j in range(i+1, len(matrix[0])):\n",
    "#                 matrix[i][j], matrix[j][i] = matrix[j][i], matrix[i][j]\n",
    "\n",
    "class Solution:\n",
    "    def transpose(self, matrix: List[List[int]]) -> List[List[int]]:\n",
    "        m = len(matrix)\n",
    "        n = len(matrix[0])\n",
    "        new = [[0]*m for _ in range(n)]\n",
    "        for i in range(m):\n",
    "            for j in range(n):\n",
    "                new[j][i] = matrix[i][j]\n",
    "        return new"
   ]
  },
  {
   "cell_type": "code",
   "execution_count": null,
   "metadata": {},
   "outputs": [],
   "source": [
    "# 力扣入门-18\n",
    "# 1422. 分割字符串的最大得分\n",
    "# https://leetcode.cn/problems/maximum-score-after-splitting-a-string/description/?envType=study-plan-v2&envId=primers-list\n",
    "\n",
    "# 注意非空\n",
    "from collections import Counter\n",
    "class Solution:\n",
    "    def maxScore(self, s: str) -> int:\n",
    "        res = 0\n",
    "        for i in range(1, len(s)):\n",
    "            left = Counter(s[:i])\n",
    "            right = Counter(s[i:])\n",
    "            res = max(res, left['0']+right['1'])\n",
    "        return res"
   ]
  },
  {
   "cell_type": "code",
   "execution_count": 1,
   "metadata": {},
   "outputs": [
    {
     "data": {
      "text/plain": [
       "5"
      ]
     },
     "execution_count": 1,
     "metadata": {},
     "output_type": "execute_result"
    }
   ],
   "source": [
    "a = 0\n",
    "a += 3+2\n",
    "a"
   ]
  },
  {
   "cell_type": "code",
   "execution_count": null,
   "metadata": {},
   "outputs": [],
   "source": [
    "# 力扣入门-19\n",
    "# 2586. 统计范围内的元音字符串数\n",
    "# https://leetcode.cn/problems/count-the-number-of-vowel-strings-in-range/description/?envType=study-plan-v2&envId=primers-list\n",
    "\n",
    "class Solution:\n",
    "    def vowelStrings(self, words: List[str], left: int, right: int) -> int:\n",
    "        def check(word: str):\n",
    "            vowel = {'a','e','i','o','u'}\n",
    "            if word[0] in vowel and word[-1] in vowel:\n",
    "                return True\n",
    "            return False\n",
    "        res = 0\n",
    "        for i in range(left, right+1):\n",
    "            if check(words[i]):\n",
    "                res += 1\n",
    "        return res"
   ]
  },
  {
   "cell_type": "code",
   "execution_count": null,
   "metadata": {},
   "outputs": [],
   "source": [
    "# 力扣入门-20\n",
    "# 852. 山脉数组的峰顶索引\n",
    "# https://leetcode.cn/problems/peak-index-in-a-mountain-array/description/?envType=study-plan-v2&envId=primers-list\n",
    "\n",
    "class Solution:\n",
    "    def peakIndexInMountainArray(self, arr: List[int]) -> int:\n",
    "        left = 0\n",
    "        right = 1\n",
    "        while right<len(arr):\n",
    "            if arr[right]<arr[left]:\n",
    "                return left\n",
    "            right += 1\n",
    "            left += 1"
   ]
  },
  {
   "cell_type": "code",
   "execution_count": null,
   "metadata": {},
   "outputs": [],
   "source": [
    "# LeetCode75-01\n",
    "# 1768. 交替合并字符串\n",
    "# https://leetcode.cn/problems/merge-strings-alternately/description/?envType=study-plan-v2&envId=leetcode-75\n",
    "\n",
    "class Solution:\n",
    "    def mergeAlternately(self, word1: str, word2: str) -> str:\n",
    "        res = ''\n",
    "        i = 0\n",
    "        while i<len(word1) and i<len(word2):\n",
    "            res += word1[i]\n",
    "            res += word2[i]\n",
    "            i += 1\n",
    "        if len(word1)!=i:\n",
    "            res += word1[i:]\n",
    "        if len(word2)!=i:\n",
    "            res += word2[i:]\n",
    "        return res"
   ]
  }
 ],
 "metadata": {
  "kernelspec": {
   "display_name": "base",
   "language": "python",
   "name": "python3"
  },
  "language_info": {
   "codemirror_mode": {
    "name": "ipython",
    "version": 3
   },
   "file_extension": ".py",
   "mimetype": "text/x-python",
   "name": "python",
   "nbconvert_exporter": "python",
   "pygments_lexer": "ipython3",
   "version": "3.11.5"
  }
 },
 "nbformat": 4,
 "nbformat_minor": 2
}
