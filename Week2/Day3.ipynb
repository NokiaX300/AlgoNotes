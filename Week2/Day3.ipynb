{
 "cells": [
  {
   "cell_type": "code",
   "execution_count": 2,
   "metadata": {},
   "outputs": [
    {
     "name": "stdout",
     "output_type": "stream",
     "text": [
      "1\n"
     ]
    }
   ],
   "source": [
    "#编辑距离\n",
    "a = input()\n",
    "b = input()\n",
    "m, n = len(a), len(b)\n",
    "lis = [[x for x in range(n+1)] for _ in range(m+1)]\n",
    "for w in range(1, m):\n",
    "    lis[w][0] = lis[w-1][0] + 1\n",
    "for i in range(1, m+1):\n",
    "    for j in range(1, n+1):\n",
    "        if a[i-1] == b[j-1]:\n",
    "            lis[i][j] = lis[i-1][j-1]\n",
    "        else:\n",
    "            lis[i][j] = min(lis[i-1][j]+1, lis[i][j-1]+1, lis[i-1][j-1]+1)\n",
    "print(lis[m][n])"
   ]
  },
  {
   "cell_type": "code",
   "execution_count": 3,
   "metadata": {},
   "outputs": [
    {
     "name": "stdout",
     "output_type": "stream",
     "text": [
      "10.75\n"
     ]
    }
   ],
   "source": [
    "num = float(input())\n",
    "print('{:.2f}'.format(num**(1/3)))"
   ]
  },
  {
   "cell_type": "code",
   "execution_count": 4,
   "metadata": {},
   "outputs": [
    {
     "name": "stdout",
     "output_type": "stream",
     "text": [
      "12.9\n"
     ]
    }
   ],
   "source": [
    "#求立方根（牛顿迭代法）\n",
    "#泰勒公式得到 x = x0 - (x0^3-a)/(3x0^2)\n",
    "a = float(input())\n",
    "e = 0.0001\n",
    "t = a\n",
    "while abs(t*t*t-a) > e:\n",
    "    t = t - (t*t*t - a)/(3*t*t)\n",
    "print('%.1f'%t)"
   ]
  },
  {
   "cell_type": "code",
   "execution_count": 5,
   "metadata": {},
   "outputs": [
    {
     "name": "stdout",
     "output_type": "stream",
     "text": [
      "['qw']\n",
      "0\n"
     ]
    }
   ],
   "source": [
    "lis = list(input().split())\n",
    "print(lis)\n",
    "if not lis:\n",
    "    print(1)\n",
    "else:\n",
    "    print(0)"
   ]
  },
  {
   "cell_type": "code",
   "execution_count": 6,
   "metadata": {},
   "outputs": [
    {
     "name": "stdout",
     "output_type": "stream",
     "text": [
      "f\n"
     ]
    }
   ],
   "source": [
    "'''\n",
    "for item in container:\n",
    "    if search_something(item):\n",
    "        # Found it!\n",
    "        process(item)\n",
    "        break\n",
    "else:\n",
    "    # Didn't find anything..\n",
    "    not_found_in_container()\n",
    "'''\n",
    "a = input()\n",
    "for i in a:\n",
    "    if a.count(i) == 1:\n",
    "        print(i)\n",
    "        break\n",
    "else:print(-1)"
   ]
  },
  {
   "cell_type": "code",
   "execution_count": 7,
   "metadata": {},
   "outputs": [
    {
     "name": "stdout",
     "output_type": "stream",
     "text": [
      "2\n",
      "239\n"
     ]
    }
   ],
   "source": [
    "n = int(input())\n",
    "lis = []\n",
    "for i in range(2, n+1): #判断i是不是质数\n",
    "    for x in range(2, i):\n",
    "        if i % x == 0:\n",
    "            break\n",
    "    else:\n",
    "        lis.append(i)\n",
    "min = len(lis)\n",
    "for i in range(len(lis)):\n",
    "    for j in range(i, len(lis)):\n",
    "        if lis[i] + lis[j] == n and (j - i) < min:\n",
    "            min = j - i\n",
    "            result1 = lis[i]\n",
    "            result2 = lis[j]\n",
    "print(result1)\n",
    "print(result2)"
   ]
  },
  {
   "cell_type": "code",
   "execution_count": 8,
   "metadata": {},
   "outputs": [
    {
     "name": "stdout",
     "output_type": "stream",
     "text": [
      "5\n"
     ]
    }
   ],
   "source": [
    "#放苹果\n",
    "n = int(input())\n",
    "k = int(input())\n",
    "def apple(n, k):\n",
    "    if n == 0 or k == 1:\n",
    "        return 1\n",
    "    elif k > n:\n",
    "        return apple(n, n)\n",
    "    else:\n",
    "        return apple(n, k-1) + apple(n-k, k)\n",
    "print(apple(n, k))"
   ]
  },
  {
   "cell_type": "code",
   "execution_count": 9,
   "metadata": {},
   "outputs": [
    {
     "name": "stdout",
     "output_type": "stream",
     "text": [
      "0b100\n",
      "1\n",
      "0b1100\n",
      "2\n"
     ]
    }
   ],
   "source": [
    "while True:\n",
    "    try:\n",
    "        n = int(input())\n",
    "        a = bin(n)\n",
    "        print(a)\n",
    "        s = 0\n",
    "        for i in a:\n",
    "            if i == '1':\n",
    "                s += 1\n",
    "        print(s)\n",
    "    except:\n",
    "        break"
   ]
  },
  {
   "cell_type": "code",
   "execution_count": 10,
   "metadata": {},
   "outputs": [
    {
     "name": "stdout",
     "output_type": "stream",
     "text": [
      "\n"
     ]
    }
   ],
   "source": [
    "#DNA序列\n",
    "str_1 = input()\n",
    "n = int(input())\n",
    "max = 0\n",
    "target = ''\n",
    "for i in range(len(str_1)-n+1):\n",
    "    temp = str_1[i:i+n]\n",
    "    s = temp.count('C') + temp.count('G')\n",
    "    if s > max:\n",
    "        max = s\n",
    "        target = temp\n",
    "print(target)     "
   ]
  },
  {
   "cell_type": "code",
   "execution_count": 11,
   "metadata": {},
   "outputs": [
    {
     "name": "stdout",
     "output_type": "stream",
     "text": [
      "1 2 3 \n",
      "1\n"
     ]
    }
   ],
   "source": [
    "#MP3\n",
    "n = int(input())\n",
    "s = input()\n",
    "l = []\n",
    "for i in range(1, n+1):\n",
    "    l.append(i)\n",
    "f = 1 # f 用于指示当前页面第1首歌曲的索引位置\n",
    "p = 1 # p 用于指示当前页面光标所在位置\n",
    "\n",
    "if n < 5:\n",
    "        if i == 'U':\n",
    "            if p == 1:\n",
    "                p = n\n",
    "            else:\n",
    "                p -= 1\n",
    "        if i == 'D':\n",
    "            if p == n:\n",
    "                p = 1\n",
    "            else:\n",
    "                p += 1\n",
    "else:\n",
    "    for i in s:\n",
    "        if i == 'U':\n",
    "            if f == 1 and p == 1:\n",
    "                f = n - 3 #最后一页的4首歌为：n-3  n-2  n-1  n,因此 f = n-3\n",
    "                p = 4\n",
    "            elif p == 1:\n",
    "                f -= 1\n",
    "            else:\n",
    "                p -= 1\n",
    "        if i == 'D':\n",
    "            if f == n-3 and p == 4:\n",
    "                f = 1\n",
    "                p = 1\n",
    "            elif p == 4:\n",
    "                f += 1\n",
    "            else:\n",
    "                p += 1\n",
    "\n",
    "for i in l[f-1:f+4-1]: #输出当前页，列表索引从0开始，因此变量 f 需要减 1\n",
    "    print(i, end=' ')\n",
    "print()\n",
    "print(f+p-1)"
   ]
  },
  {
   "cell_type": "code",
   "execution_count": 12,
   "metadata": {},
   "outputs": [
    {
     "name": "stdout",
     "output_type": "stream",
     "text": [
      "ghjq\n"
     ]
    }
   ],
   "source": [
    "#查找最长公共字符串\n",
    "'''\n",
    "#复杂度过高\n",
    "a = input()\n",
    "b = input()\n",
    "if len(a) > len(b):\n",
    "    a, b = b, a\n",
    "s = ''\n",
    "for i in range(len(a)):\n",
    "    for j in range(i, len(a)):\n",
    "        for k in range(len(b)):\n",
    "            if a[i:j+1] == b[k:k+j-i+1] and (j-i+1) > len(s):\n",
    "                s = a[i:j+1]\n",
    "print(s)\n",
    "'''\n",
    "a = input()\n",
    "b = input()\n",
    "if len(a) > len(b):\n",
    "    a, b = b, a\n",
    "s = ''\n",
    "for i in range(len(a)):\n",
    "    for j in range(i, len(a)):\n",
    "        if a[i:j+1] in b and (j-i+1) > len(s):\n",
    "                s = a[i:j+1]\n",
    "print(s)"
   ]
  },
  {
   "cell_type": "code",
   "execution_count": 13,
   "metadata": {},
   "outputs": [
    {
     "name": "stdout",
     "output_type": "stream",
     "text": [
      "unknown command\n",
      "unknown command\n",
      "unknown command\n",
      "unknown command\n",
      "unknown command\n",
      "unknown command\n"
     ]
    }
   ],
   "source": [
    "#最短唯一匹配\n",
    "while True:\n",
    "    try:\n",
    "        lis = list(input().split())\n",
    "        a = True\n",
    "        if len(lis) == 1:\n",
    "            if lis[0] == 'reset'[0:len(lis[0])]:\n",
    "                print('reset what')\n",
    "            else:\n",
    "                a = False\n",
    "        elif len(lis) == 2:\n",
    "            if lis[0] == 'reset'[0:len(lis[0])] and lis[1] == 'board'[0:len(lis[1])] and (lis[0] != 'reboot'[0:len(lis[0])] or lis[1] != 'backplane'[0:len(lis[1])]):\n",
    "                print('board fault')\n",
    "            elif lis[0] == 'board'[0:len(lis[0])] and lis[1] == 'add'[0:len(lis[1])] and (lis[0] != 'backplane'[0:len(lis[0])] or lis[1] != 'abort'[0:len(lis[1])]):\n",
    "                print('where to add')\n",
    "            elif lis[0] == 'board'[0:len(lis[0])] and lis[1] == 'delete'[0:len(lis[1])]:\n",
    "                print('no board at all')\n",
    "            elif lis[0] == 'reboot'[0:len(lis[0])] and lis[1] == 'backplane'[0:len(lis[1])] and (lis[0] != 'reset'[0:len(lis[0])] or lis[1] != 'board'[0:len(lis[1])]):\n",
    "                print('impossible')\n",
    "            elif lis[0] == 'backplane'[0:len(lis[0])] and lis[1] == 'abort'[0:len(lis[1])] and(lis[0] != 'board'[0:len(lis[0])] or lis[1] != 'add'[0:len(lis[1])]):\n",
    "                print('install first')\n",
    "            else:\n",
    "                a = False\n",
    "        else:\n",
    "            a = False\n",
    "        if not a:\n",
    "            print('unknown command')\n",
    "    except:\n",
    "        break"
   ]
  },
  {
   "cell_type": "code",
   "execution_count": 1,
   "metadata": {},
   "outputs": [
    {
     "name": "stdout",
     "output_type": "stream",
     "text": [
      "true\n"
     ]
    }
   ],
   "source": [
    "#24点\n",
    "lis = list(map(int, input().split()))\n",
    "def DFS(lis, res):\n",
    "    if res < 1:\n",
    "        return False\n",
    "    elif len(lis) == 1:\n",
    "        return lis[0] == res\n",
    "    else:\n",
    "        for i in range(len(lis)):\n",
    "            k = lis[i]\n",
    "            rest = lis[:i]+lis[i+1:]\n",
    "            if DFS(rest, res+k) or DFS(rest, res-k) or DFS(rest, res*k) or DFS(rest, res/k):\n",
    "                return True\n",
    "    return False\n",
    "if DFS(lis, 24):\n",
    "    print('true')\n",
    "else:\n",
    "    print('false')"
   ]
  },
  {
   "cell_type": "code",
   "execution_count": 2,
   "metadata": {},
   "outputs": [
    {
     "name": "stdout",
     "output_type": "stream",
     "text": [
      "123\n",
      "[11, 2]\n",
      "11\n",
      "[123, 2]\n",
      "2\n",
      "[123, 11]\n"
     ]
    }
   ],
   "source": [
    "s = list(map(int, input().split()))\n",
    "for i in range(len(s)):\n",
    "    print(s[i])\n",
    "    print(s[:i]+s[i+1:])"
   ]
  },
  {
   "cell_type": "code",
   "execution_count": 3,
   "metadata": {},
   "outputs": [
    {
     "name": "stdout",
     "output_type": "stream",
     "text": [
      "[1, 2, 3, 4]\n",
      "[5, 6, 7, 8]\n",
      "[5, 7, 8, 6]\n"
     ]
    }
   ],
   "source": [
    "a = [2, 4, 3, 1]\n",
    "a.sort()\n",
    "print(a)\n",
    "b = [5, 7, 8, 6]\n",
    "print(sorted(b)) #sorted函数将排序结果放到一个列表中，然后返回这个列表\n",
    "print(b)"
   ]
  },
  {
   "cell_type": "code",
   "execution_count": 4,
   "metadata": {},
   "outputs": [
    {
     "name": "stdout",
     "output_type": "stream",
     "text": [
      "b 2\n",
      "a 3\n"
     ]
    }
   ],
   "source": [
    "#字典排序\n",
    "n = int(input())\n",
    "s = bool(int(input()))\n",
    "dic = {}\n",
    "for i in range(n):\n",
    "    key, value = input().split()\n",
    "    dic[key] = value\n",
    "if s:\n",
    "    dic = sorted(dic.items(), key= lambda x:x[1])\n",
    "else:\n",
    "    dic = sorted(dic.items(), key= lambda x:x[1], reverse=True) #注意sorted输出的是列表\n",
    "for i in range(len(dic)):\n",
    "    print(dic[i][0], dic[i][1])"
   ]
  },
  {
   "cell_type": "code",
   "execution_count": 5,
   "metadata": {},
   "outputs": [
    {
     "name": "stdout",
     "output_type": "stream",
     "text": [
      "1 2\n"
     ]
    }
   ],
   "source": [
    "a, b = 1, 2\n",
    "print(a, b)"
   ]
  },
  {
   "cell_type": "code",
   "execution_count": null,
   "metadata": {},
   "outputs": [],
   "source": [
    "#矩阵乘法\n",
    "x = int(input())\n",
    "y = int(input())\n",
    "z = int(input())\n",
    "matrix1 = []\n",
    "matrix2 = []\n",
    "for i in range(x):\n",
    "    matrix1.append(list(map(int, input().split())))\n",
    "for i in range(y):\n",
    "    matrix2.append(list(map(int, input().split())))\n",
    "result = [[0]*z for _ in range(x)]\n",
    "for i in range(x):\n",
    "    for j in range(z):\n",
    "        for k in range(y):\n",
    "            result[i][j] += matrix1[i][k] * matrix2[k][j]\n",
    "for i in range(x):\n",
    "    print(' '.join(result[i]))"
   ]
  },
  {
   "cell_type": "code",
   "execution_count": 8,
   "metadata": {},
   "outputs": [
    {
     "name": "stdout",
     "output_type": "stream",
     "text": [
      "[(1, 4), (2, 5), (3, 6)]\n",
      "(1, 4) (2, 5) (3, 6)\n",
      "(1, 2, 3) (4, 5, 6)\n",
      "((1, 2, 3), [4, 5, 6])\n"
     ]
    }
   ],
   "source": [
    "a = (1, 2, 3)\n",
    "b = [4, 5, 6]\n",
    "s = zip(a, b)\n",
    "print(list(s))\n",
    "print(*zip(a, b))\n",
    "m, n = zip(*zip(a, b))\n",
    "print(m, n)\n",
    "print((a, b))"
   ]
  },
  {
   "cell_type": "code",
   "execution_count": null,
   "metadata": {},
   "outputs": [],
   "source": [
    "#矩阵乘法次数（保证给出的字符串表示的计算顺序唯一）\n",
    "n = int(input())\n",
    "list_1 = []\n",
    "for i in range(n):\n",
    "    list_1.append(list(map(int, input().split())))\n",
    "alph = input()\n",
    "list_2 = []\n",
    "result = 0\n",
    "for ele in alph:\n",
    "    if ele.isalpha():\n",
    "        list_2.append(list_1[ord(ele)-65])\n",
    "    elif ele == ')':\n",
    "        b = list_2.pop()\n",
    "        a = list_2.pop()\n",
    "        result += a[0]*a[1]*b[1]\n",
    "        list_2.append([a[0], b[1]])\n",
    "print(result)"
   ]
  },
  {
   "cell_type": "code",
   "execution_count": null,
   "metadata": {},
   "outputs": [],
   "source": [
    "#通配符\n",
    "def check(str_1, str_2):\n",
    "    if str_1 == '' and str_2 == '':\n",
    "        return True\n",
    "    elif str_1 != '' and str_2 == '':\n",
    "        return False\n",
    "    elif str_1 != '' and str_2 == '':\n",
    "        if str_1.replace('*', '') == '':\n",
    "            return True\n",
    "        else:\n",
    "            return False\n",
    "    else:\n",
    "        if str_1[len(str_1)-1] == str_2[len(str_2)-1] or (str_1[len(str_1)-1] == '?' and str_2[len(str_2)-1].isalnum()):\n",
    "            return check(str_1[:len(str_1)-1], str_2[:len(str_2)-1])\n",
    "        elif str_1[len(str_1)-1] == '*':\n",
    "            return check(str_1[:len(str_1)-1], str_2[:len(str_2)]) or check(str_1[:len(str_1)], str_2[:len(str_2)-1])\n",
    "        else:\n",
    "            return False\n",
    "while True:\n",
    "    try:\n",
    "        str_1 = input().lower()\n",
    "        str_2 = input().lower()\n",
    "        if check(str_1, str_2):\n",
    "            print('true')\n",
    "        else:\n",
    "            print('false')\n",
    "    except:\n",
    "        break"
   ]
  },
  {
   "cell_type": "code",
   "execution_count": 9,
   "metadata": {},
   "outputs": [
    {
     "name": "stdout",
     "output_type": "stream",
     "text": [
      "0 25 75\n",
      "4 18 78\n",
      "8 11 81\n",
      "12 4 84\n"
     ]
    }
   ],
   "source": [
    "#鸡翁一值钱五，鸡母一值钱三，鸡雏三值钱一。百钱买百鸡，问鸡翁、鸡母、鸡雏各几何？\n",
    "n = int(input())\n",
    "if n:\n",
    "    for i in range(20):\n",
    "        for j in range(int((100-5*i)/3)):\n",
    "            if (100-i-j)%3 == 0 and (100-5*i-3*j) == (100-i-j)/3:\n",
    "                print(i, j, 100-i-j)"
   ]
  },
  {
   "cell_type": "code",
   "execution_count": 10,
   "metadata": {},
   "outputs": [
    {
     "name": "stdout",
     "output_type": "stream",
     "text": [
      "182\n"
     ]
    }
   ],
   "source": [
    "#根据输入的日期，计算是这一年的第几天\n",
    "a, b, c = map(int, input().split())\n",
    "if (a%4 == 0 and a%100 != 0) or a%400 == 0:\n",
    "    month = [31, 29, 31, 30, 31, 30, 31, 31, 30, 31, 30, 31]\n",
    "    days = sum(month[:b-1]) + c\n",
    "else:\n",
    "    month = [31, 28, 31, 30, 31, 30, 31, 31, 30, 31, 30, 31]\n",
    "    days = sum(month[:b-1]) + c\n",
    "print(days)"
   ]
  },
  {
   "cell_type": "code",
   "execution_count": 11,
   "metadata": {},
   "outputs": [
    {
     "name": "stdout",
     "output_type": "stream",
     "text": [
      "3\n",
      "qwd\n",
      "qwq\n",
      "q wq\n"
     ]
    }
   ],
   "source": [
    "#空格转换行\n",
    "str_1 = input()\n",
    "str_1 = str_1.replace(' ', '\\n')\n",
    "trigger = False\n",
    "str_2 = ''\n",
    "for ele in str_1:\n",
    "    if ele == '\"':\n",
    "        trigger = not trigger\n",
    "    elif ele == '\\n' and trigger == True:\n",
    "        str_2 += ' '\n",
    "    else:\n",
    "        str_2 += ele\n",
    "s = str_2.count('\\n')+1\n",
    "print(s)\n",
    "print(str_2)"
   ]
  },
  {
   "cell_type": "code",
   "execution_count": 12,
   "metadata": {},
   "outputs": [
    {
     "name": "stdout",
     "output_type": "stream",
     "text": [
      "2\n"
     ]
    }
   ],
   "source": [
    "#公共子串计算\n",
    "str_1 = input()\n",
    "str_2 = input()\n",
    "if len(str_1)>len(str_2):\n",
    "    str_1, str_2 = str_2, str_1\n",
    "res = 0\n",
    "for i in range(len(str_1)):\n",
    "    for j in range(len(str_2)):\n",
    "        for k in range(len(str_1)-i):\n",
    "            if str_1[i:i+k] == str_2[j:j+k] and k>res:\n",
    "                res = k\n",
    "print(res)"
   ]
  },
  {
   "cell_type": "code",
   "execution_count": 14,
   "metadata": {},
   "outputs": [
    {
     "name": "stdout",
     "output_type": "stream",
     "text": [
      "21+23+25+27+29\n"
     ]
    }
   ],
   "source": [
    "n = int(input())\n",
    "m = n**3\n",
    "lis = []\n",
    "for i in range(int(m)):\n",
    "    lis.append(i)\n",
    "s = 0\n",
    "for i in range(len(lis)):\n",
    "    if sum(lis[i:i+2*n-1:2]) == m and i%2 != 0:\n",
    "        s = i\n",
    "li = []\n",
    "for i in range(s, s+2*n-1):\n",
    "    li.append(str(i))\n",
    "li = li[::2]\n",
    "print('+'.join(li))"
   ]
  },
  {
   "cell_type": "code",
   "execution_count": 15,
   "metadata": {},
   "outputs": [
    {
     "name": "stdout",
     "output_type": "stream",
     "text": [
      "1/2+1/10+1/55+1/55\n"
     ]
    }
   ],
   "source": [
    "#分解分数\n",
    "while True:\n",
    "    try:\n",
    "        n = input().split('/')\n",
    "        a = int(n[0])*10\n",
    "        b = int(n[1])*10\n",
    "        li = []\n",
    "        while a:\n",
    "            for i in range(a, 0, -1): #学一手\n",
    "                if b%i == 0:\n",
    "                    li.append('1/' + str(int(b/i)))\n",
    "                    a -= i\n",
    "                    break\n",
    "        print('+'.join(li))\n",
    "    except:\n",
    "        break"
   ]
  },
  {
   "cell_type": "code",
   "execution_count": 16,
   "metadata": {},
   "outputs": [
    {
     "name": "stdout",
     "output_type": "stream",
     "text": [
      "[7, 6, 5, 4, 3, 2, 1]\n",
      "[7, 6, 5, 4, 3, 2, 1]\n"
     ]
    }
   ],
   "source": [
    "print(list(reversed(range(1, 8))))\n",
    "print(list(range(1, 8))[::-1])"
   ]
  },
  {
   "cell_type": "code",
   "execution_count": 17,
   "metadata": {},
   "outputs": [
    {
     "name": "stdout",
     "output_type": "stream",
     "text": [
      "2\n"
     ]
    }
   ],
   "source": [
    "b = bin(int(input()))\n",
    "s = 0\n",
    "for i in b:\n",
    "    if i == '1':\n",
    "        s+=1\n",
    "print(s)"
   ]
  },
  {
   "cell_type": "code",
   "execution_count": 18,
   "metadata": {},
   "outputs": [
    {
     "name": "stdout",
     "output_type": "stream",
     "text": [
      "VERY_SECURE\n"
     ]
    }
   ],
   "source": [
    "#密码强度等级\n",
    "s = input()\n",
    "score = 0\n",
    "if len(s)<=4:\n",
    "    score += 5\n",
    "elif 4<len(s)<=7:\n",
    "    score += 10\n",
    "else:\n",
    "    score += 25\n",
    "a = 0\n",
    "for i in s:\n",
    "    if i.isdecimal():\n",
    "        a += 1\n",
    "if a == 1:\n",
    "    score += 10\n",
    "elif a > 1:\n",
    "    score += 20\n",
    "b = 0\n",
    "bb = ''\n",
    "for i in s:\n",
    "    if i.isalpha():\n",
    "        bb += i\n",
    "        b += 1\n",
    "p = False\n",
    "if b != 0:\n",
    "    if bb.isupper() or bb.islower():\n",
    "        score += 10\n",
    "    else:\n",
    "        p = True\n",
    "        score += 20 \n",
    "c = 0\n",
    "for i in s:\n",
    "    if int('0x21', 16) <= ord(i) <= int('0x2F', 16) or int('0x21', 16) <= ord(i) <= int('0x2F', 16)\\\n",
    "        or int('0x3A', 16) <= ord(i) <= int('0x40', 16) or int('0x5B', 16) <= ord(i) <= int('0x60', 16)\\\n",
    "            or int('0x7B', 16) <= ord(i) <= int('0x7E', 16):\n",
    "            c += 1\n",
    "\n",
    "if c == 1:\n",
    "    score += 10\n",
    "elif c > 1:\n",
    "    score += 25\n",
    "if c == 0 and a != 0 and b != 0:\n",
    "    score += 2\n",
    "elif a != 0 and b != 0 and c != 0 and not p:\n",
    "    score += 3\n",
    "elif a != 0 and b != 0 and c != 0 and p:\n",
    "    score += 5\n",
    "\n",
    "if score >= 90:\n",
    "    print('VERY_SECURE')\n",
    "elif 90 > score >= 80:\n",
    "    print('SECURE')\n",
    "elif 80 > score >= 70:\n",
    "    print('VERY_STRONG')\n",
    "elif 70 > score >= 60:\n",
    "    print('STRONG')\n",
    "elif 60 > score >= 50:\n",
    "    print('AVERAGE')\n",
    "elif 50 > score >= 25:\n",
    "    print('WEAK')\n",
    "elif 25 > score >= 0:\n",
    "    print('VERY_WEAK')"
   ]
  }
 ],
 "metadata": {
  "kernelspec": {
   "display_name": "base",
   "language": "python",
   "name": "python3"
  },
  "language_info": {
   "codemirror_mode": {
    "name": "ipython",
    "version": 3
   },
   "file_extension": ".py",
   "mimetype": "text/x-python",
   "name": "python",
   "nbconvert_exporter": "python",
   "pygments_lexer": "ipython3",
   "version": "3.11.3"
  },
  "orig_nbformat": 4
 },
 "nbformat": 4,
 "nbformat_minor": 2
}
