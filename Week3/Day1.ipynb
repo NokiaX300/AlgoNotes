{
 "cells": [
  {
   "attachments": {},
   "cell_type": "markdown",
   "metadata": {},
   "source": [
    "星号详解"
   ]
  },
  {
   "cell_type": "code",
   "execution_count": 1,
   "metadata": {},
   "outputs": [
    {
     "name": "stdout",
     "output_type": "stream",
     "text": [
      "[3, 4]\n",
      "My name is Zhang and age is 18\n",
      "(1, 2, 3, 4)\n",
      "{'x': 1, 'y': 2, 'z': 3}\n",
      "1 2\n"
     ]
    }
   ],
   "source": [
    "a, b, *c = [1, 2, 3, 4]\n",
    "print(c) # 收集列表多余的值\n",
    "\n",
    "person = {'name':'Zhang', 'age':18}\n",
    "print('My name is {name} and age is {age}'.format(**person))\n",
    "\n",
    "'''定义函数'''\n",
    "def function001(*parameters):\n",
    "    print(parameters)\n",
    "function001(1,2,3,4) # 以元组的形式导入\n",
    "\n",
    "def function002(**parameters):\n",
    "    print(parameters)\n",
    "function002(x=1,y=2,z=3) # 以字典的形式导入\n",
    "\n",
    "'''调用函数'''\n",
    "def function003(parameter1, parameter2):\n",
    "    print(parameter1, parameter2)\n",
    "list001 = [1,2]\n",
    "function003(*list001) # 解压参数列表"
   ]
  }
 ],
 "metadata": {
  "kernelspec": {
   "display_name": "base",
   "language": "python",
   "name": "python3"
  },
  "language_info": {
   "codemirror_mode": {
    "name": "ipython",
    "version": 3
   },
   "file_extension": ".py",
   "mimetype": "text/x-python",
   "name": "python",
   "nbconvert_exporter": "python",
   "pygments_lexer": "ipython3",
   "version": "3.11.3"
  },
  "orig_nbformat": 4
 },
 "nbformat": 4,
 "nbformat_minor": 2
}
