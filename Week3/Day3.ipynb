{
 "cells": [
  {
   "cell_type": "code",
   "execution_count": 2,
   "metadata": {},
   "outputs": [
    {
     "name": "stdout",
     "output_type": "stream",
     "text": [
      "[1, 2, 3, 4, 5]\n"
     ]
    }
   ],
   "source": [
    "list007 = [1,2,3,4,5]\n",
    "for ele in list007:\n",
    "    ele += 1\n",
    "print(list007)"
   ]
  },
  {
   "cell_type": "code",
   "execution_count": 3,
   "metadata": {},
   "outputs": [
    {
     "name": "stdout",
     "output_type": "stream",
     "text": [
      "[2, 3, 4, 5, 6]\n"
     ]
    }
   ],
   "source": [
    "list008 = [1,2,3,4,5]\n",
    "for i in range(len(list008)):\n",
    "    list008[i] += 1\n",
    "print(list008)"
   ]
  },
  {
   "cell_type": "code",
   "execution_count": 4,
   "metadata": {},
   "outputs": [
    {
     "name": "stdout",
     "output_type": "stream",
     "text": [
      "'ncaw<,Hj:d\\"
     ]
    }
   ],
   "source": [
    "list009 = [chr(x) for x in range(65, 91)]\n",
    "list010 = [chr(x) for x in range(97, 123)]\n",
    "list011 = [chr(x) for x in range(32, 127)]\n",
    "'''print(list009)\n",
    "print(list010)\n",
    "print(list011)'''\n",
    "import random\n",
    "for i in range(12):\n",
    "    print(random.choice(list011), end='')"
   ]
  },
  {
   "cell_type": "code",
   "execution_count": 5,
   "metadata": {},
   "outputs": [
    {
     "name": "stdout",
     "output_type": "stream",
     "text": [
      "defaultdict(<class 'int'>, {0: 0, 1: 1, 2: 4, 3: 9, 4: 16})\n",
      "(0, 0) (1, 1) (2, 4) (3, 9) (4, 16) \n",
      "0 1 2 3 4 \n",
      "0 1 4 9 16 "
     ]
    }
   ],
   "source": [
    "from collections import defaultdict\n",
    "dict005 = defaultdict(int)\n",
    "for i in range(5):\n",
    "    dict005[i] = i**2\n",
    "print(dict005)\n",
    "for i, j in dict005.items():\n",
    "    print((i, j), end=' ')\n",
    "print()\n",
    "for i in dict005.keys():\n",
    "    print(i, end=' ')\n",
    "print()\n",
    "for i in dict005.values():\n",
    "    print(i, end=' ')"
   ]
  },
  {
   "cell_type": "code",
   "execution_count": 6,
   "metadata": {},
   "outputs": [
    {
     "name": "stdout",
     "output_type": "stream",
     "text": [
      "<generator object <genexpr> at 0x000001EE6BCA5CB0>\n",
      "0,1,4,9,16,25,36,49,64,"
     ]
    }
   ],
   "source": [
    "generator = (x**2 for x in range(9))\n",
    "print(generator) # 生成器\n",
    "for ele in generator:\n",
    "    print(ele, end=',')"
   ]
  },
  {
   "cell_type": "code",
   "execution_count": 7,
   "metadata": {},
   "outputs": [
    {
     "name": "stdout",
     "output_type": "stream",
     "text": [
      "1 1 2 3 5 8 \n",
      "1 1 2 3 5 8 返回值\n"
     ]
    }
   ],
   "source": [
    "def function018(max):\n",
    "    n, a, b = 0, 0, 1\n",
    "    while n < max:\n",
    "        yield b # 每次在这里暂停\n",
    "        a, b = b, a + b\n",
    "        n = n + 1\n",
    "    return '返回值'\n",
    "for ele in function018(6):\n",
    "    print(ele, end=' ')\n",
    "print()\n",
    "\n",
    "generator = function018(6) # Iterator是惰性序列\n",
    "while True:\n",
    "    try:\n",
    "        print(next(generator), end=' ')\n",
    "    except StopIteration as e:\n",
    "        print(e.value)\n",
    "        break"
   ]
  },
  {
   "cell_type": "code",
   "execution_count": 8,
   "metadata": {},
   "outputs": [
    {
     "name": "stdout",
     "output_type": "stream",
     "text": [
      "101 111 121 131 141 151 161 171 181 191 202 212 222 232 242 252 262 272 282 292 303 313 323 333 343 353 363 373 383 393 404 414 424 434 444 454 464 474 484 494 "
     ]
    }
   ],
   "source": [
    "def is_palindrome(n):\n",
    "    n = list(map(int, str(n)))\n",
    "    for i in range(len(n)//2):\n",
    "        if n[i] != n.pop():\n",
    "            return False\n",
    "    else:\n",
    "        return True\n",
    "for i in range(100, 500):\n",
    "    if is_palindrome(i):\n",
    "        print(i, end=' ')"
   ]
  },
  {
   "cell_type": "code",
   "execution_count": 9,
   "metadata": {},
   "outputs": [
    {
     "data": {
      "text/plain": [
       "['s:\\\\NokiaX300\\\\Notes_Python\\\\Week3',\n",
       " 'd:\\\\Python\\\\Anaconda\\\\python311.zip',\n",
       " 'd:\\\\Python\\\\Anaconda\\\\DLLs',\n",
       " 'd:\\\\Python\\\\Anaconda\\\\Lib',\n",
       " 'd:\\\\Python\\\\Anaconda',\n",
       " '',\n",
       " 'C:\\\\Users\\\\Akagi\\\\AppData\\\\Roaming\\\\Python\\\\Python311\\\\site-packages',\n",
       " 'C:\\\\Users\\\\Akagi\\\\AppData\\\\Roaming\\\\Python\\\\Python311\\\\site-packages\\\\win32',\n",
       " 'C:\\\\Users\\\\Akagi\\\\AppData\\\\Roaming\\\\Python\\\\Python311\\\\site-packages\\\\win32\\\\lib',\n",
       " 'C:\\\\Users\\\\Akagi\\\\AppData\\\\Roaming\\\\Python\\\\Python311\\\\site-packages\\\\Pythonwin',\n",
       " 'd:\\\\Python\\\\Anaconda\\\\Lib\\\\site-packages',\n",
       " 'd:\\\\Python\\\\Anaconda\\\\Lib\\\\site-packages\\\\win32',\n",
       " 'd:\\\\Python\\\\Anaconda\\\\Lib\\\\site-packages\\\\win32\\\\lib',\n",
       " 'd:\\\\Python\\\\Anaconda\\\\Lib\\\\site-packages\\\\Pythonwin']"
      ]
     },
     "execution_count": 9,
     "metadata": {},
     "output_type": "execute_result"
    }
   ],
   "source": [
    "import sys\n",
    "sys.path"
   ]
  },
  {
   "cell_type": "code",
   "execution_count": 10,
   "metadata": {},
   "outputs": [],
   "source": [
    "import numpy"
   ]
  },
  {
   "cell_type": "code",
   "execution_count": 11,
   "metadata": {},
   "outputs": [],
   "source": [
    "class Class001(object):\n",
    "    __slots__ = ('name', 'age') # 限制该class实例能添加的属性\n",
    "\n",
    "instance001 = Class001()\n",
    "instance001.name = 'Akagi'\n",
    "instance001.age = 23"
   ]
  },
  {
   "cell_type": "code",
   "execution_count": 12,
   "metadata": {},
   "outputs": [
    {
     "name": "stdout",
     "output_type": "stream",
     "text": [
      "2023-07-02 11:46:46.190588\n"
     ]
    }
   ],
   "source": [
    "from datetime import datetime\n",
    "print(datetime.now())"
   ]
  },
  {
   "cell_type": "code",
   "execution_count": 13,
   "metadata": {},
   "outputs": [
    {
     "data": {
      "text/plain": [
       "OrderedDict([('name', 'Akagi'), ('age', 17)])"
      ]
     },
     "execution_count": 13,
     "metadata": {},
     "output_type": "execute_result"
    }
   ],
   "source": [
    "from collections import OrderedDict # 有序字典\n",
    "dict007 = OrderedDict(name='Akagi', age=17)\n",
    "dict007"
   ]
  },
  {
   "cell_type": "code",
   "execution_count": 14,
   "metadata": {},
   "outputs": [
    {
     "data": {
      "text/plain": [
       "Counter({'q': 3, 'd': 3, 'k': 2, 'j': 2, 'h': 2, 'w': 1})"
      ]
     },
     "execution_count": 14,
     "metadata": {},
     "output_type": "execute_result"
    }
   ],
   "source": [
    "from collections import Counter\n",
    "dict008 = Counter()\n",
    "for ele in 'qdkjqhddqkjhw':\n",
    "    dict008[ele] += 1\n",
    "dict008"
   ]
  },
  {
   "cell_type": "code",
   "execution_count": 15,
   "metadata": {},
   "outputs": [
    {
     "data": {
      "text/plain": [
       "{'encoding': 'EUC-JP', 'confidence': 0.99, 'language': 'Japanese'}"
      ]
     },
     "execution_count": 15,
     "metadata": {},
     "output_type": "execute_result"
    }
   ],
   "source": [
    "import chardet\n",
    "data = '最新の主要ニュース'.encode('euc-jp')\n",
    "chardet.detect(data)"
   ]
  },
  {
   "cell_type": "code",
   "execution_count": 16,
   "metadata": {},
   "outputs": [
    {
     "data": {
      "text/plain": [
       "svmem(total=16312225792, available=5993906176, percent=63.3, used=10318319616, free=5993906176)"
      ]
     },
     "execution_count": 16,
     "metadata": {},
     "output_type": "execute_result"
    }
   ],
   "source": [
    "import psutil\n",
    "psutil.cpu_count(logical=False)\n",
    "psutil.virtual_memory()"
   ]
  },
  {
   "cell_type": "code",
   "execution_count": 17,
   "metadata": {},
   "outputs": [
    {
     "name": "stdout",
     "output_type": "stream",
     "text": [
      "[1.6, 0.0, 3.2, 11.1, 1.6, 0.0, 1.6, 0.0, 0.0, 0.0, 0.0, 13.8, 0.0, 0.0, 0.0, 3.2]\n",
      "[10.9, 0.0, 0.0, 33.8, 0.0, 0.0, 0.0, 15.6, 3.1, 0.0, 1.6, 14.1, 3.1, 1.6, 0.0, 0.0]\n",
      "[0.0, 0.0, 9.7, 21.9, 1.6, 1.6, 4.7, 6.2, 0.0, 0.0, 1.6, 15.6, 3.1, 1.6, 0.0, 1.6]\n",
      "[1.6, 1.6, 16.9, 15.6, 1.6, 3.1, 0.0, 1.6, 0.0, 0.0, 15.6, 0.0, 0.0, 0.0, 0.0, 0.0]\n",
      "[0.0, 3.1, 0.0, 12.5, 1.6, 0.0, 12.5, 0.0, 0.0, 0.0, 1.6, 1.6, 0.0, 0.0, 0.0, 0.0]\n",
      "[6.2, 4.7, 0.0, 14.1, 0.0, 0.0, 1.6, 1.6, 0.0, 1.6, 0.0, 17.2, 0.0, 0.0, 0.0, 0.0]\n",
      "[4.7, 0.0, 0.0, 36.9, 10.9, 0.0, 17.2, 7.9, 0.0, 4.7, 3.1, 12.3, 3.1, 3.1, 0.0, 0.0]\n",
      "[7.7, 3.1, 0.0, 36.5, 0.0, 3.1, 7.8, 27.7, 0.0, 0.0, 1.6, 18.8, 0.0, 0.0, 0.0, 1.6]\n",
      "[7.8, 1.6, 21.9, 9.4, 1.6, 3.1, 0.0, 20.3, 1.6, 3.1, 4.8, 23.4, 4.7, 0.0, 1.6, 0.0]\n",
      "[4.6, 0.0, 0.0, 23.4, 0.0, 1.6, 0.0, 3.1, 0.0, 0.0, 1.5, 9.4, 0.0, 0.0, 0.0, 0.0]\n"
     ]
    }
   ],
   "source": [
    "for x in range(10):\n",
    "    print(psutil.cpu_percent(interval=1, percpu=True))"
   ]
  },
  {
   "cell_type": "code",
   "execution_count": 18,
   "metadata": {},
   "outputs": [],
   "source": [
    "import aiohttp\n",
    "import web"
   ]
  },
  {
   "attachments": {},
   "cell_type": "markdown",
   "metadata": {},
   "source": [
    "练习"
   ]
  },
  {
   "cell_type": "code",
   "execution_count": 19,
   "metadata": {},
   "outputs": [
    {
     "name": "stdout",
     "output_type": "stream",
     "text": [
      "1 * 1 = 1\t\n",
      "1 * 2 = 2\t2 * 2 = 4\t\n",
      "1 * 3 = 3\t2 * 3 = 6\t3 * 3 = 9\t\n",
      "1 * 4 = 4\t2 * 4 = 8\t3 * 4 = 12\t4 * 4 = 16\t\n",
      "1 * 5 = 5\t2 * 5 = 10\t3 * 5 = 15\t4 * 5 = 20\t5 * 5 = 25\t\n",
      "1 * 6 = 6\t2 * 6 = 12\t3 * 6 = 18\t4 * 6 = 24\t5 * 6 = 30\t6 * 6 = 36\t\n",
      "1 * 7 = 7\t2 * 7 = 14\t3 * 7 = 21\t4 * 7 = 28\t5 * 7 = 35\t6 * 7 = 42\t7 * 7 = 49\t\n",
      "1 * 8 = 8\t2 * 8 = 16\t3 * 8 = 24\t4 * 8 = 32\t5 * 8 = 40\t6 * 8 = 48\t7 * 8 = 56\t8 * 8 = 64\t\n",
      "1 * 9 = 9\t2 * 9 = 18\t3 * 9 = 27\t4 * 9 = 36\t5 * 9 = 45\t6 * 9 = 54\t7 * 9 = 63\t8 * 9 = 72\t9 * 9 = 81\t\n"
     ]
    }
   ],
   "source": [
    "# 九九乘法表\n",
    "for i in range(1, 10):\n",
    "    for j in range(1, i+1):\n",
    "        print('{1} * {0} = {2}\\t'.format(i, j, i*j), end = '')\n",
    "    print('')"
   ]
  },
  {
   "cell_type": "code",
   "execution_count": 20,
   "metadata": {},
   "outputs": [
    {
     "name": "stdout",
     "output_type": "stream",
     "text": [
      "1 * 1 = 1\t\n",
      "1 * 2 = 2\t2 * 2 = 4\t\n",
      "1 * 3 = 3\t2 * 3 = 6\t3 * 3 = 9\t\n",
      "1 * 4 = 4\t2 * 4 = 8\t3 * 4 = 12\t4 * 4 = 16\t\n",
      "1 * 5 = 5\t2 * 5 = 10\t3 * 5 = 15\t4 * 5 = 20\t5 * 5 = 25\t\n",
      "1 * 6 = 6\t2 * 6 = 12\t3 * 6 = 18\t4 * 6 = 24\t5 * 6 = 30\t6 * 6 = 36\t\n",
      "1 * 7 = 7\t2 * 7 = 14\t3 * 7 = 21\t4 * 7 = 28\t5 * 7 = 35\t6 * 7 = 42\t7 * 7 = 49\t\n",
      "1 * 8 = 8\t2 * 8 = 16\t3 * 8 = 24\t4 * 8 = 32\t5 * 8 = 40\t6 * 8 = 48\t7 * 8 = 56\t8 * 8 = 64\t\n",
      "1 * 9 = 9\t2 * 9 = 18\t3 * 9 = 27\t4 * 9 = 36\t5 * 9 = 45\t6 * 9 = 54\t7 * 9 = 63\t8 * 9 = 72\t9 * 9 = 81\t\n"
     ]
    }
   ],
   "source": [
    "# 九九乘法表\n",
    "i = 1\n",
    "while i <= 9:\n",
    "    j = 1\n",
    "    while j <= i:\n",
    "        print('{1} * {0} = {2}\\t'.format(i, j, i*j), end = '')\n",
    "        j += 1\n",
    "    print('')\n",
    "    i += 1"
   ]
  },
  {
   "cell_type": "code",
   "execution_count": 21,
   "metadata": {},
   "outputs": [
    {
     "name": "stdout",
     "output_type": "stream",
     "text": [
      "2 3 5 7 11 13 17 19 23 29 31 37 41 43 47 53 59 61 67 71 73 79 83 89 97 "
     ]
    }
   ],
   "source": [
    "# 打印100以内质数\n",
    "for i in range(2, 100):\n",
    "    for j in range(2, i):\n",
    "        if i % j == 0:\n",
    "            break\n",
    "    else:\n",
    "        print(i, end = ' ')"
   ]
  },
  {
   "cell_type": "code",
   "execution_count": 22,
   "metadata": {},
   "outputs": [
    {
     "name": "stdout",
     "output_type": "stream",
     "text": [
      "1 1 2 3 5 8 13 21 34 55 89 "
     ]
    }
   ],
   "source": [
    "# Fibonacci\n",
    "a, b = 1, 1\n",
    "while a <= 100:\n",
    "    print(a, end = ' ')\n",
    "    a, b = b, a+b"
   ]
  },
  {
   "cell_type": "code",
   "execution_count": 23,
   "metadata": {},
   "outputs": [
    {
     "name": "stdout",
     "output_type": "stream",
     "text": [
      "N\n"
     ]
    }
   ],
   "source": [
    "# 质数判断\n",
    "num = int(input())\n",
    "for i in range(2, num):\n",
    "    if num % i == 0:\n",
    "        print('N')\n",
    "        break\n",
    "else:\n",
    "    print('Y')"
   ]
  },
  {
   "cell_type": "code",
   "execution_count": 24,
   "metadata": {},
   "outputs": [
    {
     "name": "stdout",
     "output_type": "stream",
     "text": [
      "1\n"
     ]
    }
   ],
   "source": [
    "# 求最大公约数\n",
    "a, b = map(int, input().split())\n",
    "if a > b:\n",
    "    b, a = a, b\n",
    "for i in range(1, a+1):\n",
    "    if a % i == 0 and b % i == 0:\n",
    "        s = i\n",
    "print(s)"
   ]
  },
  {
   "cell_type": "code",
   "execution_count": 25,
   "metadata": {},
   "outputs": [
    {
     "name": "stdout",
     "output_type": "stream",
     "text": [
      "3924\n"
     ]
    }
   ],
   "source": [
    "# 求最小公倍数\n",
    "a, b = map(int, input().split())\n",
    "if a > b:\n",
    "    a, b = b, a\n",
    "for i in range(a, a*b + 1):\n",
    "    if i % a == 0 and i % b == 0:\n",
    "        print(i)\n",
    "        break"
   ]
  },
  {
   "cell_type": "code",
   "execution_count": 26,
   "metadata": {},
   "outputs": [
    {
     "data": {
      "text/plain": [
       "[4, 5, 2, 3, 1]"
      ]
     },
     "execution_count": 26,
     "metadata": {},
     "output_type": "execute_result"
    }
   ],
   "source": [
    "# 移除列表中重复的元素后原序输出\n",
    "def remo(seq):\n",
    "    list005 = []\n",
    "    for i in range(len(seq)):\n",
    "        if seq[i] in list005:\n",
    "            continue\n",
    "        list005.append(seq[i])\n",
    "    return list005\n",
    "\n",
    "remo([4,5,2,3,5,1,4])"
   ]
  },
  {
   "cell_type": "code",
   "execution_count": 27,
   "metadata": {},
   "outputs": [
    {
     "name": "stdout",
     "output_type": "stream",
     "text": [
      "第5个元素\n"
     ]
    }
   ],
   "source": [
    "# 二分查找\n",
    "def binarysearch(x:int, seq:list):\n",
    "    left, right = 0, len(seq)-1\n",
    "    while left <= right:\n",
    "        mid = (right - left)//2 + left\n",
    "        if seq[mid] == x:\n",
    "            print('第%s个元素'%(mid + 1))\n",
    "            return\n",
    "        elif seq[mid] < x:\n",
    "            left = mid + 1\n",
    "        else:\n",
    "            right = mid -1\n",
    "    return False\n",
    "\n",
    "binarysearch(7, [2,4,5,6,7])"
   ]
  },
  {
   "cell_type": "code",
   "execution_count": 28,
   "metadata": {},
   "outputs": [
    {
     "data": {
      "text/plain": [
       "[2, 3, 3, 5, 6, 6, 7]"
      ]
     },
     "execution_count": 28,
     "metadata": {},
     "output_type": "execute_result"
    }
   ],
   "source": [
    "# 插入排序\n",
    "def backsort(arr):\n",
    "    for i in range(len(arr)):\n",
    "        j = i - 1\n",
    "        num = arr[i]\n",
    "        while j >= 0 and arr[j] > num:\n",
    "            arr[j + 1] = arr[j]\n",
    "            j -= 1\n",
    "        arr[j + 1] = num\n",
    "    return arr\n",
    "\n",
    "backsort([7, 6, 5, 2, 6, 3, 3])\n",
    "# https://www.runoob.com/wp-content/uploads/2019/03/insertionSort.gif"
   ]
  },
  {
   "cell_type": "code",
   "execution_count": 29,
   "metadata": {},
   "outputs": [
    {
     "data": {
      "text/plain": [
       "[2, 3, 3, 5, 6, 6, 7]"
      ]
     },
     "execution_count": 29,
     "metadata": {},
     "output_type": "execute_result"
    }
   ],
   "source": [
    "# 冒泡排序\n",
    "def bubble(arr):\n",
    "    for i in range(len(arr)):\n",
    "        for j in range(len(arr)-i-1):\n",
    "            if arr[j] > arr[j+1]:\n",
    "                arr[j], arr[j+1] = arr[j+1], arr[j]\n",
    "    return arr\n",
    "\n",
    "bubble([7, 6, 5, 2, 6, 3, 3])"
   ]
  },
  {
   "cell_type": "code",
   "execution_count": 30,
   "metadata": {},
   "outputs": [
    {
     "data": {
      "text/plain": [
       "32"
      ]
     },
     "execution_count": 30,
     "metadata": {},
     "output_type": "execute_result"
    }
   ],
   "source": [
    "# 序列求和\n",
    "def function006(arr):\n",
    "    def function005(arr, s):\n",
    "        if len(arr) == 0:\n",
    "            return s\n",
    "        return function005(arr[1:], arr[0]+s)\n",
    "    return function005(arr, s=0)\n",
    "\n",
    "function006([7, 6, 5, 2, 6, 3, 3])"
   ]
  }
 ],
 "metadata": {
  "kernelspec": {
   "display_name": "base",
   "language": "python",
   "name": "python3"
  },
  "language_info": {
   "codemirror_mode": {
    "name": "ipython",
    "version": 3
   },
   "file_extension": ".py",
   "mimetype": "text/x-python",
   "name": "python",
   "nbconvert_exporter": "python",
   "pygments_lexer": "ipython3",
   "version": "3.11.3"
  },
  "orig_nbformat": 4
 },
 "nbformat": 4,
 "nbformat_minor": 2
}
