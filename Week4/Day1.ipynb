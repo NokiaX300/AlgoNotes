{
 "cells": [
  {
   "attachments": {},
   "cell_type": "markdown",
   "metadata": {},
   "source": [
    "滑动窗口算法\n",
    "\n",
    "https://labuladong.github.io/article/fname.html?fname=滑动窗口技巧进阶"
   ]
  },
  {
   "cell_type": "code",
   "execution_count": null,
   "metadata": {},
   "outputs": [],
   "source": [
    "# 3. 无重复字符的最长子串\n",
    "# https://leetcode.cn/problems/longest-substring-without-repeating-characters/\n",
    "\n",
    "from collections import defaultdict\n",
    "class Solution:\n",
    "    def lengthOfLongestSubstring(self, s: str) -> int:\n",
    "        window = defaultdict(int)\n",
    "        left = 0\n",
    "        right = 0\n",
    "        res = 0\n",
    "        while right < len(s):\n",
    "            keyr = s[right]\n",
    "            window[keyr] += 1\n",
    "            right += 1\n",
    "            while window[keyr] > 1:\n",
    "                keyl = s[left]\n",
    "                window[keyl] -= 1\n",
    "                left += 1\n",
    "            res = max(res, right - left)\n",
    "        return res"
   ]
  },
  {
   "cell_type": "code",
   "execution_count": 2,
   "metadata": {},
   "outputs": [
    {
     "name": "stdout",
     "output_type": "stream",
     "text": [
      "{'q': 2, 'w': 1, 'd': 3}\n"
     ]
    }
   ],
   "source": [
    "t = input()\n",
    "need = {}\n",
    "for i in t:\n",
    "    need[i] = need.get(i, 0) + 1\n",
    "print(need)"
   ]
  },
  {
   "cell_type": "code",
   "execution_count": null,
   "metadata": {},
   "outputs": [],
   "source": [
    "# 76. 最小覆盖子串\n",
    "# https://leetcode.cn/problems/minimum-window-substring/\n",
    "\n",
    "from collections import defaultdict\n",
    "class Solution:\n",
    "    def minWindow(self, s: str, t: str) -> str:\n",
    "        need = defaultdict(int)\n",
    "        for i in range(len(t)):\n",
    "            need[t[i]] += 1\n",
    "        window = defaultdict(int)\n",
    "        left = 0\n",
    "        right = 0\n",
    "        valid = 0\n",
    "        length = float('inf')\n",
    "        start = 0\n",
    "        while right < len(s):\n",
    "            keyr = s[right]\n",
    "            if keyr in need:\n",
    "                window[keyr] += 1\n",
    "                if window[keyr] == need[keyr]:\n",
    "                    valid += 1\n",
    "            right += 1\n",
    "            while valid == len(need):\n",
    "                keyl = s[left]\n",
    "                if right - left < length:\n",
    "                    start = left\n",
    "                    length = right - left\n",
    "                left += 1\n",
    "                if keyl in need:\n",
    "                    if window[keyl] == need[keyl]:\n",
    "                        valid -= 1\n",
    "                    window[keyl] -= 1\n",
    "        return '' if length == float('inf') else s[start:start + length]"
   ]
  },
  {
   "cell_type": "code",
   "execution_count": 3,
   "metadata": {},
   "outputs": [
    {
     "name": "stdout",
     "output_type": "stream",
     "text": [
      "defaultdict(<class 'int'>, {'A': 1, 'B': 1, 'C': 2})\n"
     ]
    }
   ],
   "source": [
    "from collections import defaultdict\n",
    "need = defaultdict(int)\n",
    "t = 'ABCC'\n",
    "for i in range(len(t)):\n",
    "    need[t[i]] += 1\n",
    "print(need)"
   ]
  }
 ],
 "metadata": {
  "kernelspec": {
   "display_name": "base",
   "language": "python",
   "name": "python3"
  },
  "language_info": {
   "codemirror_mode": {
    "name": "ipython",
    "version": 3
   },
   "file_extension": ".py",
   "mimetype": "text/x-python",
   "name": "python",
   "nbconvert_exporter": "python",
   "pygments_lexer": "ipython3",
   "version": "3.11.3"
  },
  "orig_nbformat": 4
 },
 "nbformat": 4,
 "nbformat_minor": 2
}
