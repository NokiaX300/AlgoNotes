{
 "cells": [
  {
   "attachments": {},
   "cell_type": "markdown",
   "metadata": {},
   "source": [
    "滑动窗口算法\n",
    "\n",
    "https://labuladong.github.io/article/fname.html?fname=滑动窗口技巧进阶"
   ]
  },
  {
   "cell_type": "code",
   "execution_count": null,
   "metadata": {},
   "outputs": [],
   "source": [
    "# 3. 无重复字符的最长子串\n",
    "# https://leetcode.cn/problems/longest-substring-without-repeating-characters/\n",
    "\n",
    "from collections import defaultdict\n",
    "class Solution:\n",
    "    def lengthOfLongestSubstring(self, s: str) -> int:\n",
    "        window = defaultdict(int)\n",
    "        left = 0\n",
    "        right = 0\n",
    "        res = 0\n",
    "        while right < len(s):\n",
    "            keyr = s[right]\n",
    "            window[keyr] += 1\n",
    "            right += 1\n",
    "            while window[keyr] > 1:\n",
    "                keyl = s[left]\n",
    "                window[keyl] -= 1\n",
    "                left += 1\n",
    "            res = max(res, right - left)\n",
    "        return res"
   ]
  },
  {
   "cell_type": "code",
   "execution_count": 2,
   "metadata": {},
   "outputs": [
    {
     "name": "stdout",
     "output_type": "stream",
     "text": [
      "{'q': 2, 'w': 1, 'd': 3}\n"
     ]
    }
   ],
   "source": [
    "t = input()\n",
    "need = {}\n",
    "for i in t:\n",
    "    need[i] = need.get(i, 0) + 1\n",
    "print(need)"
   ]
  },
  {
   "cell_type": "code",
   "execution_count": null,
   "metadata": {},
   "outputs": [],
   "source": [
    "# 76. 最小覆盖子串\n",
    "# https://leetcode.cn/problems/minimum-window-substring/\n",
    "\n",
    "from collections import defaultdict\n",
    "class Solution:\n",
    "    def minWindow(self, s: str, t: str) -> str:\n",
    "        need = defaultdict(int)\n",
    "        for i in range(len(t)):\n",
    "            need[t[i]] += 1\n",
    "        window = defaultdict(int)\n",
    "        left = 0\n",
    "        right = 0\n",
    "        valid = 0\n",
    "        length = float('inf')\n",
    "        start = 0\n",
    "        while right < len(s):\n",
    "            keyr = s[right]\n",
    "            if keyr in need:\n",
    "                window[keyr] += 1\n",
    "                if window[keyr] == need[keyr]:\n",
    "                    valid += 1\n",
    "            right += 1\n",
    "            while valid == len(need):\n",
    "                keyl = s[left]\n",
    "                if right - left < length:\n",
    "                    start = left\n",
    "                    length = right - left\n",
    "                left += 1\n",
    "                if keyl in need:\n",
    "                    if window[keyl] == need[keyl]:\n",
    "                        valid -= 1\n",
    "                    window[keyl] -= 1\n",
    "        return '' if length == float('inf') else s[start:start + length]"
   ]
  },
  {
   "cell_type": "code",
   "execution_count": 3,
   "metadata": {},
   "outputs": [
    {
     "name": "stdout",
     "output_type": "stream",
     "text": [
      "defaultdict(<class 'int'>, {'A': 1, 'B': 1, 'C': 2})\n"
     ]
    }
   ],
   "source": [
    "from collections import defaultdict\n",
    "need = defaultdict(int)\n",
    "t = 'ABCC'\n",
    "for i in range(len(t)):\n",
    "    need[t[i]] += 1\n",
    "print(need)"
   ]
  },
  {
   "cell_type": "code",
   "execution_count": null,
   "metadata": {},
   "outputs": [],
   "source": [
    "def addTwoNumbers(l1, l2):\n",
    "        l3, l4 = [], []\n",
    "        for i in range(len(l1)):\n",
    "            l3.append(l1.pop())\n",
    "        for i in range(len(l2)):\n",
    "            l4.append(l2.pop())\n",
    "        s1 = int(''.join(list(map(str, l3))))\n",
    "        s2 = int(''.join(list(map(str, l4))))\n",
    "        s = s1 + s2\n",
    "        l = [int(x) for x in str(s)][::-1]\n",
    "        return l\n",
    "l1 = list(map(int, input().split()))\n",
    "l2 = list(map(int, input().split()))\n",
    "print(addTwoNumbers(l1, l2))"
   ]
  },
  {
   "cell_type": "code",
   "execution_count": 6,
   "metadata": {},
   "outputs": [
    {
     "data": {
      "text/plain": [
       "True"
      ]
     },
     "execution_count": 6,
     "metadata": {},
     "output_type": "execute_result"
    }
   ],
   "source": [
    "# 567. 字符串的排列\n",
    "# https://leetcode.cn/problems/permutation-in-string/\n",
    "\n",
    "'''from collections import defaultdict # 题目理解错了\n",
    "class Solution:\n",
    "    def checkInclusion(self, s1: str, s2: str) -> bool:\n",
    "        need = defaultdict(int)\n",
    "        for i in range(len(s1)):\n",
    "            need[s1[i]] += 1\n",
    "        window = defaultdict(int)\n",
    "        right = 0\n",
    "        valid = 0\n",
    "        while right < len(s2):\n",
    "            keyr = s2[right]\n",
    "            if keyr in need:\n",
    "                window[keyr] += 1\n",
    "                if window[keyr] == need[keyr]:\n",
    "                    valid += 1\n",
    "            right += 1\n",
    "            if valid == len(need):\n",
    "                return True\n",
    "        return False\n",
    "a = Solution()\n",
    "a.checkInclusion(s1 = \"ab\", s2 = \"eidbaooo\")'''\n",
    "\n",
    "from collections import defaultdict\n",
    "class Solution:\n",
    "    def checkInclusion(self, s1: str, s2: str) -> bool:\n",
    "        # need = window = defaultdict(int) 不能这样定义，它们引用的是同一个 defaultdict 对象\n",
    "        need = defaultdict(int)\n",
    "        window = defaultdict(int)\n",
    "        left = right = valid = 0\n",
    "        for i in range(len(s1)):\n",
    "            need[s1[i]] += 1\n",
    "        while right < len(s2):\n",
    "            keyr = s2[right]\n",
    "            right += 1\n",
    "            if keyr in need:\n",
    "                window[keyr] += 1\n",
    "                if window[keyr] == need[keyr]:\n",
    "                    valid += 1\n",
    "            while right - left >= len(s1):\n",
    "                if valid == len(need):\n",
    "                    return True\n",
    "                keyl = s2[left]\n",
    "                left += 1\n",
    "                if keyl in need:\n",
    "                    if window[keyl] == need[keyl]:\n",
    "                        valid -= 1\n",
    "                    window[keyl] -= 1\n",
    "        return False"
   ]
  },
  {
   "cell_type": "code",
   "execution_count": null,
   "metadata": {},
   "outputs": [],
   "source": [
    "# 438. 找到字符串中所有字母异位词\n",
    "# https://leetcode.cn/problems/find-all-anagrams-in-a-string/\n",
    "\n",
    "from collections import defaultdict\n",
    "class Solution:\n",
    "    def findAnagrams(self, s: str, p: str) -> List[int]:\n",
    "        need = defaultdict(int)\n",
    "        window = defaultdict(int)\n",
    "        for i in range(len(p)):\n",
    "            need[p[i]] += 1\n",
    "        left = right = valid = 0\n",
    "        res = []\n",
    "        while right < len(s):\n",
    "            keyr = s[right]\n",
    "            right += 1\n",
    "            if keyr in need:\n",
    "                window[keyr] += 1\n",
    "                if window[keyr] == need[keyr]:\n",
    "                    valid += 1\n",
    "            while right - left >= len(p):\n",
    "                if valid == len(need):\n",
    "                    res.append(left)\n",
    "                keyl = s[left]\n",
    "                left += 1\n",
    "                if keyl in need:\n",
    "                    if window[keyl] == need[keyl]:\n",
    "                        valid -= 1\n",
    "                    window[keyl] -= 1\n",
    "        return res"
   ]
  },
  {
   "cell_type": "code",
   "execution_count": 3,
   "metadata": {},
   "outputs": [
    {
     "data": {
      "text/plain": [
       "2"
      ]
     },
     "execution_count": 3,
     "metadata": {},
     "output_type": "execute_result"
    }
   ],
   "source": [
    "# 209. 长度最小的子数组\n",
    "# https://leetcode.cn/problems/minimum-size-subarray-sum/\n",
    "\n",
    "from collections import defaultdict\n",
    "class Solution:\n",
    "    def minSubArrayLen(self, target: int, nums) -> int:\n",
    "        window = defaultdict(int)\n",
    "        left = right = res = 0\n",
    "        length = float('inf')\n",
    "        while right < len(nums):\n",
    "            keyr = nums[right]\n",
    "            right += 1\n",
    "            res += keyr\n",
    "            while res >= target:\n",
    "                if right - left < length:\n",
    "                    length = right - left\n",
    "                keyl = nums[left]\n",
    "                left += 1\n",
    "                res -= keyl\n",
    "        return 0 if length == float('inf') else length"
   ]
  },
  {
   "cell_type": "code",
   "execution_count": null,
   "metadata": {},
   "outputs": [],
   "source": [
    "# 1208. 尽可能使字符串相等\n",
    "# https://leetcode.cn/problems/get-equal-substrings-within-budget/\n",
    "\n",
    "class Solution:\n",
    "    def equalSubstring(self, s: str, t: str, maxCost: int) -> int:\n",
    "        nums = []\n",
    "        for i in range(len(s)):\n",
    "            nums.append(abs(ord(s[i])-ord(t[i])))\n",
    "        left = right = res = length = 0\n",
    "        while right < len(nums):\n",
    "            keyr = nums[right]\n",
    "            right += 1\n",
    "            res += keyr\n",
    "            while res > maxCost:\n",
    "                keyl = nums[left]\n",
    "                left += 1\n",
    "                res -= keyl\n",
    "            length = max(length, right - left)\n",
    "        return length"
   ]
  },
  {
   "cell_type": "code",
   "execution_count": 4,
   "metadata": {},
   "outputs": [
    {
     "name": "stdout",
     "output_type": "stream",
     "text": [
      "1112\n"
     ]
    }
   ],
   "source": [
    "nums = ''\n",
    "s = \"abcd\"\n",
    "t = \"bcdf\"\n",
    "for i in range(len(s)):\n",
    "    nums += str(abs(ord(s[i])-ord(t[i])))\n",
    "print(nums)"
   ]
  },
  {
   "cell_type": "code",
   "execution_count": 5,
   "metadata": {},
   "outputs": [
    {
     "name": "stdout",
     "output_type": "stream",
     "text": [
      "[1, 1, 1, 2]\n"
     ]
    }
   ],
   "source": [
    "nums = []\n",
    "s = \"abcd\"\n",
    "t = \"bcdf\"\n",
    "for i in range(len(s)):\n",
    "    nums.append(abs(ord(s[i])-ord(t[i])))\n",
    "print(nums)"
   ]
  },
  {
   "cell_type": "code",
   "execution_count": null,
   "metadata": {},
   "outputs": [],
   "source": [
    "# 1004. 最大连续1的个数 III\n",
    "# https://leetcode.cn/problems/max-consecutive-ones-iii/\n",
    "\n",
    "class Solution:\n",
    "    def longestOnes(self, nums: List[int], k: int) -> int:\n",
    "        left = right = zero = length = 0\n",
    "        while right < len(nums):\n",
    "            keyr= nums[right]\n",
    "            right += 1\n",
    "            if keyr == 0:\n",
    "                zero += 1\n",
    "            while zero > k:\n",
    "                keyl = nums[left]\n",
    "                left += 1\n",
    "                if keyl == 0:\n",
    "                    zero -= 1\n",
    "            length = max(length, right - left)\n",
    "        return length"
   ]
  },
  {
   "cell_type": "code",
   "execution_count": 1,
   "metadata": {},
   "outputs": [
    {
     "name": "stdout",
     "output_type": "stream",
     "text": [
      "s\n",
      "s\n",
      "s\n",
      "s\n",
      "s\n",
      "s\n",
      "s\n"
     ]
    }
   ],
   "source": [
    "nums = [1,1,1,0,0,0,1,1,1,1,0]\n",
    "for i in range(len(nums)):\n",
    "    if nums[i] == '1':\n",
    "        print('x')\n",
    "    elif nums[i] == 1:\n",
    "        print('s')"
   ]
  },
  {
   "cell_type": "code",
   "execution_count": null,
   "metadata": {},
   "outputs": [],
   "source": [
    "# 1248. 统计「优美子数组」\n",
    "# https://leetcode.cn/problems/count-number-of-nice-subarrays/\n",
    "\n",
    "class Solution: # 先用数学方法做一遍\n",
    "    def numberOfSubarrays(self, nums: List[int], k: int) -> int:\n",
    "        odd_numbers = [-1]\n",
    "        res = 0\n",
    "        for i in range(len(nums)):\n",
    "            if nums[i] % 2 == 1:\n",
    "                odd_numbers.append(i)\n",
    "        odd_numbers.append(len(nums)) # 头尾两个 fake point\n",
    "        for i in range(1, len(odd_numbers)-k):\n",
    "            res += (odd_numbers[i]-odd_numbers[i-1]) * (odd_numbers[i+k]-odd_numbers[i+k-1])\n",
    "        return res"
   ]
  },
  {
   "attachments": {},
   "cell_type": "markdown",
   "metadata": {},
   "source": [
    "<img src=\"1248.png\" style=\"zoom:50%\" />"
   ]
  },
  {
   "cell_type": "code",
   "execution_count": 4,
   "metadata": {},
   "outputs": [
    {
     "data": {
      "text/plain": [
       "'{\\n   \"attachments\": {},\\n   \"cell_type\": \"markdown\",\\n   \"metadata\": {},\\n   \"source\": [\\n    \"<img src=\"1248.png\" style=\"zoom:50%\" />\"\\n   ]\\n  },'"
      ]
     },
     "execution_count": 4,
     "metadata": {},
     "output_type": "execute_result"
    }
   ],
   "source": [
    "# 两种插入图片方式：\n",
    "'''<img src=\"1248.png\" style=\"zoom:50%\" />'''\n",
    "'''{\n",
    "   \"attachments\": {},\n",
    "   \"cell_type\": \"markdown\",\n",
    "   \"metadata\": {},\n",
    "   \"source\": [\n",
    "    \"<img src=\\\"1248.png\\\" style=\\\"zoom:50%\\\" />\"\n",
    "   ]\n",
    "  },'''"
   ]
  },
  {
   "cell_type": "code",
   "execution_count": null,
   "metadata": {},
   "outputs": [],
   "source": [
    "# 1248. 统计「优美子数组」\n",
    "# https://leetcode.cn/problems/count-number-of-nice-subarrays/\n",
    "\n",
    "class Solution: # 再用滑动窗口做一遍\n",
    "    def numberOfSubarrays(self, nums: List[int], k: int) -> int:\n",
    "        pass"
   ]
  }
 ],
 "metadata": {
  "kernelspec": {
   "display_name": "base",
   "language": "python",
   "name": "python3"
  },
  "language_info": {
   "codemirror_mode": {
    "name": "ipython",
    "version": 3
   },
   "file_extension": ".py",
   "mimetype": "text/x-python",
   "name": "python",
   "nbconvert_exporter": "python",
   "pygments_lexer": "ipython3",
   "version": "3.11.3"
  },
  "orig_nbformat": 4
 },
 "nbformat": 4,
 "nbformat_minor": 2
}
