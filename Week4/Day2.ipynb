{
 "cells": [
  {
   "attachments": {},
   "cell_type": "markdown",
   "metadata": {},
   "source": [
    "NSUM\n",
    "\n",
    "https://mp.weixin.qq.com/s/fSyJVvggxHq28a0SdmZm6Q"
   ]
  },
  {
   "cell_type": "code",
   "execution_count": null,
   "metadata": {},
   "outputs": [],
   "source": [
    "# 1. 两数之和\n",
    "# https://leetcode.cn/problems/two-sum/\n",
    "\n",
    "'''class Solution:\n",
    "    def twoSum(self, nums: List[int], target: int) -> List[int]:\n",
    "        nums.sort()\n",
    "        start = 0\n",
    "        stop = len(nums)-1\n",
    "        while start < stop:\n",
    "            if nums[start] + nums[stop] == target:\n",
    "                return [start, stop]\n",
    "            elif nums[start] + nums[stop] > target:\n",
    "                stop -= 1\n",
    "            else:\n",
    "                start += 1\n",
    "        return []'''"
   ]
  },
  {
   "cell_type": "code",
   "execution_count": 3,
   "metadata": {},
   "outputs": [
    {
     "name": "stdout",
     "output_type": "stream",
     "text": [
      "[0, 1]\n",
      "[0, 1]\n"
     ]
    }
   ],
   "source": [
    "start=0\n",
    "stop=1\n",
    "print([start,stop])\n",
    "print([start,     stop])"
   ]
  },
  {
   "cell_type": "code",
   "execution_count": null,
   "metadata": {},
   "outputs": [],
   "source": [
    "# 1. 两数之和\n",
    "# https://leetcode.cn/problems/two-sum/\n",
    "\n",
    "class Solution: # 使用遍历\n",
    "    def twoSum(self, nums: List[int], target: int) -> List[int]:\n",
    "        for i in range(len(nums)):\n",
    "            res = target - nums[i]\n",
    "            if res in nums[i+1:]:\n",
    "                return [i, nums[i+1:].index(res)+i+1]"
   ]
  },
  {
   "cell_type": "code",
   "execution_count": null,
   "metadata": {},
   "outputs": [],
   "source": [
    "# 1. 两数之和\n",
    "# https://leetcode.cn/problems/two-sum/\n",
    "\n",
    "class Solution: # 使用哈希表\n",
    "    def twoSum(self, nums: List[int], target: int) -> List[int]:\n",
    "        hashtable = dict()\n",
    "        for i, num in enumerate(nums):\n",
    "            if target - num in hashtable:\n",
    "                return [hashtable[target-num], i]\n",
    "            hashtable[nums[i]] = i\n",
    "        return []"
   ]
  }
 ],
 "metadata": {
  "kernelspec": {
   "display_name": "base",
   "language": "python",
   "name": "python3"
  },
  "language_info": {
   "codemirror_mode": {
    "name": "ipython",
    "version": 3
   },
   "file_extension": ".py",
   "mimetype": "text/x-python",
   "name": "python",
   "nbconvert_exporter": "python",
   "pygments_lexer": "ipython3",
   "version": "3.11.3"
  },
  "orig_nbformat": 4
 },
 "nbformat": 4,
 "nbformat_minor": 2
}
