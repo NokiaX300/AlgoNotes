{
 "cells": [
  {
   "cell_type": "code",
   "execution_count": null,
   "metadata": {},
   "outputs": [],
   "source": [
    "# 49. 字母异位词分组\n",
    "# https://leetcode.cn/problems/group-anagrams/\n",
    "\n",
    "class Solution:\n",
    "    def groupAnagrams(self, strs: List[str]) -> List[List[str]]:\n",
    "        dic = {}\n",
    "        for ele in strs:\n",
    "            ele_ = ''.join(sorted(ele))\n",
    "            if ele_ not in dic:\n",
    "                dic[ele_] = [ele]\n",
    "            else:\n",
    "                dic[ele_].append(ele)\n",
    "        return list(dic.values())"
   ]
  },
  {
   "cell_type": "code",
   "execution_count": 3,
   "metadata": {},
   "outputs": [
    {
     "name": "stdout",
     "output_type": "stream",
     "text": [
      "aet\n",
      "aet\n",
      "ant\n",
      "aet\n",
      "ant\n",
      "abt\n",
      "['eat', 'tea', 'tan', 'ate', 'nat', 'bat']\n"
     ]
    }
   ],
   "source": [
    "strs = [\"eat\", \"tea\", \"tan\", \"ate\", \"nat\", \"bat\"]\n",
    "for ele in strs:\n",
    "        ele = ''.join(sorted(ele))\n",
    "        print(ele)\n",
    "print(strs) # 临时变量并不会直接修改strs列表中的元素，它只是一个指向每个元素的副本"
   ]
  },
  {
   "cell_type": "code",
   "execution_count": 4,
   "metadata": {},
   "outputs": [
    {
     "name": "stdout",
     "output_type": "stream",
     "text": [
      "['aet', 'aet', 'ant', 'aet', 'ant', 'abt']\n"
     ]
    }
   ],
   "source": [
    "strs = [\"eat\", \"tea\", \"tan\", \"ate\", \"nat\", \"bat\"]\n",
    "for i in range(len(strs)):\n",
    "        strs[i] = ''.join(sorted(strs[i]))\n",
    "print(strs) # 临时变量并不会直接修改strs列表中的元素，它只是一个指向每个元素的副本"
   ]
  },
  {
   "cell_type": "code",
   "execution_count": null,
   "metadata": {},
   "outputs": [],
   "source": [
    "# 30. 串联所有单词的子串\n",
    "# https://leetcode.cn/problems/substring-with-concatenation-of-all-words/\n",
    "\n",
    "from collections import Counter\n",
    "class Solution:\n",
    "    def findSubstring(self, s: str, words: List[str]) -> List[int]:\n",
    "        len_single = len(words[0])\n",
    "        len_all = len_single * len(words)\n",
    "        res = []\n",
    "        for i in range(len(s) - len_all + 1):\n",
    "            tmp = s[i:i+len_all]\n",
    "            tp = []\n",
    "            for j in range(0, len_all, len_single):\n",
    "                tp.append(tmp[j:j+len_single])\n",
    "            if Counter(tp) == Counter(words):\n",
    "                res.append(i)\n",
    "        return res"
   ]
  },
  {
   "cell_type": "code",
   "execution_count": 6,
   "metadata": {},
   "outputs": [
    {
     "name": "stdout",
     "output_type": "stream",
     "text": [
      "Counter({'word': 2, 'good': 1, 'best': 1})\n"
     ]
    }
   ],
   "source": [
    "words = [\"word\",\"good\",\"best\",\"word\"]\n",
    "from collections import Counter\n",
    "print(Counter(words))"
   ]
  },
  {
   "cell_type": "code",
   "execution_count": 1,
   "metadata": {},
   "outputs": [
    {
     "data": {
      "text/plain": [
       "63245986"
      ]
     },
     "execution_count": 1,
     "metadata": {},
     "output_type": "execute_result"
    }
   ],
   "source": [
    "# 70. 爬楼梯\n",
    "# https://leetcode.cn/problems/climbing-stairs/\n",
    "\n",
    "# 超时DFS算法\n",
    "class Solution:\n",
    "    def climbStairs(self, n: int) -> int:\n",
    "        if n == 1 or n == 0:\n",
    "            return 1\n",
    "        return Solution.climbStairs(self, n-1) + Solution.climbStairs(self, n-2)\n",
    "Solution().climbStairs(38)\n",
    "\n",
    "# 记忆化递归\n",
    "class Solution:\n",
    "    lst = [-1]*50\n",
    "    def climbStairs(self, n: int) -> int:\n",
    "        if self.lst[n] != -1:\n",
    "            return self.lst[n] # 如果第n层不是-1的话,就说明有数据,可以直接递归出去,不用深度查找\n",
    "        if n == 1 or n == 0:\n",
    "            return 1\n",
    "        self.lst[n] = Solution.climbStairs(self, n-1) + Solution.climbStairs(self, n-2)\n",
    "        return self.lst[n]\n",
    "    \n",
    "\n",
    "# dp\n",
    "class Solution:\n",
    "    def climbStairs(self, n: int) -> int:\n",
    "        dp = [-1]*50\n",
    "        dp[0] = 1\n",
    "        dp[1] = 1\n",
    "        for i in range(2, n+1):\n",
    "            dp[i] = dp[i-1] + dp[i-2]\n",
    "        return dp[n]\n",
    "\n",
    "# Fibonacci\n",
    "class Solution:\n",
    "    def climbStairs(self, n: int) -> int:\n",
    "        a, b = 1, 1\n",
    "        for i in range(2, n+1):\n",
    "            a, b = b, a+b\n",
    "        return b"
   ]
  }
 ],
 "metadata": {
  "kernelspec": {
   "display_name": "base",
   "language": "python",
   "name": "python3"
  },
  "language_info": {
   "codemirror_mode": {
    "name": "ipython",
    "version": 3
   },
   "file_extension": ".py",
   "mimetype": "text/x-python",
   "name": "python",
   "nbconvert_exporter": "python",
   "pygments_lexer": "ipython3",
   "version": "3.11.3"
  },
  "orig_nbformat": 4
 },
 "nbformat": 4,
 "nbformat_minor": 2
}
