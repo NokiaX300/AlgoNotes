{
 "cells": [
  {
   "cell_type": "markdown",
   "metadata": {},
   "source": [
    "双指针技巧秒杀七道数组题目\n",
    "\n",
    "https://labuladong.github.io/article/fname.html?fname=双指针技巧"
   ]
  },
  {
   "cell_type": "code",
   "execution_count": null,
   "metadata": {},
   "outputs": [],
   "source": [
    "# 26. 删除有序数组中的重复项\n",
    "# https://leetcode.cn/problems/remove-duplicates-from-sorted-array/\n",
    "\n",
    "class Solution:\n",
    "    def removeDuplicates(self, nums: List[int]) -> int:\n",
    "        slow = 0\n",
    "        fast = 0\n",
    "        while fast < len(nums):\n",
    "            if nums[fast] != nums[slow]:\n",
    "                slow += 1\n",
    "                nums[slow] = nums[fast]\n",
    "            fast += 1\n",
    "        return slow+1"
   ]
  },
  {
   "cell_type": "code",
   "execution_count": null,
   "metadata": {},
   "outputs": [],
   "source": [
    "# 83. 删除排序链表中的重复元素\n",
    "# https://leetcode.cn/problems/remove-duplicates-from-sorted-list/\n",
    "\n",
    "class ListNode:\n",
    "    def __init__(self, val=0, next=None):\n",
    "        self.val = val\n",
    "        self.next = next\n",
    "\n",
    "\n",
    "class Solution:\n",
    "    def deleteDuplicates(self, head: Optional[ListNode]) -> Optional[ListNode]:\n",
    "        if not head:\n",
    "            return None\n",
    "        fast = head\n",
    "        slow = head\n",
    "        while fast:\n",
    "            if slow.val != fast.val:\n",
    "                slow = slow.next\n",
    "                slow.val = fast.val\n",
    "            fast = fast.next\n",
    "        slow.next = None\n",
    "        return head"
   ]
  },
  {
   "cell_type": "code",
   "execution_count": null,
   "metadata": {},
   "outputs": [],
   "source": [
    "# 27. 移除元素\n",
    "# https://leetcode.cn/problems/remove-element/\n",
    "\n",
    "class Solution:\n",
    "    def removeElement(self, nums: List[int], val: int) -> int:\n",
    "        fast = 0\n",
    "        slow = 0\n",
    "        while fast < len(nums):\n",
    "            if nums[fast] != val:\n",
    "                nums[slow] = nums[fast]\n",
    "                slow += 1\n",
    "            fast += 1\n",
    "        return slow"
   ]
  },
  {
   "cell_type": "code",
   "execution_count": null,
   "metadata": {},
   "outputs": [],
   "source": [
    "# 167. 两数之和 II - 输入有序数组\n",
    "# https://leetcode.cn/problems/two-sum-ii-input-array-is-sorted/\n",
    "\n",
    "# 只使用常量级的额外空间意味着算法的空间复杂度是O(1)。这意味着算法使用的额外空间不随被处理数据量n的大小而改变\n",
    "\n",
    "class Solution:\n",
    "    def twoSum(self, numbers: List[int], target: int) -> List[int]:\n",
    "        left = 0\n",
    "        right = len(numbers)-1\n",
    "        while left < right:\n",
    "            if numbers[left] + numbers[right] == target:\n",
    "                return [left+1, right+1]\n",
    "            elif numbers[left] + numbers[right] < target:\n",
    "                left += 1\n",
    "            else:\n",
    "                right -= 1\n",
    "        return"
   ]
  },
  {
   "cell_type": "code",
   "execution_count": null,
   "metadata": {},
   "outputs": [],
   "source": [
    "# 最长回文子串\n",
    "# https://leetcode.cn/problems/longest-palindromic-substring/\n",
    "\n",
    "class Solution:\n",
    "    def is_palindrome(s, l, r): # 从中心向两端扩散的双指针技巧\n",
    "        while l >= 0 and r <= len(s)-1 and s[l] == s[r]:\n",
    "            l -= 1\n",
    "            r += 1\n",
    "        return s[l+1:r]\n",
    "\n",
    "    def longestPalindrome(self, s: str) -> str:\n",
    "        res = ''\n",
    "        for i in range(len(s)):\n",
    "            s1 = Solution.is_palindrome(s, i, i)\n",
    "            s2 = Solution.is_palindrome(s, i, i+1) # 回文为偶数长度\n",
    "            res = max([s1, s2, res], key=len)\n",
    "        return res"
   ]
  },
  {
   "cell_type": "code",
   "execution_count": 5,
   "metadata": {},
   "outputs": [
    {
     "data": {
      "text/plain": [
       "'abccba'"
      ]
     },
     "execution_count": 5,
     "metadata": {},
     "output_type": "execute_result"
    }
   ],
   "source": [
    "def is_palindrome(s, l, r):\n",
    "    while l >= 0 and r <= len(s)-1 and s[l] == s[r]:\n",
    "        l -= 1\n",
    "        r += 1\n",
    "    return s[l+1:r]\n",
    "is_palindrome('abcdabccbafff', 6, 7)"
   ]
  }
 ],
 "metadata": {
  "kernelspec": {
   "display_name": "base",
   "language": "python",
   "name": "python3"
  },
  "language_info": {
   "codemirror_mode": {
    "name": "ipython",
    "version": 3
   },
   "file_extension": ".py",
   "mimetype": "text/x-python",
   "name": "python",
   "nbconvert_exporter": "python",
   "pygments_lexer": "ipython3",
   "version": "3.11.3"
  },
  "orig_nbformat": 4
 },
 "nbformat": 4,
 "nbformat_minor": 2
}
