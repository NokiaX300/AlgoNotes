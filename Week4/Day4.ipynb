{
 "cells": [
  {
   "cell_type": "markdown",
   "metadata": {},
   "source": [
    "前缀和数组\n",
    "\n",
    "https://labuladong.github.io/article/fname.html?fname=前缀和技巧"
   ]
  },
  {
   "cell_type": "code",
   "execution_count": null,
   "metadata": {},
   "outputs": [],
   "source": [
    "# 303. 区域和检索 - 数组不可变\n",
    "# https://leetcode.cn/problems/range-sum-query-immutable/\n",
    "\n",
    "class NumArray:\n",
    "\n",
    "    def __init__(self, nums: List[int]):\n",
    "        self.numarray = nums\n",
    "\n",
    "    def sumRange(self, left: int, right: int) -> int:\n",
    "        res = 0\n",
    "        for i in range(left, right+1):\n",
    "            res += self.numarray[i]\n",
    "        return res\n",
    "\n",
    "# Your NumArray object will be instantiated and called as such:\n",
    "# obj = NumArray(nums)\n",
    "# param_1 = obj.sumRange(left,right)"
   ]
  },
  {
   "cell_type": "code",
   "execution_count": null,
   "metadata": {},
   "outputs": [],
   "source": [
    "# 303. 区域和检索 - 数组不可变\n",
    "# https://leetcode.cn/problems/range-sum-query-immutable/\n",
    "\n",
    "class NumArray: # 使用前缀和\n",
    "\n",
    "    def __init__(self, nums: List[int]):\n",
    "        self.preSum = [0]*(len(nums)+1)\n",
    "        for i in range(1, len(self.preSum)):\n",
    "            self.preSum[i] = self.preSum[i-1] + nums[i-1]\n",
    "\n",
    "    def sumRange(self, left: int, right: int) -> int:\n",
    "        return self.preSum[right+1] - self.preSum[left]\n",
    "\n",
    "# Your NumArray object will be instantiated and called as such:\n",
    "# obj = NumArray(nums)\n",
    "# param_1 = obj.sumRange(left,right)"
   ]
  },
  {
   "cell_type": "markdown",
   "metadata": {},
   "source": [
    "<img src=\"303.png\" style=\"zoom:50%\" />"
   ]
  },
  {
   "cell_type": "code",
   "execution_count": null,
   "metadata": {},
   "outputs": [],
   "source": [
    "# 304. 二维区域和检索 - 矩阵不可变\n",
    "# https://leetcode.cn/problems/range-sum-query-2d-immutable/\n",
    "\n",
    "class NumMatrix:\n",
    "\n",
    "    def __init__(self, matrix: List[List[int]]):\n",
    "        m = len(matrix)\n",
    "        n = len(matrix[0])\n",
    "        if m == 0 or n == 0:\n",
    "            return\n",
    "        self.preSum = [[0 for _ in range(n+1)] for _ in range(m+1)]\n",
    "        for i in range(1, m+1):\n",
    "            for j in range(1, n+1):\n",
    "                self.preSum[i][j] = matrix[i-1][j-1] - self.preSum[i-1][j-1] + self.preSum[i-1][j] + self.preSum[i][j-1]\n",
    "\n",
    "    def sumRegion(self, row1: int, col1: int, row2: int, col2: int) -> int:\n",
    "        return self.preSum[row2+1][col2+1] - self.preSum[row1][col2+1] - self.preSum[row2+1][col1] + self.preSum[row1][col1]\n",
    "\n",
    "\n",
    "# Your NumMatrix object will be instantiated and called as such:\n",
    "# obj = NumMatrix(matrix)\n",
    "# param_1 = obj.sumRegion(row1,col1,row2,col2)"
   ]
  },
  {
   "cell_type": "markdown",
   "metadata": {},
   "source": [
    "<img src=\"304.png\" style=\"zoom:50%\" />"
   ]
  },
  {
   "cell_type": "code",
   "execution_count": 4,
   "metadata": {},
   "outputs": [
    {
     "name": "stdout",
     "output_type": "stream",
     "text": [
      "[[0, 0, 0, 0], [0, 0, 0, 0], [0, 0, 0, 0], [0, 0, 0, 0], [0, 0, 0, 0], [0, 0, 0, 0]]\n",
      "[[0, 0, 0, 0, 0, 0, 0, 0, 0, 0, 0, 0, 0, 0, 0, 0, 0, 0, 0, 0, 0, 0, 0, 0]]\n",
      "[[0, 0, 0, 0], [0, 0, 0, 0], [0, 0, 0, 0], [0, 0, 0, 0], [0, 0, 0, 0], [0, 0, 0, 0]]\n"
     ]
    }
   ],
   "source": [
    "a = [[0]*(4) for _ in range(6)]\n",
    "print(a)\n",
    "b = [[0]*(4) *6]\n",
    "print(b)\n",
    "c = [[0 for _ in range(4)] for _ in range(6)]\n",
    "print(c)"
   ]
  }
 ],
 "metadata": {
  "kernelspec": {
   "display_name": "base",
   "language": "python",
   "name": "python3"
  },
  "language_info": {
   "codemirror_mode": {
    "name": "ipython",
    "version": 3
   },
   "file_extension": ".py",
   "mimetype": "text/x-python",
   "name": "python",
   "nbconvert_exporter": "python",
   "pygments_lexer": "ipython3",
   "version": "3.11.3"
  },
  "orig_nbformat": 4
 },
 "nbformat": 4,
 "nbformat_minor": 2
}
