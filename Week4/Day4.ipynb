{
 "cells": [
  {
   "cell_type": "markdown",
   "metadata": {},
   "source": [
    "前缀和数组\n",
    "\n",
    "https://labuladong.github.io/article/fname.html?fname=前缀和技巧"
   ]
  },
  {
   "cell_type": "code",
   "execution_count": null,
   "metadata": {},
   "outputs": [],
   "source": [
    "# 303. 区域和检索 - 数组不可变\n",
    "# https://leetcode.cn/problems/range-sum-query-immutable/\n",
    "\n",
    "class NumArray:\n",
    "\n",
    "    def __init__(self, nums: List[int]):\n",
    "        self.numarray = nums\n",
    "\n",
    "    def sumRange(self, left: int, right: int) -> int:\n",
    "        res = 0\n",
    "        for i in range(left, right+1):\n",
    "            res += self.numarray[i]\n",
    "        return res\n",
    "\n",
    "# Your NumArray object will be instantiated and called as such:\n",
    "# obj = NumArray(nums)\n",
    "# param_1 = obj.sumRange(left,right)"
   ]
  },
  {
   "cell_type": "code",
   "execution_count": null,
   "metadata": {},
   "outputs": [],
   "source": [
    "# 303. 区域和检索 - 数组不可变\n",
    "# https://leetcode.cn/problems/range-sum-query-immutable/\n",
    "\n",
    "class NumArray: # 使用前缀和\n",
    "\n",
    "    def __init__(self, nums: List[int]):\n",
    "        self.preSum = [0]*(len(nums)+1)\n",
    "        for i in range(1, len(self.preSum)):\n",
    "            self.preSum[i] = self.preSum[i-1] + nums[i-1]\n",
    "\n",
    "    def sumRange(self, left: int, right: int) -> int:\n",
    "        return self.preSum[right+1] - self.preSum[left]\n",
    "\n",
    "# Your NumArray object will be instantiated and called as such:\n",
    "# obj = NumArray(nums)\n",
    "# param_1 = obj.sumRange(left,right)"
   ]
  },
  {
   "cell_type": "markdown",
   "metadata": {},
   "source": [
    "<img src=\"303.png\" style=\"zoom:50%\" />"
   ]
  },
  {
   "cell_type": "code",
   "execution_count": null,
   "metadata": {},
   "outputs": [],
   "source": [
    "# 304. 二维区域和检索 - 矩阵不可变\n",
    "# https://leetcode.cn/problems/range-sum-query-2d-immutable/\n",
    "\n",
    "class NumMatrix:\n",
    "\n",
    "    def __init__(self, matrix: List[List[int]]):\n",
    "        pass\n",
    "\n",
    "    def sumRegion(self, row1: int, col1: int, row2: int, col2: int) -> int:\n",
    "        pass\n",
    "\n",
    "\n",
    "# Your NumMatrix object will be instantiated and called as such:\n",
    "# obj = NumMatrix(matrix)\n",
    "# param_1 = obj.sumRegion(row1,col1,row2,col2)"
   ]
  }
 ],
 "metadata": {
  "kernelspec": {
   "display_name": "base",
   "language": "python",
   "name": "python3"
  },
  "language_info": {
   "name": "python",
   "version": "3.11.3"
  },
  "orig_nbformat": 4
 },
 "nbformat": 4,
 "nbformat_minor": 2
}
