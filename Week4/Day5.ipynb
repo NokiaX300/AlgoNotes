{
 "cells": [
  {
   "cell_type": "markdown",
   "metadata": {},
   "source": [
    "差分数组\n",
    "\n",
    "https://labuladong.github.io/article/fname.html?fname=差分技巧"
   ]
  },
  {
   "cell_type": "code",
   "execution_count": null,
   "metadata": {},
   "outputs": [],
   "source": [
    "# 差分数组的主要适用场景是频繁对原始数组的某个区间的元素进行增减\n",
    "\n",
    "diff = [0] * len(nums)\n",
    "diff[0] = nums[0]\n",
    "for i in range(1, len(nums)):\n",
    "    diff[i] = nums[i] - nums[i - 1]"
   ]
  },
  {
   "cell_type": "code",
   "execution_count": null,
   "metadata": {},
   "outputs": [],
   "source": [
    "# 差分数组工具类\n",
    "class Difference:\n",
    "    # 差分数组\n",
    "    def __init__(self, nums: List[int]):\n",
    "        assert len(nums) > 0\n",
    "        self.diff = [0] * len(nums)\n",
    "        # 根据初始数组构造差分数组\n",
    "        self.diff[0] = nums[0]\n",
    "        for i in range(1, len(nums)):\n",
    "            self.diff[i] = nums[i] - nums[i - 1]\n",
    "\n",
    "    # 给闭区间 [i, j] 增加 val（可以是负数）\n",
    "    def increment(self, i: int, j: int, val: int) -> None:\n",
    "        self.diff[i] += val\n",
    "        if j + 1 < len(self.diff):\n",
    "            self.diff[j + 1] -= val\n",
    "\n",
    "    # 返回结果数组\n",
    "    def result(self) -> List[int]:\n",
    "        res = [0] * len(self.diff)\n",
    "        # 根据差分数组构造结果数组\n",
    "        res[0] = self.diff[0]\n",
    "        for i in range(1, len(self.diff)):\n",
    "            res[i] = res[i - 1] + self.diff[i]\n",
    "        return res"
   ]
  },
  {
   "cell_type": "code",
   "execution_count": null,
   "metadata": {},
   "outputs": [],
   "source": [
    "# 航班预订统计\n",
    "# https://leetcode.cn/problems/corporate-flight-bookings/\n",
    "\n",
    "class Solution:\n",
    "    def corpFlightBookings(self, bookings: List[List[int]], n: int) -> List[int]:\n",
    "        lst = [0 for _ in range(n)]\n",
    "        for i in range(len(bookings)):\n",
    "            lst[bookings[i][0]-1] += bookings[i][2]\n",
    "            if bookings[i][1] < n:\n",
    "                lst[bookings[i][1]] -= bookings[i][2]\n",
    "        answer = [0 for _ in range(n)]\n",
    "        answer[0] = lst[0]\n",
    "        for i in range(1, n):\n",
    "            answer[i] = answer[i-1] + lst[i]\n",
    "        return answer"
   ]
  },
  {
   "cell_type": "code",
   "execution_count": 11,
   "metadata": {},
   "outputs": [
    {
     "name": "stdout",
     "output_type": "stream",
     "text": [
      "[35, 0, -10]\n"
     ]
    }
   ],
   "source": [
    "bookings = [[3,3,5],[1,3,20],[1,2,15]]\n",
    "n = 3\n",
    "lst = [0 for _ in range(n)]\n",
    "for i in range(len(bookings)):\n",
    "    lst[bookings[i][0]-1] += bookings[i][2]\n",
    "    if bookings[i][1] < n:\n",
    "        lst[bookings[i][1]] -= bookings[i][2]\n",
    "print(lst)"
   ]
  },
  {
   "cell_type": "code",
   "execution_count": null,
   "metadata": {},
   "outputs": [],
   "source": [
    "# 1094. 拼车\n",
    "# https://leetcode.cn/problems/car-pooling/\n",
    "\n",
    "class Solution:\n",
    "    def carPooling(self, trips: List[List[int]], capacity: int) -> bool:"
   ]
  }
 ],
 "metadata": {
  "kernelspec": {
   "display_name": "base",
   "language": "python",
   "name": "python3"
  },
  "language_info": {
   "codemirror_mode": {
    "name": "ipython",
    "version": 3
   },
   "file_extension": ".py",
   "mimetype": "text/x-python",
   "name": "python",
   "nbconvert_exporter": "python",
   "pygments_lexer": "ipython3",
   "version": "3.11.3"
  },
  "orig_nbformat": 4
 },
 "nbformat": 4,
 "nbformat_minor": 2
}
