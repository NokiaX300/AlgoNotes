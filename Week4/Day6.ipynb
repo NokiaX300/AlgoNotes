{
 "cells": [
  {
   "cell_type": "markdown",
   "metadata": {},
   "source": [
    "双指针技巧秒杀七道链表题目\n",
    "\n",
    "https://labuladong.gitee.io/article/fname.html?fname=链表技巧"
   ]
  },
  {
   "cell_type": "code",
   "execution_count": null,
   "metadata": {},
   "outputs": [],
   "source": [
    "# 21. 合并两个有序链表\n",
    "# https://leetcode.cn/problems/merge-two-sorted-lists/\n",
    "\n",
    "# Definition for singly-linked list.\n",
    "\n",
    "class ListNode:\n",
    "     def __init__(self, val=0, next=None):\n",
    "        self.val = val\n",
    "        self.next = next\n",
    "\n",
    "\n",
    "class Solution:\n",
    "    def mergeTwoLists(self, list1: Optional[ListNode], list2: Optional[ListNode]) -> Optional[ListNode]:\n",
    "        dummy = ListNode(-1)\n",
    "        p = dummy\n",
    "        p1 = list1\n",
    "        p2 = list2\n",
    "        while p1 and p2:\n",
    "            if p1.val < p2.val:\n",
    "                p.next = p1\n",
    "                p1 = p1.next\n",
    "            else:\n",
    "                p.next = p2\n",
    "                p2 = p2.next\n",
    "            p = p.next\n",
    "        if p1:\n",
    "            p.next = p1\n",
    "        if p2:\n",
    "            p.next = p2\n",
    "        return dummy.next"
   ]
  },
  {
   "cell_type": "code",
   "execution_count": null,
   "metadata": {},
   "outputs": [],
   "source": [
    "# 分隔链表\n",
    "# https://leetcode.cn/problems/partition-list/\n",
    "\n",
    "# Definition for singly-linked list.\n",
    "\n",
    "class ListNode:\n",
    "    def __init__(self, val=0, next=None):\n",
    "        self.val = val\n",
    "        self.next = next\n",
    "\n",
    "\n",
    "class Solution:\n",
    "    def partition(self, head: Optional[ListNode], x: int) -> Optional[ListNode]:\n",
    "        pass"
   ]
  }
 ],
 "metadata": {
  "kernelspec": {
   "display_name": "base",
   "language": "python",
   "name": "python3"
  },
  "language_info": {
   "name": "python",
   "version": "3.11.3"
  },
  "orig_nbformat": 4
 },
 "nbformat": 4,
 "nbformat_minor": 2
}
