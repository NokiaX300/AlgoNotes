{
 "cells": [
  {
   "cell_type": "markdown",
   "metadata": {},
   "source": [
    "双指针技巧秒杀七道数组题目\n",
    "\n",
    "https://labuladong.github.io/article/fname.html?fname=双指针技巧"
   ]
  },
  {
   "cell_type": "code",
   "execution_count": null,
   "metadata": {},
   "outputs": [],
   "source": [
    "# 26. 删除有序数组中的重复项\n",
    "# https://leetcode.cn/problems/remove-duplicates-from-sorted-array/\n",
    "\n",
    "class Solution:\n",
    "    def removeDuplicates(self, nums: List[int]) -> int:\n",
    "        slow = 0\n",
    "        fast = 0\n",
    "        while fast < len(nums):\n",
    "            if nums[fast] != nums[slow]:\n",
    "                slow += 1\n",
    "                nums[slow] = nums[fast]\n",
    "            fast += 1\n",
    "        return slow+1"
   ]
  },
  {
   "cell_type": "code",
   "execution_count": null,
   "metadata": {},
   "outputs": [],
   "source": [
    "# 83. 删除排序链表中的重复元素\n",
    "# https://leetcode.cn/problems/remove-duplicates-from-sorted-list/\n",
    "\n",
    "class ListNode:\n",
    "    def __init__(self, val=0, next=None):\n",
    "        self.val = val\n",
    "        self.next = next\n",
    "\n",
    "\n",
    "class Solution:\n",
    "    def deleteDuplicates(self, head: Optional[ListNode]) -> Optional[ListNode]:\n",
    "        if not head:\n",
    "            return None\n",
    "        fast = head\n",
    "        slow = head\n",
    "        while fast:\n",
    "            if slow.val != fast.val:\n",
    "                slow = slow.next\n",
    "                slow.val = fast.val\n",
    "            fast = fast.next\n",
    "        slow.next = None\n",
    "        return head"
   ]
  },
  {
   "cell_type": "code",
   "execution_count": null,
   "metadata": {},
   "outputs": [],
   "source": [
    "# 27. 移除元素\n",
    "# https://leetcode.cn/problems/remove-element/\n",
    "\n",
    "class Solution:\n",
    "    def removeElement(self, nums: List[int], val: int) -> int:\n",
    "        pass"
   ]
  }
 ],
 "metadata": {
  "kernelspec": {
   "display_name": "base",
   "language": "python",
   "name": "python3"
  },
  "language_info": {
   "name": "python",
   "version": "3.11.3"
  },
  "orig_nbformat": 4
 },
 "nbformat": 4,
 "nbformat_minor": 2
}
