{
 "cells": [
  {
   "cell_type": "markdown",
   "metadata": {},
   "source": [
    "田忌赛马\n",
    "\n",
    "https://labuladong.gitee.io/article/fname.html?fname=田忌赛马"
   ]
  },
  {
   "cell_type": "code",
   "execution_count": null,
   "metadata": {},
   "outputs": [],
   "source": [
    "# 870. 优势洗牌\n",
    "# https://leetcode.cn/problems/advantage-shuffle/\n",
    "\n",
    "class Solution:\n",
    "    def advantageCount(self, nums1: List[int], nums2: List[int]) -> List[int]:\n",
    "        import heapq\n",
    "        pq = [(-val, i) for i, val in enumerate(nums2)]\n",
    "        heapq.heapify(pq) # 将 list 转换成堆，原地，线性时间内\n",
    "        nums1.sort()\n",
    "        left = 0\n",
    "        right = len(nums1)-1\n",
    "        res = [0]*len(nums1)\n",
    "        while pq:\n",
    "            val, i = heapq.heappop(pq)\n",
    "            max_val = -val\n",
    "            if nums1[right] > max_val:\n",
    "                res[i] = nums1[right]\n",
    "                right -= 1\n",
    "            else:\n",
    "                res[i] = nums1[left]\n",
    "                left += 1\n",
    "        return res"
   ]
  },
  {
   "cell_type": "code",
   "execution_count": 1,
   "metadata": {},
   "outputs": [
    {
     "name": "stdout",
     "output_type": "stream",
     "text": [
      "[(-2, 0), (-4, 1), (-5, 2), (-1, 3), (-3, 4)]\n",
      "[(-5, 2), (-4, 1), (-2, 0), (-1, 3), (-3, 4)]\n",
      "[(-5, 2), (-4, 1), (-3, 4), (-2, 0), (-1, 3)]\n"
     ]
    }
   ],
   "source": [
    "import heapq\n",
    "a = [2, 4, 5, 1, 3]\n",
    "pq = [(-val, i) for i, val in enumerate(a)]\n",
    "print(pq)\n",
    "heapq.heapify(pq)\n",
    "print(pq)\n",
    "h = []\n",
    "while pq:\n",
    "    h.append(heapq.heappop(pq))\n",
    "print(h)"
   ]
  }
 ],
 "metadata": {
  "kernelspec": {
   "display_name": "base",
   "language": "python",
   "name": "python3"
  },
  "language_info": {
   "codemirror_mode": {
    "name": "ipython",
    "version": 3
   },
   "file_extension": ".py",
   "mimetype": "text/x-python",
   "name": "python",
   "nbconvert_exporter": "python",
   "pygments_lexer": "ipython3",
   "version": "3.11.3"
  },
  "orig_nbformat": 4
 },
 "nbformat": 4,
 "nbformat_minor": 2
}
