{
 "cells": [
  {
   "cell_type": "markdown",
   "metadata": {},
   "source": [
    "二分搜索算法\n",
    "\n",
    "https://labuladong.github.io/article/fname.html?fname=二分查找详解"
   ]
  },
  {
   "cell_type": "code",
   "execution_count": 1,
   "metadata": {},
   "outputs": [
    {
     "ename": "NameError",
     "evalue": "name 'List' is not defined",
     "output_type": "error",
     "traceback": [
      "\u001b[1;31m---------------------------------------------------------------------------\u001b[0m",
      "\u001b[1;31mNameError\u001b[0m                                 Traceback (most recent call last)",
      "Cell \u001b[1;32mIn[1], line 1\u001b[0m\n\u001b[1;32m----> 1\u001b[0m \u001b[39mdef\u001b[39;00m \u001b[39mbinarySearch\u001b[39m(nums: List[\u001b[39mint\u001b[39m], target: \u001b[39mint\u001b[39m) \u001b[39m-\u001b[39m\u001b[39m>\u001b[39m \u001b[39mint\u001b[39m:\n\u001b[0;32m      2\u001b[0m     left, right \u001b[39m=\u001b[39m \u001b[39m0\u001b[39m, \u001b[39mlen\u001b[39m(nums) \u001b[39m-\u001b[39m \u001b[39m1\u001b[39m\n\u001b[0;32m      4\u001b[0m     \u001b[39mwhile\u001b[39;00m left \u001b[39m<\u001b[39m\u001b[39m=\u001b[39m right:\n",
      "\u001b[1;31mNameError\u001b[0m: name 'List' is not defined"
     ]
    }
   ],
   "source": [
    "from typing import List\n",
    "def binarySearch(nums: List[int], target: int) -> int:\n",
    "    left, right = 0, len(nums) - 1\n",
    "\n",
    "    while left <= right:\n",
    "        mid = left + (right - left) // 2 # 直接计算(left + right) // 2可能导致溢出\n",
    "        if nums[mid] == target:\n",
    "            return mid\n",
    "        elif nums[mid] < target:\n",
    "            left = mid + 1\n",
    "        else:\n",
    "            right = mid - 1\n",
    "    return -1"
   ]
  }
 ],
 "metadata": {
  "kernelspec": {
   "display_name": "base",
   "language": "python",
   "name": "python3"
  },
  "language_info": {
   "codemirror_mode": {
    "name": "ipython",
    "version": 3
   },
   "file_extension": ".py",
   "mimetype": "text/x-python",
   "name": "python",
   "nbconvert_exporter": "python",
   "pygments_lexer": "ipython3",
   "version": "3.11.3"
  },
  "orig_nbformat": 4
 },
 "nbformat": 4,
 "nbformat_minor": 2
}
