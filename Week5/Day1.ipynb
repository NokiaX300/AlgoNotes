{
 "cells": [
  {
   "cell_type": "markdown",
   "metadata": {},
   "source": [
    "二分搜索算法\n",
    "\n",
    "https://labuladong.github.io/article/fname.html?fname=二分查找详解"
   ]
  },
  {
   "cell_type": "code",
   "execution_count": 2,
   "metadata": {},
   "outputs": [],
   "source": [
    "from typing import List\n",
    "def binarySearch(nums: List[int], target: int) -> int:\n",
    "    left, right = 0, len(nums) - 1\n",
    "\n",
    "    while left <= right:\n",
    "        mid = left + (right - left) // 2 # 直接计算(left + right) // 2可能导致溢出\n",
    "        if nums[mid] == target:\n",
    "            return mid\n",
    "        elif nums[mid] < target:\n",
    "            left = mid + 1\n",
    "        else:\n",
    "            right = mid - 1\n",
    "    return -1"
   ]
  },
  {
   "cell_type": "code",
   "execution_count": null,
   "metadata": {},
   "outputs": [],
   "source": [
    "# 704. 二分查找\n",
    "# https://leetcode.cn/problems/binary-search/\n",
    "\n",
    "class Solution:\n",
    "    def search(self, nums: List[int], target: int) -> int:\n",
    "        left, right = 0, len(nums)-1\n",
    "        while left <= right:\n",
    "            mid = left + (right - left)//2\n",
    "            if nums[mid] == target:\n",
    "                return mid\n",
    "            elif nums[mid] < target:\n",
    "                left = mid + 1\n",
    "            else:\n",
    "                right = mid - 1\n",
    "        return -1"
   ]
  },
  {
   "cell_type": "code",
   "execution_count": 9,
   "metadata": {},
   "outputs": [],
   "source": [
    "# 34. 在排序数组中查找元素的第一个和最后一个位置\n",
    "# https://leetcode.cn/problems/find-first-and-last-position-of-element-in-sorted-array/\n",
    "\n",
    "'''from typing import List\n",
    "class Solution:\n",
    "    def searchRange(self, nums: List[int], target: int) -> List[int]:\n",
    "        if not nums:\n",
    "            return [-1, -1]\n",
    "        left, right = 0, len(nums)-1\n",
    "        while left < right:\n",
    "            mid = left + (right - left)//2\n",
    "            if nums[mid] < target:\n",
    "                left = mid + 1\n",
    "            else:\n",
    "                right = mid - 1\n",
    "        if nums[left] == target:\n",
    "            while nums[right] == target and right < len(nums):\n",
    "                right += 1\n",
    "            return [left, right-1]\n",
    "        else:\n",
    "            return [-1, -1]'''"
   ]
  },
  {
   "cell_type": "code",
   "execution_count": 10,
   "metadata": {},
   "outputs": [
    {
     "name": "stdout",
     "output_type": "stream",
     "text": [
      "[0, 0]\n"
     ]
    }
   ],
   "source": [
    "a = Solution().searchRange([1], 1)\n",
    "print(a)"
   ]
  },
  {
   "cell_type": "code",
   "execution_count": 11,
   "metadata": {},
   "outputs": [],
   "source": [
    "# 34. 在排序数组中查找元素的第一个和最后一个位置\n",
    "# https://leetcode.cn/problems/find-first-and-last-position-of-element-in-sorted-array/\n",
    "\n",
    "from typing import List\n",
    "class Solution:\n",
    "    def left_bound(nums: List[int], target: int) -> int:\n",
    "        left = 0\n",
    "        right = len(nums)-1\n",
    "        while left <= right:\n",
    "            mid = left + (right - left)//2\n",
    "            if nums[mid] < target:\n",
    "                left = mid + 1\n",
    "            else:\n",
    "                right = mid - 1 # 一直收缩right直到left = right + 1\n",
    "        return left\n",
    "\n",
    "    def searchRange(self, nums: List[int], target: int) -> List[int]:\n",
    "        a = Solution.left_bound(nums, target)\n",
    "        if a == len(nums) or nums[a] != target:  # 注意or也有先后顺序\n",
    "            return [-1, -1]\n",
    "        b = Solution.left_bound(nums, target+1)\n",
    "        return [a, b-1]"
   ]
  },
  {
   "cell_type": "code",
   "execution_count": 13,
   "metadata": {},
   "outputs": [],
   "source": [
    "nums = [5,7,7,8,8,10]\n",
    "target = 9"
   ]
  },
  {
   "cell_type": "code",
   "execution_count": 14,
   "metadata": {},
   "outputs": [],
   "source": [
    "nums = []\n",
    "target = 0"
   ]
  },
  {
   "cell_type": "code",
   "execution_count": null,
   "metadata": {},
   "outputs": [],
   "source": [
    "nums = [2,2]\n",
    "target = 3"
   ]
  },
  {
   "cell_type": "markdown",
   "metadata": {},
   "source": [
    "<img src=\"34.png\" style=\"zoom:50%\" />"
   ]
  },
  {
   "cell_type": "code",
   "execution_count": 7,
   "metadata": {},
   "outputs": [],
   "source": [
    "# 875. 爱吃香蕉的珂珂\n",
    "# https://leetcode.cn/problems/koko-eating-bananas/\n",
    "\n",
    "class Solution:\n",
    "    @staticmethod\n",
    "    def fun_eat(self, piles: List[int], speed: int) -> int: # speed为速度, hour为关于speed的递减函数\n",
    "        hour = 0\n",
    "        for i in range(len(piles)):\n",
    "            hour += piles[i]//speed\n",
    "            if piles[i]%speed > 0:\n",
    "                hour += 1\n",
    "        return hour\n",
    "\n",
    "    def minEatingSpeed(self, piles: List[int], h: int) -> int:\n",
    "        left = 1\n",
    "        right = max(piles) # 横轴：speed\n",
    "        while left <= right:\n",
    "            mid = left + (right - left)//2\n",
    "            if Solution.fun_eat(self, piles, mid) > h:\n",
    "                left = mid+1\n",
    "            else:\n",
    "                right = mid-1\n",
    "        return left"
   ]
  },
  {
   "cell_type": "code",
   "execution_count": 10,
   "metadata": {},
   "outputs": [
    {
     "name": "stdout",
     "output_type": "stream",
     "text": [
      "24\n"
     ]
    }
   ],
   "source": [
    "a = Solution().minEatingSpeed([30,11,23,4,20], 6)\n",
    "print(a)"
   ]
  },
  {
   "cell_type": "code",
   "execution_count": 20,
   "metadata": {},
   "outputs": [
    {
     "data": {
      "text/plain": [
       "3"
      ]
     },
     "execution_count": 20,
     "metadata": {},
     "output_type": "execute_result"
    }
   ],
   "source": [
    "from typing import List\n",
    "def fun_eat(piles: List[int], speed: int) -> int:\n",
    "        hour = 0\n",
    "        for i in range(len(piles)):\n",
    "            if piles[i] <= speed:\n",
    "                hour += 1\n",
    "            else:\n",
    "                hour += piles[i]//speed+1\n",
    "        return hour\n",
    "fun_eat([1000000], 500000)"
   ]
  },
  {
   "cell_type": "code",
   "execution_count": 18,
   "metadata": {},
   "outputs": [
    {
     "data": {
      "text/plain": [
       "2"
      ]
     },
     "execution_count": 18,
     "metadata": {},
     "output_type": "execute_result"
    }
   ],
   "source": [
    "def func(piles, x):\n",
    "    hour = 0\n",
    "    for i in range(len(piles)):\n",
    "        hour += piles[i]//x\n",
    "        if piles[i] % x > 0:\n",
    "            hour += 1\n",
    "    return hour\n",
    "func([1000000], 500000)"
   ]
  },
  {
   "cell_type": "code",
   "execution_count": null,
   "metadata": {},
   "outputs": [],
   "source": [
    "# 1011. 在 D 天内送达包裹的能力\n",
    "# https://leetcode.cn/problems/capacity-to-ship-packages-within-d-days/\n",
    "\n",
    "class Solution:\n",
    "    @staticmethod\n",
    "    def fun_pack(self, weights: List[int], capacity: int) -> int:\n",
    "        day = 1\n",
    "        cur = 0\n",
    "        for i in range(len(weights)):\n",
    "            if cur + weights[i] > capacity:\n",
    "                cur = 0\n",
    "                day += 1\n",
    "            cur += weights[i]\n",
    "        return day\n",
    "\n",
    "    def shipWithinDays(self, weights: List[int], days: int) -> int:\n",
    "        left = max(weights)\n",
    "        right = sum(weights)\n",
    "        while left <= right:\n",
    "            mid = left + (right - left)//2\n",
    "            if Solution.fun_pack(self, weights, mid) > days:\n",
    "                left = mid+1\n",
    "            else:\n",
    "                right = mid-1\n",
    "        return left"
   ]
  },
  {
   "cell_type": "code",
   "execution_count": 23,
   "metadata": {},
   "outputs": [
    {
     "data": {
      "text/plain": [
       "3"
      ]
     },
     "execution_count": 23,
     "metadata": {},
     "output_type": "execute_result"
    }
   ],
   "source": [
    "def fun_pack(weights: List[int], capacity: int) -> int:\n",
    "    day = 1\n",
    "    cur = 0\n",
    "    for i in range(len(weights)):\n",
    "        if cur + weights[i] <= capacity:\n",
    "            cur += weights[i]\n",
    "        else:\n",
    "            cur = 0\n",
    "            day += 1\n",
    "    return day\n",
    "fun_pack([1,2,3,4,5,6,7,8,9,10], 15)"
   ]
  },
  {
   "cell_type": "code",
   "execution_count": 21,
   "metadata": {},
   "outputs": [
    {
     "data": {
      "text/plain": [
       "5"
      ]
     },
     "execution_count": 21,
     "metadata": {},
     "output_type": "execute_result"
    }
   ],
   "source": [
    "def funct(weights, x):\n",
    "    day = 1\n",
    "    cur = 0\n",
    "    for i in range(len(weights)):\n",
    "        if cur + weights[i] > x:\n",
    "            cur = 0\n",
    "            day += 1\n",
    "        cur += weights[i]\n",
    "    return day\n",
    "funct([1,2,3,4,5,6,7,8,9,10], 15)"
   ]
  },
  {
   "cell_type": "code",
   "execution_count": null,
   "metadata": {},
   "outputs": [],
   "source": [
    "# 410. 分割数组的最大值\n",
    "# https://leetcode.cn/problems/split-array-largest-sum/\n",
    "\n",
    "class Solution: # 直接照搬1011代码\n",
    "    @staticmethod\n",
    "    def fun_pack(self, weights: List[int], capacity: int) -> int:\n",
    "        day = 1\n",
    "        cur = 0\n",
    "        for i in range(len(weights)):\n",
    "            if cur + weights[i] > capacity:\n",
    "                cur = 0\n",
    "                day += 1\n",
    "            cur += weights[i]\n",
    "        return day\n",
    "\n",
    "    def splitArray(self, nums: List[int], k: int) -> int:\n",
    "        left = max(nums)\n",
    "        right = sum(nums)\n",
    "        while left <= right:\n",
    "            mid = left + (right - left)//2\n",
    "            if Solution.fun_pack(self, nums, mid) > k:\n",
    "                left = mid+1\n",
    "            else:\n",
    "                right = mid-1\n",
    "        return left"
   ]
  },
  {
   "cell_type": "code",
   "execution_count": 24,
   "metadata": {},
   "outputs": [
    {
     "name": "stdout",
     "output_type": "stream",
     "text": [
      "9876543210"
     ]
    }
   ],
   "source": [
    "for i in range(9, -1, -1):\n",
    "    print(i, end='')"
   ]
  },
  {
   "cell_type": "code",
   "execution_count": null,
   "metadata": {},
   "outputs": [],
   "source": [
    "# 33. 搜索旋转排序数组\n",
    "# https://leetcode.cn/problems/search-in-rotated-sorted-array/\n",
    "\n",
    "class Solution:\n",
    "    def search(self, nums: List[int], target: int) -> int:\n",
    "        left = 0\n",
    "        right = len(nums)-1\n",
    "        while left <= right:\n",
    "            mid = left + (right - left)//2\n",
    "            if nums[mid] == target:\n",
    "                return mid\n",
    "            if nums[left] <= nums[mid]:\n",
    "                if nums[left] <= target <= nums[mid]:\n",
    "                    right = mid-1\n",
    "                else:\n",
    "                    left = mid+1\n",
    "            else:\n",
    "                if nums[mid] <= target <= nums[right]:\n",
    "                    left = mid+1\n",
    "                else:\n",
    "                    right = mid-1\n",
    "        return -1"
   ]
  }
 ],
 "metadata": {
  "kernelspec": {
   "display_name": "base",
   "language": "python",
   "name": "python3"
  },
  "language_info": {
   "codemirror_mode": {
    "name": "ipython",
    "version": 3
   },
   "file_extension": ".py",
   "mimetype": "text/x-python",
   "name": "python",
   "nbconvert_exporter": "python",
   "pygments_lexer": "ipython3",
   "version": "3.11.3"
  },
  "orig_nbformat": 4
 },
 "nbformat": 4,
 "nbformat_minor": 2
}
