{
 "cells": [
  {
   "cell_type": "markdown",
   "metadata": {},
   "source": [
    "反转单链表\n",
    "\n",
    "https://labuladong.github.io/article/fname.html?fname=递归反转链表的一部分"
   ]
  },
  {
   "cell_type": "code",
   "execution_count": null,
   "metadata": {},
   "outputs": [],
   "source": [
    "# 206. 反转链表\n",
    "# https://leetcode.cn/problems/reverse-linked-list/\n",
    "\n",
    "class ListNode:\n",
    "    def __init__(self, val=0, next=None):\n",
    "        self.val = val\n",
    "        self.next = next\n",
    "\n",
    "\n",
    "class Solution: # 迭代\n",
    "    def reverseList(self, head: Optional[ListNode]) -> Optional[ListNode]:\n",
    "        cur = head\n",
    "        prev = None\n",
    "        while cur:\n",
    "            temp = cur.next\n",
    "            cur.next = prev\n",
    "            prev = cur\n",
    "            cur = temp\n",
    "        return prev"
   ]
  },
  {
   "cell_type": "code",
   "execution_count": null,
   "metadata": {},
   "outputs": [],
   "source": [
    "# 206. 反转链表\n",
    "# https://leetcode.cn/problems/reverse-linked-list/\n",
    "\n",
    "class ListNode:\n",
    "    def __init__(self, val=0, next=None):\n",
    "        self.val = val\n",
    "        self.next = next\n",
    "\n",
    "\n",
    "class Solution: # 递归\n",
    "    def reverseList(self, head: Optional[ListNode]) -> Optional[ListNode]:\n",
    "        if not head or not head.next:\n",
    "            return head\n",
    "        last = Solution.reverseList(self, head.next) # 根据函数定义，弄清代码会产生的结果\n",
    "        head.next.next = head\n",
    "        head.next = None\n",
    "        return last"
   ]
  },
  {
   "cell_type": "markdown",
   "metadata": {},
   "source": [
    "<img src=\"206.png\" style=\"zoom:50%\" />"
   ]
  },
  {
   "cell_type": "code",
   "execution_count": null,
   "metadata": {},
   "outputs": [],
   "source": [
    "# 反转链表前 N 个节点\n",
    "\n",
    "class ListNode:\n",
    "    def __init__(self, val=0, next=None):\n",
    "        self.val = val\n",
    "        self.next = next\n",
    "\n",
    "\n",
    "class Solution:\n",
    "    def reverseN(self, head: Optional[ListNode], n: int) -> Optional[ListNode]:\n",
    "        successor = None\n",
    "        if n == 1:\n",
    "            successor = head.next\n",
    "            return head\n",
    "        last = Solution.reverseN(self, head.next, n-1)\n",
    "        head.next.next = head\n",
    "        head.next = successor\n",
    "        return last"
   ]
  },
  {
   "cell_type": "code",
   "execution_count": null,
   "metadata": {},
   "outputs": [],
   "source": [
    "# 92. 反转链表 II\n",
    "# https://leetcode.cn/problems/reverse-linked-list-ii/\n",
    "\n",
    "class ListNode:\n",
    "    def __init__(self, val=0, next=None):\n",
    "        self.val = val\n",
    "        self.next = next\n",
    "\n",
    "\n",
    "class Solution:\n",
    "    successor = None\n",
    "    def reverseN(self, head: Optional[ListNode], n: int) -> Optional[ListNode]:\n",
    "        global successor\n",
    "        if n == 1:\n",
    "            successor = head.next\n",
    "            return head\n",
    "        last = Solution.reverseN(self, head.next, n-1)\n",
    "        head.next.next = head\n",
    "        head.next = successor\n",
    "        return last\n",
    "    \n",
    "    def reverseBetween(self, head: Optional[ListNode], left: int, right: int) -> Optional[ListNode]:\n",
    "        if left == 1:\n",
    "            return Solution.reverseN(self, head, right)\n",
    "        head.next = Solution.reverseBetween(self, head.next, left-1, right-1)\n",
    "        return head"
   ]
  }
 ],
 "metadata": {
  "kernelspec": {
   "display_name": "base",
   "language": "python",
   "name": "python3"
  },
  "language_info": {
   "name": "python",
   "version": "3.11.3"
  },
  "orig_nbformat": 4
 },
 "nbformat": 4,
 "nbformat_minor": 2
}
