{
 "cells": [
  {
   "cell_type": "markdown",
   "metadata": {},
   "source": [
    "田忌赛马\n",
    "\n",
    "https://labuladong.gitee.io/article/fname.html?fname=田忌赛马"
   ]
  },
  {
   "cell_type": "code",
   "execution_count": null,
   "metadata": {},
   "outputs": [],
   "source": [
    "# 870. 优势洗牌\n",
    "# https://leetcode.cn/problems/advantage-shuffle/\n",
    "\n",
    "class Solution:\n",
    "    def advantageCount(self, nums1: List[int], nums2: List[int]) -> List[int]:\n",
    "        pass"
   ]
  }
 ],
 "metadata": {
  "kernelspec": {
   "display_name": "base",
   "language": "python",
   "name": "python3"
  },
  "language_info": {
   "name": "python",
   "version": "3.11.3"
  },
  "orig_nbformat": 4
 },
 "nbformat": 4,
 "nbformat_minor": 2
}
