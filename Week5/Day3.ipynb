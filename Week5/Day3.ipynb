{
 "cells": [
  {
   "cell_type": "markdown",
   "metadata": {},
   "source": [
    "如何解决括号相关的问题\n",
    "\n",
    "https://labuladong.gitee.io/article/fname.html?fname=括号插入"
   ]
  },
  {
   "cell_type": "code",
   "execution_count": null,
   "metadata": {},
   "outputs": [],
   "source": [
    "# 20. 有效的括号\n",
    "# https://leetcode.cn/problems/valid-parentheses/\n",
    "\n",
    "class Solution:\n",
    "    def isValid(self, s: str) -> bool:\n",
    "        left = []\n",
    "        for i in range(len(s)):\n",
    "            if s[i] in '([{':\n",
    "                left.append(s[i])\n",
    "            else:\n",
    "                if left and Solution.isMatch(self, left[-1]) == s[i]:\n",
    "                    left.pop()\n",
    "                else:\n",
    "                    return False\n",
    "        return not left\n",
    "\n",
    "    def isMatch(self, t: str) -> str:\n",
    "        if t == '(':\n",
    "            return ')'\n",
    "        elif t == '[':\n",
    "            return ']'\n",
    "        elif t == '{':\n",
    "            return '}'"
   ]
  },
  {
   "cell_type": "code",
   "execution_count": null,
   "metadata": {},
   "outputs": [],
   "source": [
    "# 921. 使括号有效的最少添加\n",
    "# https://leetcode.cn/problems/minimum-add-to-make-parentheses-valid/\n",
    "\n",
    "class Solution:\n",
    "    def minAddToMakeValid(self, s: str) -> int:\n",
    "        need = 0\n",
    "        neg = 0\n",
    "        for i in range(len(s)):\n",
    "            if s[i] == '(':\n",
    "                need += 1\n",
    "            elif s[i] == ')':\n",
    "                need -= 1\n",
    "            if need == -1:\n",
    "                need = 0\n",
    "                neg += 1\n",
    "        return need + neg"
   ]
  },
  {
   "cell_type": "code",
   "execution_count": null,
   "metadata": {},
   "outputs": [],
   "source": [
    "# 1541. 平衡括号字符串的最少插入次数\n",
    "# https://leetcode.cn/problems/minimum-insertions-to-balance-a-parentheses-string/\n",
    "\n",
    "class Solution:\n",
    "    def minInsertions(self, s: str) -> int:\n",
    "        need = 0\n",
    "        neg = 0\n",
    "        for i in range(len(s)):\n",
    "            if s[i] == '(':\n",
    "                need += 2\n",
    "                if need%2 == 1:\n",
    "                    neg += 1\n",
    "                    need -= 1\n",
    "            elif s[i] == ')':\n",
    "                need -= 1\n",
    "                if need == -1:\n",
    "                    neg += 1\n",
    "                    need = 1\n",
    "        return need + neg"
   ]
  }
 ],
 "metadata": {
  "kernelspec": {
   "display_name": "base",
   "language": "python",
   "name": "python3"
  },
  "language_info": {
   "name": "python",
   "version": "3.11.3"
  },
  "orig_nbformat": 4
 },
 "nbformat": 4,
 "nbformat_minor": 2
}
