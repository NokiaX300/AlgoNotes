{
 "cells": [
  {
   "cell_type": "markdown",
   "metadata": {},
   "source": [
    "单调栈结构\n",
    "\n",
    "https://labuladong.gitee.io/article/fname.html?fname=单调栈"
   ]
  },
  {
   "cell_type": "code",
   "execution_count": 2,
   "metadata": {},
   "outputs": [],
   "source": [
    "from typing import List\n",
    "def nextGreaterElement(nums: List[int]) -> List[int]:\n",
    "    n = len(nums)\n",
    "    # 存放答案的数组\n",
    "    res = [-1 for _ in range(n)]\n",
    "    s = [] \n",
    "    # 倒着往栈里放\n",
    "    for i in range(n-1, -1, -1):\n",
    "        # 判定个子高矮\n",
    "        while s and s[-1] <= nums[i]:\n",
    "            # 矮个起开，反正也被挡着\n",
    "            s.pop()\n",
    "        # nums[i] 身后的更大元素\n",
    "        if s:\n",
    "            res[i] = s[-1]\n",
    "        s.append(nums[i])\n",
    "    return res"
   ]
  },
  {
   "cell_type": "code",
   "execution_count": null,
   "metadata": {},
   "outputs": [],
   "source": [
    "'''from typing import List\n",
    "def nextGreaterElement(nums: List[int]) -> List[int]:\n",
    "    res = [-1]*len(nums)\n",
    "    s = []\n",
    "    for i in range(len(nums)-1, -1, -1):\n",
    "        while s and nums[i] >= s[-1]:\n",
    "            s.pop()\n",
    "        if s:\n",
    "            res[i] = s[-1]\n",
    "        s.append(nums[i])\n",
    "    return res'''"
   ]
  },
  {
   "cell_type": "code",
   "execution_count": null,
   "metadata": {},
   "outputs": [],
   "source": [
    "# 739. 每日温度\n",
    "# https://leetcode.cn/problems/daily-temperatures/\n",
    "\n",
    "class Solution:\n",
    "    def dailyTemperatures(self, temperatures: List[int]) -> List[int]:\n",
    "        s = []\n",
    "        res = [0]*len(temperatures)\n",
    "        for i in range(len(temperatures)-1, -1, -1):\n",
    "            while s and temperatures[i] >= temperatures[s[-1]]:\n",
    "                s.pop()\n",
    "            if s:\n",
    "                res[i] = s[-1] - i\n",
    "            s.append(i)\n",
    "        return res"
   ]
  },
  {
   "cell_type": "code",
   "execution_count": null,
   "metadata": {},
   "outputs": [],
   "source": [
    "# 503. 下一个更大元素 II\n",
    "# https://leetcode.cn/problems/next-greater-element-ii/\n",
    "\n",
    "class Solution: # 常用套路就是将数组长度翻倍\n",
    "    def nextGreaterElements(self, nums: List[int]) -> List[int]:\n",
    "        n = len(nums)\n",
    "        res = [-1]*n\n",
    "        s = []\n",
    "        for i in range(2*n-1, -1, -1):\n",
    "            while s and nums[i%n] >= s[-1]:\n",
    "                s.pop()\n",
    "            if s:\n",
    "                res[i%n] = s[-1]\n",
    "            s.append(nums[i%n])\n",
    "        return res"
   ]
  },
  {
   "cell_type": "code",
   "execution_count": null,
   "metadata": {},
   "outputs": [],
   "source": [
    "class Solution:\n",
    "    def nextGreaterElements(self, nums: List[int]) -> List[int]:\n",
    "        res = nums\n",
    "        n = len(nums)\n",
    "        nums = nums + nums\n",
    "        res = [-1]*n\n",
    "        for i in range(n):\n",
    "            for j in range(i, 2*n):\n",
    "                if nums[j] > nums[i]:\n",
    "                    res[i] = nums[j]\n",
    "                    break\n",
    "        return res"
   ]
  },
  {
   "cell_type": "code",
   "execution_count": null,
   "metadata": {},
   "outputs": [],
   "source": [
    "'''arr = range(1, 6)\n",
    "while True:\n",
    "    try:\n",
    "        index = 0\n",
    "        while True:\n",
    "            print(arr[index%5])\n",
    "            index += 1\n",
    "    except:\n",
    "        break'''"
   ]
  },
  {
   "cell_type": "code",
   "execution_count": null,
   "metadata": {},
   "outputs": [],
   "source": [
    "# 121. 买卖股票的最佳时机\n",
    "# https://leetcode.cn/problems/best-time-to-buy-and-sell-stock/\n",
    "\n",
    "class Solution:\n",
    "    def maxProfit(self, prices: List[int]) -> int:\n",
    "        s = [float('inf')]\n",
    "        res = 0\n",
    "        for i in range(len(prices)):\n",
    "            while s and prices[i] <= s[-1]:\n",
    "                s.pop()\n",
    "            if s:\n",
    "                res = max(res, prices[i] - s[0])\n",
    "            s.append(prices[i])\n",
    "        return res"
   ]
  },
  {
   "cell_type": "code",
   "execution_count": 6,
   "metadata": {},
   "outputs": [
    {
     "name": "stdout",
     "output_type": "stream",
     "text": [
      "5\n"
     ]
    }
   ],
   "source": [
    "prices = [7,1,5,3,6,4]\n",
    "stack = [float('inf')]\n",
    "res = 0\n",
    "for i in range(len(prices)):\n",
    "    while stack and prices[i] <= stack[-1]:\n",
    "        stack.pop()\n",
    "    if stack:\n",
    "        res = max(res, prices[i]-stack[0])\n",
    "    stack.append(prices[i])\n",
    "print(res)"
   ]
  }
 ],
 "metadata": {
  "kernelspec": {
   "display_name": "base",
   "language": "python",
   "name": "python3"
  },
  "language_info": {
   "codemirror_mode": {
    "name": "ipython",
    "version": 3
   },
   "file_extension": ".py",
   "mimetype": "text/x-python",
   "name": "python",
   "nbconvert_exporter": "python",
   "pygments_lexer": "ipython3",
   "version": "3.11.3"
  },
  "orig_nbformat": 4
 },
 "nbformat": 4,
 "nbformat_minor": 2
}
