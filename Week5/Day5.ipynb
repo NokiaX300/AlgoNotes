{
 "cells": [
  {
   "cell_type": "markdown",
   "metadata": {},
   "source": [
    "单调栈结构\n",
    "\n",
    "https://labuladong.gitee.io/article/fname.html?fname=单调栈"
   ]
  },
  {
   "cell_type": "code",
   "execution_count": 2,
   "metadata": {},
   "outputs": [],
   "source": [
    "from typing import List\n",
    "def nextGreaterElement(nums: List[int]) -> List[int]:\n",
    "    n = len(nums)\n",
    "    # 存放答案的数组\n",
    "    res = [-1 for _ in range(n)]\n",
    "    s = [] \n",
    "    # 倒着往栈里放\n",
    "    for i in range(n-1, -1, -1):\n",
    "        # 判定个子高矮\n",
    "        while s and s[-1] <= nums[i]:\n",
    "            # 矮个起开，反正也被挡着\n",
    "            s.pop()\n",
    "        # nums[i] 身后的更大元素\n",
    "        if s:\n",
    "            res[i] = s[-1]\n",
    "        s.append(nums[i])\n",
    "    return res"
   ]
  },
  {
   "cell_type": "code",
   "execution_count": null,
   "metadata": {},
   "outputs": [],
   "source": [
    "'''from typing import List\n",
    "def nextGreaterElement(nums: List[int]) -> List[int]:\n",
    "    res = [-1]*len(nums)\n",
    "    s = []\n",
    "    for i in range(len(nums)-1, -1, -1):\n",
    "        while s and nums[i] > s[-1]:\n",
    "            s.pop()\n",
    "        if s:\n",
    "            res[i] = s[-1]\n",
    "        s.append(nums[i])\n",
    "    return res'''"
   ]
  },
  {
   "cell_type": "code",
   "execution_count": null,
   "metadata": {},
   "outputs": [],
   "source": [
    "# 739. 每日温度\n",
    "# https://leetcode.cn/problems/daily-temperatures/\n",
    "\n",
    "class Solution:\n",
    "    def dailyTemperatures(self, temperatures: List[int]) -> List[int]:\n",
    "        s = []\n",
    "        res = [0]*len(temperatures)\n",
    "        for i in range(len(temperatures)-1, -1, -1):\n",
    "            while s and temperatures[i] >= temperatures[s[-1]]:\n",
    "                s.pop()\n",
    "            if s:\n",
    "                res[i] = s[-1] - i\n",
    "            s.append(i)\n",
    "        return res"
   ]
  },
  {
   "cell_type": "code",
   "execution_count": null,
   "metadata": {},
   "outputs": [],
   "source": [
    "# 下一个更大元素 II\n",
    "# https://leetcode.cn/problems/next-greater-element-ii/\n",
    "\n",
    "class Solution:\n",
    "    def nextGreaterElements(self, nums: List[int]) -> List[int]:\n",
    "        pass"
   ]
  }
 ],
 "metadata": {
  "kernelspec": {
   "display_name": "base",
   "language": "python",
   "name": "python3"
  },
  "language_info": {
   "codemirror_mode": {
    "name": "ipython",
    "version": 3
   },
   "file_extension": ".py",
   "mimetype": "text/x-python",
   "name": "python",
   "nbconvert_exporter": "python",
   "pygments_lexer": "ipython3",
   "version": "3.11.3"
  },
  "orig_nbformat": 4
 },
 "nbformat": 4,
 "nbformat_minor": 2
}
