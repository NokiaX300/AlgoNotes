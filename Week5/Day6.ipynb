{
 "cells": [
  {
   "cell_type": "markdown",
   "metadata": {},
   "source": [
    "单调队列结构解决滑动窗口问题\n",
    "\n",
    "https://labuladong.gitee.io/article/fname.html?fname=单调队列"
   ]
  },
  {
   "cell_type": "code",
   "execution_count": 1,
   "metadata": {},
   "outputs": [],
   "source": [
    "# 239. 滑动窗口最大值\n",
    "# https://leetcode.cn/problems/sliding-window-maximum/\n",
    "\n",
    "from typing import List\n",
    "\n",
    "class MonotonicQueue:\n",
    "    def __init__(self) -> None:\n",
    "        self.maxq = []\n",
    "\n",
    "    def push(self, n: int) -> None:\n",
    "        while self.maxq and self.maxq[-1] < n:\n",
    "            self.maxq.pop()\n",
    "        self.maxq.append(n)\n",
    "\n",
    "    def pop(self, n: int) -> None:\n",
    "        if n == self.maxq[0]:\n",
    "            self.maxq.pop(0)\n",
    "\n",
    "    def max(self) -> int:\n",
    "        return self.maxq[0]\n",
    "\n",
    "\n",
    "class Solution:\n",
    "    def maxSlidingWindow(self, nums: List[int], k: int) -> List[int]:\n",
    "        window = MonotonicQueue()\n",
    "        res = []\n",
    "        for i in range(len(nums)):\n",
    "            if i < k-1:\n",
    "                window.push(nums[i])\n",
    "            else:\n",
    "                window.push(nums[i])\n",
    "                res.append(window.max())\n",
    "                window.pop(nums[i-k+1])\n",
    "        return res"
   ]
  },
  {
   "cell_type": "markdown",
   "metadata": {},
   "source": [
    "<img src=\"239.png\" style=\"zoom:50%\" />"
   ]
  },
  {
   "cell_type": "code",
   "execution_count": 2,
   "metadata": {},
   "outputs": [
    {
     "data": {
      "text/plain": [
       "[3, 3, 5, 5, 6, 7]"
      ]
     },
     "execution_count": 2,
     "metadata": {},
     "output_type": "execute_result"
    }
   ],
   "source": [
    "Solution().maxSlidingWindow(nums = [1,3,-1,-3,5,3,6,7], k = 3)"
   ]
  },
  {
   "cell_type": "code",
   "execution_count": 2,
   "metadata": {},
   "outputs": [],
   "source": [
    "# 402. 移掉 K 位数字\n",
    "# https://leetcode.cn/problems/remove-k-digits/\n",
    "\n",
    "class Solution:\n",
    "    def removeKdigits(self, num: str, k: int) -> str:\n",
    "        remain = len(num)-k\n",
    "        s = []\n",
    "        for i in range(len(num)):\n",
    "            while s and k and num[i] < s[-1]:\n",
    "                s.pop()\n",
    "                k -= 1\n",
    "            s.append(num[i])\n",
    "        return ''.join(s[:remain]).lstrip('0') or '0'"
   ]
  },
  {
   "cell_type": "code",
   "execution_count": 3,
   "metadata": {},
   "outputs": [
    {
     "data": {
      "text/plain": [
       "'1219'"
      ]
     },
     "execution_count": 3,
     "metadata": {},
     "output_type": "execute_result"
    }
   ],
   "source": [
    "a = Solution()\n",
    "a.removeKdigits(num='1432219', k=3)"
   ]
  },
  {
   "cell_type": "code",
   "execution_count": null,
   "metadata": {},
   "outputs": [],
   "source": [
    "# 316. 去除重复字母\n",
    "# https://leetcode.cn/problems/remove-duplicate-letters/\n",
    "\n",
    "from collections import Counter\n",
    "class Solution:\n",
    "    def removeDuplicateLetters(self, s: str) -> str:\n",
    "        st = []\n",
    "        dic = Counter(s)\n",
    "        for ele in s:\n",
    "            if ele not in st:\n",
    "                while st and ele < st[-1] and dic[st[-1]] > 0:\n",
    "                    st.pop()\n",
    "                st.append(ele)\n",
    "            dic[ele] -= 1\n",
    "        return ''.join(st)"
   ]
  },
  {
   "cell_type": "code",
   "execution_count": null,
   "metadata": {},
   "outputs": [],
   "source": [
    "Solution().removeDuplicateLetters('cbacdcbc')"
   ]
  },
  {
   "cell_type": "code",
   "execution_count": 4,
   "metadata": {},
   "outputs": [
    {
     "name": "stdout",
     "output_type": "stream",
     "text": [
      "Counter({'a': 3, 'b': 2, 'c': 1})\n",
      "<class 'collections.Counter'>\n"
     ]
    }
   ],
   "source": [
    "from collections import Counter\n",
    "s = 'cbacdcbc'\n",
    "dic = Counter(s)\n",
    "print(dic)\n",
    "print(type(dic))"
   ]
  },
  {
   "cell_type": "code",
   "execution_count": null,
   "metadata": {},
   "outputs": [],
   "source": [
    "# 321. 拼接最大数\n",
    "# https://leetcode.cn/problems/create-maximum-number/\n",
    "\n",
    "class Solution:\n",
    "    def maxNumber(self, nums1: List[int], nums2: List[int], k: int) -> List[int]:\n",
    "        pass"
   ]
  }
 ],
 "metadata": {
  "kernelspec": {
   "display_name": "base",
   "language": "python",
   "name": "python3"
  },
  "language_info": {
   "codemirror_mode": {
    "name": "ipython",
    "version": 3
   },
   "file_extension": ".py",
   "mimetype": "text/x-python",
   "name": "python",
   "nbconvert_exporter": "python",
   "pygments_lexer": "ipython3",
   "version": "3.11.3"
  },
  "orig_nbformat": 4
 },
 "nbformat": 4,
 "nbformat_minor": 2
}
