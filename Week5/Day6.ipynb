{
 "cells": [
  {
   "cell_type": "markdown",
   "metadata": {},
   "source": [
    "单调队列结构解决滑动窗口问题\n",
    "\n",
    "https://labuladong.gitee.io/article/fname.html?fname=单调队列"
   ]
  },
  {
   "cell_type": "code",
   "execution_count": null,
   "metadata": {},
   "outputs": [],
   "source": [
    "# 239. 滑动窗口最大值\n",
    "# https://leetcode.cn/problems/sliding-window-maximum/\n",
    "\n",
    "from collections import deque\n",
    "class MonotonicQueue:\n",
    "    def __init__(self) -> None:\n",
    "        self.maxq = deque\n",
    "\n",
    "    def push(self, n: int) -> None:\n",
    "        while self.maxq and self.maxq[-1] < n:\n",
    "            self.maxq.pop()\n",
    "        self.maxq.append(n)\n",
    "\n",
    "    def pop(self, n: int) -> None:\n",
    "        pass\n",
    "\n",
    "\n",
    "class Solution:\n",
    "    def maxSlidingWindow(self, nums: List[int], k: int) -> List[int]:\n",
    "        pass"
   ]
  },
  {
   "cell_type": "markdown",
   "metadata": {},
   "source": [
    "<img src=\"239.png\" style=\"zoom:50%\" />"
   ]
  }
 ],
 "metadata": {
  "kernelspec": {
   "display_name": "base",
   "language": "python",
   "name": "python3"
  },
  "language_info": {
   "name": "python",
   "version": "3.11.3"
  },
  "orig_nbformat": 4
 },
 "nbformat": 4,
 "nbformat_minor": 2
}
