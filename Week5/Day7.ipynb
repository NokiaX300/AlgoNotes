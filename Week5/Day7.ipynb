{
 "cells": [
  {
   "cell_type": "markdown",
   "metadata": {},
   "source": [
    "LRU 算法\n",
    "\n",
    "https://labuladong.github.io/article/fname.html?fname=LRU算法"
   ]
  },
  {
   "cell_type": "code",
   "execution_count": null,
   "metadata": {},
   "outputs": [],
   "source": [
    "class Node: # 双链表的节点类\n",
    "    def __init__(self, k: int, v: int) -> None:\n",
    "        self.key = k\n",
    "        self.val = v\n",
    "        self.next = None\n",
    "        self.prev = None"
   ]
  },
  {
   "cell_type": "code",
   "execution_count": null,
   "metadata": {},
   "outputs": [],
   "source": [
    "class DoubleList: # 构建一个双链表，实现几个 LRU 算法必须的 API\n",
    "    # 头尾虚节点\n",
    "    def __init__(self) -> None:\n",
    "        self.head = Node(0, 0)\n",
    "        self.tail = Node(0, 0)\n",
    "        self.head.next = self.tail\n",
    "        self.tail.prev = self.head\n",
    "        self.size = 0\n",
    "\n",
    "    # 在链表尾部添加节点 x，时间 O(1)\n",
    "    def addLast(self, x: Node):\n",
    "        x.prev = self.tail.prev\n",
    "        x.next = self.tail\n",
    "        self.tail.prev.next = x\n",
    "        self.tail.prev = x\n",
    "        self.size += 1\n",
    "\n",
    "    # 删除链表中的 x 节点（x 一定存在），时间 O(1)\n",
    "    def remove(self, x: Node):\n",
    "        x.prev.next = x.next\n",
    "        x.next.prev = x.prev\n",
    "        self.size -= 1\n",
    "\n",
    "    # 删除链表中第一个节点，并返回该节点，时间 O(1)\n",
    "    def removeFirst(self) -> Node:\n",
    "        pass"
   ]
  },
  {
   "cell_type": "code",
   "execution_count": null,
   "metadata": {},
   "outputs": [],
   "source": [
    "# 146. LRU 缓存\n",
    "# https://leetcode.cn/problems/lru-cache/\n",
    "\n",
    "class LRUCache:\n",
    "\n",
    "    def __init__(self, capacity: int):\n",
    "        pass\n",
    "\n",
    "    def get(self, key: int) -> int:\n",
    "        pass\n",
    "\n",
    "    def put(self, key: int, value: int) -> None:\n",
    "        pass\n",
    "\n",
    "\n",
    "# Your LRUCache object will be instantiated and called as such:\n",
    "# obj = LRUCache(capacity)\n",
    "# param_1 = obj.get(key)\n",
    "# obj.put(key,value)"
   ]
  }
 ],
 "metadata": {
  "kernelspec": {
   "display_name": "base",
   "language": "python",
   "name": "python3"
  },
  "language_info": {
   "name": "python",
   "version": "3.11.3"
  },
  "orig_nbformat": 4
 },
 "nbformat": 4,
 "nbformat_minor": 2
}
