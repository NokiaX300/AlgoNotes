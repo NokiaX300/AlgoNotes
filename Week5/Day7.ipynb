{
 "cells": [
  {
   "cell_type": "markdown",
   "metadata": {},
   "source": [
    "LRU 算法\n",
    "\n",
    "https://labuladong.github.io/article/fname.html?fname=LRU算法"
   ]
  },
  {
   "cell_type": "code",
   "execution_count": null,
   "metadata": {},
   "outputs": [],
   "source": [
    "# 146. LRU 缓存\n",
    "# https://leetcode.cn/problems/lru-cache/\n",
    "\n",
    "class LRUCache:\n",
    "\n",
    "    def __init__(self, capacity: int):\n",
    "        pass\n",
    "\n",
    "    def get(self, key: int) -> int:\n",
    "        pass\n",
    "\n",
    "    def put(self, key: int, value: int) -> None:\n",
    "        pass\n",
    "\n",
    "\n",
    "# Your LRUCache object will be instantiated and called as such:\n",
    "# obj = LRUCache(capacity)\n",
    "# param_1 = obj.get(key)\n",
    "# obj.put(key,value)"
   ]
  }
 ],
 "metadata": {
  "kernelspec": {
   "display_name": "base",
   "language": "python",
   "name": "python3"
  },
  "language_info": {
   "name": "python",
   "version": "3.11.3"
  },
  "orig_nbformat": 4
 },
 "nbformat": 4,
 "nbformat_minor": 2
}
