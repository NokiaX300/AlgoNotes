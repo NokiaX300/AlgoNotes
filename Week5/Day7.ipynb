{
 "cells": [
  {
   "cell_type": "markdown",
   "metadata": {},
   "source": [
    "LFU 算法\n",
    "\n",
    "https://labuladong.github.io/algo/di-yi-zhan-da78c/shou-ba-sh-daeca/suan-fa-ji-fb527/"
   ]
  },
  {
   "cell_type": "code",
   "execution_count": 2,
   "metadata": {},
   "outputs": [],
   "source": [
    "# Least Frequently Used"
   ]
  },
  {
   "cell_type": "code",
   "execution_count": null,
   "metadata": {},
   "outputs": [],
   "source": [
    "# 第一个 freq_table 以频率 freq 为索引，每个索引存放一个双向链表（注意是每个！）\n",
    "# 这个链表里存放所有使用频率为 freq 的缓存，缓存里存放三个信息，分别为键 key，值 value，以及使用频率 freq\n",
    "\n",
    "# 第二个 key_table 以键值 key 为索引，每个索引存放对应缓存在 freq_table 中链表里的内存地址"
   ]
  },
  {
   "cell_type": "markdown",
   "metadata": {},
   "source": [
    "<img src=\"460.png\" style=\"zoom:50%\" />"
   ]
  },
  {
   "cell_type": "code",
   "execution_count": null,
   "metadata": {},
   "outputs": [],
   "source": [
    "# 对于删除操作\n",
    "# 因为我们保证了链表中从链表头到链表尾的插入时间是有序的\n",
    "# 所以 freq_table[minFreq] 的链表中链表尾的节点即为使用频率最小，且插入时间最早的节点\n",
    "# 我们删除它同时根据情况更新 minFreq"
   ]
  },
  {
   "cell_type": "markdown",
   "metadata": {},
   "source": [
    "<img src=\"460(2).png\" style=\"zoom:50%\" />"
   ]
  },
  {
   "cell_type": "code",
   "execution_count": null,
   "metadata": {},
   "outputs": [],
   "source": [
    "# 460. LFU 缓存\n",
    "# https://leetcode.cn/problems/lfu-cache/\n",
    "\n",
    "class Node:\n",
    "    def __init__(self, key, val, pre=None, nex=None, freq=0):\n",
    "        self.pre = pre\n",
    "        self.nex = nex\n",
    "        self.freq = freq\n",
    "        self.val = val\n",
    "        self.key = key\n",
    "        \n",
    "    def insert(self, nex):\n",
    "        nex.pre = self\n",
    "        nex.nex = self.nex\n",
    "        self.nex.pre = nex\n",
    "        self.nex = nex\n",
    "    \n",
    "def create_linked_list():\n",
    "    head = Node(0, 0)\n",
    "    tail = Node(0, 0)\n",
    "    head.nex = tail\n",
    "    tail.pre = head\n",
    "    return (head, tail)\n",
    "\n",
    "class LFUCache:\n",
    "    def __init__(self, capacity: int):\n",
    "        self.capacity = capacity\n",
    "        self.size = 0\n",
    "        self.minFreq = 0\n",
    "        self.freqMap = collections.defaultdict(create_linked_list)\n",
    "        self.keyMap = {}\n",
    "\n",
    "    def delete(self, node):\n",
    "        if node.pre:\n",
    "            node.pre.nex = node.nex\n",
    "            node.nex.pre = node.pre\n",
    "            if node.pre is self.freqMap[node.freq][0] and node.nex is self.freqMap[node.freq][-1]:\n",
    "                self.freqMap.pop(node.freq)\n",
    "        return node.key\n",
    "        \n",
    "    def increase(self, node):\n",
    "        node.freq += 1\n",
    "        self.delete(node)\n",
    "        self.freqMap[node.freq][-1].pre.insert(node)\n",
    "        if node.freq == 1:\n",
    "            self.minFreq = 1\n",
    "        elif self.minFreq == node.freq - 1:\n",
    "            head, tail = self.freqMap[node.freq - 1]\n",
    "            if head.nex is tail:\n",
    "                self.minFreq = node.freq\n",
    "\n",
    "    def get(self, key: int) -> int:\n",
    "        if key in self.keyMap:\n",
    "            self.increase(self.keyMap[key])\n",
    "            return self.keyMap[key].val\n",
    "        return -1\n",
    "\n",
    "    def put(self, key: int, value: int) -> None:\n",
    "        if self.capacity != 0:\n",
    "            if key in self.keyMap:\n",
    "                node = self.keyMap[key]\n",
    "                node.val = value\n",
    "            else:\n",
    "                node = Node(key, value)\n",
    "                self.keyMap[key] = node\n",
    "                self.size += 1\n",
    "            if self.size > self.capacity:\n",
    "                self.size -= 1\n",
    "                deleted = self.delete(self.freqMap[self.minFreq][0].nex)\n",
    "                self.keyMap.pop(deleted)\n",
    "            self.increase(node)\n",
    "\n",
    "\n",
    "# Your LFUCache object will be instantiated and called as such:\n",
    "# obj = LFUCache(capacity)\n",
    "# param_1 = obj.get(key)\n",
    "# obj.put(key,value)"
   ]
  },
  {
   "cell_type": "code",
   "execution_count": null,
   "metadata": {},
   "outputs": [],
   "source": [
    "# 460. LFU 缓存\n",
    "# https://leetcode.cn/problems/lfu-cache/\n",
    "\n",
    "class LFUCache:\n",
    "    def __init__(self, capacity: int):\n",
    "        self.capacity = capacity\n",
    "        self.keyToVal = {}\n",
    "        self.keyToFreq = {}\n",
    "        self.freqToKeys = {}\n",
    "        self.minFreq = 0\n",
    "\n",
    "    def get(self, key: int) -> int:\n",
    "        if key not in self.keyToVal:\n",
    "            return -1\n",
    "        self.increaseFreq(key)\n",
    "        return self.keyToVal[key]\n",
    "\n",
    "    def put(self, key: int, value: int) -> None:\n",
    "        if self.capacity == 0:\n",
    "            return\n",
    "        if key in self.keyToVal:\n",
    "            self.keyToVal[key] = value\n",
    "            self.increaseFreq(key)\n",
    "            return\n",
    "        if self.capacity == len(self.keyToVal):\n",
    "            self.removeMinFreqKey()\n",
    "        self.keyToVal[key] = value\n",
    "        self.keyToFreq[key] = 1\n",
    "        self.freqToKeys.setdefault(1, set()).add(key)\n",
    "        # 首先，self.freqToKeys是一个defaultdict(set)，它是一个特殊的字典\n",
    "        # 当访问不存在的键时，会自动创建一个默认值\n",
    "        # 接下来，.setdefault(1, set())方法会检查键1是否存在于self.freqToKeys字典中\n",
    "        # 如果存在，则直接返回键1对应的值（即一个空的集合）\n",
    "        # 如果不存在，则创建一个默认值为set()的键1\n",
    "        # 最后，.add(key)将key添加到键1对应的集合中，无论是新创建的集合还是已存在的集合\n",
    "        # 综上所述，self.freqToKeys.setdefault(1, set()).add(key)的目的\n",
    "        # 是将key添加到self.freqToKeys字典中键为1的对应集合中\n",
    "        # 如果键1不存在，则会自动创建一个对应的集合并将key添加到集合中\n",
    "        self.minFreq = 1\n",
    "\n",
    "    def increaseFreq(self, key: int):\n",
    "        self.freq = self.keyToFreq[key]\n",
    "        self.keyToFreq[key] = self.freq + 1\n",
    "        self.freqToKeys[self.freq].remove(key)\n",
    "        self.freqToKeys.setdefault(self.freq+1, set()).add(key)\n",
    "        if len(self.freqToKeys[self.freq]) == 0:\n",
    "            del self.freqToKeys[self.freq]\n",
    "            if self.freq == self.minFreq:\n",
    "                self.minFreq += 1\n",
    "\n",
    "    def removeMinFreqKey(self):\n",
    "        keyList = self.freqToKeys[self.minFreq]\n",
    "        deletedKey = next(iter(keyList))\n",
    "        keyList.remove(deletedKey)\n",
    "        if len(keyList) == 0:\n",
    "            del self.freqToKeys[self.minFreq]\n",
    "\n",
    "\n",
    "# Your LFUCache object will be instantiated and called as such:\n",
    "# obj = LFUCache(capacity)\n",
    "# param_1 = obj.get(key)\n",
    "# obj.put(key,value)"
   ]
  },
  {
   "cell_type": "code",
   "execution_count": null,
   "metadata": {},
   "outputs": [],
   "source": [
    "# setdefault 如果不存在会在原字典里添加一个 key:default_value 并返回 default_value\n",
    "# get 找不到 key 的时候不会修改原字典，只返回 default_value"
   ]
  },
  {
   "cell_type": "code",
   "execution_count": null,
   "metadata": {},
   "outputs": [],
   "source": [
    "# 删除某个键key肯定是要同时修改三个映射表的，借助minFreq参数可以从FK表中找到freq最小的keyList\n",
    "# 根据时序，其中第一个元素就是要被淘汰的deletedKey，操作三个映射表删除这个key即可\n",
    "# 但是有个细节问题，如果keyList中只有一个元素，那么删除之后minFreq对应的key列表就为空了\n",
    "# 也就是minFreq变量需要被更新。如何计算当前的minFreq是多少呢？\n",
    "\n",
    "# 实际上没办法快速计算minFreq，只能线性遍历FK表或者KF表来计算，这样肯定不能保证 O(1) 的时间复杂度\n",
    "# 但是，其实这里没必要更新minFreq变量，因为你想想removeMinFreqKey这个函数是在什么时候调用？\n",
    "# 在put方法中插入新key时可能调用。而你回头看put的代码，插入新key时一定会把minFreq更新成 1\n",
    "# 所以说即便这里minFreq变了，我们也不需要管它"
   ]
  }
 ],
 "metadata": {
  "kernelspec": {
   "display_name": "base",
   "language": "python",
   "name": "python3"
  },
  "language_info": {
   "codemirror_mode": {
    "name": "ipython",
    "version": 3
   },
   "file_extension": ".py",
   "mimetype": "text/x-python",
   "name": "python",
   "nbconvert_exporter": "python",
   "pygments_lexer": "ipython3",
   "version": "3.11.3"
  },
  "orig_nbformat": 4
 },
 "nbformat": 4,
 "nbformat_minor": 2
}
