{
 "cells": [
  {
   "cell_type": "code",
   "execution_count": null,
   "metadata": {},
   "outputs": [],
   "source": [
    "# 169. 多数元素\n",
    "# https://leetcode.cn/problems/majority-element/\n",
    "\n",
    "from collections import Counter\n",
    "class Solution:\n",
    "    def majorityElement(self, nums: List[int]) -> int:\n",
    "        dic = Counter(nums)\n",
    "        for i in dic:\n",
    "            if dic[i] > len(nums)//2:\n",
    "                return i"
   ]
  },
  {
   "cell_type": "code",
   "execution_count": null,
   "metadata": {},
   "outputs": [],
   "source": [
    "# 169. 多数元素\n",
    "# https://leetcode.cn/problems/majority-element/\n",
    "\n",
    "class Solution:\n",
    "    def majorityElement(self, nums: List[int]) -> int:\n",
    "        major = 0\n",
    "        count = 0\n",
    "        for ele in nums:\n",
    "            if count == 0:\n",
    "                major = ele\n",
    "            if ele == major:\n",
    "                count += 1\n",
    "            else:\n",
    "                count -= 1\n",
    "        return major"
   ]
  },
  {
   "cell_type": "code",
   "execution_count": null,
   "metadata": {},
   "outputs": [],
   "source": [
    "# 240. 搜索二维矩阵 II\n",
    "# https://leetcode.cn/problems/search-a-2d-matrix-ii/\n",
    "\n",
    "class Solution:\n",
    "    def searchMatrix(self, matrix: List[List[int]], target: int) -> bool:\n",
    "        for i in range(len(matrix)):\n",
    "            for j in range(len(matrix[i])):\n",
    "                if target in matrix[i]:\n",
    "                    return True\n",
    "        return False"
   ]
  },
  {
   "cell_type": "code",
   "execution_count": null,
   "metadata": {},
   "outputs": [],
   "source": [
    "# 240. 搜索二维矩阵 II\n",
    "# https://leetcode.cn/problems/search-a-2d-matrix-ii/\n",
    "\n",
    "from itertools import chain\n",
    "class Solution:\n",
    "    def searchMatrix(self, matrix: List[List[int]], target: int) -> bool:\n",
    "        return target in chain(*matrix)"
   ]
  },
  {
   "cell_type": "code",
   "execution_count": 4,
   "metadata": {},
   "outputs": [
    {
     "name": "stdout",
     "output_type": "stream",
     "text": [
      "[1, 4, 7, 11, 15, 2, 5, 8, 12, 19, 3, 6, 9, 16, 22, 10, 13, 14, 17, 24, 18, 21, 23, 26, 30]\n"
     ]
    }
   ],
   "source": [
    "from itertools import chain\n",
    "matrix = [[1,4,7,11,15],[2,5,8,12,19],[3,6,9,16,22],[10,13,14,17,24],[18,21,23,26,30]]\n",
    "print(list(chain(*matrix)))"
   ]
  },
  {
   "cell_type": "code",
   "execution_count": null,
   "metadata": {},
   "outputs": [],
   "source": [
    "# 数据流的中位数\n",
    "# https://leetcode.cn/problems/find-median-from-data-stream/\n",
    "\n",
    "import heapq\n",
    "class MedianFinder:\n",
    "    def __init__(self):\n",
    "        pass\n",
    "\n",
    "    def addNum(self, num: int) -> None:\n",
    "        pass\n",
    "\n",
    "    def findMedian(self) -> float:\n",
    "        pass\n",
    "\n",
    "\n",
    "# Your MedianFinder object will be instantiated and called as such:\n",
    "# obj = MedianFinder()\n",
    "# obj.addNum(num)\n",
    "# param_2 = obj.findMedian()"
   ]
  }
 ],
 "metadata": {
  "kernelspec": {
   "display_name": "base",
   "language": "python",
   "name": "python3"
  },
  "language_info": {
   "codemirror_mode": {
    "name": "ipython",
    "version": 3
   },
   "file_extension": ".py",
   "mimetype": "text/x-python",
   "name": "python",
   "nbconvert_exporter": "python",
   "pygments_lexer": "ipython3",
   "version": "3.11.3"
  },
  "orig_nbformat": 4
 },
 "nbformat": 4,
 "nbformat_minor": 2
}
