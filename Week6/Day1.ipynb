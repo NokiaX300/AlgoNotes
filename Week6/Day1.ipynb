{
 "cells": [
  {
   "cell_type": "markdown",
   "metadata": {},
   "source": [
    "查找数组中的任意元素\n",
    "\n",
    "https://labuladong.github.io/article/fname.html?fname=随机集合"
   ]
  },
  {
   "cell_type": "code",
   "execution_count": null,
   "metadata": {},
   "outputs": [],
   "source": [
    "# 对于插入，删除，查找这几个操作，哪种数据结构的时间复杂度是 O(1)?\n",
    "\n",
    "# 在Python中，对于插入、删除和查找操作，字典（dict）是具有 O(1) 时间复杂度的数据结构\n",
    "# 字典使用哈希表实现，通过哈希函数计算键的哈希值，并将其存储在哈希表中的对应位置\n",
    "# 这使得字典能够在常数时间内执行插入、删除和查找操作\n",
    "# 请注意，这只针对平均情况，最坏情况下的时间复杂度可能会达到 O(n)\n",
    "# 其他常见的数据结构如列表（list）和集合（set）在插入、删除和查找方面的时间复杂度为 O(n)\n",
    "\n",
    "\n",
    "# LinkedHashSet 给 HashSet 增加了有序性\n",
    "\n",
    "# 想「等概率」且「在 O(1) 的时间」取出元素，一定要满足：底层用数组实现，且数组必须是紧凑的\n",
    "# 如果我们想在 O(1) 的时间删除数组中的某一个元素 val，可以先把这个元素交换到数组的尾部，然后再 pop 掉\n",
    "\n",
    "# 交换两个元素必须通过索引进行交换，所以需要一个哈希表 valToIndex 来记录每个元素值对应的索引"
   ]
  },
  {
   "cell_type": "code",
   "execution_count": 3,
   "metadata": {},
   "outputs": [],
   "source": [
    "# 380. O(1) 时间插入、删除和获取随机元素\n",
    "# https://leetcode.cn/problems/insert-delete-getrandom-o1/\n",
    "\n",
    "import random\n",
    "class RandomizedSet:\n",
    "    def __init__(self):\n",
    "        self.nums = [] # 存储元素的值\n",
    "        self.valToIndex = {} # 记录每个元素对应在 nums 中的索引\n",
    "\n",
    "    def insert(self, val: int) -> bool:\n",
    "        if val in self.valToIndex:\n",
    "            return False\n",
    "        self.valToIndex[val] = len(self.nums) # 记录 val 对应的索引值\n",
    "        self.nums.append(val)\n",
    "        return True\n",
    "\n",
    "    def remove(self, val: int) -> bool:\n",
    "        if val not in self.valToIndex:\n",
    "            return False\n",
    "        index = self.valToIndex[val]\n",
    "        self.valToIndex[self.nums[-1]] = index\n",
    "        self.nums[index], self.nums[-1] = self.nums[-1], self.nums[index]\n",
    "        self.nums.pop()\n",
    "        del self.valToIndex[val]\n",
    "        return True\n",
    "\n",
    "    def getRandom(self) -> int:\n",
    "        return random.choice(self.nums)\n",
    "\n",
    "\n",
    "# Your RandomizedSet object will be instantiated and called as such:\n",
    "# obj = RandomizedSet()\n",
    "# param_1 = obj.insert(val)\n",
    "# param_2 = obj.remove(val)\n",
    "# param_3 = obj.getRandom()"
   ]
  },
  {
   "cell_type": "code",
   "execution_count": 2,
   "metadata": {},
   "outputs": [],
   "source": [
    "# 710. 黑名单中的随机数\n",
    "# https://leetcode.cn/problems/random-pick-with-blacklist/\n",
    "\n",
    "import random \n",
    "def pick(N, blacklist) -> int: # 执行效率和随机数相关\n",
    "    res = random.randint(0, N-1)\n",
    "    while res in blacklist:\n",
    "        res = random.random(0, N-1)\n",
    "    return res"
   ]
  },
  {
   "cell_type": "code",
   "execution_count": null,
   "metadata": {},
   "outputs": [],
   "source": [
    "# 710. 黑名单中的随机数\n",
    "# https://leetcode.cn/problems/random-pick-with-blacklist/\n",
    "\n",
    "# 保持数组元素的紧凑性，可以把待删除元素换到最后，然后 pop 掉末尾的元素，这样时间复杂度就是 O(1) 了\n",
    "# 我们需要额外的哈希表记录值到索引的映射\n",
    "\n",
    "import random\n",
    "class Solution:\n",
    "\n",
    "    def __init__(self, n: int, blacklist: List[int]):\n",
    "        self.size = n - len(blacklist)\n",
    "        self.mapping = {}\n",
    "        last = n-1\n",
    "        for b in blacklist:\n",
    "            self.mapping[b] = 10086\n",
    "        for b in blacklist:\n",
    "            if b >= self.size:\n",
    "                continue\n",
    "            while last in self.mapping:\n",
    "                last -= 1\n",
    "            self.mapping[b] = last\n",
    "            last -= 1\n",
    "\n",
    "    def pick(self) -> int:\n",
    "        index = random.randint(0, self.size-1)\n",
    "        if index in self.mapping:\n",
    "            return self.mapping[index]\n",
    "        return index\n",
    "\n",
    "\n",
    "# Your Solution object will be instantiated and called as such:\n",
    "# obj = Solution(n, blacklist)\n",
    "# param_1 = obj.pick()"
   ]
  },
  {
   "cell_type": "code",
   "execution_count": 4,
   "metadata": {},
   "outputs": [
    {
     "name": "stdout",
     "output_type": "stream",
     "text": [
      "[0, 1, 2, 3, 4, 5, 6]\n",
      "{0, 1, 4, 6}\n"
     ]
    }
   ],
   "source": [
    "l1 = list(range(7))\n",
    "print(l1)\n",
    "l2 = [2, 3, 5]\n",
    "print(set(l1) - set(l2))"
   ]
  },
  {
   "cell_type": "code",
   "execution_count": null,
   "metadata": {},
   "outputs": [],
   "source": [
    "# 295. 数据流的中位数\n",
    "# https://leetcode.cn/problems/find-median-from-data-stream/\n",
    "\n",
    "import heapq\n",
    "class MedianFinder:\n",
    "    def __init__(self):\n",
    "        self.small_heap = []\n",
    "        self.large_heap = []\n",
    "\n",
    "    def addNum(self, num: int) -> None:\n",
    "        if len(self.small_heap) < len(self.large_heap):\n",
    "            s = heapq.heappushpop(self.large_heap, num)\n",
    "            heapq.heappush(self.small_heap, -s)\n",
    "        else:\n",
    "            t = -heapq.heappushpop(self.small_heap, -num)\n",
    "            heapq.heappush(self.large_heap, t)\n",
    "\n",
    "    def findMedian(self) -> float:\n",
    "        if len(self.small_heap) == len(self.large_heap):\n",
    "            a = -self.small_heap[0]\n",
    "            b = self.large_heap[0]\n",
    "            return (b-a)/2 + a\n",
    "        else:\n",
    "            return self.large_heap[0]\n",
    "\n",
    "\n",
    "# Your MedianFinder object will be instantiated and called as such:\n",
    "# obj = MedianFinder()\n",
    "# obj.addNum(num)\n",
    "# param_2 = obj.findMedian()"
   ]
  }
 ],
 "metadata": {
  "kernelspec": {
   "display_name": "base",
   "language": "python",
   "name": "python3"
  },
  "language_info": {
   "codemirror_mode": {
    "name": "ipython",
    "version": 3
   },
   "file_extension": ".py",
   "mimetype": "text/x-python",
   "name": "python",
   "nbconvert_exporter": "python",
   "pygments_lexer": "ipython3",
   "version": "3.11.3"
  },
  "orig_nbformat": 4
 },
 "nbformat": 4,
 "nbformat_minor": 2
}
