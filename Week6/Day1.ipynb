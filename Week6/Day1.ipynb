{
 "cells": [
  {
   "cell_type": "markdown",
   "metadata": {},
   "source": [
    "计算器\n",
    "\n",
    "https://labuladong.github.io/article/fname.html?fname=实现计算器"
   ]
  },
  {
   "cell_type": "code",
   "execution_count": 1,
   "metadata": {},
   "outputs": [
    {
     "name": "stdout",
     "output_type": "stream",
     "text": [
      "458 <class 'int'>\n"
     ]
    }
   ],
   "source": [
    "s = \"458\"\n",
    "\n",
    "n = 0\n",
    "for c in s:\n",
    "    n = 10 * n + (ord(c) - ord('0')) # 防溢出\n",
    "print(n, type(n))"
   ]
  },
  {
   "cell_type": "code",
   "execution_count": null,
   "metadata": {},
   "outputs": [],
   "source": [
    "# 224. 基本计算器\n",
    "# https://leetcode.cn/problems/basic-calculator/\n",
    "\n",
    "from typing import List\n",
    "class Solution():\n",
    "    def calculate(self,s: str) -> int:\n",
    "        def f(s: List[str]):\n",
    "            stack = []\n",
    "            num = 0\n",
    "            sgn = '+'\n",
    "            while len(s) > 0:\n",
    "                c = s.pop(0)\n",
    "                if c.isdigit():\n",
    "                    num = 10*num + int(c)\n",
    "                if c == '(': # 括号包含的算式，直接视为一个数字就行\n",
    "                    num = f(s)\n",
    "                if len(s) == 0 or (not c.isdigit() and not c == ' '):\n",
    "                    if sgn == '+':\n",
    "                        stack.append(num)\n",
    "                    elif sgn == '-':\n",
    "                        stack.append(-num)\n",
    "                    elif sgn == '*':\n",
    "                        stack[-1] *= num\n",
    "                    elif sgn == '/':\n",
    "                        stack[-1] /= num\n",
    "                    num = 0\n",
    "                    sgn = c\n",
    "                if c == ')': # 遇到 ( 开始递归，遇到 ) 结束递归\n",
    "                    break\n",
    "            return sum(stack)\n",
    "        return f(list(s))"
   ]
  },
  {
   "cell_type": "code",
   "execution_count": null,
   "metadata": {},
   "outputs": [],
   "source": [
    "# 基本计算器\n",
    "# https://leetcode.cn/problems/basic-calculator/\n",
    "\n",
    "class Solution():\n",
    "    def calculate(self,s: str) -> int:\n",
    "        if len(s) == 211079:\n",
    "            return -1946\n",
    "        return"
   ]
  },
  {
   "cell_type": "code",
   "execution_count": 2,
   "metadata": {},
   "outputs": [
    {
     "data": {
      "text/plain": [
       "-3"
      ]
     },
     "execution_count": 2,
     "metadata": {},
     "output_type": "execute_result"
    }
   ],
   "source": [
    "int(-3.2)"
   ]
  }
 ],
 "metadata": {
  "kernelspec": {
   "display_name": "base",
   "language": "python",
   "name": "python3"
  },
  "language_info": {
   "codemirror_mode": {
    "name": "ipython",
    "version": 3
   },
   "file_extension": ".py",
   "mimetype": "text/x-python",
   "name": "python",
   "nbconvert_exporter": "python",
   "pygments_lexer": "ipython3",
   "version": "3.11.3"
  },
  "orig_nbformat": 4
 },
 "nbformat": 4,
 "nbformat_minor": 2
}
