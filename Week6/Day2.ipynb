{
 "cells": [
  {
   "cell_type": "markdown",
   "metadata": {},
   "source": [
    "查找数组中的任意元素\n",
    "\n",
    "https://labuladong.github.io/article/fname.html?fname=随机集合"
   ]
  },
  {
   "cell_type": "code",
   "execution_count": null,
   "metadata": {},
   "outputs": [],
   "source": [
    "# 710. 黑名单中的随机数\n",
    "# https://leetcode.cn/problems/random-pick-with-blacklist/\n",
    "\n",
    "# 保持数组元素的紧凑性，可以把待删除元素换到最后，然后 pop 掉末尾的元素，这样时间复杂度就是 O(1) 了\n",
    "# 我们需要额外的哈希表记录值到索引的映射。\n",
    "\n",
    "import random\n",
    "class Solution:\n",
    "\n",
    "    def __init__(self, n: int, blacklist: List[int]):\n",
    "        pass\n",
    "\n",
    "    def pick(self) -> int:\n",
    "        pass\n",
    "\n",
    "\n",
    "# Your Solution object will be instantiated and called as such:\n",
    "# obj = Solution(n, blacklist)\n",
    "# param_1 = obj.pick()"
   ]
  },
  {
   "cell_type": "code",
   "execution_count": 1,
   "metadata": {},
   "outputs": [
    {
     "name": "stdout",
     "output_type": "stream",
     "text": [
      "[0, 1, 2, 3, 4, 5, 6]\n",
      "{0, 1, 4, 6}\n"
     ]
    }
   ],
   "source": [
    "l1 = list(range(7))\n",
    "print(l1)\n",
    "l2 = [2, 3, 5]\n",
    "print(set(l1) - set(l2))"
   ]
  }
 ],
 "metadata": {
  "kernelspec": {
   "display_name": "base",
   "language": "python",
   "name": "python3"
  },
  "language_info": {
   "codemirror_mode": {
    "name": "ipython",
    "version": 3
   },
   "file_extension": ".py",
   "mimetype": "text/x-python",
   "name": "python",
   "nbconvert_exporter": "python",
   "pygments_lexer": "ipython3",
   "version": "3.11.3"
  },
  "orig_nbformat": 4
 },
 "nbformat": 4,
 "nbformat_minor": 2
}
