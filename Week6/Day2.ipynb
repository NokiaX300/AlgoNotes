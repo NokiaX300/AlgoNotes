{
 "cells": [
  {
   "cell_type": "markdown",
   "metadata": {},
   "source": [
    "求中位数\n",
    "\n",
    "https://labuladong.github.io/algo/di-yi-zhan-da78c/shou-ba-sh-daeca/yi-dao-qiu-b3109/"
   ]
  },
  {
   "cell_type": "code",
   "execution_count": null,
   "metadata": {},
   "outputs": [],
   "source": [
    "# 295. 数据流的中位数\n",
    "# https://leetcode.cn/problems/find-median-from-data-stream/\n",
    "\n",
    "import heapq\n",
    "class MedianFinder:\n",
    "    def __init__(self):\n",
    "        self.small_heap = []\n",
    "        self.large_heap = []\n",
    "\n",
    "    def addNum(self, num: int) -> None:\n",
    "        if len(self.small_heap) < len(self.large_heap):\n",
    "            s = heapq.heappushpop(self.large_heap, num)\n",
    "            heapq.heappush(self.small_heap, -s)\n",
    "        else:\n",
    "            t = -heapq.heappushpop(self.small_heap, -num)\n",
    "            heapq.heappush(self.large_heap, t)\n",
    "\n",
    "    def findMedian(self) -> float:\n",
    "        if len(self.small_heap) == len(self.large_heap):\n",
    "            a = -self.small_heap[0]\n",
    "            b = self.large_heap[0]\n",
    "            return (b-a)/2 + a\n",
    "        else:\n",
    "            return self.large_heap[0]\n",
    "\n",
    "\n",
    "# Your MedianFinder object will be instantiated and called as such:\n",
    "# obj = MedianFinder()\n",
    "# obj.addNum(num)\n",
    "# param_2 = obj.findMedian()"
   ]
  }
 ],
 "metadata": {
  "kernelspec": {
   "display_name": "base",
   "language": "python",
   "name": "python3"
  },
  "language_info": {
   "name": "python",
   "version": "3.11.3"
  },
  "orig_nbformat": 4
 },
 "nbformat": 4,
 "nbformat_minor": 2
}
