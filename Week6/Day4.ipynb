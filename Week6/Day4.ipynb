{
 "cells": [
  {
   "cell_type": "markdown",
   "metadata": {},
   "source": [
    "LFU 算法\n",
    "\n",
    "https://labuladong.github.io/algo/di-yi-zhan-da78c/shou-ba-sh-daeca/suan-fa-ji-fb527/"
   ]
  },
  {
   "cell_type": "code",
   "execution_count": 2,
   "metadata": {},
   "outputs": [],
   "source": [
    "# Least Frequently Used"
   ]
  },
  {
   "cell_type": "code",
   "execution_count": null,
   "metadata": {},
   "outputs": [],
   "source": [
    "# 第一个 freq_table 以频率 freq 为索引，每个索引存放一个双向链表（注意是每个！）\n",
    "# 这个链表里存放所有使用频率为 freq 的缓存，缓存里存放三个信息，分别为键 key，值 value，以及使用频率 freq\n",
    "\n",
    "# 第二个 key_table 以键值 key 为索引，每个索引存放对应缓存在 freq_table 中链表里的内存地址"
   ]
  },
  {
   "cell_type": "markdown",
   "metadata": {},
   "source": [
    "<img src=\"460.png\" style=\"zoom:50%\" />"
   ]
  },
  {
   "cell_type": "code",
   "execution_count": null,
   "metadata": {},
   "outputs": [],
   "source": [
    "# 对于删除操作\n",
    "# 因为我们保证了链表中从链表头到链表尾的插入时间是有序的\n",
    "# 所以 freq_table[minFreq] 的链表中链表尾的节点即为使用频率最小，且插入时间最早的节点\n",
    "# 我们删除它同时根据情况更新 minFreq"
   ]
  },
  {
   "cell_type": "markdown",
   "metadata": {},
   "source": [
    "<img src=\"460(2).png\" style=\"zoom:50%\" />"
   ]
  },
  {
   "cell_type": "code",
   "execution_count": null,
   "metadata": {},
   "outputs": [],
   "source": [
    "# 460. LFU 缓存\n",
    "# https://leetcode.cn/problems/lfu-cache/\n",
    "\n",
    "from collections import defaultdict\n",
    "class Node:\n",
    "    def __init__(self, key, val) -> None:\n",
    "        self.key = key\n",
    "        self.val = val\n",
    "        self.prev = None\n",
    "        self.next = None\n",
    "        self.freq = 1\n",
    "    \n",
    "    def insert(self, next):\n",
    "        next.prev = self\n",
    "        next.next = self.next\n",
    "        self.next.prev = next\n",
    "        self.next = next\n",
    "\n",
    "\n",
    "def dlinkedlist():\n",
    "    head = Node(0, 0)\n",
    "    tail = Node(0, 0)\n",
    "    head.next = tail\n",
    "    tail.prev = head\n",
    "    return (head, tail)\n",
    "\n",
    "\n",
    "class LFUCache:\n",
    "    def __init__(self, capacity: int):\n",
    "        self.capacity = capacity\n",
    "        self.size = 0\n",
    "        self.minFreq = 0\n",
    "        self.freqMap = defaultdict(dlinkedlist)\n",
    "        self.keyMap = {}\n",
    "\n",
    "    def get(self, key: int) -> int:\n",
    "        if key in self.keyMap:\n",
    "            self.increase(self.keyMap[key])\n",
    "            return self.keyMap[key].val\n",
    "        return -1\n",
    "\n",
    "    def put(self, key: int, value: int) -> None:\n",
    "        pass\n",
    "\n",
    "    def increase(self, node):\n",
    "        pass\n",
    "\n",
    "    def delete(self, node: Node):\n",
    "        if node.prev:\n",
    "            node.prev.next = node.next\n",
    "            node.next.prev = node.prev\n",
    "            if node.\n",
    "        return node.key\n",
    "\n",
    "\n",
    "# Your LFUCache object will be instantiated and called as such:\n",
    "# obj = LFUCache(capacity)\n",
    "# param_1 = obj.get(key)\n",
    "# obj.put(key,value)"
   ]
  }
 ],
 "metadata": {
  "kernelspec": {
   "display_name": "base",
   "language": "python",
   "name": "python3"
  },
  "language_info": {
   "codemirror_mode": {
    "name": "ipython",
    "version": 3
   },
   "file_extension": ".py",
   "mimetype": "text/x-python",
   "name": "python",
   "nbconvert_exporter": "python",
   "pygments_lexer": "ipython3",
   "version": "3.11.3"
  },
  "orig_nbformat": 4
 },
 "nbformat": 4,
 "nbformat_minor": 2
}
