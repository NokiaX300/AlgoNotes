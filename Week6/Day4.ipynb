{
 "cells": [
  {
   "cell_type": "markdown",
   "metadata": {},
   "source": [
    "如何 K 个一组反转链表\n",
    "\n",
    "https://labuladong.github.io/algo/di-yi-zhan-da78c/shou-ba-sh-8f30d/ru-he-k-ge-d591d/"
   ]
  },
  {
   "cell_type": "code",
   "execution_count": null,
   "metadata": {},
   "outputs": [],
   "source": [
    "# 递归反转单链表\n",
    "\n",
    "# 206. 反转链表\n",
    "# https://leetcode.cn/problems/reverse-linked-list/\n",
    "\n",
    "# Definition for singly-linked list.\n",
    "from typing import Optional\n",
    "class ListNode:\n",
    "    def __init__(self, val=0, next=None):\n",
    "        self.val = val\n",
    "        self.next = next\n",
    "\n",
    "\n",
    "class Solution:\n",
    "    def reverseList(self, head: Optional[ListNode]) -> Optional[ListNode]:\n",
    "        if not head or not head.next:\n",
    "            return head\n",
    "        last = self.reverseList(head.next)\n",
    "        head.next.next = head\n",
    "        head.next = None\n",
    "        return last"
   ]
  },
  {
   "cell_type": "code",
   "execution_count": null,
   "metadata": {},
   "outputs": [],
   "source": [
    "# 迭代反转以 a 为头结点的链表\n",
    "def reverse(a: ListNode) -> ListNode:\n",
    "    cur = a\n",
    "    prev = None\n",
    "    while cur:\n",
    "        temp = cur.next\n",
    "        cur.next = prev\n",
    "        prev = cur\n",
    "        cur = temp\n",
    "    return prev"
   ]
  },
  {
   "cell_type": "code",
   "execution_count": null,
   "metadata": {},
   "outputs": [],
   "source": [
    "# 25. K 个一组翻转链表\n",
    "# https://leetcode.cn/problems/reverse-nodes-in-k-group/\n",
    "\n",
    "# 内迭代\n",
    "# Definition for singly-linked list.\n",
    "from typing import Optional\n",
    "class ListNode:\n",
    "    def __init__(self, val=0, next=None):\n",
    "        self.val = val\n",
    "        self.next = next\n",
    "\n",
    "\n",
    "class Solution:\n",
    "    def reverseKGroup(self, head: Optional[ListNode], k: int) -> Optional[ListNode]:\n",
    "        if not head:\n",
    "            return None\n",
    "        a, b = head, head\n",
    "        for i in range(k):\n",
    "            if not b:\n",
    "                return head\n",
    "            b = b.next\n",
    "        new_head = self.reverse(a, b)\n",
    "        a.next = self.reverseKGroup(b, k)\n",
    "        return new_head\n",
    "\n",
    "    def reverse(self, a: ListNode, b: ListNode) -> ListNode:\n",
    "        cur = a\n",
    "        prev = None\n",
    "        while cur != b:\n",
    "            temp = cur.next\n",
    "            cur.next = prev\n",
    "            prev = cur\n",
    "            cur = temp\n",
    "        return prev"
   ]
  },
  {
   "cell_type": "code",
   "execution_count": null,
   "metadata": {},
   "outputs": [],
   "source": [
    "# 25. K 个一组翻转链表\n",
    "# https://leetcode.cn/problems/reverse-nodes-in-k-group/\n",
    "\n",
    "# 内递归\n",
    "# Definition for singly-linked list.\n",
    "from typing import Optional\n",
    "class ListNode:\n",
    "    def __init__(self, val=0, next=None):\n",
    "        self.val = val\n",
    "        self.next = next\n",
    "\n",
    "\n",
    "class Solution:\n",
    "    def reverseKGroup(self, head: Optional[ListNode], k: int) -> Optional[ListNode]:\n",
    "        if not head:\n",
    "            return None\n",
    "        a, b = head, head\n",
    "        for i in range(k):\n",
    "            if not b:\n",
    "                return head\n",
    "            b = b.next\n",
    "        new_head = self.reverse(a, b)\n",
    "        a.next = self.reverseKGroup(b, k)\n",
    "        return new_head\n",
    "\n",
    "    def reverse(self, a: ListNode, b: ListNode) -> ListNode:\n",
    "        if a.next == b:\n",
    "            return a\n",
    "        last = self.reverse(a.next, b)\n",
    "        a.next.next = a\n",
    "        a.next = None\n",
    "        return last"
   ]
  }
 ],
 "metadata": {
  "kernelspec": {
   "display_name": "base",
   "language": "python",
   "name": "python3"
  },
  "language_info": {
   "name": "python",
   "version": "3.11.3"
  },
  "orig_nbformat": 4
 },
 "nbformat": 4,
 "nbformat_minor": 2
}
