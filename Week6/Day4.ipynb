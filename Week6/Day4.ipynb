{
 "cells": [
  {
   "cell_type": "markdown",
   "metadata": {},
   "source": [
    "LFU 算法\n",
    "\n",
    "https://labuladong.github.io/algo/di-yi-zhan-da78c/shou-ba-sh-daeca/suan-fa-ji-fb527/"
   ]
  },
  {
   "cell_type": "code",
   "execution_count": 2,
   "metadata": {},
   "outputs": [],
   "source": [
    "# Least Frequently Used"
   ]
  },
  {
   "cell_type": "markdown",
   "metadata": {},
   "source": [
    "<img src=\"460.png\" style=\"zoom:50%\" />"
   ]
  },
  {
   "cell_type": "code",
   "execution_count": null,
   "metadata": {},
   "outputs": [],
   "source": [
    "# 对于删除操作\n",
    "# 因为我们保证了链表中从链表头到链表尾的插入时间是有序的\n",
    "# 所以 freq_table[minFreq] 的链表中链表尾的节点即为使用频率最小，且插入时间最早的节点\n",
    "# 我们删除它同时根据情况更新 minFreq"
   ]
  },
  {
   "cell_type": "markdown",
   "metadata": {},
   "source": [
    "<img src=\"460(2).png\" style=\"zoom:50%\" />"
   ]
  },
  {
   "cell_type": "code",
   "execution_count": null,
   "metadata": {},
   "outputs": [],
   "source": [
    "# 460. LFU 缓存\n",
    "# https://leetcode.cn/problems/lfu-cache/\n",
    "\n",
    "class Node:\n",
    "    def __init__(self, key, val) -> None:\n",
    "        self.key = key\n",
    "        self.val = val\n",
    "        self.prev = None\n",
    "        self.next = None\n",
    "        self.freq = 1\n",
    "\n",
    "\n",
    "class DlinkedList:\n",
    "    def __init__(self) -> None:\n",
    "        self.head = Node()\n",
    "\n",
    "\n",
    "class LFUCache:\n",
    "    def __init__(self, capacity: int):\n",
    "        pass\n",
    "\n",
    "    def get(self, key: int) -> int:\n",
    "        pass\n",
    "\n",
    "    def put(self, key: int, value: int) -> None:\n",
    "        pass\n",
    "\n",
    "\n",
    "# Your LFUCache object will be instantiated and called as such:\n",
    "# obj = LFUCache(capacity)\n",
    "# param_1 = obj.get(key)\n",
    "# obj.put(key,value)"
   ]
  }
 ],
 "metadata": {
  "kernelspec": {
   "display_name": "base",
   "language": "python",
   "name": "python3"
  },
  "language_info": {
   "codemirror_mode": {
    "name": "ipython",
    "version": 3
   },
   "file_extension": ".py",
   "mimetype": "text/x-python",
   "name": "python",
   "nbconvert_exporter": "python",
   "pygments_lexer": "ipython3",
   "version": "3.11.3"
  },
  "orig_nbformat": 4
 },
 "nbformat": 4,
 "nbformat_minor": 2
}
