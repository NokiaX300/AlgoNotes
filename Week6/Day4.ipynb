{
 "cells": [
  {
   "cell_type": "markdown",
   "metadata": {},
   "source": [
    "二维数组的花式遍历技巧\n",
    "\n",
    "https://labuladong.github.io/algo/di-yi-zhan-da78c/shou-ba-sh-48c1d/er-wei-shu-150fb/"
   ]
  },
  {
   "cell_type": "code",
   "execution_count": null,
   "metadata": {},
   "outputs": [],
   "source": [
    "# 151. 反转字符串中的单词\n",
    "# https://leetcode.cn/problems/reverse-words-in-a-string/\n",
    "\n",
    "class Solution:\n",
    "    def reverseWords(self, s: str) -> str:\n",
    "        lis = list(s.strip())\n",
    "        lis.reverse()\n",
    "        word = []\n",
    "        res = []\n",
    "        for ele in lis:\n",
    "            if ele != ' ':\n",
    "                word.append(ele)\n",
    "            else:\n",
    "                if word:\n",
    "                    res.extend(reversed(word))\n",
    "                    res.append(' ')\n",
    "                    word = []\n",
    "        if word:\n",
    "            res.extend(reversed(word))\n",
    "        return ''.join(res)"
   ]
  },
  {
   "cell_type": "code",
   "execution_count": 36,
   "metadata": {},
   "outputs": [
    {
     "data": {
      "text/plain": [
       "'example good a'"
      ]
     },
     "execution_count": 36,
     "metadata": {},
     "output_type": "execute_result"
    }
   ],
   "source": [
    "def reverseWords(s: str) -> str:\n",
    "    lis = list(s.strip())\n",
    "    lis.reverse()\n",
    "    word = []\n",
    "    res = []\n",
    "    for ele in lis:\n",
    "        if ele != ' ':\n",
    "            word.append(ele)\n",
    "        else:\n",
    "            if word:\n",
    "                res.extend(reversed(word))\n",
    "                res.append(' ')\n",
    "                word = []\n",
    "    if word:\n",
    "        res.extend(reversed(word))\n",
    "    return ''.join(res)\n",
    "reverseWords(s = \"a good     example\")"
   ]
  },
  {
   "cell_type": "code",
   "execution_count": 34,
   "metadata": {},
   "outputs": [
    {
     "name": "stdout",
     "output_type": "stream",
     "text": [
      "[5, 4, 3, 2, 1]\n",
      "<list_reverseiterator object at 0x000001EAC1A3EAD0>\n",
      "[1, 2, 3, 4, 5]\n"
     ]
    }
   ],
   "source": [
    "a = [1,2,3,4,5]\n",
    "a.reverse()\n",
    "print(a)\n",
    "a = reversed(a)\n",
    "print(a)\n",
    "print(list(a))"
   ]
  },
  {
   "cell_type": "code",
   "execution_count": 52,
   "metadata": {},
   "outputs": [],
   "source": [
    "# 151. 反转字符串中的单词\n",
    "# https://leetcode.cn/problems/reverse-words-in-a-string/\n",
    "\n",
    "class Solution:\n",
    "    def reverseWords(self, s: str) -> str:\n",
    "        lis = s.split()\n",
    "        lis.reverse()\n",
    "        return ' '.join(lis)"
   ]
  },
  {
   "cell_type": "code",
   "execution_count": 55,
   "metadata": {},
   "outputs": [
    {
     "data": {
      "text/plain": [
       "'a good example'"
      ]
     },
     "execution_count": 55,
     "metadata": {},
     "output_type": "execute_result"
    }
   ],
   "source": [
    "def reverseWords(s: str) -> str:\n",
    "    lis = s.split()\n",
    "    for ele in lis:\n",
    "        ele[::-1]\n",
    "    return ' '.join(lis)\n",
    "reverseWords(s = \"a good     example\")"
   ]
  },
  {
   "cell_type": "code",
   "execution_count": 53,
   "metadata": {},
   "outputs": [
    {
     "data": {
      "text/plain": [
       "'a doog elpmaxe'"
      ]
     },
     "execution_count": 53,
     "metadata": {},
     "output_type": "execute_result"
    }
   ],
   "source": [
    "def reverseWords(s: str) -> str:\n",
    "    lis = s.split()\n",
    "    for i in range(len(lis)):\n",
    "        lis[i] = lis[i][::-1]\n",
    "    return ' '.join(lis)\n",
    "reverseWords(s = \"a good     example\")"
   ]
  },
  {
   "cell_type": "code",
   "execution_count": null,
   "metadata": {},
   "outputs": [],
   "source": [
    "# 151. 反转字符串中的单词\n",
    "# https://leetcode.cn/problems/reverse-words-in-a-string/\n",
    "\n",
    "class Solution:\n",
    "    def reverseWords(self, s: str) -> str:\n",
    "        return ' '.join(s.split()[::-1])"
   ]
  },
  {
   "cell_type": "code",
   "execution_count": 1,
   "metadata": {},
   "outputs": [],
   "source": [
    "# 151. 反转字符串中的单词\n",
    "# https://leetcode.cn/problems/reverse-words-in-a-string/\n",
    "\n",
    "# 原地修改\n",
    "class Solution:\n",
    "    def reverseWords(self, s: str) -> str:\n",
    "        s = s.strip()\n",
    "        word = []\n",
    "        left = 0\n",
    "        right = 0\n",
    "        while right < len(s):\n",
    "            if s[right] == ' ':\n",
    "                word.append(s[left: right])\n",
    "                while right < len(s)-1 and s[right+1] == ' ':\n",
    "                    right += 1\n",
    "                left = right + 1\n",
    "            right += 1\n",
    "        word.append(s[left:])\n",
    "        return ' '.join(word[::-1])"
   ]
  },
  {
   "cell_type": "code",
   "execution_count": 3,
   "metadata": {},
   "outputs": [
    {
     "name": "stdout",
     "output_type": "stream",
     "text": [
      "True\n",
      "140724390545544\n",
      "140724390545544\n"
     ]
    }
   ],
   "source": [
    "s = 'hello world'\n",
    "\n",
    "words = []\n",
    "words.append(s[0])\n",
    "words.append(s[1])\n",
    "words.append(s[2])\n",
    "words.append(s[3])\n",
    "\n",
    "print(words[0] is s[0])\n",
    "print(id(words[0]))\n",
    "print(id(s[0]))"
   ]
  },
  {
   "cell_type": "code",
   "execution_count": 13,
   "metadata": {},
   "outputs": [
    {
     "name": "stdout",
     "output_type": "stream",
     "text": [
      "[]\n",
      "[]\n"
     ]
    }
   ],
   "source": [
    "s = ['a',' ','b','a',' ','b']\n",
    "print(s[1:1])\n",
    "print(s[3:1])"
   ]
  },
  {
   "cell_type": "code",
   "execution_count": 10,
   "metadata": {},
   "outputs": [
    {
     "name": "stdout",
     "output_type": "stream",
     "text": [
      "False\n"
     ]
    }
   ],
   "source": [
    "s = 'a b'\n",
    "print(s.isalpha())"
   ]
  },
  {
   "cell_type": "code",
   "execution_count": null,
   "metadata": {},
   "outputs": [],
   "source": [
    "# 151. 反转字符串中的单词\n",
    "# https://leetcode.cn/problems/reverse-words-in-a-string/\n",
    "\n",
    "# 原地修改\n",
    "class Solution:\n",
    "    def reverseWords(self, s: str) -> str:\n",
    "        s = s.strip()\n",
    "        word = []\n",
    "        left = 0\n",
    "        right = 0\n",
    "        while right < len(s):\n",
    "            while right < len(s) and s[right] != ' ':\n",
    "                right += 1\n",
    "            if left < right:\n",
    "                word.append(s[left: right])\n",
    "            left = right + 1\n",
    "            right += 1\n",
    "        return ' '.join(word[::-1])"
   ]
  },
  {
   "cell_type": "code",
   "execution_count": 8,
   "metadata": {},
   "outputs": [
    {
     "data": {
      "text/plain": [
       "'example good a'"
      ]
     },
     "execution_count": 8,
     "metadata": {},
     "output_type": "execute_result"
    }
   ],
   "source": [
    "def reverseWords(s: str) -> str:\n",
    "    s = s.strip()\n",
    "    word = []\n",
    "    left = 0\n",
    "    right = 0\n",
    "    while right < len(s):\n",
    "        while right < len(s) and s[right] != ' ':\n",
    "            right += 1\n",
    "        if left < right:\n",
    "            word.append(s[left: right])\n",
    "        left = right + 1\n",
    "        right += 1\n",
    "    return ' '.join(word[::-1])\n",
    "reverseWords(s = \"a good     example\")"
   ]
  },
  {
   "cell_type": "code",
   "execution_count": null,
   "metadata": {},
   "outputs": [],
   "source": [
    "# 151. 反转字符串中的单词\n",
    "# https://leetcode.cn/problems/reverse-words-in-a-string/\n",
    "\n",
    "# 原地修改\n",
    "class Solution:\n",
    "    def reverse(self, lis: list, left, right) -> list:\n",
    "        while left < right:\n",
    "            lis[left], lis[right] = lis[right], lis[left]\n",
    "            left += 1\n",
    "            right -= 1\n",
    "        return lis\n",
    "    \n",
    "    def reverseWords(self, s: str) -> str:\n",
    "        left = 0\n",
    "        right = len(s)-1\n",
    "        # 去除两边多余空格\n",
    "        while s[left] == ' ':\n",
    "            left += 1\n",
    "        while s[right] == ' ':\n",
    "            right -= 1\n",
    "        word = []\n",
    "        # 去除中间多余空格\n",
    "        while left <= right:\n",
    "            if s[left] != ' ' or word[-1] != ' ':\n",
    "                word.append(s[left])\n",
    "            left += 1\n",
    "        # 反转整个数组\n",
    "        self.reverse(word, 0, len(word)-1)\n",
    "        # 反转每个单词\n",
    "        left = 0\n",
    "        right = 0\n",
    "        while right < len(word):\n",
    "            while right < len(word) and word[right] != ' ':\n",
    "                right += 1\n",
    "            self.reverse(word, left, right-1)\n",
    "            left = right + 1\n",
    "            right += 1\n",
    "        return ''.join(word)"
   ]
  },
  {
   "cell_type": "code",
   "execution_count": 13,
   "metadata": {},
   "outputs": [
    {
     "data": {
      "text/plain": [
       "[' ', 's', 'i', ' ', 'y', 'k', 's', ' ', 'e', 'h', 't', 'b', 'l', 'u', 'e']"
      ]
     },
     "execution_count": 13,
     "metadata": {},
     "output_type": "execute_result"
    }
   ],
   "source": [
    "def reverse(lis: list, left, right) -> list:\n",
    "    while left < right:\n",
    "        lis[left], lis[right] = lis[right], lis[left]\n",
    "        left += 1\n",
    "        right -= 1\n",
    "    return lis\n",
    "reverse(['t', 'h', 'e', ' ', 's', 'k', 'y', ' ', 'i', 's', ' ', 'b', 'l', 'u', 'e'], 0, 10)"
   ]
  },
  {
   "cell_type": "code",
   "execution_count": 15,
   "metadata": {},
   "outputs": [
    {
     "name": "stdout",
     "output_type": "stream",
     "text": [
      "['a', ' ', 'g', 'o', 'o', 'd', ' ', 'e', 'x', 'a', 'm', 'p', 'l', 'e']\n"
     ]
    }
   ],
   "source": [
    "s = \"a good     example\"\n",
    "left = 0\n",
    "right = len(s)-1\n",
    "# 去除两边多余空格\n",
    "while left == '0':\n",
    "    left += 1\n",
    "while right == '0':\n",
    "    right -= 1\n",
    "word = []\n",
    "# 去除中间多余空格\n",
    "while left <= right:\n",
    "    if s[left] != ' ' or word[-1] != ' ':\n",
    "        word.append(s[left])\n",
    "    left += 1\n",
    "print(word)"
   ]
  }
 ],
 "metadata": {
  "kernelspec": {
   "display_name": "base",
   "language": "python",
   "name": "python3"
  },
  "language_info": {
   "codemirror_mode": {
    "name": "ipython",
    "version": 3
   },
   "file_extension": ".py",
   "mimetype": "text/x-python",
   "name": "python",
   "nbconvert_exporter": "python",
   "pygments_lexer": "ipython3",
   "version": "3.11.3"
  },
  "orig_nbformat": 4
 },
 "nbformat": 4,
 "nbformat_minor": 2
}
