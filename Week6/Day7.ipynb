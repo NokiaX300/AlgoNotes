{
 "cells": [
  {
   "cell_type": "markdown",
   "metadata": {},
   "source": [
    "带权重的随机选择算法\n",
    "\n",
    "https://labuladong.github.io/algo/di-yi-zhan-da78c/shou-ba-sh-48c1d/dai-quan-z-585d6/"
   ]
  },
  {
   "cell_type": "code",
   "execution_count": null,
   "metadata": {},
   "outputs": [],
   "source": [
    "# 528. 按权重随机选择\n",
    "# https://leetcode.cn/problems/random-pick-with-weight/\n",
    "\n",
    "# 「前缀和」 + 「二分搜索」\n",
    "from typing import List\n",
    "import random\n",
    "import bisect\n",
    "class Solution:\n",
    "    def __init__(self, w: List[int]):\n",
    "        self.prefix = [0]*(len(w))\n",
    "        self.prefix[0] = w[0]\n",
    "        for i in range(1, len(w)):\n",
    "            self.prefix[i] = w[i] + self.prefix[i-1]\n",
    "\n",
    "    def pickIndex(self) -> int:\n",
    "        idx = random.randint(1, self.prefix[-1])\n",
    "        return bisect.bisect_left(self.prefix, idx)\n",
    "\n",
    "\n",
    "# Your Solution object will be instantiated and called as such:\n",
    "# obj = Solution(w)\n",
    "# param_1 = obj.pickIndex()"
   ]
  },
  {
   "cell_type": "code",
   "execution_count": 2,
   "metadata": {},
   "outputs": [
    {
     "name": "stdout",
     "output_type": "stream",
     "text": [
      "Help on method choices in module random:\n",
      "\n",
      "choices(population, weights=None, *, cum_weights=None, k=1) method of random.Random instance\n",
      "    Return a k sized list of population elements chosen with replacement.\n",
      "    \n",
      "    If the relative weights or cumulative weights are not specified,\n",
      "    the selections are made with equal probability.\n",
      "\n",
      "None\n"
     ]
    }
   ],
   "source": [
    "import random\n",
    "print(help(random.choices))"
   ]
  },
  {
   "cell_type": "code",
   "execution_count": null,
   "metadata": {},
   "outputs": [],
   "source": [
    "# 528. 按权重随机选择\n",
    "# https://leetcode.cn/problems/random-pick-with-weight/\n",
    "\n",
    "# 使用random.choices(population, weights=None, *, cum_weights=None, k=1)\n",
    "import random\n",
    "class Solution:\n",
    "    def __init__(self, w: List[int]):\n",
    "        self.arr = w\n",
    "        self.indexes = range(len(w))\n",
    "\n",
    "    def pickIndex(self) -> int:\n",
    "        return random.choices(self.indexes, weights=self.arr)[0] # 注意 choices 返回值类型是 list\n",
    "\n",
    "\n",
    "# Your Solution object will be instantiated and called as such:\n",
    "# obj = Solution(w)\n",
    "# param_1 = obj.pickIndex()"
   ]
  },
  {
   "cell_type": "code",
   "execution_count": 5,
   "metadata": {},
   "outputs": [
    {
     "name": "stdout",
     "output_type": "stream",
     "text": [
      "[3, 4, 2, 3, 3]\n"
     ]
    }
   ],
   "source": [
    "import random\n",
    "print(random.choices([1,2,3,4,5], weights=[0,3,10,4,0], k=5))"
   ]
  }
 ],
 "metadata": {
  "kernelspec": {
   "display_name": "base",
   "language": "python",
   "name": "python3"
  },
  "language_info": {
   "codemirror_mode": {
    "name": "ipython",
    "version": 3
   },
   "file_extension": ".py",
   "mimetype": "text/x-python",
   "name": "python",
   "nbconvert_exporter": "python",
   "pygments_lexer": "ipython3",
   "version": "3.11.3"
  },
  "orig_nbformat": 4
 },
 "nbformat": 4,
 "nbformat_minor": 2
}
