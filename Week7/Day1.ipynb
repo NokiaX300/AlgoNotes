{
 "cells": [
  {
   "cell_type": "code",
   "execution_count": null,
   "metadata": {},
   "outputs": [],
   "source": [
    "# 169. 多数元素\n",
    "# https://leetcode.cn/problems/majority-element/\n",
    "\n",
    "from collections import Counter\n",
    "class Solution:\n",
    "    def majorityElement(self, nums: List[int]) -> int:\n",
    "        dic = Counter(nums)\n",
    "        for i in dic:\n",
    "            if dic[i] > len(nums)//2:\n",
    "                return i"
   ]
  },
  {
   "cell_type": "code",
   "execution_count": null,
   "metadata": {},
   "outputs": [],
   "source": [
    "# 169. 多数元素\n",
    "# https://leetcode.cn/problems/majority-element/\n",
    "\n",
    "class Solution:\n",
    "    def majorityElement(self, nums: List[int]) -> int:\n",
    "        major = 0\n",
    "        count = 0\n",
    "        for ele in nums:\n",
    "            if count == 0:\n",
    "                major = ele\n",
    "            if ele == major:\n",
    "                count += 1\n",
    "            else:\n",
    "                count -= 1\n",
    "        return major"
   ]
  },
  {
   "cell_type": "code",
   "execution_count": null,
   "metadata": {},
   "outputs": [],
   "source": [
    "# 240. 搜索二维矩阵 II\n",
    "# https://leetcode.cn/problems/search-a-2d-matrix-ii/\n",
    "\n",
    "class Solution:\n",
    "    def searchMatrix(self, matrix: List[List[int]], target: int) -> bool:\n",
    "        for i in range(len(matrix)):\n",
    "            for j in range(len(matrix[i])):\n",
    "                if target in matrix[i]:\n",
    "                    return True\n",
    "        return False"
   ]
  },
  {
   "cell_type": "code",
   "execution_count": null,
   "metadata": {},
   "outputs": [],
   "source": [
    "# 240. 搜索二维矩阵 II\n",
    "# https://leetcode.cn/problems/search-a-2d-matrix-ii/\n",
    "\n",
    "from itertools import chain\n",
    "class Solution:\n",
    "    def searchMatrix(self, matrix: List[List[int]], target: int) -> bool:\n",
    "        return target in chain(*matrix)"
   ]
  },
  {
   "cell_type": "code",
   "execution_count": 4,
   "metadata": {},
   "outputs": [
    {
     "name": "stdout",
     "output_type": "stream",
     "text": [
      "[1, 4, 7, 11, 15, 2, 5, 8, 12, 19, 3, 6, 9, 16, 22, 10, 13, 14, 17, 24, 18, 21, 23, 26, 30]\n"
     ]
    }
   ],
   "source": [
    "from itertools import chain\n",
    "matrix = [[1,4,7,11,15],[2,5,8,12,19],[3,6,9,16,22],[10,13,14,17,24],[18,21,23,26,30]]\n",
    "print(list(chain(*matrix)))"
   ]
  },
  {
   "cell_type": "code",
   "execution_count": 2,
   "metadata": {},
   "outputs": [
    {
     "ename": "TypeError",
     "evalue": "learn_optional() missing 1 required positional argument: 'arg'",
     "output_type": "error",
     "traceback": [
      "\u001b[1;31m---------------------------------------------------------------------------\u001b[0m",
      "\u001b[1;31mTypeError\u001b[0m                                 Traceback (most recent call last)",
      "Cell \u001b[1;32mIn[2], line 4\u001b[0m\n\u001b[0;32m      2\u001b[0m \u001b[39mdef\u001b[39;00m \u001b[39mlearn_optional\u001b[39m(arg):\n\u001b[0;32m      3\u001b[0m     \u001b[39mprint\u001b[39m(arg)\n\u001b[1;32m----> 4\u001b[0m learn_optional()\n",
      "\u001b[1;31mTypeError\u001b[0m: learn_optional() missing 1 required positional argument: 'arg'"
     ]
    }
   ],
   "source": [
    "def learn_optional(arg):\n",
    "    print(arg)\n",
    "learn_optional()"
   ]
  },
  {
   "cell_type": "code",
   "execution_count": 14,
   "metadata": {},
   "outputs": [
    {
     "name": "stdout",
     "output_type": "stream",
     "text": [
      "5\n"
     ]
    }
   ],
   "source": [
    "from typing import Optional\n",
    "def learn_optional(arg: Optional[int] = None):\n",
    "    print(arg)\n",
    "learn_optional(5)"
   ]
  },
  {
   "cell_type": "code",
   "execution_count": null,
   "metadata": {},
   "outputs": [],
   "source": [
    "# 尽管删除了类型注解，函数仍然可以正常运行，但使用类型注解可以提高代码的可读性、可维护性和可靠性\n",
    "# 类型注解可以帮助开发者理解函数的预期输入类型，同时也能提供静态类型检查工具的支持，帮助发现潜在的类型相关错误\n",
    "# 因此，建议在代码中保留类型注解以提高代码质量。"
   ]
  }
 ],
 "metadata": {
  "kernelspec": {
   "display_name": "base",
   "language": "python",
   "name": "python3"
  },
  "language_info": {
   "codemirror_mode": {
    "name": "ipython",
    "version": 3
   },
   "file_extension": ".py",
   "mimetype": "text/x-python",
   "name": "python",
   "nbconvert_exporter": "python",
   "pygments_lexer": "ipython3",
   "version": "3.11.3"
  },
  "orig_nbformat": 4
 },
 "nbformat": 4,
 "nbformat_minor": 2
}
