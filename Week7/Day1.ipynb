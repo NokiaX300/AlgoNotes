{
 "cells": [
  {
   "cell_type": "markdown",
   "metadata": {},
   "source": [
    "二叉树（一）\n",
    "\n",
    "https://labuladong.github.io/algo/di-yi-zhan-da78c/shou-ba-sh-66994/dong-ge-da-334dd/"
   ]
  },
  {
   "cell_type": "code",
   "execution_count": 17,
   "metadata": {},
   "outputs": [
    {
     "name": "stdout",
     "output_type": "stream",
     "text": [
      "Preorder 0\n",
      "Preorder 1\n",
      "Preorder 2\n",
      "Preorder 3\n",
      "Preorder 4\n",
      "Postorder 4\n",
      "Postorder 3\n",
      "Postorder 2\n",
      "Postorder 1\n",
      "Postorder 0\n"
     ]
    }
   ],
   "source": [
    "# 递归遍历数组\n",
    "from typing import List\n",
    "def traverse(arr: List[int], i: int):\n",
    "    if i == len(arr):\n",
    "        return\n",
    "    print('Preorder', end=' ')\n",
    "    print(i)\n",
    "\n",
    "    traverse(arr, i+1)\n",
    "\n",
    "    print('Postorder', end=' ')\n",
    "    print(i)\n",
    "\n",
    "traverse([1,2,3,4,5], 0)"
   ]
  },
  {
   "cell_type": "code",
   "execution_count": 22,
   "metadata": {},
   "outputs": [
    {
     "name": "stdout",
     "output_type": "stream",
     "text": [
      "Preorder 0\n",
      "Preorder 1\n",
      "Preorder 2\n",
      "Preorder 3\n",
      "Preorder 4\n",
      "Postorder 4\n",
      "Postorder 3\n",
      "Postorder 2\n",
      "Postorder 1\n",
      "Postorder 0\n"
     ]
    }
   ],
   "source": [
    "# 递归遍历单链表\n",
    "class ListNode:\n",
    "    def __init__(self, val) -> None:\n",
    "        self.val = val\n",
    "        self.next = None\n",
    "     \n",
    "    \n",
    "def traverse(head: ListNode):\n",
    "    if not head:\n",
    "        return\n",
    "    print('Preorder', end=' ')\n",
    "    print(head.val)\n",
    "    \n",
    "    traverse(head.next)\n",
    "\n",
    "    print('Postorder', end=' ')\n",
    "    print(head.val)\n",
    "\n",
    "dummy = ListNode(0)\n",
    "head = dummy\n",
    "for i in range(1, 5):\n",
    "    head.next = ListNode(i)\n",
    "    head = head.next\n",
    "\n",
    "traverse(dummy)"
   ]
  },
  {
   "cell_type": "code",
   "execution_count": 23,
   "metadata": {},
   "outputs": [
    {
     "name": "stdout",
     "output_type": "stream",
     "text": [
      "4\n",
      "3\n",
      "2\n",
      "1\n",
      "0\n"
     ]
    }
   ],
   "source": [
    "# 倒序打印一条单链表上所有节点的值\n",
    "class ListNode:\n",
    "    def __init__(self, val) -> None:\n",
    "        self.val = val\n",
    "        self.next = None\n",
    "        \n",
    "\n",
    "def traverse(head: ListNode) -> None:\n",
    "    if not head:\n",
    "        return\n",
    "    traverse(head.next)\n",
    "    print(head.val)\n",
    "\n",
    "dummy = ListNode(0)\n",
    "head = dummy\n",
    "for i in range(1, 5):\n",
    "    head.next = ListNode(i)\n",
    "    head = head.next\n",
    "\n",
    "traverse(dummy)"
   ]
  },
  {
   "cell_type": "code",
   "execution_count": null,
   "metadata": {},
   "outputs": [],
   "source": [
    "# 104. 二叉树的最大深度\n",
    "# https://leetcode.cn/problems/maximum-depth-of-binary-tree/description/\n",
    "\n",
    "# Definition for a binary tree node.\n",
    "class TreeNode:\n",
    "   def __init__(self, val=0, left=None, right=None):\n",
    "        self.val = val\n",
    "        self.left = left\n",
    "        self.right = right\n",
    "\n",
    "\n",
    "class Solution:\n",
    "    def maxDepth(self, root: Optional[TreeNode]) -> int:\n",
    "        pass"
   ]
  }
 ],
 "metadata": {
  "kernelspec": {
   "display_name": "base",
   "language": "python",
   "name": "python3"
  },
  "language_info": {
   "codemirror_mode": {
    "name": "ipython",
    "version": 3
   },
   "file_extension": ".py",
   "mimetype": "text/x-python",
   "name": "python",
   "nbconvert_exporter": "python",
   "pygments_lexer": "ipython3",
   "version": "3.11.3"
  },
  "orig_nbformat": 4
 },
 "nbformat": 4,
 "nbformat_minor": 2
}
