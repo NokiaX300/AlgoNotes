{
 "cells": [
  {
   "cell_type": "markdown",
   "metadata": {},
   "source": [
    "二叉树（一）\n",
    "\n",
    "https://labuladong.github.io/algo/di-yi-zhan-da78c/shou-ba-sh-66994/dong-ge-da-334dd/"
   ]
  },
  {
   "cell_type": "code",
   "execution_count": 17,
   "metadata": {},
   "outputs": [
    {
     "name": "stdout",
     "output_type": "stream",
     "text": [
      "Preorder 0\n",
      "Preorder 1\n",
      "Preorder 2\n",
      "Preorder 3\n",
      "Preorder 4\n",
      "Postorder 4\n",
      "Postorder 3\n",
      "Postorder 2\n",
      "Postorder 1\n",
      "Postorder 0\n"
     ]
    }
   ],
   "source": [
    "# 递归遍历数组\n",
    "from typing import List\n",
    "def traverse(arr: List[int], i: int):\n",
    "    if i == len(arr):\n",
    "        return\n",
    "    print('Preorder', end=' ')\n",
    "    print(i)\n",
    "\n",
    "    traverse(arr, i+1)\n",
    "\n",
    "    print('Postorder', end=' ')\n",
    "    print(i)\n",
    "\n",
    "traverse([1,2,3,4,5], 0)"
   ]
  },
  {
   "cell_type": "code",
   "execution_count": 22,
   "metadata": {},
   "outputs": [
    {
     "name": "stdout",
     "output_type": "stream",
     "text": [
      "Preorder 0\n",
      "Preorder 1\n",
      "Preorder 2\n",
      "Preorder 3\n",
      "Preorder 4\n",
      "Postorder 4\n",
      "Postorder 3\n",
      "Postorder 2\n",
      "Postorder 1\n",
      "Postorder 0\n"
     ]
    }
   ],
   "source": [
    "# 递归遍历单链表\n",
    "class ListNode:\n",
    "    def __init__(self, val) -> None:\n",
    "        self.val = val\n",
    "        self.next = None\n",
    "     \n",
    "    \n",
    "def traverse(head: ListNode):\n",
    "    if not head:\n",
    "        return\n",
    "    print('Preorder', end=' ')\n",
    "    print(head.val)\n",
    "    \n",
    "    traverse(head.next)\n",
    "\n",
    "    print('Postorder', end=' ')\n",
    "    print(head.val)\n",
    "\n",
    "dummy = ListNode(0)\n",
    "head = dummy\n",
    "for i in range(1, 5):\n",
    "    head.next = ListNode(i)\n",
    "    head = head.next\n",
    "\n",
    "traverse(dummy)"
   ]
  },
  {
   "cell_type": "code",
   "execution_count": 23,
   "metadata": {},
   "outputs": [
    {
     "name": "stdout",
     "output_type": "stream",
     "text": [
      "4\n",
      "3\n",
      "2\n",
      "1\n",
      "0\n"
     ]
    }
   ],
   "source": [
    "# 倒序打印一条单链表上所有节点的值\n",
    "class ListNode:\n",
    "    def __init__(self, val) -> None:\n",
    "        self.val = val\n",
    "        self.next = None\n",
    "        \n",
    "\n",
    "def traverse(head: ListNode) -> None:\n",
    "    if not head:\n",
    "        return\n",
    "    traverse(head.next)\n",
    "    print(head.val)\n",
    "\n",
    "dummy = ListNode(0)\n",
    "head = dummy\n",
    "for i in range(1, 5):\n",
    "    head.next = ListNode(i)\n",
    "    head = head.next\n",
    "\n",
    "traverse(dummy)"
   ]
  },
  {
   "cell_type": "code",
   "execution_count": 32,
   "metadata": {},
   "outputs": [],
   "source": [
    "# 104. 二叉树的最大深度\n",
    "# https://leetcode.cn/problems/maximum-depth-of-binary-tree/description/\n",
    "\n",
    "# 遍历思路\n",
    "# 没有返回值，靠更新外部变量来计算结果\n",
    "# Definition for a binary tree node.\n",
    "from typing import Optional\n",
    "class TreeNode:\n",
    "   def __init__(self, val=0, left=None, right=None):\n",
    "        self.val = val\n",
    "        self.left = left\n",
    "        self.right = right\n",
    "\n",
    "\n",
    "class Solution:\n",
    "    depth = 0\n",
    "    res = 0\n",
    "    def maxDepth(self, root: Optional[TreeNode]) -> int:\n",
    "        if not root:\n",
    "            return self.res\n",
    "        self.depth += 1\n",
    "        if not root.left and not root.right:\n",
    "            self.res = max(self.res, self.depth)\n",
    "        self.maxDepth(root.left)\n",
    "        self.maxDepth(root.right)\n",
    "        self.depth -= 1\n",
    "        return self.res"
   ]
  },
  {
   "cell_type": "code",
   "execution_count": 23,
   "metadata": {},
   "outputs": [
    {
     "name": "stdout",
     "output_type": "stream",
     "text": [
      "1\n"
     ]
    }
   ],
   "source": [
    "class Solution(object):\n",
    "    depth = 0\n",
    "    def change_depth(self):\n",
    "        self.depth += 1\n",
    "        return self.depth\n",
    "\n",
    "a = Solution().change_depth()\n",
    "print(a)"
   ]
  },
  {
   "cell_type": "code",
   "execution_count": 6,
   "metadata": {},
   "outputs": [
    {
     "name": "stdout",
     "output_type": "stream",
     "text": [
      "0\n",
      "1\n",
      "2\n",
      "2\n",
      "1\n",
      "0\n",
      "0\n"
     ]
    }
   ],
   "source": [
    "class Solution:\n",
    "    depth = 0\n",
    "    def test(self, i):\n",
    "        if i == 0:\n",
    "            return\n",
    "        print(self.depth)\n",
    "        self.depth += 1\n",
    "        self.test(i-1)\n",
    "        self.depth -= 1\n",
    "        print(self.depth)\n",
    "        return self.depth\n",
    "\n",
    "print(Solution().test(3))"
   ]
  },
  {
   "cell_type": "code",
   "execution_count": null,
   "metadata": {},
   "outputs": [],
   "source": [
    "# 104. 二叉树的最大深度\n",
    "# https://leetcode.cn/problems/maximum-depth-of-binary-tree/description/\n",
    "\n",
    "# 分解思路\n",
    "# 返回值是子问题的计算结果\n",
    "# Definition for a binary tree node.\n",
    "from typing import Optional\n",
    "class TreeNode:\n",
    "   def __init__(self, val=0, left=None, right=None):\n",
    "        self.val = val\n",
    "        self.left = left\n",
    "        self.right = right\n",
    "\n",
    "\n",
    "class Solution:\n",
    "    def maxDepth(self, root: Optional[TreeNode]) -> int:\n",
    "        if not root:\n",
    "            return 0\n",
    "        left = self.maxDepth(root.left)\n",
    "        right = self.maxDepth(root.right)\n",
    "        res = max(left, right) + 1\n",
    "        return res"
   ]
  },
  {
   "cell_type": "code",
   "execution_count": 6,
   "metadata": {},
   "outputs": [
    {
     "data": {
      "text/plain": [
       "[0, 1, 2, 3, 4, 7, 0, 3]"
      ]
     },
     "execution_count": 6,
     "metadata": {},
     "output_type": "execute_result"
    }
   ],
   "source": [
    "# 144. 二叉树的前序遍历\n",
    "# https://leetcode.cn/problems/binary-tree-preorder-traversal/description/\n",
    "\n",
    "# 前序遍历\n",
    "# Definition for a binary tree node.\n",
    "from typing import Optional\n",
    "from typing import List\n",
    "class TreeNode:\n",
    "    def __init__(self, val=0, left=None, right=None):\n",
    "        self.val = val\n",
    "        self.left = left\n",
    "        self.right = right\n",
    "\n",
    "\n",
    "class Solution:\n",
    "    res = []\n",
    "    def preorderTraversal(self, root: Optional[TreeNode]) -> List[int]:\n",
    "        if not root:\n",
    "            return []\n",
    "        self.res.append(root.val)\n",
    "        self.preorderTraversal(root.left)\n",
    "        self.preorderTraversal(root.right)\n",
    "        return self.res\n",
    "    \n",
    "dummy = TreeNode(0)\n",
    "head = dummy\n",
    "for i in range(1, 5):\n",
    "    if head.val == 3:\n",
    "        head.right = TreeNode(7)\n",
    "        head.right.left = TreeNode(0)\n",
    "        head.right.right = TreeNode(3)\n",
    "    head.left = TreeNode(i)\n",
    "    head = head.left\n",
    "\n",
    "Solution().preorderTraversal(dummy)\n"
   ]
  },
  {
   "cell_type": "code",
   "execution_count": null,
   "metadata": {},
   "outputs": [],
   "source": [
    "# 144. 二叉树的前序遍历\n",
    "# https://leetcode.cn/problems/binary-tree-preorder-traversal/description/\n",
    "\n",
    "# 前序遍历\n",
    "# Definition for a binary tree node.\n",
    "from typing import Optional\n",
    "from typing import List\n",
    "class TreeNode:\n",
    "    def __init__(self, val=0, left=None, right=None):\n",
    "        self.val = val\n",
    "        self.left = left\n",
    "        self.right = right\n",
    "\n",
    "\n",
    "class Solution:\n",
    "    def preorderTraversal(self, root: Optional[TreeNode]) -> List[int]:\n",
    "        pass"
   ]
  }
 ],
 "metadata": {
  "kernelspec": {
   "display_name": "base",
   "language": "python",
   "name": "python3"
  },
  "language_info": {
   "codemirror_mode": {
    "name": "ipython",
    "version": 3
   },
   "file_extension": ".py",
   "mimetype": "text/x-python",
   "name": "python",
   "nbconvert_exporter": "python",
   "pygments_lexer": "ipython3",
   "version": "3.11.3"
  },
  "orig_nbformat": 4
 },
 "nbformat": 4,
 "nbformat_minor": 2
}
