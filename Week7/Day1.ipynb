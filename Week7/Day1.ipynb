{
 "cells": [
  {
   "cell_type": "markdown",
   "metadata": {},
   "source": [
    "二叉树（一）\n",
    "\n",
    "https://labuladong.github.io/algo/di-yi-zhan-da78c/shou-ba-sh-66994/dong-ge-da-334dd/"
   ]
  },
  {
   "cell_type": "code",
   "execution_count": 17,
   "metadata": {},
   "outputs": [
    {
     "name": "stdout",
     "output_type": "stream",
     "text": [
      "Preorder 0\n",
      "Preorder 1\n",
      "Preorder 2\n",
      "Preorder 3\n",
      "Preorder 4\n",
      "Postorder 4\n",
      "Postorder 3\n",
      "Postorder 2\n",
      "Postorder 1\n",
      "Postorder 0\n"
     ]
    }
   ],
   "source": [
    "# 递归遍历数组\n",
    "from typing import List\n",
    "def traverse(arr: List[int], i: int):\n",
    "    if i == len(arr):\n",
    "        return\n",
    "    print('Preorder', end=' ')\n",
    "    print(i)\n",
    "\n",
    "    traverse(arr, i+1)\n",
    "\n",
    "    print('Postorder', end=' ')\n",
    "    print(i)\n",
    "\n",
    "traverse([1,2,3,4,5], 0)"
   ]
  },
  {
   "cell_type": "code",
   "execution_count": 22,
   "metadata": {},
   "outputs": [
    {
     "name": "stdout",
     "output_type": "stream",
     "text": [
      "Preorder 0\n",
      "Preorder 1\n",
      "Preorder 2\n",
      "Preorder 3\n",
      "Preorder 4\n",
      "Postorder 4\n",
      "Postorder 3\n",
      "Postorder 2\n",
      "Postorder 1\n",
      "Postorder 0\n"
     ]
    }
   ],
   "source": [
    "# 递归遍历单链表\n",
    "class ListNode:\n",
    "    def __init__(self, val) -> None:\n",
    "        self.val = val\n",
    "        self.next = None\n",
    "     \n",
    "    \n",
    "def traverse(head: ListNode):\n",
    "    if not head:\n",
    "        return\n",
    "    print('Preorder', end=' ')\n",
    "    print(head.val)\n",
    "    \n",
    "    traverse(head.next)\n",
    "\n",
    "    print('Postorder', end=' ')\n",
    "    print(head.val)\n",
    "\n",
    "dummy = ListNode(0)\n",
    "head = dummy\n",
    "for i in range(1, 5):\n",
    "    head.next = ListNode(i)\n",
    "    head = head.next\n",
    "\n",
    "traverse(dummy)"
   ]
  },
  {
   "cell_type": "code",
   "execution_count": 23,
   "metadata": {},
   "outputs": [
    {
     "name": "stdout",
     "output_type": "stream",
     "text": [
      "4\n",
      "3\n",
      "2\n",
      "1\n",
      "0\n"
     ]
    }
   ],
   "source": [
    "# 倒序打印一条单链表上所有节点的值\n",
    "class ListNode:\n",
    "    def __init__(self, val) -> None:\n",
    "        self.val = val\n",
    "        self.next = None\n",
    "        \n",
    "\n",
    "def traverse(head: ListNode) -> None:\n",
    "    if not head:\n",
    "        return\n",
    "    traverse(head.next)\n",
    "    print(head.val)\n",
    "\n",
    "dummy = ListNode(0)\n",
    "head = dummy\n",
    "for i in range(1, 5):\n",
    "    head.next = ListNode(i)\n",
    "    head = head.next\n",
    "\n",
    "traverse(dummy)"
   ]
  },
  {
   "cell_type": "code",
   "execution_count": 32,
   "metadata": {},
   "outputs": [],
   "source": [
    "# 104. 二叉树的最大深度\n",
    "# https://leetcode.cn/problems/maximum-depth-of-binary-tree/description/\n",
    "\n",
    "# 遍历\n",
    "# 没有返回值，靠更新外部变量来计算结果\n",
    "# Definition for a binary tree node.\n",
    "from typing import Optional\n",
    "class TreeNode:\n",
    "   def __init__(self, val=0, left=None, right=None):\n",
    "        self.val = val\n",
    "        self.left = left\n",
    "        self.right = right\n",
    "\n",
    "\n",
    "class Solution:\n",
    "    depth = 0\n",
    "    res = 0\n",
    "    def maxDepth(self, root: Optional[TreeNode]) -> int:\n",
    "        if not root:\n",
    "            return self.res\n",
    "        self.depth += 1\n",
    "        if not root.left and not root.right:\n",
    "            self.res = max(self.res, self.depth)\n",
    "        self.maxDepth(root.left)\n",
    "        self.maxDepth(root.right)\n",
    "        self.depth -= 1\n",
    "        return self.res"
   ]
  },
  {
   "cell_type": "code",
   "execution_count": 23,
   "metadata": {},
   "outputs": [
    {
     "name": "stdout",
     "output_type": "stream",
     "text": [
      "1\n"
     ]
    }
   ],
   "source": [
    "class Solution(object):\n",
    "    depth = 0\n",
    "    def change_depth(self):\n",
    "        self.depth += 1\n",
    "        return self.depth\n",
    "\n",
    "a = Solution().change_depth()\n",
    "print(a)"
   ]
  },
  {
   "cell_type": "code",
   "execution_count": 6,
   "metadata": {},
   "outputs": [
    {
     "name": "stdout",
     "output_type": "stream",
     "text": [
      "0\n",
      "1\n",
      "2\n",
      "2\n",
      "1\n",
      "0\n",
      "0\n"
     ]
    }
   ],
   "source": [
    "class Solution:\n",
    "    depth = 0\n",
    "    def test(self, i):\n",
    "        if i == 0:\n",
    "            return\n",
    "        print(self.depth)\n",
    "        self.depth += 1\n",
    "        self.test(i-1)\n",
    "        self.depth -= 1\n",
    "        print(self.depth)\n",
    "        return self.depth\n",
    "\n",
    "print(Solution().test(3))"
   ]
  },
  {
   "cell_type": "code",
   "execution_count": null,
   "metadata": {},
   "outputs": [],
   "source": [
    "# 104. 二叉树的最大深度\n",
    "# https://leetcode.cn/problems/maximum-depth-of-binary-tree/description/\n",
    "\n",
    "# 分解问题\n",
    "# 返回值是子问题的计算结果\n",
    "# Definition for a binary tree node.\n",
    "from typing import Optional\n",
    "class TreeNode:\n",
    "   def __init__(self, val=0, left=None, right=None):\n",
    "        self.val = val\n",
    "        self.left = left\n",
    "        self.right = right\n",
    "\n",
    "\n",
    "class Solution:\n",
    "    def maxDepth(self, root: Optional[TreeNode]) -> int:\n",
    "        if not root:\n",
    "            return 0\n",
    "        left = self.maxDepth(root.left)\n",
    "        right = self.maxDepth(root.right)\n",
    "        res = max(left, right) + 1\n",
    "        return res"
   ]
  },
  {
   "cell_type": "code",
   "execution_count": 2,
   "metadata": {},
   "outputs": [
    {
     "data": {
      "text/plain": [
       "[0, 1, 2, 3, 4, 7, 0, 3, 0, 1, 2, 3, 4, 7, 0, 3]"
      ]
     },
     "execution_count": 2,
     "metadata": {},
     "output_type": "execute_result"
    }
   ],
   "source": [
    "# 144. 二叉树的前序遍历\n",
    "# https://leetcode.cn/problems/binary-tree-preorder-traversal/description/\n",
    "\n",
    "# 前序遍历\n",
    "# res属性会一直保留上一次结果\n",
    "# Definition for a binary tree node.\n",
    "from typing import Optional\n",
    "from typing import List\n",
    "class TreeNode:\n",
    "    def __init__(self, val=0, left=None, right=None):\n",
    "        self.val = val\n",
    "        self.left = left\n",
    "        self.right = right\n",
    "\n",
    "\n",
    "'''class Solution:\n",
    "    res = []\n",
    "    def preorderTraversal(self, root: Optional[TreeNode]) -> List[int]:\n",
    "        if not root:\n",
    "            return []\n",
    "        self.res.append(root.val)\n",
    "        self.preorderTraversal(root.left)\n",
    "        self.preorderTraversal(root.right)\n",
    "        return self.res'''\n",
    "    \n",
    "dummy = TreeNode(0)\n",
    "head = dummy\n",
    "for i in range(1, 5):\n",
    "    if head.val == 3:\n",
    "        head.right = TreeNode(7)\n",
    "        head.right.left = TreeNode(0)\n",
    "        head.right.right = TreeNode(3)\n",
    "    head.left = TreeNode(i)\n",
    "    head = head.left\n",
    "\n",
    "Solution().preorderTraversal(dummy)"
   ]
  },
  {
   "cell_type": "code",
   "execution_count": null,
   "metadata": {},
   "outputs": [],
   "source": [
    "# 144. 二叉树的前序遍历\n",
    "# https://leetcode.cn/problems/binary-tree-preorder-traversal/description/\n",
    "\n",
    "# 前序遍历\n",
    "# Definition for a binary tree node.\n",
    "from typing import Optional\n",
    "from typing import List\n",
    "class TreeNode:\n",
    "    def __init__(self, val=0, left=None, right=None):\n",
    "        self.val = val\n",
    "        self.left = left\n",
    "        self.right = right\n",
    "\n",
    "\n",
    "class Solution:\n",
    "    def preorderTraversal(self, root: Optional[TreeNode]) -> List[int]:\n",
    "        res = []\n",
    "        def traverse(root):\n",
    "            if not root:\n",
    "                return\n",
    "            res.append(root.val)\n",
    "            traverse(root.left)\n",
    "            traverse(root.right)\n",
    "        traverse(root)\n",
    "        return res"
   ]
  },
  {
   "cell_type": "code",
   "execution_count": 3,
   "metadata": {},
   "outputs": [],
   "source": [
    "# 144. 二叉树的前序遍历\n",
    "# https://leetcode.cn/problems/binary-tree-preorder-traversal/description/\n",
    "\n",
    "# 分解问题\n",
    "# 一棵二叉树的前序遍历结果 = 根节点 + 左子树的前序遍历结果 + 右子树的前序遍历结果\n",
    "# Definition for a binary tree node.\n",
    "from typing import Optional\n",
    "from typing import List\n",
    "class TreeNode:\n",
    "    def __init__(self, val=0, left=None, right=None):\n",
    "        self.val = val\n",
    "        self.left = left\n",
    "        self.right = right\n",
    "\n",
    "\n",
    "class Solution:\n",
    "    def preorderTraversal(self, root: Optional[TreeNode]) -> List[int]:\n",
    "        res = []\n",
    "        if not root:\n",
    "            return res\n",
    "        res.append(root.val)\n",
    "        left = self.preorderTraversal(root.left)\n",
    "        right = self.preorderTraversal(root.right)\n",
    "        res.extend(left)\n",
    "        res.extend(right)\n",
    "        return res"
   ]
  },
  {
   "cell_type": "code",
   "execution_count": null,
   "metadata": {},
   "outputs": [],
   "source": [
    "# 一旦你发现题目和子树有关，那大概率要给函数设置合理的定义和返回值，在后序位置写代码了\n",
    "\n",
    "# 二叉树的节点总数\n",
    "def count(root: TreeNode) -> int:\n",
    "    if not root:\n",
    "        return 0\n",
    "    left = count(root.left)\n",
    "    right = count(root.right)\n",
    "    return left + right + 1"
   ]
  },
  {
   "cell_type": "code",
   "execution_count": null,
   "metadata": {},
   "outputs": [],
   "source": [
    "# 543. 二叉树的直径\n",
    "# https://leetcode.cn/problems/diameter-of-binary-tree/description/\n",
    "\n",
    "# 每一条二叉树的「直径」长度，就是一个节点的左右子树的最大深度之和\n",
    "# Definition for a binary tree node.\n",
    "class TreeNode:\n",
    "    def __init__(self, val=0, left=None, right=None):\n",
    "        self.val = val\n",
    "        self.left = left\n",
    "        self.right = right\n",
    "\n",
    "\n",
    "class Solution:\n",
    "    def __init__(self) -> None:\n",
    "        self.maxDiameter = 0\n",
    "\n",
    "    def diameterOfBinaryTree(self, root: Optional[TreeNode]) -> int:\n",
    "        self.maxDepth(root)\n",
    "        return self.maxDiameter\n",
    "    \n",
    "    def maxDepth(self, root: TreeNode) -> int:\n",
    "        if not root:\n",
    "            return 0\n",
    "        leftMax = self.maxDepth(root.left)\n",
    "        rightMax = self.maxDepth(root.right)\n",
    "        myDiameter = leftMax + rightMax\n",
    "        self.maxDiameter = max(self.maxDiameter, myDiameter)\n",
    "        return max(leftMax, rightMax) + 1"
   ]
  },
  {
   "cell_type": "code",
   "execution_count": null,
   "metadata": {},
   "outputs": [],
   "source": [
    "# 动态规划算法属于分解问题的思路，它的关注点在整棵「子树」"
   ]
  },
  {
   "cell_type": "code",
   "execution_count": 1,
   "metadata": {},
   "outputs": [],
   "source": [
    "# 二叉树的节点总数\n",
    "def count(root):\n",
    "    if not root:\n",
    "        return 0 \n",
    "    leftMax = count(root.left)\n",
    "    rightMax = count(root.right)\n",
    "    return leftMax + rightMax + 1"
   ]
  },
  {
   "cell_type": "code",
   "execution_count": 7,
   "metadata": {},
   "outputs": [
    {
     "data": {
      "text/plain": [
       "8"
      ]
     },
     "execution_count": 7,
     "metadata": {},
     "output_type": "execute_result"
    }
   ],
   "source": [
    "# Fibonacci\n",
    "def fib(N: int) -> int:\n",
    "    if N <= 2:\n",
    "        return 1\n",
    "    return fib(N-1) + fib(N-2)\n",
    "fib(6)"
   ]
  },
  {
   "cell_type": "code",
   "execution_count": null,
   "metadata": {},
   "outputs": [],
   "source": [
    "# DFS 算法属于遍历的思路，它的关注点在单个「节点」"
   ]
  },
  {
   "cell_type": "code",
   "execution_count": null,
   "metadata": {},
   "outputs": [],
   "source": [
    "# 每个节点的值都加一\n",
    "def traverse(root):\n",
    "    if not root:\n",
    "        return\n",
    "    root.val += 1\n",
    "    traverse(root.left)\n",
    "    traverse(root.right)"
   ]
  },
  {
   "cell_type": "code",
   "execution_count": null,
   "metadata": {},
   "outputs": [],
   "source": [
    "# DFS 算法把「做选择」「撤销选择」的逻辑放在 for 循环外面\n",
    "def dfs(root):\n",
    "    if root is None:\n",
    "        return\n",
    "    # 做选择\n",
    "    print(\"我已经进入节点 %s 啦\" % root)\n",
    "    for child in root.children:\n",
    "        dfs(child)\n",
    "    # 撤销选择\n",
    "    print(\"我将要离开节点 %s 啦\" % root)\n",
    "\n",
    "\n",
    "# 回溯算法把「做选择」「撤销选择」的逻辑放在 for 循环里面\n",
    "def backtrack(root):\n",
    "    if root is None:\n",
    "        return\n",
    "    for child in root.children:\n",
    "        # 做选择\n",
    "        print(\"我站在节点 %s 到节点 %s 的树枝上\" % (root, child))\n",
    "        backtrack(child)\n",
    "        # 撤销选择\n",
    "        print(\"我站在节点 %s 到节点 %s 的树枝上\" % (child, root))"
   ]
  },
  {
   "cell_type": "code",
   "execution_count": null,
   "metadata": {},
   "outputs": [],
   "source": [
    "# 102. 二叉树的层序遍历\n",
    "# https://leetcode.cn/problems/binary-tree-level-order-traversal/\n",
    "\n",
    "# Definition for a binary tree node.\n",
    "class TreeNode:\n",
    "    def __init__(self, val=0, left=None, right=None):\n",
    "        self.val = val\n",
    "        self.left = left\n",
    "        self.right = right\n",
    "\n",
    "\n",
    "class Solution:\n",
    "    def levelOrder(self, root: Optional[TreeNode]) -> List[List[int]]:\n",
    "        if not root:\n",
    "            return []\n",
    "        q = [root]\n",
    "        res_list = []\n",
    "        while q:\n",
    "            res = []\n",
    "            for _ in range(len(q)):\n",
    "                node = q.pop(0)\n",
    "                res.append(node.val)\n",
    "                if node.left:\n",
    "                    q.append(node.left)\n",
    "                if node.right:\n",
    "                    q.append(node.right)\n",
    "            res_list.append(res)\n",
    "        return res_list"
   ]
  }
 ],
 "metadata": {
  "kernelspec": {
   "display_name": "base",
   "language": "python",
   "name": "python3"
  },
  "language_info": {
   "codemirror_mode": {
    "name": "ipython",
    "version": 3
   },
   "file_extension": ".py",
   "mimetype": "text/x-python",
   "name": "python",
   "nbconvert_exporter": "python",
   "pygments_lexer": "ipython3",
   "version": "3.11.3"
  },
  "orig_nbformat": 4
 },
 "nbformat": 4,
 "nbformat_minor": 2
}
