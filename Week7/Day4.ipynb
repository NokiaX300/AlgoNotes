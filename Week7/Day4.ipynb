{
 "cells": [
  {
   "cell_type": "markdown",
   "metadata": {},
   "source": [
    "二叉树（四）\n",
    "\n",
    "https://labuladong.github.io/algo/di-yi-zhan-da78c/shou-ba-sh-66994/dong-ge-da-d14d3/"
   ]
  },
  {
   "cell_type": "code",
   "execution_count": null,
   "metadata": {},
   "outputs": [],
   "source": [
    "# 所谓的序列化不过就是把结构化的数据「打平」，本质就是在考察二叉树的遍历方式"
   ]
  },
  {
   "cell_type": "code",
   "execution_count": 1,
   "metadata": {},
   "outputs": [],
   "source": [
    "# 297. 二叉树的序列化与反序列化\n",
    "# https://leetcode.cn/problems/serialize-and-deserialize-binary-tree/\n",
    "\n",
    "# 前序遍历\n",
    "# Definition for a binary tree node.\n",
    "class TreeNode(object):\n",
    "    def __init__(self, x):\n",
    "        self.val = x\n",
    "        self.left = None\n",
    "        self.right = None\n",
    "\n",
    "\n",
    "class Codec:\n",
    "    def serialize(self, root: TreeNode):\n",
    "        \"\"\"Encodes a tree to a single string.\n",
    "        \n",
    "        :type root: TreeNode\n",
    "        :rtype: str\n",
    "        \"\"\"\n",
    "        def help1(root: TreeNode, rootList: list):\n",
    "            if not root:\n",
    "                rootList.append('None')\n",
    "                return rootList\n",
    "            rootList.append(str(root.val))\n",
    "            help1(root.left, rootList)\n",
    "            help1(root.right, rootList)\n",
    "            return rootList\n",
    "        return ','.join(help1(root, []))\n",
    "\n",
    "    def deserialize(self, data: str):\n",
    "        \"\"\"Decodes your encoded data to tree.\n",
    "        \n",
    "        :type data: str\n",
    "        :rtype: TreeNode\n",
    "        \"\"\"\n",
    "        def help2(rootList):\n",
    "            if not rootList:\n",
    "                return\n",
    "            first = rootList.pop(0)\n",
    "            if first == 'None':\n",
    "                return\n",
    "            root = TreeNode(int(first))\n",
    "            root.left = help2(rootList)\n",
    "            root.right = help2(rootList)\n",
    "            return root\n",
    "        return help2(data.split(','))\n",
    "        \n",
    "\n",
    "# Your Codec object will be instantiated and called as such:\n",
    "# ser = Codec()\n",
    "# deser = Codec()\n",
    "# ans = deser.deserialize(ser.serialize(root))"
   ]
  },
  {
   "cell_type": "markdown",
   "metadata": {},
   "source": [
    "<img src=\"297.png\" style=\"zoom:50%\" />"
   ]
  },
  {
   "cell_type": "code",
   "execution_count": 36,
   "metadata": {},
   "outputs": [
    {
     "data": {
      "text/plain": [
       "'1,2,None,4,None,None,3,None,None'"
      ]
     },
     "execution_count": 36,
     "metadata": {},
     "output_type": "execute_result"
    }
   ],
   "source": [
    "dummy = TreeNode(1)\n",
    "head = dummy\n",
    "head.left = TreeNode(2)\n",
    "head.left.right = TreeNode(4)\n",
    "head.right = TreeNode(3)\n",
    "\n",
    "Codec().serialize(dummy)"
   ]
  },
  {
   "cell_type": "code",
   "execution_count": 17,
   "metadata": {},
   "outputs": [
    {
     "name": "stdout",
     "output_type": "stream",
     "text": [
      "1\n"
     ]
    }
   ],
   "source": [
    "st = ''\n",
    "if not st:\n",
    "    print('1')"
   ]
  },
  {
   "cell_type": "code",
   "execution_count": 9,
   "metadata": {},
   "outputs": [
    {
     "name": "stdout",
     "output_type": "stream",
     "text": [
      "['']\n",
      "1\n"
     ]
    }
   ],
   "source": [
    "data = ''\n",
    "lis = data.split(',')\n",
    "print(lis)\n",
    "if lis:\n",
    "    print('1')"
   ]
  },
  {
   "cell_type": "code",
   "execution_count": null,
   "metadata": {},
   "outputs": [],
   "source": [
    "class Codec:\n",
    "    def serialize(self, root: TreeNode):\n",
    "        global a\n",
    "        a = root\n",
    "        return ''\n",
    "\n",
    "    def deserialize(self, data: str):\n",
    "        return a"
   ]
  },
  {
   "cell_type": "code",
   "execution_count": 7,
   "metadata": {},
   "outputs": [],
   "source": [
    "# 297. 二叉树的序列化与反序列化\n",
    "# https://leetcode.cn/problems/serialize-and-deserialize-binary-tree/\n",
    "\n",
    "# 后序遍历\n",
    "# Definition for a binary tree node.\n",
    "class TreeNode(object):\n",
    "    def __init__(self, x):\n",
    "        self.val = x\n",
    "        self.left = None\n",
    "        self.right = None\n",
    "\n",
    "\n",
    "class Codec:\n",
    "    def serialize(self, root: TreeNode):\n",
    "        \"\"\"Encodes a tree to a single string.\n",
    "        \n",
    "        :type root: TreeNode\n",
    "        :rtype: str\n",
    "        \"\"\"\n",
    "        def help1(root: TreeNode, rootList: list):\n",
    "            if not root:\n",
    "                rootList.append('None')\n",
    "                return rootList\n",
    "            help1(root.left, rootList)\n",
    "            help1(root.right, rootList)\n",
    "            rootList.append(str(root.val))\n",
    "            return rootList\n",
    "        return ','.join(help1(root, []))\n",
    "        \n",
    "    def deserialize(self, data: str):\n",
    "        \"\"\"Decodes your encoded data to tree.\n",
    "        \n",
    "        :type data: str\n",
    "        :rtype: TreeNode\n",
    "        \"\"\"\n",
    "        def help2(rootList: list):\n",
    "            if not rootList:\n",
    "                return\n",
    "            final = rootList.pop()\n",
    "            if final == 'None':\n",
    "                return\n",
    "            root = TreeNode(int(final))\n",
    "            root.right = help2(rootList) # 先构造root.right子树，后构造root.left子树\n",
    "            root.left = help2(rootList)\n",
    "            return root\n",
    "        return help2(data.split(','))\n",
    "\n",
    "\n",
    "# Your Codec object will be instantiated and called as such:\n",
    "# ser = Codec()\n",
    "# deser = Codec()\n",
    "# ans = deser.deserialize(ser.serialize(root))"
   ]
  },
  {
   "cell_type": "markdown",
   "metadata": {},
   "source": [
    "<img src=\"297(2).png\" style=\"zoom:50%\" />"
   ]
  },
  {
   "cell_type": "code",
   "execution_count": 8,
   "metadata": {},
   "outputs": [
    {
     "data": {
      "text/plain": [
       "'None,None,None,4,2,None,None,3,1'"
      ]
     },
     "execution_count": 8,
     "metadata": {},
     "output_type": "execute_result"
    }
   ],
   "source": [
    "dummy = TreeNode(1)\n",
    "head = dummy\n",
    "head.left = TreeNode(2)\n",
    "head.left.right = TreeNode(4)\n",
    "head.right = TreeNode(3)\n",
    "\n",
    "Codec().serialize(dummy)"
   ]
  },
  {
   "cell_type": "code",
   "execution_count": 11,
   "metadata": {},
   "outputs": [],
   "source": [
    "# 297. 二叉树的序列化与反序列化\n",
    "# https://leetcode.cn/problems/serialize-and-deserialize-binary-tree/\n",
    "\n",
    "# 中序遍历\n",
    "# Definition for a binary tree node.\n",
    "class TreeNode(object):\n",
    "    def __init__(self, x):\n",
    "        self.val = x\n",
    "        self.left = None\n",
    "        self.right = None\n",
    "\n",
    "\n",
    "class Codec:\n",
    "    def serialize(self, root: TreeNode):\n",
    "        \"\"\"Encodes a tree to a single string.\n",
    "        \n",
    "        :type root: TreeNode\n",
    "        :rtype: str\n",
    "        \"\"\"  \n",
    "        def help1(root: TreeNode, rootList: list):\n",
    "            if not root:\n",
    "                rootList.append('None')\n",
    "                return rootList\n",
    "            help1(root.left, rootList)\n",
    "            rootList.append(str(root.val))\n",
    "            help1(root.right, rootList)\n",
    "            return rootList\n",
    "        return ','.join(help1(root, []))\n",
    "        \n",
    "    def deserialize(self, data: str):\n",
    "        \"\"\"Decodes your encoded data to tree.\n",
    "        \n",
    "        :type data: str\n",
    "        :rtype: TreeNode\n",
    "        \"\"\"\n",
    "        pass\n",
    "    # 无法进行反序列化\n",
    "        \n",
    "\n",
    "# Your Codec object will be instantiated and called as such:\n",
    "# ser = Codec()\n",
    "# deser = Codec()\n",
    "# ans = deser.deserialize(ser.serialize(root))"
   ]
  },
  {
   "cell_type": "code",
   "execution_count": 12,
   "metadata": {},
   "outputs": [
    {
     "data": {
      "text/plain": [
       "'None,2,None,4,None,1,None,3,None'"
      ]
     },
     "execution_count": 12,
     "metadata": {},
     "output_type": "execute_result"
    }
   ],
   "source": [
    "dummy = TreeNode(1)\n",
    "head = dummy\n",
    "head.left = TreeNode(2)\n",
    "head.left.right = TreeNode(4)\n",
    "head.right = TreeNode(3)\n",
    "\n",
    "Codec().serialize(dummy)"
   ]
  },
  {
   "cell_type": "code",
   "execution_count": null,
   "metadata": {},
   "outputs": [],
   "source": [
    "# 297. 二叉树的序列化与反序列化\n",
    "# https://leetcode.cn/problems/serialize-and-deserialize-binary-tree/\n",
    "\n",
    "# 层级遍历\n",
    "# Definition for a binary tree node.\n",
    "class TreeNode(object):\n",
    "    def __init__(self, x):\n",
    "        self.val = x\n",
    "        self.left = None\n",
    "        self.right = None\n",
    "\n",
    "\n",
    "class Codec:\n",
    "    def serialize(self, root: TreeNode):\n",
    "        \"\"\"Encodes a tree to a single string.\n",
    "        \n",
    "        :type root: TreeNode\n",
    "        :rtype: str\n",
    "        \"\"\"  \n",
    "        pass\n",
    "          \n",
    "    def deserialize(self, data: str):\n",
    "        \"\"\"Decodes your encoded data to tree.\n",
    "        \n",
    "        :type data: str\n",
    "        :rtype: TreeNode\n",
    "        \"\"\"\n",
    "        pass\n",
    "        \n",
    "\n",
    "# Your Codec object will be instantiated and called as such:\n",
    "# ser = Codec()\n",
    "# deser = Codec()\n",
    "# ans = deser.deserialize(ser.serialize(root))"
   ]
  }
 ],
 "metadata": {
  "kernelspec": {
   "display_name": "base",
   "language": "python",
   "name": "python3"
  },
  "language_info": {
   "codemirror_mode": {
    "name": "ipython",
    "version": 3
   },
   "file_extension": ".py",
   "mimetype": "text/x-python",
   "name": "python",
   "nbconvert_exporter": "python",
   "pygments_lexer": "ipython3",
   "version": "3.11.3"
  },
  "orig_nbformat": 4
 },
 "nbformat": 4,
 "nbformat_minor": 2
}
