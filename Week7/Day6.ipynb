{
 "cells": [
  {
   "cell_type": "markdown",
   "metadata": {},
   "source": [
    "二叉树（三）\n",
    "\n",
    "https://labuladong.github.io/algo/di-yi-zhan-da78c/shou-ba-sh-66994/dong-ge-da-172f0/"
   ]
  },
  {
   "cell_type": "code",
   "execution_count": null,
   "metadata": {},
   "outputs": [],
   "source": [
    "# 654. 最大二叉树\n",
    "# https://leetcode.cn/problems/maximum-binary-tree/\n",
    "\n",
    "# Definition for a binary tree node.\n",
    "from typing import List\n",
    "class TreeNode:\n",
    "    def __init__(self, val=0, left=None, right=None):\n",
    "        self.val = val\n",
    "        self.left = left\n",
    "        self.right = right\n",
    "\n",
    "\n",
    "class Solution:\n",
    "    def constructMaximumBinaryTree(self, nums: List[int]) -> Optional[TreeNode]:\n",
    "        def build(nums: List[int], lo: int, hi: int):\n",
    "            if lo > hi:\n",
    "                return\n",
    "            root = TreeNode(max(nums[lo: hi+1]))\n",
    "            idx = nums.index(max(nums[lo: hi+1]))\n",
    "            root.left = build(nums, lo, idx-1)\n",
    "            root.right = build(nums, idx+1, hi)\n",
    "            return root\n",
    "        return build(nums, 0, len(nums)-1)"
   ]
  },
  {
   "cell_type": "code",
   "execution_count": null,
   "metadata": {},
   "outputs": [],
   "source": [
    "# 105. 从前序与中序遍历序列构造二叉树\n",
    "# https://leetcode.cn/problems/construct-binary-tree-from-preorder-and-inorder-traversal/\n",
    "\n",
    "# preorder 和 inorder 均 无重复 元素\n",
    "# Definition for a binary tree node.\n",
    "class TreeNode:\n",
    "    def __init__(self, val=0, left=None, right=None):\n",
    "        self.val = val\n",
    "        self.left = left\n",
    "        self.right = right\n",
    "\n",
    "\n",
    "class Solution:\n",
    "    def buildTree(self, preorder: List[int], inorder: List[int]) -> Optional[TreeNode]:\n",
    "        valToIndex = {}\n",
    "        for i in range(len(inorder)):\n",
    "            valToIndex[inorder[i]] = i\n",
    "        def build(preorder, pre_start, pre_end, inorder, in_start, in_end):\n",
    "            if pre_start > pre_end:\n",
    "                return\n",
    "            root = TreeNode(preorder[pre_start])\n",
    "            idx = valToIndex[root.val]\n",
    "            root.left = build(preorder, pre_start+1, pre_start+idx-in_start, inorder, in_start, idx-1)\n",
    "            root.right = build(preorder, 1+pre_start+idx-in_start, pre_end, inorder, idx+1, in_end)\n",
    "            return root\n",
    "        return build(preorder, 0, len(preorder)-1, inorder, 0, len(inorder)-1)"
   ]
  },
  {
   "cell_type": "markdown",
   "metadata": {},
   "source": [
    "<img src=\"105.png\" style=\"zoom:50%\" />"
   ]
  },
  {
   "cell_type": "code",
   "execution_count": null,
   "metadata": {},
   "outputs": [],
   "source": [
    "# 106. 从中序与后序遍历序列构造二叉树\n",
    "# https://leetcode.cn/problems/construct-binary-tree-from-inorder-and-postorder-traversal/\n",
    "\n",
    "# Definition for a binary tree node.\n",
    "class TreeNode:\n",
    "    def __init__(self, val=0, left=None, right=None):\n",
    "        self.val = val\n",
    "        self.left = left\n",
    "        self.right = right\n",
    "\n",
    "\n",
    "class Solution:\n",
    "    def buildTree(self, inorder: List[int], postorder: List[int]) -> Optional[TreeNode]:\n",
    "        valToIndex = {}\n",
    "        for i in range(len(inorder)):\n",
    "            valToIndex[inorder[i]] = i\n",
    "        def build(postorder, po_start, po_end, inorder, in_start, in_end):\n",
    "            if po_start > po_end:\n",
    "                return\n",
    "            root = TreeNode(postorder[po_end])\n",
    "            idx = valToIndex[root.val]\n",
    "            root.left = build(postorder, po_start, po_start+idx-1-in_start, inorder, in_start, idx-1)\n",
    "            root.right = build(postorder, po_start+idx-in_start, po_end-1, inorder, idx+1, in_end)\n",
    "            return root\n",
    "        return build(postorder, 0, len(postorder)-1, inorder, 0, len(inorder)-1)"
   ]
  },
  {
   "cell_type": "markdown",
   "metadata": {},
   "source": [
    "<img src=\"106.png\" style=\"zoom:50%\" />"
   ]
  },
  {
   "cell_type": "code",
   "execution_count": null,
   "metadata": {},
   "outputs": [],
   "source": [
    "# 889. 根据前序和后序遍历构造二叉树\n",
    "# https://leetcode.cn/problems/construct-binary-tree-from-preorder-and-postorder-traversal/\n",
    "\n",
    "# 通过前序后序遍历结果无法确定唯一的原始二叉树\n",
    "# Definition for a binary tree node.\n",
    "class TreeNode:\n",
    "    def __init__(self, val=0, left=None, right=None):\n",
    "        self.val = val\n",
    "        self.left = left\n",
    "        self.right = right\n",
    "\n",
    "\n",
    "class Solution:\n",
    "    def constructFromPrePost(self, preorder: List[int], postorder: List[int]) -> Optional[TreeNode]:\n",
    "        valToIndex = {}\n",
    "        for i in range(len(postorder)):\n",
    "            valToIndex[postorder[i]] = i\n",
    "        def build(preorder, pre_start, pre_end, postorder, po_start, po_end):\n",
    "            if pre_start > pre_end:\n",
    "                return\n",
    "            if pre_start == pre_end:\n",
    "                return TreeNode(preorder[pre_start])\n",
    "            root = TreeNode(preorder[pre_start])\n",
    "            left_val = preorder[pre_start+1] # 左子树有可能是空指针，那么这个元素就应该是右子树的根节点，此处导致了最终答案的不唯一\n",
    "            idx = valToIndex[left_val]\n",
    "            root.left = build(preorder, pre_start+1, pre_start+idx-po_start+1, postorder, po_start, idx)\n",
    "            root.right = build(preorder, pre_start+idx-po_start+2, pre_end, postorder, idx+1, po_end-1)\n",
    "            return root\n",
    "        return build(preorder, 0, len(preorder)-1, postorder, 0, len(postorder)-1)"
   ]
  },
  {
   "cell_type": "markdown",
   "metadata": {},
   "source": [
    "<img src=\"889.png\" style=\"zoom:50%\" />"
   ]
  }
 ],
 "metadata": {
  "kernelspec": {
   "display_name": "base",
   "language": "python",
   "name": "python3"
  },
  "language_info": {
   "name": "python",
   "version": "3.11.3"
  },
  "orig_nbformat": 4
 },
 "nbformat": 4,
 "nbformat_minor": 2
}
