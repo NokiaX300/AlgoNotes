{
 "cells": [
  {
   "cell_type": "markdown",
   "metadata": {},
   "source": [
    "二叉树（五）\n",
    "\n",
    "https://labuladong.github.io/algo/di-yi-zhan-da78c/shou-ba-sh-66994/dong-ge-da-c5ca4/"
   ]
  },
  {
   "cell_type": "code",
   "execution_count": 1,
   "metadata": {},
   "outputs": [],
   "source": [
    "# 一旦你发现题目和子树有关，那大概率要给函数设置合理的定义和返回值，在后序位置写代码了"
   ]
  },
  {
   "cell_type": "code",
   "execution_count": null,
   "metadata": {},
   "outputs": [],
   "source": [
    "# 652. 寻找重复的子树\n",
    "# https://leetcode.cn/problems/find-duplicate-subtrees/\n",
    "\n",
    "# Definition for a binary tree node.\n",
    "from collections import defaultdict\n",
    "class TreeNode:\n",
    "    def __init__(self, val=0, left=None, right=None):\n",
    "        self.val = val\n",
    "        self.left = left\n",
    "        self.right = right\n",
    "\n",
    "\n",
    "class Solution:\n",
    "    def findDuplicateSubtrees(self, root: Optional[TreeNode]) -> List[Optional[TreeNode]]:\n",
    "        res = []\n",
    "        freq = defaultdict(int)\n",
    "        def traverse(root: TreeNode):\n",
    "            if not root:\n",
    "                return '#'\n",
    "            left = traverse(root.left)\n",
    "            right = traverse(root.right)\n",
    "            subTree = left + ',' + right + ',' + str(root.val)\n",
    "            freq[subTree] += 1\n",
    "            if freq[subTree] == 2:\n",
    "                res.append(root)\n",
    "            return subTree\n",
    "        traverse(root)\n",
    "        return res"
   ]
  },
  {
   "cell_type": "code",
   "execution_count": 1,
   "metadata": {},
   "outputs": [
    {
     "name": "stdout",
     "output_type": "stream",
     "text": [
      "<class 'str'>\n",
      "54Z31O0XE1EH\n"
     ]
    }
   ],
   "source": [
    "import random\n",
    "import string\n",
    "\n",
    "def generate_random_password(length=12):\n",
    "    characters = string.ascii_uppercase + string.digits\n",
    "    print(type(characters))\n",
    "    password = ''.join(random.choice(characters) for _ in range(length))\n",
    "    return password\n",
    "\n",
    "password = generate_random_password()\n",
    "print(password)"
   ]
  },
  {
   "cell_type": "code",
   "execution_count": null,
   "metadata": {},
   "outputs": [],
   "source": [
    "def findDuplicateSubtrees(self, root: Optional[TreeNode]) -> List[Optional[TreeNode]]:\n",
    "    map = set()\n",
    "    res = []\n",
    "    def traverse(root: TreeNode):\n",
    "        if not root:\n",
    "            return '#'\n",
    "        left = traverse(root.left)\n",
    "        right = traverse(root.right)\n",
    "        subTree = left + ',' + right + ',' + str(root.val)\n",
    "        if subTree in map:\n",
    "            res.append(root) # 如果出现多棵重复的子树，结果集res中必然出现重复\n",
    "        else:\n",
    "            map.add(subTree)\n",
    "        return subTree"
   ]
  },
  {
   "cell_type": "code",
   "execution_count": 5,
   "metadata": {},
   "outputs": [
    {
     "name": "stdout",
     "output_type": "stream",
     "text": [
      "<class 'dict'> 0\n",
      "<class 'set'> 1\n",
      "<class 'set'> 0\n"
     ]
    }
   ],
   "source": [
    "a = {}\n",
    "print(type(a), len(a))\n",
    "b = {None}\n",
    "print(type(b), len(b))\n",
    "c = set()\n",
    "print(type(c), len(c))"
   ]
  },
  {
   "cell_type": "code",
   "execution_count": 10,
   "metadata": {},
   "outputs": [
    {
     "name": "stdout",
     "output_type": "stream",
     "text": [
      "0\n"
     ]
    }
   ],
   "source": [
    "from collections import defaultdict\n",
    "a = defaultdict(int)\n",
    "print(a['sad'])"
   ]
  }
 ],
 "metadata": {
  "kernelspec": {
   "display_name": "base",
   "language": "python",
   "name": "python3"
  },
  "language_info": {
   "codemirror_mode": {
    "name": "ipython",
    "version": 3
   },
   "file_extension": ".py",
   "mimetype": "text/x-python",
   "name": "python",
   "nbconvert_exporter": "python",
   "pygments_lexer": "ipython3",
   "version": "3.11.3"
  },
  "orig_nbformat": 4
 },
 "nbformat": 4,
 "nbformat_minor": 2
}
