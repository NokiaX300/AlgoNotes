{
 "cells": [
  {
   "cell_type": "code",
   "execution_count": null,
   "metadata": {},
   "outputs": [],
   "source": [
    "# 724. 寻找数组的中心下标\n",
    "# https://leetcode.cn/problems/find-pivot-index/\n",
    "\n",
    "class Solution:\n",
    "    def pivotIndex(self, nums: List[int]) -> int:\n",
    "        left = 0\n",
    "        right = sum(nums)\n",
    "        for i in range(len(nums)):\n",
    "            left += nums[i-1] if i>=1 else 0\n",
    "            right -= nums[i]\n",
    "            if left == right:\n",
    "                return i\n",
    "        return -1"
   ]
  },
  {
   "cell_type": "code",
   "execution_count": null,
   "metadata": {},
   "outputs": [],
   "source": [
    "# 122. 买卖股票的最佳时机 II\n",
    "# https://leetcode.cn/problems/best-time-to-buy-and-sell-stock-ii/\n",
    "\n",
    "class Solution:\n",
    "    def maxProfit(self, prices: List[int]) -> int:\n",
    "        money = 0\n",
    "        for i in range(len(prices)-1):\n",
    "            if prices[i+1] - prices[i] > 0:\n",
    "                money += prices[i+1] - prices[i]\n",
    "        return money"
   ]
  },
  {
   "cell_type": "code",
   "execution_count": null,
   "metadata": {},
   "outputs": [],
   "source": [
    "# 14. 最长公共前缀\n",
    "# https://leetcode.cn/problems/longest-common-prefix/\n",
    "\n",
    "from typing import List\n",
    "class Solution:\n",
    "    def longestCommonPrefix(self, strs: List[str]) -> str:\n",
    "        res = ''\n",
    "        for ele in zip(*strs):\n",
    "            if len(set(ele)) == 1:\n",
    "                res += ele[0]\n",
    "            else:\n",
    "                break\n",
    "        return res"
   ]
  },
  {
   "cell_type": "code",
   "execution_count": 3,
   "metadata": {},
   "outputs": [
    {
     "name": "stdout",
     "output_type": "stream",
     "text": [
      "('f', 'f', 'f')\n",
      "<class 'tuple'>\n",
      "('l', 'l', 'l')\n",
      "<class 'tuple'>\n",
      "('o', 'o', 'i')\n",
      "<class 'tuple'>\n",
      "('w', 'w', 'g')\n",
      "<class 'tuple'>\n"
     ]
    }
   ],
   "source": [
    "# 14. 最长公共前缀\n",
    "# https://leetcode.cn/problems/longest-common-prefix/\n",
    "\n",
    "from typing import List\n",
    "class Solution:\n",
    "    def longestCommonPrefix(self, strs: List[str]) -> str:\n",
    "        res = ''\n",
    "        for ele in zip(*strs):\n",
    "            print(ele)\n",
    "            print(type(ele))\n",
    "            '''if len(set(ele)) == 1:\n",
    "                res += ele.pop()\n",
    "            else:\n",
    "                break'''\n",
    "        return res\n",
    "\n",
    "a = Solution().longestCommonPrefix([\"flower\",\"flow\",\"flight\"])"
   ]
  },
  {
   "cell_type": "code",
   "execution_count": null,
   "metadata": {},
   "outputs": [],
   "source": [
    "# 210. 课程表 II\n",
    "# https://leetcode.cn/problems/course-schedule-ii/\n",
    "\n",
    "from collections import defaultdict\n",
    "class Solution:\n",
    "    def findOrder(self, numCourses: int, prerequisites: List[List[int]]) -> List[int]:\n",
    "        pre= defaultdict(list)\n",
    "        post = defaultdict(list)\n",
    "        for i, j in prerequisites:\n",
    "            pre[i].append(j)\n",
    "            post[j].append(i)\n",
    "        indegree = [len(pre[i]) for i in range(numCourses)]\n",
    "        unlearn = [i for i in range(numCourses) if indegree[i] == 0]\n",
    "        learned = []\n",
    "        while unlearn:\n",
    "            ele = unlearn.pop()\n",
    "            learned.append(ele)\n",
    "            for po in post[ele]:\n",
    "                indegree[po] -= 1\n",
    "                if indegree[po] == 0:\n",
    "                    unlearn.append(po)\n",
    "        return learned if len(learned) == numCourses else []"
   ]
  },
  {
   "cell_type": "code",
   "execution_count": null,
   "metadata": {},
   "outputs": [],
   "source": [
    "# 37. 解数独\n",
    "# https://leetcode.cn/problems/sudoku-solver/\n",
    "\n",
    "class Solution:\n",
    "    def solveSudoku(self, board: List[List[str]]) -> None:\n",
    "        \"\"\"\n",
    "        Do not return anything, modify board in-place instead.\n",
    "        \"\"\"\n",
    "        pass"
   ]
  }
 ],
 "metadata": {
  "kernelspec": {
   "display_name": "base",
   "language": "python",
   "name": "python3"
  },
  "language_info": {
   "codemirror_mode": {
    "name": "ipython",
    "version": 3
   },
   "file_extension": ".py",
   "mimetype": "text/x-python",
   "name": "python",
   "nbconvert_exporter": "python",
   "pygments_lexer": "ipython3",
   "version": "3.11.3"
  },
  "orig_nbformat": 4
 },
 "nbformat": 4,
 "nbformat_minor": 2
}
