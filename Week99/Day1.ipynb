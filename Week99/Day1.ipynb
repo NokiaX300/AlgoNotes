{
 "cells": [
  {
   "cell_type": "markdown",
   "metadata": {},
   "source": [
    "如何运用贪心思想玩跳跃游戏\n",
    "\n",
    "https://labuladong.online/algo/frequency-interview/jump-game-summary/"
   ]
  },
  {
   "cell_type": "code",
   "execution_count": null,
   "metadata": {},
   "outputs": [],
   "source": [
    "# 55. 跳跃游戏\n",
    "# https://leetcode.cn/problems/jump-game/description/?envType=study-plan-v2&envId=top-100-liked\n",
    "\n",
    "class Solution:\n",
    "    def canJump(self, nums: List[int]) -> bool:\n",
    "        farest = 0\n",
    "        n = len(nums)\n",
    "        for i in range(n-1):\n",
    "            farest = max(farest, i+nums[i])\n",
    "            # 能跳到的最远位置已经是当前位置, 无法继续向前跳了\n",
    "            if farest<=i:\n",
    "                return False\n",
    "        return farest>=n-1"
   ]
  },
  {
   "cell_type": "code",
   "execution_count": null,
   "metadata": {},
   "outputs": [],
   "source": [
    "# 45. 跳跃游戏 II\n",
    "# https://leetcode.cn/problems/jump-game-ii/description/?envType=study-plan-v2&envId=top-100-liked\n",
    "\n",
    "class Solution:\n",
    "    def jump(self, nums: List[int]) -> int:\n",
    "        res = 0\n",
    "        cur_right = 0\n",
    "        next_right = 0\n",
    "        for i in range(len(nums)-1):\n",
    "            next_right = max(next_right, i+nums[i])\n",
    "            if i == cur_right:\n",
    "                cur_right = next_right\n",
    "                res += 1\n",
    "        return res"
   ]
  }
 ],
 "metadata": {
  "kernelspec": {
   "display_name": "base",
   "language": "python",
   "name": "python3"
  },
  "language_info": {
   "name": "python",
   "version": "3.11.5"
  }
 },
 "nbformat": 4,
 "nbformat_minor": 2
}
