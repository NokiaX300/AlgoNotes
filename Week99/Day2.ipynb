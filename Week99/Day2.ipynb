{
 "cells": [
  {
   "attachments": {},
   "cell_type": "markdown",
   "metadata": {},
   "source": [
    "NSUM\n",
    "\n",
    "https://mp.weixin.qq.com/s/fSyJVvggxHq28a0SdmZm6Q"
   ]
  },
  {
   "cell_type": "code",
   "execution_count": null,
   "metadata": {},
   "outputs": [],
   "source": [
    "# 1. 两数之和\n",
    "# https://leetcode.cn/problems/two-sum/\n",
    "\n",
    "'''class Solution:\n",
    "    def twoSum(self, nums: List[int], target: int) -> List[int]:\n",
    "        nums.sort()\n",
    "        start = 0\n",
    "        stop = len(nums)-1\n",
    "        while start < stop:\n",
    "            if nums[start] + nums[stop] == target:\n",
    "                return [start, stop]\n",
    "            elif nums[start] + nums[stop] > target:\n",
    "                stop -= 1\n",
    "            else:\n",
    "                start += 1\n",
    "        return []'''"
   ]
  },
  {
   "cell_type": "code",
   "execution_count": 3,
   "metadata": {},
   "outputs": [
    {
     "name": "stdout",
     "output_type": "stream",
     "text": [
      "[0, 1]\n",
      "[0, 1]\n"
     ]
    }
   ],
   "source": [
    "start=0\n",
    "stop=1\n",
    "print([start,stop])\n",
    "print([start,     stop])"
   ]
  },
  {
   "cell_type": "code",
   "execution_count": null,
   "metadata": {},
   "outputs": [],
   "source": [
    "# 1. 两数之和\n",
    "# https://leetcode.cn/problems/two-sum/\n",
    "\n",
    "class Solution: # 使用遍历\n",
    "    def twoSum(self, nums: List[int], target: int) -> List[int]:\n",
    "        for i in range(len(nums)):\n",
    "            res = target - nums[i]\n",
    "            if res in nums[i+1:]:\n",
    "                return [i, nums[i+1:].index(res)+i+1]"
   ]
  },
  {
   "cell_type": "code",
   "execution_count": null,
   "metadata": {},
   "outputs": [],
   "source": [
    "# 1. 两数之和\n",
    "# https://leetcode.cn/problems/two-sum/\n",
    "\n",
    "class Solution: # 使用哈希表\n",
    "    def twoSum(self, nums: List[int], target: int) -> List[int]:\n",
    "        hashtable = dict()\n",
    "        for i, num in enumerate(nums):\n",
    "            if target - num in hashtable:\n",
    "                return [hashtable[target-num], i]\n",
    "            hashtable[nums[i]] = i\n",
    "        return []"
   ]
  },
  {
   "cell_type": "code",
   "execution_count": 2,
   "metadata": {},
   "outputs": [
    {
     "data": {
      "text/plain": [
       "[[1, 3], [2, 2]]"
      ]
     },
     "execution_count": 2,
     "metadata": {},
     "output_type": "execute_result"
    }
   ],
   "source": [
    "# nums中可能有多对元素之和都等于target，返回所有和为 target 的元素对，其中不能出现重复\n",
    "\n",
    "def twoSumTarget(nums, target):\n",
    "    nums.sort()\n",
    "    start = 0\n",
    "    stop = len(nums)-1\n",
    "    res= []\n",
    "    while start < stop:\n",
    "        keyl = nums[start]\n",
    "        keyr = nums[stop]\n",
    "        if keyl + keyr == target:\n",
    "            res.append([keyl, keyr])\n",
    "        elif keyl + keyr < target:\n",
    "            start += 1\n",
    "        else:\n",
    "            stop -= 1\n",
    "        while nums[start] == keyl:\n",
    "            start += 1\n",
    "        while nums[stop] == keyr:\n",
    "            stop -= 1\n",
    "    return res\n",
    "        \n",
    "nums = [1,1,1,2,2,3,3]\n",
    "twoSumTarget(nums, target=4)"
   ]
  },
  {
   "cell_type": "code",
   "execution_count": null,
   "metadata": {},
   "outputs": [],
   "source": [
    "# nums中可能有多对元素之和都等于target，返回所有和为 target 的元素对，其中不能出现重复\n",
    "\n",
    "def twoSumTarget(nums, target):\n",
    "    nums.sort()\n",
    "    left, right = 0, len(nums)-1\n",
    "    res = []\n",
    "    while left < right:\n",
    "        a, b = nums[left], nums[right]\n",
    "        if a+b < target:\n",
    "            while left<right and nums[left] == a: # 略过重复元素\n",
    "                left += 1\n",
    "        elif a+b > target:\n",
    "            while left<right and nums[right] == b:\n",
    "                right -= 1\n",
    "        else:\n",
    "            res.append([a, b])\n",
    "            while left<right and nums[left] == a:\n",
    "                left += 1\n",
    "            while left<right and nums[right] == b:\n",
    "                right -= 1\n",
    "    return res\n",
    "nums = [1,1,1,2,2,3,3]\n",
    "twoSumTarget(nums, target=4)"
   ]
  },
  {
   "cell_type": "code",
   "execution_count": null,
   "metadata": {},
   "outputs": [],
   "source": [
    "# 15. 三数之和\n",
    "# https://leetcode.cn/problems/3sum/\n",
    "\n",
    "class Solution:\n",
    "    def threeSum(self, nums: List[int]) -> List[List[int]]:\n",
    "        def twoSumTarget(start, nums, target):\n",
    "            left, right = start, len(nums)-1\n",
    "            res = []\n",
    "            while left < right:\n",
    "                a, b = nums[left], nums[right]\n",
    "                if a+b < target:\n",
    "                    while left<right and nums[left] == a: # 略过重复元素\n",
    "                        left += 1\n",
    "                elif a+b > target:\n",
    "                    while left<right and nums[right] == b:\n",
    "                        right -= 1\n",
    "                else:\n",
    "                    res.append([a, b])\n",
    "                    while left<right and nums[left] == a:\n",
    "                        left += 1\n",
    "                    while left<right and nums[right] == b:\n",
    "                        right -= 1\n",
    "            return res\n",
    "        res = []\n",
    "        nums.sort()\n",
    "        for i in range(len(nums)):\n",
    "            lsts = twoSumTarget(i+1, nums, -nums[i]) # 从当前元素的下一个位置开始查找两数之和等于目标值的组合\n",
    "            for lst in lsts:\n",
    "                lst_new = lst + [nums[i]]\n",
    "                if lst_new not in res:\n",
    "                    res.append(lst_new)\n",
    "        return res"
   ]
  },
  {
   "cell_type": "code",
   "execution_count": 3,
   "metadata": {},
   "outputs": [
    {
     "name": "stdout",
     "output_type": "stream",
     "text": [
      "['a', 'b', 'c']\n",
      "['a', 'b', 'c']\n",
      "['c', 'd', 'd']\n"
     ]
    }
   ],
   "source": [
    "strs = ['abc', 'bca', 'dcd']\n",
    "for s in strs:\n",
    "    s_ = sorted(s)\n",
    "    print(s_)"
   ]
  }
 ],
 "metadata": {
  "kernelspec": {
   "display_name": "base",
   "language": "python",
   "name": "python3"
  },
  "language_info": {
   "codemirror_mode": {
    "name": "ipython",
    "version": 3
   },
   "file_extension": ".py",
   "mimetype": "text/x-python",
   "name": "python",
   "nbconvert_exporter": "python",
   "pygments_lexer": "ipython3",
   "version": "3.11.3"
  },
  "orig_nbformat": 4
 },
 "nbformat": 4,
 "nbformat_minor": 2
}
