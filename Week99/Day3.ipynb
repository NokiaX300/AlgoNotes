{
 "cells": [
  {
   "cell_type": "markdown",
   "metadata": {},
   "source": [
    "解数独"
   ]
  },
  {
   "cell_type": "code",
   "execution_count": null,
   "metadata": {},
   "outputs": [],
   "source": [
    "# 37. 解数独\n",
    "# https://leetcode.cn/problems/sudoku-solver/\n",
    "\n",
    "from typing import List\n",
    "class Solution:\n",
    "    def solveSudoku(self, board: List[List[str]]) -> None:\n",
    "        \"\"\"\n",
    "        Do not return anything, modify board in-place instead.\n",
    "        \"\"\"\n",
    "        for i in range(9):\n",
    "            for j in range(9):\n",
    "                if board[i][j].isnumeric():\n",
    "                    continue\n",
    "                for k in range(1, 10):\n",
    "                    if self.is_valid(board, i, j, k):\n",
    "                        board[i][j] = str(k)\n",
    "                        if self.solveSudoku(board):\n",
    "                            return True\n",
    "                        board[i][j] = '.'\n",
    "                return False\n",
    "        return True\n",
    "\n",
    "    def is_valid(self, board: List[List[str]], row: int, col: int, val: int) -> bool:\n",
    "        val = str(val)\n",
    "        for j in range(9):\n",
    "            if board[row][j] == val:\n",
    "                return False\n",
    "        for i in range(9):\n",
    "            if board[i][col] == val:\n",
    "                return False\n",
    "        start_row = row//3*3\n",
    "        start_col = col//3*3\n",
    "        for i in range(start_row, start_row+3):\n",
    "            for j in range(start_col, start_col+3):\n",
    "                if board[i][j] == val:\n",
    "                    return False\n",
    "        return True"
   ]
  },
  {
   "cell_type": "code",
   "execution_count": 8,
   "metadata": {},
   "outputs": [
    {
     "name": "stdout",
     "output_type": "stream",
     "text": [
      "6\n"
     ]
    }
   ],
   "source": [
    "start_row = 6//3*3\n",
    "print(start_row)"
   ]
  },
  {
   "cell_type": "code",
   "execution_count": null,
   "metadata": {},
   "outputs": [],
   "source": [
    "# 37. 解数独\n",
    "# https://leetcode.cn/problems/sudoku-solver/\n",
    "\n",
    "# 再写一遍\n",
    "class Solution:\n",
    "    def solveSudoku(self, board: List[List[str]]) -> None:\n",
    "        \"\"\"\n",
    "        Do not return anything, modify board in-place instead.\n",
    "        \"\"\"\n",
    "        for i in range(9):\n",
    "            for j in range(9):\n",
    "                if board[i][j].isnumeric():\n",
    "                    continue\n",
    "                for k in range(1, 10):\n",
    "                    if self.is_valid(board, i, j, k):\n",
    "                        board[i][j] = str(k)\n",
    "                        if self.solveSudoku(board):\n",
    "                            return True\n",
    "                        board[i][j] = '.'\n",
    "                return False\n",
    "        return True\n",
    "\n",
    "    def is_valid(self, board, row, col, val):\n",
    "        val = str(val)\n",
    "        for j in range(9):\n",
    "            if board[row][j] == val:\n",
    "                return False\n",
    "        for i in range(9):\n",
    "            if board[i][col] == val:\n",
    "                return False\n",
    "        start_row = row//3*3\n",
    "        start_col = col//3*3\n",
    "        for i in range(start_row, start_row+3):\n",
    "            for j in range(start_col, start_col+3):\n",
    "                if board[i][j] == val:\n",
    "                    return False\n",
    "        return True"
   ]
  }
 ],
 "metadata": {
  "kernelspec": {
   "display_name": "base",
   "language": "python",
   "name": "python3"
  },
  "language_info": {
   "codemirror_mode": {
    "name": "ipython",
    "version": 3
   },
   "file_extension": ".py",
   "mimetype": "text/x-python",
   "name": "python",
   "nbconvert_exporter": "python",
   "pygments_lexer": "ipython3",
   "version": "3.11.3"
  },
  "orig_nbformat": 4
 },
 "nbformat": 4,
 "nbformat_minor": 2
}
