{
 "cells": [
  {
   "cell_type": "markdown",
   "metadata": {},
   "source": [
    "股票买卖问题\n",
    "\n",
    "https://labuladong.github.io/algo/di-er-zhan-a01c6/yong-dong--63ceb/yi-ge-fang-3b01b/"
   ]
  },
  {
   "cell_type": "code",
   "execution_count": null,
   "metadata": {},
   "outputs": [],
   "source": [
    "# 122. 买卖股票的最佳时机 II\n",
    "# https://leetcode.cn/problems/best-time-to-buy-and-sell-stock-ii/\n",
    "\n",
    "class Solution:\n",
    "    def maxProfit(self, prices: List[int]) -> int:\n",
    "        money = 0\n",
    "        for i in range(len(prices)-1):\n",
    "            if prices[i+1] - prices[i] > 0:\n",
    "                money += prices[i+1] - prices[i]\n",
    "        return money"
   ]
  }
 ],
 "metadata": {
  "kernelspec": {
   "display_name": "base",
   "language": "python",
   "name": "python3"
  },
  "language_info": {
   "name": "python",
   "version": "3.11.5"
  },
  "orig_nbformat": 4
 },
 "nbformat": 4,
 "nbformat_minor": 2
}
