{
 "cells": [
  {
   "cell_type": "markdown",
   "metadata": {},
   "source": [
    "环检测及拓扑排序算法"
   ]
  },
  {
   "cell_type": "code",
   "execution_count": null,
   "metadata": {},
   "outputs": [],
   "source": [
    "# 210. 课程表 II\n",
    "# https://leetcode.cn/problems/course-schedule-ii/\n",
    "\n",
    "from collections import defaultdict\n",
    "class Solution:\n",
    "    def findOrder(self, numCourses: int, prerequisites: List[List[int]]) -> List[int]:\n",
    "        pre= defaultdict(list)\n",
    "        post = defaultdict(list)\n",
    "        for i, j in prerequisites:\n",
    "            pre[i].append(j)\n",
    "            post[j].append(i)\n",
    "        indegree = [len(pre[i]) for i in range(numCourses)]\n",
    "        unlearn = [i for i in range(numCourses) if indegree[i] == 0]\n",
    "        learned = []\n",
    "        while unlearn:\n",
    "            ele = unlearn.pop()\n",
    "            learned.append(ele)\n",
    "            for po in post[ele]:\n",
    "                indegree[po] -= 1\n",
    "                if indegree[po] == 0:\n",
    "                    unlearn.append(po)\n",
    "        return learned if len(learned) == numCourses else []"
   ]
  }
 ],
 "metadata": {
  "kernelspec": {
   "display_name": "base",
   "language": "python",
   "name": "python3"
  },
  "language_info": {
   "name": "python",
   "version": "3.11.3"
  },
  "orig_nbformat": 4
 },
 "nbformat": 4,
 "nbformat_minor": 2
}
