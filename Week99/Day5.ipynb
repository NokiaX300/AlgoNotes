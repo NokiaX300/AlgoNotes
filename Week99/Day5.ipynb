{
 "cells": [
  {
   "cell_type": "markdown",
   "metadata": {},
   "source": [
    "动态规划设计：最长递增子序列\n",
    "\n",
    "https://labuladong.online/algo/dynamic-programming/longest-increasing-subsequence/"
   ]
  },
  {
   "cell_type": "code",
   "execution_count": null,
   "metadata": {},
   "outputs": [],
   "source": [
    "# 300. 最长递增子序列\n",
    "# https://leetcode.cn/problems/longest-increasing-subsequence/description/?envType=study-plan-v2&envId=top-100-liked\n",
    "\n",
    "class Solution:\n",
    "    def lengthOfLIS(self, nums: List[int]) -> int:\n",
    "        # dfs(i) 表示以 nums[i] 结尾的最长递增子序列的长度\n",
    "        @cache\n",
    "        def dfs(i):\n",
    "            res = 0\n",
    "            for j in range(i):\n",
    "                if nums[j]<nums[i]:\n",
    "                    res = max(res, dfs(j))\n",
    "            return res+1\n",
    "        res = 0\n",
    "        for i in range(len(nums)):\n",
    "            res = max(res, dfs(i))\n",
    "        return res"
   ]
  },
  {
   "cell_type": "code",
   "execution_count": null,
   "metadata": {},
   "outputs": [],
   "source": [
    "# 300. 最长递增子序列\n",
    "# https://leetcode.cn/problems/longest-increasing-subsequence/description/?envType=study-plan-v2&envId=top-100-liked\n",
    "\n",
    "class Solution:\n",
    "    def lengthOfLIS(self, nums: List[int]) -> int:\n",
    "        dp = [0]*len(nums)\n",
    "        for i in range(len(nums)):\n",
    "            for j in range(i):\n",
    "                if nums[i]>nums[j]:\n",
    "                    dp[i] = max(dp[i], dp[j])\n",
    "            dp[i] += 1\n",
    "        return max(dp)"
   ]
  }
 ],
 "metadata": {
  "kernelspec": {
   "display_name": "base",
   "language": "python",
   "name": "python3"
  },
  "language_info": {
   "name": "python",
   "version": "3.11.5"
  }
 },
 "nbformat": 4,
 "nbformat_minor": 2
}
