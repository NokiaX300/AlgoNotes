{
 "cells": [
  {
   "cell_type": "markdown",
   "metadata": {},
   "source": [
    "岛屿\n",
    "\n",
    "https://labuladong.github.io/algo/di-san-zha-24031/bao-li-sou-96f79/yi-wen-mia-4f482/"
   ]
  },
  {
   "cell_type": "code",
   "execution_count": null,
   "metadata": {},
   "outputs": [],
   "source": [
    "# 200. 岛屿数量\n",
    "# https://leetcode.cn/problems/number-of-islands/\n",
    "\n",
    "class Solution:\n",
    "    def numIslands(self, grid: List[List[str]]) -> int:\n",
    "        def DFS(grid, i, j):\n",
    "            if not 0<=i<len(grid) or not 0<=j<len(grid[0]) or grid[i][j] != '1':\n",
    "                return\n",
    "            grid[i][j] = '*'\n",
    "            DFS(grid, i+1, j)\n",
    "            DFS(grid, i-1, j)\n",
    "            DFS(grid, i, j+1)\n",
    "            DFS(grid, i, j-1)\n",
    "\n",
    "        count = 0\n",
    "        for i in range(len(grid)):\n",
    "            for j in range(len(grid[0])):\n",
    "                if grid[i][j] == '1':\n",
    "                    DFS(grid, i, j)\n",
    "                    count += 1\n",
    "        return count"
   ]
  },
  {
   "cell_type": "code",
   "execution_count": null,
   "metadata": {},
   "outputs": [],
   "source": [
    "dic = {}\n",
    "edges = [[1,2], [2,3], [1,3]]\n",
    "dic[edges[0][0]] = {edges[0][1]}\n",
    "print(dic)\n",
    "dic[edges[2][0]].add(edges[2][1])\n",
    "print(dic)"
   ]
  },
  {
   "cell_type": "code",
   "execution_count": null,
   "metadata": {},
   "outputs": [],
   "source": [
    "# 547. 省份数量\n",
    "# https://leetcode.cn/problems/number-of-provinces/\n",
    "\n",
    "'''class Solution:\n",
    "    def findCircleNum(self, isConnected: List[List[int]]) -> int:\n",
    "        visited = [None]*len(isConnected)\n",
    "        def DFS(i):\n",
    "            visited[i] = 1\n",
    "            for j in range(i+1, len(isConnected)):\n",
    "                if isConnected[i][j] == 1 and not visited[j]:\n",
    "                    DFS(j)\n",
    "\n",
    "        count = 0\n",
    "        for i in range(len(isConnected)):\n",
    "            if not visited[i]:\n",
    "                DFS(i)\n",
    "                count += 1\n",
    "        return count'''"
   ]
  },
  {
   "cell_type": "code",
   "execution_count": null,
   "metadata": {},
   "outputs": [],
   "source": [
    "isConnected = [[1,0,0,1],\n",
    "               [0,1,1,0],\n",
    "               [0,1,1,1],\n",
    "               [1,0,1,1]]\n",
    "# 其实只有一个省\n",
    "# 1-4-3-2"
   ]
  },
  {
   "cell_type": "code",
   "execution_count": null,
   "metadata": {},
   "outputs": [],
   "source": [
    "# 547. 省份数量\n",
    "# https://leetcode.cn/problems/number-of-provinces/\n",
    "\n",
    "class Solution:\n",
    "    def findCircleNum(self, isConnected: List[List[int]]) -> int:\n",
    "        visited = [None]*len(isConnected)\n",
    "        def DFS(i):\n",
    "            visited[i] = 1\n",
    "            for j in range(len(isConnected)):\n",
    "                if isConnected[i][j] == 1 and not visited[j]:\n",
    "                    DFS(j)\n",
    "\n",
    "        count = 0\n",
    "        for i in range(len(isConnected)):\n",
    "            if not visited[i]:\n",
    "                DFS(i)\n",
    "                count += 1\n",
    "        return count"
   ]
  },
  {
   "cell_type": "code",
   "execution_count": 4,
   "metadata": {},
   "outputs": [
    {
     "name": "stdout",
     "output_type": "stream",
     "text": [
      "None\n",
      "0\n",
      "False\n"
     ]
    }
   ],
   "source": [
    "a = None\n",
    "b = 0\n",
    "if not a:\n",
    "    print(a)\n",
    "if not b:\n",
    "    print(b)\n",
    "print(a == b)"
   ]
  }
 ],
 "metadata": {
  "kernelspec": {
   "display_name": "base",
   "language": "python",
   "name": "python3"
  },
  "language_info": {
   "codemirror_mode": {
    "name": "ipython",
    "version": 3
   },
   "file_extension": ".py",
   "mimetype": "text/x-python",
   "name": "python",
   "nbconvert_exporter": "python",
   "pygments_lexer": "ipython3",
   "version": "3.11.3"
  },
  "orig_nbformat": 4
 },
 "nbformat": 4,
 "nbformat_minor": 2
}
