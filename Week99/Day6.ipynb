{
 "cells": [
  {
   "cell_type": "markdown",
   "metadata": {},
   "source": [
    "岛屿\n",
    "\n",
    "https://labuladong.github.io/algo/di-san-zha-24031/bao-li-sou-96f79/yi-wen-mia-4f482/"
   ]
  },
  {
   "cell_type": "code",
   "execution_count": null,
   "metadata": {},
   "outputs": [],
   "source": [
    "# 200. 岛屿数量\n",
    "# https://leetcode.cn/problems/number-of-islands/\n",
    "\n",
    "class Solution:\n",
    "    def numIslands(self, grid: List[List[str]]) -> int:\n",
    "        def DFS(grid, i, j):\n",
    "            if not 0<=i<len(grid) or not 0<=j<len(grid[0]) or grid[i][j] != '1':\n",
    "                return\n",
    "            grid[i][j] = '*'\n",
    "            DFS(grid, i+1, j)\n",
    "            DFS(grid, i-1, j)\n",
    "            DFS(grid, i, j+1)\n",
    "            DFS(grid, i, j-1)\n",
    "\n",
    "        count = 0\n",
    "        for i in range(len(grid)):\n",
    "            for j in range(len(grid[0])):\n",
    "                if grid[i][j] == '1':\n",
    "                    DFS(grid, i, j)\n",
    "                    count += 1\n",
    "        return count"
   ]
  },
  {
   "cell_type": "code",
   "execution_count": null,
   "metadata": {},
   "outputs": [],
   "source": [
    "dic = {}\n",
    "edges = [[1,2], [2,3], [1,3]]\n",
    "dic[edges[0][0]] = {edges[0][1]}\n",
    "print(dic)\n",
    "dic[edges[2][0]].add(edges[2][1])\n",
    "print(dic)"
   ]
  }
 ],
 "metadata": {
  "kernelspec": {
   "display_name": "base",
   "language": "python",
   "name": "python3"
  },
  "language_info": {
   "name": "python",
   "version": "3.11.3"
  },
  "orig_nbformat": 4
 },
 "nbformat": 4,
 "nbformat_minor": 2
}
