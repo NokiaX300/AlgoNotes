{
 "cells": [
  {
   "cell_type": "markdown",
   "metadata": {},
   "source": [
    "经典动态规划：最长公共子序列\n",
    "\n",
    "https://labuladong.online/algo/dynamic-programming/longest-common-subsequence/"
   ]
  },
  {
   "cell_type": "code",
   "execution_count": null,
   "metadata": {},
   "outputs": [],
   "source": [
    "# 1143. 最长公共子序列\n",
    "# https://leetcode.cn/problems/longest-common-subsequence/description/?envType=study-plan-v2&envId=top-100-liked\n",
    "\n",
    "class Solution:\n",
    "    def longestCommonSubsequence(self, text1: str, text2: str) -> int:\n",
    "        # dfs(i) 代表前 i, j 个中最长公共子序列\n",
    "        @cache\n",
    "        def dfs(i, j):\n",
    "            if i<0 or j<0:\n",
    "                return 0\n",
    "            if text1[i]==text2[j]:\n",
    "                return dfs(i-1, j-1)+1\n",
    "            return max(dfs(i-1, j), dfs(i, j-1))\n",
    "        return dfs(len(text1)-1, len(text2)-1)"
   ]
  }
 ],
 "metadata": {
  "kernelspec": {
   "display_name": "base",
   "language": "python",
   "name": "python3"
  },
  "language_info": {
   "name": "python",
   "version": "3.11.5"
  }
 },
 "nbformat": 4,
 "nbformat_minor": 2
}
