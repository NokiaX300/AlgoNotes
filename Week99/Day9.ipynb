{
 "cells": [
  {
   "cell_type": "markdown",
   "metadata": {},
   "source": [
    "经典动态规划：编辑距离\n",
    "\n",
    "https://labuladong.online/algo/dynamic-programming/edit-distance/"
   ]
  },
  {
   "cell_type": "code",
   "execution_count": null,
   "metadata": {},
   "outputs": [],
   "source": [
    "# 72. 编辑距离\n",
    "# https://leetcode.cn/problems/edit-distance/description/?envType=study-plan-v2&envId=top-100-liked\n",
    "\n",
    "class Solution:\n",
    "    def minDistance(self, word1: str, word2: str) -> int:\n",
    "        @cache\n",
    "        # dfs(i, j) 返回 s1[0..i] 和 s2[0..j] 的最小编辑距离\n",
    "        def dfs(i, j):\n",
    "            # word2 需要删掉 j+1 个\n",
    "            if i<0:\n",
    "                return j+1\n",
    "            if j<0:\n",
    "                return i+1\n",
    "            if word1[i]==word2[j]:\n",
    "                return dfs(i-1, j-1)\n",
    "            return min(dfs(i-1,j),dfs(i,j-1),dfs(i-1,j-1))+1\n",
    "        return dfs(len(word1)-1, len(word2)-1)"
   ]
  },
  {
   "cell_type": "code",
   "execution_count": null,
   "metadata": {},
   "outputs": [],
   "source": [
    "# 72. 编辑距离\n",
    "# https://leetcode.cn/problems/edit-distance/description/?envType=study-plan-v2&envId=top-100-liked\n",
    "\n",
    "class Solution:\n",
    "    def minDistance(self, word1: str, word2: str) -> int:\n",
    "        m = len(word1)\n",
    "        n = len(word2)\n",
    "        dp = [[0]*(n+1) for _ in range(m+1)]\n",
    "        for i in range(m+1):\n",
    "            dp[i][0] = i\n",
    "        for j in range(n+1):\n",
    "            dp[0][j] = j\n",
    "        for i in range(m):\n",
    "            for j in range(n):\n",
    "                if word1[i]==word2[j]:\n",
    "                    dp[i+1][j+1] = dp[i][j]\n",
    "                    continue\n",
    "                dp[i+1][j+1] = min(dp[i][j],dp[i+1][j],dp[i][j+1])+1\n",
    "        return dp[m][n]"
   ]
  }
 ],
 "metadata": {
  "kernelspec": {
   "display_name": "base",
   "language": "python",
   "name": "python3"
  },
  "language_info": {
   "name": "python",
   "version": "3.11.5"
  }
 },
 "nbformat": 4,
 "nbformat_minor": 2
}
