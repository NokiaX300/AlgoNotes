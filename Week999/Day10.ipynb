{
 "cells": [
  {
   "cell_type": "code",
   "execution_count": null,
   "metadata": {},
   "outputs": [],
   "source": [
    "# 力扣 hot100-86\n",
    "# 139. 单词拆分\n",
    "# https://leetcode.cn/problems/word-break/?envType=study-plan-v2&envId=top-100-liked\n",
    "\n",
    "class Solution:\n",
    "    def wordBreak(self, s: str, wordDict: List[str]) -> bool:\n",
    "        n = len(s)\n",
    "        dp = [False]*(n+1)\n",
    "        dp[0] = True\n",
    "        for i in range(1, n+1):\n",
    "            for j in range(i):\n",
    "                if dp[j] and s[j:i] in wordDict:\n",
    "                    dp[i] = True\n",
    "                    break\n",
    "        return dp[n]"
   ]
  },
  {
   "cell_type": "code",
   "execution_count": null,
   "metadata": {},
   "outputs": [],
   "source": [
    "# 力扣 hot100-87\n",
    "# 300. 最长递增子序列\n",
    "# https://leetcode.cn/problems/longest-increasing-subsequence/description/?envType=study-plan-v2&envId=top-100-liked\n",
    "\n",
    "class Solution:\n",
    "    def lengthOfLIS(self, nums: List[int]) -> int:\n",
    "        @cache\n",
    "        def dfs(i):\n",
    "            res = 0\n",
    "            for j in range(i):\n",
    "                if nums[i]>nums[j]:\n",
    "                    res = max(res, dfs(j))\n",
    "            return res+1\n",
    "        return max(dfs(i) for i in range(len(nums)))"
   ]
  },
  {
   "cell_type": "code",
   "execution_count": null,
   "metadata": {},
   "outputs": [],
   "source": [
    "# 力扣 hot100-88\n",
    "# 152. 乘积最大子数组\n",
    "# https://leetcode.cn/problems/maximum-product-subarray/description/?envType=study-plan-v2&envId=top-100-liked\n",
    "\n",
    "# class Solution:\n",
    "#     def maxProduct(self, nums: List[int]) -> int:\n",
    "#         # dfs(i) 代表以 i 结尾的乘积最大的子数组\n",
    "#         @cache\n",
    "#         def dfs(i):\n",
    "#             if i<0:\n",
    "#                 return 1\n",
    "#             res = -float('inf')\n",
    "#             res = max(res, dfs(i-1)*nums[i])\n",
    "#             return res\n",
    "#         return max(dfs(_) for _ in range(len(nums)))\n",
    "\n",
    "@cache\n",
    "class Solution:\n",
    "    def maxProduct(self, nums: List[int]) -> int:\n",
    "        res = -float('inf')\n",
    "        min_ = 1\n",
    "        max_ = 1\n",
    "        for i in range(len(nums)):\n",
    "            if nums[i]<0:\n",
    "                min_, max_ = max_, min_\n",
    "            max_ = max(nums[i], nums[i]*max_)\n",
    "            min_ = min(nums[i], nums[i]*min_)\n",
    "            res = max(res, max_)\n",
    "        return res"
   ]
  },
  {
   "cell_type": "code",
   "execution_count": null,
   "metadata": {},
   "outputs": [],
   "source": [
    "# 力扣 hot100-89\n",
    "# 416. 分割等和子集\n",
    "# https://leetcode.cn/problems/partition-equal-subset-sum/?envType=study-plan-v2&envId=top-100-liked\n",
    "\n",
    "class Solution:\n",
    "    def canPartition(self, nums: List[int]) -> bool:\n",
    "        @cache\n",
    "        def dfs(i, target):\n",
    "            if i<0:\n",
    "                return target==0\n",
    "            return nums[i]<=target and dfs(i-1, target-nums[i]) or dfs(i-1, target)\n",
    "        summ = sum(nums)\n",
    "        return summ%2==0 and dfs(len(nums)-1, summ//2)"
   ]
  },
  {
   "cell_type": "code",
   "execution_count": null,
   "metadata": {},
   "outputs": [],
   "source": [
    "# 力扣 hot100-90\n",
    "# 32. 最长有效括号\n",
    "# https://leetcode.cn/problems/longest-valid-parentheses/description/?envType=study-plan-v2&envId=top-100-liked\n",
    "\n",
    "class Solution:\n",
    "    def longestValidParentheses(self, s: str) -> int:\n",
    "        # dp[i] 的定义：记录以 s[i-1] 结尾的最长合法括号子串长度\n",
    "        dp = [0]*(len(s)+1)\n",
    "        st = []\n",
    "        for i in range(len(s)):\n",
    "            if s[i]=='(':\n",
    "                st.append(i)\n",
    "                # 左括号不可能是合法括号子串的结尾\n",
    "                dp[i+1] = 0\n",
    "            else:\n",
    "                if st:\n",
    "                    left_ind = st.pop()\n",
    "                    dp[i+1] = i-left_ind+1+dp[left_ind]\n",
    "                else:\n",
    "                    dp[i+1] = 0\n",
    "        return max(dp)"
   ]
  },
  {
   "cell_type": "code",
   "execution_count": null,
   "metadata": {},
   "outputs": [],
   "source": [
    "# 力扣 hot100-91\n",
    "# 62. 不同路径\n",
    "# https://leetcode.cn/problems/unique-paths/?envType=study-plan-v2&envId=top-100-liked\n",
    "\n",
    "class Solution:\n",
    "    def uniquePaths(self, m: int, n: int) -> int:\n",
    "        # 用 dp[i][j] 表示从左上角走到 (i,j) 的路径数量\n",
    "        # 初始条件为 dp[0][0]=1, 即从左上角走到左上角有一种方法\n",
    "        dp = [[0]*n for _ in range(m)]\n",
    "        for _ in range(n):\n",
    "            dp[0][_] = 1\n",
    "        for _ in range(m):\n",
    "            dp[_][0] = 1\n",
    "        for i in range(1, m):\n",
    "            for j in range(1, n):\n",
    "                dp[i][j] = dp[i-1][j] + dp[i][j-1]\n",
    "        return dp[m-1][n-1]"
   ]
  },
  {
   "cell_type": "code",
   "execution_count": 2,
   "metadata": {},
   "outputs": [
    {
     "data": {
      "text/plain": [
       "[[1, 0, 0], [1, 0, 0], [1, 0, 0], [0, 0, 0]]"
      ]
     },
     "execution_count": 2,
     "metadata": {},
     "output_type": "execute_result"
    }
   ],
   "source": [
    "dp = [[0]*3 for _ in range(4)]\n",
    "for _ in range(3):\n",
    "    dp[_][0] = 1\n",
    "dp"
   ]
  },
  {
   "cell_type": "code",
   "execution_count": 3,
   "metadata": {},
   "outputs": [],
   "source": [
    "# 力扣 hot100-92\n",
    "# 64. 最小路径和\n",
    "# https://leetcode.cn/problems/minimum-path-sum/description/?envType=study-plan-v2&envId=top-100-liked\n",
    "\n",
    "class Solution:\n",
    "    def minPathSum(self, grid: List[List[int]]) -> int:\n",
    "        @cache\n",
    "        def dfs(i, j):\n",
    "            if i==0 and j==0:\n",
    "                return grid[0][0]\n",
    "            if i<0 or j<0:\n",
    "                return float('inf')\n",
    "            return min(dfs(i-1,j), dfs(i,j-1))+grid[i][j]\n",
    "        m = len(grid)\n",
    "        n = len(grid[0])\n",
    "        return dfs(m-1, n-1)"
   ]
  },
  {
   "cell_type": "code",
   "execution_count": null,
   "metadata": {},
   "outputs": [],
   "source": [
    "# 力扣 hot100-93\n",
    "# 5. 最长回文子串\n",
    "# https://leetcode.cn/problems/longest-palindromic-substring/description/?envType=study-plan-v2&envId=top-100-liked\n",
    "\n",
    "# 中心扩散\n",
    "class Solution:\n",
    "    def longestPalindrome(self, s: str) -> str:\n",
    "        res = ''\n",
    "        for i in range(len(s)):\n",
    "            a = self.find(s, i, i)\n",
    "            b = self.find(s, i, i+1)\n",
    "            res = max((res, a, b), key=len)\n",
    "        return res\n",
    "\n",
    "    def find(self, s, i, j):\n",
    "        while i>=0 and j<len(s) and s[i]==s[j]:\n",
    "            i -= 1\n",
    "            j += 1\n",
    "        return s[i+1: j]"
   ]
  },
  {
   "cell_type": "code",
   "execution_count": 9,
   "metadata": {},
   "outputs": [
    {
     "name": "stdout",
     "output_type": "stream",
     "text": [
      "4 5\n"
     ]
    }
   ],
   "source": [
    "a = max([4,2,3])\n",
    "b = max((5,2,3))\n",
    "print(a, b)"
   ]
  },
  {
   "cell_type": "code",
   "execution_count": null,
   "metadata": {},
   "outputs": [],
   "source": [
    "# 力扣 hot100-94\n",
    "# 1143. 最长公共子序列\n",
    "# https://leetcode.cn/problems/longest-common-subsequence/description/?envType=study-plan-v2&envId=top-100-liked\n",
    "\n",
    "class Solution:\n",
    "    def longestCommonSubsequence(self, text1: str, text2: str) -> int:\n",
    "        pass"
   ]
  }
 ],
 "metadata": {
  "kernelspec": {
   "display_name": "base",
   "language": "python",
   "name": "python3"
  },
  "language_info": {
   "codemirror_mode": {
    "name": "ipython",
    "version": 3
   },
   "file_extension": ".py",
   "mimetype": "text/x-python",
   "name": "python",
   "nbconvert_exporter": "python",
   "pygments_lexer": "ipython3",
   "version": "3.11.5"
  }
 },
 "nbformat": 4,
 "nbformat_minor": 2
}
