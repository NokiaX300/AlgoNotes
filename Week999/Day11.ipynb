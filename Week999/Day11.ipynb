{
 "cells": [
  {
   "cell_type": "code",
   "execution_count": null,
   "metadata": {},
   "outputs": [],
   "source": [
    "# 419 周赛\n",
    "# 第 K 大的完美二叉子树的大小\n",
    "# https://leetcode.cn/contest/weekly-contest-419/problems/k-th-largest-perfect-subtree-size-in-binary-tree/description/\n",
    "\n",
    "class Solution:\n",
    "    def kthLargestPerfectSubtree(self, root: Optional[TreeNode], k: int) -> int:\n",
    "        res = []\n",
    "        def traverse(root):\n",
    "            if not root:\n",
    "                return 0\n",
    "            left_ = traverse(root.left)\n",
    "            right_ = traverse(root.right)\n",
    "            if left_==right_ and left_ != -1:\n",
    "                cur = left_+right_+1\n",
    "                res.append(cur)\n",
    "                return cur\n",
    "            return -1\n",
    "        traverse(root)\n",
    "        res.sort(reverse=True)\n",
    "        if len(res)>=k:\n",
    "            return res[k-1]\n",
    "        else:\n",
    "            return -1"
   ]
  },
  {
   "cell_type": "code",
   "execution_count": null,
   "metadata": {},
   "outputs": [],
   "source": [
    "# 419 周赛\n",
    "# 统计能获胜的出招序列数\n",
    "# https://leetcode.cn/contest/weekly-contest-419/problems/count-the-number-of-winning-sequences/description/\n",
    "\n",
    "class Solution:\n",
    "    def countWinningSequences(self, s: str) -> int:"
   ]
  }
 ],
 "metadata": {
  "language_info": {
   "name": "python"
  }
 },
 "nbformat": 4,
 "nbformat_minor": 2
}
