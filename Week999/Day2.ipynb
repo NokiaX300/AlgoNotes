{
 "cells": [
  {
   "cell_type": "code",
   "execution_count": null,
   "metadata": {},
   "outputs": [],
   "source": [
    "# 3072. 将元素分配到两个数组中 II\n",
    "# https://leetcode.cn/problems/distribute-elements-into-two-arrays-ii/description/?envType=daily-question&envId=2024-06-05\n",
    "\n",
    "# 时间复杂度还是高\n",
    "import bisect\n",
    "class Solution:\n",
    "    def resultArray(self, nums: List[int]) -> List[int]:\n",
    "        arr1 = []\n",
    "        arr2 = []\n",
    "        arr1.append(nums[0])\n",
    "        arr2.append(nums[1])\n",
    "        for i in range(2, len(nums)):\n",
    "            if self.greaterCount(arr1, nums[i]) > self.greaterCount(arr2, nums[i]):\n",
    "                arr1.append(nums[i])\n",
    "            elif self.greaterCount(arr1, nums[i]) < self.greaterCount(arr2, nums[i]):\n",
    "                arr2.append(nums[i])\n",
    "            else:\n",
    "                if len(arr1)>len(arr2):\n",
    "                    arr2.append(nums[i])\n",
    "                else:\n",
    "                    arr1.append(nums[i])\n",
    "        arr1.extend(arr2)\n",
    "        return arr1\n",
    "    \n",
    "    def greaterCount(self, arr, val):\n",
    "        arr = sorted(arr)\n",
    "        return len(arr)-bisect.bisect_right(arr, val)"
   ]
  },
  {
   "cell_type": "code",
   "execution_count": null,
   "metadata": {},
   "outputs": [],
   "source": [
    "# 3072. 将元素分配到两个数组中 II\n",
    "# https://leetcode.cn/problems/distribute-elements-into-two-arrays-ii/description/?envType=daily-question&envId=2024-06-05\n",
    "\n",
    "# 使用 SortedList\n",
    "from sortedcontainers import SortedList\n",
    "class Solution:\n",
    "    def resultArray(self, nums: List[int]) -> List[int]:\n",
    "\n",
    "        arr1 = SortedList([nums[0]])\n",
    "        arr2 = SortedList([nums[1]])\n",
    "        res1 = [nums[0]]\n",
    "        res2 = [nums[1]]\n",
    "        \n",
    "        for i in range(2, len(nums)):\n",
    "            if self.greaterCount(arr1, nums[i]) > self.greaterCount(arr2, nums[i]):\n",
    "                arr1.add(nums[i])\n",
    "                res1.append(nums[i])\n",
    "            elif self.greaterCount(arr1, nums[i]) < self.greaterCount(arr2, nums[i]):\n",
    "                arr2.add(nums[i])\n",
    "                res2.append(nums[i])\n",
    "            else:\n",
    "                if len(arr1) > len(arr2):\n",
    "                    arr2.add(nums[i])\n",
    "                    res2.append(nums[i])\n",
    "                else:\n",
    "                    arr1.add(nums[i])\n",
    "                    res1.append(nums[i])\n",
    "        return res1 + res2\n",
    "    \n",
    "    def greaterCount(self, arr, val):\n",
    "        return len(arr) - arr.bisect_right(val)"
   ]
  },
  {
   "cell_type": "code",
   "execution_count": null,
   "metadata": {},
   "outputs": [],
   "source": [
    "# 2938. 区分黑球与白球\n",
    "# https://leetcode.cn/problems/separate-black-and-white-balls/description/?envType=daily-question&envId=2024-06-06\n",
    "\n",
    "# 没注意到要求两个相邻的球\n",
    "class Solution:\n",
    "    def minimumSteps(self, s: str) -> int:\n",
    "        s = list(s)\n",
    "        k = 0\n",
    "        right = len(s)-1\n",
    "        while right > 0:\n",
    "            if s[right] == '0':\n",
    "                k += 1\n",
    "                left = right-1\n",
    "                while s[left] != '0':\n",
    "                    left -= 1\n",
    "                s[left], s[right] = s[right], s[left]\n",
    "            right -= 1\n",
    "        return k"
   ]
  },
  {
   "cell_type": "code",
   "execution_count": null,
   "metadata": {},
   "outputs": [],
   "source": [
    "# 2938. 区分黑球与白球\n",
    "# https://leetcode.cn/problems/separate-black-and-white-balls/description/?envType=daily-question&envId=2024-06-06\n",
    "\n",
    "class Solution:\n",
    "    def minimumSteps(self, s: str) -> int:\n",
    "        black = 0\n",
    "        k = 0\n",
    "        for i in range(len(s)):\n",
    "            if s[i] == '1':\n",
    "                black += 1\n",
    "            else:\n",
    "                k += black\n",
    "        return k"
   ]
  }
 ],
 "metadata": {
  "kernelspec": {
   "display_name": "base",
   "language": "python",
   "name": "python3"
  },
  "language_info": {
   "name": "python",
   "version": "3.11.5"
  }
 },
 "nbformat": 4,
 "nbformat_minor": 2
}
