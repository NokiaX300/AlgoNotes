{
 "cells": [
  {
   "cell_type": "code",
   "execution_count": null,
   "metadata": {},
   "outputs": [],
   "source": [
    "# 724. 寻找数组的中心下标\n",
    "# https://leetcode.cn/problems/find-pivot-index/\n",
    "\n",
    "class Solution:\n",
    "    def pivotIndex(self, nums: List[int]) -> int:\n",
    "        left = 0\n",
    "        right = sum(nums)\n",
    "        for i in range(len(nums)):\n",
    "            left += nums[i-1] if i>=1 else 0\n",
    "            right -= nums[i]\n",
    "            if left == right:\n",
    "                return i\n",
    "        return -1"
   ]
  },
  {
   "cell_type": "code",
   "execution_count": null,
   "metadata": {},
   "outputs": [],
   "source": [
    "# 14. 最长公共前缀\n",
    "# https://leetcode.cn/problems/longest-common-prefix/\n",
    "\n",
    "from typing import List\n",
    "class Solution:\n",
    "    def longestCommonPrefix(self, strs: List[str]) -> str:\n",
    "        res = ''\n",
    "        for ele in zip(*strs):\n",
    "            if len(set(ele)) == 1:\n",
    "                res += ele[0]\n",
    "            else:\n",
    "                break\n",
    "        return res"
   ]
  },
  {
   "cell_type": "code",
   "execution_count": 1,
   "metadata": {},
   "outputs": [
    {
     "name": "stdout",
     "output_type": "stream",
     "text": [
      "('f', 'f', 'f')\n",
      "<class 'tuple'>\n",
      "('l', 'l', 'l')\n",
      "<class 'tuple'>\n",
      "('o', 'o', 'i')\n",
      "<class 'tuple'>\n",
      "('w', 'w', 'g')\n",
      "<class 'tuple'>\n"
     ]
    }
   ],
   "source": [
    "# 14. 最长公共前缀\n",
    "# https://leetcode.cn/problems/longest-common-prefix/\n",
    "\n",
    "from typing import List\n",
    "class Solution:\n",
    "    def longestCommonPrefix(self, strs: List[str]) -> str:\n",
    "        res = ''\n",
    "        for ele in zip(*strs):\n",
    "            print(ele)\n",
    "            print(type(ele))\n",
    "            '''if len(set(ele)) == 1:\n",
    "                res += ele.pop()\n",
    "            else:\n",
    "                break'''\n",
    "        return res\n",
    "\n",
    "a = Solution().longestCommonPrefix([\"flower\",\"flow\",\"flight\"])"
   ]
  },
  {
   "cell_type": "code",
   "execution_count": 1,
   "metadata": {},
   "outputs": [
    {
     "name": "stdout",
     "output_type": "stream",
     "text": [
      "<class 'int'>\n",
      "<class 'int'>\n",
      "<class 'str'>\n",
      "<class 'str'>\n"
     ]
    }
   ],
   "source": [
    "a=[1,2]\n",
    "b=[2,4]\n",
    "q = [a[0], b[0]]\n",
    "q.sort()\n",
    "for e in q:\n",
    "    e = str(e)\n",
    "for x in q:\n",
    "    print(type(x))\n",
    "q = list(map(str, q))\n",
    "for x in q:\n",
    "    print(type(x))"
   ]
  },
  {
   "cell_type": "code",
   "execution_count": null,
   "metadata": {},
   "outputs": [],
   "source": [
    "from typing import List\n",
    "def minNumber(nums1: List[int], nums2: List[int]) -> int:\n",
    "    nums1.sort()\n",
    "    nums2.sort()\n",
    "    if nums1[0] == nums2[0]:\n",
    "        return nums1[0]\n",
    "    q = [nums1[0], nums2[0]]\n",
    "    q.sort()\n",
    "    q = list(map(str, q))\n",
    "    return ''.join(q)\n",
    "minNumber(nums1 = [4,1,3], nums2 = [5,7])"
   ]
  },
  {
   "cell_type": "code",
   "execution_count": null,
   "metadata": {},
   "outputs": [],
   "source": [
    "# 49. 字母异位词分组\n",
    "# https://leetcode.cn/problems/group-anagrams/description/?envType=list&envId=MrBnEDqB\n",
    "\n",
    "class Solution:\n",
    "    def groupAnagrams(self, strs: List[str]) -> List[List[str]]:\n",
    "        dic = {}\n",
    "        for ele in strs:\n",
    "            ele_ = ''.join(sorted(ele))\n",
    "            if ele_ not in dic:\n",
    "                dic[ele_] = [ele]\n",
    "                continue\n",
    "            dic[ele_].append(ele)\n",
    "        return list(dic.values())"
   ]
  },
  {
   "cell_type": "code",
   "execution_count": null,
   "metadata": {},
   "outputs": [],
   "source": [
    "# 3. 无重复字符的最长子串\n",
    "# https://leetcode.cn/problems/longest-substring-without-repeating-characters/?envType=list&envId=MrBnEDqB\n",
    "\n",
    "from collections import defaultdict\n",
    "class Solution:\n",
    "    def lengthOfLongestSubstring(self, s: str) -> int:\n",
    "        left = 0\n",
    "        right = 0\n",
    "        res = 0\n",
    "        window = defaultdict(int)\n",
    "        while right < len(s):\n",
    "            keyr = s[right]\n",
    "            window[keyr] += 1\n",
    "            right += 1\n",
    "            while window[keyr] > 1:\n",
    "                keyl = s[left]\n",
    "                window[keyl] -= 1\n",
    "                left += 1\n",
    "            res = max(res, right-left)\n",
    "        return res"
   ]
  },
  {
   "cell_type": "code",
   "execution_count": null,
   "metadata": {},
   "outputs": [],
   "source": [
    "# 30. 串联所有单词的子串\n",
    "# https://leetcode.cn/problems/substring-with-concatenation-of-all-words/description/?envType=list&envId=MrBnEDqB\n",
    "\n",
    "from collections import Counter\n",
    "class Solution:\n",
    "    def findSubstring(self, s: str, words: List[str]) -> List[int]:\n",
    "        len_single = len(words[0])\n",
    "        len_words = len(words)\n",
    "        n = len_single*len_words\n",
    "        res = []\n",
    "        for i in range(len(s)-n+1):\n",
    "            temp = s[i:i+n]\n",
    "            temp_split = []\n",
    "            for j in range(0, len(temp), len_single):\n",
    "                temp_split.append(temp[j:j+len_single])\n",
    "            if Counter(temp_split) == Counter(words):\n",
    "                res.append(i)\n",
    "        return res"
   ]
  },
  {
   "cell_type": "code",
   "execution_count": 1,
   "metadata": {},
   "outputs": [
    {
     "data": {
      "text/plain": [
       "Counter({'add': 1, 'sc': 1})"
      ]
     },
     "execution_count": 1,
     "metadata": {},
     "output_type": "execute_result"
    }
   ],
   "source": [
    "from collections import Counter\n",
    "Counter(['add', 'sc'])"
   ]
  }
 ],
 "metadata": {
  "kernelspec": {
   "display_name": "base",
   "language": "python",
   "name": "python3"
  },
  "language_info": {
   "codemirror_mode": {
    "name": "ipython",
    "version": 3
   },
   "file_extension": ".py",
   "mimetype": "text/x-python",
   "name": "python",
   "nbconvert_exporter": "python",
   "pygments_lexer": "ipython3",
   "version": "3.11.3"
  },
  "orig_nbformat": 4
 },
 "nbformat": 4,
 "nbformat_minor": 2
}
