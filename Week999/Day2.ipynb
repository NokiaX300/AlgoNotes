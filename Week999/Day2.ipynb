{
 "cells": [
  {
   "cell_type": "code",
   "execution_count": null,
   "metadata": {},
   "outputs": [],
   "source": [
    "# 724. 寻找数组的中心下标\n",
    "# https://leetcode.cn/problems/find-pivot-index/\n",
    "\n",
    "class Solution:\n",
    "    def pivotIndex(self, nums: List[int]) -> int:\n",
    "        left = 0\n",
    "        right = sum(nums)\n",
    "        for i in range(len(nums)):\n",
    "            left += nums[i-1] if i>=1 else 0\n",
    "            right -= nums[i]\n",
    "            if left == right:\n",
    "                return i\n",
    "        return -1"
   ]
  },
  {
   "cell_type": "code",
   "execution_count": null,
   "metadata": {},
   "outputs": [],
   "source": [
    "# 14. 最长公共前缀\n",
    "# https://leetcode.cn/problems/longest-common-prefix/\n",
    "\n",
    "from typing import List\n",
    "class Solution:\n",
    "    def longestCommonPrefix(self, strs: List[str]) -> str:\n",
    "        res = ''\n",
    "        for ele in zip(*strs):\n",
    "            if len(set(ele)) == 1:\n",
    "                res += ele[0]\n",
    "            else:\n",
    "                break\n",
    "        return res"
   ]
  },
  {
   "cell_type": "code",
   "execution_count": 1,
   "metadata": {},
   "outputs": [
    {
     "name": "stdout",
     "output_type": "stream",
     "text": [
      "('f', 'f', 'f')\n",
      "<class 'tuple'>\n",
      "('l', 'l', 'l')\n",
      "<class 'tuple'>\n",
      "('o', 'o', 'i')\n",
      "<class 'tuple'>\n",
      "('w', 'w', 'g')\n",
      "<class 'tuple'>\n"
     ]
    }
   ],
   "source": [
    "# 14. 最长公共前缀\n",
    "# https://leetcode.cn/problems/longest-common-prefix/\n",
    "\n",
    "from typing import List\n",
    "class Solution:\n",
    "    def longestCommonPrefix(self, strs: List[str]) -> str:\n",
    "        res = ''\n",
    "        for ele in zip(*strs):\n",
    "            print(ele)\n",
    "            print(type(ele))\n",
    "            '''if len(set(ele)) == 1:\n",
    "                res += ele.pop()\n",
    "            else:\n",
    "                break'''\n",
    "        return res\n",
    "\n",
    "a = Solution().longestCommonPrefix([\"flower\",\"flow\",\"flight\"])"
   ]
  },
  {
   "cell_type": "code",
   "execution_count": 1,
   "metadata": {},
   "outputs": [
    {
     "name": "stdout",
     "output_type": "stream",
     "text": [
      "<class 'int'>\n",
      "<class 'int'>\n",
      "<class 'str'>\n",
      "<class 'str'>\n"
     ]
    }
   ],
   "source": [
    "a=[1,2]\n",
    "b=[2,4]\n",
    "q = [a[0], b[0]]\n",
    "q.sort()\n",
    "for e in q:\n",
    "    e = str(e)\n",
    "for x in q:\n",
    "    print(type(x))\n",
    "q = list(map(str, q))\n",
    "for x in q:\n",
    "    print(type(x))"
   ]
  },
  {
   "cell_type": "code",
   "execution_count": null,
   "metadata": {},
   "outputs": [],
   "source": [
    "from typing import List\n",
    "def minNumber(nums1: List[int], nums2: List[int]) -> int:\n",
    "    nums1.sort()\n",
    "    nums2.sort()\n",
    "    if nums1[0] == nums2[0]:\n",
    "        return nums1[0]\n",
    "    q = [nums1[0], nums2[0]]\n",
    "    q.sort()\n",
    "    q = list(map(str, q))\n",
    "    return ''.join(q)\n",
    "minNumber(nums1 = [4,1,3], nums2 = [5,7])"
   ]
  }
 ],
 "metadata": {
  "kernelspec": {
   "display_name": "base",
   "language": "python",
   "name": "python3"
  },
  "language_info": {
   "codemirror_mode": {
    "name": "ipython",
    "version": 3
   },
   "file_extension": ".py",
   "mimetype": "text/x-python",
   "name": "python",
   "nbconvert_exporter": "python",
   "pygments_lexer": "ipython3",
   "version": "3.11.3"
  },
  "orig_nbformat": 4
 },
 "nbformat": 4,
 "nbformat_minor": 2
}
