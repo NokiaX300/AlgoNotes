{
 "cells": [
  {
   "cell_type": "code",
   "execution_count": null,
   "metadata": {},
   "outputs": [],
   "source": [
    "# 292. Nim 游戏\n",
    "# https://leetcode.cn/problems/nim-game/?envType=daily-question&envId=2024-06-17\n",
    "\n",
    "class Solution:\n",
    "    def canWinNim(self, n: int) -> bool:\n",
    "        return n%4!=0"
   ]
  }
 ],
 "metadata": {
  "language_info": {
   "name": "python"
  }
 },
 "nbformat": 4,
 "nbformat_minor": 2
}
