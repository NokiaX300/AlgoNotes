{
 "cells": [
  {
   "cell_type": "code",
   "execution_count": null,
   "metadata": {},
   "outputs": [],
   "source": [
    "# 292. Nim 游戏\n",
    "# https://leetcode.cn/problems/nim-game/?envType=daily-question&envId=2024-06-17\n",
    "\n",
    "class Solution:\n",
    "    def canWinNim(self, n: int) -> bool:\n",
    "        return n%4!=0"
   ]
  },
  {
   "cell_type": "code",
   "execution_count": null,
   "metadata": {},
   "outputs": [],
   "source": [
    "# 2288. 价格减免\n",
    "# https://leetcode.cn/problems/apply-discount-to-prices/description/?envType=daily-question&envId=2024-06-18\n",
    "\n",
    "class Solution:\n",
    "    def discountPrices(self, sentence: str, discount: int) -> str:\n",
    "        lst = sentence.split()\n",
    "        res = []\n",
    "        for word in lst:\n",
    "            if word[0]=='$' and word[1:].isdigit():\n",
    "                res.append(self.cut(word, discount))\n",
    "            else:\n",
    "                res.append(word)\n",
    "        return ' '.join(res)\n",
    "\n",
    "    def cut(self, word: str, d):\n",
    "        num = int(word[1:])\n",
    "        return f'${num*(1-d/100):.2f}'"
   ]
  },
  {
   "cell_type": "code",
   "execution_count": 6,
   "metadata": {},
   "outputs": [
    {
     "data": {
      "text/plain": [
       "4.8"
      ]
     },
     "execution_count": 6,
     "metadata": {},
     "output_type": "execute_result"
    }
   ],
   "source": [
    "def cut(num, d):\n",
    "    return round(num*(1-d/100), 3)\n",
    "cut(12, 60)"
   ]
  },
  {
   "cell_type": "code",
   "execution_count": 11,
   "metadata": {},
   "outputs": [
    {
     "name": "stdout",
     "output_type": "stream",
     "text": [
      "Help on built-in function round in module builtins:\n",
      "\n",
      "round(number, ndigits=None)\n",
      "    Round a number to a given precision in decimal digits.\n",
      "    \n",
      "    The return value is an integer if ndigits is omitted or None.  Otherwise\n",
      "    the return value has the same type as the number.  ndigits may be negative.\n",
      "\n"
     ]
    },
    {
     "data": {
      "text/plain": [
       "3.22"
      ]
     },
     "execution_count": 11,
     "metadata": {},
     "output_type": "execute_result"
    }
   ],
   "source": [
    "help(round)\n",
    "round(3.22, 3)"
   ]
  },
  {
   "cell_type": "code",
   "execution_count": 14,
   "metadata": {},
   "outputs": [
    {
     "data": {
      "text/plain": [
       "[[2, 2], [3, 3], [4, 4]]"
      ]
     },
     "execution_count": 14,
     "metadata": {},
     "output_type": "execute_result"
    }
   ],
   "source": [
    "a = [[1,2],[2,3],[3,4]]\n",
    "for ele in a:\n",
    "    ele[0] += 1\n",
    "a"
   ]
  },
  {
   "cell_type": "code",
   "execution_count": null,
   "metadata": {},
   "outputs": [],
   "source": [
    "# 2713. 矩阵中严格递增的单元格数\n",
    "# https://leetcode.cn/problems/maximum-strictly-increasing-cells-in-a-matrix/description/?envType=daily-question&envId=2024-06-19\n",
    "\n",
    "from collections import defaultdict\n",
    "class Solution:\n",
    "    def maxIncreasingCells(self, mat: List[List[int]]) -> int:\n",
    "        g = defaultdict(list)\n",
    "        for i, row in enumerate(mat):\n",
    "            for j, x in enumerate(row):\n",
    "                g[x].append((i, j))  # 相同元素放在同一组，统计位置\n",
    "\n",
    "        row_max = [0] * len(mat)\n",
    "        col_max = [0] * len(mat[0])\n",
    "        for _, pos in sorted(g.items(), key=lambda p: p[0]):\n",
    "            # 先把最大值算出来，再更新 row_max 和 col_max\n",
    "            mx = [max(row_max[i], col_max[j]) + 1 for i, j in pos]\n",
    "            for (i, j), f in zip(pos, mx):\n",
    "                row_max[i] = max(row_max[i], f)  # 更新第 i 行的最大 f 值\n",
    "                col_max[j] = max(col_max[j], f)  # 更新第 j 列的最大 f 值\n",
    "        return max(row_max)"
   ]
  },
  {
   "cell_type": "code",
   "execution_count": 6,
   "metadata": {},
   "outputs": [
    {
     "data": {
      "text/plain": [
       "2"
      ]
     },
     "execution_count": 6,
     "metadata": {},
     "output_type": "execute_result"
    }
   ],
   "source": [
    "# 2748. 美丽下标对的数目\n",
    "# https://leetcode.cn/problems/number-of-beautiful-pairs/description/?envType=daily-question&envId=2024-06-20\n",
    "\n",
    "from typing import List\n",
    "class Solution:\n",
    "    def countBeautifulPairs(self, nums: List[int]) -> int:\n",
    "        res = 0\n",
    "        for i in range(len(nums)):\n",
    "            for j in range(i+1, len(nums)):\n",
    "                a = int(str(nums[i])[0])\n",
    "                b = int(str(nums[j])[-1])\n",
    "                if self.check(a, b):\n",
    "                    res += 1\n",
    "        return res\n",
    "\n",
    "    def check(self, a, b):\n",
    "        if a>=b:\n",
    "            a,b = b,a\n",
    "        for x in range(2, a+1):\n",
    "            if a%x==0 and b%x==0:\n",
    "                break\n",
    "        else:\n",
    "            return True\n",
    "        return False\n",
    "    \n",
    "Solution().countBeautifulPairs([11,21,12])"
   ]
  },
  {
   "cell_type": "code",
   "execution_count": 1,
   "metadata": {},
   "outputs": [
    {
     "name": "stdout",
     "output_type": "stream",
     "text": [
      "2\n",
      "3\n",
      "3\n"
     ]
    }
   ],
   "source": [
    "a = [1,2,3]\n",
    "for i in range(len(a)):\n",
    "    for j in range(i+1, len(a)):\n",
    "        print(a[j])"
   ]
  },
  {
   "cell_type": "code",
   "execution_count": 5,
   "metadata": {},
   "outputs": [],
   "source": [
    "for i in range(2,2):\n",
    "    print(1)"
   ]
  },
  {
   "cell_type": "code",
   "execution_count": 10,
   "metadata": {},
   "outputs": [
    {
     "data": {
      "text/plain": [
       "4"
      ]
     },
     "execution_count": 10,
     "metadata": {},
     "output_type": "execute_result"
    }
   ],
   "source": [
    "# LCP 61. 气温变化趋势\n",
    "# https://leetcode.cn/problems/6CE719/?envType=daily-question&envId=2024-06-21\n",
    "\n",
    "class Solution:\n",
    "    def temperatureTrend(self, temperatureA: List[int], temperatureB: List[int]) -> int:\n",
    "        lst = [True for _ in range(len(temperatureA)-1)]\n",
    "        for i in range(1, len(temperatureA)):\n",
    "            a = self.check(temperatureA[i-1], temperatureA[i])\n",
    "            b = self.check(temperatureB[i-1], temperatureB[i])\n",
    "            if a!=b:\n",
    "                lst[i-1] = False\n",
    "        left = 0\n",
    "        right = 0\n",
    "        length = 0\n",
    "        while right<len(lst):\n",
    "            if not lst[right]:\n",
    "                left = right+1\n",
    "            right += 1\n",
    "            length = max(length, right-left)\n",
    "        return length\n",
    "        \n",
    "    def check(self, a, b):\n",
    "        if a>b:\n",
    "            return 1\n",
    "        elif a==b:\n",
    "            return 2\n",
    "        else:\n",
    "            return 3\n",
    "        \n",
    "Solution().temperatureTrend([-14,7,-19,9,13,40,19,15,-18], [3,16,28,32,25,12,13,-6,4])"
   ]
  },
  {
   "cell_type": "code",
   "execution_count": null,
   "metadata": {},
   "outputs": [],
   "source": [
    "# LCP 61. 气温变化趋势\n",
    "# https://leetcode.cn/problems/6CE719/?envType=daily-question&envId=2024-06-21\n",
    "\n",
    "class Solution:\n",
    "    def temperatureTrend(self, temperatureA: List[int], temperatureB: List[int]) -> int:\n",
    "        length = 0\n",
    "        res = 0\n",
    "        for i in range(1, len(temperatureA)):\n",
    "            a = self.check(temperatureA[i-1], temperatureA[i])\n",
    "            b = self.check(temperatureB[i-1], temperatureB[i])\n",
    "            if a==b:\n",
    "                length += 1\n",
    "                res = max(res, length)\n",
    "            else:\n",
    "                length = 0\n",
    "        return res\n",
    "        \n",
    "    def check(self, a, b):\n",
    "        if a>b:\n",
    "            return 1\n",
    "        elif a==b:\n",
    "            return 2\n",
    "        else:\n",
    "            return 3"
   ]
  },
  {
   "cell_type": "code",
   "execution_count": null,
   "metadata": {},
   "outputs": [],
   "source": [
    "# 50. Pow(x, n)\n",
    "# https://leetcode.cn/problems/powx-n/description/\n",
    "\n",
    "# 超出时间限制\n",
    "class Solution:\n",
    "    def myPow(self, x: float, n: int) -> float:\n",
    "        res = x\n",
    "        if n>1:\n",
    "            for _ in range(n-1):\n",
    "                res *= x\n",
    "            return res\n",
    "        elif n == 1:\n",
    "            return x\n",
    "        elif n == 0:\n",
    "            return 1\n",
    "        else:\n",
    "            for _ in range(-n-1):\n",
    "                res *= x\n",
    "            return 1/res"
   ]
  },
  {
   "cell_type": "code",
   "execution_count": null,
   "metadata": {},
   "outputs": [],
   "source": [
    "# 50. Pow(x, n)\n",
    "# https://leetcode.cn/problems/powx-n/description/\n",
    "\n",
    "class Solution:\n",
    "    def myPow(self, x: float, n: int) -> float:\n",
    "        if n>=0:\n",
    "            return self.cal(x, n)\n",
    "        else:\n",
    "            return 1/self.cal(x, -n)\n",
    "        \n",
    "    def cal(self, x, n):\n",
    "        if n==0:\n",
    "            return 1\n",
    "        part = self.cal(x, n//2)\n",
    "        result = part*part # 写成 part**2 会溢出\n",
    "        if n%2 == 1:\n",
    "            result *= x\n",
    "        return result"
   ]
  },
  {
   "cell_type": "code",
   "execution_count": null,
   "metadata": {},
   "outputs": [],
   "source": [
    "# 2663. 字典序最小的美丽字符串\n",
    "# https://leetcode.cn/problems/lexicographically-smallest-beautiful-string/description/?envType=daily-question&envId=2024-06-22\n",
    "\n",
    "# 牛\n",
    "class Solution:\n",
    "    def smallestBeautifulString(self, s: str, k: int) -> str:\n",
    "        for i in range(len(s) - 1, -1, -1):\n",
    "            blockedCharacters = set()\n",
    "            for j in range(1, 3):\n",
    "                if i - j >= 0:\n",
    "                    blockedCharacters.add(s[i - j])\n",
    "            for j in range(1, 4):\n",
    "                if ord(s[i]) - ord('a') + j + 1 <= k and chr(ord(s[i]) + j) not in blockedCharacters:\n",
    "                    return self.generate(s, i, j)\n",
    "        return \"\"\n",
    "\n",
    "    def generate(self, s: str, idx: str, offset: str) -> str:\n",
    "        res = list(s)\n",
    "        res[idx] = chr(ord(res[idx]) + offset)\n",
    "        for i in range(idx + 1, len(s)):\n",
    "            blockedCharacters = set()\n",
    "            for j in range(1, 3):\n",
    "                if i - j >= 0:\n",
    "                    blockedCharacters.add(res[i - j])\n",
    "            for j in range(3):\n",
    "                if chr(ord('a') + j) not in blockedCharacters:\n",
    "                    res[i] = chr(ord('a') + j)\n",
    "                    break\n",
    "        return ''.join(res)"
   ]
  },
  {
   "cell_type": "code",
   "execution_count": null,
   "metadata": {},
   "outputs": [],
   "source": [
    "# 520. 检测大写字母\n",
    "# https://leetcode.cn/problems/detect-capital/description/?envType=daily-question&envId=2024-06-23\n",
    "\n",
    "class Solution:\n",
    "    def detectCapitalUse(self, word: str) -> bool:\n",
    "        if word.islower() or word.isupper() or (word[0].isupper() and (word[1:].isupper() or word[1:].islower())):\n",
    "                return True\n",
    "        return False"
   ]
  },
  {
   "cell_type": "code",
   "execution_count": null,
   "metadata": {},
   "outputs": [],
   "source": [
    "# 2129. 将标题首字母大写\n",
    "# https://leetcode.cn/problems/capitalize-the-title/\n",
    "\n",
    "class Solution:\n",
    "    def capitalizeTitle(self, title: str) -> str:\n",
    "        lst=title.split(' ')\n",
    "        for i in range(len(lst)):\n",
    "            if len(lst[i])<=2:\n",
    "                lst[i]=lst[i].lower()\n",
    "            else:\n",
    "                lst[i]=lst[i].capitalize()\n",
    "        return ' '.join(lst)"
   ]
  },
  {
   "cell_type": "code",
   "execution_count": null,
   "metadata": {},
   "outputs": [],
   "source": [
    "# 503. 下一个更大元素 II\n",
    "# https://leetcode.cn/problems/next-greater-element-ii/description/?envType=daily-question&envId=2024-06-24\n",
    "\n",
    "class Solution:\n",
    "    def nextGreaterElements(self, nums: List[int]) -> List[int]:\n",
    "        n = len(nums)\n",
    "        nums = nums+nums\n",
    "        stack = []\n",
    "        res = [0 for _ in range(len(nums))]\n",
    "        for i in range(len(nums)-1, -1, -1):\n",
    "            while stack and nums[i]>stack[-1]:\n",
    "                stack.pop()\n",
    "            stack.append(nums[i])\n",
    "            if stack:\n",
    "                res[i] = stack[-1]\n",
    "        return res[:n]"
   ]
  },
  {
   "cell_type": "code",
   "execution_count": null,
   "metadata": {},
   "outputs": [],
   "source": [
    "# 2549. 统计桌面上的不同数字\n",
    "# https://leetcode.cn/problems/count-distinct-numbers-on-board/?envType=daily-question&envId=2024-06-24\n",
    "\n",
    "class Solution:\n",
    "    def distinctIntegers(self, n: int) -> int:\n",
    "        return 1 if n==1 else n-1"
   ]
  },
  {
   "cell_type": "code",
   "execution_count": null,
   "metadata": {},
   "outputs": [],
   "source": [
    "# 1379. 找出克隆二叉树中的相同节点\n",
    "# https://leetcode.cn/problems/find-a-corresponding-node-of-a-binary-tree-in-a-clone-of-that-tree/description/?envType=daily-question&envId=2024-06-24\n",
    "\n",
    "# Definition for a binary tree node.\n",
    "class TreeNode:\n",
    "    def __init__(self, x):\n",
    "        self.val = x\n",
    "        self.left = None\n",
    "        self.right = None\n",
    "\n",
    "class Solution:\n",
    "    def getTargetCopy(self, original: TreeNode, cloned: TreeNode, target: TreeNode) -> TreeNode:\n",
    "        self.target = target\n",
    "        self.root_ = cloned\n",
    "        self.traverse(cloned)\n",
    "        return self.root_\n",
    "\n",
    "    def traverse(self, root):\n",
    "        if not root:\n",
    "            return\n",
    "        if root.val == self.target.val:\n",
    "            self.root_ = root\n",
    "        self.traverse(root.left)\n",
    "        self.traverse(root.right)"
   ]
  },
  {
   "cell_type": "code",
   "execution_count": null,
   "metadata": {},
   "outputs": [],
   "source": [
    "# 1379. 找出克隆二叉树中的相同节点\n",
    "# https://leetcode.cn/problems/find-a-corresponding-node-of-a-binary-tree-in-a-clone-of-that-tree/description/?envType=daily-question&envId=2024-06-24\n",
    "\n",
    "# Definition for a binary tree node.\n",
    "class TreeNode:\n",
    "    def __init__(self, x):\n",
    "        self.val = x\n",
    "        self.left = None\n",
    "        self.right = None\n",
    "\n",
    "class Solution:\n",
    "    def getTargetCopy(self, original: TreeNode, cloned: TreeNode, target: TreeNode) -> TreeNode:\n",
    "        if original is None or original is target:\n",
    "            return cloned\n",
    "        return self.getTargetCopy(original.left, cloned.left, target) or \\\n",
    "               self.getTargetCopy(original.right, cloned.right, target)"
   ]
  },
  {
   "cell_type": "code",
   "execution_count": null,
   "metadata": {},
   "outputs": [],
   "source": [
    "# 2739. 总行驶距离\n",
    "# https://leetcode.cn/problems/total-distance-traveled/description/?envType=daily-question&envId=2024-06-24\n",
    "\n",
    "class Solution:\n",
    "    def distanceTraveled(self, mainTank: int, additionalTank: int) -> int:\n",
    "        res = 0\n",
    "        while mainTank>=5:\n",
    "            mainTank -= 5\n",
    "            res += 50\n",
    "            if additionalTank>=1:\n",
    "                additionalTank -= 1\n",
    "                mainTank += 1\n",
    "        res += mainTank*10\n",
    "        return res"
   ]
  },
  {
   "cell_type": "code",
   "execution_count": null,
   "metadata": {},
   "outputs": [],
   "source": [
    "# 2732. 找到矩阵中的好子集\n",
    "# https://leetcode.cn/problems/find-a-good-subset-of-the-matrix/description/?envType=daily-question&envId=2024-06-25\n",
    "\n",
    "# 牛\n",
    "class Solution:\n",
    "    def goodSubsetofBinaryMatrix(self, grid: List[List[int]]) -> List[int]:\n",
    "        ans = []\n",
    "        mp = {}\n",
    "        m = len(grid)\n",
    "        n = len(grid[0])\n",
    "\n",
    "        for j in range(m):\n",
    "            st = 0\n",
    "            for i in range(n):\n",
    "                st |= (grid[j][i] << i)\n",
    "            mp[st] = j\n",
    "        if 0 in mp:\n",
    "            ans.append(mp[0])\n",
    "            return ans\n",
    "        for x, i in mp.items():\n",
    "            for y, j in mp.items():\n",
    "                if not (x & y):\n",
    "                    return [min(i, j), max(i, j)]\n",
    "        return ans"
   ]
  },
  {
   "cell_type": "code",
   "execution_count": null,
   "metadata": {},
   "outputs": [],
   "source": [
    "# 2741. 特别的排列\n",
    "# https://leetcode.cn/problems/special-permutations/description/?envType=daily-question&envId=2024-06-26\n",
    "\n",
    "class Solution:\n",
    "    def specialPerm(self, nums: List[int]) -> int:\n",
    "        mod = 10**9 + 7\n",
    "        n = len(nums)\n",
    "        f = [[0] * n for _ in range(1 << n)]\n",
    "        for i in range(n):\n",
    "            f[1 << i][i] = 1\n",
    "        \n",
    "        for state in range(1, 1 << n):\n",
    "            for i, x in enumerate(nums):\n",
    "                if not state >> i & 1:\n",
    "                    continue\n",
    "                for j, y in enumerate(nums):\n",
    "                    if i == j or not state >> j & 1:\n",
    "                        continue\n",
    "                    if x % y != 0 and y % x != 0:\n",
    "                        continue\n",
    "                    f[state][i] = (f[state][i] + f[state ^ (1 << i)][j]) % mod\n",
    "        \n",
    "        return sum(f[(1 << n) - 1][i] for i in range(n)) % mod"
   ]
  },
  {
   "cell_type": "code",
   "execution_count": null,
   "metadata": {},
   "outputs": [],
   "source": [
    "# 2734. 执行子串操作后的字典序最小字符串\n",
    "# https://leetcode.cn/problems/lexicographically-smallest-string-after-substring-operation/description/?envType=daily-question&envId=2024-06-27\n",
    "\n",
    "# 注意必须替换一次\n",
    "class Solution:\n",
    "    def smallestString(self, s: str) -> str:\n",
    "        lst = list(s)\n",
    "        change = False\n",
    "        if set(lst) == {'a'}:\n",
    "            lst[-1] = 'z'\n",
    "            return ''.join(lst)\n",
    "        for i in range(len(lst)):\n",
    "            if lst[i] != 'a':\n",
    "                lst[i] = chr(ord(lst[i])-1)\n",
    "                change = True\n",
    "            else:\n",
    "                if i!=0 and change:\n",
    "                    return ''.join(lst)\n",
    "        return ''.join(lst)"
   ]
  },
  {
   "cell_type": "code",
   "execution_count": null,
   "metadata": {},
   "outputs": [],
   "source": [
    "# 2742. 给墙壁刷油漆\n",
    "# https://leetcode.cn/problems/painting-the-walls/description/?envType=daily-question&envId=2024-06-28\n",
    "\n",
    "# 01背包\n",
    "class Solution:\n",
    "    def paintWalls(self, cost: List[int], time: List[int]) -> int:\n",
    "        n = len(cost)\n",
    "        f = [0] + [inf] * n\n",
    "        for c, t in zip(cost, time):\n",
    "            for j in range(n, 0, -1):\n",
    "                f[j] = min(f[j], f[max(j - t - 1, 0)] + c)\n",
    "        return f[n]"
   ]
  },
  {
   "cell_type": "code",
   "execution_count": null,
   "metadata": {},
   "outputs": [],
   "source": [
    "# 2710. 移除字符串中的尾随零\n",
    "# https://leetcode.cn/problems/remove-trailing-zeros-from-a-string/description/?envType=daily-question&envId=2024-06-29\n",
    "\n",
    "class Solution:\n",
    "    def removeTrailingZeros(self, num: str) -> str:\n",
    "        lst = list(num)\n",
    "        while lst and lst[-1] == '0':\n",
    "            lst.pop()\n",
    "        return ''.join(lst)"
   ]
  },
  {
   "cell_type": "code",
   "execution_count": null,
   "metadata": {},
   "outputs": [],
   "source": [
    "# 494. 目标和\n",
    "# https://leetcode.cn/problems/target-sum/description/?envType=daily-question&envId=2024-06-30\n",
    "\n",
    "class Solution:\n",
    "    def __init__(self) -> None:\n",
    "        self.dic = {}\n",
    "        \n",
    "    def findTargetSumWays(self, nums: List[int], target: int) -> int:\n",
    "        if len(nums)==0:\n",
    "            return 0\n",
    "        return self.dp(nums, 0, target)\n",
    "    \n",
    "    def dp(self, nums, i, remain):\n",
    "        if i == len(nums):\n",
    "            if remain == 0:\n",
    "                return 1\n",
    "            return 0\n",
    "        key = (i, remain)\n",
    "        if key in self.dic:\n",
    "            return self.dic[key]\n",
    "        result = self.dp(nums, i+1, remain-nums[i]) + self.dp(nums, i+1, remain+nums[i])\n",
    "        self.dic[key] = result\n",
    "        return result"
   ]
  },
  {
   "cell_type": "code",
   "execution_count": null,
   "metadata": {},
   "outputs": [],
   "source": [
    "# 2065. 最大化一张图中的路径价值\n",
    "# https://leetcode.cn/problems/maximum-path-quality-of-a-graph/description/?envType=daily-question&envId=2024-07-01\n",
    "\n",
    "from collections import defaultdict\n",
    "class Solution:\n",
    "    def maximalPathQuality(self, values: List[int], edges: List[List[int]], maxTime: int) -> int:\n",
    "        self.dic = defaultdict(list)\n",
    "        for x,y,z in edges:\n",
    "            self.dic[x].append((y,z))\n",
    "            self.dic[y].append((x,z))\n",
    "        self.values = values\n",
    "        self.maxTime = maxTime\n",
    "        self.visited = {0}\n",
    "        self.res = 0\n",
    "        self.dfs(0, 0, self.values[0])\n",
    "        return self.res\n",
    "    \n",
    "    def dfs(self, pos, time, value):\n",
    "        if pos == 0:\n",
    "            self.res = max(self.res, value)\n",
    "        for j, t in self.dic[pos]:\n",
    "            if time+t<=self.maxTime:\n",
    "                if j not in self.visited:\n",
    "                    self.visited.add(j)\n",
    "                    self.dfs(j, time+t, value+self.values[j])\n",
    "                    # self.visited.pop(j)\n",
    "                    # 集合的 pop 是随机删除\n",
    "                    self.visited.remove(j)\n",
    "                else:\n",
    "                    self.dfs(j, time+t, value) # 访问过的节点只添加时间不添加值"
   ]
  },
  {
   "cell_type": "code",
   "execution_count": null,
   "metadata": {},
   "outputs": [],
   "source": [
    "# 3115. 质数的最大距离\n",
    "# https://leetcode.cn/problems/maximum-prime-difference/description/?envType=daily-question&envId=2024-07-02\n",
    "\n",
    "class Solution:\n",
    "    def maximumPrimeDifference(self, nums: List[int]) -> int:\n",
    "        left = 0\n",
    "        right = len(nums)-1\n",
    "        while not self.check(nums[left]):\n",
    "            left += 1\n",
    "        while not self.check(nums[right]):\n",
    "            right -= 1\n",
    "        return right-left\n",
    "\n",
    "    def check(self, a: int) -> bool:\n",
    "        if a<2:\n",
    "            return False\n",
    "        for i in range(2, int(a**0.5+1)):\n",
    "            if a%i==0:\n",
    "                break\n",
    "        else:\n",
    "            return True\n",
    "        return False"
   ]
  },
  {
   "cell_type": "code",
   "execution_count": 1,
   "metadata": {},
   "outputs": [
    {
     "data": {
      "text/plain": [
       "True"
      ]
     },
     "execution_count": 1,
     "metadata": {},
     "output_type": "execute_result"
    }
   ],
   "source": [
    "def check(a: int) -> bool:\n",
    "    if a<=2:\n",
    "        return True\n",
    "    for i in range(2, a):\n",
    "        if a%i==0:\n",
    "            break\n",
    "    else:\n",
    "        return True\n",
    "    return False\n",
    "check(1)"
   ]
  }
 ],
 "metadata": {
  "kernelspec": {
   "display_name": "base",
   "language": "python",
   "name": "python3"
  },
  "language_info": {
   "codemirror_mode": {
    "name": "ipython",
    "version": 3
   },
   "file_extension": ".py",
   "mimetype": "text/x-python",
   "name": "python",
   "nbconvert_exporter": "python",
   "pygments_lexer": "ipython3",
   "version": "3.11.5"
  }
 },
 "nbformat": 4,
 "nbformat_minor": 2
}
