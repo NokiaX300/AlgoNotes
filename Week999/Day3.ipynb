{
 "cells": [
  {
   "cell_type": "code",
   "execution_count": null,
   "metadata": {},
   "outputs": [],
   "source": [
    "# 292. Nim 游戏\n",
    "# https://leetcode.cn/problems/nim-game/?envType=daily-question&envId=2024-06-17\n",
    "\n",
    "class Solution:\n",
    "    def canWinNim(self, n: int) -> bool:\n",
    "        return n%4!=0"
   ]
  },
  {
   "cell_type": "code",
   "execution_count": null,
   "metadata": {},
   "outputs": [],
   "source": [
    "# 2288. 价格减免\n",
    "# https://leetcode.cn/problems/apply-discount-to-prices/description/?envType=daily-question&envId=2024-06-18\n",
    "\n",
    "class Solution:\n",
    "    def discountPrices(self, sentence: str, discount: int) -> str:\n",
    "        lst = sentence.split()\n",
    "        res = []\n",
    "        for word in lst:\n",
    "            if word[0]=='$' and word[1:].isdigit():\n",
    "                res.append(self.cut(word, discount))\n",
    "            else:\n",
    "                res.append(word)\n",
    "        return ' '.join(res)\n",
    "\n",
    "    def cut(self, word: str, d):\n",
    "        num = int(word[1:])\n",
    "        return f'${num*(1-d/100):.2f}'"
   ]
  },
  {
   "cell_type": "code",
   "execution_count": 6,
   "metadata": {},
   "outputs": [
    {
     "data": {
      "text/plain": [
       "4.8"
      ]
     },
     "execution_count": 6,
     "metadata": {},
     "output_type": "execute_result"
    }
   ],
   "source": [
    "def cut(num, d):\n",
    "    return round(num*(1-d/100), 3)\n",
    "cut(12, 60)"
   ]
  },
  {
   "cell_type": "code",
   "execution_count": 11,
   "metadata": {},
   "outputs": [
    {
     "name": "stdout",
     "output_type": "stream",
     "text": [
      "Help on built-in function round in module builtins:\n",
      "\n",
      "round(number, ndigits=None)\n",
      "    Round a number to a given precision in decimal digits.\n",
      "    \n",
      "    The return value is an integer if ndigits is omitted or None.  Otherwise\n",
      "    the return value has the same type as the number.  ndigits may be negative.\n",
      "\n"
     ]
    },
    {
     "data": {
      "text/plain": [
       "3.22"
      ]
     },
     "execution_count": 11,
     "metadata": {},
     "output_type": "execute_result"
    }
   ],
   "source": [
    "help(round)\n",
    "round(3.22, 3)"
   ]
  },
  {
   "cell_type": "code",
   "execution_count": 14,
   "metadata": {},
   "outputs": [
    {
     "data": {
      "text/plain": [
       "[[2, 2], [3, 3], [4, 4]]"
      ]
     },
     "execution_count": 14,
     "metadata": {},
     "output_type": "execute_result"
    }
   ],
   "source": [
    "a = [[1,2],[2,3],[3,4]]\n",
    "for ele in a:\n",
    "    ele[0] += 1\n",
    "a"
   ]
  },
  {
   "cell_type": "code",
   "execution_count": null,
   "metadata": {},
   "outputs": [],
   "source": [
    "# 2713. 矩阵中严格递增的单元格数\n",
    "# https://leetcode.cn/problems/maximum-strictly-increasing-cells-in-a-matrix/description/?envType=daily-question&envId=2024-06-19\n",
    "\n",
    "from collections import defaultdict\n",
    "class Solution:\n",
    "    def maxIncreasingCells(self, mat: List[List[int]]) -> int:\n",
    "        g = defaultdict(list)\n",
    "        for i, row in enumerate(mat):\n",
    "            for j, x in enumerate(row):\n",
    "                g[x].append((i, j))  # 相同元素放在同一组，统计位置\n",
    "\n",
    "        row_max = [0] * len(mat)\n",
    "        col_max = [0] * len(mat[0])\n",
    "        for _, pos in sorted(g.items(), key=lambda p: p[0]):\n",
    "            # 先把最大值算出来，再更新 row_max 和 col_max\n",
    "            mx = [max(row_max[i], col_max[j]) + 1 for i, j in pos]\n",
    "            for (i, j), f in zip(pos, mx):\n",
    "                row_max[i] = max(row_max[i], f)  # 更新第 i 行的最大 f 值\n",
    "                col_max[j] = max(col_max[j], f)  # 更新第 j 列的最大 f 值\n",
    "        return max(row_max)"
   ]
  }
 ],
 "metadata": {
  "kernelspec": {
   "display_name": "base",
   "language": "python",
   "name": "python3"
  },
  "language_info": {
   "codemirror_mode": {
    "name": "ipython",
    "version": 3
   },
   "file_extension": ".py",
   "mimetype": "text/x-python",
   "name": "python",
   "nbconvert_exporter": "python",
   "pygments_lexer": "ipython3",
   "version": "3.11.5"
  }
 },
 "nbformat": 4,
 "nbformat_minor": 2
}
