{
 "cells": [
  {
   "cell_type": "code",
   "execution_count": null,
   "metadata": {},
   "outputs": [],
   "source": [
    "# 2529. 正整数和负整数的最大计数\n",
    "# https://leetcode.cn/problems/maximum-count-of-positive-integer-and-negative-integer/?envType=daily-question&envId=2024-07-02\n",
    "\n",
    "class Solution:\n",
    "    def maximumCount(self, nums: List[int]) -> int:\n",
    "        pos = 0\n",
    "        neg = 0\n",
    "        while nums:\n",
    "            a = nums.pop()\n",
    "            if a>0:\n",
    "                pos+=1\n",
    "            elif a<0:\n",
    "                neg+=1\n",
    "        return max(pos, neg)"
   ]
  },
  {
   "cell_type": "code",
   "execution_count": 2,
   "metadata": {},
   "outputs": [
    {
     "name": "stdout",
     "output_type": "stream",
     "text": [
      "NSW9EF4X593D\n"
     ]
    }
   ],
   "source": [
    "# 密码\n",
    "\n",
    "import random\n",
    "import string\n",
    "def generate_random_password(length=12):\n",
    "    characters = string.ascii_uppercase + string.digits\n",
    "    password = ''.join(random.choice(characters) for _ in range(length))\n",
    "    return password\n",
    "\n",
    "password = generate_random_password()\n",
    "print(password)"
   ]
  },
  {
   "cell_type": "code",
   "execution_count": null,
   "metadata": {},
   "outputs": [],
   "source": [
    "# 3099. 哈沙德数\n",
    "# https://leetcode.cn/problems/harshad-number/description/?envType=daily-question&envId=2024-07-03\n",
    "\n",
    "class Solution:\n",
    "    def sumOfTheDigitsOfHarshadNumber(self, x: int) -> int:\n",
    "        lst = list(map(int, list(str(x))))\n",
    "        summ = sum(lst)\n",
    "        if x%summ==0:\n",
    "            return summ\n",
    "        return -1"
   ]
  },
  {
   "cell_type": "code",
   "execution_count": 6,
   "metadata": {},
   "outputs": [
    {
     "name": "stdout",
     "output_type": "stream",
     "text": [
      "['15']\n",
      "['1', '5']\n"
     ]
    }
   ],
   "source": [
    "a = 15\n",
    "b = str(a)\n",
    "print(b.split())\n",
    "print(list(b))"
   ]
  },
  {
   "cell_type": "code",
   "execution_count": null,
   "metadata": {},
   "outputs": [],
   "source": [
    "# 3086. 拾起 K 个 1 需要的最少行动次数\n",
    "# https://leetcode.cn/problems/minimum-moves-to-pick-k-ones/description/?envType=daily-question&envId=2024-07-04\n",
    "\n",
    "# 牛\n",
    "class Solution:\n",
    "    def minimumMoves(self, nums: List[int], k: int, max_changes: int) -> int:\n",
    "        pos = []\n",
    "        c = 0  # nums 中连续的 1 长度\n",
    "        for i, x in enumerate(nums):\n",
    "            if x == 0:\n",
    "                continue\n",
    "            pos.append(i)  # 记录 1 的位置\n",
    "            c = max(c, 1)\n",
    "            if i > 0 and nums[i - 1] == 1:\n",
    "                if i > 1 and nums[i - 2] == 1:\n",
    "                    c = 3  # 有 3 个连续的 1\n",
    "                else:\n",
    "                    c = max(c, 2)  # 有 2 个连续的 1\n",
    "\n",
    "        c = min(c, k)\n",
    "        if max_changes >= k - c:\n",
    "            # 其余 k-c 个 1 可以全部用两次操作得到\n",
    "            return max(c - 1, 0) + (k - c) * 2\n",
    "\n",
    "        n = len(pos)\n",
    "        pre_sum = list(accumulate(pos, initial=0))\n",
    "\n",
    "        ans = inf\n",
    "        # 除了 max_changes 个数可以用两次操作得到，其余的 1 只能一步步移动到 pos[i]\n",
    "        size = k - max_changes\n",
    "        for right in range(size, n + 1):\n",
    "            # s1+s2 是 j 在 [left, right) 中的所有 pos[j] 到 pos[(left+right)/2] 的距离之和\n",
    "            left = right - size\n",
    "            i = left + size // 2\n",
    "            s1 = pos[i] * (i - left) - (pre_sum[i] - pre_sum[left])\n",
    "            s2 = pre_sum[right] - pre_sum[i] - pos[i] * (right - i)\n",
    "            ans = min(ans, s1 + s2)\n",
    "        return ans + max_changes * 2"
   ]
  },
  {
   "cell_type": "code",
   "execution_count": null,
   "metadata": {},
   "outputs": [],
   "source": [
    "# 3033. 修改矩阵\n",
    "# https://leetcode.cn/problems/modify-the-matrix/?envType=daily-question&envId=2024-07-06\n",
    "\n",
    "class Solution:\n",
    "    def modifiedMatrix(self, matrix: List[List[int]]) -> List[List[int]]:\n",
    "        m = len(matrix)\n",
    "        n = len(matrix[0])\n",
    "        temp = [-1]*n\n",
    "        for i in range(m):\n",
    "            for j in range(n):\n",
    "                if matrix[i][j]>temp[j]:\n",
    "                    temp[j] = matrix[i][j]\n",
    "        for i in range(m):\n",
    "            for j in range(n):\n",
    "                if matrix[i][j]==-1:\n",
    "                    matrix[i][j] = temp[j]\n",
    "        return matrix"
   ]
  },
  {
   "cell_type": "code",
   "execution_count": null,
   "metadata": {},
   "outputs": [],
   "source": [
    "# 3101. 交替子数组计数\n",
    "# https://leetcode.cn/problems/count-alternating-subarrays/description/?envType=daily-question&envId=2024-07-06\n",
    "\n",
    "class Solution:\n",
    "    def countAlternatingSubarrays(self, nums: List[int]) -> int:\n",
    "        dp = [0]*len(nums)\n",
    "        dp[0] = 1\n",
    "        for i in range(1, len(nums)):\n",
    "            if nums[i] != nums[i-1]:\n",
    "                dp[i] = dp[i-1]+1\n",
    "            else:\n",
    "                dp[i] = 1\n",
    "        return sum(dp)"
   ]
  },
  {
   "cell_type": "code",
   "execution_count": null,
   "metadata": {},
   "outputs": [],
   "source": [
    "# 31. 下一个排列\n",
    "# https://leetcode.cn/problems/next-permutation/description/\n",
    "\n",
    "class Solution:\n",
    "    def nextPermutation(self, nums: List[int]) -> None:\n",
    "        flag = False\n",
    "        for i in range(len(nums)-1, 0, -1):\n",
    "            if nums[i-1]<nums[i]:\n",
    "                ind = i-1\n",
    "                for j in range(len(nums)-1, ind, -1):\n",
    "                    if nums[j]>nums[ind]:\n",
    "                        nums[ind], nums[j] = nums[j], nums[ind]\n",
    "                        break\n",
    "                # nums[ind+1:].reverse()\n",
    "                nums[ind+1:] = reversed(nums[ind+1:])\n",
    "                flag = True\n",
    "                break\n",
    "        if not flag:\n",
    "            nums.reverse()"
   ]
  },
  {
   "cell_type": "code",
   "execution_count": 5,
   "metadata": {},
   "outputs": [
    {
     "name": "stdout",
     "output_type": "stream",
     "text": [
      "[2, 1]\n",
      "<list_reverseiterator object at 0x00000236D24EB6D0>\n"
     ]
    }
   ],
   "source": [
    "a = [1,2]\n",
    "a.reverse()\n",
    "print(a)\n",
    "b = [1,2]\n",
    "b = reversed(b)\n",
    "print(b)"
   ]
  }
 ],
 "metadata": {
  "kernelspec": {
   "display_name": "base",
   "language": "python",
   "name": "python3"
  },
  "language_info": {
   "codemirror_mode": {
    "name": "ipython",
    "version": 3
   },
   "file_extension": ".py",
   "mimetype": "text/x-python",
   "name": "python",
   "nbconvert_exporter": "python",
   "pygments_lexer": "ipython3",
   "version": "3.11.5"
  }
 },
 "nbformat": 4,
 "nbformat_minor": 2
}
