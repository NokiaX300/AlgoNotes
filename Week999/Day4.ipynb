{
 "cells": [
  {
   "cell_type": "code",
   "execution_count": null,
   "metadata": {},
   "outputs": [],
   "source": [
    "# 2529. 正整数和负整数的最大计数\n",
    "# https://leetcode.cn/problems/maximum-count-of-positive-integer-and-negative-integer/?envType=daily-question&envId=2024-07-02\n",
    "\n",
    "class Solution:\n",
    "    def maximumCount(self, nums: List[int]) -> int:\n",
    "        pos = 0\n",
    "        neg = 0\n",
    "        while nums:\n",
    "            a = nums.pop()\n",
    "            if a>0:\n",
    "                pos+=1\n",
    "            elif a<0:\n",
    "                neg+=1\n",
    "        return max(pos, neg)"
   ]
  },
  {
   "cell_type": "code",
   "execution_count": 2,
   "metadata": {},
   "outputs": [
    {
     "name": "stdout",
     "output_type": "stream",
     "text": [
      "NSW9EF4X593D\n"
     ]
    }
   ],
   "source": [
    "# 密码\n",
    "\n",
    "import random\n",
    "import string\n",
    "\n",
    "def generate_random_password(length=12):\n",
    "    characters = string.ascii_uppercase + string.digits\n",
    "    password = ''.join(random.choice(characters) for _ in range(length))\n",
    "    return password\n",
    "\n",
    "password = generate_random_password()\n",
    "print(password)"
   ]
  }
 ],
 "metadata": {
  "kernelspec": {
   "display_name": "base",
   "language": "python",
   "name": "python3"
  },
  "language_info": {
   "codemirror_mode": {
    "name": "ipython",
    "version": 3
   },
   "file_extension": ".py",
   "mimetype": "text/x-python",
   "name": "python",
   "nbconvert_exporter": "python",
   "pygments_lexer": "ipython3",
   "version": "3.11.5"
  }
 },
 "nbformat": 4,
 "nbformat_minor": 2
}
