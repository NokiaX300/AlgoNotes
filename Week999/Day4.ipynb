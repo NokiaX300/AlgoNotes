{
 "cells": [
  {
   "cell_type": "code",
   "execution_count": null,
   "metadata": {},
   "outputs": [],
   "source": [
    "# 2529. 正整数和负整数的最大计数\n",
    "# https://leetcode.cn/problems/maximum-count-of-positive-integer-and-negative-integer/?envType=daily-question&envId=2024-07-02\n",
    "\n",
    "class Solution:\n",
    "    def maximumCount(self, nums: List[int]) -> int:\n",
    "        pos = 0\n",
    "        neg = 0\n",
    "        while nums:\n",
    "            a = nums.pop()\n",
    "            if a>0:\n",
    "                pos+=1\n",
    "            elif a<0:\n",
    "                neg+=1\n",
    "        return max(pos, neg)"
   ]
  },
  {
   "cell_type": "code",
   "execution_count": 2,
   "metadata": {},
   "outputs": [
    {
     "name": "stdout",
     "output_type": "stream",
     "text": [
      "NSW9EF4X593D\n"
     ]
    }
   ],
   "source": [
    "# 密码\n",
    "\n",
    "import random\n",
    "import string\n",
    "def generate_random_password(length=12):\n",
    "    characters = string.ascii_uppercase + string.digits\n",
    "    password = ''.join(random.choice(characters) for _ in range(length))\n",
    "    return password\n",
    "\n",
    "password = generate_random_password()\n",
    "print(password)"
   ]
  },
  {
   "cell_type": "code",
   "execution_count": null,
   "metadata": {},
   "outputs": [],
   "source": [
    "# 3099. 哈沙德数\n",
    "# https://leetcode.cn/problems/harshad-number/description/?envType=daily-question&envId=2024-07-03\n",
    "\n",
    "class Solution:\n",
    "    def sumOfTheDigitsOfHarshadNumber(self, x: int) -> int:\n",
    "        lst = list(map(int, list(str(x))))\n",
    "        summ = sum(lst)\n",
    "        if x%summ==0:\n",
    "            return summ\n",
    "        return -1"
   ]
  },
  {
   "cell_type": "code",
   "execution_count": 6,
   "metadata": {},
   "outputs": [
    {
     "name": "stdout",
     "output_type": "stream",
     "text": [
      "['15']\n",
      "['1', '5']\n"
     ]
    }
   ],
   "source": [
    "a = 15\n",
    "b = str(a)\n",
    "print(b.split())\n",
    "print(list(b))"
   ]
  },
  {
   "cell_type": "code",
   "execution_count": null,
   "metadata": {},
   "outputs": [],
   "source": [
    "# 3086. 拾起 K 个 1 需要的最少行动次数\n",
    "# https://leetcode.cn/problems/minimum-moves-to-pick-k-ones/description/?envType=daily-question&envId=2024-07-04\n",
    "\n",
    "# 牛\n",
    "class Solution:\n",
    "    def minimumMoves(self, nums: List[int], k: int, max_changes: int) -> int:\n",
    "        pos = []\n",
    "        c = 0  # nums 中连续的 1 长度\n",
    "        for i, x in enumerate(nums):\n",
    "            if x == 0:\n",
    "                continue\n",
    "            pos.append(i)  # 记录 1 的位置\n",
    "            c = max(c, 1)\n",
    "            if i > 0 and nums[i - 1] == 1:\n",
    "                if i > 1 and nums[i - 2] == 1:\n",
    "                    c = 3  # 有 3 个连续的 1\n",
    "                else:\n",
    "                    c = max(c, 2)  # 有 2 个连续的 1\n",
    "\n",
    "        c = min(c, k)\n",
    "        if max_changes >= k - c:\n",
    "            # 其余 k-c 个 1 可以全部用两次操作得到\n",
    "            return max(c - 1, 0) + (k - c) * 2\n",
    "\n",
    "        n = len(pos)\n",
    "        pre_sum = list(accumulate(pos, initial=0))\n",
    "\n",
    "        ans = inf\n",
    "        # 除了 max_changes 个数可以用两次操作得到，其余的 1 只能一步步移动到 pos[i]\n",
    "        size = k - max_changes\n",
    "        for right in range(size, n + 1):\n",
    "            # s1+s2 是 j 在 [left, right) 中的所有 pos[j] 到 pos[(left+right)/2] 的距离之和\n",
    "            left = right - size\n",
    "            i = left + size // 2\n",
    "            s1 = pos[i] * (i - left) - (pre_sum[i] - pre_sum[left])\n",
    "            s2 = pre_sum[right] - pre_sum[i] - pos[i] * (right - i)\n",
    "            ans = min(ans, s1 + s2)\n",
    "        return ans + max_changes * 2"
   ]
  },
  {
   "cell_type": "code",
   "execution_count": null,
   "metadata": {},
   "outputs": [],
   "source": [
    "# 3033. 修改矩阵\n",
    "# https://leetcode.cn/problems/modify-the-matrix/?envType=daily-question&envId=2024-07-06\n",
    "\n",
    "class Solution:\n",
    "    def modifiedMatrix(self, matrix: List[List[int]]) -> List[List[int]]:\n",
    "        m = len(matrix)\n",
    "        n = len(matrix[0])\n",
    "        temp = [-1]*n\n",
    "        for i in range(m):\n",
    "            for j in range(n):\n",
    "                if matrix[i][j]>temp[j]:\n",
    "                    temp[j] = matrix[i][j]\n",
    "        for i in range(m):\n",
    "            for j in range(n):\n",
    "                if matrix[i][j]==-1:\n",
    "                    matrix[i][j] = temp[j]\n",
    "        return matrix"
   ]
  },
  {
   "cell_type": "code",
   "execution_count": null,
   "metadata": {},
   "outputs": [],
   "source": [
    "# 3101. 交替子数组计数\n",
    "# https://leetcode.cn/problems/count-alternating-subarrays/description/?envType=daily-question&envId=2024-07-06\n",
    "\n",
    "class Solution:\n",
    "    def countAlternatingSubarrays(self, nums: List[int]) -> int:\n",
    "        dp = [0]*len(nums)\n",
    "        dp[0] = 1\n",
    "        for i in range(1, len(nums)):\n",
    "            if nums[i] != nums[i-1]:\n",
    "                dp[i] = dp[i-1]+1\n",
    "            else:\n",
    "                dp[i] = 1\n",
    "        return sum(dp)"
   ]
  },
  {
   "cell_type": "code",
   "execution_count": null,
   "metadata": {},
   "outputs": [],
   "source": [
    "# 31. 下一个排列\n",
    "# https://leetcode.cn/problems/next-permutation/description/\n",
    "\n",
    "class Solution:\n",
    "    def nextPermutation(self, nums: List[int]) -> None:\n",
    "        flag = False\n",
    "        for i in range(len(nums)-1, 0, -1):\n",
    "            if nums[i-1]<nums[i]:\n",
    "                ind = i-1\n",
    "                # 找到比 nums[ind] 大的最小元素\n",
    "                for j in range(len(nums)-1, ind, -1):\n",
    "                    if nums[j]>nums[ind]:\n",
    "                        nums[ind], nums[j] = nums[j], nums[ind]\n",
    "                        break\n",
    "                # nums[ind+1:].reverse()\n",
    "                nums[ind+1:] = reversed(nums[ind+1:])\n",
    "                flag = True\n",
    "                break\n",
    "        if not flag:\n",
    "            nums.reverse()"
   ]
  },
  {
   "cell_type": "code",
   "execution_count": 5,
   "metadata": {},
   "outputs": [
    {
     "name": "stdout",
     "output_type": "stream",
     "text": [
      "[2, 1]\n",
      "<list_reverseiterator object at 0x00000236D24EB6D0>\n"
     ]
    }
   ],
   "source": [
    "a = [1,2]\n",
    "a.reverse()\n",
    "print(a)\n",
    "b = [1,2]\n",
    "b = reversed(b)\n",
    "print(b)"
   ]
  },
  {
   "cell_type": "code",
   "execution_count": null,
   "metadata": {},
   "outputs": [],
   "source": [
    "# 1958. 检查操作是否合法\n",
    "# https://leetcode.cn/problems/check-if-move-is-legal/description/?envType=daily-question&envId=2024-07-07\n",
    "\n",
    "class Solution:\n",
    "    def checkMove(self, board: List[List[str]], rMove: int, cMove: int, color: str) -> bool:\n",
    "        m, n = len(board), len(board[0])\n",
    "        for dx, dy in (1, 0), (1, 1), (0, 1), (-1, 1), (-1, 0), (-1, -1), (0, -1), (1, -1):\n",
    "            x, y = rMove + dx, cMove + dy\n",
    "            if x < 0 or x >= m or y < 0 or y >= n or board[x][y] == '.' or board[x][y] == color:\n",
    "                continue\n",
    "            while True:\n",
    "                x += dx\n",
    "                y += dy\n",
    "                if x < 0 or x >= m or y < 0 or y >= n or board[x][y] == '.':\n",
    "                    break\n",
    "                if board[x][y] == color:\n",
    "                    return True\n",
    "        return False"
   ]
  },
  {
   "cell_type": "code",
   "execution_count": null,
   "metadata": {},
   "outputs": [],
   "source": [
    "# 724. 寻找数组的中心下标\n",
    "# https://leetcode.cn/problems/find-pivot-index/description/?envType=daily-question&envId=2024-07-07\n",
    "\n",
    "class Solution:\n",
    "    def pivotIndex(self, nums: List[int]) -> int:\n",
    "        left = 0\n",
    "        right = sum(nums)\n",
    "        for i in range(len(nums)):\n",
    "            if i>0:\n",
    "                left += nums[i-1]\n",
    "            right -= nums[i]\n",
    "            if left==right:\n",
    "                return i\n",
    "        return -1"
   ]
  },
  {
   "cell_type": "code",
   "execution_count": null,
   "metadata": {},
   "outputs": [],
   "source": [
    "# 3102. 最小化曼哈顿距离\n",
    "# https://leetcode.cn/problems/minimize-manhattan-distances/description/?envType=daily-question&envId=2024-07-07\n",
    "\n",
    "# 牛\n",
    "from sortedcontainers import SortedList\n",
    "class Solution:\n",
    "    def minimumDistance(self, points: List[List[int]]) -> int:\n",
    "        sx = SortedList(p[0] - p[1] for p in points)\n",
    "        sy = SortedList(p[0] + p[1] for p in points)\n",
    "        res = float('inf')\n",
    "        for p in points:\n",
    "            sx.remove(p[0] - p[1])\n",
    "            sy.remove(p[0] + p[1])\n",
    "            res = min(res, max(sx[-1] - sx[0], sy[-1] - sy[0]))\n",
    "            sx.add(p[0] - p[1])\n",
    "            sy.add(p[0] + p[1])\n",
    "        return res"
   ]
  },
  {
   "cell_type": "code",
   "execution_count": null,
   "metadata": {},
   "outputs": [],
   "source": [
    "# 2970. 统计移除递增子数组的数目 I\n",
    "# https://leetcode.cn/problems/count-the-number-of-incremovable-subarrays-i/description/?envType=daily-question&envId=2024-07-07\n",
    "\n",
    "class Solution:\n",
    "    def incremovableSubarrayCount(self, nums: List[int]) -> int:\n",
    "        res = 0\n",
    "        for i in range(len(nums)):\n",
    "            for j in range(i, len(nums)):\n",
    "                if self.check(nums[:i]+nums[j+1:]):\n",
    "                    res += 1\n",
    "        return res\n",
    "\n",
    "    def check(self, nums):\n",
    "        for i in range(len(nums)-1):\n",
    "            if nums[i]>=nums[i+1]:\n",
    "                return False\n",
    "        return True"
   ]
  },
  {
   "cell_type": "code",
   "execution_count": null,
   "metadata": {},
   "outputs": [],
   "source": [
    "# 2972. 统计移除递增子数组的数目 II\n",
    "# https://leetcode.cn/problems/count-the-number-of-incremovable-subarrays-ii/description/?envType=daily-question&envId=2024-07-07\n",
    "\n",
    "# 子数组可以为空\n",
    "# 牛\n",
    "class Solution:\n",
    "    def incremovableSubarrayCount(self, a: List[int]) -> int:\n",
    "        n = len(a)\n",
    "        i = 0\n",
    "        while i < n - 1 and a[i] < a[i + 1]:\n",
    "            i += 1\n",
    "        if i == n - 1:  # 每个非空子数组都可以移除\n",
    "            return n * (n + 1) // 2\n",
    "\n",
    "        ans = i + 2  # 不保留后缀的情况，一共 i+2 个\n",
    "        # 枚举保留的后缀为 a[j:]\n",
    "        j = n - 1\n",
    "        while j == n - 1 or a[j] < a[j + 1]:\n",
    "            while i >= 0 and a[i] >= a[j]:\n",
    "                i -= 1\n",
    "            # 可以保留前缀 a[:i+1], a[:i], ..., a[:0] 一共 i+2 个\n",
    "            ans += i + 2\n",
    "            j -= 1\n",
    "        return ans"
   ]
  },
  {
   "cell_type": "code",
   "execution_count": null,
   "metadata": {},
   "outputs": [],
   "source": [
    "# 2974. 最小数字游戏\n",
    "# https://leetcode.cn/problems/minimum-number-game/description/?envType=daily-question&envId=2024-07-07\n",
    "\n",
    "class Solution:\n",
    "    def numberGame(self, nums: List[int]) -> List[int]:\n",
    "        nums.sort()\n",
    "        i = 0\n",
    "        while i<len(nums):\n",
    "            nums[i], nums[i+1] = nums[i+1], nums[i]\n",
    "            i += 2\n",
    "        return nums"
   ]
  },
  {
   "cell_type": "code",
   "execution_count": null,
   "metadata": {},
   "outputs": [],
   "source": [
    "# 3011. 判断一个数组是否可以变为有序\n",
    "# https://leetcode.cn/problems/find-if-array-can-be-sorted/description/?envType=daily-question&envId=2024-07-07\n",
    "\n",
    "class Solution:\n",
    "    def canSortArray(self, nums: List[int]) -> bool:\n",
    "        n = len(nums)\n",
    "        i = 0\n",
    "        while i < n:\n",
    "            start = i\n",
    "            ones = nums[i].bit_count()\n",
    "            i += 1\n",
    "            while i < n and nums[i].bit_count() == ones:\n",
    "                i += 1\n",
    "            nums[start:i] = sorted(nums[start:i])\n",
    "        return all(x <= y for x, y in pairwise(nums))"
   ]
  },
  {
   "cell_type": "code",
   "execution_count": null,
   "metadata": {},
   "outputs": [],
   "source": [
    "# 807. 保持城市天际线\n",
    "# https://leetcode.cn/problems/max-increase-to-keep-city-skyline/description/?envType=daily-question&envId=2024-07-07\n",
    "\n",
    "class Solution:\n",
    "    def maxIncreaseKeepingSkyline(self, grid: List[List[int]]) -> int:\n",
    "        row_max = list(map(max, grid))\n",
    "        col_max = list(map(max, zip(*grid)))\n",
    "        ans = 0\n",
    "        for i, row in enumerate(grid):\n",
    "            for j, x in enumerate(row):\n",
    "                ans += min(row_max[i], col_max[j]) - x\n",
    "        return ans"
   ]
  },
  {
   "cell_type": "code",
   "execution_count": null,
   "metadata": {},
   "outputs": [],
   "source": [
    "# 721. 账户合并\n",
    "# https://leetcode.cn/problems/accounts-merge/description/?envType=daily-question&envId=2024-07-07\n",
    "\n",
    "# 哈希表 + 并查集\n",
    "class UnionFind:\n",
    "    def __init__(self, n):\n",
    "        self.parent = list(range(n))\n",
    "\n",
    "    def union(self, index1: int, index2: int):\n",
    "        self.parent[self.find(index2)] = self.find(index1)\n",
    "\n",
    "    def find(self, index: int) -> int:\n",
    "        if self.parent[index] != index:\n",
    "            self.parent[index] = self.find(self.parent[index])\n",
    "        return self.parent[index]\n",
    "\n",
    "class Solution:\n",
    "    def accountsMerge(self, accounts: List[List[str]]) -> List[List[str]]:\n",
    "        emailToIndex = dict()\n",
    "        emailToName = dict()\n",
    "\n",
    "        for account in accounts:\n",
    "            name = account[0]\n",
    "            for email in account[1:]:\n",
    "                if email not in emailToIndex:\n",
    "                    emailToIndex[email] = len(emailToIndex)\n",
    "                    emailToName[email] = name\n",
    "        \n",
    "        uf = UnionFind(len(emailToIndex))\n",
    "        for account in accounts:\n",
    "            firstIndex = emailToIndex[account[1]]\n",
    "            for email in account[2:]:\n",
    "                uf.union(firstIndex, emailToIndex[email])\n",
    "        \n",
    "        indexToEmails = collections.defaultdict(list)\n",
    "        for email, index in emailToIndex.items():\n",
    "            index = uf.find(index)\n",
    "            indexToEmails[index].append(email)\n",
    "        \n",
    "        ans = list()\n",
    "        for emails in indexToEmails.values():\n",
    "            ans.append([emailToName[emails[0]]] + sorted(emails))\n",
    "        return ans"
   ]
  },
  {
   "cell_type": "code",
   "execution_count": null,
   "metadata": {},
   "outputs": [],
   "source": [
    "# 2956. 找到两个数组中的公共元素\n",
    "# https://leetcode.cn/problems/find-common-elements-between-two-arrays/description/?envType=daily-question&envId=2024-07-07\n",
    "\n",
    "class Solution:\n",
    "    def findIntersectionValues(self, nums1: List[int], nums2: List[int]) -> List[int]:\n",
    "        a = 0\n",
    "        b = 0\n",
    "        for ele in nums1:\n",
    "            if ele in nums2:\n",
    "                a += 1\n",
    "        for ele in nums2:\n",
    "            if ele in nums1:\n",
    "                b += 1\n",
    "        return [a, b]"
   ]
  },
  {
   "cell_type": "code",
   "execution_count": 1,
   "metadata": {},
   "outputs": [
    {
     "name": "stdout",
     "output_type": "stream",
     "text": [
      "{(4, 3): {2, (1, 5)}}\n"
     ]
    }
   ],
   "source": [
    "dicts = {}\n",
    "dicts[(4, 3)] = ({2, (1, 5)})\n",
    "print(dicts)"
   ]
  },
  {
   "cell_type": "code",
   "execution_count": 2,
   "metadata": {},
   "outputs": [
    {
     "ename": "TypeError",
     "evalue": "pop expected at least 1 argument, got 0",
     "output_type": "error",
     "traceback": [
      "\u001b[1;31m---------------------------------------------------------------------------\u001b[0m",
      "\u001b[1;31mTypeError\u001b[0m                                 Traceback (most recent call last)",
      "Cell \u001b[1;32mIn[2], line 2\u001b[0m\n\u001b[0;32m      1\u001b[0m dicts \u001b[38;5;241m=\u001b[39m {\u001b[38;5;124m'\u001b[39m\u001b[38;5;124mapple\u001b[39m\u001b[38;5;124m'\u001b[39m: \u001b[38;5;241m1\u001b[39m, \u001b[38;5;124m'\u001b[39m\u001b[38;5;124mbanana\u001b[39m\u001b[38;5;124m'\u001b[39m: \u001b[38;5;241m2\u001b[39m, \u001b[38;5;124m'\u001b[39m\u001b[38;5;124mcheese\u001b[39m\u001b[38;5;124m'\u001b[39m: \u001b[38;5;241m3\u001b[39m}        \n\u001b[1;32m----> 2\u001b[0m \u001b[38;5;28mprint\u001b[39m(\u001b[43mdicts\u001b[49m\u001b[38;5;241;43m.\u001b[39;49m\u001b[43mpop\u001b[49m\u001b[43m(\u001b[49m\u001b[43m)\u001b[49m)\n",
      "\u001b[1;31mTypeError\u001b[0m: pop expected at least 1 argument, got 0"
     ]
    }
   ],
   "source": [
    "dicts = {'apple': 1, 'banana': 2, 'cheese': 3}        \n",
    "print(dicts.pop())"
   ]
  },
  {
   "cell_type": "code",
   "execution_count": 1,
   "metadata": {},
   "outputs": [
    {
     "name": "stdout",
     "output_type": "stream",
     "text": [
      " bjrxt\n"
     ]
    }
   ],
   "source": [
    "a = \" bjrxts\" # 注意有个空格\n",
    "print(a[:6])"
   ]
  },
  {
   "cell_type": "code",
   "execution_count": 6,
   "metadata": {},
   "outputs": [
    {
     "data": {
      "text/plain": [
       "[17, 255, 333, 369, 111, 687]"
      ]
     },
     "execution_count": 6,
     "metadata": {},
     "output_type": "execute_result"
    }
   ],
   "source": [
    "[17,255,333] + [369,111,687]"
   ]
  },
  {
   "cell_type": "code",
   "execution_count": null,
   "metadata": {},
   "outputs": [],
   "source": [
    "# 2024大疆测试开发笔试\n",
    "\n",
    "# 在一个m*n的二维网格中，我们的无人机从左上角出发去到右下角\n",
    "# 无人机初始电量是一个正整数，如果电量降低到0或以下，那么会立即炸机坠毁\n",
    "# 路上经过的所有网格有不同的物理特性，导致无人机经过时消耗的电量不一样（负整数代表消耗的电量值）；\n",
    "# 有些网格如此奇妙，对于无人机来说如同瞬间通过不消耗电量（网格数值为0）；\n",
    "# 还有一些网格无人机经过会增加电量（正整数代表增加的电量）；\n",
    "# 为了尽快到达右下角，无人机每次只向右或向下移动一步。请编程计算并返回能够确保无人机到达右下角的最低初始电量。\n",
    "\n",
    "# 动态规划\n",
    "def calculate_minimum_initial_energy(grid):\n",
    "    m = len(grid)\n",
    "    n = len(grid[0])\n",
    "    dp = [[0 for _ in range(n)] for _ in range(m)]\n",
    "    # 如果最后一格也要扣电, 则需要额外电量\n",
    "    dp[m-1][n-1] = max(1, 1-grid[m-1][n-1])\n",
    "    # 最后一行\n",
    "    for j in range(n-2, -1, -1):\n",
    "        dp[m-1][j] = max(1, dp[m-1][j+1]-grid[m-1][j])\n",
    "    # 最后一列\n",
    "    for i in range(m-2, -1, -1):\n",
    "        dp[i][n-1] = max(1, dp[i+1][n-1]-grid[i][n-1])\n",
    "    for i in range(m-2, -1, -1):\n",
    "        for j in range(n-2, -1, -1):\n",
    "            smaller = min(dp[i+1][j], dp[i][j+1])\n",
    "            dp[i][j] = max(1, smaller-grid[i][j])\n",
    "    return dp[0][0]"
   ]
  },
  {
   "cell_type": "code",
   "execution_count": 4,
   "metadata": {},
   "outputs": [
    {
     "name": "stdout",
     "output_type": "stream",
     "text": [
      "[[0, 0, 0, 0, 0, 0, 0, 0], [0, 0, 0, 0, 0, 0, 0, 0]]\n",
      "[[0, 0, 0, 0, 0, 0, 0, 0], [0, 0, 0, 0, 0, 0, 0, 0]]\n"
     ]
    }
   ],
   "source": [
    "print([[0 for _ in range(8)] for _ in range(2)])\n",
    "print([[0]*8 for _ in range(2)])"
   ]
  },
  {
   "cell_type": "code",
   "execution_count": null,
   "metadata": {},
   "outputs": [],
   "source": [
    "# 2024大疆测试开发笔试\n",
    "\n",
    "def extract_filenames_extensions_versions(a):\n",
    "    res = []\n",
    "    for ele in a:\n",
    "        result = []\n",
    "        if '_' not in ele:\n",
    "            if '.' not in ele:\n",
    "                result.append(ele)\n",
    "                result.append('')\n",
    "            else:\n",
    "                result.extend(list(ele.split('.')))\n",
    "            result.append(0)\n",
    "        elif '.' not in ele:\n",
    "            temp = list(ele.split('_'))\n",
    "            result.append(temp[0])\n",
    "            result.append('')\n",
    "            result.append(int(temp[-1][1:]))\n",
    "        else:\n",
    "            temp = list(ele.split('_'))\n",
    "            result.append(temp[0])\n",
    "            b = list(temp[-1].split('.'))\n",
    "            b[0] = int(b[0][1:])\n",
    "            result.extend(b[::-1])\n",
    "        res.append(tuple(result))\n",
    "    return res\n",
    "# a = ['file_v1.txt', 'file_v2.txt']\n",
    "a = input()\n",
    "# print(eval(a))\n",
    "a = eval(a)\n",
    "extract_filenames_extensions_versions(a)"
   ]
  },
  {
   "cell_type": "code",
   "execution_count": 5,
   "metadata": {},
   "outputs": [
    {
     "name": "stdout",
     "output_type": "stream",
     "text": [
      "59\n"
     ]
    }
   ],
   "source": [
    "# 牛客网拼多多2021笔试真题集\n",
    "# 每个数字的十进制表示中(0~9)，每个数位各不相同且各个数位之和等于N\n",
    "# 满足条件的数字可能很多，找到其中的最小值即可\n",
    "\n",
    "a = int(input())\n",
    "res = []\n",
    "for i in range(9,0,-1):\n",
    "    if a==0:\n",
    "        break\n",
    "    if a>=i:\n",
    "        res.append(i)\n",
    "        a-=i\n",
    "if a!=0:\n",
    "    print(-1)\n",
    "    # 退出程序\n",
    "    exit()\n",
    "res.sort()\n",
    "print(''.join(map(str, res)))"
   ]
  },
  {
   "cell_type": "code",
   "execution_count": 3,
   "metadata": {},
   "outputs": [
    {
     "name": "stdout",
     "output_type": "stream",
     "text": [
      "123\n"
     ]
    }
   ],
   "source": [
    "res = [1,2,3]\n",
    "print(''.join(map(str, res)))"
   ]
  },
  {
   "cell_type": "code",
   "execution_count": null,
   "metadata": {},
   "outputs": [],
   "source": [
    "# 牛客网拼多多2021笔试真题集\n",
    "# 可以对字符串进行若干次变换操作:\n",
    "# 交换任意两个相邻的字符，代价为0\n",
    "# 将任意一个字符a修改成字符b，代价为 |a - b|（绝对值）\n",
    "# 现在有两个长度相同的字符串X和Y，多多君想知道，如果要将X和Y变成两个一样的字符串，需要的最少的代价之和是多少\n",
    "\n",
    "n = int(input())\n",
    "x = input()\n",
    "y = input()\n",
    "\n",
    "cost = 0\n",
    "x = sorted(x)\n",
    "y = sorted(y)\n",
    "for i in range(len(x)):\n",
    "    cost += abs(ord(x[i])-ord(y[i]))\n",
    "print(cost)"
   ]
  },
  {
   "cell_type": "code",
   "execution_count": 9,
   "metadata": {},
   "outputs": [
    {
     "name": "stdout",
     "output_type": "stream",
     "text": [
      "['a', 'f', 's']\n"
     ]
    }
   ],
   "source": [
    "a ='fas'\n",
    "a = sorted(a)\n",
    "print(a)"
   ]
  }
 ],
 "metadata": {
  "kernelspec": {
   "display_name": "base",
   "language": "python",
   "name": "python3"
  },
  "language_info": {
   "codemirror_mode": {
    "name": "ipython",
    "version": 3
   },
   "file_extension": ".py",
   "mimetype": "text/x-python",
   "name": "python",
   "nbconvert_exporter": "python",
   "pygments_lexer": "ipython3",
   "version": "3.11.5"
  }
 },
 "nbformat": 4,
 "nbformat_minor": 2
}
