{
 "cells": [
  {
   "cell_type": "code",
   "execution_count": 8,
   "metadata": {},
   "outputs": [
    {
     "name": "stdout",
     "output_type": "stream",
     "text": [
      "6\n"
     ]
    }
   ],
   "source": [
    "# 牛客网拼多多2021笔试真题集\n",
    "# 多多路上从左到右有N棵树（编号1～N），其中第i个颗树有和谐值Ai\n",
    "# 多多鸡认为，如果一段连续的树，它们的和谐值之和可以被M整除，那么这个区间整体看起来就是和谐的\n",
    "# 现在多多鸡想请你帮忙计算一下，满足和谐条件的区间的数量\n",
    "\n",
    "# 时间复杂度过高\n",
    "from functools import cache\n",
    "n, m = map(int, input().split())\n",
    "lst = list(map(int, input().split()))\n",
    "@cache\n",
    "def fun(n, lst):\n",
    "    res = 0\n",
    "    for i in range(n):\n",
    "        for j in range(i, n):\n",
    "            a = sum(lst[i: j+1])\n",
    "            if a % m == 0:\n",
    "                res += 1\n",
    "    return res\n",
    "res = fun(n, tuple(lst))\n",
    "print(res)"
   ]
  },
  {
   "cell_type": "code",
   "execution_count": 10,
   "metadata": {},
   "outputs": [
    {
     "name": "stdout",
     "output_type": "stream",
     "text": [
      "6\n"
     ]
    }
   ],
   "source": [
    "# 前缀和\n",
    "# 时间复杂度还是过高\n",
    "n, m = map(int, input().split())\n",
    "lst = list(map(int, input().split()))\n",
    "preSum = [0]*(n+1)\n",
    "res = 0\n",
    "for i in range(1, n+1):\n",
    "    preSum[i] = preSum[i-1]+lst[i-1]\n",
    "for i in range(n+1):\n",
    "    for j in range(i+1, n+1):\n",
    "        if (preSum[j]-preSum[i]) %m==0:\n",
    "            res += 1\n",
    "print(res)"
   ]
  },
  {
   "cell_type": "code",
   "execution_count": 13,
   "metadata": {},
   "outputs": [
    {
     "name": "stdout",
     "output_type": "stream",
     "text": [
      "[0, 1, 3, 6]\n"
     ]
    }
   ],
   "source": [
    "lst = [1,2,3]\n",
    "n=len(lst)\n",
    "preSum = [0]*(n+1)\n",
    "res = 0\n",
    "for i in range(1, n+1):\n",
    "    preSum[i] = preSum[i-1]+lst[i-1]\n",
    "print(preSum)"
   ]
  },
  {
   "cell_type": "code",
   "execution_count": null,
   "metadata": {},
   "outputs": [],
   "source": [
    "# 前缀和 + 哈希\n",
    "# (preSum[j]−preSum[i])%m==0 ⟺ preSum[j]%m==preSum[i]%m\n",
    "from collections import defaultdict\n",
    "n, m = map(int, input().split())\n",
    "lst = list(map(int, input().split()))\n",
    "preSum = [0]*(n+1)\n",
    "res = 0\n",
    "dic = defaultdict(int)\n",
    "dic[0] = 1\n",
    "for i in range(1, n+1):\n",
    "    preSum[i] = preSum[i-1]+lst[i-1]\n",
    "    mod = preSum[i]%m\n",
    "    if mod in dic:\n",
    "        res += dic[mod]\n",
    "    dic[mod] += 1\n",
    "print(res)"
   ]
  },
  {
   "cell_type": "markdown",
   "metadata": {},
   "source": [
    "<img src=\"MT_1.png\" style=\"zoom:50%\" />"
   ]
  },
  {
   "cell_type": "code",
   "execution_count": 9,
   "metadata": {},
   "outputs": [
    {
     "name": "stdout",
     "output_type": "stream",
     "text": [
      "1080P\n",
      "4K\n"
     ]
    }
   ],
   "source": [
    "n = int(input())\n",
    "lst = []\n",
    "for i in range(n):\n",
    "    a, b = map(int, input().split())\n",
    "    lst.append((a, b))\n",
    "# print(lst)\n",
    "res = []\n",
    "\n",
    "def output(a):\n",
    "    h = a[0]\n",
    "    w = a[1]\n",
    "    # print(h, w)\n",
    "    if h>=w:\n",
    "        h, w = w, h\n",
    "    if h<360:\n",
    "        return 'break'\n",
    "    elif 360<=h<480:\n",
    "        return '360P'\n",
    "    elif 480<=h<720:\n",
    "        return '480P'\n",
    "    elif 720<=h<1080:\n",
    "        return '720P'\n",
    "    elif 1080<=h<2160:\n",
    "        return '1080P'\n",
    "    else:\n",
    "        return '4K'\n",
    "    \n",
    "for i in range(len(lst)):\n",
    "    res.append(output(lst[i]))\n",
    "for ele in res:\n",
    "    print(ele)"
   ]
  },
  {
   "cell_type": "code",
   "execution_count": 7,
   "metadata": {},
   "outputs": [
    {
     "name": "stdout",
     "output_type": "stream",
     "text": [
      "break\n"
     ]
    }
   ],
   "source": [
    "def output(a):\n",
    "    h = a[0]\n",
    "    w = a[1]\n",
    "    # print(h, w)\n",
    "    if h<w:\n",
    "        h, w = w, h\n",
    "    if h<360:\n",
    "        return 'break'\n",
    "\n",
    "print(output((34, 350)))"
   ]
  },
  {
   "cell_type": "markdown",
   "metadata": {},
   "source": [
    "<img src=\"MT_2.png\" style=\"zoom:50%\" />"
   ]
  },
  {
   "cell_type": "code",
   "execution_count": 14,
   "metadata": {},
   "outputs": [
    {
     "name": "stdout",
     "output_type": "stream",
     "text": [
      "(1, 0)\n"
     ]
    }
   ],
   "source": [
    "# 错误代码\n",
    "# s---a-b-t\n",
    "# 应为 satbt\n",
    "# 但本代码可能会输出 sbtat\n",
    "\n",
    "def distance(a, b):\n",
    "    x1 = a[0]\n",
    "    x2 = b[0]\n",
    "    y1 = a[1]\n",
    "    y2 = b[1]\n",
    "    return abs(x1-x2)+abs(y1-y2)\n",
    "\n",
    "x0, y0, xt, yt = map(int, input().split())\n",
    "start = (x0, y0)\n",
    "end = (xt, yt)\n",
    "n = int(input())\n",
    "lst = []\n",
    "for i in range(n):\n",
    "    a, b = map(int, input().split())\n",
    "    lst.append((a, b))\n",
    "\n",
    "# print(lst, start, end)\n",
    "first = float('inf')\n",
    "for i in range(len(lst)):\n",
    "    first_d = distance(start, lst[i])+distance(lst[i], end)\n",
    "    if first_d<first:\n",
    "        first_ind = i\n",
    "        first = first_d\n",
    "lst.pop(first_ind)\n",
    "\n",
    "res = 0\n",
    "res += first\n",
    "for i in range(len(lst)):\n",
    "    res += 2*distance(end, lst[i])\n",
    "print(res)"
   ]
  },
  {
   "cell_type": "code",
   "execution_count": 13,
   "metadata": {},
   "outputs": [
    {
     "data": {
      "text/plain": [
       "(1, 1)"
      ]
     },
     "execution_count": 13,
     "metadata": {},
     "output_type": "execute_result"
    }
   ],
   "source": [
    "lst = [(1,1), (2,1)]\n",
    "lst.pop(0)"
   ]
  },
  {
   "cell_type": "code",
   "execution_count": null,
   "metadata": {},
   "outputs": [],
   "source": [
    "# 正确代码\n",
    "a,b,c,d = map(int, input().split())\n",
    "n = int(input())\n",
    "res = 0\n",
    "for _ in range(n):\n",
    "    x, y = map(int, input().split())\n",
    "    k = 2*(abs(x-c)+abs(y-d))\n",
    "    z = max(z, k - (abs(a - x) + abs(b - y) + abs(c - x) + abs(d - y)))\n",
    "    res += k\n",
    "print(res-z)"
   ]
  },
  {
   "cell_type": "markdown",
   "metadata": {},
   "source": [
    "<img src=\"MT_3.png\" style=\"zoom:50%\" />"
   ]
  },
  {
   "cell_type": "code",
   "execution_count": 16,
   "metadata": {},
   "outputs": [
    {
     "name": "stdout",
     "output_type": "stream",
     "text": [
      "[1, 2, 3]\n"
     ]
    }
   ],
   "source": [
    "a,b,c,k = map(int, input().split())\n",
    "lst = sorted([a,b,c])\n",
    "a,b,c = lst[0],lst[1],lst[2]\n",
    "# print(lst)\n",
    "bar1 = b-a\n",
    "bar2 = c-b+c-a\n",
    "if k<=bar1:\n",
    "    a += k\n",
    "elif bar1<k<=bar2:\n",
    "    a = b\n",
    "    k -= bar1\n",
    "    if k%2==0:\n",
    "        a += k//2\n",
    "        b = a\n",
    "    else:\n",
    "        a += k//2\n",
    "        b = a + 1\n",
    "else:\n",
    "    a = c\n",
    "    b = c\n",
    "    k -= bar2\n",
    "    a += k//3\n",
    "    b = a\n",
    "    c = a\n",
    "    # 没考虑除三余一\n",
    "    # a += k%3\n",
    "    # b += k%3\n",
    "    r = k%3\n",
    "    if r == 1:\n",
    "        a += 1\n",
    "    else:\n",
    "        a += 1\n",
    "        b += 1\n",
    "# res = a*b*c%(10e9+7)\n",
    "\n",
    "# res = a*b*c%(10**9+7)\n",
    "res = 1\n",
    "MOD = 10**9+7\n",
    "res = (res*a)%MOD\n",
    "res = (res*b)%MOD\n",
    "res = (res*c)%MOD\n",
    "\n",
    "print(res)"
   ]
  },
  {
   "cell_type": "code",
   "execution_count": 17,
   "metadata": {},
   "outputs": [
    {
     "name": "stdout",
     "output_type": "stream",
     "text": [
      "10000000000.0\n"
     ]
    }
   ],
   "source": [
    "# 浮点数\n",
    "print(10e9)"
   ]
  },
  {
   "cell_type": "markdown",
   "metadata": {},
   "source": [
    "<img src=\"MT_4.png\" style=\"zoom:50%\" />"
   ]
  },
  {
   "cell_type": "markdown",
   "metadata": {},
   "source": [
    "<img src=\"MT_4_2.png\" style=\"zoom:50%\" />"
   ]
  },
  {
   "cell_type": "code",
   "execution_count": 18,
   "metadata": {},
   "outputs": [
    {
     "name": "stdout",
     "output_type": "stream",
     "text": [
      "[0, 3, 2, 1, 4, 5]\n",
      "[(1, 2), (1, 3), (2, 4), (2, 5), (5, 6)]\n"
     ]
    }
   ],
   "source": [
    "n = int(input())\n",
    "edge = []\n",
    "value = list(map(int, input().split()))\n",
    "for i in range(n-1):\n",
    "    a, b = map(int, input().split())\n",
    "    edge.append((a-1, b-1))\n",
    "visited = []\n",
    "# print(value)\n",
    "# print(edge)\n",
    "visited.append(0)"
   ]
  },
  {
   "cell_type": "code",
   "execution_count": null,
   "metadata": {},
   "outputs": [],
   "source": [
    "# LCA"
   ]
  },
  {
   "cell_type": "code",
   "execution_count": null,
   "metadata": {},
   "outputs": [],
   "source": [
    "# 错误代码\n",
    "def buy(lst, l,r,t,k):\n",
    "    dic = {}\n",
    "    dates = []\n",
    "    for i in range(l, r+1):\n",
    "        type = lst[i][1]\n",
    "        if type != t:\n",
    "            continue\n",
    "        date = lst[i][0]\n",
    "        dates.append(date)\n",
    "        dic[date] = i\n",
    "        lst[i][1] = 9\n",
    "    dates.sort(reverse=True)\n",
    "    for _ in range(k):\n",
    "        if dates:\n",
    "            ind = dic[dates.pop(0)]\n",
    "            print(ind+1, end=' ')\n",
    "        else:\n",
    "            print(-1)\n",
    "\n",
    "n, m = map(int, input().split())\n",
    "lst1 = list(map(int, input().split()))\n",
    "lst2 = list(map(int, input().split()))\n",
    "lst = []\n",
    "for i in range(m):\n",
    "    lst.append([lst1[i], lst2[i]])\n",
    "for i in range(n):\n",
    "    l,r,t,k = map(int, input().split())\n",
    "    buy(lst, l-1,r-1,t,k)"
   ]
  },
  {
   "cell_type": "code",
   "execution_count": null,
   "metadata": {},
   "outputs": [],
   "source": [
    "def buy(lst, l, r, t, k):\n",
    "    dic = {}\n",
    "    dates = []\n",
    "    for i in range(l, r + 1):\n",
    "        type_ = lst[i][1]\n",
    "        if type_ != t:\n",
    "            continue\n",
    "        date = lst[i][0]\n",
    "        dates.append(date)\n",
    "        dic[date] = i\n",
    "    dates.sort(reverse=True)\n",
    "    result = []\n",
    "    for _ in range(k):\n",
    "        if dates:\n",
    "            ind = dic[dates.pop(0)]\n",
    "            result.append(ind + 1)\n",
    "        else:\n",
    "            result.append(-1)\n",
    "            break\n",
    "    print(\" \".join(map(str, result)))\n",
    "\n",
    "n, m = map(int, input().split())\n",
    "lst1 = list(map(int, input().split()))\n",
    "lst2 = list(map(int, input().split()))\n",
    "lst = []\n",
    "for i in range(m):\n",
    "    lst.append([lst1[i], lst2[i]])\n",
    "\n",
    "for i in range(n):\n",
    "    l, r, t, k = map(int, input().split())\n",
    "    buy(lst, l - 1, r - 1, t, k)"
   ]
  },
  {
   "cell_type": "code",
   "execution_count": null,
   "metadata": {},
   "outputs": [],
   "source": [
    "# 3142. 判断矩阵是否满足条件\n",
    "# https://leetcode.cn/problems/check-if-grid-satisfies-conditions/description/?envType=daily-question&envId=2024-08-29\n",
    "\n",
    "'''\n",
    "class Solution:\n",
    "    def satisfiesConditions(self, grid: List[List[int]]) -> bool:\n",
    "        m = len(grid)\n",
    "        n = len(grid[0])\n",
    "        for i in range(m-1):\n",
    "            for j in range(n-1):\n",
    "                if grid[i][j] != grid[i+1][j]:\n",
    "                    return False\n",
    "                if grid[i][j] == grid[i][j+1]:\n",
    "                    return False\n",
    "        return True\n",
    "'''\n",
    "class Solution:\n",
    "    def satisfiesConditions(self, grid: List[List[int]]) -> bool:\n",
    "        m = len(grid)\n",
    "        n = len(grid[0])\n",
    "        for i in range(m):\n",
    "            for j in range(n):\n",
    "                if i<m-1 and grid[i][j] != grid[i+1][j]:\n",
    "                    return False\n",
    "                if j<n-1 and grid[i][j] == grid[i][j+1]:\n",
    "                    return False\n",
    "        return True"
   ]
  },
  {
   "cell_type": "code",
   "execution_count": 2,
   "metadata": {},
   "outputs": [
    {
     "name": "stdout",
     "output_type": "stream",
     "text": [
      "1\n"
     ]
    }
   ],
   "source": [
    "for i in range(1):\n",
    "    print(1)\n",
    "for i in range(0):\n",
    "    print(2)"
   ]
  },
  {
   "cell_type": "code",
   "execution_count": null,
   "metadata": {},
   "outputs": [],
   "source": [
    "# 3153. 所有数对中数位不同之和\n",
    "# https://leetcode.cn/problems/sum-of-digit-differences-of-all-pairs/description/?envType=daily-question&envId=2024-08-30\n",
    "\n",
    "# 贡献(i) = (n−cnt[i]) × cnt[i]\n",
    "# 最终结果要除以 2\n",
    "class Solution:\n",
    "    def sumDigitDifferences(self, nums: List[int]) -> int:\n",
    "        res = 0\n",
    "        n = len(nums)\n",
    "        while nums[0]>0:\n",
    "            temp = [0]*10\n",
    "            for i in range(n):\n",
    "                temp[nums[i]%10] += 1\n",
    "                nums[i] = nums[i]//10\n",
    "            for i in range(10):\n",
    "                res += temp[i]*(n-temp[i])\n",
    "        return res//2"
   ]
  },
  {
   "cell_type": "code",
   "execution_count": null,
   "metadata": {},
   "outputs": [],
   "source": [
    "# 3146. 两个字符串的排列差\n",
    "# https://leetcode.cn/problems/permutation-difference-between-two-strings/description/?envType=daily-question&envId=2024-08-30\n",
    "\n",
    "from collections import defaultdict\n",
    "class Solution:\n",
    "    def findPermutationDifference(self, s: str, t: str) -> int:\n",
    "        dic = defaultdict(int)\n",
    "        s = list(s)\n",
    "        for i in range(len(s)):\n",
    "            dic[s[i]] = i\n",
    "        t = list(t)\n",
    "        for i in range(len(t)):\n",
    "            dic[t[i]] = abs(dic[t[i]] - i)\n",
    "        return sum(dic.values())"
   ]
  },
  {
   "cell_type": "code",
   "execution_count": null,
   "metadata": {},
   "outputs": [],
   "source": [
    "# 551. 学生出勤记录 I\n",
    "# https://leetcode.cn/problems/student-attendance-record-i/description/?envType=daily-question&envId=2024-08-30\n",
    "\n",
    "class Solution:\n",
    "    def checkRecord(self, s: str) -> bool:\n",
    "        absent = 0\n",
    "        late = 0\n",
    "        for _, c in enumerate(s):\n",
    "            if c=='A':\n",
    "                absent = 0\n",
    "                late += 1\n",
    "                if late==2:\n",
    "                    return False\n",
    "            elif c=='L':\n",
    "                absent += 1\n",
    "                if absent==3:\n",
    "                    return False\n",
    "            else:\n",
    "                absent = 0\n",
    "        return True"
   ]
  }
 ],
 "metadata": {
  "kernelspec": {
   "display_name": "base",
   "language": "python",
   "name": "python3"
  },
  "language_info": {
   "codemirror_mode": {
    "name": "ipython",
    "version": 3
   },
   "file_extension": ".py",
   "mimetype": "text/x-python",
   "name": "python",
   "nbconvert_exporter": "python",
   "pygments_lexer": "ipython3",
   "version": "3.11.5"
  }
 },
 "nbformat": 4,
 "nbformat_minor": 2
}
