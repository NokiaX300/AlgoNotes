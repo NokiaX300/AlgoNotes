{
 "cells": [
  {
   "cell_type": "code",
   "execution_count": null,
   "metadata": {},
   "outputs": [],
   "source": [
    "# 3174. 清除数字\n",
    "# https://leetcode.cn/problems/clear-digits/description/?envType=daily-question&envId=2024-09-04\n",
    "\n",
    "class Solution:\n",
    "    def clearDigits(self, s: str) -> str:\n",
    "        stack = []\n",
    "        for char in s:\n",
    "            if char.isdigit():\n",
    "                if stack:\n",
    "                    stack.pop()\n",
    "            else:\n",
    "                stack.append(char)\n",
    "        return ''.join(stack)"
   ]
  },
  {
   "cell_type": "code",
   "execution_count": 9,
   "metadata": {},
   "outputs": [
    {
     "name": "stdout",
     "output_type": "stream",
     "text": [
      "2.83\n"
     ]
    }
   ],
   "source": [
    "# 友塔笔试\n",
    "# 输入正多边形边数估计 pi 值\n",
    "# n = 2**k\n",
    "\n",
    "import math\n",
    "n = int(input())\n",
    "a = n*math.sin(math.pi/n)\n",
    "print('{:.7f}'.format(a))"
   ]
  },
  {
   "cell_type": "code",
   "execution_count": 25,
   "metadata": {},
   "outputs": [
    {
     "name": "stdout",
     "output_type": "stream",
     "text": [
      "3.1415926\n"
     ]
    }
   ],
   "source": [
    "# 多边形逼近不使用三角函数\n",
    "\n",
    "N = int(input())\n",
    "n = 4 # 边数\n",
    "s = 2**0.5 # 边长\n",
    "while n<N:\n",
    "    b = 0.5*s\n",
    "    s = (2-2*(1-b**2)**0.5)**0.5\n",
    "    n *= 2\n",
    "c = s*n\n",
    "pi = c/2\n",
    "print('{:.7f}'.format(pi))"
   ]
  },
  {
   "cell_type": "code",
   "execution_count": null,
   "metadata": {},
   "outputs": [],
   "source": [
    "# 友塔笔试\n",
    "# 欧式距离不超过 d 则关联\n",
    "# 关联具有传递性\n",
    "# 按照关联性进行划分\n",
    "\n",
    "# 在 put 函数中，当找到一个关联的元素时，你应该合并所有与其关联的子集，而不仅仅是将当前元素加入其中\n",
    "\n",
    "from collections import defaultdict\n",
    "d = float(input())\n",
    "n = int(input())\n",
    "lst = []\n",
    "for i in range(n):\n",
    "    x, y = map(float, input().split())\n",
    "    lst.append([x, y])\n",
    "\n",
    "def check(i, j):\n",
    "    if (lst[i][0]-lst[j][0])**2 + (lst[i][1]-lst[j][1])**2 <= d**2:\n",
    "        return True\n",
    "    return False\n",
    "\n",
    "def put(i, k, r):\n",
    "    for lst1 in r:\n",
    "        for ele in lst1:\n",
    "            if ele==k:\n",
    "                lst1.append(i)\n",
    "\n",
    "res = [[0]]\n",
    "i = 1\n",
    "while i<len(lst):\n",
    "    for k in range(i):\n",
    "        if check(i, k):\n",
    "            # Unionfind 来不及了\n",
    "            put(i, k, res)\n",
    "            break\n",
    "    else:\n",
    "        res.append([i])\n",
    "    i += 1\n",
    "\n",
    "for ele in res:\n",
    "    for e in ele:\n",
    "        print(e, end=' ')\n",
    "    print(end='\\n')"
   ]
  },
  {
   "cell_type": "code",
   "execution_count": 14,
   "metadata": {},
   "outputs": [
    {
     "name": "stdout",
     "output_type": "stream",
     "text": [
      "1 2 \n",
      "3 \n"
     ]
    }
   ],
   "source": [
    "r = [[1,2],[3]]\n",
    "\n",
    "for ele in r:\n",
    "    for e in ele:\n",
    "        print(e, end=' ')\n",
    "    print(end='\\n')"
   ]
  },
  {
   "cell_type": "code",
   "execution_count": 15,
   "metadata": {},
   "outputs": [
    {
     "data": {
      "text/plain": [
       "False"
      ]
     },
     "execution_count": 15,
     "metadata": {},
     "output_type": "execute_result"
    }
   ],
   "source": [
    "r = [[1,2],[3]]\n",
    "2 in r"
   ]
  },
  {
   "cell_type": "code",
   "execution_count": 27,
   "metadata": {},
   "outputs": [],
   "source": [
    "# 复习并查集\n",
    "class UF:\n",
    "    def __init__(self, n) -> None:\n",
    "        self.parent = [i for i in range(n)]\n",
    "    \n",
    "    def union(self, p, q):\n",
    "        rootP = self.find(p)\n",
    "        rootQ = self.find(q)\n",
    "        if rootP == rootQ:\n",
    "            return\n",
    "        self.parent[rootP] = rootQ\n",
    "\n",
    "    def find(self, p):\n",
    "        while self.parent[p] != p:\n",
    "            p = self.parent[p]\n",
    "        return p\n",
    "    \n",
    "    def connected(self, p, q):\n",
    "        return self.find(p) == self.find(q)"
   ]
  },
  {
   "cell_type": "code",
   "execution_count": null,
   "metadata": {},
   "outputs": [],
   "source": [
    "# 路径压缩\n",
    "def find(self, p):\n",
    "    if self.parent[p] != p:\n",
    "        self.parent[p] = self.find(self.parent[p])\n",
    "    return self.parent[p]"
   ]
  },
  {
   "cell_type": "code",
   "execution_count": 29,
   "metadata": {},
   "outputs": [
    {
     "name": "stdout",
     "output_type": "stream",
     "text": [
      "0 2 \n",
      "1 3 \n",
      "4 \n"
     ]
    }
   ],
   "source": [
    "# 使用并查集\n",
    "\n",
    "from collections import defaultdict\n",
    "d = float(input())\n",
    "n = int(input())\n",
    "lst = []\n",
    "for i in range(n):\n",
    "    x, y = map(float, input().split())\n",
    "    lst.append([x, y])\n",
    "\n",
    "def check(i, j):\n",
    "    if (lst[i][0]-lst[j][0])**2 + (lst[i][1]-lst[j][1])**2 <= d**2:\n",
    "        return True\n",
    "    return False\n",
    "\n",
    "class UF:\n",
    "    def __init__(self, n) -> None:\n",
    "        self.parent = [i for i in range(n)]\n",
    "    def union(self, p, q):\n",
    "        rootP = self.find(p)\n",
    "        rootQ = self.find(q)\n",
    "        if rootP == rootQ:\n",
    "            return\n",
    "        self.parent[rootP] = rootQ\n",
    "    def find(self, p):\n",
    "        if self.parent[p] != p:\n",
    "            self.parent[p] = self.find(self.parent[p])\n",
    "        return self.parent[p]\n",
    "\n",
    "uf = UF(n)\n",
    "\n",
    "res = []\n",
    "for i in range(n):\n",
    "    for j in range(i):\n",
    "        if check(j, i):\n",
    "            uf.union(j, i)\n",
    "\n",
    "# 根据根来确定归属集团\n",
    "dic = defaultdict(list)\n",
    "for i in range(n):\n",
    "    root = uf.find(i)\n",
    "    dic[root].append(i)\n",
    "\n",
    "for value in dic.values():\n",
    "    for ele in value:\n",
    "        print(ele, end=' ')\n",
    "    print(end='\\n')"
   ]
  },
  {
   "cell_type": "code",
   "execution_count": null,
   "metadata": {},
   "outputs": [],
   "source": [
    "# 友塔笔试\n",
    "n, c = map(int, input().split())\n",
    "lst = []\n",
    "for _ in range(n):\n",
    "    lst.append(int(input()))\n",
    "p = 1\n",
    "res = 0\n",
    "for i in range(n):\n",
    "    pass"
   ]
  },
  {
   "cell_type": "code",
   "execution_count": null,
   "metadata": {},
   "outputs": [],
   "source": [
    "# 友塔笔试\n",
    "\n",
    "class Node():\n",
    "    def __init__(self, val) -> None:\n",
    "        self.next = None\n",
    "        self.val = val\n",
    "\n",
    "n = int(input())\n",
    "m = int(input())\n",
    "res = []\n",
    "for i in range(m):\n",
    "    lst = []\n",
    "    lst.append(map[(int, input().split())])\n",
    "    if not len(lst)==2:\n",
    "        res.append(False)\n",
    "    a = int(lst[0])\n",
    "    b = int(lst[1])\n",
    "    if not 0<=a<n or not 0<=b<n:\n",
    "        res.append(False)\n",
    "    "
   ]
  }
 ],
 "metadata": {
  "kernelspec": {
   "display_name": "base",
   "language": "python",
   "name": "python3"
  },
  "language_info": {
   "codemirror_mode": {
    "name": "ipython",
    "version": 3
   },
   "file_extension": ".py",
   "mimetype": "text/x-python",
   "name": "python",
   "nbconvert_exporter": "python",
   "pygments_lexer": "ipython3",
   "version": "3.11.5"
  }
 },
 "nbformat": 4,
 "nbformat_minor": 2
}
