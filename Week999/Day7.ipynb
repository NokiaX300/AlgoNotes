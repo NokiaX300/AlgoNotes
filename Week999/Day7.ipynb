{
 "cells": [
  {
   "cell_type": "code",
   "execution_count": null,
   "metadata": {},
   "outputs": [],
   "source": [
    "# 力扣 hot100-16\n",
    "# 238. 除自身以外数组的乘积\n",
    "# https://leetcode.cn/problems/product-of-array-except-self/description/?envType=study-plan-v2&envId=top-100-liked\n",
    "\n",
    "class Solution:\n",
    "    def productExceptSelf(self, nums: List[int]) -> List[int]:\n",
    "        n = len(nums)\n",
    "        # suf[i] 代表 nums[i+1:] 累乘\n",
    "        suf = [1]*n\n",
    "        for i in range(n-2,-1,-1):\n",
    "            suf[i] = nums[i+1]*suf[i+1]\n",
    "        pre = 1\n",
    "        for i,c in enumerate(nums):\n",
    "            suf[i] *= pre\n",
    "            pre *= c\n",
    "        return suf"
   ]
  },
  {
   "cell_type": "code",
   "execution_count": null,
   "metadata": {},
   "outputs": [],
   "source": [
    "# 力扣 hot100-17\n",
    "# 41. 缺失的第一个正数\n",
    "# https://leetcode.cn/problems/first-missing-positive/description/?envType=study-plan-v2&envId=top-100-liked\n",
    "\n",
    "# 超时\n",
    "class Solution:\n",
    "    def firstMissingPositive(self, nums: List[int]) -> int:\n",
    "        k = 1\n",
    "        while 1:\n",
    "            if k not in nums:\n",
    "                return k\n",
    "            k += 1"
   ]
  },
  {
   "cell_type": "code",
   "execution_count": null,
   "metadata": {},
   "outputs": [],
   "source": [
    "# 力扣 hot100-17\n",
    "# 41. 缺失的第一个正数\n",
    "# https://leetcode.cn/problems/first-missing-positive/description/?envType=study-plan-v2&envId=top-100-liked\n",
    "\n",
    "class Solution:\n",
    "    def firstMissingPositive(self, nums: List[int]) -> int:\n",
    "        dic = {}\n",
    "        for _,c in enumerate(nums):\n",
    "            dic[c] = 0\n",
    "        k = 1\n",
    "        while 1:\n",
    "            if k not in dic:\n",
    "                return k\n",
    "            k += 1"
   ]
  },
  {
   "cell_type": "code",
   "execution_count": null,
   "metadata": {},
   "outputs": [],
   "source": [
    "# 力扣 hot100-18\n",
    "# 73. 矩阵置零\n",
    "# https://leetcode.cn/problems/set-matrix-zeroes/description/?envType=study-plan-v2&envId=top-100-liked\n",
    "\n",
    "class Solution:\n",
    "    def setZeroes(self, matrix: List[List[int]]) -> None:\n",
    "        pass"
   ]
  }
 ],
 "metadata": {
  "language_info": {
   "name": "python"
  }
 },
 "nbformat": 4,
 "nbformat_minor": 2
}
