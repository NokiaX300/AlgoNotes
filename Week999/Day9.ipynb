{
 "cells": [
  {
   "cell_type": "code",
   "execution_count": null,
   "metadata": {},
   "outputs": [],
   "source": [
    "# 力扣 hot100-65\n",
    "# 153. 寻找旋转排序数组中的最小值\n",
    "# https://leetcode.cn/problems/find-minimum-in-rotated-sorted-array/description/?envType=study-plan-v2&envId=top-100-liked\n",
    "\n",
    "class Solution:\n",
    "    def findMin(self, nums: List[int]) -> int:\n",
    "        left = 0\n",
    "        right = len(nums)-1\n",
    "        while left<right:\n",
    "            mid = (right-left)//2+left\n",
    "            if nums[mid]<=nums[-1]:\n",
    "                right = mid\n",
    "            else:\n",
    "                left = mid+1\n",
    "        return nums[right]"
   ]
  },
  {
   "cell_type": "code",
   "execution_count": null,
   "metadata": {},
   "outputs": [],
   "source": [
    "# 力扣 hot100-66\n",
    "# 4. 寻找两个正序数组的中位数\n",
    "# https://leetcode.cn/problems/median-of-two-sorted-arrays/description/?envType=study-plan-v2&envId=top-100-liked\n",
    "\n",
    "# 其实是处理数据流用的\n",
    "import heapq\n",
    "class Solution:\n",
    "    def findMedianSortedArrays(self, nums1: List[int], nums2: List[int]) -> float:\n",
    "        # 漏斗结构\n",
    "        small = [] # 正三角, 负数用来找最大值\n",
    "        large = [] # 倒三角\n",
    "        for num in nums1+nums2:\n",
    "            if len(small)<len(large):\n",
    "                s = heapq.heappushpop(large, num)\n",
    "                heapq.heappush(small, -s)\n",
    "            else:\n",
    "                t = heapq.heappushpop(small, -num)\n",
    "                heapq.heappush(large, -t)\n",
    "        if len(small)==len(large):\n",
    "            a = large[0]\n",
    "            b = -small[0]\n",
    "            return (b-a)/2+a\n",
    "        else:\n",
    "            return large[0]"
   ]
  },
  {
   "cell_type": "code",
   "execution_count": 1,
   "metadata": {},
   "outputs": [
    {
     "name": "stdout",
     "output_type": "stream",
     "text": [
      "4\n",
      "1\n",
      "2\n",
      "3\n"
     ]
    }
   ],
   "source": [
    "a = [4]\n",
    "b = [1,2,3]\n",
    "for e in a+b:\n",
    "    print(e)"
   ]
  },
  {
   "cell_type": "code",
   "execution_count": null,
   "metadata": {},
   "outputs": [],
   "source": [
    "# 力扣 hot100-67\n",
    "# 20. 有效的括号\n",
    "# https://leetcode.cn/problems/valid-parentheses/description/?envType=study-plan-v2&envId=top-100-liked\n",
    "\n",
    "class Solution:\n",
    "    def isValid(self, s: str) -> bool:\n",
    "        st = []\n",
    "        for c in s:\n",
    "            if c in '([{':\n",
    "                st.append(c)\n",
    "            else:\n",
    "                if st and self.check(st, c):\n",
    "                    st.pop()\n",
    "                else:\n",
    "                    return False\n",
    "        return not st\n",
    "    \n",
    "    def check(self, st, c):\n",
    "        a = st[-1]\n",
    "        if c=='(' and a==')':\n",
    "            return True\n",
    "        if c=='[' and a==']':\n",
    "            return True\n",
    "        if c=='{' and a=='}':\n",
    "            return True\n",
    "        return False"
   ]
  },
  {
   "cell_type": "code",
   "execution_count": 2,
   "metadata": {},
   "outputs": [
    {
     "name": "stdout",
     "output_type": "stream",
     "text": [
      "a\n",
      "s\n",
      "d\n"
     ]
    }
   ],
   "source": [
    "s = 'asd'\n",
    "for c in s:\n",
    "    print(c)"
   ]
  },
  {
   "cell_type": "code",
   "execution_count": null,
   "metadata": {},
   "outputs": [],
   "source": [
    "# 力扣 hot100-68\n",
    "# 155. 最小栈\n",
    "# https://leetcode.cn/problems/min-stack/description/?envType=study-plan-v2&envId=top-100-liked\n",
    "\n",
    "# 辅助栈\n",
    "class MinStack:\n",
    "    def __init__(self):\n",
    "        self.stack = []\n",
    "        # 方便 push 时候不用分类讨论\n",
    "        self.min_stack = [float('inf')]\n",
    "\n",
    "    def push(self, val: int) -> None:\n",
    "        self.stack.append(val)\n",
    "        # 无论如何都要加一个元素进去\n",
    "        self.min_stack.append(min(val, self.min_stack[-1]))\n",
    "\n",
    "    def pop(self) -> None:\n",
    "        self.stack.pop()\n",
    "        self.min_stack.pop()\n",
    "\n",
    "    def top(self) -> int:\n",
    "        return self.stack[-1]\n",
    "\n",
    "    def getMin(self) -> int:\n",
    "        return self.min_stack[-1]"
   ]
  },
  {
   "cell_type": "code",
   "execution_count": null,
   "metadata": {},
   "outputs": [],
   "source": [
    "# 力扣 hot100-69\n",
    "# 394. 字符串解码\n",
    "# https://leetcode.cn/problems/decode-string/?envType=study-plan-v2&envId=top-100-liked\n",
    "\n",
    "class Solution:\n",
    "    def decodeString(self, s: str) -> str:\n",
    "        st = []\n",
    "        for c in s:\n",
    "            if c != ']':\n",
    "                st.append(c)\n",
    "            else:\n",
    "                temp = []\n",
    "                while st[-1]!='[':\n",
    "                    temp.append(st.pop())\n",
    "                temp = temp[::-1]\n",
    "                temp = ''.join(temp)\n",
    "                st.pop()\n",
    "                num = []\n",
    "                # while st and st[-1]!=']':\n",
    "                while st and st[-1].isdigit():\n",
    "                    num.append(st.pop())\n",
    "                num = num[::-1]\n",
    "                num = int(''.join(num))\n",
    "                for _ in range(num):\n",
    "                    # res.append(temp)\n",
    "                    st.append(temp)\n",
    "        return ''.join(st)"
   ]
  },
  {
   "cell_type": "code",
   "execution_count": 5,
   "metadata": {},
   "outputs": [
    {
     "data": {
      "text/plain": [
       "12"
      ]
     },
     "execution_count": 5,
     "metadata": {},
     "output_type": "execute_result"
    }
   ],
   "source": [
    "a = [1,2]\n",
    "b = int(''.join(map(str, a)))\n",
    "b"
   ]
  },
  {
   "cell_type": "code",
   "execution_count": null,
   "metadata": {},
   "outputs": [],
   "source": [
    "# 力扣 hot100-70\n",
    "# 739. 每日温度\n",
    "# https://leetcode.cn/problems/daily-temperatures/?envType=study-plan-v2&envId=top-100-liked\n",
    "\n",
    "class Solution:\n",
    "    def dailyTemperatures(self, temperatures: List[int]) -> List[int]:\n",
    "        res = [0]*len(temperatures)\n",
    "        st = []\n",
    "        for i in range(len(temperatures)-1, -1, -1):\n",
    "            while st and temperatures[st[-1]]<=temperatures[i]:\n",
    "                st.pop()\n",
    "            if st:\n",
    "                res[i] = st[-1]-i\n",
    "            st.append(i)\n",
    "        return res"
   ]
  },
  {
   "cell_type": "code",
   "execution_count": null,
   "metadata": {},
   "outputs": [],
   "source": [
    "# 力扣 hot100-71\n",
    "# 84. 柱状图中最大的矩形\n",
    "# https://leetcode.cn/problems/largest-rectangle-in-histogram/description/?envType=study-plan-v2&envId=top-100-liked\n",
    "\n",
    "class Solution:\n",
    "    def largestRectangleArea(self, heights: List[int]) -> int:\n",
    "        heights.append(-1)\n",
    "        st = []\n",
    "        res = 0\n",
    "        for i,c in enumerate(heights):\n",
    "            while st and c<heights[st[-1]]:\n",
    "                h = st.pop()\n",
    "                if st:\n",
    "                    res = max(res, heights[h]*(i-st[-1]-1))\n",
    "                else:\n",
    "                    res = max(res, heights[h]*i)\n",
    "            st.append(i)\n",
    "        return res"
   ]
  },
  {
   "cell_type": "code",
   "execution_count": null,
   "metadata": {},
   "outputs": [],
   "source": [
    "# 力扣 hot100-71\n",
    "# 84. 柱状图中最大的矩形\n",
    "# https://leetcode.cn/problems/largest-rectangle-in-histogram/description/?envType=study-plan-v2&envId=top-100-liked\n",
    "\n",
    "class Solution:\n",
    "    def largestRectangleArea(self, heights: List[int]) -> int:\n",
    "        heights.append(-1)\n",
    "        st = [-1]\n",
    "        res = 0\n",
    "        for i,c in enumerate(heights):\n",
    "            while c<heights[st[-1]]:\n",
    "                h = st.pop()\n",
    "                res = max(res, heights[h]*(i-st[-1]-1))\n",
    "            st.append(i)\n",
    "        return res"
   ]
  },
  {
   "cell_type": "code",
   "execution_count": null,
   "metadata": {},
   "outputs": [],
   "source": [
    "# 力扣 hot100-72\n",
    "# 215. 数组中的第K个最大元素\n",
    "# https://leetcode.cn/problems/kth-largest-element-in-an-array/?envType=study-plan-v2&envId=top-100-liked\n",
    "\n",
    "# 堆排序\n",
    "import heapq\n",
    "class Solution:\n",
    "    def findKthLargest(self, nums: List[int], k: int) -> int:\n",
    "        st = []\n",
    "        for num in nums:\n",
    "            heapq.heappush(st, num)\n",
    "            if len(st)>k:\n",
    "                heapq.heappop(st)\n",
    "        return st[0]    "
   ]
  },
  {
   "cell_type": "code",
   "execution_count": null,
   "metadata": {},
   "outputs": [],
   "source": [
    "# 力扣 hot100-72\n",
    "# 215. 数组中的第K个最大元素\n",
    "# https://leetcode.cn/problems/kth-largest-element-in-an-array/?envType=study-plan-v2&envId=top-100-liked\n",
    "\n",
    "# 快速排序\n",
    "class Solution:\n",
    "    def findKthLargest(self, nums: List[int], k: int) -> int:\n",
    "        pass"
   ]
  }
 ],
 "metadata": {
  "kernelspec": {
   "display_name": "base",
   "language": "python",
   "name": "python3"
  },
  "language_info": {
   "codemirror_mode": {
    "name": "ipython",
    "version": 3
   },
   "file_extension": ".py",
   "mimetype": "text/x-python",
   "name": "python",
   "nbconvert_exporter": "python",
   "pygments_lexer": "ipython3",
   "version": "3.11.5"
  }
 },
 "nbformat": 4,
 "nbformat_minor": 2
}
