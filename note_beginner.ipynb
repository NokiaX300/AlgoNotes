{
 "cells": [
  {
   "attachments": {},
   "cell_type": "markdown",
   "metadata": {},
   "source": [
    "单行注释为“#”，多行为“三个引号”"
   ]
  },
  {
   "cell_type": "code",
   "execution_count": null,
   "metadata": {},
   "outputs": [],
   "source": [
    "'''\n",
    "我是注释\n",
    "我是注释我是注释\n",
    "'''\n",
    "1.01 ** 365 # 我是注释\n",
    "1.01 ** 365 # 我是注释"
   ]
  },
  {
   "cell_type": "code",
   "execution_count": 1,
   "metadata": {},
   "outputs": [
    {
     "data": {
      "text/plain": [
       "1"
      ]
     },
     "execution_count": 1,
     "metadata": {},
     "output_type": "execute_result"
    }
   ],
   "source": [
    "10 % 3"
   ]
  },
  {
   "cell_type": "code",
   "execution_count": 2,
   "metadata": {},
   "outputs": [
    {
     "data": {
      "text/plain": [
       "3"
      ]
     },
     "execution_count": 2,
     "metadata": {},
     "output_type": "execute_result"
    }
   ],
   "source": [
    "10 // 3"
   ]
  },
  {
   "cell_type": "code",
   "execution_count": 6,
   "metadata": {},
   "outputs": [
    {
     "data": {
      "text/plain": [
       "bool"
      ]
     },
     "execution_count": 6,
     "metadata": {},
     "output_type": "execute_result"
    }
   ],
   "source": [
    "age = 18\n",
    "type(age)\n",
    "gender = True\n",
    "type(gender)"
   ]
  },
  {
   "attachments": {},
   "cell_type": "markdown",
   "metadata": {},
   "source": [
    "input读取的都是str"
   ]
  },
  {
   "cell_type": "code",
   "execution_count": null,
   "metadata": {
    "collapsed": true
   },
   "outputs": [],
   "source": [
    "dj_str = input(\"单价\")\n",
    "sl_str = input(\"数量\")\n",
    "dj=float(dj_str)\n",
    "sl=float(sl_str)\n",
    "price = dj * sl\n",
    "print(price)"
   ]
  },
  {
   "cell_type": "code",
   "execution_count": null,
   "metadata": {
    "collapsed": true
   },
   "outputs": [],
   "source": [
    "dj=float(input(\"单价\"))\n",
    "sl=float(input(\"数量\"))\n",
    "price = dj * sl\n",
    "print(price)"
   ]
  },
  {
   "cell_type": "code",
   "execution_count": null,
   "metadata": {},
   "outputs": [],
   "source": [
    "name = 'Ming'\n",
    "age = 23\n",
    "print('Hello, {}. You are {}.'.format(name, age))"
   ]
  },
  {
   "cell_type": "code",
   "execution_count": null,
   "metadata": {},
   "outputs": [],
   "source": [
    "name = 'Ming'\n",
    "age = 23\n",
    "print('Hello, {1}. You are {0}.'.format(age, name))"
   ]
  },
  {
   "cell_type": "code",
   "execution_count": 7,
   "metadata": {},
   "outputs": [
    {
     "name": "stdout",
     "output_type": "stream",
     "text": [
      "Hello, Ming. You are 23.\n"
     ]
    }
   ],
   "source": [
    "person = {'name': 'Ming', 'age': 23}\n",
    "print('Hello, {name}. You are {age}.'.format(**person))"
   ]
  },
  {
   "attachments": {},
   "cell_type": "markdown",
   "metadata": {},
   "source": [
    "多个单词定义变量用小写字母，下划线连接"
   ]
  },
  {
   "cell_type": "code",
   "execution_count": null,
   "metadata": {},
   "outputs": [],
   "source": [
    "import keyword\n",
    "print(keyword.kwlist)"
   ]
  },
  {
   "cell_type": "code",
   "execution_count": null,
   "metadata": {},
   "outputs": [],
   "source": [
    "age = int(input(\"输入年龄\"))\n",
    "if age >= 18:\n",
    "    print(\"adult\")\n",
    "else:\n",
    "    print(\"teenager\")"
   ]
  },
  {
   "cell_type": "code",
   "execution_count": null,
   "metadata": {},
   "outputs": [],
   "source": [
    "day = input(\"节日是：\")\n",
    "if day == \"平安夜\":\n",
    "    print(\"apple\")\n",
    "elif day == \"情人节\":\n",
    "    print(\"flower\")\n",
    "else:\n",
    "    print(\"GG\")"
   ]
  },
  {
   "cell_type": "code",
   "execution_count": null,
   "metadata": {
    "collapsed": true
   },
   "outputs": [],
   "source": [
    "i = 1\n",
    "while i <= 5:\n",
    "    print(\"打印五遍\")\n",
    "    i = i + 1"
   ]
  },
  {
   "cell_type": "code",
   "execution_count": null,
   "metadata": {},
   "outputs": [],
   "source": [
    "i = 0\n",
    "s = 0\n",
    "while i <= 100:\n",
    "    s += i\n",
    "    i += 1\n",
    "print(\"0到100求和为: %d\" %s)"
   ]
  },
  {
   "attachments": {},
   "cell_type": "markdown",
   "metadata": {},
   "source": [
    "if情况有相同的要提出来"
   ]
  },
  {
   "cell_type": "code",
   "execution_count": 8,
   "metadata": {},
   "outputs": [
    {
     "name": "stdout",
     "output_type": "stream",
     "text": [
      "0到100的偶数求和为: 2550\n"
     ]
    }
   ],
   "source": [
    "i = 0\n",
    "s = 0\n",
    "while i <= 100:\n",
    "    if i % 2 == 0:\n",
    "        s += i\n",
    "    i += 1\n",
    "print(\"0到100的偶数求和为: %d\" %s)"
   ]
  },
  {
   "attachments": {},
   "cell_type": "markdown",
   "metadata": {},
   "source": [
    "先循环行，每行再单独循环列"
   ]
  },
  {
   "cell_type": "code",
   "execution_count": null,
   "metadata": {},
   "outputs": [],
   "source": [
    "i = 1\n",
    "while i <= 9:\n",
    "    j = 1\n",
    "    while j <= i:\n",
    "        print(\"~\", end=\"\")\n",
    "        j += 1\n",
    "    i += 1\n",
    "    print(\"*\")"
   ]
  },
  {
   "cell_type": "code",
   "execution_count": null,
   "metadata": {},
   "outputs": [],
   "source": [
    "def multiple_table():\n",
    "    \"\"\"九九乘法表\"\"\"\n",
    "    \n",
    "    i = 1\n",
    "    while i <= 9:\n",
    "        j = 1\n",
    "        while j <= i:\n",
    "            print(\"%d * %d = %d \\t\" %(j, i, i*j), end=\"\")\n",
    "            j += 1\n",
    "        i += 1\n",
    "        print(\"\")"
   ]
  },
  {
   "cell_type": "code",
   "execution_count": null,
   "metadata": {
    "collapsed": true
   },
   "outputs": [],
   "source": [
    "multiple_table()"
   ]
  },
  {
   "cell_type": "code",
   "execution_count": null,
   "metadata": {},
   "outputs": [],
   "source": [
    "def calc(numbers):\n",
    "    sum = 0\n",
    "    for n in numbers:\n",
    "        sum += n*n\n",
    "    return sum"
   ]
  },
  {
   "cell_type": "code",
   "execution_count": null,
   "metadata": {},
   "outputs": [],
   "source": [
    "print(calc((2, 4, 1, 3)))\n",
    "print(calc([2, 4, 1, 3]))"
   ]
  },
  {
   "cell_type": "code",
   "execution_count": null,
   "metadata": {},
   "outputs": [],
   "source": [
    "def calc(*numbers):\n",
    "    sum = 0\n",
    "    for n in numbers:\n",
    "        sum += n*n\n",
    "    return sum"
   ]
  },
  {
   "cell_type": "code",
   "execution_count": null,
   "metadata": {},
   "outputs": [],
   "source": [
    "print(calc(2, 4, 1, 3))\n",
    "print(calc(2, 4, 1, 3))"
   ]
  },
  {
   "attachments": {},
   "cell_type": "markdown",
   "metadata": {},
   "source": [
    "对于任意函数，不管其参数如何定义，都可以通过类似 func(*args, **kw) 的形式调用它"
   ]
  },
  {
   "cell_type": "code",
   "execution_count": 1,
   "metadata": {},
   "outputs": [
    {
     "name": "stdout",
     "output_type": "stream",
     "text": [
      "a = 11, b = 22, c = 33, d: 44, kw: {'x': '##'}\n"
     ]
    }
   ],
   "source": [
    "def f2(a, b, c=0, *, d, **kw):\n",
    "    print(f'a = {a}, b = {b}, c = {c}, d: {d}, kw: {kw}')\n",
    "    \n",
    "args = (11, 22, 33)\n",
    "kw = {'d': 44, 'x': '##'}\n",
    "f2(*args, **kw)"
   ]
  },
  {
   "cell_type": "code",
   "execution_count": null,
   "metadata": {},
   "outputs": [],
   "source": [
    "L = []\n",
    "n = 1\n",
    "while n < 20:\n",
    "    L.append(n)\n",
    "    n += 2\n",
    "print(L)"
   ]
  },
  {
   "cell_type": "code",
   "execution_count": 2,
   "metadata": {},
   "outputs": [
    {
     "name": "stdout",
     "output_type": "stream",
     "text": [
      "1 2 3 4 5 6 7 8 9 \n",
      "0 1 2 3 4 5 6 7 8 9 "
     ]
    }
   ],
   "source": [
    "for i in range(1, 10):\n",
    "    print(i, end = \" \")\n",
    "print(end = \"\\n\")\n",
    "for j in range(10):\n",
    "    print(j, end = \" \")"
   ]
  },
  {
   "cell_type": "code",
   "execution_count": null,
   "metadata": {},
   "outputs": [],
   "source": [
    "L = [x * x for x in range(1, 11) if x % 2 == 0]\n",
    "print(L)"
   ]
  },
  {
   "cell_type": "code",
   "execution_count": null,
   "metadata": {},
   "outputs": [],
   "source": [
    "L = [m + n for m in 'ABC' for n in 'XYZ']\n",
    "print(L)"
   ]
  },
  {
   "cell_type": "code",
   "execution_count": null,
   "metadata": {},
   "outputs": [],
   "source": [
    "#打印100以内质数\n",
    "for n in range(2, 100):\n",
    "    for x in range(2, n):\n",
    "        if n % x == 0:\n",
    "            break\n",
    "    else:\n",
    "        print(n)\n",
    "    n += 1"
   ]
  },
  {
   "cell_type": "code",
   "execution_count": null,
   "metadata": {},
   "outputs": [],
   "source": [
    "def summ(a, b):\n",
    "    print(a + b)"
   ]
  },
  {
   "cell_type": "code",
   "execution_count": null,
   "metadata": {
    "scrolled": true
   },
   "outputs": [],
   "source": [
    "summ(2, 3)"
   ]
  },
  {
   "cell_type": "code",
   "execution_count": null,
   "metadata": {},
   "outputs": [],
   "source": [
    "str = \"WJWjzwdl\"\n",
    "print(str[0])\n",
    "print(str[0:-1])\n",
    "print(str[2:])\n",
    "print(str[2:6])"
   ]
  },
  {
   "cell_type": "code",
   "execution_count": null,
   "metadata": {},
   "outputs": [],
   "source": [
    "print(str.find(\"d\"))\n",
    "print(str.index(\"d\"))\n",
    "print(str.find(\"A\"))\n",
    "print(str.index(\"s\"))"
   ]
  },
  {
   "cell_type": "code",
   "execution_count": 4,
   "metadata": {},
   "outputs": [
    {
     "name": "stdout",
     "output_type": "stream",
     "text": [
      "shu\n",
      "['wang', 'zhang', 'ju']\n",
      "['zhang', 'ju']\n"
     ]
    }
   ],
   "source": [
    "name_list = [\"wang\", \"zhang\", \"ju\", \"shu\"]\n",
    "print(name_list[3])\n",
    "print(name_list[0:3])\n",
    "print(name_list[1:-1])"
   ]
  },
  {
   "cell_type": "code",
   "execution_count": 5,
   "metadata": {},
   "outputs": [
    {
     "name": "stdout",
     "output_type": "stream",
     "text": [
      "2\n"
     ]
    }
   ],
   "source": [
    "print(name_list.index(\"ju\"))"
   ]
  },
  {
   "cell_type": "code",
   "execution_count": null,
   "metadata": {
    "scrolled": true
   },
   "outputs": [],
   "source": [
    "name_list.pop()\n",
    "print(name_list)"
   ]
  },
  {
   "cell_type": "code",
   "execution_count": null,
   "metadata": {
    "collapsed": true
   },
   "outputs": [],
   "source": [
    "for x in name_list:\n",
    "    print(x)"
   ]
  },
  {
   "cell_type": "code",
   "execution_count": null,
   "metadata": {
    "scrolled": true
   },
   "outputs": [],
   "source": [
    "info_tuple = (\"谁\", 12.5, 3)\n",
    "print(\"我是%s, 身高%.2fkg, 体重%dcm\"% info_tuple)"
   ]
  },
  {
   "attachments": {},
   "cell_type": "markdown",
   "metadata": {},
   "source": [
    "字典无序，key不存在则添加，存在则替换"
   ]
  },
  {
   "cell_type": "code",
   "execution_count": null,
   "metadata": {},
   "outputs": [],
   "source": [
    "info_dict = {\"name\":\"wang\",\n",
    "             \"height\":188,\n",
    "             \"gender\":True,\n",
    "             \"money\":1.8}\n",
    "print(info_dict)"
   ]
  },
  {
   "cell_type": "code",
   "execution_count": null,
   "metadata": {},
   "outputs": [],
   "source": [
    "info_dict[\"love\"] = \"cat\"\n",
    "info_dict.pop(\"name\")\n",
    "print(info_dict)"
   ]
  },
  {
   "cell_type": "code",
   "execution_count": null,
   "metadata": {},
   "outputs": [],
   "source": [
    "print(len(info_dict))"
   ]
  },
  {
   "cell_type": "code",
   "execution_count": null,
   "metadata": {},
   "outputs": [],
   "source": [
    "temp_dict = {\"friend\":False}\n",
    "info_dict.update(temp_dict)\n",
    "print(info_dict)"
   ]
  },
  {
   "cell_type": "code",
   "execution_count": null,
   "metadata": {
    "collapsed": true
   },
   "outputs": [],
   "source": [
    "for k in info_dict:\n",
    "    print(\"%s - %s\"%(k, info_dict[k]))"
   ]
  },
  {
   "cell_type": "code",
   "execution_count": null,
   "metadata": {
    "scrolled": true
   },
   "outputs": [],
   "source": [
    "test1_tuple = (\"aaa\", 5, 1.4)\n",
    "for w in test1_tuple:\n",
    "    print(w)"
   ]
  },
  {
   "cell_type": "code",
   "execution_count": null,
   "metadata": {
    "scrolled": true
   },
   "outputs": [],
   "source": [
    "#字典\n",
    "dic = {x: x**2 for x in (3, 4, 6)}\n",
    "dic"
   ]
  },
  {
   "cell_type": "code",
   "execution_count": null,
   "metadata": {},
   "outputs": [],
   "source": [
    "#集合\n",
    "se = {c for c in \"jakbkfbakjwf\" if c not in \"abj\"}\n",
    "se"
   ]
  },
  {
   "cell_type": "code",
   "execution_count": null,
   "metadata": {},
   "outputs": [],
   "source": [
    "#元组\n",
    "tu = (b for b in range(1, 10))\n",
    "list(tu) #元组推导式返回的结果是一个生成器对象"
   ]
  },
  {
   "cell_type": "code",
   "execution_count": 6,
   "metadata": {},
   "outputs": [
    {
     "name": "stdout",
     "output_type": "stream",
     "text": [
      "<class 'int'> 3\n",
      "<class 'tuple'> (3,)\n"
     ]
    }
   ],
   "source": [
    "a = (3)\n",
    "print(type(a), a)\n",
    "b = (3, )\n",
    "print(type(b), b)"
   ]
  },
  {
   "cell_type": "code",
   "execution_count": null,
   "metadata": {},
   "outputs": [],
   "source": [
    "#列表\n",
    "a_list = [\"ab\", \"bc\", \"cd\", \"de\", \"ef\", \"fg\"]\n",
    "print(a_list[2:4])"
   ]
  },
  {
   "cell_type": "code",
   "execution_count": null,
   "metadata": {},
   "outputs": [],
   "source": [
    "a_list.append(\"gh\")\n",
    "a_list"
   ]
  },
  {
   "cell_type": "code",
   "execution_count": null,
   "metadata": {},
   "outputs": [],
   "source": [
    "a_list.remove(\"gh\")\n",
    "del a_list[1]\n",
    "a_list.insert(3, \"hi\")\n",
    "a_list"
   ]
  },
  {
   "cell_type": "code",
   "execution_count": null,
   "metadata": {},
   "outputs": [],
   "source": [
    "a_list.sort(reverse = True)\n",
    "a_list.extend(\"ij\")\n",
    "a_list"
   ]
  },
  {
   "cell_type": "code",
   "execution_count": 7,
   "metadata": {},
   "outputs": [
    {
     "name": "stdout",
     "output_type": "stream",
     "text": [
      "[1, 2, 3, 4, [5, 6]]\n"
     ]
    }
   ],
   "source": [
    "b_list = [1, 2, 3, 4]\n",
    "b_list.append([5, 6]) #附加\n",
    "print(b_list)"
   ]
  },
  {
   "cell_type": "code",
   "execution_count": 8,
   "metadata": {},
   "outputs": [
    {
     "name": "stdout",
     "output_type": "stream",
     "text": [
      "[1, 2, 3, 4, 5, 6]\n"
     ]
    }
   ],
   "source": [
    "b_list = [1, 2, 3, 4]\n",
    "b_list.extend([5, 6]) #延展\n",
    "print(b_list)"
   ]
  },
  {
   "attachments": {},
   "cell_type": "markdown",
   "metadata": {},
   "source": [
    "字符串（特殊的元组）不可赋值"
   ]
  },
  {
   "cell_type": "code",
   "execution_count": 9,
   "metadata": {
    "collapsed": true
   },
   "outputs": [
    {
     "name": "stdout",
     "output_type": "stream",
     "text": [
      "psicoke: psicoke \n",
      " esck: esck \n",
      " 逆序: ekocispep\n"
     ]
    }
   ],
   "source": [
    "coke_str = \"pepsicoke\"\n",
    "print(\"psicoke:\", coke_str[2:],\n",
    "     \"\\n esck:\", coke_str[1::2],\n",
    "     \"\\n 逆序:\", coke_str[-1::-1])"
   ]
  },
  {
   "attachments": {},
   "cell_type": "markdown",
   "metadata": {},
   "source": [
    "键必须不可变，所以可以用数字，字符串或元组充当，而用列表就不行"
   ]
  },
  {
   "cell_type": "code",
   "execution_count": null,
   "metadata": {},
   "outputs": [],
   "source": [
    "a_set = set((\"abjb\", \"buhi\", \"ahic\"))\n",
    "a_set.add(\"cboi\")\n",
    "a_set.update({2, 4})\n",
    "a_set.update([1, 3], [5])\n",
    "print(a_set, len(a_set))"
   ]
  },
  {
   "cell_type": "code",
   "execution_count": 1,
   "metadata": {
    "collapsed": true
   },
   "outputs": [
    {
     "name": "stdout",
     "output_type": "stream",
     "text": [
      "1 1 2 3 5 8 13 21 34 55 89 "
     ]
    }
   ],
   "source": [
    "#fibonacci sequence\n",
    "a = 0\n",
    "b = 1\n",
    "while b < 100:\n",
    "    print(b, end = \" \")\n",
    "    c = a+b\n",
    "    a = b\n",
    "    b = c"
   ]
  },
  {
   "cell_type": "code",
   "execution_count": null,
   "metadata": {},
   "outputs": [],
   "source": [
    "#优化\n",
    "a = 0\n",
    "b = 1\n",
    "while b < 100:\n",
    "    print(b, end=\" \")\n",
    "    a, b = b, a + b #先计算右边表达式，然后同时赋值给左边"
   ]
  },
  {
   "cell_type": "code",
   "execution_count": null,
   "metadata": {
    "collapsed": true
   },
   "outputs": [],
   "source": [
    "c = int(input())\n",
    "while c <= 10:\n",
    "    print(c)\n",
    "    c += 1\n",
    "else:\n",
    "    print(\"no\")"
   ]
  },
  {
   "cell_type": "code",
   "execution_count": null,
   "metadata": {},
   "outputs": [],
   "source": [
    "n = 5\n",
    "while n >= 0:\n",
    "    print(n)\n",
    "    n -= 1\n",
    "    if n == 2:\n",
    "        break"
   ]
  },
  {
   "cell_type": "code",
   "execution_count": null,
   "metadata": {
    "collapsed": true
   },
   "outputs": [],
   "source": [
    "n = 5\n",
    "while n >= 0:\n",
    "    n -= 1\n",
    "    if n == 2:\n",
    "        continue\n",
    "    print(n)"
   ]
  },
  {
   "cell_type": "code",
   "execution_count": null,
   "metadata": {
    "collapsed": true
   },
   "outputs": [],
   "source": [
    "for x in \"kcsznzcnzzooo\":\n",
    "    if x == \"z\":\n",
    "        pass\n",
    "        print(\"pass\")\n",
    "    print(x)"
   ]
  },
  {
   "attachments": {},
   "cell_type": "markdown",
   "metadata": {},
   "source": [
    "公共方法：len del max min 切片（有序）in"
   ]
  },
  {
   "cell_type": "code",
   "execution_count": null,
   "metadata": {},
   "outputs": [],
   "source": [
    "a_list = [1, 2, 3, 4, 5]\n",
    "print(a_list[::-2])"
   ]
  },
  {
   "cell_type": "code",
   "execution_count": null,
   "metadata": {
    "collapsed": true
   },
   "outputs": [],
   "source": [
    "for num in [1, 2, 3, 4]:\n",
    "    print(num)\n",
    "    if num == 3:\n",
    "        break\n",
    "else:\n",
    "    print(\"hi\")\n",
    "print(\"over\")"
   ]
  },
  {
   "cell_type": "code",
   "execution_count": null,
   "metadata": {},
   "outputs": [],
   "source": [
    "a = set('abracadabra')\n",
    "b = set('alacazam')\n",
    "print(a)\n",
    "print(b)"
   ]
  },
  {
   "cell_type": "code",
   "execution_count": null,
   "metadata": {},
   "outputs": [],
   "source": [
    "print(a - b)\n",
    "print(a | b)\n",
    "print(a & b)\n",
    "print(a ^ b)"
   ]
  },
  {
   "cell_type": "code",
   "execution_count": null,
   "metadata": {},
   "outputs": [],
   "source": [
    "s = input(\"who?\")\n",
    "name = {\"wang\",\n",
    "       \"ju\",\n",
    "       \"zhang\",\n",
    "       \"shu\"}\n",
    "for x in name:\n",
    "    if x == s:\n",
    "        print(\"you got me\")\n",
    "        break\n",
    "else:\n",
    "        print(\"no one's here\")"
   ]
  },
  {
   "attachments": {},
   "cell_type": "markdown",
   "metadata": {},
   "source": [
    "当*参数出现在函数定义时，表示可变参数\n",
    "\n",
    "当*参数出现在函数调用时，则表示解包功能"
   ]
  },
  {
   "cell_type": "code",
   "execution_count": null,
   "metadata": {},
   "outputs": [],
   "source": [
    "def xinhao(a, *b):\n",
    "    print(a)\n",
    "    print(b) #*b指向了一个tuple对象"
   ]
  },
  {
   "cell_type": "code",
   "execution_count": null,
   "metadata": {
    "collapsed": true
   },
   "outputs": [],
   "source": [
    "xinhao(1, 2, 3, 4)"
   ]
  },
  {
   "attachments": {},
   "cell_type": "markdown",
   "metadata": {},
   "source": [
    "return 和 print"
   ]
  },
  {
   "cell_type": "code",
   "execution_count": null,
   "metadata": {},
   "outputs": [],
   "source": [
    "def a_ret(a, b):\n",
    "    x = a + b\n",
    "    return x"
   ]
  },
  {
   "cell_type": "code",
   "execution_count": null,
   "metadata": {},
   "outputs": [],
   "source": [
    "a_ret(3, 5)"
   ]
  },
  {
   "cell_type": "code",
   "execution_count": null,
   "metadata": {},
   "outputs": [],
   "source": [
    "def a_ret(a, b):\n",
    "    x = a + b\n",
    "    print(x)"
   ]
  },
  {
   "cell_type": "code",
   "execution_count": null,
   "metadata": {
    "scrolled": true
   },
   "outputs": [],
   "source": [
    "a_ret(3, 5)"
   ]
  },
  {
   "cell_type": "code",
   "execution_count": null,
   "metadata": {},
   "outputs": [],
   "source": [
    "def a_ret(a, b):\n",
    "    x = a + b\n",
    "    print(x)\n",
    "    return x"
   ]
  },
  {
   "cell_type": "code",
   "execution_count": null,
   "metadata": {
    "collapsed": true
   },
   "outputs": [],
   "source": [
    "a_ret(3, 5)"
   ]
  },
  {
   "cell_type": "code",
   "execution_count": null,
   "metadata": {
    "collapsed": true
   },
   "outputs": [],
   "source": [
    "#利用元组返回两个值\n",
    "def measure():\n",
    "    temp = 30\n",
    "    wet = 15\n",
    "    return temp, wet #返回元组可以省略小括号\n",
    "a = measure()\n",
    "print(a)\n",
    "print(a[0])\n",
    "print(a[1])"
   ]
  },
  {
   "cell_type": "code",
   "execution_count": null,
   "metadata": {},
   "outputs": [],
   "source": [
    "a = 1\n",
    "b = 2\n",
    "a, b = b, a #其实是元组\n",
    "print(a, b)"
   ]
  },
  {
   "attachments": {},
   "cell_type": "markdown",
   "metadata": {},
   "source": [
    "函数内部不能修改全局变量的值，需要用global声明，但是列表、字典可用方法修改"
   ]
  },
  {
   "cell_type": "code",
   "execution_count": 2,
   "metadata": {},
   "outputs": [
    {
     "name": "stdout",
     "output_type": "stream",
     "text": [
      "inner = 6\n",
      "outer = 3\n"
     ]
    }
   ],
   "source": [
    "def a_num(n):\n",
    "    n += n #+=为先加后等，有赋值作用\n",
    "    print(\"inner = %d\"%n)\n",
    "gl_num = 3\n",
    "a_num(gl_num)\n",
    "print(\"outer = %d\"%gl_num)"
   ]
  },
  {
   "cell_type": "code",
   "execution_count": 3,
   "metadata": {},
   "outputs": [
    {
     "name": "stdout",
     "output_type": "stream",
     "text": [
      "inner = [1, 2, 3, 9]\n",
      "outer = [1, 2, 3, 9]\n"
     ]
    }
   ],
   "source": [
    "def a_list(s):\n",
    "    s.append(9)\n",
    "    print(\"inner = %s\"%s)\n",
    "gl_list = [1, 2, 3]\n",
    "a_list(gl_list)\n",
    "print(\"outer = %s\"%gl_list)"
   ]
  },
  {
   "cell_type": "code",
   "execution_count": null,
   "metadata": {},
   "outputs": [],
   "source": [
    "c_list = [1, 2, 3, 4, 5]\n",
    "c_list.pop() #默认index = -1\n",
    "c_list.pop(-2)\n",
    "c_list.pop(1)\n",
    "print(c_list)"
   ]
  },
  {
   "cell_type": "code",
   "execution_count": null,
   "metadata": {},
   "outputs": [],
   "source": [
    "def sum_nums(*args): #一个星星接收元组，两个星星接收字典\n",
    "    num = 0\n",
    "    for n in args:\n",
    "        num += n\n",
    "    return num\n",
    "print(sum_nums(1, 2, 4, 5, 7))"
   ]
  },
  {
   "cell_type": "code",
   "execution_count": null,
   "metadata": {},
   "outputs": [],
   "source": [
    "def pick(*args, **kwargs):\n",
    "    print(args)\n",
    "    print(kwargs)\n",
    "gl_tuple = (1, 2, 3)\n",
    "gl_dic = {\"w\": 4, \"q\": 5}\n",
    "pick(gl_tuple, gl_dic) # 注意都赋给了元组，字典为空"
   ]
  },
  {
   "cell_type": "code",
   "execution_count": null,
   "metadata": {},
   "outputs": [],
   "source": [
    "def pick(*args, **kwargs):\n",
    "    print(args)\n",
    "    print(kwargs)\n",
    "gl_tuple = (1, 2, 3)\n",
    "gl_dic = {\"w\": 4, \"q\": 5}\n",
    "pick(*gl_tuple, **gl_dic) # 通过解包分别赋值"
   ]
  },
  {
   "cell_type": "code",
   "execution_count": null,
   "metadata": {
    "collapsed": true
   },
   "outputs": [],
   "source": [
    "def digui(num):\n",
    "    print(num)\n",
    "    if num == 0:\n",
    "        return\n",
    "    digui(num -1)\n",
    "digui(10)"
   ]
  },
  {
   "cell_type": "code",
   "execution_count": null,
   "metadata": {},
   "outputs": [],
   "source": [
    "list=[1,2,3,4]\n",
    "it = iter(list)    # 创建迭代器对象\n",
    "for x in it:\n",
    "    print (x, end=\" \")"
   ]
  },
  {
   "attachments": {},
   "cell_type": "markdown",
   "metadata": {},
   "source": [
    "函数是顺序执行，遇到 return 语句或者最后一行语句就返回\n",
    "\n",
    "变成生成器的函数，在每次调用 next() 时执行，遇到 yield 语句返回，再次执行时从上次返回的 yield 语句处继续执行"
   ]
  },
  {
   "cell_type": "code",
   "execution_count": null,
   "metadata": {},
   "outputs": [],
   "source": [
    "def fibonacci(n):\n",
    "    a, b, i = 0, 1, 0\n",
    "    while i < n:\n",
    "        yield b\n",
    "        a, b = b, a + b\n",
    "        i += 1\n",
    "f = fibonacci(10) # 生成器也是可迭代对象\n",
    "print(f)"
   ]
  },
  {
   "cell_type": "code",
   "execution_count": null,
   "metadata": {},
   "outputs": [],
   "source": [
    "for i in fibonacci(10):\n",
    "    print(i, end = \" \")"
   ]
  },
  {
   "cell_type": "code",
   "execution_count": null,
   "metadata": {},
   "outputs": [],
   "source": [
    "def summ(num):\n",
    "    if num == 1:\n",
    "        return 1\n",
    "    temp = summ(num-1)\n",
    "    return num + temp\n",
    "print(summ(100))"
   ]
  },
  {
   "cell_type": "code",
   "execution_count": 4,
   "metadata": {},
   "outputs": [
    {
     "name": "stdout",
     "output_type": "stream",
     "text": [
      "['ALICE', 'JERRY', 'WENDY', 'SMITH']\n"
     ]
    }
   ],
   "source": [
    "names = ['Bob','Tom','alice','Jerry','Wendy','Smith']\n",
    "new_names = [name.upper() for name in names if len(name) > 3]\n",
    "print(new_names)"
   ]
  },
  {
   "attachments": {},
   "cell_type": "markdown",
   "metadata": {},
   "source": [
    "f-string 格式化字符串以 f 开头，后面跟着字符串，字符串中的表达式用大括号 {} 包起来，它会将变量或表达式计算后的值替换进去"
   ]
  },
  {
   "cell_type": "code",
   "execution_count": 5,
   "metadata": {},
   "outputs": [
    {
     "data": {
      "text/plain": [
       "'WANG: www.bing.com'"
      ]
     },
     "execution_count": 5,
     "metadata": {},
     "output_type": "execute_result"
    }
   ],
   "source": [
    "w = {'name': 'WANG', 'url': 'www.bing.com'}\n",
    "f'{w[\"name\"]}: {w[\"url\"]}'"
   ]
  },
  {
   "cell_type": "code",
   "execution_count": null,
   "metadata": {},
   "outputs": [],
   "source": [
    "def f(x):\n",
    "    return x * x\n",
    "L = range(1, 10)\n",
    "r = map(f, L) # map 功能是将传入的函数依次作用于可迭代对象的每个元素，并把结果作为新的迭代器返回\n",
    "print(r)\n",
    "print(list(r))"
   ]
  },
  {
   "cell_type": "code",
   "execution_count": null,
   "metadata": {},
   "outputs": [],
   "source": [
    "L = [36, 5, -12, 9, -21]\n",
    "print(sorted(L, key=abs))"
   ]
  },
  {
   "cell_type": "code",
   "execution_count": null,
   "metadata": {},
   "outputs": [],
   "source": [
    "def is_odd(n):\n",
    "    return n % 2 == 1\n",
    "L = [1, 2, 4, 5, 6, 9, 11, 12]\n",
    "print(list(filter(is_odd, L))) # filter 将传入的函数作用于每个元素，并根据返回值是 True 还是 False 决定保留还是丢弃该元素"
   ]
  },
  {
   "attachments": {},
   "cell_type": "markdown",
   "metadata": {},
   "source": [
    "对象根据类（模板）创造\n",
    "\n",
    "类具有名称(CapWords)、属性、行为"
   ]
  },
  {
   "cell_type": "code",
   "execution_count": 6,
   "metadata": {},
   "outputs": [
    {
     "name": "stdout",
     "output_type": "stream",
     "text": [
      "测试\n"
     ]
    }
   ],
   "source": [
    "def demo():\n",
    "    print(\"测试\")\n",
    "demo()"
   ]
  },
  {
   "cell_type": "code",
   "execution_count": 7,
   "metadata": {},
   "outputs": [
    {
     "data": {
      "text/plain": [
       "<method-wrapper '__hash__' of function object at 0x0000017755F27BA0>"
      ]
     },
     "execution_count": 7,
     "metadata": {},
     "output_type": "execute_result"
    }
   ],
   "source": [
    "demo.__hash__"
   ]
  },
  {
   "cell_type": "code",
   "execution_count": 8,
   "metadata": {},
   "outputs": [
    {
     "data": {
      "text/plain": [
       "'demo'"
      ]
     },
     "execution_count": 8,
     "metadata": {},
     "output_type": "execute_result"
    }
   ],
   "source": [
    "demo.__name__"
   ]
  },
  {
   "cell_type": "code",
   "execution_count": 9,
   "metadata": {
    "collapsed": true
   },
   "outputs": [
    {
     "data": {
      "text/plain": [
       "['__annotations__',\n",
       " '__builtins__',\n",
       " '__call__',\n",
       " '__class__',\n",
       " '__closure__',\n",
       " '__code__',\n",
       " '__defaults__',\n",
       " '__delattr__',\n",
       " '__dict__',\n",
       " '__dir__',\n",
       " '__doc__',\n",
       " '__eq__',\n",
       " '__format__',\n",
       " '__ge__',\n",
       " '__get__',\n",
       " '__getattribute__',\n",
       " '__getstate__',\n",
       " '__globals__',\n",
       " '__gt__',\n",
       " '__hash__',\n",
       " '__init__',\n",
       " '__init_subclass__',\n",
       " '__kwdefaults__',\n",
       " '__le__',\n",
       " '__lt__',\n",
       " '__module__',\n",
       " '__name__',\n",
       " '__ne__',\n",
       " '__new__',\n",
       " '__qualname__',\n",
       " '__reduce__',\n",
       " '__reduce_ex__',\n",
       " '__repr__',\n",
       " '__setattr__',\n",
       " '__sizeof__',\n",
       " '__str__',\n",
       " '__subclasshook__']"
      ]
     },
     "execution_count": 9,
     "metadata": {},
     "output_type": "execute_result"
    }
   ],
   "source": [
    "dir(demo)"
   ]
  },
  {
   "cell_type": "code",
   "execution_count": 10,
   "metadata": {
    "collapsed": true
   },
   "outputs": [
    {
     "name": "stdout",
     "output_type": "stream",
     "text": [
      "吃TOM\n",
      "喝TOM\n",
      "吃KITTY\n",
      "喝KITTY\n",
      "<__main__.Cat object at 0x0000017755F85990>\n"
     ]
    }
   ],
   "source": [
    "class Cat:\n",
    "    def eat(self):\n",
    "        print(\"吃%s\"%self.name) #哪一个对象调用，self就是哪个的引用\n",
    "    def drink(self):\n",
    "        print(\"喝%s\"%self.name)\n",
    "        \n",
    "tom = Cat()\n",
    "tom.name = \"TOM\"\n",
    "tom.eat()\n",
    "tom.drink()\n",
    "\n",
    "kitty = Cat()\n",
    "kitty.name = \"KITTY\"\n",
    "kitty.eat()\n",
    "kitty.drink()\n",
    "\n",
    "print(tom) # 得知由类创建，十六进制输出"
   ]
  },
  {
   "cell_type": "code",
   "execution_count": null,
   "metadata": {},
   "outputs": [],
   "source": [
    "a = 10\n",
    "def test():\n",
    "    global a #如未修改为全局变量则报错（a使用的是未定义的局部变量）\n",
    "    a = a + 1\n",
    "    print(a)\n",
    "test()"
   ]
  },
  {
   "cell_type": "code",
   "execution_count": null,
   "metadata": {},
   "outputs": [],
   "source": [
    "a = 10\n",
    "def test(a):\n",
    "    a = a + 1\n",
    "    print(a)\n",
    "test(a)"
   ]
  },
  {
   "cell_type": "code",
   "execution_count": 18,
   "metadata": {},
   "outputs": [
    {
     "name": "stdout",
     "output_type": "stream",
     "text": [
      "TOM\n",
      "吃TOM\n"
     ]
    }
   ],
   "source": [
    "class Cat:\n",
    "    def __init__(self): # 初始化\n",
    "        self.name = \"TOM\"\n",
    "    def eat(self):\n",
    "        print(\"吃%s\"%self.name)\n",
    "tom = Cat()\n",
    "print(tom.name)\n",
    "tom.eat()"
   ]
  },
  {
   "cell_type": "code",
   "execution_count": 16,
   "metadata": {},
   "outputs": [
    {
     "name": "stdout",
     "output_type": "stream",
     "text": [
      "TOM\n"
     ]
    }
   ],
   "source": [
    "class Cat:\n",
    "    def __init__(self, rname): #创建对象时设置属性\n",
    "        self.name = rname\n",
    "tom = Cat(\"TOM\")\n",
    "print(tom.name)"
   ]
  },
  {
   "cell_type": "code",
   "execution_count": null,
   "metadata": {},
   "outputs": [],
   "source": [
    "class Chara:\n",
    "    def __init__(self, chara_name, chara_weight):\n",
    "        self.name = chara_name\n",
    "        self.weight = chara_weight\n",
    "    def __str__(self): #str必须返回字符串\n",
    "        return \"我名%s, 我重%.2f kg\"%(self.name, self.weight)\n",
    "    def run(self):\n",
    "        print(\"%s跑一次\"%self.name)\n",
    "        self.weight -= 0.1\n",
    "    def eat(self):\n",
    "        print(\"%s吃一次\"%self.name)\n",
    "        self.weight += 0.5\n",
    "        \n",
    "wang = Chara(\"wang\", 75)\n",
    "wang.run()\n",
    "wang.eat()\n",
    "print(wang)"
   ]
  },
  {
   "cell_type": "code",
   "execution_count": null,
   "metadata": {},
   "outputs": [],
   "source": [
    "class HouseItem:\n",
    "    def __init__(self, name, area):\n",
    "        self.name = name\n",
    "        self.area = area\n",
    "    def __str__(self):\n",
    "        return \"[%s]占地%.2f平米\" %(self.name, self.area)\n",
    "#类与类之间隔两行\n",
    "\n",
    "class House:\n",
    "    def __init__(self, house_type, area):\n",
    "        self.house_type = house_type\n",
    "        self.area = area\n",
    "        self.rea = area\n",
    "        self.list = []\n",
    "    def __str__(self):\n",
    "        return (\"户型为%s，\\n总面积为%.2f平米，剩余面积为%.2f平米\\n家具：%s\" \n",
    "                %(self.house_type, self.area, self.rea, self.list))\n",
    "    def add(self, item):\n",
    "        if item.area > self.rea:\n",
    "            print(\"面积不够了\")\n",
    "            return\n",
    "        else:\n",
    "            print(\"添加了%s\"%item.name)\n",
    "            self.list.append(item.name)\n",
    "            self.rea -= item.area"
   ]
  },
  {
   "cell_type": "code",
   "execution_count": null,
   "metadata": {},
   "outputs": [],
   "source": [
    "table = HouseItem(\"桌子\", 10)\n",
    "chair = HouseItem(\"椅子\", 5)\n",
    "bed = HouseItem(\"床\", 60)\n",
    "myhome = House(\"两室一厅\", 120)\n",
    "\n",
    "myhome.add(table)\n",
    "myhome.add(chair)\n",
    "myhome.add(bed)\n",
    "\n",
    "print(myhome)"
   ]
  },
  {
   "attachments": {},
   "cell_type": "markdown",
   "metadata": {},
   "source": [
    "一个对象的属性可以是另一个类创建的对象"
   ]
  },
  {
   "cell_type": "code",
   "execution_count": 19,
   "metadata": {},
   "outputs": [
    {
     "name": "stdout",
     "output_type": "stream",
     "text": [
      "1612055100096 1612055035392\n"
     ]
    }
   ],
   "source": [
    "a = (1, 2)\n",
    "b = (1, 2)\n",
    "print(id(a), id(b))"
   ]
  },
  {
   "cell_type": "code",
   "execution_count": 20,
   "metadata": {},
   "outputs": [
    {
     "data": {
      "text/plain": [
       "True"
      ]
     },
     "execution_count": 20,
     "metadata": {},
     "output_type": "execute_result"
    }
   ],
   "source": [
    "a == b"
   ]
  },
  {
   "cell_type": "code",
   "execution_count": 21,
   "metadata": {},
   "outputs": [
    {
     "data": {
      "text/plain": [
       "False"
      ]
     },
     "execution_count": 21,
     "metadata": {},
     "output_type": "execute_result"
    }
   ],
   "source": [
    "a is b"
   ]
  },
  {
   "cell_type": "code",
   "execution_count": 22,
   "metadata": {},
   "outputs": [
    {
     "name": "stdout",
     "output_type": "stream",
     "text": [
      "18\n"
     ]
    }
   ],
   "source": [
    "class Back:\n",
    "    def __init__(self, name):\n",
    "        self.name = name\n",
    "        self.age = 18\n",
    "        \n",
    "a = Back(\"wang\")\n",
    "print(a.age)"
   ]
  },
  {
   "cell_type": "code",
   "execution_count": 25,
   "metadata": {},
   "outputs": [
    {
     "name": "stdout",
     "output_type": "stream",
     "text": [
      "WANG\n",
      "<bound method Back.__secret of <__main__.Back object at 0x0000017755F79E10>>\n"
     ]
    }
   ],
   "source": [
    "# 私有属性、方法\n",
    "class Back:\n",
    "    def __init__(self, name):\n",
    "        self.name = name\n",
    "        self.__age = 18\n",
    "    def __secret(self):\n",
    "        print(\"你看不到我\")\n",
    "        \n",
    "a = Back(\"WANG\")\n",
    "print(a.name)"
   ]
  },
  {
   "cell_type": "code",
   "execution_count": 2,
   "metadata": {},
   "outputs": [
    {
     "name": "stdout",
     "output_type": "stream",
     "text": [
      "你不应该看到我\n",
      "18\n"
     ]
    }
   ],
   "source": [
    "# 伪私有属性、方法\n",
    "class Back:\n",
    "    def __init__(self, name):\n",
    "        self.name = name\n",
    "        self.__age = 18\n",
    "    def __secret(self):\n",
    "        print(\"你不应该看到我\")\n",
    "        \n",
    "a = Back(\"wang\")\n",
    "\n",
    "a._Back__secret() # 注意调用方式\n",
    "print(a._Back__age)"
   ]
  },
  {
   "cell_type": "code",
   "execution_count": null,
   "metadata": {},
   "outputs": [],
   "source": [
    "class Animal:\n",
    "    def eat(self):\n",
    "        print(\"eat\")\n",
    "\n",
    "        \n",
    "class Dog(Animal):\n",
    "    def bark(self):\n",
    "        print(\"bark\")\n",
    "        \n",
    "bakki = Dog()\n",
    "bakki.bark()\n",
    "bakki.eat()"
   ]
  },
  {
   "cell_type": "code",
   "execution_count": 3,
   "metadata": {},
   "outputs": [
    {
     "name": "stdout",
     "output_type": "stream",
     "text": [
      "wow\n",
      "bark\n",
      "wwwww\n"
     ]
    }
   ],
   "source": [
    "class Animal:\n",
    "    def eat(self):\n",
    "        print(\"eat\")\n",
    "    def bark(self):\n",
    "        print(\"bark\")\n",
    "\n",
    "        \n",
    "class Dog(Animal):\n",
    "    def bark(self): #重写父类\n",
    "        print(\"wow\")\n",
    "        super().bark() #调用父类以修改\n",
    "        print(\"wwwww\")\n",
    "        \n",
    "bakki = Dog()\n",
    "bakki.bark()"
   ]
  },
  {
   "cell_type": "code",
   "execution_count": 4,
   "metadata": {},
   "outputs": [
    {
     "name": "stdout",
     "output_type": "stream",
     "text": [
      "wow\n",
      "bark\n",
      "wwwww\n"
     ]
    }
   ],
   "source": [
    "# 不用super()的另一种方式\n",
    "class Animal:\n",
    "    def eat(self):\n",
    "        print(\"eat\")\n",
    "    def bark(self):\n",
    "        print(\"bark\")\n",
    "\n",
    "        \n",
    "class Dog(Animal):\n",
    "    def bark(self): #重写父类\n",
    "        print(\"wow\")\n",
    "        Animal.bark(self) #调用父类以修改\n",
    "        print(\"wwwww\")\n",
    "        \n",
    "bakki = Dog()\n",
    "bakki.bark()"
   ]
  },
  {
   "attachments": {},
   "cell_type": "markdown",
   "metadata": {},
   "source": [
    "实例方法第一个参数是self，类方法第一个参数是cls"
   ]
  },
  {
   "cell_type": "code",
   "execution_count": 5,
   "metadata": {},
   "outputs": [],
   "source": [
    "class Game(object):\n",
    "    top_score = 0\n",
    "    \n",
    "    def __init__(self, player_name):\n",
    "        self.player_name = player_name\n",
    "    \n",
    "    @staticmethod\n",
    "    def show_help():#静态方法：不需要self参数\n",
    "        print(\"获得胜利以获得胜利\")\n",
    "    \n",
    "    @classmethod\n",
    "    def show_topscore(cls):#类方法：需要cls参数\n",
    "        print(\"score = %d\"%cls.top_score)\n",
    "    def start_game(self):\n",
    "        print(\"name = %s\"%self.player_name)"
   ]
  },
  {
   "cell_type": "code",
   "execution_count": 6,
   "metadata": {},
   "outputs": [
    {
     "name": "stdout",
     "output_type": "stream",
     "text": [
      "获得胜利以获得胜利\n"
     ]
    }
   ],
   "source": [
    "Game.show_help()"
   ]
  },
  {
   "cell_type": "code",
   "execution_count": 7,
   "metadata": {
    "scrolled": false
   },
   "outputs": [
    {
     "name": "stdout",
     "output_type": "stream",
     "text": [
      "score = 0\n"
     ]
    }
   ],
   "source": [
    "Game.show_topscore()"
   ]
  },
  {
   "cell_type": "code",
   "execution_count": 8,
   "metadata": {},
   "outputs": [
    {
     "name": "stdout",
     "output_type": "stream",
     "text": [
      "name = 王\n"
     ]
    }
   ],
   "source": [
    "game = Game(\"王\")\n",
    "game.start_game()"
   ]
  },
  {
   "cell_type": "code",
   "execution_count": null,
   "metadata": {},
   "outputs": [],
   "source": [
    "#注意输出地址不同\n",
    "class MusicPlayer(object):\n",
    "    pass\n",
    "player1 = MusicPlayer()\n",
    "print(player1)\n",
    "player2 = MusicPlayer()\n",
    "print(player2)"
   ]
  },
  {
   "cell_type": "code",
   "execution_count": 1,
   "metadata": {},
   "outputs": [
    {
     "name": "stdout",
     "output_type": "stream",
     "text": [
      "<__main__.MusicPlayer object at 0x000002AB16A82AD0>\n",
      "<__main__.MusicPlayer object at 0x000002AB16A82AD0>\n"
     ]
    }
   ],
   "source": [
    "#创建单例对象——让类创建的对象在系统中只有一个实例\n",
    "class MusicPlayer(object):\n",
    "    instance = None\n",
    "    def __new__(cls, *args, **kwargs):\n",
    "        if cls.instance is None:\n",
    "            cls.instance = super().__new__(cls)\n",
    "        return cls.instance\n",
    "\n",
    "player3 = MusicPlayer()\n",
    "print(player3)\n",
    "player4 = MusicPlayer()\n",
    "print(player4)"
   ]
  },
  {
   "cell_type": "code",
   "execution_count": null,
   "metadata": {},
   "outputs": [],
   "source": [
    "class MusicPlayer(object):\n",
    "    instance = None\n",
    "    \n",
    "    init_flag = False\n",
    "    \n",
    "    def __new__(cls, *args, **kwargs):\n",
    "        if cls.instance is None:\n",
    "            cls.instance = super().__new__(cls)\n",
    "        return cls.instance\n",
    "    \n",
    "    def __init__(self):\n",
    "        if MusicPlayer.init_flag:\n",
    "            return\n",
    "        print(\"初始化播放器\")\n",
    "        MusicPlayer.init_flag = True\n",
    "\n",
    "player3 = MusicPlayer()\n",
    "print(player3)\n",
    "player4 = MusicPlayer()\n",
    "print(player4)"
   ]
  },
  {
   "cell_type": "code",
   "execution_count": null,
   "metadata": {},
   "outputs": [],
   "source": [
    "#异常捕获，代码无法正常执行也可继续后续代码\n",
    "try:\n",
    "    num = int(input(\"输入一个数字：\"))\n",
    "except:\n",
    "    print(\"是数字谢谢！\")\n",
    "\n",
    "print(\"-\" *50)"
   ]
  },
  {
   "cell_type": "code",
   "execution_count": null,
   "metadata": {},
   "outputs": [],
   "source": [
    "#完整的异常捕获\n",
    "try:\n",
    "    num = int(input(\"我会用100除以你输入的数：\"))\n",
    "    result = 100 / num\n",
    "    print(result)\n",
    "except ValueError:\n",
    "    print(\"输整数\")\n",
    "except Exception as result:\n",
    "    print(\"未知错误为%s\" %result)\n",
    "else:\n",
    "    print(\"尝试成功\")\n",
    "finally:\n",
    "    print(\"-\"*50)"
   ]
  },
  {
   "cell_type": "code",
   "execution_count": null,
   "metadata": {},
   "outputs": [],
   "source": [
    "def input_password():\n",
    "    pwd = input(\"password:\")\n",
    "    if len(pwd) >= 8:\n",
    "        return pwd\n",
    "    print(\"主动抛出异常\")\n",
    "    ex = Exception(\"长度不够\")\n",
    "    raise ex\n",
    "    \n",
    "try:\n",
    "    print(input_password())\n",
    "except Exception as result:\n",
    "    print(result)"
   ]
  },
  {
   "cell_type": "code",
   "execution_count": 2,
   "metadata": {},
   "outputs": [
    {
     "name": "stdout",
     "output_type": "stream",
     "text": [
      "d:\\Python\\Lib\\random.py\n"
     ]
    }
   ],
   "source": [
    "import random\n",
    "print(random.__file__)"
   ]
  },
  {
   "cell_type": "code",
   "execution_count": null,
   "metadata": {},
   "outputs": [],
   "source": [
    "def main():\n",
    "    pass\n",
    "if __name__ ==\" __main__\":\n",
    "    main()"
   ]
  },
  {
   "cell_type": "code",
   "execution_count": 6,
   "metadata": {},
   "outputs": [
    {
     "name": "stdout",
     "output_type": "stream",
     "text": [
      "python测试文件附加内容附加内容附加内容\n",
      "**************************************************\n",
      "\n"
     ]
    }
   ],
   "source": [
    "file = open(r\"Test\\test.txt\", encoding='utf-8')\n",
    "text = file.read() #文件指针移至末尾\n",
    "print(text)\n",
    "print(\"*\"*50)\n",
    "text = file.read()\n",
    "print(text)\n",
    "file.close()"
   ]
  },
  {
   "cell_type": "code",
   "execution_count": 7,
   "metadata": {},
   "outputs": [
    {
     "data": {
      "text/plain": [
       "True"
      ]
     },
     "execution_count": 7,
     "metadata": {},
     "output_type": "execute_result"
    }
   ],
   "source": [
    "with open(r\"Test\\test.txt\", encoding='utf-8') as f:\n",
    "    read_data = f.read()\n",
    "f.closed"
   ]
  },
  {
   "cell_type": "code",
   "execution_count": 9,
   "metadata": {},
   "outputs": [
    {
     "name": "stdout",
     "output_type": "stream",
     "text": [
      "4\n"
     ]
    }
   ],
   "source": [
    "file = open(r\"Test\\test.txt\", \"a\", encoding='utf-8')\n",
    "text = file.write(\"附加内容\")\n",
    "print(text)\n",
    "file.close()"
   ]
  },
  {
   "cell_type": "code",
   "execution_count": 10,
   "metadata": {},
   "outputs": [
    {
     "name": "stdout",
     "output_type": "stream",
     "text": [
      "python测试一\n",
      "python测试2\n",
      "python测试三"
     ]
    }
   ],
   "source": [
    "file = open(r\"Test\\test1.1.txt\", encoding='utf-8')\n",
    "while True:\n",
    "    text = file.readline()\n",
    "    if not text:\n",
    "        break\n",
    "    print(text, end=\"\")\n",
    "file.close()"
   ]
  },
  {
   "cell_type": "code",
   "execution_count": 11,
   "metadata": {},
   "outputs": [],
   "source": [
    "file_read = open(r\"Test\\test1.1.txt\", encoding='utf-8')\n",
    "file_write = open(r\"Test\\test1.2.txt\", \"w\", encoding='utf-8')\n",
    "text = file_read.read()\n",
    "file_write.write(text)\n",
    "file_read.close()\n",
    "file_write.close()"
   ]
  },
  {
   "cell_type": "code",
   "execution_count": 12,
   "metadata": {},
   "outputs": [],
   "source": [
    "file_read = open(r\"Test\\test1.1.txt\", encoding='utf-8')\n",
    "file_write = open(r\"Test\\test1.2.txt\", \"w\", encoding='utf-8')\n",
    "while True:\n",
    "    text = file_read.readline()\n",
    "    if not text:\n",
    "        break\n",
    "    file_write.write(text)\n",
    "file.close()"
   ]
  },
  {
   "cell_type": "code",
   "execution_count": null,
   "metadata": {},
   "outputs": [],
   "source": [
    "#两数求和\n",
    "print(float(input(\"enter a number\"))+float(input(\"enter another number\")))"
   ]
  },
  {
   "cell_type": "code",
   "execution_count": null,
   "metadata": {},
   "outputs": [],
   "source": [
    "#求平方根\n",
    "import cmath\n",
    "num = float(input(\"enter a number\"))\n",
    "squ = cmath.sqrt(num)\n",
    "print(\"sqr of {0} is {1:0.2f}i + {2:0.2f}j\".format(num, squ.real, squ.imag))"
   ]
  },
  {
   "cell_type": "code",
   "execution_count": null,
   "metadata": {},
   "outputs": [],
   "source": [
    "# 二次方程式 ax**2 + bx + c = 0\n",
    "# a、b、c 用户提供，为实数，a ≠ 0\n",
    "import cmath\n",
    "a, b, c = map(float, input().split())\n",
    "delta = b**2 - 4*a*c\n",
    "if a == b == c == 0:\n",
    "    print(\"unbounded\")\n",
    "elif delta < 0:\n",
    "    print(\"no solution\")\n",
    "else:\n",
    "    x1 = (-b - cmath.sqrt(delta))/(2*a)\n",
    "    x2 = (-b + cmath.sqrt(delta))/(2*a)\n",
    "    print(\"key 1:{0}, key 2:{1}\".format(x1, x2))"
   ]
  },
  {
   "cell_type": "code",
   "execution_count": 3,
   "metadata": {},
   "outputs": [
    {
     "name": "stdout",
     "output_type": "stream",
     "text": [
      "3.4199744564068055\n",
      "0.06322325796559003\n",
      "8\n"
     ]
    }
   ],
   "source": [
    "#随机数生成\n",
    "import random\n",
    "print(random.uniform(2, 10))\n",
    "print(random.random())\n",
    "print(random.randint(1, 9))"
   ]
  },
  {
   "cell_type": "code",
   "execution_count": 1,
   "metadata": {},
   "outputs": [
    {
     "name": "stdout",
     "output_type": "stream",
     "text": [
      "N\n"
     ]
    }
   ],
   "source": [
    "#质数判断\n",
    "a = int(input(\"a prime number\"))\n",
    "if a > 1:\n",
    "    for i in range(2, a):\n",
    "        if a % i == 0:\n",
    "            print(\"N\")\n",
    "            break\n",
    "    else:\n",
    "        print(\"Y\")\n",
    "else:\n",
    "    print(\"N\")"
   ]
  },
  {
   "cell_type": "code",
   "execution_count": null,
   "metadata": {},
   "outputs": [],
   "source": [
    "#求最大公约数\n",
    "a, b = map(int, input().split())\n",
    "c = min(a, b)\n",
    "d = max(a, b)\n",
    "for i in range(1, c+1):\n",
    "    if ((c % i == 0) and (d % i ==0)):\n",
    "        x = i\n",
    "print(x)"
   ]
  },
  {
   "cell_type": "code",
   "execution_count": 3,
   "metadata": {},
   "outputs": [
    {
     "name": "stdout",
     "output_type": "stream",
     "text": [
      "60\n"
     ]
    }
   ],
   "source": [
    "#求最小公倍数\n",
    "a, b = map(int, input().split())\n",
    "if b < a:\n",
    "    a, b = b, a\n",
    "    t = a\n",
    "else:\n",
    "    t = a\n",
    "while True:\n",
    "    if t % b == 0:\n",
    "        print(t)\n",
    "        break\n",
    "    else:\n",
    "        t += a"
   ]
  },
  {
   "cell_type": "code",
   "execution_count": 3,
   "metadata": {},
   "outputs": [
    {
     "data": {
      "text/plain": [
       "[4, 2, 3, 1, 2, 4, 1]"
      ]
     },
     "execution_count": 3,
     "metadata": {},
     "output_type": "execute_result"
    }
   ],
   "source": [
    "#将指定个数的元素移到数组的尾部\n",
    "def move(arr, d):\n",
    "    arr = arr[d:] + arr[:d]\n",
    "    return arr\n",
    "move([2, 4, 1, 4, 2, 3, 1], 3)"
   ]
  },
  {
   "cell_type": "code",
   "execution_count": 8,
   "metadata": {},
   "outputs": [
    {
     "name": "stdout",
     "output_type": "stream",
     "text": [
      "[7, 6, 5, 3, 2]\n",
      "[7, 6, 5, 3, 2]\n",
      "[7, 6, 5, 3, 2]\n"
     ]
    }
   ],
   "source": [
    "#翻转列表\n",
    "def rev1(list):\n",
    "    list = reversed(list)\n",
    "    return [ele for ele in list]\n",
    "print(rev1([2, 3, 5, 6, 7]))\n",
    "\n",
    "def rev2(list):\n",
    "    list.reverse()\n",
    "    return list\n",
    "print(rev2([2, 3, 5, 6, 7]))\n",
    "\n",
    "def rev3(list):\n",
    "    list = list[::-1]\n",
    "    return list\n",
    "print(rev3([2, 3, 5, 6, 7]))"
   ]
  },
  {
   "cell_type": "code",
   "execution_count": 17,
   "metadata": {},
   "outputs": [
    {
     "name": "stdout",
     "output_type": "stream",
     "text": [
      "[2, 3, 5, 6, 7]\n",
      "[7, 6, 5, 2, 3]\n"
     ]
    }
   ],
   "source": [
    "#移除列表中重复的元素\n",
    "def qc1(list_1):\n",
    "    return list(set(list_1)) #输出结果为正序\n",
    "print(qc1([7, 6, 5, 2, 6, 3, 3]))\n",
    "\n",
    "def qc2(list_1):\n",
    "    list_2 = []\n",
    "    for i in list_1:\n",
    "        if i in list_2:\n",
    "            continue\n",
    "        else:\n",
    "            list_2.append(i) #输出结果为原序\n",
    "    return list_2\n",
    "print(qc2([7, 6, 5, 2, 6, 3, 3]))"
   ]
  },
  {
   "cell_type": "code",
   "execution_count": 18,
   "metadata": {},
   "outputs": [
    {
     "data": {
      "text/plain": [
       "2"
      ]
     },
     "execution_count": 18,
     "metadata": {},
     "output_type": "execute_result"
    }
   ],
   "source": [
    "#计算元素在列表中出现的次数\n",
    "def cou(list_3, x):\n",
    "    return list_3.count(x)\n",
    "cou([7, 6, 5, 2, 6, 3, 3], 3)"
   ]
  },
  {
   "cell_type": "code",
   "execution_count": 19,
   "metadata": {},
   "outputs": [
    {
     "data": {
      "text/plain": [
       "32"
      ]
     },
     "execution_count": 19,
     "metadata": {},
     "output_type": "execute_result"
    }
   ],
   "source": [
    "#计算列表元素之和\n",
    "def summ(list_4):\n",
    "    total = 0\n",
    "    for i in list_4:\n",
    "        total += i\n",
    "    return total\n",
    "summ([7, 6, 5, 2, 6, 3, 3])"
   ]
  },
  {
   "cell_type": "code",
   "execution_count": 13,
   "metadata": {},
   "outputs": [
    {
     "data": {
      "text/plain": [
       "{'a': 10, 'b': 8, 'd': 6, 'c': 4}"
      ]
     },
     "execution_count": 13,
     "metadata": {},
     "output_type": "execute_result"
    }
   ],
   "source": [
    "#合并字典\n",
    "def merge(dic1, dic2):\n",
    "    dic = {**dic1, **dic2}\n",
    "    return dic\n",
    "merge({'a': 10, 'b': 8}, {'d': 6, 'c': 4})"
   ]
  },
  {
   "cell_type": "code",
   "execution_count": 44,
   "metadata": {},
   "outputs": [
    {
     "name": "stdout",
     "output_type": "stream",
     "text": [
      "元素在第6处\n"
     ]
    }
   ],
   "source": [
    "#二分查找\n",
    "'''\n",
    "def bin(ar, x):\n",
    "    n = len(ar)\n",
    "    arr = sorted(ar)\n",
    "    if n > 1:\n",
    "        c = arr[int(n/2)]\n",
    "        if x == c:\n",
    "            print(\"查询值在第{}个\".format(ar.index(x)+1))\n",
    "            return\n",
    "        elif x > c:\n",
    "            return bin(arr[(int(n/2)+1):], x)\n",
    "        else:\n",
    "            return bin(arr[:(int(n/2))], x)\n",
    "'''\n",
    "def bin(ar, s, e, x):\n",
    "    if e >= s:\n",
    "        m = int((s + e)/2)\n",
    "        if ar[m] == x:\n",
    "            return m\n",
    "        elif ar[m] > x:\n",
    "            return bin(ar, s, m-1, x)\n",
    "        else:\n",
    "            return bin(ar, m+1, e, x)\n",
    "    else:\n",
    "        return -1\n",
    "\n",
    "ar = [7, 6, 5, 2, 6, 3, 3]\n",
    "result = bin(ar, 0, len(ar)-1, 3)\n",
    "if result != -1:\n",
    "    print(\"元素在第{}处\".format(result+1))\n",
    "else:\n",
    "    print(\"找不到\")"
   ]
  },
  {
   "cell_type": "code",
   "execution_count": 6,
   "metadata": {},
   "outputs": [
    {
     "name": "stdout",
     "output_type": "stream",
     "text": [
      "2 3 3 5 6 6 7 "
     ]
    }
   ],
   "source": [
    "#插入排序\n",
    "def backsort(arr):\n",
    "    for i in range(len(arr)):\n",
    "        num = arr[i]\n",
    "        j = i - 1\n",
    "        while (j >= 0) and (num < arr[j]):\n",
    "            arr[j+1] = arr[j]\n",
    "            j -= 1\n",
    "        arr[j+1] = num\n",
    "\n",
    "arr = [7, 6, 5, 2, 6, 3, 3]\n",
    "backsort(arr)\n",
    "for i in range(len(arr)):\n",
    "    print(\"{}\".format(arr[i]), end = \" \")"
   ]
  },
  {
   "cell_type": "code",
   "execution_count": 11,
   "metadata": {},
   "outputs": [
    {
     "name": "stdout",
     "output_type": "stream",
     "text": [
      "[2, 3, 3, 5, 6, 6, 7]\n"
     ]
    }
   ],
   "source": [
    "#选择最小值排序\n",
    "def mini(arr):\n",
    "    for i in range(len(arr)):\n",
    "        mini = i\n",
    "        for j in range(i+1, len(arr)):\n",
    "            if arr[j] < arr[mini]:\n",
    "                mini = j\n",
    "        arr[i], arr[mini] = arr[mini], arr[i]\n",
    "\n",
    "arr = [7, 6, 5, 2, 6, 3, 3]\n",
    "mini(arr)\n",
    "print(arr)"
   ]
  },
  {
   "cell_type": "code",
   "execution_count": 22,
   "metadata": {},
   "outputs": [
    {
     "name": "stdout",
     "output_type": "stream",
     "text": [
      "[2, 3, 3, 5, 6, 6, 7]\n"
     ]
    }
   ],
   "source": [
    "#冒泡排序\n",
    "'''\n",
    "def bubble(arr):\n",
    "    for i in range(len(arr)):\n",
    "        j = i + 1\n",
    "        while j < len(arr):\n",
    "            if arr[i] > arr[j]:\n",
    "                arr[i], arr[j] = arr[j], arr[i]\n",
    "            j += 1\n",
    "\n",
    "arr = [7, 6, 5, 2, 6, 3, 3]\n",
    "bubble(arr)\n",
    "print(arr)\n",
    "'''\n",
    "def bubble(arr):\n",
    "    for i in range(len(arr)):\n",
    "        for j in range(0, len(arr) - i - 1):\n",
    "            if arr[j] > arr[j + 1]:\n",
    "                arr[j], arr[j + 1] = arr[j + 1], arr[j]\n",
    "\n",
    "arr = [7, 6, 5, 2, 6, 3, 3]\n",
    "bubble(arr)\n",
    "print(arr)"
   ]
  },
  {
   "cell_type": "code",
   "execution_count": 8,
   "metadata": {},
   "outputs": [
    {
     "name": "stdout",
     "output_type": "stream",
     "text": [
      "[2, 3, 3, 5, 6, 6, 7]\n"
     ]
    }
   ],
   "source": [
    "#希尔排序(递减增量排序算法)\n",
    "def shell(arr):\n",
    "    n = len(arr)\n",
    "    gap = int(n/2)\n",
    "    while gap > 0:\n",
    "        for i in range(gap, n):\n",
    "            temp = arr[i]\n",
    "            j = i\n",
    "            while (j >= gap) and (temp < arr[j - gap]):\n",
    "                arr[j] = arr[j - gap]\n",
    "                j -= gap\n",
    "            arr[j] = temp\n",
    "        gap = int(gap/2)\n",
    "\n",
    "arr = [7, 6, 5, 2, 6, 3, 3]\n",
    "shell(arr)\n",
    "print(arr)"
   ]
  }
 ],
 "metadata": {
  "kernelspec": {
   "display_name": "Python 3",
   "language": "python",
   "name": "python3"
  },
  "language_info": {
   "codemirror_mode": {
    "name": "ipython",
    "version": 3
   },
   "file_extension": ".py",
   "mimetype": "text/x-python",
   "name": "python",
   "nbconvert_exporter": "python",
   "pygments_lexer": "ipython3",
   "version": "3.11.3"
  },
  "vscode": {
   "interpreter": {
    "hash": "e8683858b537576989a012387002c69c5d82cd9c5fdf43626bcf3b848a1a6e0b"
   }
  }
 },
 "nbformat": 4,
 "nbformat_minor": 4
}
